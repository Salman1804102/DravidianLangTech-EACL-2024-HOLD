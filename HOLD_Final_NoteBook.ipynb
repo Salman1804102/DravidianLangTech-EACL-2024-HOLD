{
  "cells": [
    {
      "cell_type": "markdown",
      "metadata": {
        "id": "qtwRK3wRgIfv"
      },
      "source": [
        "# Initial Dependencies"
      ]
    },
    {
      "cell_type": "code",
      "execution_count": 1,
      "metadata": {
        "colab": {
          "base_uri": "https://localhost:8080/"
        },
        "id": "e2U_nlqxQqbH",
        "outputId": "d8f08336-46b2-4366-8396-83d9fc03efae"
      },
      "outputs": [
        {
          "name": "stdout",
          "output_type": "stream",
          "text": [
            "Mounted at /content/drive\n"
          ]
        }
      ],
      "source": [
        "from google.colab import drive\n",
        "drive.mount('/content/drive')"
      ]
    },
    {
      "cell_type": "code",
      "execution_count": 2,
      "metadata": {
        "colab": {
          "base_uri": "https://localhost:8080/"
        },
        "execution": {
          "iopub.execute_input": "2023-12-11T01:03:13.658100Z",
          "iopub.status.busy": "2023-12-11T01:03:13.657374Z",
          "iopub.status.idle": "2023-12-11T01:03:13.670554Z",
          "shell.execute_reply": "2023-12-11T01:03:13.669428Z",
          "shell.execute_reply.started": "2023-12-11T01:03:13.658068Z"
        },
        "id": "-Qm5ocD-sPOp",
        "outputId": "c003179d-0814-4ab8-8727-43f7e794e136",
        "trusted": true
      },
      "outputs": [
        {
          "name": "stderr",
          "output_type": "stream",
          "text": [
            "[nltk_data] Downloading package punkt to /root/nltk_data...\n",
            "[nltk_data]   Unzipping tokenizers/punkt.zip.\n"
          ]
        },
        {
          "name": "stdout",
          "output_type": "stream",
          "text": [
            "CPU times: user 7.33 s, sys: 1.16 s, total: 8.5 s\n",
            "Wall time: 15.5 s\n"
          ]
        }
      ],
      "source": [
        "%%time\n",
        "import os\n",
        "from glob import glob\n",
        "import numpy as np\n",
        "import matplotlib.pyplot as plt\n",
        "%matplotlib inline\n",
        "import pandas as pd\n",
        "import seaborn as sns\n",
        "import re\n",
        "import nltk\n",
        "import json\n",
        "from sklearn.preprocessing import MultiLabelBinarizer\n",
        "from sklearn.metrics import confusion_matrix\n",
        "from sklearn.metrics import classification_report\n",
        "from sklearn.model_selection import train_test_split\n",
        "from sklearn.linear_model import LogisticRegression\n",
        "from sklearn.tree import DecisionTreeClassifier\n",
        "from sklearn.ensemble import RandomForestClassifier\n",
        "from sklearn.linear_model import SGDClassifier\n",
        "from sklearn.naive_bayes import MultinomialNB\n",
        "from sklearn.ensemble import VotingClassifier\n",
        "from sklearn.ensemble import BaggingClassifier\n",
        "from sklearn.ensemble import AdaBoostClassifier, RandomForestClassifier, ExtraTreesClassifier\n",
        "from sklearn.svm import SVC\n",
        "from sklearn.metrics import accuracy_score,precision_score,recall_score,f1_score,roc_auc_score\n",
        "from sklearn.metrics import average_precision_score,roc_auc_score, roc_curve, precision_recall_curve\n",
        "from sklearn.preprocessing import LabelEncoder\n",
        "from sklearn.feature_extraction.text import TfidfVectorizer\n",
        "np.random.seed(42)\n",
        "import nltk\n",
        "nltk.download('punkt')\n",
        "from nltk.corpus import stopwords\n",
        "from nltk.tokenize import word_tokenize\n",
        "from nltk.tokenize import ToktokTokenizer\n",
        "import nltk, string, re, spacy,unicodedata, random\n",
        "from bs4 import BeautifulSoup\n",
        "import warnings\n",
        "warnings.filterwarnings('ignore')\n",
        "### Pretrained Word Embeddings"
      ]
    },
    {
      "cell_type": "code",
      "execution_count": 3,
      "metadata": {
        "execution": {
          "iopub.execute_input": "2023-12-11T01:03:13.720667Z",
          "iopub.status.busy": "2023-12-11T01:03:13.720065Z",
          "iopub.status.idle": "2023-12-11T01:03:13.725543Z",
          "shell.execute_reply": "2023-12-11T01:03:13.724635Z",
          "shell.execute_reply.started": "2023-12-11T01:03:13.720637Z"
        },
        "id": "kP8UVjUcQkww",
        "trusted": true
      },
      "outputs": [],
      "source": [
        "import numpy as np\n",
        "import tensorflow as tf\n",
        "\n",
        "# Set random seed for reproducibility\n",
        "np.random.seed(42)\n",
        "tf.random.set_seed(42)"
      ]
    },
    {
      "cell_type": "markdown",
      "metadata": {
        "id": "tn3ZdEkqwFuf"
      },
      "source": [
        "# Import Data"
      ]
    },
    {
      "cell_type": "code",
      "execution_count": 8,
      "metadata": {
        "id": "8ZiYlrE_RbRv"
      },
      "outputs": [],
      "source": [
        "folder_path = '/content/drive/MyDrive/Colab Notebooks/HOLD/'"
      ]
    },
    {
      "cell_type": "code",
      "execution_count": 9,
      "metadata": {
        "colab": {
          "base_uri": "https://localhost:8080/"
        },
        "execution": {
          "iopub.execute_input": "2023-12-11T01:03:13.849150Z",
          "iopub.status.busy": "2023-12-11T01:03:13.848830Z",
          "iopub.status.idle": "2023-12-11T01:03:14.455858Z",
          "shell.execute_reply": "2023-12-11T01:03:14.454983Z",
          "shell.execute_reply.started": "2023-12-11T01:03:13.849123Z"
        },
        "id": "x2mJ2HY_srqA",
        "outputId": "1fcb7604-96ea-4023-a4b3-41ac44d24003",
        "trusted": true
      },
      "outputs": [
        {
          "name": "stdout",
          "output_type": "stream",
          "text": [
            "Total number of training samples: 4000\n",
            "Total number of test samples: 499\n"
          ]
        }
      ],
      "source": [
        "train_df = pd.read_excel(folder_path + \"training_data_telugu-hate.xlsx\")\n",
        "test_df= pd.read_excel(folder_path + \"telugu-hate-speech-test.xlsx\")\n",
        "test_with_label = pd.read_excel(folder_path + \"telugu-english-test-data-with-labels.xlsx\")\n",
        "print(\"Total number of training samples:\", len(train_df))\n",
        "print(\"Total number of test samples:\", len(test_df))"
      ]
    },
    {
      "cell_type": "code",
      "execution_count": null,
      "metadata": {
        "colab": {
          "base_uri": "https://localhost:8080/"
        },
        "execution": {
          "iopub.execute_input": "2023-12-11T01:03:14.457821Z",
          "iopub.status.busy": "2023-12-11T01:03:14.457536Z",
          "iopub.status.idle": "2023-12-11T01:03:14.469373Z",
          "shell.execute_reply": "2023-12-11T01:03:14.468416Z",
          "shell.execute_reply.started": "2023-12-11T01:03:14.457797Z"
        },
        "id": "vq4axTvl_KdJ",
        "outputId": "ab2658cd-5d8e-4e76-d569-6fa91d129dbf",
        "trusted": true
      },
      "outputs": [
        {
          "data": {
            "text/html": [
              "<div>\n",
              "<style scoped>\n",
              "    .dataframe tbody tr th:only-of-type {\n",
              "        vertical-align: middle;\n",
              "    }\n",
              "\n",
              "    .dataframe tbody tr th {\n",
              "        vertical-align: top;\n",
              "    }\n",
              "\n",
              "    .dataframe thead th {\n",
              "        text-align: right;\n",
              "    }\n",
              "</style>\n",
              "<table border=\"1\" class=\"dataframe\">\n",
              "  <thead>\n",
              "    <tr style=\"text-align: right;\">\n",
              "      <th></th>\n",
              "      <th>id</th>\n",
              "      <th>text</th>\n",
              "      <th>label</th>\n",
              "    </tr>\n",
              "  </thead>\n",
              "  <tbody>\n",
              "    <tr>\n",
              "      <th>0</th>\n",
              "      <td>1</td>\n",
              "      <td>ఎన్ని సార్లు అయిన వినాలని ఉంది చిట్టి తల్లి సూ...</td>\n",
              "      <td>non-hate</td>\n",
              "    </tr>\n",
              "    <tr>\n",
              "      <th>1</th>\n",
              "      <td>2</td>\n",
              "      <td>ఫ్యూచర్ లో బాగ work out అవుతుంది సూపర్.</td>\n",
              "      <td>non-hate</td>\n",
              "    </tr>\n",
              "    <tr>\n",
              "      <th>2</th>\n",
              "      <td>3</td>\n",
              "      <td>ఇది బెండపూడి గవ్నమెంట్ స్టూడెంట్స్ కి మాత్రమే ...</td>\n",
              "      <td>non-hate</td>\n",
              "    </tr>\n",
              "    <tr>\n",
              "      <th>3</th>\n",
              "      <td>4</td>\n",
              "      <td>తెలుగులో మాట్లాడినప్పుడు చాలా అందంగా వినసొంపుగ...</td>\n",
              "      <td>non-hate</td>\n",
              "    </tr>\n",
              "    <tr>\n",
              "      <th>4</th>\n",
              "      <td>5</td>\n",
              "      <td>సూపర్ సిస్టర్ ఫ్యూచర్ లో రైల్వే లో జాబ్ రావాలన...</td>\n",
              "      <td>non-hate</td>\n",
              "    </tr>\n",
              "    <tr>\n",
              "      <th>...</th>\n",
              "      <td>...</td>\n",
              "      <td>...</td>\n",
              "      <td>...</td>\n",
              "    </tr>\n",
              "    <tr>\n",
              "      <th>495</th>\n",
              "      <td>496</td>\n",
              "      <td>డబ్బు ఇస్తే నిన్నుకూడ ఎస్తాడు</td>\n",
              "      <td>hate</td>\n",
              "    </tr>\n",
              "    <tr>\n",
              "      <th>496</th>\n",
              "      <td>497</td>\n",
              "      <td>నిది చూపించు దెబ్బకి సెట్ ఐపోయిది రోజాకు</td>\n",
              "      <td>hate</td>\n",
              "    </tr>\n",
              "    <tr>\n",
              "      <th>497</th>\n",
              "      <td>498</td>\n",
              "      <td>ఏది నాకిన నీది మాత్రం కచ్చితంగా నాకడు చీ రెడ్డి</td>\n",
              "      <td>hate</td>\n",
              "    </tr>\n",
              "    <tr>\n",
              "      <th>498</th>\n",
              "      <td>499</td>\n",
              "      <td>ఇప్పుడు నిదిఐన నకుతాడు డబ్బులు ఇస్తే</td>\n",
              "      <td>hate</td>\n",
              "    </tr>\n",
              "    <tr>\n",
              "      <th>499</th>\n",
              "      <td>500</td>\n",
              "      <td>Emi echavaa  Andaru neelagaa nakaru</td>\n",
              "      <td>hate</td>\n",
              "    </tr>\n",
              "  </tbody>\n",
              "</table>\n",
              "<p>500 rows × 3 columns</p>\n",
              "</div>"
            ],
            "text/plain": [
              "      id                                               text     label\n",
              "0      1  ఎన్ని సార్లు అయిన వినాలని ఉంది చిట్టి తల్లి సూ...  non-hate\n",
              "1      2            ఫ్యూచర్ లో బాగ work out అవుతుంది సూపర్.  non-hate\n",
              "2      3  ఇది బెండపూడి గవ్నమెంట్ స్టూడెంట్స్ కి మాత్రమే ...  non-hate\n",
              "3      4  తెలుగులో మాట్లాడినప్పుడు చాలా అందంగా వినసొంపుగ...  non-hate\n",
              "4      5  సూపర్ సిస్టర్ ఫ్యూచర్ లో రైల్వే లో జాబ్ రావాలన...  non-hate\n",
              "..   ...                                                ...       ...\n",
              "495  496                      డబ్బు ఇస్తే నిన్నుకూడ ఎస్తాడు      hate\n",
              "496  497           నిది చూపించు దెబ్బకి సెట్ ఐపోయిది రోజాకు      hate\n",
              "497  498    ఏది నాకిన నీది మాత్రం కచ్చితంగా నాకడు చీ రెడ్డి      hate\n",
              "498  499               ఇప్పుడు నిదిఐన నకుతాడు డబ్బులు ఇస్తే      hate\n",
              "499  500               Emi echavaa  Andaru neelagaa nakaru       hate\n",
              "\n",
              "[500 rows x 3 columns]"
            ]
          },
          "execution_count": 34,
          "metadata": {},
          "output_type": "execute_result"
        }
      ],
      "source": [
        "test_with_label"
      ]
    },
    {
      "cell_type": "code",
      "execution_count": null,
      "metadata": {
        "execution": {
          "iopub.execute_input": "2023-12-11T01:03:14.470910Z",
          "iopub.status.busy": "2023-12-11T01:03:14.470558Z",
          "iopub.status.idle": "2023-12-11T01:03:14.484678Z",
          "shell.execute_reply": "2023-12-11T01:03:14.483811Z",
          "shell.execute_reply.started": "2023-12-11T01:03:14.470879Z"
        },
        "id": "cqESVQY3Qkw0",
        "outputId": "0f4a561c-9e3c-4b9b-8ce5-b639189d51df",
        "trusted": true
      },
      "outputs": [
        {
          "data": {
            "text/html": [
              "<div>\n",
              "<style scoped>\n",
              "    .dataframe tbody tr th:only-of-type {\n",
              "        vertical-align: middle;\n",
              "    }\n",
              "\n",
              "    .dataframe tbody tr th {\n",
              "        vertical-align: top;\n",
              "    }\n",
              "\n",
              "    .dataframe thead th {\n",
              "        text-align: right;\n",
              "    }\n",
              "</style>\n",
              "<table border=\"1\" class=\"dataframe\">\n",
              "  <thead>\n",
              "    <tr style=\"text-align: right;\">\n",
              "      <th></th>\n",
              "      <th>1</th>\n",
              "      <th>ఎన్ని సార్లు అయిన వినాలని ఉంది చిట్టి తల్లి సూపర్ మా,,</th>\n",
              "    </tr>\n",
              "  </thead>\n",
              "  <tbody>\n",
              "    <tr>\n",
              "      <th>0</th>\n",
              "      <td>2</td>\n",
              "      <td>ఫ్యూచర్ లో బాగ work out అవుతుంది సూపర్.</td>\n",
              "    </tr>\n",
              "    <tr>\n",
              "      <th>1</th>\n",
              "      <td>3</td>\n",
              "      <td>ఇది బెండపూడి గవ్నమెంట్ స్టూడెంట్స్ కి మాత్రమే ...</td>\n",
              "    </tr>\n",
              "    <tr>\n",
              "      <th>2</th>\n",
              "      <td>4</td>\n",
              "      <td>తెలుగులో మాట్లాడినప్పుడు చాలా అందంగా వినసొంపుగ...</td>\n",
              "    </tr>\n",
              "    <tr>\n",
              "      <th>3</th>\n",
              "      <td>5</td>\n",
              "      <td>సూపర్ సిస్టర్ ఫ్యూచర్ లో రైల్వే లో జాబ్ రావాలన...</td>\n",
              "    </tr>\n",
              "    <tr>\n",
              "      <th>4</th>\n",
              "      <td>6</td>\n",
              "      <td>వావ్ సూపర్ అమ్మ god bless u తల్లి</td>\n",
              "    </tr>\n",
              "    <tr>\n",
              "      <th>...</th>\n",
              "      <td>...</td>\n",
              "      <td>...</td>\n",
              "    </tr>\n",
              "    <tr>\n",
              "      <th>494</th>\n",
              "      <td>496</td>\n",
              "      <td>డబ్బు ఇస్తే నిన్నుకూడ ఎస్తాడు</td>\n",
              "    </tr>\n",
              "    <tr>\n",
              "      <th>495</th>\n",
              "      <td>497</td>\n",
              "      <td>నిది చూపించు దెబ్బకి సెట్ ఐపోయిది రోజాకు</td>\n",
              "    </tr>\n",
              "    <tr>\n",
              "      <th>496</th>\n",
              "      <td>498</td>\n",
              "      <td>ఏది నాకిన నీది మాత్రం కచ్చితంగా నాకడు చీ రెడ్డి</td>\n",
              "    </tr>\n",
              "    <tr>\n",
              "      <th>497</th>\n",
              "      <td>499</td>\n",
              "      <td>ఇప్పుడు నిదిఐన నకుతాడు డబ్బులు ఇస్తే</td>\n",
              "    </tr>\n",
              "    <tr>\n",
              "      <th>498</th>\n",
              "      <td>500</td>\n",
              "      <td>Emi echavaa  Andaru neelagaa nakaru</td>\n",
              "    </tr>\n",
              "  </tbody>\n",
              "</table>\n",
              "<p>499 rows × 2 columns</p>\n",
              "</div>"
            ],
            "text/plain": [
              "       1 ఎన్ని సార్లు అయిన వినాలని ఉంది చిట్టి తల్లి సూపర్ మా,,\n",
              "0      2            ఫ్యూచర్ లో బాగ work out అవుతుంది సూపర్.    \n",
              "1      3  ఇది బెండపూడి గవ్నమెంట్ స్టూడెంట్స్ కి మాత్రమే ...    \n",
              "2      4  తెలుగులో మాట్లాడినప్పుడు చాలా అందంగా వినసొంపుగ...    \n",
              "3      5  సూపర్ సిస్టర్ ఫ్యూచర్ లో రైల్వే లో జాబ్ రావాలన...    \n",
              "4      6                  వావ్ సూపర్ అమ్మ god bless u తల్లి    \n",
              "..   ...                                                ...    \n",
              "494  496                      డబ్బు ఇస్తే నిన్నుకూడ ఎస్తాడు    \n",
              "495  497           నిది చూపించు దెబ్బకి సెట్ ఐపోయిది రోజాకు    \n",
              "496  498    ఏది నాకిన నీది మాత్రం కచ్చితంగా నాకడు చీ రెడ్డి    \n",
              "497  499               ఇప్పుడు నిదిఐన నకుతాడు డబ్బులు ఇస్తే    \n",
              "498  500               Emi echavaa  Andaru neelagaa nakaru     \n",
              "\n",
              "[499 rows x 2 columns]"
            ]
          },
          "execution_count": 35,
          "metadata": {},
          "output_type": "execute_result"
        }
      ],
      "source": [
        "test_df"
      ]
    },
    {
      "cell_type": "markdown",
      "metadata": {
        "id": "cRU1aKz253-Q"
      },
      "source": [
        "# Data Set Analysis"
      ]
    },
    {
      "cell_type": "code",
      "execution_count": null,
      "metadata": {
        "colab": {
          "base_uri": "https://localhost:8080/"
        },
        "execution": {
          "iopub.execute_input": "2023-12-11T01:03:14.486837Z",
          "iopub.status.busy": "2023-12-11T01:03:14.486539Z",
          "iopub.status.idle": "2023-12-11T01:03:14.494507Z",
          "shell.execute_reply": "2023-12-11T01:03:14.493601Z",
          "shell.execute_reply.started": "2023-12-11T01:03:14.486814Z"
        },
        "id": "JfF5fuQgtpMZ",
        "outputId": "eb7e7802-2782-45f2-b6f7-5c5772da79eb",
        "trusted": true
      },
      "outputs": [
        {
          "name": "stdout",
          "output_type": "stream",
          "text": [
            "(4000, 3)\n",
            "(500, 3)\n"
          ]
        }
      ],
      "source": [
        "print(train_df.shape)\n",
        "print(test_with_label.shape)"
      ]
    },
    {
      "cell_type": "code",
      "execution_count": null,
      "metadata": {
        "colab": {
          "base_uri": "https://localhost:8080/"
        },
        "execution": {
          "iopub.execute_input": "2023-12-11T01:03:14.496227Z",
          "iopub.status.busy": "2023-12-11T01:03:14.495600Z",
          "iopub.status.idle": "2023-12-11T01:03:14.511869Z",
          "shell.execute_reply": "2023-12-11T01:03:14.511016Z",
          "shell.execute_reply.started": "2023-12-11T01:03:14.496170Z"
        },
        "id": "S_Z-wsapu-gQ",
        "outputId": "84877a3e-d6fd-450a-de12-0518189024b0",
        "trusted": true
      },
      "outputs": [
        {
          "data": {
            "text/html": [
              "<div>\n",
              "<style scoped>\n",
              "    .dataframe tbody tr th:only-of-type {\n",
              "        vertical-align: middle;\n",
              "    }\n",
              "\n",
              "    .dataframe tbody tr th {\n",
              "        vertical-align: top;\n",
              "    }\n",
              "\n",
              "    .dataframe thead th {\n",
              "        text-align: right;\n",
              "    }\n",
              "</style>\n",
              "<table border=\"1\" class=\"dataframe\">\n",
              "  <thead>\n",
              "    <tr style=\"text-align: right;\">\n",
              "      <th></th>\n",
              "      <th>S.No</th>\n",
              "      <th>Comments</th>\n",
              "      <th>Label</th>\n",
              "    </tr>\n",
              "  </thead>\n",
              "  <tbody>\n",
              "    <tr>\n",
              "      <th>0</th>\n",
              "      <td>HATE_1001</td>\n",
              "      <td>Thappu chesina vaallaku vanike kaadu inka anni...</td>\n",
              "      <td>hate</td>\n",
              "    </tr>\n",
              "    <tr>\n",
              "      <th>1</th>\n",
              "      <td>HATE_1002</td>\n",
              "      <td>Dhusta chaathuryam!  Meeru ilantivi enni chesi...</td>\n",
              "      <td>hate</td>\n",
              "    </tr>\n",
              "    <tr>\n",
              "      <th>2</th>\n",
              "      <td>HATE_1003</td>\n",
              "      <td>Vetakaram super. Govt ki siggu seram radu. End...</td>\n",
              "      <td>hate</td>\n",
              "    </tr>\n",
              "    <tr>\n",
              "      <th>3</th>\n",
              "      <td>HATE_1004</td>\n",
              "      <td>Only rajakiyam ga vadukovatanike ee dharidrapu...</td>\n",
              "      <td>hate</td>\n",
              "    </tr>\n",
              "    <tr>\n",
              "      <th>4</th>\n",
              "      <td>HATE_1005</td>\n",
              "      <td>Katam hogaya narayana pedda bokada college</td>\n",
              "      <td>hate</td>\n",
              "    </tr>\n",
              "    <tr>\n",
              "      <th>5</th>\n",
              "      <td>HATE_1006</td>\n",
              "      <td>TELUGU DESAM PARTY ONLY GOOD ADMINISTRATION IN...</td>\n",
              "      <td>non-hate</td>\n",
              "    </tr>\n",
              "    <tr>\n",
              "      <th>6</th>\n",
              "      <td>HATE_1007</td>\n",
              "      <td>Nenu aite Jabardast show chudadam manesanu TV ...</td>\n",
              "      <td>non-hate</td>\n",
              "    </tr>\n",
              "    <tr>\n",
              "      <th>7</th>\n",
              "      <td>HATE_1008</td>\n",
              "      <td>Jagan meeda jaganke visvasam ledu anduke ea lo...</td>\n",
              "      <td>hate</td>\n",
              "    </tr>\n",
              "    <tr>\n",
              "      <th>8</th>\n",
              "      <td>HATE_1009</td>\n",
              "      <td>Students tho adukovtam thappu</td>\n",
              "      <td>non-hate</td>\n",
              "    </tr>\n",
              "    <tr>\n",
              "      <th>9</th>\n",
              "      <td>HATE_1010</td>\n",
              "      <td>Srinivasa gaaru endukee panikamaalina debate.....</td>\n",
              "      <td>hate</td>\n",
              "    </tr>\n",
              "    <tr>\n",
              "      <th>10</th>\n",
              "      <td>HATE_1011</td>\n",
              "      <td>Meru mi media published cheyadam vallane elant...</td>\n",
              "      <td>non-hate</td>\n",
              "    </tr>\n",
              "    <tr>\n",
              "      <th>11</th>\n",
              "      <td>HATE_1012</td>\n",
              "      <td>One of the Great Leader, A Big Salute Sir.,,</td>\n",
              "      <td>non-hate</td>\n",
              "    </tr>\n",
              "    <tr>\n",
              "      <th>12</th>\n",
              "      <td>HATE_1013</td>\n",
              "      <td>Mogavalla face luu mathram manchiga chupisthar...</td>\n",
              "      <td>hate</td>\n",
              "    </tr>\n",
              "    <tr>\n",
              "      <th>13</th>\n",
              "      <td>HATE_1014</td>\n",
              "      <td>Paniki malina chana</td>\n",
              "      <td>hate</td>\n",
              "    </tr>\n",
              "    <tr>\n",
              "      <th>14</th>\n",
              "      <td>HATE_1015</td>\n",
              "      <td>Rosayya garu is a real, Good and true politici...</td>\n",
              "      <td>non-hate</td>\n",
              "    </tr>\n",
              "    <tr>\n",
              "      <th>15</th>\n",
              "      <td>HATE_1016</td>\n",
              "      <td>Telangana gujju gulam kadu</td>\n",
              "      <td>hate</td>\n",
              "    </tr>\n",
              "    <tr>\n",
              "      <th>16</th>\n",
              "      <td>HATE_1017</td>\n",
              "      <td>Disevulera mundamopi</td>\n",
              "      <td>hate</td>\n",
              "    </tr>\n",
              "    <tr>\n",
              "      <th>17</th>\n",
              "      <td>HATE_1018</td>\n",
              "      <td>Anta manchi job chestu govt ki tala vanchi bra...</td>\n",
              "      <td>hate</td>\n",
              "    </tr>\n",
              "    <tr>\n",
              "      <th>18</th>\n",
              "      <td>HATE_1019</td>\n",
              "      <td>Down To Earth Man Rosaiah Garu</td>\n",
              "      <td>non-hate</td>\n",
              "    </tr>\n",
              "    <tr>\n",
              "      <th>19</th>\n",
              "      <td>HATE_1020</td>\n",
              "      <td>Jagan is unstoppable</td>\n",
              "      <td>non-hate</td>\n",
              "    </tr>\n",
              "  </tbody>\n",
              "</table>\n",
              "</div>"
            ],
            "text/plain": [
              "         S.No                                           Comments     Label\n",
              "0   HATE_1001  Thappu chesina vaallaku vanike kaadu inka anni...      hate\n",
              "1   HATE_1002  Dhusta chaathuryam!  Meeru ilantivi enni chesi...      hate\n",
              "2   HATE_1003  Vetakaram super. Govt ki siggu seram radu. End...      hate\n",
              "3   HATE_1004  Only rajakiyam ga vadukovatanike ee dharidrapu...      hate\n",
              "4   HATE_1005         Katam hogaya narayana pedda bokada college      hate\n",
              "5   HATE_1006  TELUGU DESAM PARTY ONLY GOOD ADMINISTRATION IN...  non-hate\n",
              "6   HATE_1007  Nenu aite Jabardast show chudadam manesanu TV ...  non-hate\n",
              "7   HATE_1008  Jagan meeda jaganke visvasam ledu anduke ea lo...      hate\n",
              "8   HATE_1009                      Students tho adukovtam thappu  non-hate\n",
              "9   HATE_1010  Srinivasa gaaru endukee panikamaalina debate.....      hate\n",
              "10  HATE_1011  Meru mi media published cheyadam vallane elant...  non-hate\n",
              "11  HATE_1012       One of the Great Leader, A Big Salute Sir.,,  non-hate\n",
              "12  HATE_1013  Mogavalla face luu mathram manchiga chupisthar...      hate\n",
              "13  HATE_1014                                Paniki malina chana      hate\n",
              "14  HATE_1015  Rosayya garu is a real, Good and true politici...  non-hate\n",
              "15  HATE_1016                         Telangana gujju gulam kadu      hate\n",
              "16  HATE_1017                               Disevulera mundamopi      hate\n",
              "17  HATE_1018  Anta manchi job chestu govt ki tala vanchi bra...      hate\n",
              "18  HATE_1019                     Down To Earth Man Rosaiah Garu  non-hate\n",
              "19  HATE_1020                              Jagan is unstoppable   non-hate"
            ]
          },
          "execution_count": 37,
          "metadata": {},
          "output_type": "execute_result"
        }
      ],
      "source": [
        "train_df.head(20)"
      ]
    },
    {
      "cell_type": "code",
      "execution_count": null,
      "metadata": {
        "execution": {
          "iopub.execute_input": "2023-12-11T01:03:14.513618Z",
          "iopub.status.busy": "2023-12-11T01:03:14.513071Z",
          "iopub.status.idle": "2023-12-11T01:03:14.676929Z",
          "shell.execute_reply": "2023-12-11T01:03:14.675911Z",
          "shell.execute_reply.started": "2023-12-11T01:03:14.513590Z"
        },
        "id": "2DH-h-3IwUdb",
        "trusted": true
      },
      "outputs": [],
      "source": [
        "train_corpus = train_df[\"Comments\"].sum()\n",
        "test_corpus = test_with_label['text'].sum()\n",
        "#test_corpus"
      ]
    },
    {
      "cell_type": "code",
      "execution_count": null,
      "metadata": {
        "colab": {
          "base_uri": "https://localhost:8080/"
        },
        "execution": {
          "iopub.execute_input": "2023-12-11T01:03:14.678778Z",
          "iopub.status.busy": "2023-12-11T01:03:14.678380Z",
          "iopub.status.idle": "2023-12-11T01:03:14.861352Z",
          "shell.execute_reply": "2023-12-11T01:03:14.860397Z",
          "shell.execute_reply.started": "2023-12-11T01:03:14.678745Z"
        },
        "id": "o9DHSoRN5-0u",
        "outputId": "f2bacfeb-adb4-4f8b-b36b-75ad91ba54b7",
        "trusted": true
      },
      "outputs": [
        {
          "name": "stdout",
          "output_type": "stream",
          "text": [
            "Number of unique words in training data: 17097\n",
            "Number of unique words in test data: 2365\n",
            "Number of out-of-vocabulary (OOV) words: 1167\n"
          ]
        }
      ],
      "source": [
        "import re\n",
        "\n",
        "train_corpus = train_df[\"Comments\"].sum()\n",
        "test_corpus = test_with_label[\"text\"].sum()\n",
        "\n",
        "# Remove punctuations\n",
        "chars_to_ignore = '[-,\\.:;\\'\"\\!?।]'\n",
        "\n",
        "train_corpus = re.sub(chars_to_ignore, ' ', train_corpus)\n",
        "train_vocab = set(train_corpus.split())\n",
        "\n",
        "test_corpus = re.sub(chars_to_ignore, ' ', test_corpus)\n",
        "test_vocab = set(test_corpus.split())\n",
        "\n",
        "oov = test_vocab - train_vocab\n",
        "\n",
        "print(\"Number of unique words in training data:\", len(train_vocab))\n",
        "print(\"Number of unique words in test data:\", len(test_vocab))\n",
        "print(\"Number of out-of-vocabulary (OOV) words:\", len(oov))"
      ]
    },
    {
      "cell_type": "code",
      "execution_count": null,
      "metadata": {
        "colab": {
          "base_uri": "https://localhost:8080/"
        },
        "execution": {
          "iopub.execute_input": "2023-12-11T01:03:14.863457Z",
          "iopub.status.busy": "2023-12-11T01:03:14.862730Z",
          "iopub.status.idle": "2023-12-11T01:03:14.880637Z",
          "shell.execute_reply": "2023-12-11T01:03:14.879753Z",
          "shell.execute_reply.started": "2023-12-11T01:03:14.863419Z"
        },
        "id": "B_6WCeew6G33",
        "outputId": "da1da987-e84f-4ecc-ba93-65f783568416",
        "trusted": true
      },
      "outputs": [
        {
          "data": {
            "text/html": [
              "<div>\n",
              "<style scoped>\n",
              "    .dataframe tbody tr th:only-of-type {\n",
              "        vertical-align: middle;\n",
              "    }\n",
              "\n",
              "    .dataframe tbody tr th {\n",
              "        vertical-align: top;\n",
              "    }\n",
              "\n",
              "    .dataframe thead th {\n",
              "        text-align: right;\n",
              "    }\n",
              "</style>\n",
              "<table border=\"1\" class=\"dataframe\">\n",
              "  <thead>\n",
              "    <tr style=\"text-align: right;\">\n",
              "      <th></th>\n",
              "      <th>S.No</th>\n",
              "      <th>Comments</th>\n",
              "      <th>Label</th>\n",
              "    </tr>\n",
              "  </thead>\n",
              "  <tbody>\n",
              "    <tr>\n",
              "      <th>3981</th>\n",
              "      <td>HATE_4982</td>\n",
              "      <td>Roja chala goranga ayipothundh</td>\n",
              "      <td>hate</td>\n",
              "    </tr>\n",
              "    <tr>\n",
              "      <th>3983</th>\n",
              "      <td>HATE_4984</td>\n",
              "      <td>Telugu rastrala nayakulu matlade matalaku pichilestundi</td>\n",
              "      <td>hate</td>\n",
              "    </tr>\n",
              "    <tr>\n",
              "      <th>3985</th>\n",
              "      <td>HATE_4986</td>\n",
              "      <td>Roja lanj...donga mund.</td>\n",
              "      <td>hate</td>\n",
              "    </tr>\n",
              "    <tr>\n",
              "      <th>3988</th>\n",
              "      <td>HATE_4989</td>\n",
              "      <td>నీ expression చూస్తుంటే ఏదో మర్డర్, రేప్ జరిగినట్టు.</td>\n",
              "      <td>hate</td>\n",
              "    </tr>\n",
              "    <tr>\n",
              "      <th>3995</th>\n",
              "      <td>HATE_4996</td>\n",
              "      <td>నిజాయితీపరుడంట....same బాస్ క్వాలిటీస్ చాలా ఉన్నాయంట.</td>\n",
              "      <td>hate</td>\n",
              "    </tr>\n",
              "  </tbody>\n",
              "</table>\n",
              "</div>"
            ],
            "text/plain": [
              "           S.No                                                 Comments Label\n",
              "3981  HATE_4982  Roja chala goranga ayipothundh                           hate\n",
              "3983  HATE_4984  Telugu rastrala nayakulu matlade matalaku pichilestundi  hate\n",
              "3985  HATE_4986  Roja lanj...donga mund.                                  hate\n",
              "3988  HATE_4989  నీ expression చూస్తుంటే ఏదో మర్డర్, రేప్ జరిగినట్టు.     hate\n",
              "3995  HATE_4996  నిజాయితీపరుడంట....same బాస్ క్వాలిటీస్ చాలా ఉన్నాయంట.    hate"
            ]
          },
          "metadata": {},
          "output_type": "display_data"
        }
      ],
      "source": [
        "filtered_train = train_df[lambda x: x[\"Comments\"].str.contains(\"[A-Za-z0-9]\")]\n",
        "\n",
        "with pd.option_context('display.max_colwidth', 0):\n",
        "    display(filtered_train.tail(n=5))"
      ]
    },
    {
      "cell_type": "code",
      "execution_count": null,
      "metadata": {
        "colab": {
          "base_uri": "https://localhost:8080/"
        },
        "execution": {
          "iopub.execute_input": "2023-12-11T01:03:14.882062Z",
          "iopub.status.busy": "2023-12-11T01:03:14.881786Z",
          "iopub.status.idle": "2023-12-11T01:03:14.890827Z",
          "shell.execute_reply": "2023-12-11T01:03:14.889782Z",
          "shell.execute_reply.started": "2023-12-11T01:03:14.882039Z"
        },
        "id": "GqKOGDtd6UQE",
        "outputId": "43c655c8-cdad-4ab1-bd76-49bacd7dc5b2",
        "trusted": true
      },
      "outputs": [
        {
          "data": {
            "text/plain": [
              "(2664, 3)"
            ]
          },
          "execution_count": 41,
          "metadata": {},
          "output_type": "execute_result"
        }
      ],
      "source": [
        "filtered_train.shape"
      ]
    },
    {
      "cell_type": "code",
      "execution_count": null,
      "metadata": {
        "colab": {
          "base_uri": "https://localhost:8080/"
        },
        "execution": {
          "iopub.execute_input": "2023-12-11T01:03:14.893987Z",
          "iopub.status.busy": "2023-12-11T01:03:14.893683Z",
          "iopub.status.idle": "2023-12-11T01:03:14.900649Z",
          "shell.execute_reply": "2023-12-11T01:03:14.899620Z",
          "shell.execute_reply.started": "2023-12-11T01:03:14.893960Z"
        },
        "id": "3w868NUb53-a",
        "outputId": "7f5e17da-5ebc-4c4d-ff10-4ee237d41b25",
        "trusted": true
      },
      "outputs": [
        {
          "name": "stdout",
          "output_type": "stream",
          "text": [
            "Total Pure Tamil Sentence =  1336\n"
          ]
        }
      ],
      "source": [
        "print(\"Total Pure Tamil Sentence = \", train_df.shape[0] - filtered_train.shape[0])"
      ]
    },
    {
      "cell_type": "markdown",
      "metadata": {
        "id": "hphD1uHEv9_0"
      },
      "source": [
        "# Preprocessing"
      ]
    },
    {
      "cell_type": "code",
      "execution_count": 10,
      "metadata": {
        "execution": {
          "iopub.execute_input": "2023-12-11T01:03:14.902914Z",
          "iopub.status.busy": "2023-12-11T01:03:14.902059Z",
          "iopub.status.idle": "2023-12-11T01:03:14.917868Z",
          "shell.execute_reply": "2023-12-11T01:03:14.916992Z",
          "shell.execute_reply.started": "2023-12-11T01:03:14.902880Z"
        },
        "id": "OyfV6dRn6eJa",
        "trusted": true
      },
      "outputs": [],
      "source": [
        "def text_to_word_list(text):\n",
        "    text = text.split()\n",
        "    return text\n",
        "\n",
        "def replace_strings(text):\n",
        "    emoj = re.compile(\"[\"         # this emoj is to remove all emojis\n",
        "        u\"\\U0001F600-\\U0001F64F\"  # emoticons\n",
        "        u\"\\U0001F300-\\U0001F5FF\"  # symbols & pictographs\n",
        "        u\"\\U0001F680-\\U0001F6FF\"  # transport & map symbols\n",
        "        u\"\\U0001F1E0-\\U0001F1FF\"  # flags (iOS)\n",
        "        u\"\\U00002500-\\U00002BEF\"  # chinese char\n",
        "        u\"\\U00002702-\\U000027B0\"\n",
        "        u\"\\U000024C2-\\U0001F251\"\n",
        "        u\"\\U0001f926-\\U0001f937\"\n",
        "        u\"\\U00010000-\\U0010ffff\"\n",
        "        u\"\\u2640-\\u2642\"\n",
        "        u\"\\u2600-\\u2B55\"\n",
        "        u\"\\u200d\"\n",
        "        u\"\\u23cf\"\n",
        "        u\"\\u23e9\"\n",
        "        u\"\\u231a\"\n",
        "        u\"\\ufe0f\"  # dingbats\n",
        "        u\"\\u3030\"\n",
        "                      \"]+\", re.UNICODE)\n",
        "    emoji_pattern = re.compile(\"[\"\n",
        "                           u\"\\U0001F600-\\U0001F64F\"  # emoticons\n",
        "                           u\"\\U0001F300-\\U0001F5FF\"  # symbols & pictographs\n",
        "                           u\"\\U0001F680-\\U0001F6FF\"  # transport & map symbols\n",
        "                           u\"\\U0001F1E0-\\U0001F1FF\"  # flags (iOS)\n",
        "                           u\"\\U00002702-\\U000027B0\"\n",
        "                           u\"\\U000024C2-\\U0001F251\"\n",
        "                           u\"\\u00C0-\\u017F\"          #latin\n",
        "                           u\"\\u2000-\\u206F\"          #generalPunctuations\n",
        "\n",
        "                           \"]+\", flags=re.UNICODE)\n",
        "\n",
        "    text = text.lower()\n",
        "\n",
        "    url_pattern = r'https?://\\S+|www\\.\\S+'\n",
        "    text = re.sub(url_pattern, ' ', text)\n",
        "\n",
        "    text = BeautifulSoup(text, 'html.parser').get_text()\n",
        "    text = re.sub(r'(https|http|www)?:\\/\\/(\\w|\\.|\\/|\\?|\\=|\\&|\\%)*\\b', ' ', text, flags=re.MULTILINE)\n",
        "\n",
        "\n",
        "    text = emoji_pattern.sub(r' ', text)\n",
        "    text = emoj.sub(r' ',text)\n",
        "\n",
        "    text = text.replace('\\n', ' ')\n",
        "    text = text.replace('—', ' ')\n",
        "    text = text.replace('_', ' ')\n",
        "    text = text.replace('\\r', ' ')\n",
        "    text = text.replace('\\w', ' ')\n",
        "\n",
        "    text = re.sub(r'(\\\\)[a-zA-Z]+', ' ',text)\n",
        "\n",
        "    text = re.sub(r'\\s+', ' ', text)  #replace multiple space with single space\n",
        "\n",
        "    return text\n",
        "\n",
        "def remove_punctuations(my_str):\n",
        "    # define punctuation\n",
        "    #punctuations = '''```\u0012\u0010\u0002\b`\u0007\b£|¢|\u0007Ñ+-*/=৳০১২৩৪৫৬৭৮৯012–34567•89।!()-[]{};:'\"“\\’,<>./?@#$%^&*_~‘—॥”‰🤣⚽️✌😀😃😄😁😆😅😂🤣😊😇🙂🙃😉😌😍😘😗😙😚😋😛😝😜🤪🤨🧐🤓😎🤩🥳😏😒😞😔😟😕🙁☹️😣😖😫😩😤😠😡🤬😈👿💀☠️💩🤡👹👺👻👽👾🤖💋💌💘💝💖💗💓💞💕💟❣️💔❤️‍🔥🖤🤍💯💢💥💫💦💨🕳️💣💬👁️‍🗨️🗨️🗯️💭💤👋🤚🖐️✋🖖👌✌️🤞🤟🤘🤙👈👉👆👇☝️✍️👏👏🏻👏🏼👏🏽👏🏾👏🏿👍👍🏻👍🏼👍🏽👍🏾👍🏿👎👎🏻👎🏼👎🏽👎🏾👎🏿✊✊🏻✊🏼✊🏽✊🏾✊🏿🤛🤛🏻🤛🏼🤛🏽🤛🏾🤛🏿🤜🤜🏻🤜🏼🤜🏽🤜🏾🤜🏿🤝🙏🙏🏻🙏🏼🙏🏽🙏🏾🙏🏿✍️💅💅🏻💅🏼💅🏽💅🏾💅🏿🤳💪💪🏻💪🏼💪🏽💪🏾💪🏿🦾🦵🦿🦶👂👂🏻👂🏼👂🏽👂🏾👂🏿👃👃🏻👃🏼👃🏽👃🏾👃🏿👀🧠🫀🫁🦷🦴👅👄🦻🦻🏻🦻🏼🦻🏽🦻🏾🦻🏿👶👶🏻👶🏼👶🏽👶🏾👶🏿🧒🧒🏻🧒🏼🧒🏽🧒🏾🧒🏿👦👦🏻👦🏼👦🏽👦🏾👦🏿👧👧🏻👧🏼👧🏽👧🏾👧🏿🧑🧑🏻🧑🏼🧑🏽🧑🏾🧑🏿👨👨🏻👨🏼👨🏽👨🏾👨🏿👩👩🏻👩🏼👩🏽👩🏾👩🏿🧓🧓🏻🧓🏼🧓🏽🧓🏾🧓🏿👴👴🏻👴🏼👴🏽👴🏾👴🏿👵👵🏻👵🏼👵🏽👵🏾👵🏿👩‍🦰👩🏻‍🦰👩🏼‍🦰👩🏽‍🦰👩🏾‍🦰👩🏿‍🦰👩‍🦱👩🏻‍🦱👩🏼‍🦱👩🏽‍🦱👩🏾‍🦱👩🏿‍🦱👩‍🦳👩🏻‍🦳👩🏼‍🦳👩🏽‍🦳👩🏾‍🦳👩🏿‍🦳👩‍🦲👩🏻‍🦲👩🏼‍🦲👩🏽‍🦲👩🏾‍🦲👩🏿‍🦲👨‍🦰👨🏻‍🦰👨🏼‍🦰👨🏽‍🦰👨🏾‍🦰👨🏿‍🦰👨‍🦱👨🏻‍🦱👨🏼‍🦱👨🏽‍🦱👨🏾‍🦱👨🏿‍🦱👨‍🦳👨🏻‍🦳👨🏼👨🏽‍🦳👨🏾‍🦳👨🏿‍🦳👨‍🦲👨🏻‍🦲👨🏼‍🦲👨🏽‍🦲👨🏾‍🦲👨🏿‍🦲🦰🦱🦳🦲👱‍♀️👱🏻‍♀️❤️‍🩹❤️‍🔥❤️‍🩹🧡💛💚💙💜🤎�￰৷￰'''\n",
        "    punctuations = '|¢|\u0007Ñ+-৳০১২৩৪৫৬৭৮৯।()-[]{}<>@#$%^&*_~—॥🤣⚽️✌😀💉�￰৷￰'\n",
        "    no_punct = \"\"\n",
        "    for char in my_str:\n",
        "        if char not in punctuations:\n",
        "            no_punct = no_punct + char\n",
        "\n",
        "    # display the unpunctuated string\n",
        "    return no_punct\n",
        "\n",
        "\n",
        "\n",
        "def joining(text):\n",
        "    out=' '.join(text)\n",
        "    return out\n",
        "\n",
        "def preprocessing(text):\n",
        "    out=remove_punctuations(replace_strings(text))\n",
        "    return out"
      ]
    },
    {
      "cell_type": "code",
      "execution_count": 11,
      "metadata": {
        "execution": {
          "iopub.execute_input": "2023-12-11T01:03:14.919106Z",
          "iopub.status.busy": "2023-12-11T01:03:14.918871Z",
          "iopub.status.idle": "2023-12-11T01:03:15.389741Z",
          "shell.execute_reply": "2023-12-11T01:03:15.388951Z",
          "shell.execute_reply.started": "2023-12-11T01:03:14.919085Z"
        },
        "id": "dGEkuz8_6jOj",
        "trusted": true
      },
      "outputs": [],
      "source": [
        "train_df['cleanText'] = train_df.Comments.apply(lambda x: preprocessing(str(x)))\n",
        "test_with_label['text'] = test_with_label.text.apply(lambda x: preprocessing(str(x)))"
      ]
    },
    {
      "cell_type": "code",
      "execution_count": null,
      "metadata": {
        "execution": {
          "iopub.execute_input": "2023-12-11T01:03:15.391142Z",
          "iopub.status.busy": "2023-12-11T01:03:15.390862Z",
          "iopub.status.idle": "2023-12-11T01:03:15.435824Z",
          "shell.execute_reply": "2023-12-11T01:03:15.434780Z",
          "shell.execute_reply.started": "2023-12-11T01:03:15.391117Z"
        },
        "id": "_Lzlzuzz7H5O",
        "trusted": true
      },
      "outputs": [],
      "source": [
        "train_corpus = train_df[\"cleanText\"].sum()\n",
        "# train_corpus"
      ]
    },
    {
      "cell_type": "code",
      "execution_count": null,
      "metadata": {
        "colab": {
          "base_uri": "https://localhost:8080/"
        },
        "execution": {
          "iopub.execute_input": "2023-12-11T01:03:15.439487Z",
          "iopub.status.busy": "2023-12-11T01:03:15.439055Z",
          "iopub.status.idle": "2023-12-11T01:03:15.452423Z",
          "shell.execute_reply": "2023-12-11T01:03:15.451524Z",
          "shell.execute_reply.started": "2023-12-11T01:03:15.439450Z"
        },
        "id": "HE-twu9S7mca",
        "outputId": "d101c235-22db-4367-85f1-3e4ab4172be7",
        "trusted": true
      },
      "outputs": [
        {
          "data": {
            "text/html": [
              "<div>\n",
              "<style scoped>\n",
              "    .dataframe tbody tr th:only-of-type {\n",
              "        vertical-align: middle;\n",
              "    }\n",
              "\n",
              "    .dataframe tbody tr th {\n",
              "        vertical-align: top;\n",
              "    }\n",
              "\n",
              "    .dataframe thead th {\n",
              "        text-align: right;\n",
              "    }\n",
              "</style>\n",
              "<table border=\"1\" class=\"dataframe\">\n",
              "  <thead>\n",
              "    <tr style=\"text-align: right;\">\n",
              "      <th></th>\n",
              "      <th>S.No</th>\n",
              "      <th>Comments</th>\n",
              "      <th>Label</th>\n",
              "      <th>cleanText</th>\n",
              "    </tr>\n",
              "  </thead>\n",
              "  <tbody>\n",
              "    <tr>\n",
              "      <th>3990</th>\n",
              "      <td>HATE_4991</td>\n",
              "      <td>నువ్వు నీ ఓవర్ యాక్షన్ .... మూవీస్ లో ఛాన్స్ క...</td>\n",
              "      <td>hate</td>\n",
              "      <td>నువ్వు నీ ఓవర్ యాక్షన్ .... మూవీస్ లో ఛాన్స్ క...</td>\n",
              "    </tr>\n",
              "    <tr>\n",
              "      <th>3991</th>\n",
              "      <td>HATE_4992</td>\n",
              "      <td>ఇక నేను నువ్వు ఇంటర్వ్యూ చేసినా చూడను</td>\n",
              "      <td>hate</td>\n",
              "      <td>ఇక నేను నువ్వు ఇంటర్వ్యూ చేసినా చూడను</td>\n",
              "    </tr>\n",
              "    <tr>\n",
              "      <th>3992</th>\n",
              "      <td>HATE_4993</td>\n",
              "      <td>ఒక సారి నీ మీద ఎన్ని కామెంట్లు  రాస్తున్నారో చ...</td>\n",
              "      <td>hate</td>\n",
              "      <td>ఒక సారి నీ మీద ఎన్ని కామెంట్లు రాస్తున్నారో చూ...</td>\n",
              "    </tr>\n",
              "    <tr>\n",
              "      <th>3993</th>\n",
              "      <td>HATE_4994</td>\n",
              "      <td>తప్పు చేసిన తరువాత వచ్చి ఖమ్ గా నే కూర్చుంటారు</td>\n",
              "      <td>hate</td>\n",
              "      <td>తప్పు చేసిన తరువాత వచ్చి ఖమ్ గా నే కూర్చుంటారు</td>\n",
              "    </tr>\n",
              "    <tr>\n",
              "      <th>3994</th>\n",
              "      <td>HATE_4995</td>\n",
              "      <td>చెప్పుతో కొట్టినట్టు సమాధానం ఇచ్చవుగా</td>\n",
              "      <td>hate</td>\n",
              "      <td>చెప్పుతో కొట్టినట్టు సమాధానం ఇచ్చవుగా</td>\n",
              "    </tr>\n",
              "    <tr>\n",
              "      <th>3995</th>\n",
              "      <td>HATE_4996</td>\n",
              "      <td>నిజాయితీపరుడంట....same బాస్ క్వాలిటీస్ చాలా ఉన...</td>\n",
              "      <td>hate</td>\n",
              "      <td>నిజాయితీపరుడంట....same బాస్ క్వాలిటీస్ చాలా ఉన...</td>\n",
              "    </tr>\n",
              "    <tr>\n",
              "      <th>3996</th>\n",
              "      <td>HATE_4997</td>\n",
              "      <td>ఓహో ఈ నిజాయితీపరుడైన రవి ప్రకాష్ లో పవన్ లక్షణ...</td>\n",
              "      <td>hate</td>\n",
              "      <td>ఓహో ఈ నిజాయితీపరుడైన రవి ప్రకాష్ లో పవన్ లక్షణ...</td>\n",
              "    </tr>\n",
              "    <tr>\n",
              "      <th>3997</th>\n",
              "      <td>HATE_4998</td>\n",
              "      <td>వీడీ పేరు రాంగోపాల్ వర్మ! వీడి చేతిలో పడ్డ అమ్...</td>\n",
              "      <td>hate</td>\n",
              "      <td>వీడీ పేరు రాంగోపాల్ వర్మ! వీడి చేతిలో పడ్డ అమ్...</td>\n",
              "    </tr>\n",
              "    <tr>\n",
              "      <th>3998</th>\n",
              "      <td>HATE_4999</td>\n",
              "      <td>నువ్వు మాత్రం డబ్బులేస్తే ముష్టి వాడి పక్కన అయ...</td>\n",
              "      <td>hate</td>\n",
              "      <td>నువ్వు మాత్రం డబ్బులేస్తే ముష్టి వాడి పక్కన అయ...</td>\n",
              "    </tr>\n",
              "    <tr>\n",
              "      <th>3999</th>\n",
              "      <td>HATE_5000</td>\n",
              "      <td>వచ్చిందండి... మా తుగ్లక్ గాడి మిడ్ నైట్ దెవత</td>\n",
              "      <td>hate</td>\n",
              "      <td>వచ్చిందండి... మా తుగ్లక్ గాడి మిడ్ నైట్ దెవత</td>\n",
              "    </tr>\n",
              "  </tbody>\n",
              "</table>\n",
              "</div>"
            ],
            "text/plain": [
              "           S.No                                           Comments Label  \\\n",
              "3990  HATE_4991  నువ్వు నీ ఓవర్ యాక్షన్ .... మూవీస్ లో ఛాన్స్ క...  hate   \n",
              "3991  HATE_4992              ఇక నేను నువ్వు ఇంటర్వ్యూ చేసినా చూడను  hate   \n",
              "3992  HATE_4993  ఒక సారి నీ మీద ఎన్ని కామెంట్లు  రాస్తున్నారో చ...  hate   \n",
              "3993  HATE_4994     తప్పు చేసిన తరువాత వచ్చి ఖమ్ గా నే కూర్చుంటారు  hate   \n",
              "3994  HATE_4995              చెప్పుతో కొట్టినట్టు సమాధానం ఇచ్చవుగా  hate   \n",
              "3995  HATE_4996  నిజాయితీపరుడంట....same బాస్ క్వాలిటీస్ చాలా ఉన...  hate   \n",
              "3996  HATE_4997  ఓహో ఈ నిజాయితీపరుడైన రవి ప్రకాష్ లో పవన్ లక్షణ...  hate   \n",
              "3997  HATE_4998  వీడీ పేరు రాంగోపాల్ వర్మ! వీడి చేతిలో పడ్డ అమ్...  hate   \n",
              "3998  HATE_4999  నువ్వు మాత్రం డబ్బులేస్తే ముష్టి వాడి పక్కన అయ...  hate   \n",
              "3999  HATE_5000       వచ్చిందండి... మా తుగ్లక్ గాడి మిడ్ నైట్ దెవత  hate   \n",
              "\n",
              "                                              cleanText  \n",
              "3990  నువ్వు నీ ఓవర్ యాక్షన్ .... మూవీస్ లో ఛాన్స్ క...  \n",
              "3991              ఇక నేను నువ్వు ఇంటర్వ్యూ చేసినా చూడను  \n",
              "3992  ఒక సారి నీ మీద ఎన్ని కామెంట్లు రాస్తున్నారో చూ...  \n",
              "3993     తప్పు చేసిన తరువాత వచ్చి ఖమ్ గా నే కూర్చుంటారు  \n",
              "3994              చెప్పుతో కొట్టినట్టు సమాధానం ఇచ్చవుగా  \n",
              "3995  నిజాయితీపరుడంట....same బాస్ క్వాలిటీస్ చాలా ఉన...  \n",
              "3996  ఓహో ఈ నిజాయితీపరుడైన రవి ప్రకాష్ లో పవన్ లక్షణ...  \n",
              "3997  వీడీ పేరు రాంగోపాల్ వర్మ! వీడి చేతిలో పడ్డ అమ్...  \n",
              "3998  నువ్వు మాత్రం డబ్బులేస్తే ముష్టి వాడి పక్కన అయ...  \n",
              "3999       వచ్చిందండి... మా తుగ్లక్ గాడి మిడ్ నైట్ దెవత  "
            ]
          },
          "execution_count": 46,
          "metadata": {},
          "output_type": "execute_result"
        }
      ],
      "source": [
        "train_df.tail(10)"
      ]
    },
    {
      "cell_type": "code",
      "execution_count": null,
      "metadata": {
        "colab": {
          "base_uri": "https://localhost:8080/"
        },
        "execution": {
          "iopub.execute_input": "2023-12-11T01:03:15.453903Z",
          "iopub.status.busy": "2023-12-11T01:03:15.453569Z",
          "iopub.status.idle": "2023-12-11T01:03:15.465492Z",
          "shell.execute_reply": "2023-12-11T01:03:15.464687Z",
          "shell.execute_reply.started": "2023-12-11T01:03:15.453878Z"
        },
        "id": "ebfoV9BD8LZ9",
        "outputId": "8b81b462-6d34-4d3d-a949-951ba2e48ce9",
        "trusted": true
      },
      "outputs": [
        {
          "data": {
            "text/plain": [
              "Label\n",
              "non-hate    2061\n",
              "hate        1939\n",
              "Name: count, dtype: int64"
            ]
          },
          "execution_count": 47,
          "metadata": {},
          "output_type": "execute_result"
        }
      ],
      "source": [
        "train_df.Label.value_counts()"
      ]
    },
    {
      "cell_type": "code",
      "execution_count": 13,
      "metadata": {
        "execution": {
          "iopub.execute_input": "2023-12-11T01:03:15.466681Z",
          "iopub.status.busy": "2023-12-11T01:03:15.466434Z",
          "iopub.status.idle": "2023-12-11T01:03:15.479654Z",
          "shell.execute_reply": "2023-12-11T01:03:15.478763Z",
          "shell.execute_reply.started": "2023-12-11T01:03:15.466659Z"
        },
        "id": "e1dAzvPe8P4n",
        "trusted": true
      },
      "outputs": [],
      "source": [
        "train_df['enc_label'] = train_df['Label'].replace({'hate':1, 'non-hate':0})\n",
        "test_with_label['enc_label'] = test_with_label['label'].replace({'hate':1, 'non-hate':0})"
      ]
    },
    {
      "cell_type": "code",
      "execution_count": null,
      "metadata": {
        "colab": {
          "base_uri": "https://localhost:8080/"
        },
        "execution": {
          "iopub.execute_input": "2023-12-11T01:03:15.480893Z",
          "iopub.status.busy": "2023-12-11T01:03:15.480642Z",
          "iopub.status.idle": "2023-12-11T01:03:15.492264Z",
          "shell.execute_reply": "2023-12-11T01:03:15.491278Z",
          "shell.execute_reply.started": "2023-12-11T01:03:15.480871Z"
        },
        "id": "VwqmFsHt8jIl",
        "outputId": "837617d1-10ed-4606-94b7-812ebe9c8794",
        "trusted": true
      },
      "outputs": [
        {
          "data": {
            "text/plain": [
              "enc_label\n",
              "0    2061\n",
              "1    1939\n",
              "Name: count, dtype: int64"
            ]
          },
          "execution_count": 49,
          "metadata": {},
          "output_type": "execute_result"
        }
      ],
      "source": [
        "train_df.enc_label.value_counts()"
      ]
    },
    {
      "cell_type": "markdown",
      "metadata": {
        "id": "H1WjlCul53-f"
      },
      "source": [
        "# Data Set Visualization"
      ]
    },
    {
      "cell_type": "code",
      "execution_count": null,
      "metadata": {
        "colab": {
          "base_uri": "https://localhost:8080/"
        },
        "execution": {
          "iopub.execute_input": "2023-12-11T01:03:15.494269Z",
          "iopub.status.busy": "2023-12-11T01:03:15.493559Z",
          "iopub.status.idle": "2023-12-11T01:03:16.106644Z",
          "shell.execute_reply": "2023-12-11T01:03:16.105644Z",
          "shell.execute_reply.started": "2023-12-11T01:03:15.494209Z"
        },
        "id": "wfTnUG8Q53-f",
        "outputId": "4cba9f0f-6fe2-46fe-cb89-af21ec136bd2",
        "trusted": true
      },
      "outputs": [
        {
          "data": {
            "image/png": "[encoded data removed]",
            "text/plain": [
              "<Figure size 1500x500 with 2 Axes>"
            ]
          },
          "metadata": {},
          "output_type": "display_data"
        }
      ],
      "source": [
        "fig, axes = plt.subplots(1, 2, figsize=(15, 5), sharey=True)\n",
        "\n",
        "train_lengths = train_df[\"Comments\"].str.len()\n",
        "sns.histplot(ax=axes[0], data=train_lengths, bins=10).set(xlabel=\"Length of training text samples\")\n",
        "axes[0].axvline(train_lengths.mean(), c=\"k\", ls=\"--\", lw=2.5, label=\"Mean\")\n",
        "axes[0].legend()\n",
        "\n",
        "#dev_lengths = dev_df[\"text\"].str.len()\n",
        "#sns.histplot(ax=axes[1], data=dev_lengths, bins=10).set(xlabel=\"Length of dev text samples\")\n",
        "#axes[1].axvline(dev_lengths.mean(), c=\"k\", ls=\"--\", lw=2.5, label=\"Mean\")\n",
        "#axes[1].legend()\n",
        "\n",
        "test_lengths = test_with_label[\"text\"].str.len()\n",
        "sns.histplot(ax=axes[1], data=test_lengths, bins=10).set(xlabel=\"Length of test text samples\")\n",
        "axes[1].axvline(test_lengths.mean(), c=\"k\", ls=\"--\", lw=2.5, label=\"Mean\")\n",
        "axes[1].legend()\n",
        "\n",
        "\n",
        "plt.show()"
      ]
    },
    {
      "cell_type": "code",
      "execution_count": null,
      "metadata": {
        "colab": {
          "base_uri": "https://localhost:8080/"
        },
        "execution": {
          "iopub.execute_input": "2023-12-11T01:03:16.108490Z",
          "iopub.status.busy": "2023-12-11T01:03:16.107947Z",
          "iopub.status.idle": "2023-12-11T01:03:16.113814Z",
          "shell.execute_reply": "2023-12-11T01:03:16.112944Z",
          "shell.execute_reply.started": "2023-12-11T01:03:16.108459Z"
        },
        "id": "mc8Y7Mge53-g",
        "outputId": "9132cbac-042a-4716-ba3e-0bff46ff9794",
        "trusted": true
      },
      "outputs": [
        {
          "name": "stdout",
          "output_type": "stream",
          "text": [
            "66.8495\n",
            "46.996\n"
          ]
        }
      ],
      "source": [
        "print(train_lengths.mean());\n",
        "print(test_lengths.mean());"
      ]
    },
    {
      "cell_type": "code",
      "execution_count": null,
      "metadata": {
        "colab": {
          "base_uri": "https://localhost:8080/"
        },
        "execution": {
          "iopub.execute_input": "2023-12-11T01:03:16.115588Z",
          "iopub.status.busy": "2023-12-11T01:03:16.115279Z",
          "iopub.status.idle": "2023-12-11T01:03:16.306295Z",
          "shell.execute_reply": "2023-12-11T01:03:16.305263Z",
          "shell.execute_reply.started": "2023-12-11T01:03:16.115554Z"
        },
        "id": "nwMbvmB953-g",
        "outputId": "4077a382-92df-4e3d-f982-fd4d91daa699",
        "trusted": true
      },
      "outputs": [
        {
          "name": "stdout",
          "output_type": "stream",
          "text": [
            "\n",
            "Class Name :  non-hate\n",
            "Number of Comments:2061\n",
            "Number of Words:21565\n",
            "Number of Unique Words:9652\n",
            "Most Frequent Words:\n",
            "\n",
            "చాలా\t149\n",
            "lo\t131\n",
            "anna\t121\n",
            "ఈ\t118\n",
            "సూపర్\t105\n",
            "ki\t104\n",
            "గారు\t104\n",
            "అన్న\t93\n",
            "sir\t92\n",
            "ga\t89\n",
            "\n",
            "Class Name :  hate\n",
            "Number of Comments:1939\n",
            "Number of Words:18251\n",
            "Number of Unique Words:9178\n",
            "Most Frequent Words:\n",
            "\n",
            "ra\t142\n",
            "ki\t127\n",
            "ni\t126\n",
            "lo\t120\n",
            "ga\t79\n",
            "oka\t76\n",
            "na\t58\n",
            "kuda\t51\n",
            "nuvvu\t50\n",
            "నువ్వు\t50\n",
            "Total Number of Unique Words:16421\n"
          ]
        }
      ],
      "source": [
        "dataset = train_df.filter(['cleanText','Label'])\n",
        "def data_summary(dataset):\n",
        "\n",
        "    \"\"\"\n",
        "        Comments: Comments per class\n",
        "        words:  words per class\n",
        "        u_words: unique words per class\n",
        "    \"\"\"\n",
        "    Comments = []\n",
        "    words = []\n",
        "    u_words = []\n",
        "    total_u_words = [word.strip().lower() for t in list(dataset.cleanText) for word in t.strip().split()]\n",
        "    class_label= [k for k,v in dataset.Label.value_counts().to_dict().items()]\n",
        "  # find word list\n",
        "    for label in class_label:\n",
        "        word_list = [word.strip().lower() for t in list(dataset[dataset.Label==label].cleanText) for word in t.strip().split()]\n",
        "        counts = dict()\n",
        "        for word in word_list:\n",
        "                counts[word] = counts.get(word, 0)+1\n",
        "        # sort the dictionary of word list\n",
        "        ordered = sorted(counts.items(), key= lambda item: item[1],reverse = True)\n",
        "        # Documents per class\n",
        "        Comments.append(len(list(dataset[dataset.Label == label].cleanText)))\n",
        "        # Total Word per class\n",
        "        words.append(len(word_list))\n",
        "        # Unique words per class\n",
        "        u_words.append(len(np.unique(word_list)))\n",
        "\n",
        "        print(\"\\nClass Name : \",label)\n",
        "        print(\"Number of Comments:{}\".format(len(list(dataset[dataset.Label==label].cleanText))))\n",
        "        print(\"Number of Words:{}\".format(len(word_list)))\n",
        "        print(\"Number of Unique Words:{}\".format(len(np.unique(word_list))))\n",
        "        print(\"Most Frequent Words:\\n\")\n",
        "        for k,v in ordered[:10]:\n",
        "              print(\"{}\\t{}\".format(k,v))\n",
        "    print(\"Total Number of Unique Words:{}\".format(len(np.unique(total_u_words))))\n",
        "\n",
        "    return Comments,words,u_words,class_label\n",
        "\n",
        "#call the fucntion\n",
        "Comments,words,u_words,class_names = data_summary(dataset)"
      ]
    },
    {
      "cell_type": "code",
      "execution_count": null,
      "metadata": {
        "colab": {
          "base_uri": "https://localhost:8080/"
        },
        "execution": {
          "iopub.execute_input": "2023-12-11T01:03:16.308039Z",
          "iopub.status.busy": "2023-12-11T01:03:16.307717Z",
          "iopub.status.idle": "2023-12-11T01:03:16.614130Z",
          "shell.execute_reply": "2023-12-11T01:03:16.613145Z",
          "shell.execute_reply.started": "2023-12-11T01:03:16.308011Z"
        },
        "id": "pVxlGUhp53-g",
        "outputId": "636221c2-7ffc-4914-878a-603d917ce923",
        "trusted": true
      },
      "outputs": [
        {
          "data": {
            "image/png": "[encoded data removed]",
            "text/plain": [
              "<Figure size 800x600 with 1 Axes>"
            ]
          },
          "metadata": {},
          "output_type": "display_data"
        }
      ],
      "source": [
        "data_matrix = pd.DataFrame({'Total Text':Comments,\n",
        "                            'Total Words':words,\n",
        "                            'Unique Words':u_words,\n",
        "                            'Class Names':class_names})\n",
        "df = pd.melt(data_matrix, id_vars=\"Class Names\", var_name=\"Category\", value_name=\"Values\")\n",
        "plt.figure(figsize=(8, 6))\n",
        "ax = plt.subplot()\n",
        "\n",
        "sns.barplot(data=df,x='Class Names', y='Values' ,hue='Category')\n",
        "ax.set_xlabel('Class Names')\n",
        "ax.set_title('Data Statistics')\n",
        "\n",
        "ax.xaxis.set_ticklabels(class_names, rotation=45);"
      ]
    },
    {
      "cell_type": "code",
      "execution_count": null,
      "metadata": {
        "colab": {
          "base_uri": "https://localhost:8080/"
        },
        "execution": {
          "iopub.execute_input": "2023-12-11T01:03:16.615787Z",
          "iopub.status.busy": "2023-12-11T01:03:16.615428Z",
          "iopub.status.idle": "2023-12-11T01:03:16.916700Z",
          "shell.execute_reply": "2023-12-11T01:03:16.915787Z",
          "shell.execute_reply.started": "2023-12-11T01:03:16.615753Z"
        },
        "id": "0a9u3m2j53-h",
        "outputId": "38713240-14fa-45a6-d17d-6c34c7fb4e7e",
        "trusted": true
      },
      "outputs": [
        {
          "data": {
            "image/png": "[encoded data removed]",
            "text/plain": [
              "<Figure size 640x480 with 1 Axes>"
            ]
          },
          "metadata": {},
          "output_type": "display_data"
        },
        {
          "name": "stdout",
          "output_type": "stream",
          "text": [
            "Maximum Length of a Comment: 71\n",
            "Minimum Length of a Comment: 0\n",
            "Average Length of a Comment: 10.0\n"
          ]
        }
      ],
      "source": [
        "train_df['Comment_length'] = train_df.cleanText.apply(lambda x:len(x.split()))\n",
        "frequency = dict()\n",
        "for i in train_df.Comment_length:\n",
        "    frequency[i] = frequency.get(i, 0)+1\n",
        "\n",
        "plt.bar(frequency.keys(), frequency.values(), color =\"b\")\n",
        "plt.xlim(1, 50)\n",
        "# in this notbook color is not working but it should work.\n",
        "plt.xlabel('Length of the Text')\n",
        "plt.ylabel('Frequency')\n",
        "plt.title('Length-Frequency Distribution')\n",
        "plt.show()\n",
        "print(f\"Maximum Length of a Comment: {max(train_df.Comment_length)}\")\n",
        "print(f\"Minimum Length of a Comment: {min(train_df.Comment_length)}\")\n",
        "print(f\"Average Length of a Comment: {round(np.mean(train_df.Comment_length),0)}\")"
      ]
    },
    {
      "cell_type": "code",
      "execution_count": null,
      "metadata": {
        "colab": {
          "base_uri": "https://localhost:8080/"
        },
        "execution": {
          "iopub.execute_input": "2023-12-11T01:03:16.919823Z",
          "iopub.status.busy": "2023-12-11T01:03:16.919534Z",
          "iopub.status.idle": "2023-12-11T01:03:16.926884Z",
          "shell.execute_reply": "2023-12-11T01:03:16.925936Z",
          "shell.execute_reply.started": "2023-12-11T01:03:16.919797Z"
        },
        "id": "HnYvqqdn53-i",
        "outputId": "7d1c0c6c-852d-4f0e-bcb7-4be6bf1391e6",
        "trusted": true
      },
      "outputs": [
        {
          "data": {
            "text/plain": [
              "(22, 6)"
            ]
          },
          "execution_count": 55,
          "metadata": {},
          "output_type": "execute_result"
        }
      ],
      "source": [
        "train_df.loc[train_df['Comment_length'] > 40].shape"
      ]
    },
    {
      "cell_type": "code",
      "execution_count": null,
      "metadata": {
        "colab": {
          "base_uri": "https://localhost:8080/"
        },
        "execution": {
          "iopub.execute_input": "2023-12-11T01:03:16.928224Z",
          "iopub.status.busy": "2023-12-11T01:03:16.927937Z",
          "iopub.status.idle": "2023-12-11T01:03:17.163432Z",
          "shell.execute_reply": "2023-12-11T01:03:17.162507Z",
          "shell.execute_reply.started": "2023-12-11T01:03:16.928180Z"
        },
        "id": "DVoR08rm53-i",
        "outputId": "d6f9becb-bdf4-49d8-f232-9e1d10317a31",
        "trusted": true
      },
      "outputs": [
        {
          "data": {
            "image/png": "[encoded data removed]",
            "text/plain": [
              "<Figure size 640x480 with 1 Axes>"
            ]
          },
          "metadata": {},
          "output_type": "display_data"
        },
        {
          "name": "stdout",
          "output_type": "stream",
          "text": [
            "Maximum Length of a Comment: 18\n",
            "Minimum Length of a Comment: 0\n",
            "Average Length of a Comment: 7.0\n"
          ]
        }
      ],
      "source": [
        "test_with_label['Comment_length'] = test_with_label.text.apply(lambda x:len(x.split()))\n",
        "frequency = dict()\n",
        "for i in test_with_label.Comment_length:\n",
        "    frequency[i] = frequency.get(i, 0)+1\n",
        "\n",
        "plt.bar(frequency.keys(), frequency.values(), color =\"b\")\n",
        "plt.xlim(1, 50)\n",
        "# in this notbook color is not working but it should work.\n",
        "plt.xlabel('Length of the Comment')\n",
        "plt.ylabel('Frequency')\n",
        "plt.title('Length-Frequency Distribution')\n",
        "plt.show()\n",
        "print(f\"Maximum Length of a Comment: {max(test_with_label.Comment_length)}\")\n",
        "print(f\"Minimum Length of a Comment: {min(test_with_label.Comment_length)}\")\n",
        "print(f\"Average Length of a Comment: {round(np.mean(test_with_label.Comment_length),0)}\")"
      ]
    },
    {
      "cell_type": "markdown",
      "metadata": {
        "id": "glhzaDgnxnKm"
      },
      "source": [
        "# Splitting Dataset for Validation"
      ]
    },
    {
      "cell_type": "code",
      "execution_count": 14,
      "metadata": {
        "execution": {
          "iopub.execute_input": "2023-12-11T01:03:17.164930Z",
          "iopub.status.busy": "2023-12-11T01:03:17.164641Z",
          "iopub.status.idle": "2023-12-11T01:03:17.174400Z",
          "shell.execute_reply": "2023-12-11T01:03:17.173442Z",
          "shell.execute_reply.started": "2023-12-11T01:03:17.164905Z"
        },
        "id": "Xsl0FYYwxqBX",
        "trusted": true
      },
      "outputs": [],
      "source": [
        "from sklearn.model_selection import train_test_split\n",
        "Xx_train, Xx_valid, yy_train, yy_valid = train_test_split(train_df['cleanText'], train_df['enc_label'], test_size=0.15, random_state=42, stratify = train_df['enc_label'])"
      ]
    },
    {
      "cell_type": "code",
      "execution_count": 15,
      "metadata": {
        "execution": {
          "iopub.execute_input": "2023-12-11T01:03:20.494115Z",
          "iopub.status.busy": "2023-12-11T01:03:20.493153Z",
          "iopub.status.idle": "2023-12-11T01:03:20.499552Z",
          "shell.execute_reply": "2023-12-11T01:03:20.498626Z",
          "shell.execute_reply.started": "2023-12-11T01:03:20.494083Z"
        },
        "id": "LqbTPRK1xtoY",
        "trusted": true
      },
      "outputs": [],
      "source": [
        "X_train = Xx_train.tolist()\n",
        "y_train = yy_train.tolist()\n",
        "\n",
        "X_valid = Xx_valid.tolist()\n",
        "y_valid = yy_valid.tolist()\n",
        "\n",
        "X_test = test_with_label['text'].tolist()\n",
        "y_data_with_label = test_with_label['enc_label'].tolist()"
      ]
    },
    {
      "cell_type": "markdown",
      "metadata": {
        "id": "f_6NB5_6wPbb"
      },
      "source": [
        "# ML Models"
      ]
    },
    {
      "cell_type": "markdown",
      "metadata": {
        "id": "yqTGmilMByk5"
      },
      "source": [
        "## Random Forest"
      ]
    },
    {
      "cell_type": "code",
      "execution_count": null,
      "metadata": {
        "execution": {
          "iopub.execute_input": "2023-12-06T03:46:14.808215Z",
          "iopub.status.busy": "2023-12-06T03:46:14.807276Z",
          "iopub.status.idle": "2023-12-06T03:46:53.170042Z",
          "shell.execute_reply": "2023-12-06T03:46:53.168877Z",
          "shell.execute_reply.started": "2023-12-06T03:46:14.808177Z"
        },
        "id": "bQxLoeHxBxm_",
        "trusted": true
      },
      "outputs": [],
      "source": [
        "from sklearn.ensemble import RandomForestClassifier\n",
        "from sklearn.metrics import accuracy_score, classification_report\n",
        "\n",
        "\n",
        "#TF-IDF\n",
        "tfidf = TfidfVectorizer()\n",
        "X_train_tfidf = tfidf.fit_transform(X_train)\n",
        "X_val_tfidf = tfidf.transform(X_valid)\n",
        "X_test_tfidf = tfidf.transform(X_test)\n",
        "\n",
        "# Example: Training individual models\n",
        "model_rf = RandomForestClassifier(n_estimators=1000)  #use class_weight='balanced'\n",
        "model_rf.fit(X_train_tfidf, y_train)\n",
        "\n",
        "# Predict on the test set\n",
        "\n",
        "# Evaluation"
      ]
    },
    {
      "cell_type": "code",
      "execution_count": null,
      "metadata": {
        "colab": {
          "base_uri": "https://localhost:8080/"
        },
        "id": "zSup3M0b2H7T",
        "outputId": "350f1a53-1e48-4490-d228-8653bd610e2e"
      },
      "outputs": [
        {
          "name": "stdout",
          "output_type": "stream",
          "text": [
            "Accuracy: 0.5731462925851704\n",
            "\n",
            "Classification Report:\n",
            "\n",
            "              precision    recall  f1-score   support\n",
            "\n",
            "\n",
            "\n",
            "           0       0.56      0.70      0.62       249\n",
            "\n",
            "           1       0.60      0.44      0.51       250\n",
            "\n",
            "\n",
            "\n",
            "    accuracy                           0.57       499\n",
            "\n",
            "   macro avg       0.58      0.57      0.57       499\n",
            "\n",
            "weighted avg       0.58      0.57      0.57       499\n",
            "\n",
            "\n"
          ]
        }
      ],
      "source": [
        "y_pred = model_rf.predict(X_test_tfidf)\n",
        "accuracy = accuracy_score(y_data_with_label, y_pred)\n",
        "report = classification_report(y_data_with_label, y_pred)\n",
        "\n",
        "print(f\"Accuracy: {accuracy}\")\n",
        "print(\"Classification Report:\")\n",
        "print(report)             #estimator 1000--> 0.58      0.57      0.57"
      ]
    },
    {
      "cell_type": "markdown",
      "metadata": {
        "id": "NPOel-Y-2rFn"
      },
      "source": [
        "## LR"
      ]
    },
    {
      "cell_type": "code",
      "execution_count": null,
      "metadata": {
        "colab": {
          "base_uri": "https://localhost:8080/",
          "height": 75
        },
        "id": "Ih8U_AOLzuYK",
        "outputId": "d268b1ff-3a82-4d06-8695-84fa3b7b86c0"
      },
      "outputs": [
        {
          "data": {
            "text/html": [
              "<style>#sk-container-id-3 {color: black;background-color: white;}#sk-container-id-3 pre{padding: 0;}#sk-container-id-3 div.sk-toggleable {background-color: white;}#sk-container-id-3 label.sk-toggleable__label {cursor: pointer;display: block;width: 100%;margin-bottom: 0;padding: 0.3em;box-sizing: border-box;text-align: center;}#sk-container-id-3 label.sk-toggleable__label-arrow:before {content: \"▸\";float: left;margin-right: 0.25em;color: #696969;}#sk-container-id-3 label.sk-toggleable__label-arrow:hover:before {color: black;}#sk-container-id-3 div.sk-estimator:hover label.sk-toggleable__label-arrow:before {color: black;}#sk-container-id-3 div.sk-toggleable__content {max-height: 0;max-width: 0;overflow: hidden;text-align: left;background-color: #f0f8ff;}#sk-container-id-3 div.sk-toggleable__content pre {margin: 0.2em;color: black;border-radius: 0.25em;background-color: #f0f8ff;}#sk-container-id-3 input.sk-toggleable__control:checked~div.sk-toggleable__content {max-height: 200px;max-width: 100%;overflow: auto;}#sk-container-id-3 input.sk-toggleable__control:checked~label.sk-toggleable__label-arrow:before {content: \"▾\";}#sk-container-id-3 div.sk-estimator input.sk-toggleable__control:checked~label.sk-toggleable__label {background-color: #d4ebff;}#sk-container-id-3 div.sk-label input.sk-toggleable__control:checked~label.sk-toggleable__label {background-color: #d4ebff;}#sk-container-id-3 input.sk-hidden--visually {border: 0;clip: rect(1px 1px 1px 1px);clip: rect(1px, 1px, 1px, 1px);height: 1px;margin: -1px;overflow: hidden;padding: 0;position: absolute;width: 1px;}#sk-container-id-3 div.sk-estimator {font-family: monospace;background-color: #f0f8ff;border: 1px dotted black;border-radius: 0.25em;box-sizing: border-box;margin-bottom: 0.5em;}#sk-container-id-3 div.sk-estimator:hover {background-color: #d4ebff;}#sk-container-id-3 div.sk-parallel-item::after {content: \"\";width: 100%;border-bottom: 1px solid gray;flex-grow: 1;}#sk-container-id-3 div.sk-label:hover label.sk-toggleable__label {background-color: #d4ebff;}#sk-container-id-3 div.sk-serial::before {content: \"\";position: absolute;border-left: 1px solid gray;box-sizing: border-box;top: 0;bottom: 0;left: 50%;z-index: 0;}#sk-container-id-3 div.sk-serial {display: flex;flex-direction: column;align-items: center;background-color: white;padding-right: 0.2em;padding-left: 0.2em;position: relative;}#sk-container-id-3 div.sk-item {position: relative;z-index: 1;}#sk-container-id-3 div.sk-parallel {display: flex;align-items: stretch;justify-content: center;background-color: white;position: relative;}#sk-container-id-3 div.sk-item::before, #sk-container-id-3 div.sk-parallel-item::before {content: \"\";position: absolute;border-left: 1px solid gray;box-sizing: border-box;top: 0;bottom: 0;left: 50%;z-index: -1;}#sk-container-id-3 div.sk-parallel-item {display: flex;flex-direction: column;z-index: 1;position: relative;background-color: white;}#sk-container-id-3 div.sk-parallel-item:first-child::after {align-self: flex-end;width: 50%;}#sk-container-id-3 div.sk-parallel-item:last-child::after {align-self: flex-start;width: 50%;}#sk-container-id-3 div.sk-parallel-item:only-child::after {width: 0;}#sk-container-id-3 div.sk-dashed-wrapped {border: 1px dashed gray;margin: 0 0.4em 0.5em 0.4em;box-sizing: border-box;padding-bottom: 0.4em;background-color: white;}#sk-container-id-3 div.sk-label label {font-family: monospace;font-weight: bold;display: inline-block;line-height: 1.2em;}#sk-container-id-3 div.sk-label-container {text-align: center;}#sk-container-id-3 div.sk-container {/* jupyter's `normalize.less` sets `[hidden] { display: none; }` but bootstrap.min.css set `[hidden] { display: none !important; }` so we also need the `!important` here to be able to override the default hidden behavior on the sphinx rendered scikit-learn.org. See: https://github.com/scikit-learn/scikit-learn/issues/21755 */display: inline-block !important;position: relative;}#sk-container-id-3 div.sk-text-repr-fallback {display: none;}</style><div id=\"sk-container-id-3\" class=\"sk-top-container\"><div class=\"sk-text-repr-fallback\"><pre>LogisticRegression(C=1, solver=&#x27;liblinear&#x27;)</pre><b>In a Jupyter environment, please rerun this cell to show the HTML representation or trust the notebook. <br />On GitHub, the HTML representation is unable to render, please try loading this page with nbviewer.org.</b></div><div class=\"sk-container\" hidden><div class=\"sk-item\"><div class=\"sk-estimator sk-toggleable\"><input class=\"sk-toggleable__control sk-hidden--visually\" id=\"sk-estimator-id-7\" type=\"checkbox\" checked><label for=\"sk-estimator-id-7\" class=\"sk-toggleable__label sk-toggleable__label-arrow\">LogisticRegression</label><div class=\"sk-toggleable__content\"><pre>LogisticRegression(C=1, solver=&#x27;liblinear&#x27;)</pre></div></div></div></div></div>"
            ],
            "text/plain": [
              "LogisticRegression(C=1, solver='liblinear')"
            ]
          },
          "execution_count": 47,
          "metadata": {},
          "output_type": "execute_result"
        }
      ],
      "source": [
        "from sklearn.linear_model import LogisticRegression\n",
        "\n",
        "# Logistic Regression\n",
        "model_lr = LogisticRegression(solver='liblinear', C=1)\n",
        "model_lr.fit(X_train_tfidf, y_train)"
      ]
    },
    {
      "cell_type": "code",
      "execution_count": null,
      "metadata": {
        "colab": {
          "base_uri": "https://localhost:8080/"
        },
        "id": "O2ATLN3k25MI",
        "outputId": "60e54c4e-7649-411f-b5b1-dd3ac26a25d5"
      },
      "outputs": [
        {
          "name": "stdout",
          "output_type": "stream",
          "text": [
            "Logistic Regression Accuracy: 0.6332665330661322\n",
            "\n",
            "Classification Report for Logistic Regression:\n",
            "\n",
            "               precision    recall  f1-score   support\n",
            "\n",
            "\n",
            "\n",
            "           0       0.63      0.63      0.63       249\n",
            "\n",
            "           1       0.63      0.64      0.64       250\n",
            "\n",
            "\n",
            "\n",
            "    accuracy                           0.63       499\n",
            "\n",
            "   macro avg       0.63      0.63      0.63       499\n",
            "\n",
            "weighted avg       0.63      0.63      0.63       499\n",
            "\n",
            "\n"
          ]
        }
      ],
      "source": [
        "# Predict on the test set\n",
        "y_pred_lr = model_lr.predict(X_test_tfidf)\n",
        "\n",
        "# Evaluation\n",
        "accuracy_lr = accuracy_score(y_data_with_label, y_pred_lr)\n",
        "classification_report_lr = classification_report(y_data_with_label, y_pred_lr)\n",
        "\n",
        "print(f'Logistic Regression Accuracy: {accuracy_lr}')\n",
        "print('Classification Report for Logistic Regression:\\n', classification_report_lr) # 0.63      0.63      0.63"
      ]
    },
    {
      "cell_type": "markdown",
      "metadata": {
        "id": "n4B05o7r0dzf"
      },
      "source": [
        "## SVM"
      ]
    },
    {
      "cell_type": "code",
      "execution_count": null,
      "metadata": {
        "colab": {
          "base_uri": "https://localhost:8080/"
        },
        "id": "QV368gkj0f9n",
        "outputId": "738f9e7b-d0ea-44c7-fe84-86c2198cbd0e"
      },
      "outputs": [
        {
          "name": "stdout",
          "output_type": "stream",
          "text": [
            "SVM Accuracy: 0.6492985971943888\n",
            "\n",
            "Classification Report for SVM:\n",
            "\n",
            "               precision    recall  f1-score   support\n",
            "\n",
            "\n",
            "\n",
            "           0       0.64      0.67      0.65       249\n",
            "\n",
            "           1       0.66      0.63      0.64       250\n",
            "\n",
            "\n",
            "\n",
            "    accuracy                           0.65       499\n",
            "\n",
            "   macro avg       0.65      0.65      0.65       499\n",
            "\n",
            "weighted avg       0.65      0.65      0.65       499\n",
            "\n",
            "\n"
          ]
        }
      ],
      "source": [
        "from sklearn.svm import SVC\n",
        "from sklearn.metrics import accuracy_score, classification_report\n",
        "\n",
        "# Support Vector Machine (SVM)\n",
        "model_svm = SVC(C=1, class_weight='balanced', kernel='linear')\n",
        "model_svm.fit(X_train_tfidf, y_train)\n",
        "\n",
        "# Predict on the test set\n",
        "y_pred_svm = model_svm.predict(X_test_tfidf)\n",
        "\n",
        "# Evaluation\n",
        "accuracy_svm = accuracy_score(y_data_with_label, y_pred_svm)\n",
        "classification_report_svm = classification_report(y_data_with_label, y_pred_svm)\n",
        "\n",
        "print(f'SVM Accuracy: {accuracy_svm}')\n",
        "print('Classification Report for SVM:\\n', classification_report_svm) # 0.65      0.65      0.65"
      ]
    },
    {
      "cell_type": "markdown",
      "metadata": {
        "id": "xqAuQsJjMm25"
      },
      "source": [
        "## Ensemble Majority Voting"
      ]
    },
    {
      "cell_type": "code",
      "execution_count": null,
      "metadata": {
        "colab": {
          "base_uri": "https://localhost:8080/",
          "height": 75
        },
        "execution": {
          "iopub.execute_input": "2023-12-04T01:41:50.095429Z",
          "iopub.status.busy": "2023-12-04T01:41:50.095147Z",
          "iopub.status.idle": "2023-12-04T01:42:24.226349Z",
          "shell.execute_reply": "2023-12-04T01:42:24.225474Z",
          "shell.execute_reply.started": "2023-12-04T01:41:50.095406Z"
        },
        "id": "jCyZUA9sLiR3",
        "outputId": "83561afb-2491-4a8e-f727-efabc15dd82d",
        "trusted": true
      },
      "outputs": [
        {
          "data": {
            "text/html": [
              "<style>#sk-container-id-4 {color: black;background-color: white;}#sk-container-id-4 pre{padding: 0;}#sk-container-id-4 div.sk-toggleable {background-color: white;}#sk-container-id-4 label.sk-toggleable__label {cursor: pointer;display: block;width: 100%;margin-bottom: 0;padding: 0.3em;box-sizing: border-box;text-align: center;}#sk-container-id-4 label.sk-toggleable__label-arrow:before {content: \"▸\";float: left;margin-right: 0.25em;color: #696969;}#sk-container-id-4 label.sk-toggleable__label-arrow:hover:before {color: black;}#sk-container-id-4 div.sk-estimator:hover label.sk-toggleable__label-arrow:before {color: black;}#sk-container-id-4 div.sk-toggleable__content {max-height: 0;max-width: 0;overflow: hidden;text-align: left;background-color: #f0f8ff;}#sk-container-id-4 div.sk-toggleable__content pre {margin: 0.2em;color: black;border-radius: 0.25em;background-color: #f0f8ff;}#sk-container-id-4 input.sk-toggleable__control:checked~div.sk-toggleable__content {max-height: 200px;max-width: 100%;overflow: auto;}#sk-container-id-4 input.sk-toggleable__control:checked~label.sk-toggleable__label-arrow:before {content: \"▾\";}#sk-container-id-4 div.sk-estimator input.sk-toggleable__control:checked~label.sk-toggleable__label {background-color: #d4ebff;}#sk-container-id-4 div.sk-label input.sk-toggleable__control:checked~label.sk-toggleable__label {background-color: #d4ebff;}#sk-container-id-4 input.sk-hidden--visually {border: 0;clip: rect(1px 1px 1px 1px);clip: rect(1px, 1px, 1px, 1px);height: 1px;margin: -1px;overflow: hidden;padding: 0;position: absolute;width: 1px;}#sk-container-id-4 div.sk-estimator {font-family: monospace;background-color: #f0f8ff;border: 1px dotted black;border-radius: 0.25em;box-sizing: border-box;margin-bottom: 0.5em;}#sk-container-id-4 div.sk-estimator:hover {background-color: #d4ebff;}#sk-container-id-4 div.sk-parallel-item::after {content: \"\";width: 100%;border-bottom: 1px solid gray;flex-grow: 1;}#sk-container-id-4 div.sk-label:hover label.sk-toggleable__label {background-color: #d4ebff;}#sk-container-id-4 div.sk-serial::before {content: \"\";position: absolute;border-left: 1px solid gray;box-sizing: border-box;top: 0;bottom: 0;left: 50%;z-index: 0;}#sk-container-id-4 div.sk-serial {display: flex;flex-direction: column;align-items: center;background-color: white;padding-right: 0.2em;padding-left: 0.2em;position: relative;}#sk-container-id-4 div.sk-item {position: relative;z-index: 1;}#sk-container-id-4 div.sk-parallel {display: flex;align-items: stretch;justify-content: center;background-color: white;position: relative;}#sk-container-id-4 div.sk-item::before, #sk-container-id-4 div.sk-parallel-item::before {content: \"\";position: absolute;border-left: 1px solid gray;box-sizing: border-box;top: 0;bottom: 0;left: 50%;z-index: -1;}#sk-container-id-4 div.sk-parallel-item {display: flex;flex-direction: column;z-index: 1;position: relative;background-color: white;}#sk-container-id-4 div.sk-parallel-item:first-child::after {align-self: flex-end;width: 50%;}#sk-container-id-4 div.sk-parallel-item:last-child::after {align-self: flex-start;width: 50%;}#sk-container-id-4 div.sk-parallel-item:only-child::after {width: 0;}#sk-container-id-4 div.sk-dashed-wrapped {border: 1px dashed gray;margin: 0 0.4em 0.5em 0.4em;box-sizing: border-box;padding-bottom: 0.4em;background-color: white;}#sk-container-id-4 div.sk-label label {font-family: monospace;font-weight: bold;display: inline-block;line-height: 1.2em;}#sk-container-id-4 div.sk-label-container {text-align: center;}#sk-container-id-4 div.sk-container {/* jupyter's `normalize.less` sets `[hidden] { display: none; }` but bootstrap.min.css set `[hidden] { display: none !important; }` so we also need the `!important` here to be able to override the default hidden behavior on the sphinx rendered scikit-learn.org. See: https://github.com/scikit-learn/scikit-learn/issues/21755 */display: inline-block !important;position: relative;}#sk-container-id-4 div.sk-text-repr-fallback {display: none;}</style><div id=\"sk-container-id-4\" class=\"sk-top-container\"><div class=\"sk-text-repr-fallback\"><pre>DecisionTreeClassifier()</pre><b>In a Jupyter environment, please rerun this cell to show the HTML representation or trust the notebook. <br />On GitHub, the HTML representation is unable to render, please try loading this page with nbviewer.org.</b></div><div class=\"sk-container\" hidden><div class=\"sk-item\"><div class=\"sk-estimator sk-toggleable\"><input class=\"sk-toggleable__control sk-hidden--visually\" id=\"sk-estimator-id-8\" type=\"checkbox\" checked><label for=\"sk-estimator-id-8\" class=\"sk-toggleable__label sk-toggleable__label-arrow\">DecisionTreeClassifier</label><div class=\"sk-toggleable__content\"><pre>DecisionTreeClassifier()</pre></div></div></div></div></div>"
            ],
            "text/plain": [
              "DecisionTreeClassifier()"
            ]
          },
          "execution_count": 50,
          "metadata": {},
          "output_type": "execute_result"
        }
      ],
      "source": [
        "from sklearn.ensemble import RandomForestClassifier\n",
        "from sklearn.linear_model import LogisticRegression\n",
        "from sklearn.svm import SVC\n",
        "from sklearn.tree import DecisionTreeClassifier\n",
        "\n",
        "#TF-IDF\n",
        "tfidf = TfidfVectorizer()\n",
        "X_train_tfidf = tfidf.fit_transform(X_train)\n",
        "X_val_tfidf = tfidf.transform(X_valid)\n",
        "X_test_tfidf = tfidf.transform(X_test)\n",
        "\n",
        "# Example: Training individual models\n",
        "model_rf = RandomForestClassifier(n_estimators=1000)  #use class_weight='balanced' if classes are imbalanced\n",
        "model_rf.fit(X_train_tfidf, y_train)\n",
        "\n",
        "model_lr = LogisticRegression(C = 1, class_weight = 'balanced', penalty = 'l2', solver = 'newton-cg', max_iter=1000)\n",
        "model_lr.fit(X_train_tfidf, y_train)\n",
        "\n",
        "model_svm = SVC(kernel='linear', C = 1, class_weight = 'balanced')    #kernel='poly'  kernel='rbf'   kernel='sigmoid'\n",
        "model_svm.fit(X_train_tfidf, y_train)\n",
        "\n",
        "model_dt = DecisionTreeClassifier()\n",
        "model_dt.fit(X_train_tfidf, y_train)"
      ]
    },
    {
      "cell_type": "code",
      "execution_count": null,
      "metadata": {
        "colab": {
          "base_uri": "https://localhost:8080/",
          "height": 110
        },
        "execution": {
          "iopub.execute_input": "2023-12-04T01:42:24.227761Z",
          "iopub.status.busy": "2023-12-04T01:42:24.227493Z",
          "iopub.status.idle": "2023-12-04T01:42:58.698581Z",
          "shell.execute_reply": "2023-12-04T01:42:58.697669Z",
          "shell.execute_reply.started": "2023-12-04T01:42:24.227738Z"
        },
        "id": "KoE5Hu_fMy7W",
        "outputId": "2615effc-7d3f-438f-c8c0-c58c0eb30fe9",
        "trusted": true
      },
      "outputs": [
        {
          "data": {
            "text/html": [
              "<style>#sk-container-id-5 {color: black;background-color: white;}#sk-container-id-5 pre{padding: 0;}#sk-container-id-5 div.sk-toggleable {background-color: white;}#sk-container-id-5 label.sk-toggleable__label {cursor: pointer;display: block;width: 100%;margin-bottom: 0;padding: 0.3em;box-sizing: border-box;text-align: center;}#sk-container-id-5 label.sk-toggleable__label-arrow:before {content: \"▸\";float: left;margin-right: 0.25em;color: #696969;}#sk-container-id-5 label.sk-toggleable__label-arrow:hover:before {color: black;}#sk-container-id-5 div.sk-estimator:hover label.sk-toggleable__label-arrow:before {color: black;}#sk-container-id-5 div.sk-toggleable__content {max-height: 0;max-width: 0;overflow: hidden;text-align: left;background-color: #f0f8ff;}#sk-container-id-5 div.sk-toggleable__content pre {margin: 0.2em;color: black;border-radius: 0.25em;background-color: #f0f8ff;}#sk-container-id-5 input.sk-toggleable__control:checked~div.sk-toggleable__content {max-height: 200px;max-width: 100%;overflow: auto;}#sk-container-id-5 input.sk-toggleable__control:checked~label.sk-toggleable__label-arrow:before {content: \"▾\";}#sk-container-id-5 div.sk-estimator input.sk-toggleable__control:checked~label.sk-toggleable__label {background-color: #d4ebff;}#sk-container-id-5 div.sk-label input.sk-toggleable__control:checked~label.sk-toggleable__label {background-color: #d4ebff;}#sk-container-id-5 input.sk-hidden--visually {border: 0;clip: rect(1px 1px 1px 1px);clip: rect(1px, 1px, 1px, 1px);height: 1px;margin: -1px;overflow: hidden;padding: 0;position: absolute;width: 1px;}#sk-container-id-5 div.sk-estimator {font-family: monospace;background-color: #f0f8ff;border: 1px dotted black;border-radius: 0.25em;box-sizing: border-box;margin-bottom: 0.5em;}#sk-container-id-5 div.sk-estimator:hover {background-color: #d4ebff;}#sk-container-id-5 div.sk-parallel-item::after {content: \"\";width: 100%;border-bottom: 1px solid gray;flex-grow: 1;}#sk-container-id-5 div.sk-label:hover label.sk-toggleable__label {background-color: #d4ebff;}#sk-container-id-5 div.sk-serial::before {content: \"\";position: absolute;border-left: 1px solid gray;box-sizing: border-box;top: 0;bottom: 0;left: 50%;z-index: 0;}#sk-container-id-5 div.sk-serial {display: flex;flex-direction: column;align-items: center;background-color: white;padding-right: 0.2em;padding-left: 0.2em;position: relative;}#sk-container-id-5 div.sk-item {position: relative;z-index: 1;}#sk-container-id-5 div.sk-parallel {display: flex;align-items: stretch;justify-content: center;background-color: white;position: relative;}#sk-container-id-5 div.sk-item::before, #sk-container-id-5 div.sk-parallel-item::before {content: \"\";position: absolute;border-left: 1px solid gray;box-sizing: border-box;top: 0;bottom: 0;left: 50%;z-index: -1;}#sk-container-id-5 div.sk-parallel-item {display: flex;flex-direction: column;z-index: 1;position: relative;background-color: white;}#sk-container-id-5 div.sk-parallel-item:first-child::after {align-self: flex-end;width: 50%;}#sk-container-id-5 div.sk-parallel-item:last-child::after {align-self: flex-start;width: 50%;}#sk-container-id-5 div.sk-parallel-item:only-child::after {width: 0;}#sk-container-id-5 div.sk-dashed-wrapped {border: 1px dashed gray;margin: 0 0.4em 0.5em 0.4em;box-sizing: border-box;padding-bottom: 0.4em;background-color: white;}#sk-container-id-5 div.sk-label label {font-family: monospace;font-weight: bold;display: inline-block;line-height: 1.2em;}#sk-container-id-5 div.sk-label-container {text-align: center;}#sk-container-id-5 div.sk-container {/* jupyter's `normalize.less` sets `[hidden] { display: none; }` but bootstrap.min.css set `[hidden] { display: none !important; }` so we also need the `!important` here to be able to override the default hidden behavior on the sphinx rendered scikit-learn.org. See: https://github.com/scikit-learn/scikit-learn/issues/21755 */display: inline-block !important;position: relative;}#sk-container-id-5 div.sk-text-repr-fallback {display: none;}</style><div id=\"sk-container-id-5\" class=\"sk-top-container\"><div class=\"sk-text-repr-fallback\"><pre>VotingClassifier(estimators=[(&#x27;RandomForest&#x27;,\n",
              "                              RandomForestClassifier(n_estimators=1000)),\n",
              "                             (&#x27;LogisticRegression&#x27;,\n",
              "                              LogisticRegression(C=1, class_weight=&#x27;balanced&#x27;,\n",
              "                                                 max_iter=1000,\n",
              "                                                 solver=&#x27;newton-cg&#x27;)),\n",
              "                             (&#x27;SVM&#x27;,\n",
              "                              SVC(C=1, class_weight=&#x27;balanced&#x27;,\n",
              "                                  kernel=&#x27;linear&#x27;)),\n",
              "                             (&#x27;DecisionTree&#x27;, DecisionTreeClassifier())])</pre><b>In a Jupyter environment, please rerun this cell to show the HTML representation or trust the notebook. <br />On GitHub, the HTML representation is unable to render, please try loading this page with nbviewer.org.</b></div><div class=\"sk-container\" hidden><div class=\"sk-item sk-dashed-wrapped\"><div class=\"sk-label-container\"><div class=\"sk-label sk-toggleable\"><input class=\"sk-toggleable__control sk-hidden--visually\" id=\"sk-estimator-id-9\" type=\"checkbox\" ><label for=\"sk-estimator-id-9\" class=\"sk-toggleable__label sk-toggleable__label-arrow\">VotingClassifier</label><div class=\"sk-toggleable__content\"><pre>VotingClassifier(estimators=[(&#x27;RandomForest&#x27;,\n",
              "                              RandomForestClassifier(n_estimators=1000)),\n",
              "                             (&#x27;LogisticRegression&#x27;,\n",
              "                              LogisticRegression(C=1, class_weight=&#x27;balanced&#x27;,\n",
              "                                                 max_iter=1000,\n",
              "                                                 solver=&#x27;newton-cg&#x27;)),\n",
              "                             (&#x27;SVM&#x27;,\n",
              "                              SVC(C=1, class_weight=&#x27;balanced&#x27;,\n",
              "                                  kernel=&#x27;linear&#x27;)),\n",
              "                             (&#x27;DecisionTree&#x27;, DecisionTreeClassifier())])</pre></div></div></div><div class=\"sk-parallel\"><div class=\"sk-parallel-item\"><div class=\"sk-item\"><div class=\"sk-label-container\"><div class=\"sk-label sk-toggleable\"><label>RandomForest</label></div></div><div class=\"sk-serial\"><div class=\"sk-item\"><div class=\"sk-estimator sk-toggleable\"><input class=\"sk-toggleable__control sk-hidden--visually\" id=\"sk-estimator-id-10\" type=\"checkbox\" ><label for=\"sk-estimator-id-10\" class=\"sk-toggleable__label sk-toggleable__label-arrow\">RandomForestClassifier</label><div class=\"sk-toggleable__content\"><pre>RandomForestClassifier(n_estimators=1000)</pre></div></div></div></div></div></div><div class=\"sk-parallel-item\"><div class=\"sk-item\"><div class=\"sk-label-container\"><div class=\"sk-label sk-toggleable\"><label>LogisticRegression</label></div></div><div class=\"sk-serial\"><div class=\"sk-item\"><div class=\"sk-estimator sk-toggleable\"><input class=\"sk-toggleable__control sk-hidden--visually\" id=\"sk-estimator-id-11\" type=\"checkbox\" ><label for=\"sk-estimator-id-11\" class=\"sk-toggleable__label sk-toggleable__label-arrow\">LogisticRegression</label><div class=\"sk-toggleable__content\"><pre>LogisticRegression(C=1, class_weight=&#x27;balanced&#x27;, max_iter=1000,\n",
              "                   solver=&#x27;newton-cg&#x27;)</pre></div></div></div></div></div></div><div class=\"sk-parallel-item\"><div class=\"sk-item\"><div class=\"sk-label-container\"><div class=\"sk-label sk-toggleable\"><label>SVM</label></div></div><div class=\"sk-serial\"><div class=\"sk-item\"><div class=\"sk-estimator sk-toggleable\"><input class=\"sk-toggleable__control sk-hidden--visually\" id=\"sk-estimator-id-12\" type=\"checkbox\" ><label for=\"sk-estimator-id-12\" class=\"sk-toggleable__label sk-toggleable__label-arrow\">SVC</label><div class=\"sk-toggleable__content\"><pre>SVC(C=1, class_weight=&#x27;balanced&#x27;, kernel=&#x27;linear&#x27;)</pre></div></div></div></div></div></div><div class=\"sk-parallel-item\"><div class=\"sk-item\"><div class=\"sk-label-container\"><div class=\"sk-label sk-toggleable\"><label>DecisionTree</label></div></div><div class=\"sk-serial\"><div class=\"sk-item\"><div class=\"sk-estimator sk-toggleable\"><input class=\"sk-toggleable__control sk-hidden--visually\" id=\"sk-estimator-id-13\" type=\"checkbox\" ><label for=\"sk-estimator-id-13\" class=\"sk-toggleable__label sk-toggleable__label-arrow\">DecisionTreeClassifier</label><div class=\"sk-toggleable__content\"><pre>DecisionTreeClassifier()</pre></div></div></div></div></div></div></div></div></div></div>"
            ],
            "text/plain": [
              "VotingClassifier(estimators=[('RandomForest',\n",
              "                              RandomForestClassifier(n_estimators=1000)),\n",
              "                             ('LogisticRegression',\n",
              "                              LogisticRegression(C=1, class_weight='balanced',\n",
              "                                                 max_iter=1000,\n",
              "                                                 solver='newton-cg')),\n",
              "                             ('SVM',\n",
              "                              SVC(C=1, class_weight='balanced',\n",
              "                                  kernel='linear')),\n",
              "                             ('DecisionTree', DecisionTreeClassifier())])"
            ]
          },
          "execution_count": 51,
          "metadata": {},
          "output_type": "execute_result"
        }
      ],
      "source": [
        "from sklearn.ensemble import VotingClassifier\n",
        "\n",
        "# Create a list of tuples with model names and trained models\n",
        "models = [\n",
        "    ('RandomForest', model_rf),\n",
        "    ('LogisticRegression', model_lr),\n",
        "    ('SVM', model_svm),\n",
        "    ('DecisionTree', model_dt)\n",
        "]\n",
        "\n",
        "# Create an ensemble model using VotingClassifier\n",
        "ensemble_model = VotingClassifier(estimators=models, voting='hard') # 'hard' voting for majority class\n",
        "ensemble_model.fit(X_train_tfidf, y_train)\n"
      ]
    },
    {
      "cell_type": "code",
      "execution_count": null,
      "metadata": {
        "colab": {
          "base_uri": "https://localhost:8080/"
        },
        "id": "_-xp78GQ3-E1",
        "outputId": "657a6e23-3bc5-404d-baee-0dd3e9e7b85a"
      },
      "outputs": [
        {
          "name": "stdout",
          "output_type": "stream",
          "text": [
            "Accuracy: 0.5951903807615231\n",
            "\n",
            "Classification Report:\n",
            "\n",
            "              precision    recall  f1-score   support\n",
            "\n",
            "\n",
            "\n",
            "           0       0.57      0.73      0.64       249\n",
            "\n",
            "           1       0.63      0.46      0.53       250\n",
            "\n",
            "\n",
            "\n",
            "    accuracy                           0.60       499\n",
            "\n",
            "   macro avg       0.60      0.60      0.59       499\n",
            "\n",
            "weighted avg       0.60      0.60      0.59       499\n",
            "\n",
            "\n"
          ]
        }
      ],
      "source": [
        "from sklearn.metrics import accuracy_score, classification_report\n",
        "\n",
        "# Predictions\n",
        "y_pred = ensemble_model.predict(X_test_tfidf)\n",
        "accuracy = accuracy_score(y_data_with_label, y_pred)\n",
        "report = classification_report(y_data_with_label, y_pred)\n",
        "print(f\"Accuracy: {accuracy}\")\n",
        "print(\"Classification Report:\")\n",
        "print(report)"
      ]
    },
    {
      "cell_type": "markdown",
      "metadata": {
        "id": "6uGKlKfM53--"
      },
      "source": [
        "# Deep Learning\n"
      ]
    },
    {
      "cell_type": "markdown",
      "metadata": {
        "id": "kHo_4GOEf8Ln"
      },
      "source": [
        "## BiLSTM(Word2Vec)\n"
      ]
    },
    {
      "cell_type": "code",
      "execution_count": 92,
      "metadata": {
        "execution": {
          "iopub.execute_input": "2023-12-11T01:03:38.241675Z",
          "iopub.status.busy": "2023-12-11T01:03:38.241323Z",
          "iopub.status.idle": "2023-12-11T01:03:38.344702Z",
          "shell.execute_reply": "2023-12-11T01:03:38.343413Z",
          "shell.execute_reply.started": "2023-12-11T01:03:38.241646Z"
        },
        "id": "RABu7-nR53-_",
        "trusted": true
      },
      "outputs": [],
      "source": [
        "import tensorflow as tf\n",
        "from tensorflow import keras\n",
        "from tensorflow.keras.preprocessing.sequence import pad_sequences\n",
        "from tensorflow.keras.preprocessing.text import Tokenizer\n",
        "from tensorflow.keras import regularizers\n",
        "from tensorflow.keras.layers import LSTM,GRU\n",
        "from tensorflow.keras.models import load_model\n",
        "import numpy as np\n",
        "from tensorflow.keras.preprocessing.text import Tokenizer\n",
        "from tensorflow.keras.preprocessing.sequence import pad_sequences\n",
        "from tensorflow.keras.models import Sequential\n",
        "from tensorflow.keras.layers import Embedding, Bidirectional, LSTM, Flatten, Dense\n",
        "from gensim.models import Word2Vec\n",
        "import tensorflow as tf\n",
        "from sklearn.model_selection import train_test_split"
      ]
    },
    {
      "cell_type": "code",
      "execution_count": 93,
      "metadata": {
        "execution": {
          "iopub.execute_input": "2023-12-11T01:03:41.493170Z",
          "iopub.status.busy": "2023-12-11T01:03:41.492814Z",
          "iopub.status.idle": "2023-12-11T01:03:41.601180Z",
          "shell.execute_reply": "2023-12-11T01:03:41.600404Z",
          "shell.execute_reply.started": "2023-12-11T01:03:41.493140Z"
        },
        "id": "N5DgERI953-_",
        "trusted": true
      },
      "outputs": [],
      "source": [
        "tokenizer = Tokenizer(num_words = 20000,filters='!\"#$%&()*+,-./:;<=>?@[\\\\]^_`{|}~\\t\\n-',\n",
        "                      split=' ', char_level=False, oov_token='<oov>', document_count=0)     #tokenization\n",
        "tokenizer.fit_on_texts(train_df['cleanText'])\n",
        "word_index = tokenizer.word_index\n",
        "vocab_size = len(word_index)+1"
      ]
    },
    {
      "cell_type": "code",
      "execution_count": 94,
      "metadata": {
        "colab": {
          "base_uri": "https://localhost:8080/"
        },
        "execution": {
          "iopub.execute_input": "2023-12-11T01:03:43.618258Z",
          "iopub.status.busy": "2023-12-11T01:03:43.617395Z",
          "iopub.status.idle": "2023-12-11T01:03:43.622964Z",
          "shell.execute_reply": "2023-12-11T01:03:43.621935Z",
          "shell.execute_reply.started": "2023-12-11T01:03:43.618224Z"
        },
        "id": "zYTLerKd53_A",
        "outputId": "5f3d8d4a-6fc6-45aa-a1a7-8c677bfceab7",
        "trusted": true
      },
      "outputs": [
        {
          "name": "stdout",
          "output_type": "stream",
          "text": [
            "15151\n"
          ]
        }
      ],
      "source": [
        "print(vocab_size)"
      ]
    },
    {
      "cell_type": "code",
      "execution_count": 95,
      "metadata": {
        "colab": {
          "base_uri": "https://localhost:8080/"
        },
        "id": "Pr4tvf7IS6kn",
        "outputId": "9eb85d2b-bb55-4145-f692-951cde593ccc"
      },
      "outputs": [
        {
          "name": "stderr",
          "output_type": "stream",
          "text": [
            "WARNING:gensim.models.word2vec:Each 'sentences' item should be a list of words (usually unicode strings). First item here is instead plain <class 'str'>.\n"
          ]
        }
      ],
      "source": [
        "word2vec_model = Word2Vec(sentences=train_df['cleanText'], vector_size=300, window=5, min_count=1, workers=4)\n",
        "embedding_matrix = np.zeros((vocab_size, 300))\n",
        "\n",
        "for word, i in word_index.items():\n",
        "    if word in word2vec_model.wv:\n",
        "        embedding_matrix[i] = word2vec_model.wv[word]"
      ]
    },
    {
      "cell_type": "code",
      "execution_count": 96,
      "metadata": {
        "colab": {
          "base_uri": "https://localhost:8080/"
        },
        "execution": {
          "iopub.execute_input": "2023-12-11T01:03:46.119421Z",
          "iopub.status.busy": "2023-12-11T01:03:46.118991Z",
          "iopub.status.idle": "2023-12-11T01:03:46.227056Z",
          "shell.execute_reply": "2023-12-11T01:03:46.226073Z",
          "shell.execute_reply.started": "2023-12-11T01:03:46.119387Z"
        },
        "id": "MCEQWPte53_A",
        "outputId": "abc6eb5a-3c1b-47f2-b421-ef2c920d8612",
        "trusted": true
      },
      "outputs": [
        {
          "name": "stdout",
          "output_type": "stream",
          "text": [
            "15150\n",
            "Number of Training Sequences : (4000, 100)\n",
            "Number of test Sequences : (500, 100)\n"
          ]
        }
      ],
      "source": [
        "max_len = 100\n",
        "# Training Sequences\n",
        "train_sequences = tokenizer.texts_to_sequences(train_df['cleanText'])\n",
        "print(len(tokenizer.word_index))\n",
        "train_pad_sequences =  pad_sequences(train_sequences, value=0.0, padding='post', maxlen= max_len)\n",
        "print(\"Number of Training Sequences :\" ,train_pad_sequences.shape)\n",
        "\n",
        "# # Validation Sequences\n",
        "# validation_sequences = tokenizer.texts_to_sequences(X_valid)\n",
        "# validation_pad_sequences =  pad_sequences(validation_sequences, value=0.0, padding='post', maxlen= max_len)\n",
        "# print(\"Number of Validation Sequences :\" ,validation_pad_sequences.shape)\n",
        "\n",
        "# Validation Sequences\n",
        "test_sequences = tokenizer.texts_to_sequences(X_test)\n",
        "test_pad_sequences =  pad_sequences(test_sequences, value=0.0, padding='post', maxlen= max_len)\n",
        "print(\"Number of test Sequences :\" ,test_pad_sequences.shape)"
      ]
    },
    {
      "cell_type": "code",
      "execution_count": 98,
      "metadata": {
        "colab": {
          "base_uri": "https://localhost:8080/"
        },
        "execution": {
          "iopub.execute_input": "2023-12-11T01:04:33.590654Z",
          "iopub.status.busy": "2023-12-11T01:04:33.589985Z",
          "iopub.status.idle": "2023-12-11T01:04:34.111490Z",
          "shell.execute_reply": "2023-12-11T01:04:34.110564Z",
          "shell.execute_reply.started": "2023-12-11T01:04:33.590620Z"
        },
        "id": "DP_aWEJZ53_B",
        "outputId": "84efc07f-5f5b-4d8c-9d3c-31b9e973722b",
        "trusted": true
      },
      "outputs": [
        {
          "name": "stdout",
          "output_type": "stream",
          "text": [
            "Model: \"sequential_12\"\n",
            "_________________________________________________________________\n",
            " Layer (type)                Output Shape              Param #   \n",
            "=================================================================\n",
            " embedding_13 (Embedding)    (None, 100, 300)          4545300   \n",
            "                                                                 \n",
            " bidirectional_9 (Bidirecti  (None, 100, 400)          801600    \n",
            " onal)                                                           \n",
            "                                                                 \n",
            " flatten_8 (Flatten)         (None, 40000)             0         \n",
            "                                                                 \n",
            " dense_12 (Dense)            (None, 1)                 40001     \n",
            "                                                                 \n",
            "=================================================================\n",
            "Total params: 5386901 (20.55 MB)\n",
            "Trainable params: 841601 (3.21 MB)\n",
            "Non-trainable params: 4545300 (17.34 MB)\n",
            "_________________________________________________________________\n"
          ]
        }
      ],
      "source": [
        "num_classes = 2            #### change class number\n",
        "\n",
        "accuracy_threshold = 0.99\n",
        "\n",
        "class myCallback(keras.callbacks.Callback):\n",
        "  def on_epoch_end(self, epoch, logs={}):\n",
        "      if(logs.get('accuracy')>accuracy_threshold):\n",
        "        print(\"\\nReached %2.2f%% accuracy so we will stop trianing\" % (accuracy_threshold*100))\n",
        "        self.model.stop_training = True\n",
        "\n",
        "acc_callback = myCallback()\n",
        "# Saved the Best Model\n",
        "filepath = \"/content/drive/MyDrive/Colab Notebooks/HOLD/\" + \"BiLSTM_One.h5\"\n",
        "checkpoint = keras.callbacks.ModelCheckpoint(filepath, monitor='val_accuracy', verbose=2, save_best_only=True,\n",
        "                                             save_weights_only=False, mode='max')\n",
        "# callback list\n",
        "callback_list = [acc_callback, checkpoint]\n",
        "\n",
        "model = Sequential([\n",
        "    Embedding(vocab_size, 300, weights=[embedding_matrix], input_length=max_len, trainable=False),\n",
        "    Bidirectional(LSTM(units=200, return_sequences=True, dropout=0.2)),\n",
        "    Flatten(),\n",
        "    Dense(1, activation='sigmoid')\n",
        "])\n",
        "\n",
        "model.summary()"
      ]
    },
    {
      "cell_type": "code",
      "execution_count": 100,
      "metadata": {
        "colab": {
          "base_uri": "https://localhost:8080/"
        },
        "execution": {
          "iopub.execute_input": "2023-12-11T01:05:26.583661Z",
          "iopub.status.busy": "2023-12-11T01:05:26.582823Z",
          "iopub.status.idle": "2023-12-11T01:06:26.203819Z",
          "shell.execute_reply": "2023-12-11T01:06:26.202882Z",
          "shell.execute_reply.started": "2023-12-11T01:05:26.583626Z"
        },
        "id": "wJ4Gh1ry53_C",
        "outputId": "f0437738-fabb-4eaa-b2d7-fbdc195f2a9c",
        "trusted": true
      },
      "outputs": [
        {
          "name": "stdout",
          "output_type": "stream",
          "text": [
            "Epoch 1/100\n",
            "124/125 [============================>.] - ETA: 0s - loss: 0.6901 - accuracy: 0.5098\n",
            "Epoch 1: val_accuracy improved from -inf to 0.51000, saving model to /content/drive/MyDrive/Colab Notebooks/HOLD/BiLSTM_One.h5\n",
            "125/125 [==============================] - 8s 25ms/step - loss: 0.6902 - accuracy: 0.5092 - val_loss: 0.6972 - val_accuracy: 0.5100\n",
            "Epoch 2/100\n",
            "122/125 [============================>.] - ETA: 0s - loss: 0.6878 - accuracy: 0.5266\n",
            "Epoch 2: val_accuracy did not improve from 0.51000\n",
            "125/125 [==============================] - 2s 14ms/step - loss: 0.6880 - accuracy: 0.5260 - val_loss: 0.6955 - val_accuracy: 0.4940\n",
            "Epoch 3/100\n",
            "125/125 [==============================] - ETA: 0s - loss: 0.6858 - accuracy: 0.5220\n",
            "Epoch 3: val_accuracy did not improve from 0.51000\n",
            "125/125 [==============================] - 2s 13ms/step - loss: 0.6858 - accuracy: 0.5220 - val_loss: 0.6980 - val_accuracy: 0.5100\n",
            "Epoch 4/100\n",
            "125/125 [==============================] - ETA: 0s - loss: 0.6841 - accuracy: 0.5182\n",
            "Epoch 4: val_accuracy did not improve from 0.51000\n",
            "125/125 [==============================] - 2s 13ms/step - loss: 0.6841 - accuracy: 0.5182 - val_loss: 0.6977 - val_accuracy: 0.4900\n",
            "Epoch 5/100\n",
            "122/125 [============================>.] - ETA: 0s - loss: 0.6831 - accuracy: 0.5131\n",
            "Epoch 5: val_accuracy improved from 0.51000 to 0.51400, saving model to /content/drive/MyDrive/Colab Notebooks/HOLD/BiLSTM_One.h5\n",
            "125/125 [==============================] - 2s 14ms/step - loss: 0.6831 - accuracy: 0.5145 - val_loss: 0.6957 - val_accuracy: 0.5140\n",
            "Epoch 6/100\n",
            "125/125 [==============================] - ETA: 0s - loss: 0.6832 - accuracy: 0.5190\n",
            "Epoch 6: val_accuracy improved from 0.51400 to 0.51600, saving model to /content/drive/MyDrive/Colab Notebooks/HOLD/BiLSTM_One.h5\n",
            "125/125 [==============================] - 2s 14ms/step - loss: 0.6832 - accuracy: 0.5190 - val_loss: 0.6960 - val_accuracy: 0.5160\n",
            "Epoch 7/100\n",
            "125/125 [==============================] - ETA: 0s - loss: 0.6794 - accuracy: 0.5113\n",
            "Epoch 7: val_accuracy did not improve from 0.51600\n",
            "125/125 [==============================] - 2s 13ms/step - loss: 0.6794 - accuracy: 0.5113 - val_loss: 0.6966 - val_accuracy: 0.4940\n",
            "Epoch 8/100\n",
            "125/125 [==============================] - ETA: 0s - loss: 0.6772 - accuracy: 0.5220\n",
            "Epoch 8: val_accuracy did not improve from 0.51600\n",
            "125/125 [==============================] - 2s 13ms/step - loss: 0.6772 - accuracy: 0.5220 - val_loss: 0.6945 - val_accuracy: 0.5080\n",
            "Epoch 9/100\n",
            "123/125 [============================>.] - ETA: 0s - loss: 0.6761 - accuracy: 0.5236\n",
            "Epoch 9: val_accuracy did not improve from 0.51600\n",
            "125/125 [==============================] - 2s 15ms/step - loss: 0.6759 - accuracy: 0.5235 - val_loss: 0.6914 - val_accuracy: 0.5000\n",
            "Epoch 10/100\n",
            "122/125 [============================>.] - ETA: 0s - loss: 0.6740 - accuracy: 0.5126\n",
            "Epoch 10: val_accuracy did not improve from 0.51600\n",
            "125/125 [==============================] - 2s 15ms/step - loss: 0.6743 - accuracy: 0.5138 - val_loss: 0.6943 - val_accuracy: 0.5160\n",
            "Epoch 11/100\n",
            "123/125 [============================>.] - ETA: 0s - loss: 0.6740 - accuracy: 0.5196\n",
            "Epoch 11: val_accuracy did not improve from 0.51600\n",
            "125/125 [==============================] - 2s 13ms/step - loss: 0.6735 - accuracy: 0.5207 - val_loss: 0.6919 - val_accuracy: 0.5140\n",
            "Epoch 12/100\n",
            "123/125 [============================>.] - ETA: 0s - loss: 0.6719 - accuracy: 0.5135\n",
            "Epoch 12: val_accuracy did not improve from 0.51600\n",
            "125/125 [==============================] - 2s 13ms/step - loss: 0.6716 - accuracy: 0.5153 - val_loss: 0.6969 - val_accuracy: 0.5120\n",
            "Epoch 13/100\n",
            "124/125 [============================>.] - ETA: 0s - loss: 0.6724 - accuracy: 0.5307\n",
            "Epoch 13: val_accuracy did not improve from 0.51600\n",
            "125/125 [==============================] - 2s 13ms/step - loss: 0.6725 - accuracy: 0.5307 - val_loss: 0.7022 - val_accuracy: 0.4940\n",
            "Epoch 14/100\n",
            "125/125 [==============================] - ETA: 0s - loss: 0.6707 - accuracy: 0.5275\n",
            "Epoch 14: val_accuracy did not improve from 0.51600\n",
            "125/125 [==============================] - 2s 15ms/step - loss: 0.6707 - accuracy: 0.5275 - val_loss: 0.6970 - val_accuracy: 0.4960\n",
            "Epoch 15/100\n",
            "125/125 [==============================] - ETA: 0s - loss: 0.6703 - accuracy: 0.5383\n",
            "Epoch 15: val_accuracy improved from 0.51600 to 0.51800, saving model to /content/drive/MyDrive/Colab Notebooks/HOLD/BiLSTM_One.h5\n",
            "125/125 [==============================] - 3s 21ms/step - loss: 0.6703 - accuracy: 0.5383 - val_loss: 0.6947 - val_accuracy: 0.5180\n",
            "Epoch 16/100\n",
            "122/125 [============================>.] - ETA: 0s - loss: 0.6683 - accuracy: 0.5323\n",
            "Epoch 16: val_accuracy did not improve from 0.51800\n",
            "125/125 [==============================] - 2s 15ms/step - loss: 0.6687 - accuracy: 0.5310 - val_loss: 0.6951 - val_accuracy: 0.5060\n",
            "Epoch 17/100\n",
            "122/125 [============================>.] - ETA: 0s - loss: 0.6682 - accuracy: 0.5261\n",
            "Epoch 17: val_accuracy did not improve from 0.51800\n",
            "125/125 [==============================] - 2s 15ms/step - loss: 0.6684 - accuracy: 0.5260 - val_loss: 0.6970 - val_accuracy: 0.5140\n",
            "Epoch 18/100\n",
            "124/125 [============================>.] - ETA: 0s - loss: 0.6670 - accuracy: 0.5292\n",
            "Epoch 18: val_accuracy did not improve from 0.51800\n",
            "125/125 [==============================] - 2s 14ms/step - loss: 0.6674 - accuracy: 0.5285 - val_loss: 0.6949 - val_accuracy: 0.4980\n",
            "Epoch 19/100\n",
            "124/125 [============================>.] - ETA: 0s - loss: 0.6649 - accuracy: 0.5267\n",
            "Epoch 19: val_accuracy did not improve from 0.51800\n",
            "125/125 [==============================] - 2s 13ms/step - loss: 0.6651 - accuracy: 0.5282 - val_loss: 0.6975 - val_accuracy: 0.5140\n",
            "Epoch 20/100\n",
            "121/125 [============================>.] - ETA: 0s - loss: 0.6675 - accuracy: 0.5204\n",
            "Epoch 20: val_accuracy did not improve from 0.51800\n",
            "125/125 [==============================] - 2s 13ms/step - loss: 0.6662 - accuracy: 0.5215 - val_loss: 0.7061 - val_accuracy: 0.4980\n",
            "Epoch 21/100\n",
            "123/125 [============================>.] - ETA: 0s - loss: 0.6640 - accuracy: 0.5302\n",
            "Epoch 21: val_accuracy did not improve from 0.51800\n",
            "125/125 [==============================] - 2s 14ms/step - loss: 0.6647 - accuracy: 0.5307 - val_loss: 0.7018 - val_accuracy: 0.4960\n",
            "Epoch 22/100\n",
            "122/125 [============================>.] - ETA: 0s - loss: 0.6628 - accuracy: 0.5415\n",
            "Epoch 22: val_accuracy did not improve from 0.51800\n",
            "125/125 [==============================] - 2s 13ms/step - loss: 0.6626 - accuracy: 0.5397 - val_loss: 0.7081 - val_accuracy: 0.5100\n",
            "Epoch 23/100\n",
            "123/125 [============================>.] - ETA: 0s - loss: 0.6643 - accuracy: 0.5234\n",
            "Epoch 23: val_accuracy did not improve from 0.51800\n",
            "125/125 [==============================] - 2s 13ms/step - loss: 0.6645 - accuracy: 0.5240 - val_loss: 0.7039 - val_accuracy: 0.4940\n",
            "Epoch 24/100\n",
            "125/125 [==============================] - ETA: 0s - loss: 0.6624 - accuracy: 0.5332\n",
            "Epoch 24: val_accuracy improved from 0.51800 to 0.52000, saving model to /content/drive/MyDrive/Colab Notebooks/HOLD/BiLSTM_One.h5\n",
            "125/125 [==============================] - 2s 18ms/step - loss: 0.6624 - accuracy: 0.5332 - val_loss: 0.6977 - val_accuracy: 0.5200\n",
            "Epoch 25/100\n",
            "124/125 [============================>.] - ETA: 0s - loss: 0.6616 - accuracy: 0.5295\n",
            "Epoch 25: val_accuracy did not improve from 0.52000\n",
            "125/125 [==============================] - 2s 14ms/step - loss: 0.6619 - accuracy: 0.5288 - val_loss: 0.7024 - val_accuracy: 0.5100\n",
            "Epoch 26/100\n",
            "123/125 [============================>.] - ETA: 0s - loss: 0.6616 - accuracy: 0.5559\n",
            "Epoch 26: val_accuracy did not improve from 0.52000\n",
            "125/125 [==============================] - 2s 15ms/step - loss: 0.6614 - accuracy: 0.5548 - val_loss: 0.7000 - val_accuracy: 0.5120\n",
            "Epoch 27/100\n",
            "124/125 [============================>.] - ETA: 0s - loss: 0.6618 - accuracy: 0.5300\n",
            "Epoch 27: val_accuracy did not improve from 0.52000\n",
            "125/125 [==============================] - 2s 15ms/step - loss: 0.6621 - accuracy: 0.5295 - val_loss: 0.7007 - val_accuracy: 0.5140\n",
            "Epoch 28/100\n",
            "124/125 [============================>.] - ETA: 0s - loss: 0.6599 - accuracy: 0.5267\n",
            "Epoch 28: val_accuracy did not improve from 0.52000\n",
            "125/125 [==============================] - 2s 18ms/step - loss: 0.6598 - accuracy: 0.5268 - val_loss: 0.7078 - val_accuracy: 0.5100\n",
            "Epoch 29/100\n",
            "122/125 [============================>.] - ETA: 0s - loss: 0.6608 - accuracy: 0.5159\n",
            "Epoch 29: val_accuracy did not improve from 0.52000\n",
            "125/125 [==============================] - 2s 19ms/step - loss: 0.6611 - accuracy: 0.5167 - val_loss: 0.7095 - val_accuracy: 0.5100\n",
            "Epoch 30/100\n",
            "123/125 [============================>.] - ETA: 0s - loss: 0.6597 - accuracy: 0.5198\n",
            "Epoch 30: val_accuracy did not improve from 0.52000\n",
            "125/125 [==============================] - 2s 13ms/step - loss: 0.6595 - accuracy: 0.5207 - val_loss: 0.7020 - val_accuracy: 0.5200\n",
            "Epoch 31/100\n",
            "125/125 [==============================] - ETA: 0s - loss: 0.6584 - accuracy: 0.5335\n",
            "Epoch 31: val_accuracy did not improve from 0.52000\n",
            "125/125 [==============================] - 2s 13ms/step - loss: 0.6584 - accuracy: 0.5335 - val_loss: 0.7097 - val_accuracy: 0.5160\n",
            "Epoch 32/100\n",
            "122/125 [============================>.] - ETA: 0s - loss: 0.6598 - accuracy: 0.5295\n",
            "Epoch 32: val_accuracy did not improve from 0.52000\n",
            "125/125 [==============================] - 2s 15ms/step - loss: 0.6589 - accuracy: 0.5303 - val_loss: 0.7065 - val_accuracy: 0.5160\n",
            "Epoch 33/100\n",
            "123/125 [============================>.] - ETA: 0s - loss: 0.6586 - accuracy: 0.5328\n",
            "Epoch 33: val_accuracy did not improve from 0.52000\n",
            "125/125 [==============================] - 2s 15ms/step - loss: 0.6585 - accuracy: 0.5328 - val_loss: 0.7089 - val_accuracy: 0.4980\n",
            "Epoch 34/100\n",
            "123/125 [============================>.] - ETA: 0s - loss: 0.6576 - accuracy: 0.5363\n",
            "Epoch 34: val_accuracy did not improve from 0.52000\n",
            "125/125 [==============================] - 2s 14ms/step - loss: 0.6580 - accuracy: 0.5370 - val_loss: 0.7106 - val_accuracy: 0.5180\n",
            "Epoch 35/100\n",
            "123/125 [============================>.] - ETA: 0s - loss: 0.6595 - accuracy: 0.5356\n",
            "Epoch 35: val_accuracy did not improve from 0.52000\n",
            "125/125 [==============================] - 2s 13ms/step - loss: 0.6592 - accuracy: 0.5353 - val_loss: 0.7132 - val_accuracy: 0.4940\n",
            "Epoch 36/100\n",
            "123/125 [============================>.] - ETA: 0s - loss: 0.6581 - accuracy: 0.5257\n",
            "Epoch 36: val_accuracy did not improve from 0.52000\n",
            "125/125 [==============================] - 2s 13ms/step - loss: 0.6581 - accuracy: 0.5257 - val_loss: 0.7063 - val_accuracy: 0.5180\n",
            "Epoch 37/100\n",
            "125/125 [==============================] - ETA: 0s - loss: 0.6577 - accuracy: 0.5188\n",
            "Epoch 37: val_accuracy did not improve from 0.52000\n",
            "125/125 [==============================] - 2s 13ms/step - loss: 0.6577 - accuracy: 0.5188 - val_loss: 0.7076 - val_accuracy: 0.5140\n",
            "Epoch 38/100\n",
            "122/125 [============================>.] - ETA: 0s - loss: 0.6566 - accuracy: 0.5407\n",
            "Epoch 38: val_accuracy did not improve from 0.52000\n",
            "125/125 [==============================] - 2s 14ms/step - loss: 0.6565 - accuracy: 0.5418 - val_loss: 0.7060 - val_accuracy: 0.4940\n",
            "Epoch 39/100\n",
            "123/125 [============================>.] - ETA: 0s - loss: 0.6551 - accuracy: 0.5305\n",
            "Epoch 39: val_accuracy did not improve from 0.52000\n",
            "125/125 [==============================] - 2s 14ms/step - loss: 0.6548 - accuracy: 0.5315 - val_loss: 0.7075 - val_accuracy: 0.5000\n",
            "Epoch 40/100\n",
            "122/125 [============================>.] - ETA: 0s - loss: 0.6556 - accuracy: 0.5197\n",
            "Epoch 40: val_accuracy did not improve from 0.52000\n",
            "125/125 [==============================] - 2s 14ms/step - loss: 0.6557 - accuracy: 0.5203 - val_loss: 0.7075 - val_accuracy: 0.4940\n",
            "Epoch 41/100\n",
            "122/125 [============================>.] - ETA: 0s - loss: 0.6556 - accuracy: 0.5282\n",
            "Epoch 41: val_accuracy did not improve from 0.52000\n",
            "125/125 [==============================] - 2s 15ms/step - loss: 0.6563 - accuracy: 0.5278 - val_loss: 0.7070 - val_accuracy: 0.4960\n",
            "Epoch 42/100\n",
            "125/125 [==============================] - ETA: 0s - loss: 0.6552 - accuracy: 0.5282\n",
            "Epoch 42: val_accuracy did not improve from 0.52000\n",
            "125/125 [==============================] - 2s 15ms/step - loss: 0.6552 - accuracy: 0.5282 - val_loss: 0.7130 - val_accuracy: 0.5100\n",
            "Epoch 43/100\n",
            "125/125 [==============================] - ETA: 0s - loss: 0.6553 - accuracy: 0.5395\n",
            "Epoch 43: val_accuracy did not improve from 0.52000\n",
            "125/125 [==============================] - 2s 13ms/step - loss: 0.6553 - accuracy: 0.5395 - val_loss: 0.7156 - val_accuracy: 0.4960\n",
            "Epoch 44/100\n",
            "123/125 [============================>.] - ETA: 0s - loss: 0.6541 - accuracy: 0.5445\n",
            "Epoch 44: val_accuracy did not improve from 0.52000\n",
            "125/125 [==============================] - 2s 13ms/step - loss: 0.6542 - accuracy: 0.5433 - val_loss: 0.7062 - val_accuracy: 0.5080\n",
            "Epoch 45/100\n",
            "122/125 [============================>.] - ETA: 0s - loss: 0.6535 - accuracy: 0.5330\n",
            "Epoch 45: val_accuracy did not improve from 0.52000\n",
            "125/125 [==============================] - 2s 13ms/step - loss: 0.6536 - accuracy: 0.5320 - val_loss: 0.7093 - val_accuracy: 0.5120\n",
            "Epoch 46/100\n",
            "123/125 [============================>.] - ETA: 0s - loss: 0.6541 - accuracy: 0.5318\n",
            "Epoch 46: val_accuracy did not improve from 0.52000\n",
            "125/125 [==============================] - 2s 13ms/step - loss: 0.6539 - accuracy: 0.5322 - val_loss: 0.7115 - val_accuracy: 0.5100\n",
            "Epoch 47/100\n",
            "122/125 [============================>.] - ETA: 0s - loss: 0.6541 - accuracy: 0.5471\n",
            "Epoch 47: val_accuracy did not improve from 0.52000\n",
            "125/125 [==============================] - 2s 14ms/step - loss: 0.6550 - accuracy: 0.5445 - val_loss: 0.7126 - val_accuracy: 0.4940\n",
            "Epoch 48/100\n",
            "122/125 [============================>.] - ETA: 0s - loss: 0.6546 - accuracy: 0.5441\n",
            "Epoch 48: val_accuracy did not improve from 0.52000\n",
            "125/125 [==============================] - 2s 14ms/step - loss: 0.6554 - accuracy: 0.5440 - val_loss: 0.7125 - val_accuracy: 0.4940\n",
            "Epoch 49/100\n",
            "122/125 [============================>.] - ETA: 0s - loss: 0.6546 - accuracy: 0.5259\n",
            "Epoch 49: val_accuracy did not improve from 0.52000\n",
            "125/125 [==============================] - 2s 14ms/step - loss: 0.6546 - accuracy: 0.5250 - val_loss: 0.7118 - val_accuracy: 0.4920\n",
            "Epoch 50/100\n",
            "125/125 [==============================] - ETA: 0s - loss: 0.6533 - accuracy: 0.5385\n",
            "Epoch 50: val_accuracy did not improve from 0.52000\n",
            "125/125 [==============================] - 2s 15ms/step - loss: 0.6533 - accuracy: 0.5385 - val_loss: 0.7140 - val_accuracy: 0.4940\n",
            "Epoch 51/100\n",
            "124/125 [============================>.] - ETA: 0s - loss: 0.6530 - accuracy: 0.5370\n",
            "Epoch 51: val_accuracy did not improve from 0.52000\n",
            "125/125 [==============================] - 2s 14ms/step - loss: 0.6531 - accuracy: 0.5365 - val_loss: 0.7122 - val_accuracy: 0.5080\n",
            "Epoch 52/100\n",
            "123/125 [============================>.] - ETA: 0s - loss: 0.6543 - accuracy: 0.5315\n",
            "Epoch 52: val_accuracy did not improve from 0.52000\n",
            "125/125 [==============================] - 2s 13ms/step - loss: 0.6541 - accuracy: 0.5303 - val_loss: 0.7080 - val_accuracy: 0.5080\n",
            "Epoch 53/100\n",
            "122/125 [============================>.] - ETA: 0s - loss: 0.6532 - accuracy: 0.5353\n",
            "Epoch 53: val_accuracy did not improve from 0.52000\n",
            "125/125 [==============================] - 2s 13ms/step - loss: 0.6526 - accuracy: 0.5355 - val_loss: 0.7111 - val_accuracy: 0.4940\n",
            "Epoch 54/100\n",
            "122/125 [============================>.] - ETA: 0s - loss: 0.6538 - accuracy: 0.5382\n",
            "Epoch 54: val_accuracy did not improve from 0.52000\n",
            "125/125 [==============================] - 2s 13ms/step - loss: 0.6540 - accuracy: 0.5383 - val_loss: 0.7084 - val_accuracy: 0.5100\n",
            "Epoch 55/100\n",
            "123/125 [============================>.] - ETA: 0s - loss: 0.6535 - accuracy: 0.5287\n",
            "Epoch 55: val_accuracy did not improve from 0.52000\n",
            "125/125 [==============================] - 2s 13ms/step - loss: 0.6530 - accuracy: 0.5300 - val_loss: 0.7115 - val_accuracy: 0.5060\n",
            "Epoch 56/100\n",
            "123/125 [============================>.] - ETA: 0s - loss: 0.6532 - accuracy: 0.5409\n",
            "Epoch 56: val_accuracy did not improve from 0.52000\n",
            "125/125 [==============================] - 2s 13ms/step - loss: 0.6524 - accuracy: 0.5422 - val_loss: 0.7106 - val_accuracy: 0.4960\n",
            "Epoch 57/100\n",
            "125/125 [==============================] - ETA: 0s - loss: 0.6511 - accuracy: 0.5385\n",
            "Epoch 57: val_accuracy did not improve from 0.52000\n",
            "125/125 [==============================] - 2s 15ms/step - loss: 0.6511 - accuracy: 0.5385 - val_loss: 0.7189 - val_accuracy: 0.4920\n",
            "Epoch 58/100\n",
            "122/125 [============================>.] - ETA: 0s - loss: 0.6510 - accuracy: 0.5338\n",
            "Epoch 58: val_accuracy did not improve from 0.52000\n",
            "125/125 [==============================] - 2s 15ms/step - loss: 0.6517 - accuracy: 0.5343 - val_loss: 0.7172 - val_accuracy: 0.4900\n",
            "Epoch 59/100\n",
            "123/125 [============================>.] - ETA: 0s - loss: 0.6514 - accuracy: 0.5346\n",
            "Epoch 59: val_accuracy did not improve from 0.52000\n",
            "125/125 [==============================] - 2s 14ms/step - loss: 0.6514 - accuracy: 0.5360 - val_loss: 0.7133 - val_accuracy: 0.5080\n",
            "Epoch 60/100\n",
            "124/125 [============================>.] - ETA: 0s - loss: 0.6529 - accuracy: 0.5335\n",
            "Epoch 60: val_accuracy did not improve from 0.52000\n",
            "125/125 [==============================] - 2s 14ms/step - loss: 0.6528 - accuracy: 0.5340 - val_loss: 0.7082 - val_accuracy: 0.5120\n",
            "Epoch 61/100\n",
            "123/125 [============================>.] - ETA: 0s - loss: 0.6508 - accuracy: 0.5325\n",
            "Epoch 61: val_accuracy did not improve from 0.52000\n",
            "125/125 [==============================] - 2s 13ms/step - loss: 0.6506 - accuracy: 0.5337 - val_loss: 0.7126 - val_accuracy: 0.5060\n",
            "Epoch 62/100\n",
            "121/125 [============================>.] - ETA: 0s - loss: 0.6509 - accuracy: 0.5382\n",
            "Epoch 62: val_accuracy did not improve from 0.52000\n",
            "125/125 [==============================] - 2s 14ms/step - loss: 0.6507 - accuracy: 0.5397 - val_loss: 0.7206 - val_accuracy: 0.4940\n",
            "Epoch 63/100\n",
            "125/125 [==============================] - ETA: 0s - loss: 0.6518 - accuracy: 0.5360\n",
            "Epoch 63: val_accuracy did not improve from 0.52000\n",
            "125/125 [==============================] - 2s 14ms/step - loss: 0.6518 - accuracy: 0.5360 - val_loss: 0.7182 - val_accuracy: 0.4880\n",
            "Epoch 64/100\n",
            "123/125 [============================>.] - ETA: 0s - loss: 0.6505 - accuracy: 0.5300\n",
            "Epoch 64: val_accuracy did not improve from 0.52000\n",
            "125/125 [==============================] - 2s 14ms/step - loss: 0.6499 - accuracy: 0.5303 - val_loss: 0.7152 - val_accuracy: 0.4880\n",
            "Epoch 65/100\n",
            "123/125 [============================>.] - ETA: 0s - loss: 0.6503 - accuracy: 0.5368\n",
            "Epoch 65: val_accuracy did not improve from 0.52000\n",
            "125/125 [==============================] - 2s 14ms/step - loss: 0.6506 - accuracy: 0.5343 - val_loss: 0.7159 - val_accuracy: 0.5120\n",
            "Epoch 66/100\n",
            "124/125 [============================>.] - ETA: 0s - loss: 0.6505 - accuracy: 0.5242\n",
            "Epoch 66: val_accuracy did not improve from 0.52000\n",
            "125/125 [==============================] - 2s 15ms/step - loss: 0.6505 - accuracy: 0.5240 - val_loss: 0.7200 - val_accuracy: 0.4920\n",
            "Epoch 67/100\n",
            "125/125 [==============================] - ETA: 0s - loss: 0.6511 - accuracy: 0.5465\n",
            "Epoch 67: val_accuracy did not improve from 0.52000\n",
            "125/125 [==============================] - 2s 16ms/step - loss: 0.6511 - accuracy: 0.5465 - val_loss: 0.7186 - val_accuracy: 0.5060\n",
            "Epoch 68/100\n",
            "123/125 [============================>.] - ETA: 0s - loss: 0.6592 - accuracy: 0.5485\n",
            "Epoch 68: val_accuracy did not improve from 0.52000\n",
            "125/125 [==============================] - 2s 13ms/step - loss: 0.6601 - accuracy: 0.5483 - val_loss: 0.7361 - val_accuracy: 0.5100\n",
            "Epoch 69/100\n",
            "123/125 [============================>.] - ETA: 0s - loss: 0.6563 - accuracy: 0.5323\n",
            "Epoch 69: val_accuracy did not improve from 0.52000\n",
            "125/125 [==============================] - 2s 13ms/step - loss: 0.6570 - accuracy: 0.5318 - val_loss: 0.7141 - val_accuracy: 0.5060\n",
            "Epoch 70/100\n",
            "121/125 [============================>.] - ETA: 0s - loss: 0.6537 - accuracy: 0.5369\n",
            "Epoch 70: val_accuracy did not improve from 0.52000\n",
            "125/125 [==============================] - 2s 13ms/step - loss: 0.6529 - accuracy: 0.5362 - val_loss: 0.7136 - val_accuracy: 0.5020\n",
            "Epoch 71/100\n",
            "123/125 [============================>.] - ETA: 0s - loss: 0.6516 - accuracy: 0.5396\n",
            "Epoch 71: val_accuracy did not improve from 0.52000\n",
            "125/125 [==============================] - 2s 13ms/step - loss: 0.6511 - accuracy: 0.5397 - val_loss: 0.7139 - val_accuracy: 0.4940\n",
            "Epoch 72/100\n",
            "123/125 [============================>.] - ETA: 0s - loss: 0.6511 - accuracy: 0.5346\n",
            "Epoch 72: val_accuracy did not improve from 0.52000\n",
            "125/125 [==============================] - 2s 13ms/step - loss: 0.6508 - accuracy: 0.5353 - val_loss: 0.7145 - val_accuracy: 0.5020\n",
            "Epoch 73/100\n",
            "123/125 [============================>.] - ETA: 0s - loss: 0.6510 - accuracy: 0.5396\n",
            "Epoch 73: val_accuracy did not improve from 0.52000\n",
            "125/125 [==============================] - 2s 13ms/step - loss: 0.6507 - accuracy: 0.5403 - val_loss: 0.7178 - val_accuracy: 0.4880\n",
            "Epoch 74/100\n",
            "122/125 [============================>.] - ETA: 0s - loss: 0.6500 - accuracy: 0.5459\n",
            "Epoch 74: val_accuracy did not improve from 0.52000\n",
            "125/125 [==============================] - 2s 15ms/step - loss: 0.6507 - accuracy: 0.5462 - val_loss: 0.7379 - val_accuracy: 0.4960\n",
            "Epoch 75/100\n",
            "123/125 [============================>.] - ETA: 0s - loss: 0.6508 - accuracy: 0.5445\n",
            "Epoch 75: val_accuracy did not improve from 0.52000\n",
            "125/125 [==============================] - 2s 15ms/step - loss: 0.6511 - accuracy: 0.5452 - val_loss: 0.7194 - val_accuracy: 0.4940\n",
            "Epoch 76/100\n",
            "125/125 [==============================] - ETA: 0s - loss: 0.6501 - accuracy: 0.5390\n",
            "Epoch 76: val_accuracy did not improve from 0.52000\n",
            "125/125 [==============================] - 2s 14ms/step - loss: 0.6501 - accuracy: 0.5390 - val_loss: 0.7245 - val_accuracy: 0.4880\n",
            "Epoch 77/100\n",
            "121/125 [============================>.] - ETA: 0s - loss: 0.6490 - accuracy: 0.5343\n",
            "Epoch 77: val_accuracy did not improve from 0.52000\n",
            "125/125 [==============================] - 2s 13ms/step - loss: 0.6492 - accuracy: 0.5357 - val_loss: 0.7213 - val_accuracy: 0.5060\n",
            "Epoch 78/100\n",
            "121/125 [============================>.] - ETA: 0s - loss: 0.6474 - accuracy: 0.5374\n",
            "Epoch 78: val_accuracy did not improve from 0.52000\n",
            "125/125 [==============================] - 2s 13ms/step - loss: 0.6488 - accuracy: 0.5357 - val_loss: 0.7179 - val_accuracy: 0.5060\n",
            "Epoch 79/100\n",
            "124/125 [============================>.] - ETA: 0s - loss: 0.6494 - accuracy: 0.5474\n",
            "Epoch 79: val_accuracy did not improve from 0.52000\n",
            "125/125 [==============================] - 2s 13ms/step - loss: 0.6491 - accuracy: 0.5470 - val_loss: 0.7223 - val_accuracy: 0.5040\n",
            "Epoch 80/100\n",
            "125/125 [==============================] - ETA: 0s - loss: 0.6497 - accuracy: 0.5440\n",
            "Epoch 80: val_accuracy did not improve from 0.52000\n",
            "125/125 [==============================] - 2s 13ms/step - loss: 0.6497 - accuracy: 0.5440 - val_loss: 0.7220 - val_accuracy: 0.5040\n",
            "Epoch 81/100\n",
            "125/125 [==============================] - ETA: 0s - loss: 0.6490 - accuracy: 0.5523\n",
            "Epoch 81: val_accuracy did not improve from 0.52000\n",
            "125/125 [==============================] - 2s 13ms/step - loss: 0.6490 - accuracy: 0.5523 - val_loss: 0.7209 - val_accuracy: 0.5020\n",
            "Epoch 82/100\n",
            "123/125 [============================>.] - ETA: 0s - loss: 0.6485 - accuracy: 0.5373\n",
            "Epoch 82: val_accuracy did not improve from 0.52000\n",
            "125/125 [==============================] - 2s 14ms/step - loss: 0.6489 - accuracy: 0.5357 - val_loss: 0.7211 - val_accuracy: 0.4940\n",
            "Epoch 83/100\n",
            "122/125 [============================>.] - ETA: 0s - loss: 0.6487 - accuracy: 0.5453\n",
            "Epoch 83: val_accuracy did not improve from 0.52000\n",
            "125/125 [==============================] - 2s 15ms/step - loss: 0.6484 - accuracy: 0.5460 - val_loss: 0.7251 - val_accuracy: 0.4880\n",
            "Epoch 84/100\n",
            "123/125 [============================>.] - ETA: 0s - loss: 0.6490 - accuracy: 0.5445\n",
            "Epoch 84: val_accuracy did not improve from 0.52000\n",
            "125/125 [==============================] - 2s 15ms/step - loss: 0.6487 - accuracy: 0.5465 - val_loss: 0.7209 - val_accuracy: 0.5040\n",
            "Epoch 85/100\n",
            "123/125 [============================>.] - ETA: 0s - loss: 0.6482 - accuracy: 0.5437\n",
            "Epoch 85: val_accuracy did not improve from 0.52000\n",
            "125/125 [==============================] - 2s 14ms/step - loss: 0.6481 - accuracy: 0.5455 - val_loss: 0.7212 - val_accuracy: 0.4900\n",
            "Epoch 86/100\n",
            "125/125 [==============================] - ETA: 0s - loss: 0.6482 - accuracy: 0.5325\n",
            "Epoch 86: val_accuracy did not improve from 0.52000\n",
            "125/125 [==============================] - 2s 13ms/step - loss: 0.6482 - accuracy: 0.5325 - val_loss: 0.7177 - val_accuracy: 0.5040\n",
            "Epoch 87/100\n",
            "124/125 [============================>.] - ETA: 0s - loss: 0.6496 - accuracy: 0.5338\n",
            "Epoch 87: val_accuracy did not improve from 0.52000\n",
            "125/125 [==============================] - 2s 13ms/step - loss: 0.6494 - accuracy: 0.5335 - val_loss: 0.7207 - val_accuracy: 0.5040\n",
            "Epoch 88/100\n",
            "121/125 [============================>.] - ETA: 0s - loss: 0.6490 - accuracy: 0.5424\n",
            "Epoch 88: val_accuracy did not improve from 0.52000\n",
            "125/125 [==============================] - 2s 13ms/step - loss: 0.6496 - accuracy: 0.5408 - val_loss: 0.7207 - val_accuracy: 0.5060\n",
            "Epoch 89/100\n",
            "125/125 [==============================] - ETA: 0s - loss: 0.6486 - accuracy: 0.5390\n",
            "Epoch 89: val_accuracy did not improve from 0.52000\n",
            "125/125 [==============================] - 2s 18ms/step - loss: 0.6486 - accuracy: 0.5390 - val_loss: 0.7172 - val_accuracy: 0.5100\n",
            "Epoch 90/100\n",
            "123/125 [============================>.] - ETA: 0s - loss: 0.6485 - accuracy: 0.5338\n",
            "Epoch 90: val_accuracy did not improve from 0.52000\n",
            "125/125 [==============================] - 2s 16ms/step - loss: 0.6483 - accuracy: 0.5347 - val_loss: 0.7188 - val_accuracy: 0.5040\n",
            "Epoch 91/100\n",
            "123/125 [============================>.] - ETA: 0s - loss: 0.6490 - accuracy: 0.5282\n",
            "Epoch 91: val_accuracy did not improve from 0.52000\n",
            "125/125 [==============================] - 2s 15ms/step - loss: 0.6491 - accuracy: 0.5293 - val_loss: 0.7189 - val_accuracy: 0.5040\n",
            "Epoch 92/100\n",
            "122/125 [============================>.] - ETA: 0s - loss: 0.6488 - accuracy: 0.5441\n",
            "Epoch 92: val_accuracy did not improve from 0.52000\n",
            "125/125 [==============================] - 2s 15ms/step - loss: 0.6483 - accuracy: 0.5465 - val_loss: 0.7216 - val_accuracy: 0.4900\n",
            "Epoch 93/100\n",
            "122/125 [============================>.] - ETA: 0s - loss: 0.6474 - accuracy: 0.5546\n",
            "Epoch 93: val_accuracy did not improve from 0.52000\n",
            "125/125 [==============================] - 2s 13ms/step - loss: 0.6488 - accuracy: 0.5520 - val_loss: 0.7204 - val_accuracy: 0.5060\n",
            "Epoch 94/100\n",
            "123/125 [============================>.] - ETA: 0s - loss: 0.6486 - accuracy: 0.5414\n",
            "Epoch 94: val_accuracy did not improve from 0.52000\n",
            "125/125 [==============================] - 2s 13ms/step - loss: 0.6489 - accuracy: 0.5428 - val_loss: 0.7171 - val_accuracy: 0.4960\n",
            "Epoch 95/100\n",
            "123/125 [============================>.] - ETA: 0s - loss: 0.6491 - accuracy: 0.5290\n",
            "Epoch 95: val_accuracy did not improve from 0.52000\n",
            "125/125 [==============================] - 2s 13ms/step - loss: 0.6486 - accuracy: 0.5290 - val_loss: 0.7226 - val_accuracy: 0.4900\n",
            "Epoch 96/100\n",
            "123/125 [============================>.] - ETA: 0s - loss: 0.6484 - accuracy: 0.5262\n",
            "Epoch 96: val_accuracy did not improve from 0.52000\n",
            "125/125 [==============================] - 2s 13ms/step - loss: 0.6485 - accuracy: 0.5263 - val_loss: 0.7205 - val_accuracy: 0.4880\n",
            "Epoch 97/100\n",
            "124/125 [============================>.] - ETA: 0s - loss: 0.6481 - accuracy: 0.5353\n",
            "Epoch 97: val_accuracy did not improve from 0.52000\n",
            "125/125 [==============================] - 2s 13ms/step - loss: 0.6483 - accuracy: 0.5353 - val_loss: 0.7207 - val_accuracy: 0.5040\n",
            "Epoch 98/100\n",
            "122/125 [============================>.] - ETA: 0s - loss: 0.6474 - accuracy: 0.5328\n",
            "Epoch 98: val_accuracy did not improve from 0.52000\n",
            "125/125 [==============================] - 2s 13ms/step - loss: 0.6477 - accuracy: 0.5332 - val_loss: 0.7218 - val_accuracy: 0.5080\n",
            "Epoch 99/100\n",
            "122/125 [============================>.] - ETA: 0s - loss: 0.6490 - accuracy: 0.5397\n",
            "Epoch 99: val_accuracy did not improve from 0.52000\n",
            "125/125 [==============================] - 2s 14ms/step - loss: 0.6484 - accuracy: 0.5400 - val_loss: 0.7227 - val_accuracy: 0.5060\n",
            "Epoch 100/100\n",
            "122/125 [============================>.] - ETA: 0s - loss: 0.6498 - accuracy: 0.5412\n",
            "Epoch 100: val_accuracy did not improve from 0.52000\n",
            "125/125 [==============================] - 2s 15ms/step - loss: 0.6498 - accuracy: 0.5428 - val_loss: 0.7190 - val_accuracy: 0.5040\n"
          ]
        }
      ],
      "source": [
        "model.compile(optimizer=keras.optimizers.Adam(learning_rate=0.001),\n",
        "    loss='binary_crossentropy',\n",
        "    metrics=['accuracy'])\n",
        "\n",
        "history = model.fit(\n",
        "    train_pad_sequences,\n",
        "    np.array(train_df['enc_label']),\n",
        "    epochs=100,\n",
        "    batch_size=32,\n",
        "    validation_data=(test_pad_sequences, np.array(y_data_with_label)),\n",
        "    verbose=1,\n",
        "    callbacks=callback_list\n",
        ")\n",
        " # as here weight is not using"
      ]
    },
    {
      "cell_type": "code",
      "execution_count": 101,
      "metadata": {
        "colab": {
          "base_uri": "https://localhost:8080/"
        },
        "execution": {
          "iopub.execute_input": "2023-12-11T01:07:17.217120Z",
          "iopub.status.busy": "2023-12-11T01:07:17.216261Z",
          "iopub.status.idle": "2023-12-11T01:07:17.392630Z",
          "shell.execute_reply": "2023-12-11T01:07:17.391643Z",
          "shell.execute_reply.started": "2023-12-11T01:07:17.217090Z"
        },
        "id": "8DQ6ubTF5ucG",
        "outputId": "bba59d0b-7b37-442b-ec9e-452a936bc603",
        "trusted": true
      },
      "outputs": [
        {
          "name": "stdout",
          "output_type": "stream",
          "text": [
            "16/16 [==============================] - 1s 10ms/step\n",
            "Classification Report for Loaded Model:\n",
            "               precision    recall  f1-score   support\n",
            "\n",
            "           0     0.6471    0.0880    0.1549       250\n",
            "           1     0.5107    0.9520    0.6648       250\n",
            "\n",
            "    accuracy                         0.5200       500\n",
            "   macro avg     0.5789    0.5200    0.4099       500\n",
            "weighted avg     0.5789    0.5200    0.4099       500\n",
            "\n"
          ]
        }
      ],
      "source": [
        "import numpy as np\n",
        "from sklearn.metrics import classification_report\n",
        "from tensorflow.keras.models import load_model\n",
        "\n",
        "# Assuming y_pred is a 2D array of predicted probabilities for each class\n",
        "# Adjust axis parameter if needed based on the shape of your y_pred array\n",
        "loaded_model = load_model(filepath)\n",
        "\n",
        "# Evaluate the model on the validation set\n",
        "y_pred = loaded_model.predict(test_pad_sequences)\n",
        "\n",
        "# Convert probabilities to binary predictions using a threshold (e.g., 0.5)\n",
        "threshold = 0.5\n",
        "y_pred_classes = (y_pred > threshold).astype(int)\n",
        "\n",
        "# Generate a classification report\n",
        "classification_report_loaded_model = classification_report(y_data_with_label, y_pred_classes, digits=4)\n",
        "print('Classification Report for Loaded Model:\\n', classification_report_loaded_model)\n"
      ]
    },
    {
      "cell_type": "markdown",
      "metadata": {
        "id": "dHJNPjctXaJ3"
      },
      "source": [
        "## CNN(Word2Vec)"
      ]
    },
    {
      "cell_type": "code",
      "execution_count": 102,
      "metadata": {
        "id": "eD0UztAwY0c9"
      },
      "outputs": [],
      "source": [
        "num_classes = 2            #### change class number\n",
        "\n",
        "accuracy_threshold = 0.99\n",
        "\n",
        "class myCallback(keras.callbacks.Callback):\n",
        "  def on_epoch_end(self, epoch, logs={}):\n",
        "      if(logs.get('accuracy')>accuracy_threshold):\n",
        "        print(\"\\nReached %2.2f%% accuracy so we will stop trianing\" % (accuracy_threshold*100))\n",
        "        self.model.stop_training = True\n",
        "\n",
        "acc_callback = myCallback()\n",
        "# Saved the Best Model\n",
        "filepath = \"/content/drive/MyDrive/Colab Notebooks/HOLD/\" + \"CNN_One.h5\"\n",
        "checkpoint = keras.callbacks.ModelCheckpoint(filepath, monitor='val_accuracy', verbose=2, save_best_only=True,\n",
        "                                             save_weights_only=False, mode='max')\n",
        "# callback list\n",
        "callback_list = [acc_callback, checkpoint]"
      ]
    },
    {
      "cell_type": "code",
      "execution_count": 103,
      "metadata": {
        "colab": {
          "base_uri": "https://localhost:8080/"
        },
        "id": "zzIJ-bLqXZkz",
        "outputId": "5bb0e0d9-c825-433e-bbd6-0fdac5d9bb1f"
      },
      "outputs": [
        {
          "name": "stdout",
          "output_type": "stream",
          "text": [
            "Model: \"sequential_13\"\n",
            "_________________________________________________________________\n",
            " Layer (type)                Output Shape              Param #   \n",
            "=================================================================\n",
            " embedding_14 (Embedding)    (None, 100, 300)          4545300   \n",
            "                                                                 \n",
            " conv1d_5 (Conv1D)           (None, 96, 128)           192128    \n",
            "                                                                 \n",
            " global_max_pooling1d_4 (Gl  (None, 128)               0         \n",
            " obalMaxPooling1D)                                               \n",
            "                                                                 \n",
            " dense_13 (Dense)            (None, 1)                 129       \n",
            "                                                                 \n",
            "=================================================================\n",
            "Total params: 4737557 (18.07 MB)\n",
            "Trainable params: 192257 (751.00 KB)\n",
            "Non-trainable params: 4545300 (17.34 MB)\n",
            "_________________________________________________________________\n"
          ]
        }
      ],
      "source": [
        "from tensorflow.keras.layers import Embedding, Conv1D, GlobalMaxPooling1D, Dense\n",
        "\n",
        "model = Sequential([\n",
        "    Embedding(vocab_size, 300, weights=[embedding_matrix], input_length=max_len, trainable=False),\n",
        "    Conv1D(128, 5, activation='relu'),\n",
        "    GlobalMaxPooling1D(),\n",
        "    Dense(1, activation='sigmoid')\n",
        "])\n",
        "\n",
        "model.summary()"
      ]
    },
    {
      "cell_type": "code",
      "execution_count": 104,
      "metadata": {
        "colab": {
          "base_uri": "https://localhost:8080/"
        },
        "id": "eiQubmzSYexO",
        "outputId": "5b965365-8363-4aa7-bb36-0db05377c90b"
      },
      "outputs": [
        {
          "data": {
            "text/plain": [
              "array([1, 1, 1, ..., 1, 1, 1])"
            ]
          },
          "execution_count": 104,
          "metadata": {},
          "output_type": "execute_result"
        }
      ],
      "source": [
        "np.array(train_df['enc_label'])"
      ]
    },
    {
      "cell_type": "code",
      "execution_count": 105,
      "metadata": {
        "colab": {
          "base_uri": "https://localhost:8080/"
        },
        "id": "Gqo4GcvRXor1",
        "outputId": "c1ca02bc-117e-48ba-c5de-550947779416"
      },
      "outputs": [
        {
          "name": "stdout",
          "output_type": "stream",
          "text": [
            "Epoch 1/100\n",
            "124/125 [============================>.] - ETA: 0s - loss: 0.6905 - accuracy: 0.5156\n",
            "Epoch 1: val_accuracy improved from -inf to 0.49800, saving model to /content/drive/MyDrive/Colab Notebooks/HOLD/CNN_One.h5\n",
            "125/125 [==============================] - 3s 8ms/step - loss: 0.6905 - accuracy: 0.5153 - val_loss: 0.7004 - val_accuracy: 0.4980\n",
            "Epoch 2/100\n",
            "107/125 [========================>.....] - ETA: 0s - loss: 0.6859 - accuracy: 0.5225\n",
            "Epoch 2: val_accuracy did not improve from 0.49800\n",
            "125/125 [==============================] - 0s 3ms/step - loss: 0.6880 - accuracy: 0.5155 - val_loss: 0.7057 - val_accuracy: 0.4980\n",
            "Epoch 3/100\n",
            "109/125 [=========================>....] - ETA: 0s - loss: 0.6836 - accuracy: 0.5106\n",
            "Epoch 3: val_accuracy improved from 0.49800 to 0.50200, saving model to /content/drive/MyDrive/Colab Notebooks/HOLD/CNN_One.h5\n",
            "125/125 [==============================] - 0s 4ms/step - loss: 0.6845 - accuracy: 0.5105 - val_loss: 0.7060 - val_accuracy: 0.5020\n",
            "Epoch 4/100\n",
            "110/125 [=========================>....] - ETA: 0s - loss: 0.6849 - accuracy: 0.5179\n",
            "Epoch 4: val_accuracy improved from 0.50200 to 0.50600, saving model to /content/drive/MyDrive/Colab Notebooks/HOLD/CNN_One.h5\n",
            "125/125 [==============================] - 1s 4ms/step - loss: 0.6847 - accuracy: 0.5173 - val_loss: 0.7121 - val_accuracy: 0.5060\n",
            "Epoch 5/100\n",
            "110/125 [=========================>....] - ETA: 0s - loss: 0.6851 - accuracy: 0.5176\n",
            "Epoch 5: val_accuracy did not improve from 0.50600\n",
            "125/125 [==============================] - 0s 3ms/step - loss: 0.6847 - accuracy: 0.5163 - val_loss: 0.7136 - val_accuracy: 0.5000\n",
            "Epoch 6/100\n",
            "121/125 [============================>.] - ETA: 0s - loss: 0.6839 - accuracy: 0.5111\n",
            "Epoch 6: val_accuracy did not improve from 0.50600\n",
            "125/125 [==============================] - 0s 4ms/step - loss: 0.6835 - accuracy: 0.5138 - val_loss: 0.7096 - val_accuracy: 0.5040\n",
            "Epoch 7/100\n",
            "108/125 [========================>.....] - ETA: 0s - loss: 0.6848 - accuracy: 0.5301\n",
            "Epoch 7: val_accuracy did not improve from 0.50600\n",
            "125/125 [==============================] - 0s 3ms/step - loss: 0.6843 - accuracy: 0.5240 - val_loss: 0.7025 - val_accuracy: 0.5000\n",
            "Epoch 8/100\n",
            "120/125 [===========================>..] - ETA: 0s - loss: 0.6822 - accuracy: 0.5245\n",
            "Epoch 8: val_accuracy did not improve from 0.50600\n",
            "125/125 [==============================] - 0s 4ms/step - loss: 0.6815 - accuracy: 0.5255 - val_loss: 0.7074 - val_accuracy: 0.4980\n",
            "Epoch 9/100\n",
            "124/125 [============================>.] - ETA: 0s - loss: 0.6824 - accuracy: 0.5237\n",
            "Epoch 9: val_accuracy improved from 0.50600 to 0.50800, saving model to /content/drive/MyDrive/Colab Notebooks/HOLD/CNN_One.h5\n",
            "125/125 [==============================] - 1s 4ms/step - loss: 0.6824 - accuracy: 0.5232 - val_loss: 0.6988 - val_accuracy: 0.5080\n",
            "Epoch 10/100\n",
            "114/125 [==========================>...] - ETA: 0s - loss: 0.6819 - accuracy: 0.5159\n",
            "Epoch 10: val_accuracy did not improve from 0.50800\n",
            "125/125 [==============================] - 0s 4ms/step - loss: 0.6808 - accuracy: 0.5192 - val_loss: 0.7046 - val_accuracy: 0.5040\n",
            "Epoch 11/100\n",
            "119/125 [===========================>..] - ETA: 0s - loss: 0.6826 - accuracy: 0.5265\n",
            "Epoch 11: val_accuracy did not improve from 0.50800\n",
            "125/125 [==============================] - 0s 3ms/step - loss: 0.6822 - accuracy: 0.5260 - val_loss: 0.7035 - val_accuracy: 0.4980\n",
            "Epoch 12/100\n",
            "115/125 [==========================>...] - ETA: 0s - loss: 0.6826 - accuracy: 0.5242\n",
            "Epoch 12: val_accuracy did not improve from 0.50800\n",
            "125/125 [==============================] - 0s 4ms/step - loss: 0.6817 - accuracy: 0.5275 - val_loss: 0.7128 - val_accuracy: 0.4940\n",
            "Epoch 13/100\n",
            "119/125 [===========================>..] - ETA: 0s - loss: 0.6818 - accuracy: 0.5213\n",
            "Epoch 13: val_accuracy did not improve from 0.50800\n",
            "125/125 [==============================] - 0s 4ms/step - loss: 0.6823 - accuracy: 0.5175 - val_loss: 0.7123 - val_accuracy: 0.4960\n",
            "Epoch 14/100\n",
            "122/125 [============================>.] - ETA: 0s - loss: 0.6809 - accuracy: 0.5269\n",
            "Epoch 14: val_accuracy did not improve from 0.50800\n",
            "125/125 [==============================] - 0s 3ms/step - loss: 0.6806 - accuracy: 0.5263 - val_loss: 0.7080 - val_accuracy: 0.5020\n",
            "Epoch 15/100\n",
            "119/125 [===========================>..] - ETA: 0s - loss: 0.6805 - accuracy: 0.5221\n",
            "Epoch 15: val_accuracy did not improve from 0.50800\n",
            "125/125 [==============================] - 0s 3ms/step - loss: 0.6814 - accuracy: 0.5240 - val_loss: 0.7105 - val_accuracy: 0.5020\n",
            "Epoch 16/100\n",
            "123/125 [============================>.] - ETA: 0s - loss: 0.6804 - accuracy: 0.5272\n",
            "Epoch 16: val_accuracy did not improve from 0.50800\n",
            "125/125 [==============================] - 0s 4ms/step - loss: 0.6807 - accuracy: 0.5257 - val_loss: 0.7089 - val_accuracy: 0.5000\n",
            "Epoch 17/100\n",
            "118/125 [===========================>..] - ETA: 0s - loss: 0.6806 - accuracy: 0.5265\n",
            "Epoch 17: val_accuracy did not improve from 0.50800\n",
            "125/125 [==============================] - 0s 4ms/step - loss: 0.6796 - accuracy: 0.5278 - val_loss: 0.7084 - val_accuracy: 0.5000\n",
            "Epoch 18/100\n",
            "124/125 [============================>.] - ETA: 0s - loss: 0.6793 - accuracy: 0.5275\n",
            "Epoch 18: val_accuracy did not improve from 0.50800\n",
            "125/125 [==============================] - 0s 3ms/step - loss: 0.6796 - accuracy: 0.5275 - val_loss: 0.7063 - val_accuracy: 0.5000\n",
            "Epoch 19/100\n",
            "124/125 [============================>.] - ETA: 0s - loss: 0.6804 - accuracy: 0.5237\n",
            "Epoch 19: val_accuracy did not improve from 0.50800\n",
            "125/125 [==============================] - 1s 5ms/step - loss: 0.6805 - accuracy: 0.5253 - val_loss: 0.7071 - val_accuracy: 0.5020\n",
            "Epoch 20/100\n",
            "116/125 [==========================>...] - ETA: 0s - loss: 0.6808 - accuracy: 0.5178\n",
            "Epoch 20: val_accuracy did not improve from 0.50800\n",
            "125/125 [==============================] - 1s 5ms/step - loss: 0.6800 - accuracy: 0.5182 - val_loss: 0.7094 - val_accuracy: 0.5040\n",
            "Epoch 21/100\n",
            "116/125 [==========================>...] - ETA: 0s - loss: 0.6793 - accuracy: 0.5296\n",
            "Epoch 21: val_accuracy did not improve from 0.50800\n",
            "125/125 [==============================] - 1s 5ms/step - loss: 0.6792 - accuracy: 0.5265 - val_loss: 0.7106 - val_accuracy: 0.5000\n",
            "Epoch 22/100\n",
            "122/125 [============================>.] - ETA: 0s - loss: 0.6788 - accuracy: 0.5312\n",
            "Epoch 22: val_accuracy did not improve from 0.50800\n",
            "125/125 [==============================] - 1s 6ms/step - loss: 0.6785 - accuracy: 0.5300 - val_loss: 0.7101 - val_accuracy: 0.5000\n",
            "Epoch 23/100\n",
            "115/125 [==========================>...] - ETA: 0s - loss: 0.6787 - accuracy: 0.5315\n",
            "Epoch 23: val_accuracy did not improve from 0.50800\n",
            "125/125 [==============================] - 1s 5ms/step - loss: 0.6790 - accuracy: 0.5257 - val_loss: 0.7075 - val_accuracy: 0.5060\n",
            "Epoch 24/100\n",
            "125/125 [==============================] - ETA: 0s - loss: 0.6788 - accuracy: 0.5280\n",
            "Epoch 24: val_accuracy did not improve from 0.50800\n",
            "125/125 [==============================] - 1s 5ms/step - loss: 0.6788 - accuracy: 0.5280 - val_loss: 0.7025 - val_accuracy: 0.5080\n",
            "Epoch 25/100\n",
            "125/125 [==============================] - ETA: 0s - loss: 0.6775 - accuracy: 0.5275\n",
            "Epoch 25: val_accuracy did not improve from 0.50800\n",
            "125/125 [==============================] - 1s 5ms/step - loss: 0.6775 - accuracy: 0.5275 - val_loss: 0.7116 - val_accuracy: 0.5020\n",
            "Epoch 26/100\n",
            "114/125 [==========================>...] - ETA: 0s - loss: 0.6797 - accuracy: 0.5123\n",
            "Epoch 26: val_accuracy did not improve from 0.50800\n",
            "125/125 [==============================] - 1s 4ms/step - loss: 0.6789 - accuracy: 0.5140 - val_loss: 0.7096 - val_accuracy: 0.5040\n",
            "Epoch 27/100\n",
            "120/125 [===========================>..] - ETA: 0s - loss: 0.6781 - accuracy: 0.5263\n",
            "Epoch 27: val_accuracy did not improve from 0.50800\n",
            "125/125 [==============================] - 0s 4ms/step - loss: 0.6785 - accuracy: 0.5285 - val_loss: 0.7118 - val_accuracy: 0.4940\n",
            "Epoch 28/100\n",
            "117/125 [===========================>..] - ETA: 0s - loss: 0.6773 - accuracy: 0.5307\n",
            "Epoch 28: val_accuracy did not improve from 0.50800\n",
            "125/125 [==============================] - 0s 4ms/step - loss: 0.6777 - accuracy: 0.5297 - val_loss: 0.7137 - val_accuracy: 0.4980\n",
            "Epoch 29/100\n",
            "119/125 [===========================>..] - ETA: 0s - loss: 0.6796 - accuracy: 0.5244\n",
            "Epoch 29: val_accuracy did not improve from 0.50800\n",
            "125/125 [==============================] - 0s 3ms/step - loss: 0.6792 - accuracy: 0.5265 - val_loss: 0.7123 - val_accuracy: 0.5020\n",
            "Epoch 30/100\n",
            "118/125 [===========================>..] - ETA: 0s - loss: 0.6777 - accuracy: 0.5310\n",
            "Epoch 30: val_accuracy did not improve from 0.50800\n",
            "125/125 [==============================] - 0s 4ms/step - loss: 0.6775 - accuracy: 0.5285 - val_loss: 0.7070 - val_accuracy: 0.5000\n",
            "Epoch 31/100\n",
            "119/125 [===========================>..] - ETA: 0s - loss: 0.6774 - accuracy: 0.5247\n",
            "Epoch 31: val_accuracy did not improve from 0.50800\n",
            "125/125 [==============================] - 0s 3ms/step - loss: 0.6776 - accuracy: 0.5265 - val_loss: 0.7110 - val_accuracy: 0.5000\n",
            "Epoch 32/100\n",
            "119/125 [===========================>..] - ETA: 0s - loss: 0.6782 - accuracy: 0.5265\n",
            "Epoch 32: val_accuracy did not improve from 0.50800\n",
            "125/125 [==============================] - 0s 3ms/step - loss: 0.6777 - accuracy: 0.5288 - val_loss: 0.7104 - val_accuracy: 0.5040\n",
            "Epoch 33/100\n",
            "122/125 [============================>.] - ETA: 0s - loss: 0.6806 - accuracy: 0.5266\n",
            "Epoch 33: val_accuracy did not improve from 0.50800\n",
            "125/125 [==============================] - 0s 3ms/step - loss: 0.6804 - accuracy: 0.5275 - val_loss: 0.7076 - val_accuracy: 0.5020\n",
            "Epoch 34/100\n",
            "121/125 [============================>.] - ETA: 0s - loss: 0.6767 - accuracy: 0.5284\n",
            "Epoch 34: val_accuracy improved from 0.50800 to 0.51000, saving model to /content/drive/MyDrive/Colab Notebooks/HOLD/CNN_One.h5\n",
            "125/125 [==============================] - 1s 7ms/step - loss: 0.6767 - accuracy: 0.5290 - val_loss: 0.7028 - val_accuracy: 0.5100\n",
            "Epoch 35/100\n",
            "123/125 [============================>.] - ETA: 0s - loss: 0.6781 - accuracy: 0.5279\n",
            "Epoch 35: val_accuracy did not improve from 0.51000\n",
            "125/125 [==============================] - 0s 4ms/step - loss: 0.6779 - accuracy: 0.5285 - val_loss: 0.7118 - val_accuracy: 0.4980\n",
            "Epoch 36/100\n",
            "116/125 [==========================>...] - ETA: 0s - loss: 0.6753 - accuracy: 0.5315\n",
            "Epoch 36: val_accuracy did not improve from 0.51000\n",
            "125/125 [==============================] - 0s 4ms/step - loss: 0.6762 - accuracy: 0.5318 - val_loss: 0.7156 - val_accuracy: 0.4980\n",
            "Epoch 37/100\n",
            "122/125 [============================>.] - ETA: 0s - loss: 0.6765 - accuracy: 0.5085\n",
            "Epoch 37: val_accuracy did not improve from 0.51000\n",
            "125/125 [==============================] - 0s 3ms/step - loss: 0.6768 - accuracy: 0.5102 - val_loss: 0.7140 - val_accuracy: 0.5000\n",
            "Epoch 38/100\n",
            "119/125 [===========================>..] - ETA: 0s - loss: 0.6756 - accuracy: 0.5305\n",
            "Epoch 38: val_accuracy did not improve from 0.51000\n",
            "125/125 [==============================] - 0s 4ms/step - loss: 0.6757 - accuracy: 0.5293 - val_loss: 0.7090 - val_accuracy: 0.5040\n",
            "Epoch 39/100\n",
            "122/125 [============================>.] - ETA: 0s - loss: 0.6764 - accuracy: 0.5305\n",
            "Epoch 39: val_accuracy did not improve from 0.51000\n",
            "125/125 [==============================] - 0s 3ms/step - loss: 0.6764 - accuracy: 0.5297 - val_loss: 0.7047 - val_accuracy: 0.5040\n",
            "Epoch 40/100\n",
            "118/125 [===========================>..] - ETA: 0s - loss: 0.6763 - accuracy: 0.5289\n",
            "Epoch 40: val_accuracy did not improve from 0.51000\n",
            "125/125 [==============================] - 0s 4ms/step - loss: 0.6761 - accuracy: 0.5293 - val_loss: 0.7154 - val_accuracy: 0.4980\n",
            "Epoch 41/100\n",
            "119/125 [===========================>..] - ETA: 0s - loss: 0.6768 - accuracy: 0.5299\n",
            "Epoch 41: val_accuracy did not improve from 0.51000\n",
            "125/125 [==============================] - 0s 4ms/step - loss: 0.6767 - accuracy: 0.5290 - val_loss: 0.7138 - val_accuracy: 0.4960\n",
            "Epoch 42/100\n",
            "123/125 [============================>.] - ETA: 0s - loss: 0.6761 - accuracy: 0.5318\n",
            "Epoch 42: val_accuracy did not improve from 0.51000\n",
            "125/125 [==============================] - 0s 3ms/step - loss: 0.6763 - accuracy: 0.5305 - val_loss: 0.7163 - val_accuracy: 0.4960\n",
            "Epoch 43/100\n",
            "120/125 [===========================>..] - ETA: 0s - loss: 0.6758 - accuracy: 0.5307\n",
            "Epoch 43: val_accuracy did not improve from 0.51000\n",
            "125/125 [==============================] - 0s 4ms/step - loss: 0.6760 - accuracy: 0.5282 - val_loss: 0.7119 - val_accuracy: 0.4960\n",
            "Epoch 44/100\n",
            "125/125 [==============================] - ETA: 0s - loss: 0.6766 - accuracy: 0.5210\n",
            "Epoch 44: val_accuracy did not improve from 0.51000\n",
            "125/125 [==============================] - 0s 3ms/step - loss: 0.6766 - accuracy: 0.5210 - val_loss: 0.7166 - val_accuracy: 0.4980\n",
            "Epoch 45/100\n",
            "119/125 [===========================>..] - ETA: 0s - loss: 0.6757 - accuracy: 0.5305\n",
            "Epoch 45: val_accuracy did not improve from 0.51000\n",
            "125/125 [==============================] - 0s 4ms/step - loss: 0.6756 - accuracy: 0.5285 - val_loss: 0.7081 - val_accuracy: 0.5020\n",
            "Epoch 46/100\n",
            "121/125 [============================>.] - ETA: 0s - loss: 0.6771 - accuracy: 0.5300\n",
            "Epoch 46: val_accuracy did not improve from 0.51000\n",
            "125/125 [==============================] - 0s 3ms/step - loss: 0.6769 - accuracy: 0.5300 - val_loss: 0.7087 - val_accuracy: 0.5020\n",
            "Epoch 47/100\n",
            "124/125 [============================>.] - ETA: 0s - loss: 0.6751 - accuracy: 0.5287\n",
            "Epoch 47: val_accuracy did not improve from 0.51000\n",
            "125/125 [==============================] - 1s 5ms/step - loss: 0.6754 - accuracy: 0.5300 - val_loss: 0.7041 - val_accuracy: 0.5060\n",
            "Epoch 48/100\n",
            "114/125 [==========================>...] - ETA: 0s - loss: 0.6747 - accuracy: 0.5351\n",
            "Epoch 48: val_accuracy did not improve from 0.51000\n",
            "125/125 [==============================] - 1s 5ms/step - loss: 0.6759 - accuracy: 0.5290 - val_loss: 0.7146 - val_accuracy: 0.4980\n",
            "Epoch 49/100\n",
            "116/125 [==========================>...] - ETA: 0s - loss: 0.6753 - accuracy: 0.5288\n",
            "Epoch 49: val_accuracy did not improve from 0.51000\n",
            "125/125 [==============================] - 1s 5ms/step - loss: 0.6761 - accuracy: 0.5295 - val_loss: 0.7212 - val_accuracy: 0.4940\n",
            "Epoch 50/100\n",
            "125/125 [==============================] - ETA: 0s - loss: 0.6773 - accuracy: 0.5270\n",
            "Epoch 50: val_accuracy did not improve from 0.51000\n",
            "125/125 [==============================] - 1s 5ms/step - loss: 0.6773 - accuracy: 0.5270 - val_loss: 0.7114 - val_accuracy: 0.5060\n",
            "Epoch 51/100\n",
            "118/125 [===========================>..] - ETA: 0s - loss: 0.6755 - accuracy: 0.5328\n",
            "Epoch 51: val_accuracy did not improve from 0.51000\n",
            "125/125 [==============================] - 1s 5ms/step - loss: 0.6758 - accuracy: 0.5290 - val_loss: 0.7139 - val_accuracy: 0.4980\n",
            "Epoch 52/100\n",
            "115/125 [==========================>...] - ETA: 0s - loss: 0.6733 - accuracy: 0.5353\n",
            "Epoch 52: val_accuracy did not improve from 0.51000\n",
            "125/125 [==============================] - 1s 5ms/step - loss: 0.6744 - accuracy: 0.5315 - val_loss: 0.7038 - val_accuracy: 0.5040\n",
            "Epoch 53/100\n",
            "115/125 [==========================>...] - ETA: 0s - loss: 0.6760 - accuracy: 0.5318\n",
            "Epoch 53: val_accuracy did not improve from 0.51000\n",
            "125/125 [==============================] - 1s 5ms/step - loss: 0.6753 - accuracy: 0.5288 - val_loss: 0.7039 - val_accuracy: 0.5060\n",
            "Epoch 54/100\n",
            "113/125 [==========================>...] - ETA: 0s - loss: 0.6760 - accuracy: 0.5282\n",
            "Epoch 54: val_accuracy did not improve from 0.51000\n",
            "125/125 [==============================] - 1s 5ms/step - loss: 0.6754 - accuracy: 0.5300 - val_loss: 0.7008 - val_accuracy: 0.5060\n",
            "Epoch 55/100\n",
            "121/125 [============================>.] - ETA: 0s - loss: 0.6773 - accuracy: 0.5199\n",
            "Epoch 55: val_accuracy did not improve from 0.51000\n",
            "125/125 [==============================] - 0s 4ms/step - loss: 0.6765 - accuracy: 0.5222 - val_loss: 0.7121 - val_accuracy: 0.4960\n",
            "Epoch 56/100\n",
            "111/125 [=========================>....] - ETA: 0s - loss: 0.6778 - accuracy: 0.5293\n",
            "Epoch 56: val_accuracy did not improve from 0.51000\n",
            "125/125 [==============================] - 0s 4ms/step - loss: 0.6770 - accuracy: 0.5295 - val_loss: 0.7085 - val_accuracy: 0.5020\n",
            "Epoch 57/100\n",
            "118/125 [===========================>..] - ETA: 0s - loss: 0.6753 - accuracy: 0.5305\n",
            "Epoch 57: val_accuracy did not improve from 0.51000\n",
            "125/125 [==============================] - 0s 4ms/step - loss: 0.6754 - accuracy: 0.5303 - val_loss: 0.7161 - val_accuracy: 0.5000\n",
            "Epoch 58/100\n",
            "117/125 [===========================>..] - ETA: 0s - loss: 0.6758 - accuracy: 0.5334\n",
            "Epoch 58: val_accuracy did not improve from 0.51000\n",
            "125/125 [==============================] - 0s 4ms/step - loss: 0.6757 - accuracy: 0.5288 - val_loss: 0.7139 - val_accuracy: 0.5000\n",
            "Epoch 59/100\n",
            "120/125 [===========================>..] - ETA: 0s - loss: 0.6748 - accuracy: 0.5227\n",
            "Epoch 59: val_accuracy did not improve from 0.51000\n",
            "125/125 [==============================] - 0s 4ms/step - loss: 0.6743 - accuracy: 0.5185 - val_loss: 0.7105 - val_accuracy: 0.5020\n",
            "Epoch 60/100\n",
            "115/125 [==========================>...] - ETA: 0s - loss: 0.6736 - accuracy: 0.5139\n",
            "Epoch 60: val_accuracy did not improve from 0.51000\n",
            "125/125 [==============================] - 0s 4ms/step - loss: 0.6747 - accuracy: 0.5165 - val_loss: 0.7014 - val_accuracy: 0.5100\n",
            "Epoch 61/100\n",
            "119/125 [===========================>..] - ETA: 0s - loss: 0.6759 - accuracy: 0.5284\n",
            "Epoch 61: val_accuracy did not improve from 0.51000\n",
            "125/125 [==============================] - 0s 4ms/step - loss: 0.6758 - accuracy: 0.5310 - val_loss: 0.7096 - val_accuracy: 0.5040\n",
            "Epoch 62/100\n",
            "121/125 [============================>.] - ETA: 0s - loss: 0.6746 - accuracy: 0.5328\n",
            "Epoch 62: val_accuracy did not improve from 0.51000\n",
            "125/125 [==============================] - 0s 4ms/step - loss: 0.6746 - accuracy: 0.5310 - val_loss: 0.7083 - val_accuracy: 0.5060\n",
            "Epoch 63/100\n",
            "120/125 [===========================>..] - ETA: 0s - loss: 0.6757 - accuracy: 0.5289\n",
            "Epoch 63: val_accuracy did not improve from 0.51000\n",
            "125/125 [==============================] - 0s 4ms/step - loss: 0.6747 - accuracy: 0.5303 - val_loss: 0.7165 - val_accuracy: 0.5040\n",
            "Epoch 64/100\n",
            "120/125 [===========================>..] - ETA: 0s - loss: 0.6741 - accuracy: 0.5276\n",
            "Epoch 64: val_accuracy did not improve from 0.51000\n",
            "125/125 [==============================] - 0s 4ms/step - loss: 0.6743 - accuracy: 0.5285 - val_loss: 0.7078 - val_accuracy: 0.5060\n",
            "Epoch 65/100\n",
            "117/125 [===========================>..] - ETA: 0s - loss: 0.6738 - accuracy: 0.5347\n",
            "Epoch 65: val_accuracy did not improve from 0.51000\n",
            "125/125 [==============================] - 0s 4ms/step - loss: 0.6744 - accuracy: 0.5307 - val_loss: 0.7097 - val_accuracy: 0.5020\n",
            "Epoch 66/100\n",
            "119/125 [===========================>..] - ETA: 0s - loss: 0.6750 - accuracy: 0.5284\n",
            "Epoch 66: val_accuracy did not improve from 0.51000\n",
            "125/125 [==============================] - 0s 4ms/step - loss: 0.6744 - accuracy: 0.5297 - val_loss: 0.7169 - val_accuracy: 0.4980\n",
            "Epoch 67/100\n",
            "118/125 [===========================>..] - ETA: 0s - loss: 0.6749 - accuracy: 0.5233\n",
            "Epoch 67: val_accuracy did not improve from 0.51000\n",
            "125/125 [==============================] - 0s 4ms/step - loss: 0.6739 - accuracy: 0.5290 - val_loss: 0.7134 - val_accuracy: 0.5040\n",
            "Epoch 68/100\n",
            "120/125 [===========================>..] - ETA: 0s - loss: 0.6743 - accuracy: 0.5227\n",
            "Epoch 68: val_accuracy did not improve from 0.51000\n",
            "125/125 [==============================] - 0s 3ms/step - loss: 0.6747 - accuracy: 0.5228 - val_loss: 0.7107 - val_accuracy: 0.5060\n",
            "Epoch 69/100\n",
            "118/125 [===========================>..] - ETA: 0s - loss: 0.6721 - accuracy: 0.5297\n",
            "Epoch 69: val_accuracy did not improve from 0.51000\n",
            "125/125 [==============================] - 0s 4ms/step - loss: 0.6732 - accuracy: 0.5297 - val_loss: 0.7222 - val_accuracy: 0.4980\n",
            "Epoch 70/100\n",
            "119/125 [===========================>..] - ETA: 0s - loss: 0.6759 - accuracy: 0.5307\n",
            "Epoch 70: val_accuracy did not improve from 0.51000\n",
            "125/125 [==============================] - 0s 3ms/step - loss: 0.6752 - accuracy: 0.5297 - val_loss: 0.7122 - val_accuracy: 0.5000\n",
            "Epoch 71/100\n",
            "118/125 [===========================>..] - ETA: 0s - loss: 0.6743 - accuracy: 0.5265\n",
            "Epoch 71: val_accuracy did not improve from 0.51000\n",
            "125/125 [==============================] - 0s 4ms/step - loss: 0.6738 - accuracy: 0.5300 - val_loss: 0.7131 - val_accuracy: 0.5060\n",
            "Epoch 72/100\n",
            "120/125 [===========================>..] - ETA: 0s - loss: 0.6745 - accuracy: 0.5229\n",
            "Epoch 72: val_accuracy did not improve from 0.51000\n",
            "125/125 [==============================] - 0s 3ms/step - loss: 0.6744 - accuracy: 0.5235 - val_loss: 0.7122 - val_accuracy: 0.5040\n",
            "Epoch 73/100\n",
            "121/125 [============================>.] - ETA: 0s - loss: 0.6741 - accuracy: 0.5318\n",
            "Epoch 73: val_accuracy did not improve from 0.51000\n",
            "125/125 [==============================] - 0s 3ms/step - loss: 0.6737 - accuracy: 0.5312 - val_loss: 0.7112 - val_accuracy: 0.5040\n",
            "Epoch 74/100\n",
            "121/125 [============================>.] - ETA: 0s - loss: 0.6741 - accuracy: 0.5343\n",
            "Epoch 74: val_accuracy did not improve from 0.51000\n",
            "125/125 [==============================] - 0s 3ms/step - loss: 0.6749 - accuracy: 0.5312 - val_loss: 0.7145 - val_accuracy: 0.5020\n",
            "Epoch 75/100\n",
            "120/125 [===========================>..] - ETA: 0s - loss: 0.6729 - accuracy: 0.5297\n",
            "Epoch 75: val_accuracy did not improve from 0.51000\n",
            "125/125 [==============================] - 0s 4ms/step - loss: 0.6731 - accuracy: 0.5297 - val_loss: 0.7171 - val_accuracy: 0.5080\n",
            "Epoch 76/100\n",
            "120/125 [===========================>..] - ETA: 0s - loss: 0.6744 - accuracy: 0.5271\n",
            "Epoch 76: val_accuracy did not improve from 0.51000\n",
            "125/125 [==============================] - 1s 5ms/step - loss: 0.6750 - accuracy: 0.5255 - val_loss: 0.7161 - val_accuracy: 0.5020\n",
            "Epoch 77/100\n",
            "117/125 [===========================>..] - ETA: 0s - loss: 0.6739 - accuracy: 0.5272\n",
            "Epoch 77: val_accuracy did not improve from 0.51000\n",
            "125/125 [==============================] - 1s 5ms/step - loss: 0.6738 - accuracy: 0.5305 - val_loss: 0.7183 - val_accuracy: 0.5060\n",
            "Epoch 78/100\n",
            "123/125 [============================>.] - ETA: 0s - loss: 0.6756 - accuracy: 0.5325\n",
            "Epoch 78: val_accuracy did not improve from 0.51000\n",
            "125/125 [==============================] - 1s 5ms/step - loss: 0.6758 - accuracy: 0.5322 - val_loss: 0.7142 - val_accuracy: 0.4980\n",
            "Epoch 79/100\n",
            "123/125 [============================>.] - ETA: 0s - loss: 0.6740 - accuracy: 0.5254\n",
            "Epoch 79: val_accuracy did not improve from 0.51000\n",
            "125/125 [==============================] - 1s 5ms/step - loss: 0.6740 - accuracy: 0.5260 - val_loss: 0.7164 - val_accuracy: 0.5040\n",
            "Epoch 80/100\n",
            "124/125 [============================>.] - ETA: 0s - loss: 0.6736 - accuracy: 0.5255\n",
            "Epoch 80: val_accuracy did not improve from 0.51000\n",
            "125/125 [==============================] - 1s 5ms/step - loss: 0.6737 - accuracy: 0.5255 - val_loss: 0.7179 - val_accuracy: 0.4960\n",
            "Epoch 81/100\n",
            "122/125 [============================>.] - ETA: 0s - loss: 0.6739 - accuracy: 0.5200\n",
            "Epoch 81: val_accuracy did not improve from 0.51000\n",
            "125/125 [==============================] - 1s 5ms/step - loss: 0.6738 - accuracy: 0.5215 - val_loss: 0.7089 - val_accuracy: 0.5040\n",
            "Epoch 82/100\n",
            "122/125 [============================>.] - ETA: 0s - loss: 0.6735 - accuracy: 0.5266\n",
            "Epoch 82: val_accuracy did not improve from 0.51000\n",
            "125/125 [==============================] - 1s 5ms/step - loss: 0.6741 - accuracy: 0.5280 - val_loss: 0.7123 - val_accuracy: 0.5040\n",
            "Epoch 83/100\n",
            "113/125 [==========================>...] - ETA: 0s - loss: 0.6753 - accuracy: 0.5332\n",
            "Epoch 83: val_accuracy did not improve from 0.51000\n",
            "125/125 [==============================] - 1s 5ms/step - loss: 0.6744 - accuracy: 0.5293 - val_loss: 0.7147 - val_accuracy: 0.5020\n",
            "Epoch 84/100\n",
            "117/125 [===========================>..] - ETA: 0s - loss: 0.6746 - accuracy: 0.5176\n",
            "Epoch 84: val_accuracy did not improve from 0.51000\n",
            "125/125 [==============================] - 0s 4ms/step - loss: 0.6742 - accuracy: 0.5220 - val_loss: 0.7149 - val_accuracy: 0.5080\n",
            "Epoch 85/100\n",
            "120/125 [===========================>..] - ETA: 0s - loss: 0.6725 - accuracy: 0.5297\n",
            "Epoch 85: val_accuracy did not improve from 0.51000\n",
            "125/125 [==============================] - 0s 4ms/step - loss: 0.6729 - accuracy: 0.5293 - val_loss: 0.7185 - val_accuracy: 0.4980\n",
            "Epoch 86/100\n",
            "121/125 [============================>.] - ETA: 0s - loss: 0.6731 - accuracy: 0.5287\n",
            "Epoch 86: val_accuracy did not improve from 0.51000\n",
            "125/125 [==============================] - 0s 4ms/step - loss: 0.6734 - accuracy: 0.5290 - val_loss: 0.7178 - val_accuracy: 0.5000\n",
            "Epoch 87/100\n",
            "118/125 [===========================>..] - ETA: 0s - loss: 0.6743 - accuracy: 0.5230\n",
            "Epoch 87: val_accuracy did not improve from 0.51000\n",
            "125/125 [==============================] - 0s 4ms/step - loss: 0.6738 - accuracy: 0.5228 - val_loss: 0.7193 - val_accuracy: 0.4980\n",
            "Epoch 88/100\n",
            "121/125 [============================>.] - ETA: 0s - loss: 0.6744 - accuracy: 0.5305\n",
            "Epoch 88: val_accuracy did not improve from 0.51000\n",
            "125/125 [==============================] - 0s 3ms/step - loss: 0.6747 - accuracy: 0.5290 - val_loss: 0.7141 - val_accuracy: 0.5040\n",
            "Epoch 89/100\n",
            "118/125 [===========================>..] - ETA: 0s - loss: 0.6718 - accuracy: 0.5334\n",
            "Epoch 89: val_accuracy did not improve from 0.51000\n",
            "125/125 [==============================] - 0s 4ms/step - loss: 0.6727 - accuracy: 0.5320 - val_loss: 0.7161 - val_accuracy: 0.5040\n",
            "Epoch 90/100\n",
            "123/125 [============================>.] - ETA: 0s - loss: 0.6730 - accuracy: 0.5312\n",
            "Epoch 90: val_accuracy did not improve from 0.51000\n",
            "125/125 [==============================] - 0s 3ms/step - loss: 0.6732 - accuracy: 0.5320 - val_loss: 0.7164 - val_accuracy: 0.5020\n",
            "Epoch 91/100\n",
            "119/125 [===========================>..] - ETA: 0s - loss: 0.6732 - accuracy: 0.5291\n",
            "Epoch 91: val_accuracy did not improve from 0.51000\n",
            "125/125 [==============================] - 0s 3ms/step - loss: 0.6739 - accuracy: 0.5310 - val_loss: 0.7106 - val_accuracy: 0.5040\n",
            "Epoch 92/100\n",
            "122/125 [============================>.] - ETA: 0s - loss: 0.6742 - accuracy: 0.5330\n",
            "Epoch 92: val_accuracy did not improve from 0.51000\n",
            "125/125 [==============================] - 0s 3ms/step - loss: 0.6734 - accuracy: 0.5318 - val_loss: 0.7107 - val_accuracy: 0.5020\n",
            "Epoch 93/100\n",
            "124/125 [============================>.] - ETA: 0s - loss: 0.6738 - accuracy: 0.5126\n",
            "Epoch 93: val_accuracy did not improve from 0.51000\n",
            "125/125 [==============================] - 0s 3ms/step - loss: 0.6740 - accuracy: 0.5123 - val_loss: 0.7161 - val_accuracy: 0.5020\n",
            "Epoch 94/100\n",
            "120/125 [===========================>..] - ETA: 0s - loss: 0.6724 - accuracy: 0.5331\n",
            "Epoch 94: val_accuracy did not improve from 0.51000\n",
            "125/125 [==============================] - 0s 4ms/step - loss: 0.6725 - accuracy: 0.5312 - val_loss: 0.7140 - val_accuracy: 0.5020\n",
            "Epoch 95/100\n",
            "112/125 [=========================>....] - ETA: 0s - loss: 0.6749 - accuracy: 0.5285\n",
            "Epoch 95: val_accuracy did not improve from 0.51000\n",
            "125/125 [==============================] - 0s 4ms/step - loss: 0.6740 - accuracy: 0.5295 - val_loss: 0.7171 - val_accuracy: 0.5060\n",
            "Epoch 96/100\n",
            "117/125 [===========================>..] - ETA: 0s - loss: 0.6716 - accuracy: 0.5334\n",
            "Epoch 96: val_accuracy did not improve from 0.51000\n",
            "125/125 [==============================] - 0s 4ms/step - loss: 0.6723 - accuracy: 0.5318 - val_loss: 0.7161 - val_accuracy: 0.5000\n",
            "Epoch 97/100\n",
            "118/125 [===========================>..] - ETA: 0s - loss: 0.6730 - accuracy: 0.5273\n",
            "Epoch 97: val_accuracy did not improve from 0.51000\n",
            "125/125 [==============================] - 0s 4ms/step - loss: 0.6731 - accuracy: 0.5285 - val_loss: 0.7221 - val_accuracy: 0.5040\n",
            "Epoch 98/100\n",
            "117/125 [===========================>..] - ETA: 0s - loss: 0.6733 - accuracy: 0.5283\n",
            "Epoch 98: val_accuracy did not improve from 0.51000\n",
            "125/125 [==============================] - 0s 4ms/step - loss: 0.6721 - accuracy: 0.5322 - val_loss: 0.7113 - val_accuracy: 0.5060\n",
            "Epoch 99/100\n",
            "120/125 [===========================>..] - ETA: 0s - loss: 0.6740 - accuracy: 0.5292\n",
            "Epoch 99: val_accuracy did not improve from 0.51000\n",
            "125/125 [==============================] - 0s 4ms/step - loss: 0.6737 - accuracy: 0.5297 - val_loss: 0.7074 - val_accuracy: 0.5080\n",
            "Epoch 100/100\n",
            "113/125 [==========================>...] - ETA: 0s - loss: 0.6724 - accuracy: 0.5227\n",
            "Epoch 100: val_accuracy did not improve from 0.51000\n",
            "125/125 [==============================] - 0s 4ms/step - loss: 0.6728 - accuracy: 0.5280 - val_loss: 0.7206 - val_accuracy: 0.5040\n"
          ]
        }
      ],
      "source": [
        "model.compile(optimizer=keras.optimizers.Adam(learning_rate=0.001),\n",
        "    loss='binary_crossentropy',\n",
        "    metrics=['accuracy'])\n",
        "\n",
        "history = model.fit(\n",
        "    train_pad_sequences,\n",
        "    np.array(train_df['enc_label']),\n",
        "    epochs=100,\n",
        "    batch_size=32,\n",
        "    validation_data=(test_pad_sequences, np.array(y_data_with_label)),\n",
        "    verbose=1,\n",
        "    callbacks=callback_list\n",
        ")\n",
        " # as here weight is not using"
      ]
    },
    {
      "cell_type": "code",
      "execution_count": 106,
      "metadata": {
        "colab": {
          "base_uri": "https://localhost:8080/"
        },
        "id": "hX1Wg8LLZJy2",
        "outputId": "2e79e91a-6dff-4194-859a-9ce847c19b88"
      },
      "outputs": [
        {
          "name": "stdout",
          "output_type": "stream",
          "text": [
            "16/16 [==============================] - 0s 2ms/step\n",
            "Classification Report for Loaded Model:\n",
            "               precision    recall  f1-score   support\n",
            "\n",
            "           0     0.5714    0.0800    0.1404       250\n",
            "           1     0.5054    0.9400    0.6573       250\n",
            "\n",
            "    accuracy                         0.5100       500\n",
            "   macro avg     0.5384    0.5100    0.3988       500\n",
            "weighted avg     0.5384    0.5100    0.3988       500\n",
            "\n"
          ]
        }
      ],
      "source": [
        "import numpy as np\n",
        "from sklearn.metrics import classification_report\n",
        "from tensorflow.keras.models import load_model\n",
        "\n",
        "# Assuming y_pred is a 2D array of predicted probabilities for each class\n",
        "# Adjust axis parameter if needed based on the shape of your y_pred array\n",
        "loaded_model = load_model(filepath)\n",
        "\n",
        "# Evaluate the model on the validation set\n",
        "y_pred = loaded_model.predict(test_pad_sequences)\n",
        "\n",
        "# Convert probabilities to binary predictions using a threshold (e.g., 0.5)\n",
        "threshold = 0.5\n",
        "y_pred_classes = (y_pred > threshold).astype(int)\n",
        "\n",
        "# Generate a classification report\n",
        "classification_report_loaded_model = classification_report(y_data_with_label, y_pred_classes, digits=4)\n",
        "print('Classification Report for Loaded Model:\\n', classification_report_loaded_model)\n"
      ]
    },
    {
      "cell_type": "markdown",
      "metadata": {
        "id": "fjWAhNyoZSFX"
      },
      "source": [
        "## CNN + BiLSTM(Word2Vec)"
      ]
    },
    {
      "cell_type": "code",
      "execution_count": 107,
      "metadata": {
        "id": "WR8yP5HzZhgm"
      },
      "outputs": [],
      "source": [
        "num_classes = 2            #### change class number\n",
        "\n",
        "accuracy_threshold = 0.99\n",
        "\n",
        "class myCallback(keras.callbacks.Callback):\n",
        "  def on_epoch_end(self, epoch, logs={}):\n",
        "      if(logs.get('accuracy')>accuracy_threshold):\n",
        "        print(\"\\nReached %2.2f%% accuracy so we will stop trianing\" % (accuracy_threshold*100))\n",
        "        self.model.stop_training = True\n",
        "\n",
        "acc_callback = myCallback()\n",
        "# Saved the Best Model\n",
        "filepath = \"/content/drive/MyDrive/Colab Notebooks/HOLD/\" + \"CNN_BiLSTM.h5\"\n",
        "checkpoint = keras.callbacks.ModelCheckpoint(filepath, monitor='val_accuracy', verbose=2, save_best_only=True,\n",
        "                                             save_weights_only=False, mode='max')\n",
        "# callback list\n",
        "callback_list = [acc_callback, checkpoint]"
      ]
    },
    {
      "cell_type": "code",
      "execution_count": 108,
      "metadata": {
        "colab": {
          "base_uri": "https://localhost:8080/"
        },
        "id": "2bCMx5ETZRbn",
        "outputId": "ae12dc8f-7fde-4385-b0c6-e04f6a1a8720"
      },
      "outputs": [
        {
          "name": "stdout",
          "output_type": "stream",
          "text": [
            "Model: \"sequential_14\"\n",
            "_________________________________________________________________\n",
            " Layer (type)                Output Shape              Param #   \n",
            "=================================================================\n",
            " embedding_15 (Embedding)    (None, 100, 300)          4545300   \n",
            "                                                                 \n",
            " conv1d_6 (Conv1D)           (None, 96, 128)           192128    \n",
            "                                                                 \n",
            " max_pooling1d_1 (MaxPoolin  (None, 19, 128)           0         \n",
            " g1D)                                                            \n",
            "                                                                 \n",
            " bidirectional_10 (Bidirect  (None, 19, 400)           526400    \n",
            " ional)                                                          \n",
            "                                                                 \n",
            " flatten_9 (Flatten)         (None, 7600)              0         \n",
            "                                                                 \n",
            " dense_14 (Dense)            (None, 1)                 7601      \n",
            "                                                                 \n",
            "=================================================================\n",
            "Total params: 5271429 (20.11 MB)\n",
            "Trainable params: 726129 (2.77 MB)\n",
            "Non-trainable params: 4545300 (17.34 MB)\n",
            "_________________________________________________________________\n"
          ]
        }
      ],
      "source": [
        "model = tf.keras.models.Sequential([\n",
        "tf.keras.layers.Embedding(vocab_size, 300, weights=[embedding_matrix],trainable=False, input_length = max_len),\n",
        "tf.keras.layers.Conv1D(128, 5, activation='relu'),\n",
        "tf.keras.layers.MaxPooling1D(5),\n",
        "tf.keras.layers.Bidirectional(LSTM(units = 200,return_sequences=True,dropout = 0.2)),\n",
        "tf.keras.layers.Flatten(),\n",
        "tf.keras.layers.Dense(1, activation='sigmoid')])\n",
        "\n",
        "model.summary()"
      ]
    },
    {
      "cell_type": "code",
      "execution_count": 109,
      "metadata": {
        "colab": {
          "base_uri": "https://localhost:8080/"
        },
        "id": "y8Dil1cSZpvG",
        "outputId": "03aa995a-20ae-4bd6-a8dd-e42e05e9c6b2"
      },
      "outputs": [
        {
          "name": "stdout",
          "output_type": "stream",
          "text": [
            "Epoch 1/100\n",
            "124/125 [============================>.] - ETA: 0s - loss: 0.6916 - accuracy: 0.5050\n",
            "Epoch 1: val_accuracy improved from -inf to 0.51200, saving model to /content/drive/MyDrive/Colab Notebooks/HOLD/CNN_BiLSTM.h5\n",
            "125/125 [==============================] - 5s 15ms/step - loss: 0.6916 - accuracy: 0.5045 - val_loss: 0.6936 - val_accuracy: 0.5120\n",
            "Epoch 2/100\n",
            "121/125 [============================>.] - ETA: 0s - loss: 0.6891 - accuracy: 0.5196\n",
            "Epoch 2: val_accuracy did not improve from 0.51200\n",
            "125/125 [==============================] - 1s 7ms/step - loss: 0.6889 - accuracy: 0.5203 - val_loss: 0.6954 - val_accuracy: 0.4960\n",
            "Epoch 3/100\n",
            "124/125 [============================>.] - ETA: 0s - loss: 0.6876 - accuracy: 0.5202\n",
            "Epoch 3: val_accuracy did not improve from 0.51200\n",
            "125/125 [==============================] - 1s 7ms/step - loss: 0.6875 - accuracy: 0.5200 - val_loss: 0.6973 - val_accuracy: 0.5100\n",
            "Epoch 4/100\n",
            "121/125 [============================>.] - ETA: 0s - loss: 0.6859 - accuracy: 0.5062\n",
            "Epoch 4: val_accuracy did not improve from 0.51200\n",
            "125/125 [==============================] - 1s 9ms/step - loss: 0.6853 - accuracy: 0.5060 - val_loss: 0.7087 - val_accuracy: 0.4920\n",
            "Epoch 5/100\n",
            "124/125 [============================>.] - ETA: 0s - loss: 0.6856 - accuracy: 0.5154\n",
            "Epoch 5: val_accuracy did not improve from 0.51200\n",
            "125/125 [==============================] - 1s 10ms/step - loss: 0.6855 - accuracy: 0.5163 - val_loss: 0.6998 - val_accuracy: 0.5060\n",
            "Epoch 6/100\n",
            "125/125 [==============================] - ETA: 0s - loss: 0.6828 - accuracy: 0.5090\n",
            "Epoch 6: val_accuracy did not improve from 0.51200\n",
            "125/125 [==============================] - 1s 11ms/step - loss: 0.6828 - accuracy: 0.5090 - val_loss: 0.7004 - val_accuracy: 0.5100\n",
            "Epoch 7/100\n",
            "125/125 [==============================] - ETA: 0s - loss: 0.6826 - accuracy: 0.5178\n",
            "Epoch 7: val_accuracy did not improve from 0.51200\n",
            "125/125 [==============================] - 1s 11ms/step - loss: 0.6826 - accuracy: 0.5178 - val_loss: 0.7015 - val_accuracy: 0.4940\n",
            "Epoch 8/100\n",
            "119/125 [===========================>..] - ETA: 0s - loss: 0.6795 - accuracy: 0.5242\n",
            "Epoch 8: val_accuracy did not improve from 0.51200\n",
            "125/125 [==============================] - 1s 7ms/step - loss: 0.6790 - accuracy: 0.5247 - val_loss: 0.7050 - val_accuracy: 0.5000\n",
            "Epoch 9/100\n",
            "125/125 [==============================] - ETA: 0s - loss: 0.6771 - accuracy: 0.5210\n",
            "Epoch 9: val_accuracy did not improve from 0.51200\n",
            "125/125 [==============================] - 1s 7ms/step - loss: 0.6771 - accuracy: 0.5210 - val_loss: 0.6946 - val_accuracy: 0.4960\n",
            "Epoch 10/100\n",
            "125/125 [==============================] - ETA: 0s - loss: 0.6768 - accuracy: 0.5232\n",
            "Epoch 10: val_accuracy did not improve from 0.51200\n",
            "125/125 [==============================] - 1s 8ms/step - loss: 0.6768 - accuracy: 0.5232 - val_loss: 0.6995 - val_accuracy: 0.5080\n",
            "Epoch 11/100\n",
            "121/125 [============================>.] - ETA: 0s - loss: 0.6756 - accuracy: 0.5240\n",
            "Epoch 11: val_accuracy did not improve from 0.51200\n",
            "125/125 [==============================] - 1s 7ms/step - loss: 0.6751 - accuracy: 0.5238 - val_loss: 0.7084 - val_accuracy: 0.5060\n",
            "Epoch 12/100\n",
            "118/125 [===========================>..] - ETA: 0s - loss: 0.6730 - accuracy: 0.5275\n",
            "Epoch 12: val_accuracy did not improve from 0.51200\n",
            "125/125 [==============================] - 1s 7ms/step - loss: 0.6731 - accuracy: 0.5300 - val_loss: 0.6985 - val_accuracy: 0.5100\n",
            "Epoch 13/100\n",
            "123/125 [============================>.] - ETA: 0s - loss: 0.6732 - accuracy: 0.5259\n",
            "Epoch 13: val_accuracy did not improve from 0.51200\n",
            "125/125 [==============================] - 1s 7ms/step - loss: 0.6733 - accuracy: 0.5268 - val_loss: 0.7031 - val_accuracy: 0.4920\n",
            "Epoch 14/100\n",
            "118/125 [===========================>..] - ETA: 0s - loss: 0.6704 - accuracy: 0.5244\n",
            "Epoch 14: val_accuracy did not improve from 0.51200\n",
            "125/125 [==============================] - 1s 7ms/step - loss: 0.6714 - accuracy: 0.5232 - val_loss: 0.6987 - val_accuracy: 0.5100\n",
            "Epoch 15/100\n",
            "119/125 [===========================>..] - ETA: 0s - loss: 0.6679 - accuracy: 0.5368\n",
            "Epoch 15: val_accuracy improved from 0.51200 to 0.51800, saving model to /content/drive/MyDrive/Colab Notebooks/HOLD/CNN_BiLSTM.h5\n",
            "125/125 [==============================] - 1s 11ms/step - loss: 0.6693 - accuracy: 0.5345 - val_loss: 0.6997 - val_accuracy: 0.5180\n",
            "Epoch 16/100\n",
            "118/125 [===========================>..] - ETA: 0s - loss: 0.6696 - accuracy: 0.5355\n",
            "Epoch 16: val_accuracy did not improve from 0.51800\n",
            "125/125 [==============================] - 1s 7ms/step - loss: 0.6694 - accuracy: 0.5335 - val_loss: 0.7026 - val_accuracy: 0.5080\n",
            "Epoch 17/100\n",
            "119/125 [===========================>..] - ETA: 0s - loss: 0.6688 - accuracy: 0.5312\n",
            "Epoch 17: val_accuracy did not improve from 0.51800\n",
            "125/125 [==============================] - 1s 7ms/step - loss: 0.6685 - accuracy: 0.5322 - val_loss: 0.7025 - val_accuracy: 0.5100\n",
            "Epoch 18/100\n",
            "121/125 [============================>.] - ETA: 0s - loss: 0.6658 - accuracy: 0.5343\n",
            "Epoch 18: val_accuracy did not improve from 0.51800\n",
            "125/125 [==============================] - 1s 8ms/step - loss: 0.6659 - accuracy: 0.5332 - val_loss: 0.7066 - val_accuracy: 0.4920\n",
            "Epoch 19/100\n",
            "125/125 [==============================] - ETA: 0s - loss: 0.6656 - accuracy: 0.5318\n",
            "Epoch 19: val_accuracy did not improve from 0.51800\n",
            "125/125 [==============================] - 1s 9ms/step - loss: 0.6656 - accuracy: 0.5318 - val_loss: 0.7039 - val_accuracy: 0.5140\n",
            "Epoch 20/100\n",
            "121/125 [============================>.] - ETA: 0s - loss: 0.6656 - accuracy: 0.5325\n",
            "Epoch 20: val_accuracy did not improve from 0.51800\n",
            "125/125 [==============================] - 1s 10ms/step - loss: 0.6645 - accuracy: 0.5343 - val_loss: 0.7165 - val_accuracy: 0.5140\n",
            "Epoch 21/100\n",
            "125/125 [==============================] - ETA: 0s - loss: 0.6645 - accuracy: 0.5315\n",
            "Epoch 21: val_accuracy did not improve from 0.51800\n",
            "125/125 [==============================] - 1s 10ms/step - loss: 0.6645 - accuracy: 0.5315 - val_loss: 0.7121 - val_accuracy: 0.5040\n",
            "Epoch 22/100\n",
            "125/125 [==============================] - ETA: 0s - loss: 0.6636 - accuracy: 0.5362\n",
            "Epoch 22: val_accuracy did not improve from 0.51800\n",
            "125/125 [==============================] - 1s 8ms/step - loss: 0.6636 - accuracy: 0.5362 - val_loss: 0.7121 - val_accuracy: 0.4900\n",
            "Epoch 23/100\n",
            "123/125 [============================>.] - ETA: 0s - loss: 0.6640 - accuracy: 0.5404\n",
            "Epoch 23: val_accuracy did not improve from 0.51800\n",
            "125/125 [==============================] - 1s 7ms/step - loss: 0.6641 - accuracy: 0.5403 - val_loss: 0.7111 - val_accuracy: 0.5080\n",
            "Epoch 24/100\n",
            "123/125 [============================>.] - ETA: 0s - loss: 0.6622 - accuracy: 0.5264\n",
            "Epoch 24: val_accuracy did not improve from 0.51800\n",
            "125/125 [==============================] - 1s 7ms/step - loss: 0.6626 - accuracy: 0.5257 - val_loss: 0.7071 - val_accuracy: 0.5100\n",
            "Epoch 25/100\n",
            "119/125 [===========================>..] - ETA: 0s - loss: 0.6625 - accuracy: 0.5307\n",
            "Epoch 25: val_accuracy did not improve from 0.51800\n",
            "125/125 [==============================] - 1s 7ms/step - loss: 0.6621 - accuracy: 0.5305 - val_loss: 0.7140 - val_accuracy: 0.5080\n",
            "Epoch 26/100\n",
            "124/125 [============================>.] - ETA: 0s - loss: 0.6611 - accuracy: 0.5479\n",
            "Epoch 26: val_accuracy did not improve from 0.51800\n",
            "125/125 [==============================] - 1s 7ms/step - loss: 0.6614 - accuracy: 0.5465 - val_loss: 0.7086 - val_accuracy: 0.5080\n",
            "Epoch 27/100\n",
            "123/125 [============================>.] - ETA: 0s - loss: 0.6627 - accuracy: 0.5384\n",
            "Epoch 27: val_accuracy did not improve from 0.51800\n",
            "125/125 [==============================] - 1s 7ms/step - loss: 0.6626 - accuracy: 0.5383 - val_loss: 0.7117 - val_accuracy: 0.5100\n",
            "Epoch 28/100\n",
            "118/125 [===========================>..] - ETA: 0s - loss: 0.6589 - accuracy: 0.5252\n",
            "Epoch 28: val_accuracy did not improve from 0.51800\n",
            "125/125 [==============================] - 1s 7ms/step - loss: 0.6594 - accuracy: 0.5245 - val_loss: 0.7202 - val_accuracy: 0.5080\n",
            "Epoch 29/100\n",
            "117/125 [===========================>..] - ETA: 0s - loss: 0.6607 - accuracy: 0.5347\n",
            "Epoch 29: val_accuracy did not improve from 0.51800\n",
            "125/125 [==============================] - 1s 7ms/step - loss: 0.6607 - accuracy: 0.5345 - val_loss: 0.7191 - val_accuracy: 0.5020\n",
            "Epoch 30/100\n",
            "119/125 [===========================>..] - ETA: 0s - loss: 0.6587 - accuracy: 0.5378\n",
            "Epoch 30: val_accuracy did not improve from 0.51800\n",
            "125/125 [==============================] - 1s 7ms/step - loss: 0.6584 - accuracy: 0.5380 - val_loss: 0.7138 - val_accuracy: 0.5120\n",
            "Epoch 31/100\n",
            "125/125 [==============================] - ETA: 0s - loss: 0.6587 - accuracy: 0.5487\n",
            "Epoch 31: val_accuracy did not improve from 0.51800\n",
            "125/125 [==============================] - 1s 7ms/step - loss: 0.6587 - accuracy: 0.5487 - val_loss: 0.7236 - val_accuracy: 0.5040\n",
            "Epoch 32/100\n",
            "119/125 [===========================>..] - ETA: 0s - loss: 0.6575 - accuracy: 0.5362\n",
            "Epoch 32: val_accuracy did not improve from 0.51800\n",
            "125/125 [==============================] - 1s 7ms/step - loss: 0.6570 - accuracy: 0.5380 - val_loss: 0.7251 - val_accuracy: 0.5080\n",
            "Epoch 33/100\n",
            "125/125 [==============================] - ETA: 0s - loss: 0.6589 - accuracy: 0.5330\n",
            "Epoch 33: val_accuracy did not improve from 0.51800\n",
            "125/125 [==============================] - 1s 8ms/step - loss: 0.6589 - accuracy: 0.5330 - val_loss: 0.7117 - val_accuracy: 0.5120\n",
            "Epoch 34/100\n",
            "122/125 [============================>.] - ETA: 0s - loss: 0.6562 - accuracy: 0.5415\n",
            "Epoch 34: val_accuracy did not improve from 0.51800\n",
            "125/125 [==============================] - 1s 10ms/step - loss: 0.6566 - accuracy: 0.5403 - val_loss: 0.7282 - val_accuracy: 0.5120\n",
            "Epoch 35/100\n",
            "121/125 [============================>.] - ETA: 0s - loss: 0.6573 - accuracy: 0.5343\n",
            "Epoch 35: val_accuracy did not improve from 0.51800\n",
            "125/125 [==============================] - 1s 10ms/step - loss: 0.6575 - accuracy: 0.5335 - val_loss: 0.7289 - val_accuracy: 0.4860\n",
            "Epoch 36/100\n",
            "120/125 [===========================>..] - ETA: 0s - loss: 0.6555 - accuracy: 0.5409\n",
            "Epoch 36: val_accuracy did not improve from 0.51800\n",
            "125/125 [==============================] - 1s 10ms/step - loss: 0.6559 - accuracy: 0.5397 - val_loss: 0.7284 - val_accuracy: 0.5080\n",
            "Epoch 37/100\n",
            "120/125 [===========================>..] - ETA: 0s - loss: 0.6566 - accuracy: 0.5276\n",
            "Epoch 37: val_accuracy did not improve from 0.51800\n",
            "125/125 [==============================] - 1s 7ms/step - loss: 0.6571 - accuracy: 0.5312 - val_loss: 0.7297 - val_accuracy: 0.5100\n",
            "Epoch 38/100\n",
            "125/125 [==============================] - ETA: 0s - loss: 0.6556 - accuracy: 0.5400\n",
            "Epoch 38: val_accuracy did not improve from 0.51800\n",
            "125/125 [==============================] - 1s 7ms/step - loss: 0.6556 - accuracy: 0.5400 - val_loss: 0.7299 - val_accuracy: 0.4860\n",
            "Epoch 39/100\n",
            "125/125 [==============================] - ETA: 0s - loss: 0.6553 - accuracy: 0.5460\n",
            "Epoch 39: val_accuracy did not improve from 0.51800\n",
            "125/125 [==============================] - 1s 7ms/step - loss: 0.6553 - accuracy: 0.5460 - val_loss: 0.7134 - val_accuracy: 0.5140\n",
            "Epoch 40/100\n",
            "122/125 [============================>.] - ETA: 0s - loss: 0.6572 - accuracy: 0.5187\n",
            "Epoch 40: val_accuracy did not improve from 0.51800\n",
            "125/125 [==============================] - 1s 7ms/step - loss: 0.6573 - accuracy: 0.5192 - val_loss: 0.7226 - val_accuracy: 0.5100\n",
            "Epoch 41/100\n",
            "120/125 [===========================>..] - ETA: 0s - loss: 0.6548 - accuracy: 0.5378\n",
            "Epoch 41: val_accuracy did not improve from 0.51800\n",
            "125/125 [==============================] - 1s 7ms/step - loss: 0.6550 - accuracy: 0.5385 - val_loss: 0.7259 - val_accuracy: 0.5080\n",
            "Epoch 42/100\n",
            "125/125 [==============================] - ETA: 0s - loss: 0.6557 - accuracy: 0.5293\n",
            "Epoch 42: val_accuracy did not improve from 0.51800\n",
            "125/125 [==============================] - 1s 7ms/step - loss: 0.6557 - accuracy: 0.5293 - val_loss: 0.7313 - val_accuracy: 0.5060\n",
            "Epoch 43/100\n",
            "119/125 [===========================>..] - ETA: 0s - loss: 0.6558 - accuracy: 0.5394\n",
            "Epoch 43: val_accuracy did not improve from 0.51800\n",
            "125/125 [==============================] - 1s 7ms/step - loss: 0.6558 - accuracy: 0.5418 - val_loss: 0.7342 - val_accuracy: 0.4900\n",
            "Epoch 44/100\n",
            "123/125 [============================>.] - ETA: 0s - loss: 0.6547 - accuracy: 0.5376\n",
            "Epoch 44: val_accuracy did not improve from 0.51800\n",
            "125/125 [==============================] - 1s 7ms/step - loss: 0.6548 - accuracy: 0.5365 - val_loss: 0.7383 - val_accuracy: 0.5100\n",
            "Epoch 45/100\n",
            "121/125 [============================>.] - ETA: 0s - loss: 0.6552 - accuracy: 0.5385\n",
            "Epoch 45: val_accuracy did not improve from 0.51800\n",
            "125/125 [==============================] - 1s 7ms/step - loss: 0.6545 - accuracy: 0.5410 - val_loss: 0.7393 - val_accuracy: 0.4940\n",
            "Epoch 46/100\n",
            "123/125 [============================>.] - ETA: 0s - loss: 0.6544 - accuracy: 0.5429\n",
            "Epoch 46: val_accuracy did not improve from 0.51800\n",
            "125/125 [==============================] - 1s 7ms/step - loss: 0.6534 - accuracy: 0.5435 - val_loss: 0.7401 - val_accuracy: 0.5100\n",
            "Epoch 47/100\n",
            "121/125 [============================>.] - ETA: 0s - loss: 0.6543 - accuracy: 0.5338\n",
            "Epoch 47: val_accuracy did not improve from 0.51800\n",
            "125/125 [==============================] - 1s 7ms/step - loss: 0.6555 - accuracy: 0.5318 - val_loss: 0.7393 - val_accuracy: 0.4920\n",
            "Epoch 48/100\n",
            "121/125 [============================>.] - ETA: 0s - loss: 0.6534 - accuracy: 0.5240\n",
            "Epoch 48: val_accuracy did not improve from 0.51800\n",
            "125/125 [==============================] - 1s 9ms/step - loss: 0.6542 - accuracy: 0.5257 - val_loss: 0.7463 - val_accuracy: 0.4940\n",
            "Epoch 49/100\n",
            "121/125 [============================>.] - ETA: 0s - loss: 0.6543 - accuracy: 0.5359\n",
            "Epoch 49: val_accuracy did not improve from 0.51800\n",
            "125/125 [==============================] - 1s 10ms/step - loss: 0.6542 - accuracy: 0.5347 - val_loss: 0.7423 - val_accuracy: 0.4900\n",
            "Epoch 50/100\n",
            "125/125 [==============================] - ETA: 0s - loss: 0.6545 - accuracy: 0.5370\n",
            "Epoch 50: val_accuracy did not improve from 0.51800\n",
            "125/125 [==============================] - 1s 9ms/step - loss: 0.6545 - accuracy: 0.5370 - val_loss: 0.7399 - val_accuracy: 0.5120\n",
            "Epoch 51/100\n",
            "121/125 [============================>.] - ETA: 0s - loss: 0.6563 - accuracy: 0.5382\n",
            "Epoch 51: val_accuracy did not improve from 0.51800\n",
            "125/125 [==============================] - 1s 10ms/step - loss: 0.6563 - accuracy: 0.5347 - val_loss: 0.7387 - val_accuracy: 0.5100\n",
            "Epoch 52/100\n",
            "122/125 [============================>.] - ETA: 0s - loss: 0.6551 - accuracy: 0.5320\n",
            "Epoch 52: val_accuracy did not improve from 0.51800\n",
            "125/125 [==============================] - 1s 7ms/step - loss: 0.6553 - accuracy: 0.5315 - val_loss: 0.7482 - val_accuracy: 0.5100\n",
            "Epoch 53/100\n",
            "124/125 [============================>.] - ETA: 0s - loss: 0.6530 - accuracy: 0.5370\n",
            "Epoch 53: val_accuracy did not improve from 0.51800\n",
            "125/125 [==============================] - 1s 7ms/step - loss: 0.6525 - accuracy: 0.5375 - val_loss: 0.7499 - val_accuracy: 0.4940\n",
            "Epoch 54/100\n",
            "121/125 [============================>.] - ETA: 0s - loss: 0.6520 - accuracy: 0.5408\n",
            "Epoch 54: val_accuracy did not improve from 0.51800\n",
            "125/125 [==============================] - 1s 7ms/step - loss: 0.6527 - accuracy: 0.5395 - val_loss: 0.7499 - val_accuracy: 0.5100\n",
            "Epoch 55/100\n",
            "121/125 [============================>.] - ETA: 0s - loss: 0.6532 - accuracy: 0.5387\n",
            "Epoch 55: val_accuracy did not improve from 0.51800\n",
            "125/125 [==============================] - 1s 7ms/step - loss: 0.6524 - accuracy: 0.5390 - val_loss: 0.7437 - val_accuracy: 0.5100\n",
            "Epoch 56/100\n",
            "118/125 [===========================>..] - ETA: 0s - loss: 0.6535 - accuracy: 0.5395\n",
            "Epoch 56: val_accuracy did not improve from 0.51800\n",
            "125/125 [==============================] - 1s 7ms/step - loss: 0.6531 - accuracy: 0.5403 - val_loss: 0.7461 - val_accuracy: 0.4920\n",
            "Epoch 57/100\n",
            "121/125 [============================>.] - ETA: 0s - loss: 0.6512 - accuracy: 0.5372\n",
            "Epoch 57: val_accuracy did not improve from 0.51800\n",
            "125/125 [==============================] - 1s 7ms/step - loss: 0.6524 - accuracy: 0.5343 - val_loss: 0.7480 - val_accuracy: 0.4940\n",
            "Epoch 58/100\n",
            "119/125 [===========================>..] - ETA: 0s - loss: 0.6497 - accuracy: 0.5370\n",
            "Epoch 58: val_accuracy did not improve from 0.51800\n",
            "125/125 [==============================] - 1s 7ms/step - loss: 0.6506 - accuracy: 0.5330 - val_loss: 0.7536 - val_accuracy: 0.5100\n",
            "Epoch 59/100\n",
            "118/125 [===========================>..] - ETA: 0s - loss: 0.6510 - accuracy: 0.5307\n",
            "Epoch 59: val_accuracy did not improve from 0.51800\n",
            "125/125 [==============================] - 1s 7ms/step - loss: 0.6508 - accuracy: 0.5345 - val_loss: 0.7452 - val_accuracy: 0.5120\n",
            "Epoch 60/100\n",
            "118/125 [===========================>..] - ETA: 0s - loss: 0.6509 - accuracy: 0.5315\n",
            "Epoch 60: val_accuracy did not improve from 0.51800\n",
            "125/125 [==============================] - 1s 7ms/step - loss: 0.6517 - accuracy: 0.5312 - val_loss: 0.7434 - val_accuracy: 0.5160\n",
            "Epoch 61/100\n",
            "124/125 [============================>.] - ETA: 0s - loss: 0.6530 - accuracy: 0.5446\n",
            "Epoch 61: val_accuracy did not improve from 0.51800\n",
            "125/125 [==============================] - 1s 7ms/step - loss: 0.6532 - accuracy: 0.5460 - val_loss: 0.7383 - val_accuracy: 0.5100\n",
            "Epoch 62/100\n",
            "117/125 [===========================>..] - ETA: 0s - loss: 0.6526 - accuracy: 0.5294\n",
            "Epoch 62: val_accuracy did not improve from 0.51800\n",
            "125/125 [==============================] - 1s 7ms/step - loss: 0.6523 - accuracy: 0.5290 - val_loss: 0.7556 - val_accuracy: 0.4940\n",
            "Epoch 63/100\n",
            "125/125 [==============================] - ETA: 0s - loss: 0.6526 - accuracy: 0.5297\n",
            "Epoch 63: val_accuracy did not improve from 0.51800\n",
            "125/125 [==============================] - 1s 9ms/step - loss: 0.6526 - accuracy: 0.5297 - val_loss: 0.7526 - val_accuracy: 0.4920\n",
            "Epoch 64/100\n",
            "120/125 [===========================>..] - ETA: 0s - loss: 0.6517 - accuracy: 0.5331\n",
            "Epoch 64: val_accuracy did not improve from 0.51800\n",
            "125/125 [==============================] - 1s 10ms/step - loss: 0.6510 - accuracy: 0.5335 - val_loss: 0.7462 - val_accuracy: 0.4940\n",
            "Epoch 65/100\n",
            "125/125 [==============================] - ETA: 0s - loss: 0.6503 - accuracy: 0.5225\n",
            "Epoch 65: val_accuracy did not improve from 0.51800\n",
            "125/125 [==============================] - 1s 10ms/step - loss: 0.6503 - accuracy: 0.5225 - val_loss: 0.7497 - val_accuracy: 0.5160\n",
            "Epoch 66/100\n",
            "118/125 [===========================>..] - ETA: 0s - loss: 0.6513 - accuracy: 0.5275\n",
            "Epoch 66: val_accuracy did not improve from 0.51800\n",
            "125/125 [==============================] - 1s 9ms/step - loss: 0.6512 - accuracy: 0.5268 - val_loss: 0.7484 - val_accuracy: 0.5000\n",
            "Epoch 67/100\n",
            "123/125 [============================>.] - ETA: 0s - loss: 0.6520 - accuracy: 0.5442\n",
            "Epoch 67: val_accuracy did not improve from 0.51800\n",
            "125/125 [==============================] - 1s 7ms/step - loss: 0.6514 - accuracy: 0.5428 - val_loss: 0.7580 - val_accuracy: 0.4920\n",
            "Epoch 68/100\n",
            "125/125 [==============================] - ETA: 0s - loss: 0.6508 - accuracy: 0.5245\n",
            "Epoch 68: val_accuracy did not improve from 0.51800\n",
            "125/125 [==============================] - 1s 7ms/step - loss: 0.6508 - accuracy: 0.5245 - val_loss: 0.7544 - val_accuracy: 0.4960\n",
            "Epoch 69/100\n",
            "121/125 [============================>.] - ETA: 0s - loss: 0.6486 - accuracy: 0.5431\n",
            "Epoch 69: val_accuracy did not improve from 0.51800\n",
            "125/125 [==============================] - 1s 7ms/step - loss: 0.6493 - accuracy: 0.5420 - val_loss: 0.7507 - val_accuracy: 0.5080\n",
            "Epoch 70/100\n",
            "120/125 [===========================>..] - ETA: 0s - loss: 0.6517 - accuracy: 0.5354\n",
            "Epoch 70: val_accuracy did not improve from 0.51800\n",
            "125/125 [==============================] - 1s 7ms/step - loss: 0.6510 - accuracy: 0.5368 - val_loss: 0.7588 - val_accuracy: 0.4960\n",
            "Epoch 71/100\n",
            "125/125 [==============================] - ETA: 0s - loss: 0.6505 - accuracy: 0.5303\n",
            "Epoch 71: val_accuracy did not improve from 0.51800\n",
            "125/125 [==============================] - 1s 7ms/step - loss: 0.6505 - accuracy: 0.5303 - val_loss: 0.7487 - val_accuracy: 0.5000\n",
            "Epoch 72/100\n",
            "120/125 [===========================>..] - ETA: 0s - loss: 0.6509 - accuracy: 0.5424\n",
            "Epoch 72: val_accuracy did not improve from 0.51800\n",
            "125/125 [==============================] - 1s 7ms/step - loss: 0.6519 - accuracy: 0.5420 - val_loss: 0.7505 - val_accuracy: 0.5100\n",
            "Epoch 73/100\n",
            "124/125 [============================>.] - ETA: 0s - loss: 0.6518 - accuracy: 0.5396\n",
            "Epoch 73: val_accuracy did not improve from 0.51800\n",
            "125/125 [==============================] - 1s 7ms/step - loss: 0.6515 - accuracy: 0.5390 - val_loss: 0.7397 - val_accuracy: 0.5100\n",
            "Epoch 74/100\n",
            "123/125 [============================>.] - ETA: 0s - loss: 0.6496 - accuracy: 0.5434\n",
            "Epoch 74: val_accuracy did not improve from 0.51800\n",
            "125/125 [==============================] - 1s 7ms/step - loss: 0.6508 - accuracy: 0.5433 - val_loss: 0.7480 - val_accuracy: 0.4960\n",
            "Epoch 75/100\n",
            "120/125 [===========================>..] - ETA: 0s - loss: 0.6493 - accuracy: 0.5354\n",
            "Epoch 75: val_accuracy did not improve from 0.51800\n",
            "125/125 [==============================] - 1s 7ms/step - loss: 0.6494 - accuracy: 0.5357 - val_loss: 0.7601 - val_accuracy: 0.5060\n",
            "Epoch 76/100\n",
            "125/125 [==============================] - ETA: 0s - loss: 0.6506 - accuracy: 0.5282\n",
            "Epoch 76: val_accuracy did not improve from 0.51800\n",
            "125/125 [==============================] - 1s 7ms/step - loss: 0.6506 - accuracy: 0.5282 - val_loss: 0.7452 - val_accuracy: 0.4940\n",
            "Epoch 77/100\n",
            "125/125 [==============================] - ETA: 0s - loss: 0.6494 - accuracy: 0.5422\n",
            "Epoch 77: val_accuracy did not improve from 0.51800\n",
            "125/125 [==============================] - 1s 7ms/step - loss: 0.6494 - accuracy: 0.5422 - val_loss: 0.7504 - val_accuracy: 0.5120\n",
            "Epoch 78/100\n",
            "125/125 [==============================] - ETA: 0s - loss: 0.6487 - accuracy: 0.5435\n",
            "Epoch 78: val_accuracy did not improve from 0.51800\n",
            "125/125 [==============================] - 1s 10ms/step - loss: 0.6487 - accuracy: 0.5435 - val_loss: 0.7620 - val_accuracy: 0.5140\n",
            "Epoch 79/100\n",
            "122/125 [============================>.] - ETA: 0s - loss: 0.6496 - accuracy: 0.5364\n",
            "Epoch 79: val_accuracy did not improve from 0.51800\n",
            "125/125 [==============================] - 1s 10ms/step - loss: 0.6494 - accuracy: 0.5383 - val_loss: 0.7595 - val_accuracy: 0.5120\n",
            "Epoch 80/100\n",
            "120/125 [===========================>..] - ETA: 0s - loss: 0.6488 - accuracy: 0.5401\n",
            "Epoch 80: val_accuracy did not improve from 0.51800\n",
            "125/125 [==============================] - 1s 10ms/step - loss: 0.6497 - accuracy: 0.5393 - val_loss: 0.7514 - val_accuracy: 0.5120\n",
            "Epoch 81/100\n",
            "120/125 [===========================>..] - ETA: 0s - loss: 0.6502 - accuracy: 0.5461\n",
            "Epoch 81: val_accuracy did not improve from 0.51800\n",
            "125/125 [==============================] - 1s 9ms/step - loss: 0.6503 - accuracy: 0.5480 - val_loss: 0.7592 - val_accuracy: 0.5120\n",
            "Epoch 82/100\n",
            "120/125 [===========================>..] - ETA: 0s - loss: 0.6492 - accuracy: 0.5414\n",
            "Epoch 82: val_accuracy did not improve from 0.51800\n",
            "125/125 [==============================] - 1s 7ms/step - loss: 0.6486 - accuracy: 0.5403 - val_loss: 0.7620 - val_accuracy: 0.4960\n",
            "Epoch 83/100\n",
            "119/125 [===========================>..] - ETA: 0s - loss: 0.6495 - accuracy: 0.5389\n",
            "Epoch 83: val_accuracy did not improve from 0.51800\n",
            "125/125 [==============================] - 1s 7ms/step - loss: 0.6495 - accuracy: 0.5425 - val_loss: 0.7645 - val_accuracy: 0.4960\n",
            "Epoch 84/100\n",
            "121/125 [============================>.] - ETA: 0s - loss: 0.6494 - accuracy: 0.5480\n",
            "Epoch 84: val_accuracy did not improve from 0.51800\n",
            "125/125 [==============================] - 1s 7ms/step - loss: 0.6496 - accuracy: 0.5480 - val_loss: 0.7540 - val_accuracy: 0.5120\n",
            "Epoch 85/100\n",
            "124/125 [============================>.] - ETA: 0s - loss: 0.6482 - accuracy: 0.5398\n",
            "Epoch 85: val_accuracy did not improve from 0.51800\n",
            "125/125 [==============================] - 1s 7ms/step - loss: 0.6485 - accuracy: 0.5397 - val_loss: 0.7652 - val_accuracy: 0.4940\n",
            "Epoch 86/100\n",
            "125/125 [==============================] - ETA: 0s - loss: 0.6477 - accuracy: 0.5312\n",
            "Epoch 86: val_accuracy did not improve from 0.51800\n",
            "125/125 [==============================] - 1s 7ms/step - loss: 0.6477 - accuracy: 0.5312 - val_loss: 0.7586 - val_accuracy: 0.5100\n",
            "Epoch 87/100\n",
            "119/125 [===========================>..] - ETA: 0s - loss: 0.6495 - accuracy: 0.5383\n",
            "Epoch 87: val_accuracy did not improve from 0.51800\n",
            "125/125 [==============================] - 1s 7ms/step - loss: 0.6494 - accuracy: 0.5370 - val_loss: 0.7502 - val_accuracy: 0.5060\n",
            "Epoch 88/100\n",
            "118/125 [===========================>..] - ETA: 0s - loss: 0.6497 - accuracy: 0.5368\n",
            "Epoch 88: val_accuracy did not improve from 0.51800\n",
            "125/125 [==============================] - 1s 7ms/step - loss: 0.6499 - accuracy: 0.5368 - val_loss: 0.7536 - val_accuracy: 0.5100\n",
            "Epoch 89/100\n",
            "117/125 [===========================>..] - ETA: 0s - loss: 0.6482 - accuracy: 0.5369\n",
            "Epoch 89: val_accuracy did not improve from 0.51800\n",
            "125/125 [==============================] - 1s 7ms/step - loss: 0.6491 - accuracy: 0.5355 - val_loss: 0.7590 - val_accuracy: 0.5080\n",
            "Epoch 90/100\n",
            "120/125 [===========================>..] - ETA: 0s - loss: 0.6484 - accuracy: 0.5315\n",
            "Epoch 90: val_accuracy did not improve from 0.51800\n",
            "125/125 [==============================] - 1s 7ms/step - loss: 0.6487 - accuracy: 0.5343 - val_loss: 0.7538 - val_accuracy: 0.5080\n",
            "Epoch 91/100\n",
            "125/125 [==============================] - ETA: 0s - loss: 0.6488 - accuracy: 0.5380\n",
            "Epoch 91: val_accuracy did not improve from 0.51800\n",
            "125/125 [==============================] - 1s 7ms/step - loss: 0.6488 - accuracy: 0.5380 - val_loss: 0.7523 - val_accuracy: 0.5120\n",
            "Epoch 92/100\n",
            "125/125 [==============================] - ETA: 0s - loss: 0.6500 - accuracy: 0.5490\n",
            "Epoch 92: val_accuracy did not improve from 0.51800\n",
            "125/125 [==============================] - 1s 8ms/step - loss: 0.6500 - accuracy: 0.5490 - val_loss: 0.7601 - val_accuracy: 0.4900\n",
            "Epoch 93/100\n",
            "120/125 [===========================>..] - ETA: 0s - loss: 0.6513 - accuracy: 0.5427\n",
            "Epoch 93: val_accuracy did not improve from 0.51800\n",
            "125/125 [==============================] - 1s 9ms/step - loss: 0.6531 - accuracy: 0.5403 - val_loss: 0.7527 - val_accuracy: 0.5020\n",
            "Epoch 94/100\n",
            "125/125 [==============================] - ETA: 0s - loss: 0.6494 - accuracy: 0.5340\n",
            "Epoch 94: val_accuracy did not improve from 0.51800\n",
            "125/125 [==============================] - 1s 11ms/step - loss: 0.6494 - accuracy: 0.5340 - val_loss: 0.7447 - val_accuracy: 0.5100\n",
            "Epoch 95/100\n",
            "120/125 [===========================>..] - ETA: 0s - loss: 0.6501 - accuracy: 0.5315\n",
            "Epoch 95: val_accuracy did not improve from 0.51800\n",
            "125/125 [==============================] - 1s 10ms/step - loss: 0.6497 - accuracy: 0.5312 - val_loss: 0.7458 - val_accuracy: 0.4900\n",
            "Epoch 96/100\n",
            "120/125 [===========================>..] - ETA: 0s - loss: 0.6473 - accuracy: 0.5326\n",
            "Epoch 96: val_accuracy did not improve from 0.51800\n",
            "125/125 [==============================] - 1s 8ms/step - loss: 0.6476 - accuracy: 0.5328 - val_loss: 0.7628 - val_accuracy: 0.5040\n",
            "Epoch 97/100\n",
            "120/125 [===========================>..] - ETA: 0s - loss: 0.6484 - accuracy: 0.5448\n",
            "Epoch 97: val_accuracy did not improve from 0.51800\n",
            "125/125 [==============================] - 1s 7ms/step - loss: 0.6489 - accuracy: 0.5435 - val_loss: 0.7412 - val_accuracy: 0.5040\n",
            "Epoch 98/100\n",
            "121/125 [============================>.] - ETA: 0s - loss: 0.6492 - accuracy: 0.5343\n",
            "Epoch 98: val_accuracy did not improve from 0.51800\n",
            "125/125 [==============================] - 1s 7ms/step - loss: 0.6486 - accuracy: 0.5362 - val_loss: 0.7542 - val_accuracy: 0.5060\n",
            "Epoch 99/100\n",
            "125/125 [==============================] - ETA: 0s - loss: 0.6505 - accuracy: 0.5368\n",
            "Epoch 99: val_accuracy did not improve from 0.51800\n",
            "125/125 [==============================] - 1s 7ms/step - loss: 0.6505 - accuracy: 0.5368 - val_loss: 0.7380 - val_accuracy: 0.5100\n",
            "Epoch 100/100\n",
            "120/125 [===========================>..] - ETA: 0s - loss: 0.6480 - accuracy: 0.5339\n",
            "Epoch 100: val_accuracy did not improve from 0.51800\n",
            "125/125 [==============================] - 1s 7ms/step - loss: 0.6484 - accuracy: 0.5345 - val_loss: 0.7482 - val_accuracy: 0.5120\n"
          ]
        }
      ],
      "source": [
        "model.compile(optimizer=keras.optimizers.Adam(learning_rate=0.001),\n",
        "    loss='binary_crossentropy',\n",
        "    metrics=['accuracy'])\n",
        "\n",
        "history = model.fit(\n",
        "    train_pad_sequences,\n",
        "    np.array(train_df['enc_label']),\n",
        "    epochs=100,\n",
        "    batch_size=32,\n",
        "    validation_data=(test_pad_sequences, np.array(y_data_with_label)),\n",
        "    verbose=1,\n",
        "    callbacks=callback_list\n",
        ")\n",
        " # as here weight is not using"
      ]
    },
    {
      "cell_type": "code",
      "execution_count": 110,
      "metadata": {
        "colab": {
          "base_uri": "https://localhost:8080/"
        },
        "id": "QF7HPTW2Z5gN",
        "outputId": "31b7f453-53ef-4acb-c4af-2182d3b675e0"
      },
      "outputs": [
        {
          "name": "stdout",
          "output_type": "stream",
          "text": [
            "16/16 [==============================] - 1s 4ms/step\n",
            "Classification Report for Loaded Model:\n",
            "               precision    recall  f1-score   support\n",
            "\n",
            "           0     0.6098    0.1000    0.1718       250\n",
            "           1     0.5098    0.9360    0.6601       250\n",
            "\n",
            "    accuracy                         0.5180       500\n",
            "   macro avg     0.5598    0.5180    0.4160       500\n",
            "weighted avg     0.5598    0.5180    0.4160       500\n",
            "\n"
          ]
        }
      ],
      "source": [
        "import numpy as np\n",
        "from sklearn.metrics import classification_report\n",
        "from tensorflow.keras.models import load_model\n",
        "\n",
        "# Assuming y_pred is a 2D array of predicted probabilities for each class\n",
        "# Adjust axis parameter if needed based on the shape of your y_pred array\n",
        "loaded_model = load_model(filepath)\n",
        "\n",
        "# Evaluate the model on the validation set\n",
        "y_pred = loaded_model.predict(test_pad_sequences)\n",
        "\n",
        "# Convert probabilities to binary predictions using a threshold (e.g., 0.5)\n",
        "threshold = 0.5\n",
        "y_pred_classes = (y_pred > threshold).astype(int)\n",
        "\n",
        "# Generate a classification report\n",
        "classification_report_loaded_model = classification_report(y_data_with_label, y_pred_classes, digits=4)\n",
        "print('Classification Report for Loaded Model:\\n', classification_report_loaded_model)"
      ]
    },
    {
      "cell_type": "markdown",
      "metadata": {
        "id": "2OmJBY9m53_D"
      },
      "source": [
        "## FastText CNN + BiLSTM"
      ]
    },
    {
      "cell_type": "code",
      "execution_count": 64,
      "metadata": {
        "execution": {
          "iopub.execute_input": "2023-12-11T01:09:08.580582Z",
          "iopub.status.busy": "2023-12-11T01:09:08.579889Z",
          "iopub.status.idle": "2023-12-11T01:09:09.392782Z",
          "shell.execute_reply": "2023-12-11T01:09:09.391793Z",
          "shell.execute_reply.started": "2023-12-11T01:09:08.580550Z"
        },
        "id": "0OGntAMr53_E",
        "trusted": true
      },
      "outputs": [],
      "source": [
        "from urllib.request import urlopen\n",
        "import gzip\n",
        "\n",
        "# get the vectors\n",
        "file = gzip.open(urlopen('https://dl.fbaipublicfiles.com/fasttext/vectors-crawl/cc.ml.300.vec.gz'))"
      ]
    },
    {
      "cell_type": "code",
      "execution_count": 65,
      "metadata": {
        "execution": {
          "iopub.execute_input": "2023-12-11T01:09:11.680453Z",
          "iopub.status.busy": "2023-12-11T01:09:11.680019Z",
          "iopub.status.idle": "2023-12-11T01:12:15.046100Z",
          "shell.execute_reply": "2023-12-11T01:12:15.045238Z",
          "shell.execute_reply.started": "2023-12-11T01:09:11.680421Z"
        },
        "id": "RtggwCbs53_F",
        "trusted": true
      },
      "outputs": [],
      "source": [
        "vocab_and_vectors = {}\n",
        "# put words as dict indexes and vectors as words values\n",
        "for line in file:\n",
        "  values = line.split()\n",
        "  word = values [0].decode('utf-8')\n",
        "  vector = np.asarray(values[1:], dtype='float32')\n",
        "  vocab_and_vectors[word] = vector"
      ]
    },
    {
      "cell_type": "code",
      "execution_count": 66,
      "metadata": {
        "execution": {
          "iopub.execute_input": "2023-12-11T01:13:59.898016Z",
          "iopub.status.busy": "2023-12-11T01:13:59.897072Z",
          "iopub.status.idle": "2023-12-11T01:13:59.925135Z",
          "shell.execute_reply": "2023-12-11T01:13:59.924177Z",
          "shell.execute_reply.started": "2023-12-11T01:13:59.897978Z"
        },
        "id": "FJHx88tX53_G",
        "trusted": true
      },
      "outputs": [],
      "source": [
        "embedding_matrix = np.zeros((vocab_size, 300))\n",
        "for word, i in word_index.items():\n",
        "  embedding_vector = vocab_and_vectors.get(word)\n",
        "  # words that cannot be found will be set to 0\n",
        "  if embedding_vector is not None:\n",
        "    embedding_matrix[i] = embedding_vector"
      ]
    },
    {
      "cell_type": "code",
      "execution_count": 67,
      "metadata": {
        "colab": {
          "base_uri": "https://localhost:8080/"
        },
        "execution": {
          "iopub.execute_input": "2023-12-11T01:14:21.232818Z",
          "iopub.status.busy": "2023-12-11T01:14:21.232453Z",
          "iopub.status.idle": "2023-12-11T01:14:21.911194Z",
          "shell.execute_reply": "2023-12-11T01:14:21.910283Z",
          "shell.execute_reply.started": "2023-12-11T01:14:21.232787Z"
        },
        "id": "X2EkiS6h53_H",
        "outputId": "dcd863d9-8204-41b5-f614-b2a065ad16f2",
        "trusted": true
      },
      "outputs": [
        {
          "name": "stdout",
          "output_type": "stream",
          "text": [
            "Model: \"sequential_6\"\n",
            "_________________________________________________________________\n",
            " Layer (type)                Output Shape              Param #   \n",
            "=================================================================\n",
            " embedding_7 (Embedding)     (None, 80, 300)           4545300   \n",
            "                                                                 \n",
            " conv1d_3 (Conv1D)           (None, 76, 128)           192128    \n",
            "                                                                 \n",
            " max_pooling1d (MaxPooling1  (None, 15, 128)           0         \n",
            " D)                                                              \n",
            "                                                                 \n",
            " bidirectional_4 (Bidirecti  (None, 15, 400)           526400    \n",
            " onal)                                                           \n",
            "                                                                 \n",
            " flatten_3 (Flatten)         (None, 6000)              0         \n",
            "                                                                 \n",
            " dense_6 (Dense)             (None, 1)                 6001      \n",
            "                                                                 \n",
            "=================================================================\n",
            "Total params: 5269829 (20.10 MB)\n",
            "Trainable params: 724529 (2.76 MB)\n",
            "Non-trainable params: 4545300 (17.34 MB)\n",
            "_________________________________________________________________\n"
          ]
        }
      ],
      "source": [
        "num_classes = 2\n",
        "\n",
        "accuracy_threshold = 0.99\n",
        "\n",
        "class myCallback(keras.callbacks.Callback):\n",
        "  def on_epoch_end(self, epoch, logs={}):\n",
        "      if(logs.get('accuracy')>accuracy_threshold):\n",
        "        print(\"\\nReached %2.2f%% accuracy so we will stop trianing\" % (accuracy_threshold*100))\n",
        "        self.model.stop_training = True\n",
        "\n",
        "acc_callback = myCallback()\n",
        "# Saved the Best Model\n",
        "# filepath = '/content/drive/MyDrive/Colab Notebooks/HOLD/' +\"CNN_BiLSTMFastTExt.h5\"\n",
        "checkpoint = keras.callbacks.ModelCheckpoint(filepath, monitor='val_accuracy', verbose=2, save_best_only=True,\n",
        "                                             save_weights_only=False, mode='max')\n",
        "# callback list\n",
        "callback_list = [acc_callback, checkpoint]\n",
        "model2 = tf.keras.models.Sequential([\n",
        "tf.keras.layers.Embedding(vocab_size, 300, weights=[embedding_matrix],trainable=False, input_length = max_len),\n",
        "tf.keras.layers.Conv1D(128, 5, activation='relu'),\n",
        "tf.keras.layers.MaxPooling1D(5),\n",
        "tf.keras.layers.Bidirectional(LSTM(units = 200,return_sequences=True,dropout = 0.2)),\n",
        "tf.keras.layers.Flatten(),\n",
        "tf.keras.layers.Dense(1, activation='sigmoid')])\n",
        "\n",
        "model2.summary()"
      ]
    },
    {
      "cell_type": "code",
      "execution_count": 68,
      "metadata": {
        "colab": {
          "base_uri": "https://localhost:8080/"
        },
        "execution": {
          "iopub.execute_input": "2023-12-11T01:14:30.704963Z",
          "iopub.status.busy": "2023-12-11T01:14:30.704271Z",
          "iopub.status.idle": "2023-12-11T01:15:04.531763Z",
          "shell.execute_reply": "2023-12-11T01:15:04.530934Z",
          "shell.execute_reply.started": "2023-12-11T01:14:30.704932Z"
        },
        "id": "5e0JhE9053_I",
        "outputId": "9e85893f-ad0e-45d4-95fa-e353c424d0a4",
        "trusted": true
      },
      "outputs": [
        {
          "name": "stdout",
          "output_type": "stream",
          "text": [
            "Epoch 1/100\n",
            "117/125 [===========================>..] - ETA: 0s - loss: 0.6705 - accuracy: 0.5777\n",
            "Epoch 1: val_accuracy improved from -inf to 0.48800, saving model to /content/drive/MyDrive/Colab Notebooks/HOLD/CNN_BiLSTM.h5\n",
            "125/125 [==============================] - 66s 20ms/step - loss: 0.6702 - accuracy: 0.5780 - val_loss: 0.6899 - val_accuracy: 0.4880\n",
            "Epoch 2/100\n",
            "121/125 [============================>.] - ETA: 0s - loss: 0.6022 - accuracy: 0.6686\n",
            "Epoch 2: val_accuracy did not improve from 0.48800\n",
            "125/125 [==============================] - 1s 7ms/step - loss: 0.6025 - accuracy: 0.6675 - val_loss: 0.7301 - val_accuracy: 0.4720\n",
            "Epoch 3/100\n",
            "125/125 [==============================] - ETA: 0s - loss: 0.5518 - accuracy: 0.7025\n",
            "Epoch 3: val_accuracy improved from 0.48800 to 0.49000, saving model to /content/drive/MyDrive/Colab Notebooks/HOLD/CNN_BiLSTM.h5\n",
            "125/125 [==============================] - 1s 7ms/step - loss: 0.5518 - accuracy: 0.7025 - val_loss: 0.7454 - val_accuracy: 0.4900\n",
            "Epoch 4/100\n",
            "121/125 [============================>.] - ETA: 0s - loss: 0.5209 - accuracy: 0.7221\n",
            "Epoch 4: val_accuracy improved from 0.49000 to 0.50200, saving model to /content/drive/MyDrive/Colab Notebooks/HOLD/CNN_BiLSTM.h5\n",
            "125/125 [==============================] - 1s 8ms/step - loss: 0.5196 - accuracy: 0.7235 - val_loss: 0.7581 - val_accuracy: 0.5020\n",
            "Epoch 5/100\n",
            "120/125 [===========================>..] - ETA: 0s - loss: 0.4609 - accuracy: 0.7529\n",
            "Epoch 5: val_accuracy improved from 0.50200 to 0.59600, saving model to /content/drive/MyDrive/Colab Notebooks/HOLD/CNN_BiLSTM.h5\n",
            "125/125 [==============================] - 1s 8ms/step - loss: 0.4600 - accuracy: 0.7515 - val_loss: 0.8289 - val_accuracy: 0.5960\n",
            "Epoch 6/100\n",
            "123/125 [============================>.] - ETA: 0s - loss: 0.4341 - accuracy: 0.7622\n",
            "Epoch 6: val_accuracy did not improve from 0.59600\n",
            "125/125 [==============================] - 1s 7ms/step - loss: 0.4333 - accuracy: 0.7615 - val_loss: 0.8278 - val_accuracy: 0.4780\n",
            "Epoch 7/100\n",
            "125/125 [==============================] - ETA: 0s - loss: 0.4060 - accuracy: 0.7742\n",
            "Epoch 7: val_accuracy did not improve from 0.59600\n",
            "125/125 [==============================] - 1s 7ms/step - loss: 0.4060 - accuracy: 0.7742 - val_loss: 0.9541 - val_accuracy: 0.4800\n",
            "Epoch 8/100\n",
            "125/125 [==============================] - ETA: 0s - loss: 0.3946 - accuracy: 0.7812\n",
            "Epoch 8: val_accuracy did not improve from 0.59600\n",
            "125/125 [==============================] - 1s 7ms/step - loss: 0.3946 - accuracy: 0.7812 - val_loss: 0.9215 - val_accuracy: 0.4980\n",
            "Epoch 9/100\n",
            "125/125 [==============================] - ETA: 0s - loss: 0.3705 - accuracy: 0.7937\n",
            "Epoch 9: val_accuracy did not improve from 0.59600\n",
            "125/125 [==============================] - 1s 7ms/step - loss: 0.3705 - accuracy: 0.7937 - val_loss: 0.9926 - val_accuracy: 0.4740\n",
            "Epoch 10/100\n",
            "125/125 [==============================] - ETA: 0s - loss: 0.3620 - accuracy: 0.7972\n",
            "Epoch 10: val_accuracy did not improve from 0.59600\n",
            "125/125 [==============================] - 1s 7ms/step - loss: 0.3620 - accuracy: 0.7972 - val_loss: 1.0497 - val_accuracy: 0.5060\n",
            "Epoch 11/100\n",
            "119/125 [===========================>..] - ETA: 0s - loss: 0.3555 - accuracy: 0.7975\n",
            "Epoch 11: val_accuracy did not improve from 0.59600\n",
            "125/125 [==============================] - 1s 8ms/step - loss: 0.3524 - accuracy: 0.7995 - val_loss: 1.2561 - val_accuracy: 0.4780\n",
            "Epoch 12/100\n",
            "121/125 [============================>.] - ETA: 0s - loss: 0.3487 - accuracy: 0.8024\n",
            "Epoch 12: val_accuracy did not improve from 0.59600\n",
            "125/125 [==============================] - 1s 10ms/step - loss: 0.3491 - accuracy: 0.8027 - val_loss: 1.0418 - val_accuracy: 0.4800\n",
            "Epoch 13/100\n",
            "123/125 [============================>.] - ETA: 0s - loss: 0.3445 - accuracy: 0.8023\n",
            "Epoch 13: val_accuracy did not improve from 0.59600\n",
            "125/125 [==============================] - 1s 10ms/step - loss: 0.3431 - accuracy: 0.8037 - val_loss: 1.0978 - val_accuracy: 0.4900\n",
            "Epoch 14/100\n",
            "120/125 [===========================>..] - ETA: 0s - loss: 0.3310 - accuracy: 0.8096\n",
            "Epoch 14: val_accuracy did not improve from 0.59600\n",
            "125/125 [==============================] - 1s 10ms/step - loss: 0.3318 - accuracy: 0.8083 - val_loss: 1.0239 - val_accuracy: 0.5060\n",
            "Epoch 15/100\n",
            "118/125 [===========================>..] - ETA: 0s - loss: 0.3284 - accuracy: 0.8125\n",
            "Epoch 15: val_accuracy did not improve from 0.59600\n",
            "125/125 [==============================] - 1s 7ms/step - loss: 0.3303 - accuracy: 0.8108 - val_loss: 1.0534 - val_accuracy: 0.5060\n",
            "Epoch 16/100\n",
            "124/125 [============================>.] - ETA: 0s - loss: 0.3308 - accuracy: 0.8130\n",
            "Epoch 16: val_accuracy did not improve from 0.59600\n",
            "125/125 [==============================] - 1s 7ms/step - loss: 0.3299 - accuracy: 0.8138 - val_loss: 1.3550 - val_accuracy: 0.4740\n",
            "Epoch 17/100\n",
            "124/125 [============================>.] - ETA: 0s - loss: 0.3240 - accuracy: 0.8125\n",
            "Epoch 17: val_accuracy did not improve from 0.59600\n",
            "125/125 [==============================] - 1s 7ms/step - loss: 0.3248 - accuracy: 0.8108 - val_loss: 0.9968 - val_accuracy: 0.5220\n",
            "Epoch 18/100\n",
            "125/125 [==============================] - ETA: 0s - loss: 0.3123 - accuracy: 0.8185\n",
            "Epoch 18: val_accuracy did not improve from 0.59600\n",
            "125/125 [==============================] - 1s 7ms/step - loss: 0.3123 - accuracy: 0.8185 - val_loss: 1.0608 - val_accuracy: 0.4880\n",
            "Epoch 19/100\n",
            "118/125 [===========================>..] - ETA: 0s - loss: 0.3056 - accuracy: 0.8215\n",
            "Epoch 19: val_accuracy did not improve from 0.59600\n",
            "125/125 [==============================] - 1s 7ms/step - loss: 0.3073 - accuracy: 0.8213 - val_loss: 1.1926 - val_accuracy: 0.4860\n",
            "Epoch 20/100\n",
            "118/125 [===========================>..] - ETA: 0s - loss: 0.3117 - accuracy: 0.8191\n",
            "Epoch 20: val_accuracy did not improve from 0.59600\n",
            "125/125 [==============================] - 1s 7ms/step - loss: 0.3142 - accuracy: 0.8180 - val_loss: 1.3199 - val_accuracy: 0.4760\n",
            "Epoch 21/100\n",
            "123/125 [============================>.] - ETA: 0s - loss: 0.3021 - accuracy: 0.8189\n",
            "Epoch 21: val_accuracy did not improve from 0.59600\n",
            "125/125 [==============================] - 1s 7ms/step - loss: 0.3023 - accuracy: 0.8185 - val_loss: 1.2189 - val_accuracy: 0.5000\n",
            "Epoch 22/100\n",
            "125/125 [==============================] - ETA: 0s - loss: 0.2963 - accuracy: 0.8257\n",
            "Epoch 22: val_accuracy did not improve from 0.59600\n",
            "125/125 [==============================] - 1s 7ms/step - loss: 0.2963 - accuracy: 0.8257 - val_loss: 1.2975 - val_accuracy: 0.5020\n",
            "Epoch 23/100\n",
            "121/125 [============================>.] - ETA: 0s - loss: 0.3006 - accuracy: 0.8252\n",
            "Epoch 23: val_accuracy did not improve from 0.59600\n",
            "125/125 [==============================] - 1s 7ms/step - loss: 0.3014 - accuracy: 0.8257 - val_loss: 1.9233 - val_accuracy: 0.4600\n",
            "Epoch 24/100\n",
            "124/125 [============================>.] - ETA: 0s - loss: 0.3017 - accuracy: 0.8233\n",
            "Epoch 24: val_accuracy did not improve from 0.59600\n",
            "125/125 [==============================] - 1s 7ms/step - loss: 0.3024 - accuracy: 0.8235 - val_loss: 1.1431 - val_accuracy: 0.5020\n",
            "Epoch 25/100\n",
            "117/125 [===========================>..] - ETA: 0s - loss: 0.2976 - accuracy: 0.8186\n",
            "Epoch 25: val_accuracy did not improve from 0.59600\n",
            "125/125 [==============================] - 1s 7ms/step - loss: 0.2990 - accuracy: 0.8155 - val_loss: 1.4507 - val_accuracy: 0.4820\n",
            "Epoch 26/100\n",
            "119/125 [===========================>..] - ETA: 0s - loss: 0.2999 - accuracy: 0.8243\n",
            "Epoch 26: val_accuracy did not improve from 0.59600\n",
            "125/125 [==============================] - 1s 7ms/step - loss: 0.3000 - accuracy: 0.8220 - val_loss: 1.4048 - val_accuracy: 0.4860\n",
            "Epoch 27/100\n",
            "123/125 [============================>.] - ETA: 0s - loss: 0.2967 - accuracy: 0.8257\n",
            "Epoch 27: val_accuracy did not improve from 0.59600\n",
            "125/125 [==============================] - 1s 9ms/step - loss: 0.2956 - accuracy: 0.8263 - val_loss: 1.3746 - val_accuracy: 0.4920\n",
            "Epoch 28/100\n",
            "120/125 [===========================>..] - ETA: 0s - loss: 0.3012 - accuracy: 0.8245\n",
            "Epoch 28: val_accuracy did not improve from 0.59600\n",
            "125/125 [==============================] - 1s 10ms/step - loss: 0.3007 - accuracy: 0.8242 - val_loss: 1.4569 - val_accuracy: 0.4780\n",
            "Epoch 29/100\n",
            "125/125 [==============================] - ETA: 0s - loss: 0.3068 - accuracy: 0.8232\n",
            "Epoch 29: val_accuracy did not improve from 0.59600\n",
            "125/125 [==============================] - 1s 10ms/step - loss: 0.3068 - accuracy: 0.8232 - val_loss: 1.5779 - val_accuracy: 0.4740\n",
            "Epoch 30/100\n",
            "117/125 [===========================>..] - ETA: 0s - loss: 0.2951 - accuracy: 0.8237\n",
            "Epoch 30: val_accuracy did not improve from 0.59600\n",
            "125/125 [==============================] - 1s 8ms/step - loss: 0.2937 - accuracy: 0.8248 - val_loss: 1.3708 - val_accuracy: 0.4720\n",
            "Epoch 31/100\n",
            "125/125 [==============================] - ETA: 0s - loss: 0.3003 - accuracy: 0.8207\n",
            "Epoch 31: val_accuracy did not improve from 0.59600\n",
            "125/125 [==============================] - 1s 7ms/step - loss: 0.3003 - accuracy: 0.8207 - val_loss: 1.4293 - val_accuracy: 0.4760\n",
            "Epoch 32/100\n",
            "118/125 [===========================>..] - ETA: 0s - loss: 0.2891 - accuracy: 0.8268\n",
            "Epoch 32: val_accuracy did not improve from 0.59600\n",
            "125/125 [==============================] - 1s 7ms/step - loss: 0.2899 - accuracy: 0.8263 - val_loss: 1.5470 - val_accuracy: 0.4840\n",
            "Epoch 33/100\n",
            "125/125 [==============================] - ETA: 0s - loss: 0.2803 - accuracy: 0.8322\n",
            "Epoch 33: val_accuracy did not improve from 0.59600\n",
            "125/125 [==============================] - 1s 7ms/step - loss: 0.2803 - accuracy: 0.8322 - val_loss: 1.6130 - val_accuracy: 0.4820\n",
            "Epoch 34/100\n",
            "125/125 [==============================] - ETA: 0s - loss: 0.2824 - accuracy: 0.8298\n",
            "Epoch 34: val_accuracy did not improve from 0.59600\n",
            "125/125 [==============================] - 1s 7ms/step - loss: 0.2824 - accuracy: 0.8298 - val_loss: 1.6639 - val_accuracy: 0.4740\n",
            "Epoch 35/100\n",
            "121/125 [============================>.] - ETA: 0s - loss: 0.2957 - accuracy: 0.8254\n",
            "Epoch 35: val_accuracy did not improve from 0.59600\n",
            "125/125 [==============================] - 1s 7ms/step - loss: 0.2941 - accuracy: 0.8267 - val_loss: 1.4523 - val_accuracy: 0.4960\n",
            "Epoch 36/100\n",
            "124/125 [============================>.] - ETA: 0s - loss: 0.2902 - accuracy: 0.8264\n",
            "Epoch 36: val_accuracy did not improve from 0.59600\n",
            "125/125 [==============================] - 1s 7ms/step - loss: 0.2906 - accuracy: 0.8255 - val_loss: 1.5727 - val_accuracy: 0.4740\n",
            "Epoch 37/100\n",
            "122/125 [============================>.] - ETA: 0s - loss: 0.2769 - accuracy: 0.8361\n",
            "Epoch 37: val_accuracy did not improve from 0.59600\n",
            "125/125 [==============================] - 1s 7ms/step - loss: 0.2783 - accuracy: 0.8353 - val_loss: 2.0467 - val_accuracy: 0.4600\n",
            "Epoch 38/100\n",
            "123/125 [============================>.] - ETA: 0s - loss: 0.3107 - accuracy: 0.8206\n",
            "Epoch 38: val_accuracy did not improve from 0.59600\n",
            "125/125 [==============================] - 1s 9ms/step - loss: 0.3097 - accuracy: 0.8215 - val_loss: 1.4919 - val_accuracy: 0.4640\n",
            "Epoch 39/100\n",
            "121/125 [============================>.] - ETA: 0s - loss: 0.2821 - accuracy: 0.8298\n",
            "Epoch 39: val_accuracy did not improve from 0.59600\n",
            "125/125 [==============================] - 1s 9ms/step - loss: 0.2822 - accuracy: 0.8310 - val_loss: 1.4736 - val_accuracy: 0.4840\n",
            "Epoch 40/100\n",
            "121/125 [============================>.] - ETA: 0s - loss: 0.2860 - accuracy: 0.8290\n",
            "Epoch 40: val_accuracy did not improve from 0.59600\n",
            "125/125 [==============================] - 1s 10ms/step - loss: 0.2864 - accuracy: 0.8275 - val_loss: 1.4187 - val_accuracy: 0.4780\n",
            "Epoch 41/100\n",
            "121/125 [============================>.] - ETA: 0s - loss: 0.2769 - accuracy: 0.8347\n",
            "Epoch 41: val_accuracy did not improve from 0.59600\n",
            "125/125 [==============================] - 1s 11ms/step - loss: 0.2776 - accuracy: 0.8330 - val_loss: 1.6840 - val_accuracy: 0.4800\n",
            "Epoch 42/100\n",
            "120/125 [===========================>..] - ETA: 0s - loss: 0.2732 - accuracy: 0.8331\n",
            "Epoch 42: val_accuracy did not improve from 0.59600\n",
            "125/125 [==============================] - 1s 10ms/step - loss: 0.2740 - accuracy: 0.8330 - val_loss: 1.9377 - val_accuracy: 0.4600\n",
            "Epoch 43/100\n",
            "124/125 [============================>.] - ETA: 0s - loss: 0.2768 - accuracy: 0.8337\n",
            "Epoch 43: val_accuracy did not improve from 0.59600\n",
            "125/125 [==============================] - 1s 10ms/step - loss: 0.2767 - accuracy: 0.8335 - val_loss: 1.8160 - val_accuracy: 0.4660\n",
            "Epoch 44/100\n",
            "120/125 [===========================>..] - ETA: 0s - loss: 0.2753 - accuracy: 0.8307\n",
            "Epoch 44: val_accuracy did not improve from 0.59600\n",
            "125/125 [==============================] - 1s 10ms/step - loss: 0.2781 - accuracy: 0.8310 - val_loss: 1.6607 - val_accuracy: 0.4700\n",
            "Epoch 45/100\n",
            "122/125 [============================>.] - ETA: 0s - loss: 0.2816 - accuracy: 0.8309\n",
            "Epoch 45: val_accuracy did not improve from 0.59600\n",
            "125/125 [==============================] - 1s 7ms/step - loss: 0.2815 - accuracy: 0.8313 - val_loss: 1.4642 - val_accuracy: 0.4680\n",
            "Epoch 46/100\n",
            "124/125 [============================>.] - ETA: 0s - loss: 0.2732 - accuracy: 0.8314\n",
            "Epoch 46: val_accuracy did not improve from 0.59600\n",
            "125/125 [==============================] - 1s 7ms/step - loss: 0.2738 - accuracy: 0.8310 - val_loss: 1.7876 - val_accuracy: 0.4660\n",
            "Epoch 47/100\n",
            "117/125 [===========================>..] - ETA: 0s - loss: 0.2740 - accuracy: 0.8323\n",
            "Epoch 47: val_accuracy did not improve from 0.59600\n",
            "125/125 [==============================] - 1s 7ms/step - loss: 0.2791 - accuracy: 0.8305 - val_loss: 1.9775 - val_accuracy: 0.4580\n",
            "Epoch 48/100\n",
            "124/125 [============================>.] - ETA: 0s - loss: 0.2847 - accuracy: 0.8291\n",
            "Epoch 48: val_accuracy did not improve from 0.59600\n",
            "125/125 [==============================] - 1s 7ms/step - loss: 0.2841 - accuracy: 0.8292 - val_loss: 1.8172 - val_accuracy: 0.4700\n",
            "Epoch 49/100\n",
            "124/125 [============================>.] - ETA: 0s - loss: 0.2809 - accuracy: 0.8319\n",
            "Epoch 49: val_accuracy did not improve from 0.59600\n",
            "125/125 [==============================] - 1s 7ms/step - loss: 0.2804 - accuracy: 0.8317 - val_loss: 1.9184 - val_accuracy: 0.4720\n",
            "Epoch 50/100\n",
            "119/125 [===========================>..] - ETA: 0s - loss: 0.2770 - accuracy: 0.8301\n",
            "Epoch 50: val_accuracy did not improve from 0.59600\n",
            "125/125 [==============================] - 1s 7ms/step - loss: 0.2764 - accuracy: 0.8325 - val_loss: 1.5818 - val_accuracy: 0.4900\n",
            "Epoch 51/100\n",
            "121/125 [============================>.] - ETA: 0s - loss: 0.2831 - accuracy: 0.8288\n",
            "Epoch 51: val_accuracy did not improve from 0.59600\n",
            "125/125 [==============================] - 1s 7ms/step - loss: 0.2810 - accuracy: 0.8300 - val_loss: 1.6167 - val_accuracy: 0.4780\n",
            "Epoch 52/100\n",
            "124/125 [============================>.] - ETA: 0s - loss: 0.2826 - accuracy: 0.8291\n",
            "Epoch 52: val_accuracy did not improve from 0.59600\n",
            "125/125 [==============================] - 1s 7ms/step - loss: 0.2827 - accuracy: 0.8290 - val_loss: 1.4221 - val_accuracy: 0.4880\n",
            "Epoch 53/100\n",
            "117/125 [===========================>..] - ETA: 0s - loss: 0.2867 - accuracy: 0.8285\n",
            "Epoch 53: val_accuracy did not improve from 0.59600\n",
            "125/125 [==============================] - 1s 7ms/step - loss: 0.2866 - accuracy: 0.8282 - val_loss: 1.7556 - val_accuracy: 0.4760\n",
            "Epoch 54/100\n",
            "124/125 [============================>.] - ETA: 0s - loss: 0.2758 - accuracy: 0.8337\n",
            "Epoch 54: val_accuracy did not improve from 0.59600\n",
            "125/125 [==============================] - 1s 7ms/step - loss: 0.2755 - accuracy: 0.8345 - val_loss: 1.7040 - val_accuracy: 0.4780\n",
            "Epoch 55/100\n",
            "123/125 [============================>.] - ETA: 0s - loss: 0.2790 - accuracy: 0.8310\n",
            "Epoch 55: val_accuracy did not improve from 0.59600\n",
            "125/125 [==============================] - 1s 7ms/step - loss: 0.2792 - accuracy: 0.8303 - val_loss: 1.7618 - val_accuracy: 0.4740\n",
            "Epoch 56/100\n",
            "123/125 [============================>.] - ETA: 0s - loss: 0.2737 - accuracy: 0.8333\n",
            "Epoch 56: val_accuracy did not improve from 0.59600\n",
            "125/125 [==============================] - 1s 8ms/step - loss: 0.2741 - accuracy: 0.8332 - val_loss: 1.4817 - val_accuracy: 0.4880\n",
            "Epoch 57/100\n",
            "120/125 [===========================>..] - ETA: 0s - loss: 0.2822 - accuracy: 0.8328\n",
            "Epoch 57: val_accuracy did not improve from 0.59600\n",
            "125/125 [==============================] - 1s 10ms/step - loss: 0.2832 - accuracy: 0.8313 - val_loss: 1.5421 - val_accuracy: 0.4760\n",
            "Epoch 58/100\n",
            "124/125 [============================>.] - ETA: 0s - loss: 0.2737 - accuracy: 0.8354\n",
            "Epoch 58: val_accuracy did not improve from 0.59600\n",
            "125/125 [==============================] - 1s 9ms/step - loss: 0.2742 - accuracy: 0.8355 - val_loss: 1.5718 - val_accuracy: 0.4820\n",
            "Epoch 59/100\n",
            "124/125 [============================>.] - ETA: 0s - loss: 0.2727 - accuracy: 0.8349\n",
            "Epoch 59: val_accuracy did not improve from 0.59600\n",
            "125/125 [==============================] - 1s 10ms/step - loss: 0.2734 - accuracy: 0.8342 - val_loss: 1.8267 - val_accuracy: 0.4720\n",
            "Epoch 60/100\n",
            "118/125 [===========================>..] - ETA: 0s - loss: 0.2763 - accuracy: 0.8350\n",
            "Epoch 60: val_accuracy did not improve from 0.59600\n",
            "125/125 [==============================] - 1s 8ms/step - loss: 0.2771 - accuracy: 0.8330 - val_loss: 1.5995 - val_accuracy: 0.4680\n",
            "Epoch 61/100\n",
            "121/125 [============================>.] - ETA: 0s - loss: 0.2685 - accuracy: 0.8386\n",
            "Epoch 61: val_accuracy did not improve from 0.59600\n",
            "125/125 [==============================] - 1s 7ms/step - loss: 0.2681 - accuracy: 0.8385 - val_loss: 2.0720 - val_accuracy: 0.4620\n",
            "Epoch 62/100\n",
            "123/125 [============================>.] - ETA: 0s - loss: 0.2693 - accuracy: 0.8300\n",
            "Epoch 62: val_accuracy did not improve from 0.59600\n",
            "125/125 [==============================] - 1s 7ms/step - loss: 0.2691 - accuracy: 0.8298 - val_loss: 1.7937 - val_accuracy: 0.4780\n",
            "Epoch 63/100\n",
            "123/125 [============================>.] - ETA: 0s - loss: 0.2744 - accuracy: 0.8321\n",
            "Epoch 63: val_accuracy did not improve from 0.59600\n",
            "125/125 [==============================] - 1s 7ms/step - loss: 0.2733 - accuracy: 0.8330 - val_loss: 1.8132 - val_accuracy: 0.4660\n",
            "Epoch 64/100\n",
            "122/125 [============================>.] - ETA: 0s - loss: 0.2714 - accuracy: 0.8332\n",
            "Epoch 64: val_accuracy did not improve from 0.59600\n",
            "125/125 [==============================] - 1s 7ms/step - loss: 0.2703 - accuracy: 0.8332 - val_loss: 2.0300 - val_accuracy: 0.4660\n",
            "Epoch 65/100\n",
            "123/125 [============================>.] - ETA: 0s - loss: 0.2680 - accuracy: 0.8323\n",
            "Epoch 65: val_accuracy did not improve from 0.59600\n",
            "125/125 [==============================] - 1s 7ms/step - loss: 0.2672 - accuracy: 0.8338 - val_loss: 1.9151 - val_accuracy: 0.4740\n",
            "Epoch 66/100\n",
            "124/125 [============================>.] - ETA: 0s - loss: 0.2647 - accuracy: 0.8367\n",
            "Epoch 66: val_accuracy did not improve from 0.59600\n",
            "125/125 [==============================] - 1s 7ms/step - loss: 0.2649 - accuracy: 0.8363 - val_loss: 2.0026 - val_accuracy: 0.4700\n",
            "Epoch 67/100\n",
            "124/125 [============================>.] - ETA: 0s - loss: 0.2657 - accuracy: 0.8347\n",
            "Epoch 67: val_accuracy did not improve from 0.59600\n",
            "125/125 [==============================] - 1s 7ms/step - loss: 0.2663 - accuracy: 0.8340 - val_loss: 2.0495 - val_accuracy: 0.4740\n",
            "Epoch 68/100\n",
            "123/125 [============================>.] - ETA: 0s - loss: 0.2755 - accuracy: 0.8293\n",
            "Epoch 68: val_accuracy did not improve from 0.59600\n",
            "125/125 [==============================] - 1s 7ms/step - loss: 0.2759 - accuracy: 0.8290 - val_loss: 1.7011 - val_accuracy: 0.4740\n",
            "Epoch 69/100\n",
            "123/125 [============================>.] - ETA: 0s - loss: 0.2784 - accuracy: 0.8338\n",
            "Epoch 69: val_accuracy did not improve from 0.59600\n",
            "125/125 [==============================] - 1s 7ms/step - loss: 0.2793 - accuracy: 0.8325 - val_loss: 1.6997 - val_accuracy: 0.4720\n",
            "Epoch 70/100\n",
            "123/125 [============================>.] - ETA: 0s - loss: 0.2694 - accuracy: 0.8349\n",
            "Epoch 70: val_accuracy did not improve from 0.59600\n",
            "125/125 [==============================] - 1s 7ms/step - loss: 0.2691 - accuracy: 0.8350 - val_loss: 1.8405 - val_accuracy: 0.4820\n",
            "Epoch 71/100\n",
            "123/125 [============================>.] - ETA: 0s - loss: 0.2811 - accuracy: 0.8298\n",
            "Epoch 71: val_accuracy did not improve from 0.59600\n",
            "125/125 [==============================] - 1s 7ms/step - loss: 0.2812 - accuracy: 0.8300 - val_loss: 1.6552 - val_accuracy: 0.4820\n",
            "Epoch 72/100\n",
            "125/125 [==============================] - ETA: 0s - loss: 0.2723 - accuracy: 0.8325\n",
            "Epoch 72: val_accuracy did not improve from 0.59600\n",
            "125/125 [==============================] - 1s 9ms/step - loss: 0.2723 - accuracy: 0.8325 - val_loss: 1.6135 - val_accuracy: 0.4820\n",
            "Epoch 73/100\n",
            "123/125 [============================>.] - ETA: 0s - loss: 0.2735 - accuracy: 0.8326\n",
            "Epoch 73: val_accuracy did not improve from 0.59600\n",
            "125/125 [==============================] - 1s 9ms/step - loss: 0.2733 - accuracy: 0.8332 - val_loss: 1.6077 - val_accuracy: 0.4720\n",
            "Epoch 74/100\n",
            "119/125 [===========================>..] - ETA: 0s - loss: 0.2747 - accuracy: 0.8325\n",
            "Epoch 74: val_accuracy did not improve from 0.59600\n",
            "125/125 [==============================] - 1s 9ms/step - loss: 0.2748 - accuracy: 0.8335 - val_loss: 1.9016 - val_accuracy: 0.4620\n",
            "Epoch 75/100\n",
            "122/125 [============================>.] - ETA: 0s - loss: 0.2660 - accuracy: 0.8340\n",
            "Epoch 75: val_accuracy did not improve from 0.59600\n",
            "125/125 [==============================] - 1s 9ms/step - loss: 0.2655 - accuracy: 0.8350 - val_loss: 1.8535 - val_accuracy: 0.4760\n",
            "Epoch 76/100\n",
            "122/125 [============================>.] - ETA: 0s - loss: 0.2638 - accuracy: 0.8363\n",
            "Epoch 76: val_accuracy did not improve from 0.59600\n",
            "125/125 [==============================] - 1s 8ms/step - loss: 0.2643 - accuracy: 0.8360 - val_loss: 2.0677 - val_accuracy: 0.4580\n",
            "Epoch 77/100\n",
            "117/125 [===========================>..] - ETA: 0s - loss: 0.2726 - accuracy: 0.8360\n",
            "Epoch 77: val_accuracy did not improve from 0.59600\n",
            "125/125 [==============================] - 1s 7ms/step - loss: 0.2721 - accuracy: 0.8347 - val_loss: 1.7331 - val_accuracy: 0.4860\n",
            "Epoch 78/100\n",
            "124/125 [============================>.] - ETA: 0s - loss: 0.2730 - accuracy: 0.8317\n",
            "Epoch 78: val_accuracy did not improve from 0.59600\n",
            "125/125 [==============================] - 1s 7ms/step - loss: 0.2723 - accuracy: 0.8322 - val_loss: 1.6680 - val_accuracy: 0.4920\n",
            "Epoch 79/100\n",
            "117/125 [===========================>..] - ETA: 0s - loss: 0.2687 - accuracy: 0.8357\n",
            "Epoch 79: val_accuracy did not improve from 0.59600\n",
            "125/125 [==============================] - 1s 7ms/step - loss: 0.2707 - accuracy: 0.8335 - val_loss: 1.8806 - val_accuracy: 0.4680\n",
            "Epoch 80/100\n",
            "124/125 [============================>.] - ETA: 0s - loss: 0.2672 - accuracy: 0.8352\n",
            "Epoch 80: val_accuracy did not improve from 0.59600\n",
            "125/125 [==============================] - 1s 7ms/step - loss: 0.2681 - accuracy: 0.8350 - val_loss: 1.5863 - val_accuracy: 0.4860\n",
            "Epoch 81/100\n",
            "124/125 [============================>.] - ETA: 0s - loss: 0.2670 - accuracy: 0.8354\n",
            "Epoch 81: val_accuracy did not improve from 0.59600\n",
            "125/125 [==============================] - 1s 7ms/step - loss: 0.2669 - accuracy: 0.8357 - val_loss: 1.8222 - val_accuracy: 0.4700\n",
            "Epoch 82/100\n",
            "124/125 [============================>.] - ETA: 0s - loss: 0.2648 - accuracy: 0.8364\n",
            "Epoch 82: val_accuracy did not improve from 0.59600\n",
            "125/125 [==============================] - 1s 7ms/step - loss: 0.2658 - accuracy: 0.8347 - val_loss: 2.1886 - val_accuracy: 0.4620\n",
            "Epoch 83/100\n",
            "124/125 [============================>.] - ETA: 0s - loss: 0.2755 - accuracy: 0.8347\n",
            "Epoch 83: val_accuracy did not improve from 0.59600\n",
            "125/125 [==============================] - 1s 7ms/step - loss: 0.2752 - accuracy: 0.8345 - val_loss: 1.4853 - val_accuracy: 0.4820\n",
            "Epoch 84/100\n",
            "121/125 [============================>.] - ETA: 0s - loss: 0.2682 - accuracy: 0.8342\n",
            "Epoch 84: val_accuracy did not improve from 0.59600\n",
            "125/125 [==============================] - 1s 7ms/step - loss: 0.2674 - accuracy: 0.8345 - val_loss: 1.9069 - val_accuracy: 0.4560\n",
            "Epoch 85/100\n",
            "119/125 [===========================>..] - ETA: 0s - loss: 0.2688 - accuracy: 0.8351\n",
            "Epoch 85: val_accuracy did not improve from 0.59600\n",
            "125/125 [==============================] - 1s 7ms/step - loss: 0.2667 - accuracy: 0.8363 - val_loss: 1.8931 - val_accuracy: 0.4780\n",
            "Epoch 86/100\n",
            "121/125 [============================>.] - ETA: 0s - loss: 0.2677 - accuracy: 0.8324\n",
            "Epoch 86: val_accuracy did not improve from 0.59600\n",
            "125/125 [==============================] - 1s 7ms/step - loss: 0.2680 - accuracy: 0.8320 - val_loss: 1.7250 - val_accuracy: 0.4780\n",
            "Epoch 87/100\n",
            "122/125 [============================>.] - ETA: 0s - loss: 0.2690 - accuracy: 0.8338\n",
            "Epoch 87: val_accuracy did not improve from 0.59600\n",
            "125/125 [==============================] - 1s 7ms/step - loss: 0.2702 - accuracy: 0.8325 - val_loss: 1.8743 - val_accuracy: 0.4740\n",
            "Epoch 88/100\n",
            "123/125 [============================>.] - ETA: 0s - loss: 0.2655 - accuracy: 0.8369\n",
            "Epoch 88: val_accuracy did not improve from 0.59600\n",
            "125/125 [==============================] - 1s 9ms/step - loss: 0.2660 - accuracy: 0.8363 - val_loss: 1.8762 - val_accuracy: 0.4760\n",
            "Epoch 89/100\n",
            "123/125 [============================>.] - ETA: 0s - loss: 0.2688 - accuracy: 0.8356\n",
            "Epoch 89: val_accuracy did not improve from 0.59600\n",
            "125/125 [==============================] - 1s 10ms/step - loss: 0.2679 - accuracy: 0.8363 - val_loss: 1.5185 - val_accuracy: 0.5020\n",
            "Epoch 90/100\n",
            "119/125 [===========================>..] - ETA: 0s - loss: 0.2647 - accuracy: 0.8353\n",
            "Epoch 90: val_accuracy did not improve from 0.59600\n",
            "125/125 [==============================] - 1s 10ms/step - loss: 0.2659 - accuracy: 0.8330 - val_loss: 1.7834 - val_accuracy: 0.4840\n",
            "Epoch 91/100\n",
            "125/125 [==============================] - ETA: 0s - loss: 0.2637 - accuracy: 0.8363\n",
            "Epoch 91: val_accuracy did not improve from 0.59600\n",
            "125/125 [==============================] - 1s 9ms/step - loss: 0.2637 - accuracy: 0.8363 - val_loss: 1.8142 - val_accuracy: 0.4900\n",
            "Epoch 92/100\n",
            "123/125 [============================>.] - ETA: 0s - loss: 0.2625 - accuracy: 0.8354\n",
            "Epoch 92: val_accuracy did not improve from 0.59600\n",
            "125/125 [==============================] - 1s 7ms/step - loss: 0.2625 - accuracy: 0.8353 - val_loss: 1.9080 - val_accuracy: 0.4800\n",
            "Epoch 93/100\n",
            "122/125 [============================>.] - ETA: 0s - loss: 0.2676 - accuracy: 0.8345\n",
            "Epoch 93: val_accuracy did not improve from 0.59600\n",
            "125/125 [==============================] - 1s 7ms/step - loss: 0.2671 - accuracy: 0.8347 - val_loss: 1.8411 - val_accuracy: 0.4760\n",
            "Epoch 94/100\n",
            "123/125 [============================>.] - ETA: 0s - loss: 0.2647 - accuracy: 0.8359\n",
            "Epoch 94: val_accuracy did not improve from 0.59600\n",
            "125/125 [==============================] - 1s 7ms/step - loss: 0.2647 - accuracy: 0.8365 - val_loss: 1.9753 - val_accuracy: 0.4820\n",
            "Epoch 95/100\n",
            "124/125 [============================>.] - ETA: 0s - loss: 0.2674 - accuracy: 0.8362\n",
            "Epoch 95: val_accuracy did not improve from 0.59600\n",
            "125/125 [==============================] - 1s 7ms/step - loss: 0.2677 - accuracy: 0.8357 - val_loss: 1.7146 - val_accuracy: 0.4860\n",
            "Epoch 96/100\n",
            "122/125 [============================>.] - ETA: 0s - loss: 0.2734 - accuracy: 0.8345\n",
            "Epoch 96: val_accuracy did not improve from 0.59600\n",
            "125/125 [==============================] - 1s 7ms/step - loss: 0.2736 - accuracy: 0.8338 - val_loss: 1.6769 - val_accuracy: 0.4880\n",
            "Epoch 97/100\n",
            "124/125 [============================>.] - ETA: 0s - loss: 0.2647 - accuracy: 0.8382\n",
            "Epoch 97: val_accuracy did not improve from 0.59600\n",
            "125/125 [==============================] - 1s 7ms/step - loss: 0.2654 - accuracy: 0.8375 - val_loss: 1.7643 - val_accuracy: 0.4880\n",
            "Epoch 98/100\n",
            "124/125 [============================>.] - ETA: 0s - loss: 0.2685 - accuracy: 0.8339\n",
            "Epoch 98: val_accuracy did not improve from 0.59600\n",
            "125/125 [==============================] - 1s 7ms/step - loss: 0.2676 - accuracy: 0.8345 - val_loss: 1.7341 - val_accuracy: 0.4840\n",
            "Epoch 99/100\n",
            "124/125 [============================>.] - ETA: 0s - loss: 0.2656 - accuracy: 0.8359\n",
            "Epoch 99: val_accuracy did not improve from 0.59600\n",
            "125/125 [==============================] - 1s 7ms/step - loss: 0.2652 - accuracy: 0.8365 - val_loss: 1.8077 - val_accuracy: 0.4800\n",
            "Epoch 100/100\n",
            "124/125 [============================>.] - ETA: 0s - loss: 0.2655 - accuracy: 0.8344\n",
            "Epoch 100: val_accuracy did not improve from 0.59600\n",
            "125/125 [==============================] - 1s 7ms/step - loss: 0.2663 - accuracy: 0.8340 - val_loss: 1.7456 - val_accuracy: 0.4840\n"
          ]
        }
      ],
      "source": [
        "model2.compile(optimizer=keras.optimizers.Adam(learning_rate=0.001),\n",
        "    loss='binary_crossentropy',\n",
        "    metrics=['accuracy'])\n",
        "\n",
        "history = model2.fit(\n",
        "    train_pad_sequences,\n",
        "    np.array(train_df['enc_label']),\n",
        "    epochs=100,\n",
        "    batch_size=32,\n",
        "    validation_data=(test_pad_sequences, np.array(y_data_with_label)),\n",
        "    verbose=1,\n",
        "    callbacks=callback_list\n",
        ")\n",
        " # as here weight is not using"
      ]
    },
    {
      "cell_type": "code",
      "execution_count": 69,
      "metadata": {
        "colab": {
          "base_uri": "https://localhost:8080/"
        },
        "execution": {
          "iopub.execute_input": "2023-12-11T01:15:25.346101Z",
          "iopub.status.busy": "2023-12-11T01:15:25.345345Z",
          "iopub.status.idle": "2023-12-11T01:15:25.584290Z",
          "shell.execute_reply": "2023-12-11T01:15:25.583291Z",
          "shell.execute_reply.started": "2023-12-11T01:15:25.346070Z"
        },
        "id": "HeHqJGIi6hWd",
        "outputId": "5fd1c1e4-f663-4841-d936-87fb830f152b",
        "trusted": true
      },
      "outputs": [
        {
          "name": "stdout",
          "output_type": "stream",
          "text": [
            "16/16 [==============================] - 1s 4ms/step\n",
            "Classification Report for Loaded Model:\n",
            "               precision    recall  f1-score   support\n",
            "\n",
            "           0     0.7449    0.2920    0.4195       250\n",
            "           1     0.5597    0.9000    0.6902       250\n",
            "\n",
            "    accuracy                         0.5960       500\n",
            "   macro avg     0.6523    0.5960    0.5549       500\n",
            "weighted avg     0.6523    0.5960    0.5549       500\n",
            "\n"
          ]
        }
      ],
      "source": [
        "import numpy as np\n",
        "from sklearn.metrics import classification_report\n",
        "from tensorflow.keras.models import load_model\n",
        "\n",
        "# Assuming y_pred is a 2D array of predicted probabilities for each class\n",
        "# Adjust axis parameter if needed based on the shape of your y_pred array\n",
        "loaded_model = load_model(filepath)\n",
        "\n",
        "# Evaluate the model on the validation set\n",
        "y_pred = loaded_model.predict(test_pad_sequences)\n",
        "\n",
        "# Convert probabilities to binary predictions using a threshold (e.g., 0.5)\n",
        "threshold = 0.5\n",
        "y_pred_classes = (y_pred > threshold).astype(int)\n",
        "\n",
        "# Generate a classification report\n",
        "classification_report_loaded_model = classification_report(y_data_with_label, y_pred_classes, digits=4)\n",
        "print('Classification Report for Loaded Model:\\n', classification_report_loaded_model)"
      ]
    },
    {
      "cell_type": "markdown",
      "metadata": {
        "id": "MHVI7E_AeeZZ"
      },
      "source": [
        "## FastText BiLSTM"
      ]
    },
    {
      "cell_type": "code",
      "execution_count": 73,
      "metadata": {
        "colab": {
          "base_uri": "https://localhost:8080/"
        },
        "id": "9-TPQegjeg-z",
        "outputId": "f35054a4-7eb6-4f51-9468-02e698fb78f2"
      },
      "outputs": [
        {
          "name": "stdout",
          "output_type": "stream",
          "text": [
            "Model: \"sequential_9\"\n",
            "_________________________________________________________________\n",
            " Layer (type)                Output Shape              Param #   \n",
            "=================================================================\n",
            " embedding_10 (Embedding)    (None, 80, 300)           4545300   \n",
            "                                                                 \n",
            " bidirectional_7 (Bidirecti  (None, 80, 400)           801600    \n",
            " onal)                                                           \n",
            "                                                                 \n",
            " flatten_6 (Flatten)         (None, 32000)             0         \n",
            "                                                                 \n",
            " dense_9 (Dense)             (None, 1)                 32001     \n",
            "                                                                 \n",
            "=================================================================\n",
            "Total params: 5378901 (20.52 MB)\n",
            "Trainable params: 833601 (3.18 MB)\n",
            "Non-trainable params: 4545300 (17.34 MB)\n",
            "_________________________________________________________________\n"
          ]
        }
      ],
      "source": [
        "num_classes = 2\n",
        "\n",
        "accuracy_threshold = 0.99\n",
        "\n",
        "class myCallback(keras.callbacks.Callback):\n",
        "  def on_epoch_end(self, epoch, logs={}):\n",
        "      if(logs.get('accuracy')>accuracy_threshold):\n",
        "        print(\"\\nReached %2.2f%% accuracy so we will stop trianing\" % (accuracy_threshold*100))\n",
        "        self.model.stop_training = True\n",
        "\n",
        "acc_callback = myCallback()\n",
        "# Saved the Best Model\n",
        "filepath = '/content/drive/MyDrive/Colab Notebooks/HOLD/' +\"BiLSTMModel_FastText.h5\"\n",
        "checkpoint = keras.callbacks.ModelCheckpoint(filepath, monitor='val_accuracy', verbose=2, save_best_only=True,\n",
        "                                             save_weights_only=False, mode='max')\n",
        "# callback list\n",
        "callback_list = [acc_callback, checkpoint]\n",
        "model = tf.keras.models.Sequential([\n",
        "tf.keras.layers.Embedding(vocab_size, 300, weights=[embedding_matrix],trainable=False, input_length = max_len),\n",
        "# tf.keras.layers.Conv1D(128, 2, activation='relu'),\n",
        "# tf.keras.layers.MaxPooling1D(2),\n",
        "tf.keras.layers.Bidirectional(LSTM(units = 200,return_sequences=True,dropout = 0.2)),\n",
        "tf.keras.layers.Flatten(),\n",
        "tf.keras.layers.Dense(1, activation='sigmoid')])\n",
        "\n",
        "model.summary()"
      ]
    },
    {
      "cell_type": "code",
      "execution_count": 75,
      "metadata": {
        "colab": {
          "base_uri": "https://localhost:8080/"
        },
        "id": "FZK0w9a3eoKO",
        "outputId": "91462370-4ef7-454a-c473-ef6be97e404f"
      },
      "outputs": [
        {
          "name": "stdout",
          "output_type": "stream",
          "text": [
            "Epoch 1/100\n",
            "  5/125 [>.............................] - ETA: 3s - loss: 0.6844 - accuracy: 0.5312"
          ]
        },
        {
          "name": "stderr",
          "output_type": "stream",
          "text": [
            "WARNING:tensorflow:Callback method `on_train_batch_end` is slow compared to the batch time (batch time: 0.0113s vs `on_train_batch_end` time: 0.0120s). Check your callbacks.\n"
          ]
        },
        {
          "name": "stdout",
          "output_type": "stream",
          "text": [
            "124/125 [============================>.] - ETA: 0s - loss: 0.6733 - accuracy: 0.5587\n",
            "Epoch 1: val_accuracy improved from -inf to 0.60600, saving model to /content/drive/MyDrive/Colab Notebooks/HOLD/BiLSTMModel_FastText.h5\n",
            "125/125 [==============================] - 10s 21ms/step - loss: 0.6742 - accuracy: 0.5583 - val_loss: 0.6928 - val_accuracy: 0.6060\n",
            "Epoch 2/100\n",
            "122/125 [============================>.] - ETA: 0s - loss: 0.6369 - accuracy: 0.6245\n",
            "Epoch 2: val_accuracy did not improve from 0.60600\n",
            "125/125 [==============================] - 1s 11ms/step - loss: 0.6368 - accuracy: 0.6237 - val_loss: 0.7152 - val_accuracy: 0.4480\n",
            "Epoch 3/100\n",
            "122/125 [============================>.] - ETA: 0s - loss: 0.6144 - accuracy: 0.6501\n",
            "Epoch 3: val_accuracy did not improve from 0.60600\n",
            "125/125 [==============================] - 1s 11ms/step - loss: 0.6139 - accuracy: 0.6525 - val_loss: 0.7114 - val_accuracy: 0.4780\n",
            "Epoch 4/100\n",
            "124/125 [============================>.] - ETA: 0s - loss: 0.6025 - accuracy: 0.6600\n",
            "Epoch 4: val_accuracy did not improve from 0.60600\n",
            "125/125 [==============================] - 2s 12ms/step - loss: 0.6026 - accuracy: 0.6595 - val_loss: 0.7127 - val_accuracy: 0.4980\n",
            "Epoch 5/100\n",
            "124/125 [============================>.] - ETA: 0s - loss: 0.5901 - accuracy: 0.6676\n",
            "Epoch 5: val_accuracy improved from 0.60600 to 0.61000, saving model to /content/drive/MyDrive/Colab Notebooks/HOLD/BiLSTMModel_FastText.h5\n",
            "125/125 [==============================] - 2s 14ms/step - loss: 0.5894 - accuracy: 0.6678 - val_loss: 0.6875 - val_accuracy: 0.6100\n",
            "Epoch 6/100\n",
            "121/125 [============================>.] - ETA: 0s - loss: 0.5741 - accuracy: 0.6743\n",
            "Epoch 6: val_accuracy did not improve from 0.61000\n",
            "125/125 [==============================] - 2s 13ms/step - loss: 0.5730 - accuracy: 0.6733 - val_loss: 0.6975 - val_accuracy: 0.5920\n",
            "Epoch 7/100\n",
            "122/125 [============================>.] - ETA: 0s - loss: 0.5592 - accuracy: 0.6790\n",
            "Epoch 7: val_accuracy did not improve from 0.61000\n",
            "125/125 [==============================] - 2s 13ms/step - loss: 0.5592 - accuracy: 0.6783 - val_loss: 0.7258 - val_accuracy: 0.4920\n",
            "Epoch 8/100\n",
            "122/125 [============================>.] - ETA: 0s - loss: 0.5443 - accuracy: 0.6875\n",
            "Epoch 8: val_accuracy did not improve from 0.61000\n",
            "125/125 [==============================] - 2s 15ms/step - loss: 0.5436 - accuracy: 0.6898 - val_loss: 0.7141 - val_accuracy: 0.5020\n",
            "Epoch 9/100\n",
            "122/125 [============================>.] - ETA: 0s - loss: 0.5277 - accuracy: 0.7052\n",
            "Epoch 9: val_accuracy did not improve from 0.61000\n",
            "125/125 [==============================] - 2s 14ms/step - loss: 0.5282 - accuracy: 0.7045 - val_loss: 0.7644 - val_accuracy: 0.4860\n",
            "Epoch 10/100\n",
            "123/125 [============================>.] - ETA: 0s - loss: 0.5340 - accuracy: 0.7048\n",
            "Epoch 10: val_accuracy did not improve from 0.61000\n",
            "125/125 [==============================] - 2s 14ms/step - loss: 0.5335 - accuracy: 0.7060 - val_loss: 0.7193 - val_accuracy: 0.4880\n",
            "Epoch 11/100\n",
            "125/125 [==============================] - ETA: 0s - loss: 0.5108 - accuracy: 0.7135\n",
            "Epoch 11: val_accuracy did not improve from 0.61000\n",
            "125/125 [==============================] - 2s 15ms/step - loss: 0.5108 - accuracy: 0.7135 - val_loss: 0.8360 - val_accuracy: 0.4640\n",
            "Epoch 12/100\n",
            "124/125 [============================>.] - ETA: 0s - loss: 0.5025 - accuracy: 0.7203\n",
            "Epoch 12: val_accuracy did not improve from 0.61000\n",
            "125/125 [==============================] - 2s 15ms/step - loss: 0.5029 - accuracy: 0.7197 - val_loss: 0.7792 - val_accuracy: 0.4840\n",
            "Epoch 13/100\n",
            "124/125 [============================>.] - ETA: 0s - loss: 0.4892 - accuracy: 0.7311\n",
            "Epoch 13: val_accuracy did not improve from 0.61000\n",
            "125/125 [==============================] - 2s 19ms/step - loss: 0.4888 - accuracy: 0.7315 - val_loss: 0.7820 - val_accuracy: 0.4940\n",
            "Epoch 14/100\n",
            "124/125 [============================>.] - ETA: 0s - loss: 0.4740 - accuracy: 0.7412\n",
            "Epoch 14: val_accuracy did not improve from 0.61000\n",
            "125/125 [==============================] - 2s 13ms/step - loss: 0.4737 - accuracy: 0.7415 - val_loss: 0.7815 - val_accuracy: 0.4920\n",
            "Epoch 15/100\n",
            "122/125 [============================>.] - ETA: 0s - loss: 0.4638 - accuracy: 0.7380\n",
            "Epoch 15: val_accuracy did not improve from 0.61000\n",
            "125/125 [==============================] - 1s 11ms/step - loss: 0.4646 - accuracy: 0.7375 - val_loss: 0.7723 - val_accuracy: 0.4980\n",
            "Epoch 16/100\n",
            "121/125 [============================>.] - ETA: 0s - loss: 0.4592 - accuracy: 0.7384\n",
            "Epoch 16: val_accuracy did not improve from 0.61000\n",
            "125/125 [==============================] - 1s 11ms/step - loss: 0.4573 - accuracy: 0.7398 - val_loss: 0.8841 - val_accuracy: 0.4860\n",
            "Epoch 17/100\n",
            "121/125 [============================>.] - ETA: 0s - loss: 0.4524 - accuracy: 0.7500\n",
            "Epoch 17: val_accuracy did not improve from 0.61000\n",
            "125/125 [==============================] - 1s 11ms/step - loss: 0.4523 - accuracy: 0.7490 - val_loss: 0.8226 - val_accuracy: 0.4820\n",
            "Epoch 18/100\n",
            "122/125 [============================>.] - ETA: 0s - loss: 0.4461 - accuracy: 0.7518\n",
            "Epoch 18: val_accuracy did not improve from 0.61000\n",
            "125/125 [==============================] - 1s 11ms/step - loss: 0.4481 - accuracy: 0.7502 - val_loss: 0.8283 - val_accuracy: 0.4820\n",
            "Epoch 19/100\n",
            "122/125 [============================>.] - ETA: 0s - loss: 0.4290 - accuracy: 0.7574\n",
            "Epoch 19: val_accuracy did not improve from 0.61000\n",
            "125/125 [==============================] - 1s 11ms/step - loss: 0.4303 - accuracy: 0.7567 - val_loss: 0.8779 - val_accuracy: 0.4960\n",
            "Epoch 20/100\n",
            "121/125 [============================>.] - ETA: 0s - loss: 0.4301 - accuracy: 0.7588\n",
            "Epoch 20: val_accuracy did not improve from 0.61000\n",
            "125/125 [==============================] - 1s 11ms/step - loss: 0.4307 - accuracy: 0.7582 - val_loss: 0.8384 - val_accuracy: 0.4860\n",
            "Epoch 21/100\n",
            "122/125 [============================>.] - ETA: 0s - loss: 0.4286 - accuracy: 0.7608\n",
            "Epoch 21: val_accuracy did not improve from 0.61000\n",
            "125/125 [==============================] - 1s 11ms/step - loss: 0.4293 - accuracy: 0.7607 - val_loss: 0.8165 - val_accuracy: 0.5040\n",
            "Epoch 22/100\n",
            "124/125 [============================>.] - ETA: 0s - loss: 0.4206 - accuracy: 0.7702\n",
            "Epoch 22: val_accuracy did not improve from 0.61000\n",
            "125/125 [==============================] - 2s 13ms/step - loss: 0.4204 - accuracy: 0.7705 - val_loss: 0.9229 - val_accuracy: 0.4820\n",
            "Epoch 23/100\n",
            "124/125 [============================>.] - ETA: 0s - loss: 0.4221 - accuracy: 0.7601\n",
            "Epoch 23: val_accuracy did not improve from 0.61000\n",
            "125/125 [==============================] - 2s 13ms/step - loss: 0.4220 - accuracy: 0.7602 - val_loss: 0.8423 - val_accuracy: 0.4900\n",
            "Epoch 24/100\n",
            "123/125 [============================>.] - ETA: 0s - loss: 0.4147 - accuracy: 0.7696\n",
            "Epoch 24: val_accuracy did not improve from 0.61000\n",
            "125/125 [==============================] - 2s 12ms/step - loss: 0.4162 - accuracy: 0.7688 - val_loss: 0.8296 - val_accuracy: 0.4980\n",
            "Epoch 25/100\n",
            "122/125 [============================>.] - ETA: 0s - loss: 0.4018 - accuracy: 0.7741\n",
            "Epoch 25: val_accuracy did not improve from 0.61000\n",
            "125/125 [==============================] - 1s 11ms/step - loss: 0.4016 - accuracy: 0.7738 - val_loss: 0.9089 - val_accuracy: 0.4980\n",
            "Epoch 26/100\n",
            "121/125 [============================>.] - ETA: 0s - loss: 0.4012 - accuracy: 0.7748\n",
            "Epoch 26: val_accuracy did not improve from 0.61000\n",
            "125/125 [==============================] - 1s 11ms/step - loss: 0.4000 - accuracy: 0.7755 - val_loss: 0.8563 - val_accuracy: 0.5020\n",
            "Epoch 27/100\n",
            "121/125 [============================>.] - ETA: 0s - loss: 0.3885 - accuracy: 0.7818\n",
            "Epoch 27: val_accuracy did not improve from 0.61000\n",
            "125/125 [==============================] - 1s 11ms/step - loss: 0.3887 - accuracy: 0.7805 - val_loss: 0.9706 - val_accuracy: 0.4880\n",
            "Epoch 28/100\n",
            "122/125 [============================>.] - ETA: 0s - loss: 0.3931 - accuracy: 0.7810\n",
            "Epoch 28: val_accuracy did not improve from 0.61000\n",
            "125/125 [==============================] - 1s 11ms/step - loss: 0.3912 - accuracy: 0.7825 - val_loss: 0.9263 - val_accuracy: 0.5020\n",
            "Epoch 29/100\n",
            "121/125 [============================>.] - ETA: 0s - loss: 0.3823 - accuracy: 0.7905\n",
            "Epoch 29: val_accuracy did not improve from 0.61000\n",
            "125/125 [==============================] - 1s 11ms/step - loss: 0.3828 - accuracy: 0.7903 - val_loss: 0.9085 - val_accuracy: 0.4980\n",
            "Epoch 30/100\n",
            "123/125 [============================>.] - ETA: 0s - loss: 0.3929 - accuracy: 0.7828\n",
            "Epoch 30: val_accuracy did not improve from 0.61000\n",
            "125/125 [==============================] - 1s 11ms/step - loss: 0.3925 - accuracy: 0.7828 - val_loss: 0.8945 - val_accuracy: 0.4920\n",
            "Epoch 31/100\n",
            "122/125 [============================>.] - ETA: 0s - loss: 0.3808 - accuracy: 0.7772\n",
            "Epoch 31: val_accuracy did not improve from 0.61000\n",
            "125/125 [==============================] - 2s 12ms/step - loss: 0.3810 - accuracy: 0.7782 - val_loss: 0.9159 - val_accuracy: 0.5100\n",
            "Epoch 32/100\n",
            "121/125 [============================>.] - ETA: 0s - loss: 0.3673 - accuracy: 0.7957\n",
            "Epoch 32: val_accuracy did not improve from 0.61000\n",
            "125/125 [==============================] - 2s 14ms/step - loss: 0.3676 - accuracy: 0.7955 - val_loss: 0.9860 - val_accuracy: 0.4960\n",
            "Epoch 33/100\n",
            "123/125 [============================>.] - ETA: 0s - loss: 0.3678 - accuracy: 0.7894\n",
            "Epoch 33: val_accuracy did not improve from 0.61000\n",
            "125/125 [==============================] - 2s 13ms/step - loss: 0.3687 - accuracy: 0.7890 - val_loss: 0.9928 - val_accuracy: 0.4980\n",
            "Epoch 34/100\n",
            "125/125 [==============================] - ETA: 0s - loss: 0.3649 - accuracy: 0.7952\n",
            "Epoch 34: val_accuracy did not improve from 0.61000\n",
            "125/125 [==============================] - 1s 12ms/step - loss: 0.3649 - accuracy: 0.7952 - val_loss: 0.9864 - val_accuracy: 0.5060\n",
            "Epoch 35/100\n",
            "121/125 [============================>.] - ETA: 0s - loss: 0.3519 - accuracy: 0.7986\n",
            "Epoch 35: val_accuracy did not improve from 0.61000\n",
            "125/125 [==============================] - 1s 11ms/step - loss: 0.3504 - accuracy: 0.8000 - val_loss: 0.9852 - val_accuracy: 0.4960\n",
            "Epoch 36/100\n",
            "122/125 [============================>.] - ETA: 0s - loss: 0.3544 - accuracy: 0.8015\n",
            "Epoch 36: val_accuracy did not improve from 0.61000\n",
            "125/125 [==============================] - 1s 11ms/step - loss: 0.3552 - accuracy: 0.8002 - val_loss: 1.0572 - val_accuracy: 0.4840\n",
            "Epoch 37/100\n",
            "121/125 [============================>.] - ETA: 0s - loss: 0.3572 - accuracy: 0.8014\n",
            "Epoch 37: val_accuracy did not improve from 0.61000\n",
            "125/125 [==============================] - 1s 11ms/step - loss: 0.3592 - accuracy: 0.7997 - val_loss: 1.0002 - val_accuracy: 0.6060\n",
            "Epoch 38/100\n",
            "122/125 [============================>.] - ETA: 0s - loss: 0.3604 - accuracy: 0.7910\n",
            "Epoch 38: val_accuracy did not improve from 0.61000\n",
            "125/125 [==============================] - 1s 11ms/step - loss: 0.3597 - accuracy: 0.7922 - val_loss: 0.9102 - val_accuracy: 0.5100\n",
            "Epoch 39/100\n",
            "122/125 [============================>.] - ETA: 0s - loss: 0.3544 - accuracy: 0.7987\n",
            "Epoch 39: val_accuracy did not improve from 0.61000\n",
            "125/125 [==============================] - 1s 11ms/step - loss: 0.3548 - accuracy: 0.7993 - val_loss: 1.0605 - val_accuracy: 0.4840\n",
            "Epoch 40/100\n",
            "121/125 [============================>.] - ETA: 0s - loss: 0.3388 - accuracy: 0.8089\n",
            "Epoch 40: val_accuracy did not improve from 0.61000\n",
            "125/125 [==============================] - 1s 11ms/step - loss: 0.3389 - accuracy: 0.8080 - val_loss: 1.0014 - val_accuracy: 0.4940\n",
            "Epoch 41/100\n",
            "123/125 [============================>.] - ETA: 0s - loss: 0.3443 - accuracy: 0.8036\n",
            "Epoch 41: val_accuracy did not improve from 0.61000\n",
            "125/125 [==============================] - 2s 14ms/step - loss: 0.3455 - accuracy: 0.8033 - val_loss: 1.1100 - val_accuracy: 0.4860\n",
            "Epoch 42/100\n",
            "122/125 [============================>.] - ETA: 0s - loss: 0.3384 - accuracy: 0.8023\n",
            "Epoch 42: val_accuracy did not improve from 0.61000\n",
            "125/125 [==============================] - 3s 23ms/step - loss: 0.3385 - accuracy: 0.8027 - val_loss: 0.9300 - val_accuracy: 0.5140\n",
            "Epoch 43/100\n",
            "124/125 [============================>.] - ETA: 0s - loss: 0.3404 - accuracy: 0.8032\n",
            "Epoch 43: val_accuracy did not improve from 0.61000\n",
            "125/125 [==============================] - 2s 15ms/step - loss: 0.3399 - accuracy: 0.8033 - val_loss: 1.0117 - val_accuracy: 0.5020\n",
            "Epoch 44/100\n",
            "122/125 [============================>.] - ETA: 0s - loss: 0.3343 - accuracy: 0.8094\n",
            "Epoch 44: val_accuracy did not improve from 0.61000\n",
            "125/125 [==============================] - 2s 13ms/step - loss: 0.3343 - accuracy: 0.8100 - val_loss: 1.0333 - val_accuracy: 0.5020\n",
            "Epoch 45/100\n",
            "125/125 [==============================] - ETA: 0s - loss: 0.3301 - accuracy: 0.8095\n",
            "Epoch 45: val_accuracy did not improve from 0.61000\n",
            "125/125 [==============================] - 2s 17ms/step - loss: 0.3301 - accuracy: 0.8095 - val_loss: 1.0403 - val_accuracy: 0.5100\n",
            "Epoch 46/100\n",
            "124/125 [============================>.] - ETA: 0s - loss: 0.3270 - accuracy: 0.8110\n",
            "Epoch 46: val_accuracy did not improve from 0.61000\n",
            "125/125 [==============================] - 3s 22ms/step - loss: 0.3269 - accuracy: 0.8110 - val_loss: 1.1004 - val_accuracy: 0.5060\n",
            "Epoch 47/100\n",
            "123/125 [============================>.] - ETA: 0s - loss: 0.3292 - accuracy: 0.8130\n",
            "Epoch 47: val_accuracy did not improve from 0.61000\n",
            "125/125 [==============================] - 2s 19ms/step - loss: 0.3287 - accuracy: 0.8130 - val_loss: 1.2443 - val_accuracy: 0.4840\n",
            "Epoch 48/100\n",
            "125/125 [==============================] - ETA: 0s - loss: 0.3411 - accuracy: 0.8050\n",
            "Epoch 48: val_accuracy did not improve from 0.61000\n",
            "125/125 [==============================] - 3s 23ms/step - loss: 0.3411 - accuracy: 0.8050 - val_loss: 1.0693 - val_accuracy: 0.5040\n",
            "Epoch 49/100\n",
            "122/125 [============================>.] - ETA: 0s - loss: 0.3248 - accuracy: 0.8145\n",
            "Epoch 49: val_accuracy did not improve from 0.61000\n",
            "125/125 [==============================] - 3s 22ms/step - loss: 0.3243 - accuracy: 0.8150 - val_loss: 1.1153 - val_accuracy: 0.5020\n",
            "Epoch 50/100\n",
            "123/125 [============================>.] - ETA: 0s - loss: 0.3166 - accuracy: 0.8161\n",
            "Epoch 50: val_accuracy did not improve from 0.61000\n",
            "125/125 [==============================] - 2s 14ms/step - loss: 0.3177 - accuracy: 0.8152 - val_loss: 1.1631 - val_accuracy: 0.5020\n",
            "Epoch 51/100\n",
            "124/125 [============================>.] - ETA: 0s - loss: 0.3168 - accuracy: 0.8180\n",
            "Epoch 51: val_accuracy did not improve from 0.61000\n",
            "125/125 [==============================] - 2s 13ms/step - loss: 0.3167 - accuracy: 0.8177 - val_loss: 1.1064 - val_accuracy: 0.4980\n",
            "Epoch 52/100\n",
            "124/125 [============================>.] - ETA: 0s - loss: 0.3209 - accuracy: 0.8133\n",
            "Epoch 52: val_accuracy did not improve from 0.61000\n",
            "125/125 [==============================] - 2s 15ms/step - loss: 0.3205 - accuracy: 0.8135 - val_loss: 1.0595 - val_accuracy: 0.5120\n",
            "Epoch 53/100\n",
            "123/125 [============================>.] - ETA: 0s - loss: 0.3214 - accuracy: 0.8155\n",
            "Epoch 53: val_accuracy did not improve from 0.61000\n",
            "125/125 [==============================] - 2s 14ms/step - loss: 0.3217 - accuracy: 0.8152 - val_loss: 1.2050 - val_accuracy: 0.5040\n",
            "Epoch 54/100\n",
            "123/125 [============================>.] - ETA: 0s - loss: 0.3174 - accuracy: 0.8199\n",
            "Epoch 54: val_accuracy did not improve from 0.61000\n",
            "125/125 [==============================] - 2s 12ms/step - loss: 0.3179 - accuracy: 0.8202 - val_loss: 1.1878 - val_accuracy: 0.5120\n",
            "Epoch 55/100\n",
            "125/125 [==============================] - ETA: 0s - loss: 0.3168 - accuracy: 0.8205\n",
            "Epoch 55: val_accuracy did not improve from 0.61000\n",
            "125/125 [==============================] - 2s 13ms/step - loss: 0.3168 - accuracy: 0.8205 - val_loss: 1.1629 - val_accuracy: 0.5040\n",
            "Epoch 56/100\n",
            "125/125 [==============================] - ETA: 0s - loss: 0.3050 - accuracy: 0.8242\n",
            "Epoch 56: val_accuracy did not improve from 0.61000\n",
            "125/125 [==============================] - 2s 16ms/step - loss: 0.3050 - accuracy: 0.8242 - val_loss: 1.1837 - val_accuracy: 0.5060\n",
            "Epoch 57/100\n",
            "125/125 [==============================] - ETA: 0s - loss: 0.3127 - accuracy: 0.8140\n",
            "Epoch 57: val_accuracy did not improve from 0.61000\n",
            "125/125 [==============================] - 3s 23ms/step - loss: 0.3127 - accuracy: 0.8140 - val_loss: 1.1506 - val_accuracy: 0.5100\n",
            "Epoch 58/100\n",
            "124/125 [============================>.] - ETA: 0s - loss: 0.3066 - accuracy: 0.8231\n",
            "Epoch 58: val_accuracy did not improve from 0.61000\n",
            "125/125 [==============================] - 2s 17ms/step - loss: 0.3071 - accuracy: 0.8227 - val_loss: 1.1032 - val_accuracy: 0.5060\n",
            "Epoch 59/100\n",
            "124/125 [============================>.] - ETA: 0s - loss: 0.3224 - accuracy: 0.8158\n",
            "Epoch 59: val_accuracy improved from 0.61000 to 0.61200, saving model to /content/drive/MyDrive/Colab Notebooks/HOLD/BiLSTMModel_FastText.h5\n",
            "125/125 [==============================] - 3s 20ms/step - loss: 0.3258 - accuracy: 0.8150 - val_loss: 1.1144 - val_accuracy: 0.6120\n",
            "Epoch 60/100\n",
            "123/125 [============================>.] - ETA: 0s - loss: 0.3066 - accuracy: 0.8222\n",
            "Epoch 60: val_accuracy did not improve from 0.61200\n",
            "125/125 [==============================] - 2s 16ms/step - loss: 0.3070 - accuracy: 0.8207 - val_loss: 1.2112 - val_accuracy: 0.5100\n",
            "Epoch 61/100\n",
            "122/125 [============================>.] - ETA: 0s - loss: 0.3070 - accuracy: 0.8192\n",
            "Epoch 61: val_accuracy did not improve from 0.61200\n",
            "125/125 [==============================] - 2s 15ms/step - loss: 0.3075 - accuracy: 0.8185 - val_loss: 1.2424 - val_accuracy: 0.4980\n",
            "Epoch 62/100\n",
            "125/125 [==============================] - ETA: 0s - loss: 0.3079 - accuracy: 0.8165\n",
            "Epoch 62: val_accuracy did not improve from 0.61200\n",
            "125/125 [==============================] - 1s 12ms/step - loss: 0.3079 - accuracy: 0.8165 - val_loss: 1.1822 - val_accuracy: 0.5060\n",
            "Epoch 63/100\n",
            "124/125 [============================>.] - ETA: 0s - loss: 0.2972 - accuracy: 0.8266\n",
            "Epoch 63: val_accuracy did not improve from 0.61200\n",
            "125/125 [==============================] - 2s 12ms/step - loss: 0.2970 - accuracy: 0.8265 - val_loss: 1.2647 - val_accuracy: 0.5000\n",
            "Epoch 64/100\n",
            "125/125 [==============================] - ETA: 0s - loss: 0.3012 - accuracy: 0.8240\n",
            "Epoch 64: val_accuracy did not improve from 0.61200\n",
            "125/125 [==============================] - 2s 15ms/step - loss: 0.3012 - accuracy: 0.8240 - val_loss: 1.3263 - val_accuracy: 0.5080\n",
            "Epoch 65/100\n",
            "124/125 [============================>.] - ETA: 0s - loss: 0.3015 - accuracy: 0.8264\n",
            "Epoch 65: val_accuracy did not improve from 0.61200\n",
            "125/125 [==============================] - 2s 18ms/step - loss: 0.3006 - accuracy: 0.8273 - val_loss: 1.4635 - val_accuracy: 0.4980\n",
            "Epoch 66/100\n",
            "122/125 [============================>.] - ETA: 0s - loss: 0.2997 - accuracy: 0.8220\n",
            "Epoch 66: val_accuracy did not improve from 0.61200\n",
            "125/125 [==============================] - 2s 16ms/step - loss: 0.3001 - accuracy: 0.8223 - val_loss: 1.2104 - val_accuracy: 0.5180\n",
            "Epoch 67/100\n",
            "122/125 [============================>.] - ETA: 0s - loss: 0.2979 - accuracy: 0.8225\n",
            "Epoch 67: val_accuracy did not improve from 0.61200\n",
            "125/125 [==============================] - 3s 20ms/step - loss: 0.2995 - accuracy: 0.8205 - val_loss: 1.2312 - val_accuracy: 0.5080\n",
            "Epoch 68/100\n",
            "124/125 [============================>.] - ETA: 0s - loss: 0.3059 - accuracy: 0.8216\n",
            "Epoch 68: val_accuracy did not improve from 0.61200\n",
            "125/125 [==============================] - 2s 17ms/step - loss: 0.3051 - accuracy: 0.8220 - val_loss: 1.3153 - val_accuracy: 0.5040\n",
            "Epoch 69/100\n",
            "125/125 [==============================] - ETA: 0s - loss: 0.2939 - accuracy: 0.8217\n",
            "Epoch 69: val_accuracy did not improve from 0.61200\n",
            "125/125 [==============================] - 2s 12ms/step - loss: 0.2939 - accuracy: 0.8217 - val_loss: 1.2219 - val_accuracy: 0.5180\n",
            "Epoch 70/100\n",
            "121/125 [============================>.] - ETA: 0s - loss: 0.2938 - accuracy: 0.8246\n",
            "Epoch 70: val_accuracy did not improve from 0.61200\n",
            "125/125 [==============================] - 1s 11ms/step - loss: 0.2942 - accuracy: 0.8242 - val_loss: 1.2587 - val_accuracy: 0.5060\n",
            "Epoch 71/100\n",
            "124/125 [============================>.] - ETA: 0s - loss: 0.2941 - accuracy: 0.8281\n",
            "Epoch 71: val_accuracy did not improve from 0.61200\n",
            "125/125 [==============================] - 2s 13ms/step - loss: 0.2943 - accuracy: 0.8280 - val_loss: 1.4216 - val_accuracy: 0.5040\n",
            "Epoch 72/100\n",
            "121/125 [============================>.] - ETA: 0s - loss: 0.2940 - accuracy: 0.8223\n",
            "Epoch 72: val_accuracy did not improve from 0.61200\n",
            "125/125 [==============================] - 2s 13ms/step - loss: 0.2945 - accuracy: 0.8225 - val_loss: 1.3657 - val_accuracy: 0.5020\n",
            "Epoch 73/100\n",
            "123/125 [============================>.] - ETA: 0s - loss: 0.2922 - accuracy: 0.8275\n",
            "Epoch 73: val_accuracy did not improve from 0.61200\n",
            "125/125 [==============================] - 2s 13ms/step - loss: 0.2917 - accuracy: 0.8282 - val_loss: 1.2953 - val_accuracy: 0.5060\n",
            "Epoch 74/100\n",
            "121/125 [============================>.] - ETA: 0s - loss: 0.2961 - accuracy: 0.8215\n",
            "Epoch 74: val_accuracy did not improve from 0.61200\n",
            "125/125 [==============================] - 1s 11ms/step - loss: 0.2970 - accuracy: 0.8217 - val_loss: 1.4083 - val_accuracy: 0.5020\n",
            "Epoch 75/100\n",
            "123/125 [============================>.] - ETA: 0s - loss: 0.2899 - accuracy: 0.8298\n",
            "Epoch 75: val_accuracy did not improve from 0.61200\n",
            "125/125 [==============================] - 1s 11ms/step - loss: 0.2897 - accuracy: 0.8300 - val_loss: 1.3241 - val_accuracy: 0.5160\n",
            "Epoch 76/100\n",
            "121/125 [============================>.] - ETA: 0s - loss: 0.2956 - accuracy: 0.8244\n",
            "Epoch 76: val_accuracy did not improve from 0.61200\n",
            "125/125 [==============================] - 1s 11ms/step - loss: 0.2965 - accuracy: 0.8245 - val_loss: 1.2629 - val_accuracy: 0.5080\n",
            "Epoch 77/100\n",
            "121/125 [============================>.] - ETA: 0s - loss: 0.2909 - accuracy: 0.8290\n",
            "Epoch 77: val_accuracy improved from 0.61200 to 0.62600, saving model to /content/drive/MyDrive/Colab Notebooks/HOLD/BiLSTMModel_FastText.h5\n",
            "125/125 [==============================] - 2s 16ms/step - loss: 0.2900 - accuracy: 0.8298 - val_loss: 1.2452 - val_accuracy: 0.6260\n",
            "Epoch 78/100\n",
            "122/125 [============================>.] - ETA: 0s - loss: 0.2913 - accuracy: 0.8233\n",
            "Epoch 78: val_accuracy did not improve from 0.62600\n",
            "125/125 [==============================] - 1s 11ms/step - loss: 0.2907 - accuracy: 0.8230 - val_loss: 1.3834 - val_accuracy: 0.5140\n",
            "Epoch 79/100\n",
            "122/125 [============================>.] - ETA: 0s - loss: 0.2903 - accuracy: 0.8276\n",
            "Epoch 79: val_accuracy did not improve from 0.62600\n",
            "125/125 [==============================] - 1s 11ms/step - loss: 0.2897 - accuracy: 0.8280 - val_loss: 1.3049 - val_accuracy: 0.5080\n",
            "Epoch 80/100\n",
            "123/125 [============================>.] - ETA: 0s - loss: 0.2887 - accuracy: 0.8262\n",
            "Epoch 80: val_accuracy did not improve from 0.62600\n",
            "125/125 [==============================] - 2s 12ms/step - loss: 0.2889 - accuracy: 0.8263 - val_loss: 1.3528 - val_accuracy: 0.5080\n",
            "Epoch 81/100\n",
            "123/125 [============================>.] - ETA: 0s - loss: 0.2938 - accuracy: 0.8227\n",
            "Epoch 81: val_accuracy did not improve from 0.62600\n",
            "125/125 [==============================] - 2s 13ms/step - loss: 0.2941 - accuracy: 0.8223 - val_loss: 1.2925 - val_accuracy: 0.4980\n",
            "Epoch 82/100\n",
            "121/125 [============================>.] - ETA: 0s - loss: 0.2908 - accuracy: 0.8290\n",
            "Epoch 82: val_accuracy did not improve from 0.62600\n",
            "125/125 [==============================] - 2s 13ms/step - loss: 0.2919 - accuracy: 0.8278 - val_loss: 1.2422 - val_accuracy: 0.4880\n",
            "Epoch 83/100\n",
            "121/125 [============================>.] - ETA: 0s - loss: 0.2890 - accuracy: 0.8249\n",
            "Epoch 83: val_accuracy did not improve from 0.62600\n",
            "125/125 [==============================] - 2s 12ms/step - loss: 0.2890 - accuracy: 0.8260 - val_loss: 1.3614 - val_accuracy: 0.5000\n",
            "Epoch 84/100\n",
            "124/125 [============================>.] - ETA: 0s - loss: 0.2794 - accuracy: 0.8301\n",
            "Epoch 84: val_accuracy did not improve from 0.62600\n",
            "125/125 [==============================] - 2s 14ms/step - loss: 0.2805 - accuracy: 0.8292 - val_loss: 1.3134 - val_accuracy: 0.5140\n",
            "Epoch 85/100\n",
            "121/125 [============================>.] - ETA: 0s - loss: 0.2854 - accuracy: 0.8270\n",
            "Epoch 85: val_accuracy did not improve from 0.62600\n",
            "125/125 [==============================] - 2s 13ms/step - loss: 0.2852 - accuracy: 0.8260 - val_loss: 1.4432 - val_accuracy: 0.5040\n",
            "Epoch 86/100\n",
            "122/125 [============================>.] - ETA: 0s - loss: 0.2845 - accuracy: 0.8279\n",
            "Epoch 86: val_accuracy did not improve from 0.62600\n",
            "125/125 [==============================] - 2s 13ms/step - loss: 0.2839 - accuracy: 0.8285 - val_loss: 1.3781 - val_accuracy: 0.5080\n",
            "Epoch 87/100\n",
            "122/125 [============================>.] - ETA: 0s - loss: 0.2832 - accuracy: 0.8261\n",
            "Epoch 87: val_accuracy did not improve from 0.62600\n",
            "125/125 [==============================] - 1s 11ms/step - loss: 0.2835 - accuracy: 0.8250 - val_loss: 1.4087 - val_accuracy: 0.5120\n",
            "Epoch 88/100\n",
            "121/125 [============================>.] - ETA: 0s - loss: 0.2839 - accuracy: 0.8277\n",
            "Epoch 88: val_accuracy did not improve from 0.62600\n",
            "125/125 [==============================] - 1s 11ms/step - loss: 0.2842 - accuracy: 0.8273 - val_loss: 1.4556 - val_accuracy: 0.6100\n",
            "Epoch 89/100\n",
            "123/125 [============================>.] - ETA: 0s - loss: 0.2886 - accuracy: 0.8255\n",
            "Epoch 89: val_accuracy did not improve from 0.62600\n",
            "125/125 [==============================] - 1s 12ms/step - loss: 0.2878 - accuracy: 0.8257 - val_loss: 1.4999 - val_accuracy: 0.4920\n",
            "Epoch 90/100\n",
            "121/125 [============================>.] - ETA: 0s - loss: 0.2782 - accuracy: 0.8347\n",
            "Epoch 90: val_accuracy did not improve from 0.62600\n",
            "125/125 [==============================] - 2s 13ms/step - loss: 0.2794 - accuracy: 0.8338 - val_loss: 1.4353 - val_accuracy: 0.4960\n",
            "Epoch 91/100\n",
            "125/125 [==============================] - ETA: 0s - loss: 0.2792 - accuracy: 0.8290\n",
            "Epoch 91: val_accuracy did not improve from 0.62600\n",
            "125/125 [==============================] - 2s 14ms/step - loss: 0.2792 - accuracy: 0.8290 - val_loss: 1.4574 - val_accuracy: 0.4980\n",
            "Epoch 92/100\n",
            "124/125 [============================>.] - ETA: 0s - loss: 0.2879 - accuracy: 0.8304\n",
            "Epoch 92: val_accuracy did not improve from 0.62600\n",
            "125/125 [==============================] - 2s 12ms/step - loss: 0.2878 - accuracy: 0.8305 - val_loss: 1.3724 - val_accuracy: 0.5060\n",
            "Epoch 93/100\n",
            "122/125 [============================>.] - ETA: 0s - loss: 0.2848 - accuracy: 0.8291\n",
            "Epoch 93: val_accuracy did not improve from 0.62600\n",
            "125/125 [==============================] - 1s 11ms/step - loss: 0.2834 - accuracy: 0.8298 - val_loss: 1.3502 - val_accuracy: 0.5140\n",
            "Epoch 94/100\n",
            "122/125 [============================>.] - ETA: 0s - loss: 0.2806 - accuracy: 0.8199\n",
            "Epoch 94: val_accuracy did not improve from 0.62600\n",
            "125/125 [==============================] - 1s 11ms/step - loss: 0.2800 - accuracy: 0.8215 - val_loss: 1.4656 - val_accuracy: 0.5060\n",
            "Epoch 95/100\n",
            "122/125 [============================>.] - ETA: 0s - loss: 0.2786 - accuracy: 0.8315\n",
            "Epoch 95: val_accuracy did not improve from 0.62600\n",
            "125/125 [==============================] - 1s 11ms/step - loss: 0.2790 - accuracy: 0.8310 - val_loss: 1.4174 - val_accuracy: 0.5100\n",
            "Epoch 96/100\n",
            "122/125 [============================>.] - ETA: 0s - loss: 0.2820 - accuracy: 0.8315\n",
            "Epoch 96: val_accuracy did not improve from 0.62600\n",
            "125/125 [==============================] - 1s 11ms/step - loss: 0.2831 - accuracy: 0.8305 - val_loss: 1.5021 - val_accuracy: 0.4960\n",
            "Epoch 97/100\n",
            "122/125 [============================>.] - ETA: 0s - loss: 0.2782 - accuracy: 0.8320\n",
            "Epoch 97: val_accuracy did not improve from 0.62600\n",
            "125/125 [==============================] - 1s 11ms/step - loss: 0.2792 - accuracy: 0.8313 - val_loss: 1.5169 - val_accuracy: 0.4920\n",
            "Epoch 98/100\n",
            "122/125 [============================>.] - ETA: 0s - loss: 0.2864 - accuracy: 0.8291\n",
            "Epoch 98: val_accuracy did not improve from 0.62600\n",
            "125/125 [==============================] - 1s 11ms/step - loss: 0.2857 - accuracy: 0.8292 - val_loss: 1.3354 - val_accuracy: 0.5220\n",
            "Epoch 99/100\n",
            "125/125 [==============================] - ETA: 0s - loss: 0.2846 - accuracy: 0.8240\n",
            "Epoch 99: val_accuracy did not improve from 0.62600\n",
            "125/125 [==============================] - 2s 12ms/step - loss: 0.2846 - accuracy: 0.8240 - val_loss: 1.6180 - val_accuracy: 0.4900\n",
            "Epoch 100/100\n",
            "124/125 [============================>.] - ETA: 0s - loss: 0.2847 - accuracy: 0.8218\n",
            "Epoch 100: val_accuracy did not improve from 0.62600\n",
            "125/125 [==============================] - 2s 13ms/step - loss: 0.2854 - accuracy: 0.8210 - val_loss: 1.3668 - val_accuracy: 0.6180\n"
          ]
        }
      ],
      "source": [
        "model.compile(optimizer=keras.optimizers.Adam(learning_rate=0.001),\n",
        "    loss='binary_crossentropy',\n",
        "    metrics=['accuracy'])\n",
        "\n",
        "history = model.fit(\n",
        "    train_pad_sequences,\n",
        "    np.array(train_df['enc_label']),\n",
        "    epochs=100,\n",
        "    batch_size=32,\n",
        "    validation_data=(test_pad_sequences, np.array(y_data_with_label)),\n",
        "    verbose=1,\n",
        "    callbacks=callback_list\n",
        ")\n",
        " # as here weight is not using"
      ]
    },
    {
      "cell_type": "code",
      "execution_count": 76,
      "metadata": {
        "colab": {
          "base_uri": "https://localhost:8080/"
        },
        "id": "IPlcDs0C8C1X",
        "outputId": "e2e2673d-9bab-4154-e30f-769116c7c9cd"
      },
      "outputs": [
        {
          "name": "stdout",
          "output_type": "stream",
          "text": [
            "16/16 [==============================] - 1s 8ms/step\n",
            "Classification Report for Loaded Model:\n",
            "               precision    recall  f1-score   support\n",
            "\n",
            "           0     0.7692    0.3600    0.4905       250\n",
            "           1     0.5822    0.8920    0.7046       250\n",
            "\n",
            "    accuracy                         0.6260       500\n",
            "   macro avg     0.6757    0.6260    0.5975       500\n",
            "weighted avg     0.6757    0.6260    0.5975       500\n",
            "\n"
          ]
        }
      ],
      "source": [
        "import numpy as np\n",
        "from sklearn.metrics import classification_report\n",
        "from tensorflow.keras.models import load_model\n",
        "\n",
        "# Assuming y_pred is a 2D array of predicted probabilities for each class\n",
        "# Adjust axis parameter if needed based on the shape of your y_pred array\n",
        "loaded_model = load_model(filepath)\n",
        "\n",
        "# Evaluate the model on the validation set\n",
        "y_pred = loaded_model.predict(test_pad_sequences)\n",
        "\n",
        "# Convert probabilities to binary predictions using a threshold (e.g., 0.5)\n",
        "threshold = 0.5\n",
        "y_pred_classes = (y_pred > threshold).astype(int)\n",
        "\n",
        "# Generate a classification report\n",
        "classification_report_loaded_model = classification_report(y_data_with_label, y_pred_classes, digits=4)\n",
        "print('Classification Report for Loaded Model:\\n', classification_report_loaded_model)"
      ]
    },
    {
      "cell_type": "markdown",
      "metadata": {
        "id": "JmMby0LwbYzf"
      },
      "source": [
        "## FastText CNN"
      ]
    },
    {
      "cell_type": "code",
      "execution_count": 77,
      "metadata": {
        "id": "JXFE7Ix4bYzg"
      },
      "outputs": [],
      "source": [
        "num_classes = 2            #### change class number\n",
        "\n",
        "accuracy_threshold = 0.99\n",
        "\n",
        "class myCallback(keras.callbacks.Callback):\n",
        "  def on_epoch_end(self, epoch, logs={}):\n",
        "      if(logs.get('accuracy')>accuracy_threshold):\n",
        "        print(\"\\nReached %2.2f%% accuracy so we will stop trianing\" % (accuracy_threshold*100))\n",
        "        self.model.stop_training = True\n",
        "\n",
        "acc_callback = myCallback()\n",
        "# Saved the Best Model\n",
        "filepath = \"/content/drive/MyDrive/Colab Notebooks/HOLD/\" + \"CNN_FastText.h5\"\n",
        "checkpoint = keras.callbacks.ModelCheckpoint(filepath, monitor='val_accuracy', verbose=2, save_best_only=True,\n",
        "                                             save_weights_only=False, mode='max')\n",
        "# callback list\n",
        "callback_list = [acc_callback, checkpoint]"
      ]
    },
    {
      "cell_type": "code",
      "execution_count": 78,
      "metadata": {
        "colab": {
          "base_uri": "https://localhost:8080/"
        },
        "id": "UHHTEHM9bYzh",
        "outputId": "8b7b6e10-487e-47b9-dcac-a3e1e9ced5d5"
      },
      "outputs": [
        {
          "name": "stdout",
          "output_type": "stream",
          "text": [
            "Model: \"sequential_10\"\n",
            "_________________________________________________________________\n",
            " Layer (type)                Output Shape              Param #   \n",
            "=================================================================\n",
            " embedding_11 (Embedding)    (None, 80, 300)           4545300   \n",
            "                                                                 \n",
            " conv1d_4 (Conv1D)           (None, 76, 128)           192128    \n",
            "                                                                 \n",
            " global_max_pooling1d_3 (Gl  (None, 128)               0         \n",
            " obalMaxPooling1D)                                               \n",
            "                                                                 \n",
            " dense_10 (Dense)            (None, 1)                 129       \n",
            "                                                                 \n",
            "=================================================================\n",
            "Total params: 4737557 (18.07 MB)\n",
            "Trainable params: 192257 (751.00 KB)\n",
            "Non-trainable params: 4545300 (17.34 MB)\n",
            "_________________________________________________________________\n"
          ]
        }
      ],
      "source": [
        "from tensorflow.keras.layers import Embedding, Conv1D, GlobalMaxPooling1D, Dense\n",
        "\n",
        "model = Sequential([\n",
        "    Embedding(vocab_size, 300, weights=[embedding_matrix], input_length=max_len, trainable=False),\n",
        "    Conv1D(128, 5, activation='relu'),\n",
        "    GlobalMaxPooling1D(),\n",
        "    Dense(1, activation='sigmoid')\n",
        "])\n",
        "\n",
        "model.summary()"
      ]
    },
    {
      "cell_type": "code",
      "execution_count": 79,
      "metadata": {
        "colab": {
          "base_uri": "https://localhost:8080/"
        },
        "id": "ZtXcdQeybYzj",
        "outputId": "175e3722-caef-4aee-f794-b579092606c7"
      },
      "outputs": [
        {
          "data": {
            "text/plain": [
              "array([1, 1, 1, ..., 1, 1, 1])"
            ]
          },
          "execution_count": 79,
          "metadata": {},
          "output_type": "execute_result"
        }
      ],
      "source": [
        "np.array(train_df['enc_label'])"
      ]
    },
    {
      "cell_type": "code",
      "execution_count": 80,
      "metadata": {
        "colab": {
          "base_uri": "https://localhost:8080/"
        },
        "id": "EQmpWaDubYzk",
        "outputId": "074f0502-7985-4ec2-bd45-2c2242995652"
      },
      "outputs": [
        {
          "name": "stdout",
          "output_type": "stream",
          "text": [
            "Epoch 1/100\n",
            "125/125 [==============================] - ETA: 0s - loss: 0.6603 - accuracy: 0.5972\n",
            "Epoch 1: val_accuracy improved from -inf to 0.47600, saving model to /content/drive/MyDrive/Colab Notebooks/HOLD/CNN_FastText.h5\n",
            "125/125 [==============================] - 2s 7ms/step - loss: 0.6603 - accuracy: 0.5972 - val_loss: 0.6981 - val_accuracy: 0.4760\n",
            "Epoch 2/100\n",
            "123/125 [============================>.] - ETA: 0s - loss: 0.6079 - accuracy: 0.6623\n",
            "Epoch 2: val_accuracy did not improve from 0.47600\n",
            "125/125 [==============================] - 1s 5ms/step - loss: 0.6084 - accuracy: 0.6615 - val_loss: 0.7273 - val_accuracy: 0.4640\n",
            "Epoch 3/100\n",
            "122/125 [============================>.] - ETA: 0s - loss: 0.5713 - accuracy: 0.6926\n",
            "Epoch 3: val_accuracy improved from 0.47600 to 0.47800, saving model to /content/drive/MyDrive/Colab Notebooks/HOLD/CNN_FastText.h5\n",
            "125/125 [==============================] - 1s 6ms/step - loss: 0.5706 - accuracy: 0.6950 - val_loss: 0.7233 - val_accuracy: 0.4780\n",
            "Epoch 4/100\n",
            "115/125 [==========================>...] - ETA: 0s - loss: 0.5406 - accuracy: 0.7144\n",
            "Epoch 4: val_accuracy improved from 0.47800 to 0.48400, saving model to /content/drive/MyDrive/Colab Notebooks/HOLD/CNN_FastText.h5\n",
            "125/125 [==============================] - 1s 6ms/step - loss: 0.5360 - accuracy: 0.7188 - val_loss: 0.7256 - val_accuracy: 0.4840\n",
            "Epoch 5/100\n",
            "117/125 [===========================>..] - ETA: 0s - loss: 0.5062 - accuracy: 0.7332\n",
            "Epoch 5: val_accuracy improved from 0.48400 to 0.49000, saving model to /content/drive/MyDrive/Colab Notebooks/HOLD/CNN_FastText.h5\n",
            "125/125 [==============================] - 1s 5ms/step - loss: 0.5052 - accuracy: 0.7340 - val_loss: 0.7094 - val_accuracy: 0.4900\n",
            "Epoch 6/100\n",
            "116/125 [==========================>...] - ETA: 0s - loss: 0.4801 - accuracy: 0.7516\n",
            "Epoch 6: val_accuracy did not improve from 0.49000\n",
            "125/125 [==============================] - 0s 4ms/step - loss: 0.4803 - accuracy: 0.7470 - val_loss: 0.7563 - val_accuracy: 0.4880\n",
            "Epoch 7/100\n",
            "118/125 [===========================>..] - ETA: 0s - loss: 0.4629 - accuracy: 0.7561\n",
            "Epoch 7: val_accuracy did not improve from 0.49000\n",
            "125/125 [==============================] - 0s 3ms/step - loss: 0.4626 - accuracy: 0.7570 - val_loss: 0.7781 - val_accuracy: 0.4820\n",
            "Epoch 8/100\n",
            "125/125 [==============================] - ETA: 0s - loss: 0.4414 - accuracy: 0.7703\n",
            "Epoch 8: val_accuracy did not improve from 0.49000\n",
            "125/125 [==============================] - 0s 3ms/step - loss: 0.4414 - accuracy: 0.7703 - val_loss: 0.7793 - val_accuracy: 0.4840\n",
            "Epoch 9/100\n",
            "123/125 [============================>.] - ETA: 0s - loss: 0.4207 - accuracy: 0.7810\n",
            "Epoch 9: val_accuracy did not improve from 0.49000\n",
            "125/125 [==============================] - 0s 3ms/step - loss: 0.4215 - accuracy: 0.7805 - val_loss: 0.7803 - val_accuracy: 0.4780\n",
            "Epoch 10/100\n",
            "123/125 [============================>.] - ETA: 0s - loss: 0.4066 - accuracy: 0.7886\n",
            "Epoch 10: val_accuracy did not improve from 0.49000\n",
            "125/125 [==============================] - 0s 3ms/step - loss: 0.4068 - accuracy: 0.7890 - val_loss: 0.8015 - val_accuracy: 0.4880\n",
            "Epoch 11/100\n",
            "122/125 [============================>.] - ETA: 0s - loss: 0.3957 - accuracy: 0.7956\n",
            "Epoch 11: val_accuracy did not improve from 0.49000\n",
            "125/125 [==============================] - 0s 4ms/step - loss: 0.3942 - accuracy: 0.7955 - val_loss: 0.8658 - val_accuracy: 0.4740\n",
            "Epoch 12/100\n",
            "125/125 [==============================] - ETA: 0s - loss: 0.3871 - accuracy: 0.7983\n",
            "Epoch 12: val_accuracy did not improve from 0.49000\n",
            "125/125 [==============================] - 0s 4ms/step - loss: 0.3871 - accuracy: 0.7983 - val_loss: 0.8243 - val_accuracy: 0.4860\n",
            "Epoch 13/100\n",
            "109/125 [=========================>....] - ETA: 0s - loss: 0.3769 - accuracy: 0.7976\n",
            "Epoch 13: val_accuracy improved from 0.49000 to 0.49400, saving model to /content/drive/MyDrive/Colab Notebooks/HOLD/CNN_FastText.h5\n",
            "125/125 [==============================] - 1s 4ms/step - loss: 0.3771 - accuracy: 0.7985 - val_loss: 0.8608 - val_accuracy: 0.4940\n",
            "Epoch 14/100\n",
            "109/125 [=========================>....] - ETA: 0s - loss: 0.3685 - accuracy: 0.8048\n",
            "Epoch 14: val_accuracy did not improve from 0.49400\n",
            "125/125 [==============================] - 0s 4ms/step - loss: 0.3705 - accuracy: 0.8015 - val_loss: 0.8860 - val_accuracy: 0.4820\n",
            "Epoch 15/100\n",
            "121/125 [============================>.] - ETA: 0s - loss: 0.3618 - accuracy: 0.8060\n",
            "Epoch 15: val_accuracy did not improve from 0.49400\n",
            "125/125 [==============================] - 0s 3ms/step - loss: 0.3612 - accuracy: 0.8070 - val_loss: 0.8554 - val_accuracy: 0.4880\n",
            "Epoch 16/100\n",
            "120/125 [===========================>..] - ETA: 0s - loss: 0.3557 - accuracy: 0.8081\n",
            "Epoch 16: val_accuracy did not improve from 0.49400\n",
            "125/125 [==============================] - 0s 4ms/step - loss: 0.3542 - accuracy: 0.8092 - val_loss: 0.8844 - val_accuracy: 0.4820\n",
            "Epoch 17/100\n",
            "123/125 [============================>.] - ETA: 0s - loss: 0.3495 - accuracy: 0.8115\n",
            "Epoch 17: val_accuracy did not improve from 0.49400\n",
            "125/125 [==============================] - 0s 4ms/step - loss: 0.3498 - accuracy: 0.8098 - val_loss: 0.9001 - val_accuracy: 0.4800\n",
            "Epoch 18/100\n",
            "122/125 [============================>.] - ETA: 0s - loss: 0.3468 - accuracy: 0.8120\n",
            "Epoch 18: val_accuracy improved from 0.49400 to 0.49800, saving model to /content/drive/MyDrive/Colab Notebooks/HOLD/CNN_FastText.h5\n",
            "125/125 [==============================] - 1s 4ms/step - loss: 0.3475 - accuracy: 0.8112 - val_loss: 0.8548 - val_accuracy: 0.4980\n",
            "Epoch 19/100\n",
            "124/125 [============================>.] - ETA: 0s - loss: 0.3382 - accuracy: 0.8158\n",
            "Epoch 19: val_accuracy did not improve from 0.49800\n",
            "125/125 [==============================] - 0s 4ms/step - loss: 0.3399 - accuracy: 0.8148 - val_loss: 0.9718 - val_accuracy: 0.4760\n",
            "Epoch 20/100\n",
            "121/125 [============================>.] - ETA: 0s - loss: 0.3356 - accuracy: 0.8130\n",
            "Epoch 20: val_accuracy did not improve from 0.49800\n",
            "125/125 [==============================] - 0s 4ms/step - loss: 0.3375 - accuracy: 0.8117 - val_loss: 0.8961 - val_accuracy: 0.4720\n",
            "Epoch 21/100\n",
            "108/125 [========================>.....] - ETA: 0s - loss: 0.3294 - accuracy: 0.8139\n",
            "Epoch 21: val_accuracy did not improve from 0.49800\n",
            "125/125 [==============================] - 0s 4ms/step - loss: 0.3319 - accuracy: 0.8145 - val_loss: 0.9123 - val_accuracy: 0.4780\n",
            "Epoch 22/100\n",
            "124/125 [============================>.] - ETA: 0s - loss: 0.3274 - accuracy: 0.8191\n",
            "Epoch 22: val_accuracy did not improve from 0.49800\n",
            "125/125 [==============================] - 0s 3ms/step - loss: 0.3271 - accuracy: 0.8192 - val_loss: 0.9485 - val_accuracy: 0.4780\n",
            "Epoch 23/100\n",
            "109/125 [=========================>....] - ETA: 0s - loss: 0.3260 - accuracy: 0.8179\n",
            "Epoch 23: val_accuracy did not improve from 0.49800\n",
            "125/125 [==============================] - 0s 4ms/step - loss: 0.3272 - accuracy: 0.8170 - val_loss: 0.9381 - val_accuracy: 0.4740\n",
            "Epoch 24/100\n",
            "110/125 [=========================>....] - ETA: 0s - loss: 0.3233 - accuracy: 0.8159\n",
            "Epoch 24: val_accuracy did not improve from 0.49800\n",
            "125/125 [==============================] - 0s 3ms/step - loss: 0.3247 - accuracy: 0.8165 - val_loss: 0.9280 - val_accuracy: 0.4720\n",
            "Epoch 25/100\n",
            "123/125 [============================>.] - ETA: 0s - loss: 0.3218 - accuracy: 0.8117\n",
            "Epoch 25: val_accuracy did not improve from 0.49800\n",
            "125/125 [==============================] - 0s 3ms/step - loss: 0.3212 - accuracy: 0.8123 - val_loss: 1.0018 - val_accuracy: 0.4660\n",
            "Epoch 26/100\n",
            "108/125 [========================>.....] - ETA: 0s - loss: 0.3143 - accuracy: 0.8270\n",
            "Epoch 26: val_accuracy improved from 0.49800 to 0.59800, saving model to /content/drive/MyDrive/Colab Notebooks/HOLD/CNN_FastText.h5\n",
            "125/125 [==============================] - 1s 4ms/step - loss: 0.3155 - accuracy: 0.8192 - val_loss: 0.9570 - val_accuracy: 0.5980\n",
            "Epoch 27/100\n",
            "118/125 [===========================>..] - ETA: 0s - loss: 0.3145 - accuracy: 0.8183\n",
            "Epoch 27: val_accuracy did not improve from 0.59800\n",
            "125/125 [==============================] - 1s 5ms/step - loss: 0.3148 - accuracy: 0.8177 - val_loss: 0.9734 - val_accuracy: 0.4760\n",
            "Epoch 28/100\n",
            "123/125 [============================>.] - ETA: 0s - loss: 0.3150 - accuracy: 0.8206\n",
            "Epoch 28: val_accuracy did not improve from 0.59800\n",
            "125/125 [==============================] - 1s 5ms/step - loss: 0.3139 - accuracy: 0.8217 - val_loss: 1.0839 - val_accuracy: 0.4580\n",
            "Epoch 29/100\n",
            "117/125 [===========================>..] - ETA: 0s - loss: 0.3124 - accuracy: 0.8232\n",
            "Epoch 29: val_accuracy did not improve from 0.59800\n",
            "125/125 [==============================] - 1s 5ms/step - loss: 0.3126 - accuracy: 0.8223 - val_loss: 0.9855 - val_accuracy: 0.4720\n",
            "Epoch 30/100\n",
            "112/125 [=========================>....] - ETA: 0s - loss: 0.3138 - accuracy: 0.8242\n",
            "Epoch 30: val_accuracy did not improve from 0.59800\n",
            "125/125 [==============================] - 1s 5ms/step - loss: 0.3149 - accuracy: 0.8215 - val_loss: 0.9893 - val_accuracy: 0.4740\n",
            "Epoch 31/100\n",
            "116/125 [==========================>...] - ETA: 0s - loss: 0.3086 - accuracy: 0.8244\n",
            "Epoch 31: val_accuracy did not improve from 0.59800\n",
            "125/125 [==============================] - 1s 5ms/step - loss: 0.3108 - accuracy: 0.8242 - val_loss: 1.0553 - val_accuracy: 0.4800\n",
            "Epoch 32/100\n",
            "124/125 [============================>.] - ETA: 0s - loss: 0.3120 - accuracy: 0.8231\n",
            "Epoch 32: val_accuracy did not improve from 0.59800\n",
            "125/125 [==============================] - 1s 5ms/step - loss: 0.3131 - accuracy: 0.8225 - val_loss: 1.0488 - val_accuracy: 0.4680\n",
            "Epoch 33/100\n",
            "125/125 [==============================] - ETA: 0s - loss: 0.3100 - accuracy: 0.8245\n",
            "Epoch 33: val_accuracy did not improve from 0.59800\n",
            "125/125 [==============================] - 1s 5ms/step - loss: 0.3100 - accuracy: 0.8245 - val_loss: 1.0390 - val_accuracy: 0.4820\n",
            "Epoch 34/100\n",
            "120/125 [===========================>..] - ETA: 0s - loss: 0.3081 - accuracy: 0.8276\n",
            "Epoch 34: val_accuracy did not improve from 0.59800\n",
            "125/125 [==============================] - 1s 5ms/step - loss: 0.3078 - accuracy: 0.8275 - val_loss: 0.9801 - val_accuracy: 0.4880\n",
            "Epoch 35/100\n",
            "120/125 [===========================>..] - ETA: 0s - loss: 0.3062 - accuracy: 0.8242\n",
            "Epoch 35: val_accuracy did not improve from 0.59800\n",
            "125/125 [==============================] - 0s 4ms/step - loss: 0.3042 - accuracy: 0.8260 - val_loss: 1.0201 - val_accuracy: 0.4880\n",
            "Epoch 36/100\n",
            "116/125 [==========================>...] - ETA: 0s - loss: 0.3032 - accuracy: 0.8214\n",
            "Epoch 36: val_accuracy did not improve from 0.59800\n",
            "125/125 [==============================] - 0s 4ms/step - loss: 0.3028 - accuracy: 0.8215 - val_loss: 1.1127 - val_accuracy: 0.4620\n",
            "Epoch 37/100\n",
            "123/125 [============================>.] - ETA: 0s - loss: 0.3016 - accuracy: 0.8275\n",
            "Epoch 37: val_accuracy did not improve from 0.59800\n",
            "125/125 [==============================] - 0s 3ms/step - loss: 0.3028 - accuracy: 0.8275 - val_loss: 1.0232 - val_accuracy: 0.4740\n",
            "Epoch 38/100\n",
            "121/125 [============================>.] - ETA: 0s - loss: 0.3027 - accuracy: 0.8221\n",
            "Epoch 38: val_accuracy did not improve from 0.59800\n",
            "125/125 [==============================] - 0s 3ms/step - loss: 0.3019 - accuracy: 0.8230 - val_loss: 1.1664 - val_accuracy: 0.4540\n",
            "Epoch 39/100\n",
            "108/125 [========================>.....] - ETA: 0s - loss: 0.2916 - accuracy: 0.8328\n",
            "Epoch 39: val_accuracy did not improve from 0.59800\n",
            "125/125 [==============================] - 0s 4ms/step - loss: 0.2991 - accuracy: 0.8282 - val_loss: 1.0711 - val_accuracy: 0.4840\n",
            "Epoch 40/100\n",
            "125/125 [==============================] - ETA: 0s - loss: 0.2963 - accuracy: 0.8290\n",
            "Epoch 40: val_accuracy did not improve from 0.59800\n",
            "125/125 [==============================] - 0s 3ms/step - loss: 0.2963 - accuracy: 0.8290 - val_loss: 1.0174 - val_accuracy: 0.4800\n",
            "Epoch 41/100\n",
            "114/125 [==========================>...] - ETA: 0s - loss: 0.2991 - accuracy: 0.8284\n",
            "Epoch 41: val_accuracy did not improve from 0.59800\n",
            "125/125 [==============================] - 0s 4ms/step - loss: 0.3010 - accuracy: 0.8282 - val_loss: 1.0663 - val_accuracy: 0.4740\n",
            "Epoch 42/100\n",
            "124/125 [============================>.] - ETA: 0s - loss: 0.2996 - accuracy: 0.8236\n",
            "Epoch 42: val_accuracy did not improve from 0.59800\n",
            "125/125 [==============================] - 0s 3ms/step - loss: 0.2997 - accuracy: 0.8240 - val_loss: 1.0434 - val_accuracy: 0.4780\n",
            "Epoch 43/100\n",
            "116/125 [==========================>...] - ETA: 0s - loss: 0.3050 - accuracy: 0.8257\n",
            "Epoch 43: val_accuracy did not improve from 0.59800\n",
            "125/125 [==============================] - 0s 4ms/step - loss: 0.3039 - accuracy: 0.8260 - val_loss: 1.1057 - val_accuracy: 0.4800\n",
            "Epoch 44/100\n",
            "117/125 [===========================>..] - ETA: 0s - loss: 0.2927 - accuracy: 0.8307\n",
            "Epoch 44: val_accuracy did not improve from 0.59800\n",
            "125/125 [==============================] - 0s 4ms/step - loss: 0.2970 - accuracy: 0.8292 - val_loss: 1.1997 - val_accuracy: 0.4580\n",
            "Epoch 45/100\n",
            "125/125 [==============================] - ETA: 0s - loss: 0.3014 - accuracy: 0.8267\n",
            "Epoch 45: val_accuracy did not improve from 0.59800\n",
            "125/125 [==============================] - 0s 4ms/step - loss: 0.3014 - accuracy: 0.8267 - val_loss: 1.1355 - val_accuracy: 0.4700\n",
            "Epoch 46/100\n",
            "125/125 [==============================] - ETA: 0s - loss: 0.2994 - accuracy: 0.8267\n",
            "Epoch 46: val_accuracy did not improve from 0.59800\n",
            "125/125 [==============================] - 0s 4ms/step - loss: 0.2994 - accuracy: 0.8267 - val_loss: 1.1539 - val_accuracy: 0.4640\n",
            "Epoch 47/100\n",
            "125/125 [==============================] - ETA: 0s - loss: 0.2955 - accuracy: 0.8290\n",
            "Epoch 47: val_accuracy did not improve from 0.59800\n",
            "125/125 [==============================] - 0s 3ms/step - loss: 0.2955 - accuracy: 0.8290 - val_loss: 1.0910 - val_accuracy: 0.4880\n",
            "Epoch 48/100\n",
            "111/125 [=========================>....] - ETA: 0s - loss: 0.2957 - accuracy: 0.8285\n",
            "Epoch 48: val_accuracy did not improve from 0.59800\n",
            "125/125 [==============================] - 0s 3ms/step - loss: 0.2998 - accuracy: 0.8278 - val_loss: 1.0830 - val_accuracy: 0.4740\n",
            "Epoch 49/100\n",
            "116/125 [==========================>...] - ETA: 0s - loss: 0.2966 - accuracy: 0.8289\n",
            "Epoch 49: val_accuracy did not improve from 0.59800\n",
            "125/125 [==============================] - 0s 4ms/step - loss: 0.2969 - accuracy: 0.8295 - val_loss: 1.2191 - val_accuracy: 0.4740\n",
            "Epoch 50/100\n",
            "108/125 [========================>.....] - ETA: 0s - loss: 0.2966 - accuracy: 0.8261\n",
            "Epoch 50: val_accuracy did not improve from 0.59800\n",
            "125/125 [==============================] - 0s 3ms/step - loss: 0.2951 - accuracy: 0.8282 - val_loss: 1.2494 - val_accuracy: 0.4660\n",
            "Epoch 51/100\n",
            "125/125 [==============================] - ETA: 0s - loss: 0.2911 - accuracy: 0.8313\n",
            "Epoch 51: val_accuracy did not improve from 0.59800\n",
            "125/125 [==============================] - 0s 4ms/step - loss: 0.2911 - accuracy: 0.8313 - val_loss: 1.1730 - val_accuracy: 0.4780\n",
            "Epoch 52/100\n",
            "123/125 [============================>.] - ETA: 0s - loss: 0.2934 - accuracy: 0.8285\n",
            "Epoch 52: val_accuracy did not improve from 0.59800\n",
            "125/125 [==============================] - 0s 3ms/step - loss: 0.2930 - accuracy: 0.8288 - val_loss: 1.2349 - val_accuracy: 0.4620\n",
            "Epoch 53/100\n",
            "125/125 [==============================] - ETA: 0s - loss: 0.2952 - accuracy: 0.8292\n",
            "Epoch 53: val_accuracy did not improve from 0.59800\n",
            "125/125 [==============================] - 0s 4ms/step - loss: 0.2952 - accuracy: 0.8292 - val_loss: 1.2293 - val_accuracy: 0.4620\n",
            "Epoch 54/100\n",
            "119/125 [===========================>..] - ETA: 0s - loss: 0.2935 - accuracy: 0.8277\n",
            "Epoch 54: val_accuracy did not improve from 0.59800\n",
            "125/125 [==============================] - 0s 3ms/step - loss: 0.2941 - accuracy: 0.8292 - val_loss: 1.3619 - val_accuracy: 0.4720\n",
            "Epoch 55/100\n",
            "123/125 [============================>.] - ETA: 0s - loss: 0.2938 - accuracy: 0.8288\n",
            "Epoch 55: val_accuracy did not improve from 0.59800\n",
            "125/125 [==============================] - 0s 3ms/step - loss: 0.2939 - accuracy: 0.8280 - val_loss: 1.2223 - val_accuracy: 0.4660\n",
            "Epoch 56/100\n",
            "124/125 [============================>.] - ETA: 0s - loss: 0.2917 - accuracy: 0.8319\n",
            "Epoch 56: val_accuracy did not improve from 0.59800\n",
            "125/125 [==============================] - 0s 4ms/step - loss: 0.2912 - accuracy: 0.8325 - val_loss: 1.1724 - val_accuracy: 0.4720\n",
            "Epoch 57/100\n",
            "122/125 [============================>.] - ETA: 0s - loss: 0.2927 - accuracy: 0.8317\n",
            "Epoch 57: val_accuracy did not improve from 0.59800\n",
            "125/125 [==============================] - 1s 5ms/step - loss: 0.2943 - accuracy: 0.8298 - val_loss: 1.1264 - val_accuracy: 0.4820\n",
            "Epoch 58/100\n",
            "122/125 [============================>.] - ETA: 0s - loss: 0.2896 - accuracy: 0.8307\n",
            "Epoch 58: val_accuracy did not improve from 0.59800\n",
            "125/125 [==============================] - 1s 5ms/step - loss: 0.2902 - accuracy: 0.8307 - val_loss: 1.3044 - val_accuracy: 0.4620\n",
            "Epoch 59/100\n",
            "120/125 [===========================>..] - ETA: 0s - loss: 0.2963 - accuracy: 0.8302\n",
            "Epoch 59: val_accuracy did not improve from 0.59800\n",
            "125/125 [==============================] - 1s 5ms/step - loss: 0.2975 - accuracy: 0.8278 - val_loss: 1.1593 - val_accuracy: 0.4780\n",
            "Epoch 60/100\n",
            "118/125 [===========================>..] - ETA: 0s - loss: 0.2912 - accuracy: 0.8252\n",
            "Epoch 60: val_accuracy improved from 0.59800 to 0.60200, saving model to /content/drive/MyDrive/Colab Notebooks/HOLD/CNN_FastText.h5\n",
            "125/125 [==============================] - 1s 8ms/step - loss: 0.2920 - accuracy: 0.8230 - val_loss: 1.1292 - val_accuracy: 0.6020\n",
            "Epoch 61/100\n",
            "123/125 [============================>.] - ETA: 0s - loss: 0.2914 - accuracy: 0.8310\n",
            "Epoch 61: val_accuracy did not improve from 0.60200\n",
            "125/125 [==============================] - 1s 5ms/step - loss: 0.2913 - accuracy: 0.8305 - val_loss: 1.3553 - val_accuracy: 0.4580\n",
            "Epoch 62/100\n",
            "125/125 [==============================] - ETA: 0s - loss: 0.2895 - accuracy: 0.8280\n",
            "Epoch 62: val_accuracy did not improve from 0.60200\n",
            "125/125 [==============================] - 1s 5ms/step - loss: 0.2895 - accuracy: 0.8280 - val_loss: 1.1315 - val_accuracy: 0.4840\n",
            "Epoch 63/100\n",
            "116/125 [==========================>...] - ETA: 0s - loss: 0.2942 - accuracy: 0.8295\n",
            "Epoch 63: val_accuracy did not improve from 0.60200\n",
            "125/125 [==============================] - 1s 5ms/step - loss: 0.2939 - accuracy: 0.8315 - val_loss: 1.1747 - val_accuracy: 0.4740\n",
            "Epoch 64/100\n",
            "120/125 [===========================>..] - ETA: 0s - loss: 0.2915 - accuracy: 0.8299\n",
            "Epoch 64: val_accuracy did not improve from 0.60200\n",
            "125/125 [==============================] - 0s 4ms/step - loss: 0.2903 - accuracy: 0.8305 - val_loss: 1.2302 - val_accuracy: 0.4660\n",
            "Epoch 65/100\n",
            "118/125 [===========================>..] - ETA: 0s - loss: 0.2897 - accuracy: 0.8302\n",
            "Epoch 65: val_accuracy did not improve from 0.60200\n",
            "125/125 [==============================] - 0s 4ms/step - loss: 0.2917 - accuracy: 0.8310 - val_loss: 1.3304 - val_accuracy: 0.4680\n",
            "Epoch 66/100\n",
            "122/125 [============================>.] - ETA: 0s - loss: 0.2955 - accuracy: 0.8281\n",
            "Epoch 66: val_accuracy did not improve from 0.60200\n",
            "125/125 [==============================] - 0s 4ms/step - loss: 0.2952 - accuracy: 0.8282 - val_loss: 1.1479 - val_accuracy: 0.4880\n",
            "Epoch 67/100\n",
            "120/125 [===========================>..] - ETA: 0s - loss: 0.2925 - accuracy: 0.8273\n",
            "Epoch 67: val_accuracy did not improve from 0.60200\n",
            "125/125 [==============================] - 0s 3ms/step - loss: 0.2929 - accuracy: 0.8265 - val_loss: 1.2940 - val_accuracy: 0.4620\n",
            "Epoch 68/100\n",
            "123/125 [============================>.] - ETA: 0s - loss: 0.2901 - accuracy: 0.8283\n",
            "Epoch 68: val_accuracy did not improve from 0.60200\n",
            "125/125 [==============================] - 0s 4ms/step - loss: 0.2904 - accuracy: 0.8280 - val_loss: 1.2215 - val_accuracy: 0.4740\n",
            "Epoch 69/100\n",
            "123/125 [============================>.] - ETA: 0s - loss: 0.2904 - accuracy: 0.8323\n",
            "Epoch 69: val_accuracy did not improve from 0.60200\n",
            "125/125 [==============================] - 0s 3ms/step - loss: 0.2914 - accuracy: 0.8305 - val_loss: 1.2731 - val_accuracy: 0.4780\n",
            "Epoch 70/100\n",
            "115/125 [==========================>...] - ETA: 0s - loss: 0.2853 - accuracy: 0.8291\n",
            "Epoch 70: val_accuracy did not improve from 0.60200\n",
            "125/125 [==============================] - 0s 4ms/step - loss: 0.2899 - accuracy: 0.8265 - val_loss: 1.1324 - val_accuracy: 0.4880\n",
            "Epoch 71/100\n",
            "116/125 [==========================>...] - ETA: 0s - loss: 0.2840 - accuracy: 0.8316\n",
            "Epoch 71: val_accuracy did not improve from 0.60200\n",
            "125/125 [==============================] - 0s 4ms/step - loss: 0.2872 - accuracy: 0.8307 - val_loss: 1.3710 - val_accuracy: 0.4660\n",
            "Epoch 72/100\n",
            "125/125 [==============================] - ETA: 0s - loss: 0.2885 - accuracy: 0.8313\n",
            "Epoch 72: val_accuracy did not improve from 0.60200\n",
            "125/125 [==============================] - 0s 3ms/step - loss: 0.2885 - accuracy: 0.8313 - val_loss: 1.2337 - val_accuracy: 0.4700\n",
            "Epoch 73/100\n",
            "123/125 [============================>.] - ETA: 0s - loss: 0.2842 - accuracy: 0.8328\n",
            "Epoch 73: val_accuracy did not improve from 0.60200\n",
            "125/125 [==============================] - 0s 3ms/step - loss: 0.2853 - accuracy: 0.8335 - val_loss: 1.1831 - val_accuracy: 0.4840\n",
            "Epoch 74/100\n",
            "121/125 [============================>.] - ETA: 0s - loss: 0.2857 - accuracy: 0.8264\n",
            "Epoch 74: val_accuracy did not improve from 0.60200\n",
            "125/125 [==============================] - 0s 3ms/step - loss: 0.2869 - accuracy: 0.8267 - val_loss: 1.2888 - val_accuracy: 0.4660\n",
            "Epoch 75/100\n",
            "108/125 [========================>.....] - ETA: 0s - loss: 0.2853 - accuracy: 0.8322\n",
            "Epoch 75: val_accuracy did not improve from 0.60200\n",
            "125/125 [==============================] - 0s 3ms/step - loss: 0.2896 - accuracy: 0.8320 - val_loss: 1.2387 - val_accuracy: 0.4800\n",
            "Epoch 76/100\n",
            "121/125 [============================>.] - ETA: 0s - loss: 0.2903 - accuracy: 0.8264\n",
            "Epoch 76: val_accuracy did not improve from 0.60200\n",
            "125/125 [==============================] - 0s 4ms/step - loss: 0.2910 - accuracy: 0.8267 - val_loss: 1.2987 - val_accuracy: 0.4760\n",
            "Epoch 77/100\n",
            "122/125 [============================>.] - ETA: 0s - loss: 0.2875 - accuracy: 0.8322\n",
            "Epoch 77: val_accuracy did not improve from 0.60200\n",
            "125/125 [==============================] - 0s 3ms/step - loss: 0.2887 - accuracy: 0.8313 - val_loss: 1.2798 - val_accuracy: 0.4720\n",
            "Epoch 78/100\n",
            "121/125 [============================>.] - ETA: 0s - loss: 0.2889 - accuracy: 0.8303\n",
            "Epoch 78: val_accuracy did not improve from 0.60200\n",
            "125/125 [==============================] - 0s 4ms/step - loss: 0.2877 - accuracy: 0.8305 - val_loss: 1.2517 - val_accuracy: 0.4880\n",
            "Epoch 79/100\n",
            "125/125 [==============================] - ETA: 0s - loss: 0.2870 - accuracy: 0.8310\n",
            "Epoch 79: val_accuracy did not improve from 0.60200\n",
            "125/125 [==============================] - 0s 4ms/step - loss: 0.2870 - accuracy: 0.8310 - val_loss: 1.3376 - val_accuracy: 0.4640\n",
            "Epoch 80/100\n",
            "122/125 [============================>.] - ETA: 0s - loss: 0.2844 - accuracy: 0.8330\n",
            "Epoch 80: val_accuracy did not improve from 0.60200\n",
            "125/125 [==============================] - 0s 4ms/step - loss: 0.2847 - accuracy: 0.8330 - val_loss: 1.3144 - val_accuracy: 0.4820\n",
            "Epoch 81/100\n",
            "125/125 [==============================] - ETA: 0s - loss: 0.2874 - accuracy: 0.8307\n",
            "Epoch 81: val_accuracy did not improve from 0.60200\n",
            "125/125 [==============================] - 0s 4ms/step - loss: 0.2874 - accuracy: 0.8307 - val_loss: 1.2666 - val_accuracy: 0.4800\n",
            "Epoch 82/100\n",
            "125/125 [==============================] - ETA: 0s - loss: 0.2874 - accuracy: 0.8305\n",
            "Epoch 82: val_accuracy did not improve from 0.60200\n",
            "125/125 [==============================] - 0s 3ms/step - loss: 0.2874 - accuracy: 0.8305 - val_loss: 1.3887 - val_accuracy: 0.4640\n",
            "Epoch 83/100\n",
            "121/125 [============================>.] - ETA: 0s - loss: 0.2886 - accuracy: 0.8311\n",
            "Epoch 83: val_accuracy did not improve from 0.60200\n",
            "125/125 [==============================] - 0s 3ms/step - loss: 0.2884 - accuracy: 0.8320 - val_loss: 1.2734 - val_accuracy: 0.4740\n",
            "Epoch 84/100\n",
            "108/125 [========================>.....] - ETA: 0s - loss: 0.2882 - accuracy: 0.8310\n",
            "Epoch 84: val_accuracy did not improve from 0.60200\n",
            "125/125 [==============================] - 0s 3ms/step - loss: 0.2875 - accuracy: 0.8307 - val_loss: 1.2864 - val_accuracy: 0.4580\n",
            "Epoch 85/100\n",
            "124/125 [============================>.] - ETA: 0s - loss: 0.2868 - accuracy: 0.8311\n",
            "Epoch 85: val_accuracy did not improve from 0.60200\n",
            "125/125 [==============================] - 1s 4ms/step - loss: 0.2860 - accuracy: 0.8317 - val_loss: 1.3577 - val_accuracy: 0.4640\n",
            "Epoch 86/100\n",
            "122/125 [============================>.] - ETA: 0s - loss: 0.2825 - accuracy: 0.8332\n",
            "Epoch 86: val_accuracy did not improve from 0.60200\n",
            "125/125 [==============================] - 1s 5ms/step - loss: 0.2821 - accuracy: 0.8338 - val_loss: 1.4151 - val_accuracy: 0.4700\n",
            "Epoch 87/100\n",
            "120/125 [===========================>..] - ETA: 0s - loss: 0.2865 - accuracy: 0.8320\n",
            "Epoch 87: val_accuracy did not improve from 0.60200\n",
            "125/125 [==============================] - 1s 5ms/step - loss: 0.2888 - accuracy: 0.8298 - val_loss: 1.4235 - val_accuracy: 0.4560\n",
            "Epoch 88/100\n",
            "125/125 [==============================] - ETA: 0s - loss: 0.2886 - accuracy: 0.8332\n",
            "Epoch 88: val_accuracy did not improve from 0.60200\n",
            "125/125 [==============================] - 1s 6ms/step - loss: 0.2886 - accuracy: 0.8332 - val_loss: 1.3763 - val_accuracy: 0.4640\n",
            "Epoch 89/100\n",
            "120/125 [===========================>..] - ETA: 0s - loss: 0.2871 - accuracy: 0.8310\n",
            "Epoch 89: val_accuracy did not improve from 0.60200\n",
            "125/125 [==============================] - 1s 10ms/step - loss: 0.2861 - accuracy: 0.8315 - val_loss: 1.2822 - val_accuracy: 0.4760\n",
            "Epoch 90/100\n",
            "124/125 [============================>.] - ETA: 0s - loss: 0.2895 - accuracy: 0.8317\n",
            "Epoch 90: val_accuracy did not improve from 0.60200\n",
            "125/125 [==============================] - 1s 11ms/step - loss: 0.2887 - accuracy: 0.8322 - val_loss: 1.3550 - val_accuracy: 0.4700\n",
            "Epoch 91/100\n",
            "121/125 [============================>.] - ETA: 0s - loss: 0.2831 - accuracy: 0.8321\n",
            "Epoch 91: val_accuracy did not improve from 0.60200\n",
            "125/125 [==============================] - 1s 10ms/step - loss: 0.2827 - accuracy: 0.8315 - val_loss: 1.4002 - val_accuracy: 0.4660\n",
            "Epoch 92/100\n",
            "122/125 [============================>.] - ETA: 0s - loss: 0.2852 - accuracy: 0.8312\n",
            "Epoch 92: val_accuracy did not improve from 0.60200\n",
            "125/125 [==============================] - 1s 7ms/step - loss: 0.2850 - accuracy: 0.8317 - val_loss: 1.3080 - val_accuracy: 0.4740\n",
            "Epoch 93/100\n",
            "125/125 [==============================] - ETA: 0s - loss: 0.2864 - accuracy: 0.8307\n",
            "Epoch 93: val_accuracy did not improve from 0.60200\n",
            "125/125 [==============================] - 1s 7ms/step - loss: 0.2864 - accuracy: 0.8307 - val_loss: 1.3115 - val_accuracy: 0.4720\n",
            "Epoch 94/100\n",
            "121/125 [============================>.] - ETA: 0s - loss: 0.2872 - accuracy: 0.8285\n",
            "Epoch 94: val_accuracy did not improve from 0.60200\n",
            "125/125 [==============================] - 1s 6ms/step - loss: 0.2872 - accuracy: 0.8300 - val_loss: 1.3412 - val_accuracy: 0.4780\n",
            "Epoch 95/100\n",
            "118/125 [===========================>..] - ETA: 0s - loss: 0.2869 - accuracy: 0.8313\n",
            "Epoch 95: val_accuracy did not improve from 0.60200\n",
            "125/125 [==============================] - 1s 7ms/step - loss: 0.2864 - accuracy: 0.8315 - val_loss: 1.3278 - val_accuracy: 0.4620\n",
            "Epoch 96/100\n",
            "120/125 [===========================>..] - ETA: 0s - loss: 0.2904 - accuracy: 0.8307\n",
            "Epoch 96: val_accuracy did not improve from 0.60200\n",
            "125/125 [==============================] - 1s 7ms/step - loss: 0.2895 - accuracy: 0.8310 - val_loss: 1.2931 - val_accuracy: 0.4640\n",
            "Epoch 97/100\n",
            "120/125 [===========================>..] - ETA: 0s - loss: 0.2804 - accuracy: 0.8349\n",
            "Epoch 97: val_accuracy did not improve from 0.60200\n",
            "125/125 [==============================] - 1s 7ms/step - loss: 0.2818 - accuracy: 0.8338 - val_loss: 1.4711 - val_accuracy: 0.4620\n",
            "Epoch 98/100\n",
            "122/125 [============================>.] - ETA: 0s - loss: 0.2837 - accuracy: 0.8340\n",
            "Epoch 98: val_accuracy did not improve from 0.60200\n",
            "125/125 [==============================] - 1s 7ms/step - loss: 0.2831 - accuracy: 0.8340 - val_loss: 1.3137 - val_accuracy: 0.4720\n",
            "Epoch 99/100\n",
            "124/125 [============================>.] - ETA: 0s - loss: 0.2839 - accuracy: 0.8317\n",
            "Epoch 99: val_accuracy did not improve from 0.60200\n",
            "125/125 [==============================] - 1s 6ms/step - loss: 0.2833 - accuracy: 0.8322 - val_loss: 1.2881 - val_accuracy: 0.4760\n",
            "Epoch 100/100\n",
            "124/125 [============================>.] - ETA: 0s - loss: 0.2824 - accuracy: 0.8324\n",
            "Epoch 100: val_accuracy did not improve from 0.60200\n",
            "125/125 [==============================] - 1s 6ms/step - loss: 0.2829 - accuracy: 0.8320 - val_loss: 1.4314 - val_accuracy: 0.4620\n"
          ]
        }
      ],
      "source": [
        "model.compile(optimizer=keras.optimizers.Adam(learning_rate=0.001),\n",
        "    loss='binary_crossentropy',\n",
        "    metrics=['accuracy'])\n",
        "\n",
        "history = model.fit(\n",
        "    train_pad_sequences,\n",
        "    np.array(train_df['enc_label']),\n",
        "    epochs=100,\n",
        "    batch_size=32,\n",
        "    validation_data=(test_pad_sequences, np.array(y_data_with_label)),\n",
        "    verbose=1,\n",
        "    callbacks=callback_list\n",
        ")\n",
        " # as here weight is not using"
      ]
    },
    {
      "cell_type": "code",
      "execution_count": 81,
      "metadata": {
        "colab": {
          "base_uri": "https://localhost:8080/"
        },
        "id": "l6bT1ksTbYzm",
        "outputId": "1c66ca1d-0556-4401-c4a7-93c3ecb79b63"
      },
      "outputs": [
        {
          "name": "stdout",
          "output_type": "stream",
          "text": [
            "16/16 [==============================] - 0s 2ms/step\n",
            "Classification Report for Loaded Model:\n",
            "               precision    recall  f1-score   support\n",
            "\n",
            "           0     0.7179    0.3360    0.4578       250\n",
            "           1     0.5666    0.8680    0.6856       250\n",
            "\n",
            "    accuracy                         0.6020       500\n",
            "   macro avg     0.6423    0.6020    0.5717       500\n",
            "weighted avg     0.6423    0.6020    0.5717       500\n",
            "\n"
          ]
        }
      ],
      "source": [
        "import numpy as np\n",
        "from sklearn.metrics import classification_report\n",
        "from tensorflow.keras.models import load_model\n",
        "\n",
        "# Assuming y_pred is a 2D array of predicted probabilities for each class\n",
        "# Adjust axis parameter if needed based on the shape of your y_pred array\n",
        "loaded_model = load_model(filepath)\n",
        "\n",
        "# Evaluate the model on the validation set\n",
        "y_pred = loaded_model.predict(test_pad_sequences)\n",
        "\n",
        "# Convert probabilities to binary predictions using a threshold (e.g., 0.5)\n",
        "threshold = 0.5\n",
        "y_pred_classes = (y_pred > threshold).astype(int)\n",
        "\n",
        "# Generate a classification report\n",
        "classification_report_loaded_model = classification_report(y_data_with_label, y_pred_classes, digits=4)\n",
        "print('Classification Report for Loaded Model:\\n', classification_report_loaded_model)\n"
      ]
    },
    {
      "cell_type": "markdown",
      "metadata": {
        "id": "sd-CAe8Ibyxb"
      },
      "source": [
        "# ktrain\n"
      ]
    },
    {
      "cell_type": "code",
      "execution_count": 82,
      "metadata": {
        "colab": {
          "base_uri": "https://localhost:8080/"
        },
        "execution": {
          "iopub.execute_input": "2023-12-11T01:19:42.364489Z",
          "iopub.status.busy": "2023-12-11T01:19:42.363789Z",
          "iopub.status.idle": "2023-12-11T01:20:27.074371Z",
          "shell.execute_reply": "2023-12-11T01:20:27.073133Z",
          "shell.execute_reply.started": "2023-12-11T01:19:42.364444Z"
        },
        "id": "caZBKu7Rb88A",
        "outputId": "b280d028-47e6-4dec-bd85-b2b49a6d698b",
        "trusted": true
      },
      "outputs": [
        {
          "name": "stdout",
          "output_type": "stream",
          "text": [
            "Collecting ktrain\n",
            "  Downloading ktrain-0.39.0.tar.gz (25.3 MB)\n",
            "\u001b[2K     \u001b[90m━━━━━━━━━━━━━━━━━━━━━━━━━━━━━━━━━━━━━━━━\u001b[0m \u001b[32m25.3/25.3 MB\u001b[0m \u001b[31m28.9 MB/s\u001b[0m eta \u001b[36m0:00:00\u001b[0m\n",
            "\u001b[?25h  Preparing metadata (setup.py) ... \u001b[?25l\u001b[?25hdone\n",
            "Requirement already satisfied: scikit-learn in /usr/local/lib/python3.10/dist-packages (from ktrain) (1.2.2)\n",
            "Requirement already satisfied: matplotlib>=3.0.0 in /usr/local/lib/python3.10/dist-packages (from ktrain) (3.7.1)\n",
            "Requirement already satisfied: pandas>=1.0.1 in /usr/local/lib/python3.10/dist-packages (from ktrain) (1.5.3)\n",
            "Requirement already satisfied: fastprogress>=0.1.21 in /usr/local/lib/python3.10/dist-packages (from ktrain) (1.0.3)\n",
            "Requirement already satisfied: requests in /usr/local/lib/python3.10/dist-packages (from ktrain) (2.31.0)\n",
            "Requirement already satisfied: joblib in /usr/local/lib/python3.10/dist-packages (from ktrain) (1.3.2)\n",
            "Requirement already satisfied: packaging in /usr/local/lib/python3.10/dist-packages (from ktrain) (23.2)\n",
            "Collecting langdetect (from ktrain)\n",
            "  Downloading langdetect-1.0.9.tar.gz (981 kB)\n",
            "\u001b[2K     \u001b[90m━━━━━━━━━━━━━━━━━━━━━━━━━━━━━━━━━━━━━━━━\u001b[0m \u001b[32m981.5/981.5 kB\u001b[0m \u001b[31m53.7 MB/s\u001b[0m eta \u001b[36m0:00:00\u001b[0m\n",
            "\u001b[?25h  Preparing metadata (setup.py) ... \u001b[?25l\u001b[?25hdone\n",
            "Requirement already satisfied: jieba in /usr/local/lib/python3.10/dist-packages (from ktrain) (0.42.1)\n",
            "Requirement already satisfied: charset-normalizer in /usr/local/lib/python3.10/dist-packages (from ktrain) (3.3.2)\n",
            "Requirement already satisfied: chardet in /usr/local/lib/python3.10/dist-packages (from ktrain) (5.2.0)\n",
            "Collecting syntok>1.3.3 (from ktrain)\n",
            "  Downloading syntok-1.4.4-py3-none-any.whl (24 kB)\n",
            "Collecting tika (from ktrain)\n",
            "  Downloading tika-2.6.0.tar.gz (27 kB)\n",
            "  Preparing metadata (setup.py) ... \u001b[?25l\u001b[?25hdone\n",
            "Requirement already satisfied: transformers>=4.17.0 in /usr/local/lib/python3.10/dist-packages (from ktrain) (4.35.2)\n",
            "Collecting sentencepiece (from ktrain)\n",
            "  Downloading sentencepiece-0.1.99-cp310-cp310-manylinux_2_17_x86_64.manylinux2014_x86_64.whl (1.3 MB)\n",
            "\u001b[2K     \u001b[90m━━━━━━━━━━━━━━━━━━━━━━━━━━━━━━━━━━━━━━━━\u001b[0m \u001b[32m1.3/1.3 MB\u001b[0m \u001b[31m62.3 MB/s\u001b[0m eta \u001b[36m0:00:00\u001b[0m\n",
            "\u001b[?25hCollecting keras_bert>=0.86.0 (from ktrain)\n",
            "  Downloading keras-bert-0.89.0.tar.gz (25 kB)\n",
            "  Preparing metadata (setup.py) ... \u001b[?25l\u001b[?25hdone\n",
            "Collecting whoosh (from ktrain)\n",
            "  Downloading Whoosh-2.7.4-py2.py3-none-any.whl (468 kB)\n",
            "\u001b[2K     \u001b[90m━━━━━━━━━━━━━━━━━━━━━━━━━━━━━━━━━━━━━━━━\u001b[0m \u001b[32m468.8/468.8 kB\u001b[0m \u001b[31m46.4 MB/s\u001b[0m eta \u001b[36m0:00:00\u001b[0m\n",
            "\u001b[?25hRequirement already satisfied: numpy in /usr/local/lib/python3.10/dist-packages (from keras_bert>=0.86.0->ktrain) (1.23.5)\n",
            "Collecting keras-transformer==0.40.0 (from keras_bert>=0.86.0->ktrain)\n",
            "  Downloading keras-transformer-0.40.0.tar.gz (9.7 kB)\n",
            "  Preparing metadata (setup.py) ... \u001b[?25l\u001b[?25hdone\n",
            "Collecting keras-pos-embd==0.13.0 (from keras-transformer==0.40.0->keras_bert>=0.86.0->ktrain)\n",
            "  Downloading keras-pos-embd-0.13.0.tar.gz (5.6 kB)\n",
            "  Preparing metadata (setup.py) ... \u001b[?25l\u001b[?25hdone\n",
            "Collecting keras-multi-head==0.29.0 (from keras-transformer==0.40.0->keras_bert>=0.86.0->ktrain)\n",
            "  Downloading keras-multi-head-0.29.0.tar.gz (13 kB)\n",
            "  Preparing metadata (setup.py) ... \u001b[?25l\u001b[?25hdone\n",
            "Collecting keras-layer-normalization==0.16.0 (from keras-transformer==0.40.0->keras_bert>=0.86.0->ktrain)\n",
            "  Downloading keras-layer-normalization-0.16.0.tar.gz (3.9 kB)\n",
            "  Preparing metadata (setup.py) ... \u001b[?25l\u001b[?25hdone\n",
            "Collecting keras-position-wise-feed-forward==0.8.0 (from keras-transformer==0.40.0->keras_bert>=0.86.0->ktrain)\n",
            "  Downloading keras-position-wise-feed-forward-0.8.0.tar.gz (4.1 kB)\n",
            "  Preparing metadata (setup.py) ... \u001b[?25l\u001b[?25hdone\n",
            "Collecting keras-embed-sim==0.10.0 (from keras-transformer==0.40.0->keras_bert>=0.86.0->ktrain)\n",
            "  Downloading keras-embed-sim-0.10.0.tar.gz (3.6 kB)\n",
            "  Preparing metadata (setup.py) ... \u001b[?25l\u001b[?25hdone\n",
            "Collecting keras-self-attention==0.51.0 (from keras-multi-head==0.29.0->keras-transformer==0.40.0->keras_bert>=0.86.0->ktrain)\n",
            "  Downloading keras-self-attention-0.51.0.tar.gz (11 kB)\n",
            "  Preparing metadata (setup.py) ... \u001b[?25l\u001b[?25hdone\n",
            "Requirement already satisfied: contourpy>=1.0.1 in /usr/local/lib/python3.10/dist-packages (from matplotlib>=3.0.0->ktrain) (1.2.0)\n",
            "Requirement already satisfied: cycler>=0.10 in /usr/local/lib/python3.10/dist-packages (from matplotlib>=3.0.0->ktrain) (0.12.1)\n",
            "Requirement already satisfied: fonttools>=4.22.0 in /usr/local/lib/python3.10/dist-packages (from matplotlib>=3.0.0->ktrain) (4.47.2)\n",
            "Requirement already satisfied: kiwisolver>=1.0.1 in /usr/local/lib/python3.10/dist-packages (from matplotlib>=3.0.0->ktrain) (1.4.5)\n",
            "Requirement already satisfied: pillow>=6.2.0 in /usr/local/lib/python3.10/dist-packages (from matplotlib>=3.0.0->ktrain) (9.4.0)\n",
            "Requirement already satisfied: pyparsing>=2.3.1 in /usr/local/lib/python3.10/dist-packages (from matplotlib>=3.0.0->ktrain) (3.1.1)\n",
            "Requirement already satisfied: python-dateutil>=2.7 in /usr/local/lib/python3.10/dist-packages (from matplotlib>=3.0.0->ktrain) (2.8.2)\n",
            "Requirement already satisfied: pytz>=2020.1 in /usr/local/lib/python3.10/dist-packages (from pandas>=1.0.1->ktrain) (2023.3.post1)\n",
            "Requirement already satisfied: regex>2016 in /usr/local/lib/python3.10/dist-packages (from syntok>1.3.3->ktrain) (2023.6.3)\n",
            "Requirement already satisfied: filelock in /usr/local/lib/python3.10/dist-packages (from transformers>=4.17.0->ktrain) (3.13.1)\n",
            "Requirement already satisfied: huggingface-hub<1.0,>=0.16.4 in /usr/local/lib/python3.10/dist-packages (from transformers>=4.17.0->ktrain) (0.20.2)\n",
            "Requirement already satisfied: pyyaml>=5.1 in /usr/local/lib/python3.10/dist-packages (from transformers>=4.17.0->ktrain) (6.0.1)\n",
            "Requirement already satisfied: tokenizers<0.19,>=0.14 in /usr/local/lib/python3.10/dist-packages (from transformers>=4.17.0->ktrain) (0.15.0)\n",
            "Requirement already satisfied: safetensors>=0.3.1 in /usr/local/lib/python3.10/dist-packages (from transformers>=4.17.0->ktrain) (0.4.1)\n",
            "Requirement already satisfied: tqdm>=4.27 in /usr/local/lib/python3.10/dist-packages (from transformers>=4.17.0->ktrain) (4.66.1)\n",
            "Requirement already satisfied: six in /usr/local/lib/python3.10/dist-packages (from langdetect->ktrain) (1.16.0)\n",
            "Requirement already satisfied: idna<4,>=2.5 in /usr/local/lib/python3.10/dist-packages (from requests->ktrain) (3.6)\n",
            "Requirement already satisfied: urllib3<3,>=1.21.1 in /usr/local/lib/python3.10/dist-packages (from requests->ktrain) (2.0.7)\n",
            "Requirement already satisfied: certifi>=2017.4.17 in /usr/local/lib/python3.10/dist-packages (from requests->ktrain) (2023.11.17)\n",
            "Requirement already satisfied: scipy>=1.3.2 in /usr/local/lib/python3.10/dist-packages (from scikit-learn->ktrain) (1.11.4)\n",
            "Requirement already satisfied: threadpoolctl>=2.0.0 in /usr/local/lib/python3.10/dist-packages (from scikit-learn->ktrain) (3.2.0)\n",
            "Requirement already satisfied: setuptools in /usr/local/lib/python3.10/dist-packages (from tika->ktrain) (67.7.2)\n",
            "Requirement already satisfied: fsspec>=2023.5.0 in /usr/local/lib/python3.10/dist-packages (from huggingface-hub<1.0,>=0.16.4->transformers>=4.17.0->ktrain) (2023.6.0)\n",
            "Requirement already satisfied: typing-extensions>=3.7.4.3 in /usr/local/lib/python3.10/dist-packages (from huggingface-hub<1.0,>=0.16.4->transformers>=4.17.0->ktrain) (4.5.0)\n",
            "Building wheels for collected packages: ktrain, keras_bert, keras-transformer, keras-embed-sim, keras-layer-normalization, keras-multi-head, keras-pos-embd, keras-position-wise-feed-forward, keras-self-attention, langdetect, tika\n",
            "  Building wheel for ktrain (setup.py) ... \u001b[?25l\u001b[?25hdone\n",
            "  Created wheel for ktrain: filename=ktrain-0.39.0-py3-none-any.whl size=25319737 sha256=91de8e2cb2c450ad669217e9c8a75570181fd95f7670add132f025223a15c467\n",
            "  Stored in directory: /root/.cache/pip/wheels/98/fd/0a/ef6252223f3d2c49b06d18e71c74caa43bbf4c64a8c183a46e\n",
            "  Building wheel for keras_bert (setup.py) ... \u001b[?25l\u001b[?25hdone\n",
            "  Created wheel for keras_bert: filename=keras_bert-0.89.0-py3-none-any.whl size=33499 sha256=12efea4bf9268af7cb6533e9496cce4bac4038fb66f444c9984bdabfe4d35473\n",
            "  Stored in directory: /root/.cache/pip/wheels/89/0c/04/646b6fdf6375911b42c8d540a8a3fda8d5d77634e5dcbe7b26\n",
            "  Building wheel for keras-transformer (setup.py) ... \u001b[?25l\u001b[?25hdone\n",
            "  Created wheel for keras-transformer: filename=keras_transformer-0.40.0-py3-none-any.whl size=12286 sha256=f2625d200afca81b8c5daabe8f024e78f1975336e0076e1109debf4338595616\n",
            "  Stored in directory: /root/.cache/pip/wheels/f2/cb/22/75a0ad376129177f7c95c0d91331a18f5368fd657f4035ba7c\n",
            "  Building wheel for keras-embed-sim (setup.py) ... \u001b[?25l\u001b[?25hdone\n",
            "  Created wheel for keras-embed-sim: filename=keras_embed_sim-0.10.0-py3-none-any.whl size=3943 sha256=9d33a1785d9cba57412a16c9aa4654a131a622e7add2f2fbc00ee308d90b8964\n",
            "  Stored in directory: /root/.cache/pip/wheels/82/32/c7/fd35d0d1b840a6c7cbd4343f808d10d0f7b87d271a4dbe796f\n",
            "  Building wheel for keras-layer-normalization (setup.py) ... \u001b[?25l\u001b[?25hdone\n",
            "  Created wheel for keras-layer-normalization: filename=keras_layer_normalization-0.16.0-py3-none-any.whl size=4653 sha256=43604f31b263438cbd7ee1a5807c885d9013de30657025a89755ef1bf2b23ff1\n",
            "  Stored in directory: /root/.cache/pip/wheels/ed/3a/4b/21db23c0cc56c4b219616e181f258eb7c57d36cc5d056fae9a\n",
            "  Building wheel for keras-multi-head (setup.py) ... \u001b[?25l\u001b[?25hdone\n",
            "  Created wheel for keras-multi-head: filename=keras_multi_head-0.29.0-py3-none-any.whl size=14975 sha256=5b42bf75e06109d3de8e4688f325c61f407dee18ed63db8544f0b3f2145b9b9a\n",
            "  Stored in directory: /root/.cache/pip/wheels/cb/23/4b/06d7ae21714f70fcc25b48f972cc8e5e7f4b6b764a038b509d\n",
            "  Building wheel for keras-pos-embd (setup.py) ... \u001b[?25l\u001b[?25hdone\n",
            "  Created wheel for keras-pos-embd: filename=keras_pos_embd-0.13.0-py3-none-any.whl size=6946 sha256=fc4e30b2b6d2fbeb0f01f7d0cb4718a628f065903193352e9a3da372232227c8\n",
            "  Stored in directory: /root/.cache/pip/wheels/78/07/1b/b1ca47b6ac338554b75c8f52c54e6a2bfbe1b07d79579979a4\n",
            "  Building wheel for keras-position-wise-feed-forward (setup.py) ... \u001b[?25l\u001b[?25hdone\n",
            "  Created wheel for keras-position-wise-feed-forward: filename=keras_position_wise_feed_forward-0.8.0-py3-none-any.whl size=4968 sha256=29ab1655ab98657399a9f5e5a73d94877a5337d3cfcb59c11f2c538c90b4e967\n",
            "  Stored in directory: /root/.cache/pip/wheels/c1/6a/04/d1706a53b23b2cb5f9a0a76269bf87925daa1bca09eac01b21\n",
            "  Building wheel for keras-self-attention (setup.py) ... \u001b[?25l\u001b[?25hdone\n",
            "  Created wheel for keras-self-attention: filename=keras_self_attention-0.51.0-py3-none-any.whl size=18895 sha256=ca75f78f68b28c0cf0e27f3709fa7943207d7a808975be282aae315ce1b0c2e0\n",
            "  Stored in directory: /root/.cache/pip/wheels/b8/f7/24/607b483144fb9c47b4ba2c5fba6b68e54aeee2d5bf6c05302e\n",
            "  Building wheel for langdetect (setup.py) ... \u001b[?25l\u001b[?25hdone\n",
            "  Created wheel for langdetect: filename=langdetect-1.0.9-py3-none-any.whl size=993225 sha256=65a47746b6a52e50f8dfb4226eeb66960cb37ec736609650baf69f0851de5299\n",
            "  Stored in directory: /root/.cache/pip/wheels/95/03/7d/59ea870c70ce4e5a370638b5462a7711ab78fba2f655d05106\n",
            "  Building wheel for tika (setup.py) ... \u001b[?25l\u001b[?25hdone\n",
            "  Created wheel for tika: filename=tika-2.6.0-py3-none-any.whl size=32622 sha256=ac163863fbff7683c3ebffa6dc976c1c1711ff1b07a761deb38c9fda9a1b301d\n",
            "  Stored in directory: /root/.cache/pip/wheels/5f/71/c7/b757709531121b1700cffda5b6b0d4aad095fb507ec84316d0\n",
            "Successfully built ktrain keras_bert keras-transformer keras-embed-sim keras-layer-normalization keras-multi-head keras-pos-embd keras-position-wise-feed-forward keras-self-attention langdetect tika\n",
            "Installing collected packages: whoosh, sentencepiece, syntok, langdetect, keras-self-attention, keras-position-wise-feed-forward, keras-pos-embd, keras-layer-normalization, keras-embed-sim, tika, keras-multi-head, keras-transformer, keras_bert, ktrain\n",
            "Successfully installed keras-embed-sim-0.10.0 keras-layer-normalization-0.16.0 keras-multi-head-0.29.0 keras-pos-embd-0.13.0 keras-position-wise-feed-forward-0.8.0 keras-self-attention-0.51.0 keras-transformer-0.40.0 keras_bert-0.89.0 ktrain-0.39.0 langdetect-1.0.9 sentencepiece-0.1.99 syntok-1.4.4 tika-2.6.0 whoosh-2.7.4\n"
          ]
        }
      ],
      "source": [
        "!pip install ktrain"
      ]
    },
    {
      "cell_type": "code",
      "execution_count": 83,
      "metadata": {
        "execution": {
          "iopub.execute_input": "2023-12-11T01:20:27.076720Z",
          "iopub.status.busy": "2023-12-11T01:20:27.076420Z",
          "iopub.status.idle": "2023-12-11T01:20:27.210358Z",
          "shell.execute_reply": "2023-12-11T01:20:27.209522Z",
          "shell.execute_reply.started": "2023-12-11T01:20:27.076693Z"
        },
        "id": "aEdORDT8b5OC",
        "trusted": true
      },
      "outputs": [],
      "source": [
        "%reload_ext autoreload\n",
        "%autoreload 2\n",
        "%matplotlib inline\n",
        "import os\n",
        "os.environ[\"CUDA_DEVICE_ORDER\"] = \"PCI_BUS_ID\"\n",
        "os.environ[\"CUDA_VISIBLE_DEVICES\"] = \"0\""
      ]
    },
    {
      "cell_type": "code",
      "execution_count": 84,
      "metadata": {
        "execution": {
          "iopub.execute_input": "2023-12-11T01:20:27.211857Z",
          "iopub.status.busy": "2023-12-11T01:20:27.211572Z",
          "iopub.status.idle": "2023-12-11T01:20:28.090865Z",
          "shell.execute_reply": "2023-12-11T01:20:28.089822Z",
          "shell.execute_reply.started": "2023-12-11T01:20:27.211832Z"
        },
        "id": "KWkkVcSYciz0",
        "trusted": true
      },
      "outputs": [],
      "source": [
        "import ktrain\n",
        "from ktrain import text"
      ]
    },
    {
      "cell_type": "code",
      "execution_count": 85,
      "metadata": {
        "execution": {
          "iopub.execute_input": "2023-12-11T01:20:28.093244Z",
          "iopub.status.busy": "2023-12-11T01:20:28.092918Z",
          "iopub.status.idle": "2023-12-11T01:20:28.196861Z",
          "shell.execute_reply": "2023-12-11T01:20:28.195877Z",
          "shell.execute_reply.started": "2023-12-11T01:20:28.093189Z"
        },
        "id": "UE_nECS8cNcb",
        "trusted": true
      },
      "outputs": [],
      "source": [
        "categories=['hate','non-hate']"
      ]
    },
    {
      "cell_type": "markdown",
      "metadata": {
        "id": "9fS0VyeZgagd"
      },
      "source": [
        "# Ktrain indic-SBERT"
      ]
    },
    {
      "cell_type": "code",
      "execution_count": null,
      "metadata": {
        "colab": {
          "base_uri": "https://localhost:8080/",
          "height": 81,
          "referenced_widgets": [
            "938517513c8c4e14b52c511f2a0612f3",
            "c688388d68a64f5e8144501168fa5187",
            "de2d126ecc2d4e0caede5ebbc72c4254",
            "2f1865d8de7d43388354ba71ca33ad14",
            "dd49ee5fc8ce402dad966a479349b56c",
            "4f421b33540847b680e0dd9816bd6214",
            "43447fdffb9045589b6848258e223168",
            "7030c955a87b499588498b197e72b5c8",
            "bc7a0c38b0264913bb1ceb376da22634",
            "12c0e33d3f7e458b85a92b92216bf2fe",
            "97319b171b754917b74a51a9a17d2367",
            "116ec33856f943838db735673a397cee",
            "56e8dc1790ea4de0baff2c3f206509b3",
            "eef1cb08bb634727b4179456d60f2492",
            "dd7cc3c53b5b4acf8ff7fb5fd8b4eca8",
            "6815b916de45414a9ccaf9ae8cddcac8",
            "ad6e8f1f119a4ceea9ddbc059f5d1f1b",
            "b8cef74c448a4cb6be9e7d963e571c8c",
            "4fed0e6097964903ba615f73ff21b908",
            "5dd74002727649f2a511b5e9b6a68de3",
            "c680e69a02484c05b5ea6ae7ac7e7b86",
            "cd388af043634bdd9bbae8490d6a3e6a",
            "e418fc3c035c4d249b576a97cd90d2ce",
            "6f8191816bf7405795f646abd288d67b"
          ]
        },
        "execution": {
          "iopub.execute_input": "2023-12-10T09:35:43.281500Z",
          "iopub.status.busy": "2023-12-10T09:35:43.280843Z",
          "iopub.status.idle": "2023-12-10T09:36:18.428041Z",
          "shell.execute_reply": "2023-12-10T09:36:18.427244Z",
          "shell.execute_reply.started": "2023-12-10T09:35:43.281465Z"
        },
        "id": "jAI0Dud2cQ0S",
        "outputId": "359f5922-ae77-440d-8590-cec31aa37dbe",
        "trusted": true
      },
      "outputs": [
        {
          "data": {
            "application/vnd.jupyter.widget-view+json": {
              "model_id": "e418fc3c035c4d249b576a97cd90d2ce",
              "version_major": 2,
              "version_minor": 0
            },
            "text/plain": [
              "Downloading config.json:   0%|          | 0.00/676 [00:00<?, ?B/s]"
            ]
          },
          "metadata": {},
          "output_type": "display_data"
        },
        {
          "data": {
            "application/vnd.jupyter.widget-view+json": {
              "model_id": "6f8191816bf7405795f646abd288d67b",
              "version_major": 2,
              "version_minor": 0
            },
            "text/plain": [
              "Downloading pytorch_model.bin:   0%|          | 0.00/950M [00:00<?, ?B/s]"
            ]
          },
          "metadata": {},
          "output_type": "display_data"
        }
      ],
      "source": [
        "model_name = \"l3cube-pune/indic-sentence-similarity-sbert\"\n",
        "trans = text.Transformer(model_name,maxlen=100,class_names=categories)    #try with mxlen=100"
      ]
    },
    {
      "cell_type": "code",
      "execution_count": null,
      "metadata": {
        "colab": {
          "base_uri": "https://localhost:8080/",
          "height": 475,
          "referenced_widgets": [
            "d9accd8a952343999af2a2a86abfff8f",
            "69032b54ce3148f0a66b3f11b83609bf",
            "5fbad6a4354742e5aacd2c09b2fb5b55",
            "be90e1c80a6744d38957f90c6e7573e2",
            "a18bea97121d4b1094032979e7590934",
            "c6ce057e2fe746d0abac55bce48cad31",
            "d5a36bb5742c449ea0dfc0ca454fd201",
            "11a826b8951a439b9647e5fb3a18ee92",
            "3770457988554617932e39a50baccbb0",
            "a357f0cd7d164fb9a4b465731979d5d2",
            "d829bbcbeb6f45bcb721e3bb737bab2a",
            "8cf56fc9bc854403a78d599c92656b33",
            "b50e98b24dc04c0fb659e798550c1394",
            "2e9e3c2b61f64e699189fbb2bf14227d",
            "594598c1b6434e93bd349d8fa983265e",
            "c5a0410ddc8a4e899b21613f4d0a0fd8",
            "55ccdafe9c3e4a56ba2376e5fc4a9bc0",
            "0478335ae8a24f9f98584bae10c1c71f",
            "f9348ffcc0f0442093898ff02d8db534",
            "ac806f30bffc4544a23eee41d65dc024",
            "96c409a1135d45e49a4bff6566adc8ed",
            "4320ece9bf6b4c1ca74de04ccc1fd051",
            "925380a76fec43b2a589aceeaf0da6ed",
            "824f74239e53489aa6508e0b6a6d36ad",
            "948cede7a372446db2889375f3bee7ac",
            "529363f38ea047abb5da9d2c027b20d1",
            "be675bc0ab3b4dfe8298fc708aed8e73",
            "792a5f6336444c0d8c963a8e720e82b0",
            "7674c5fe51284b989bef685f9d6ab817",
            "d93ff724d1b44705a9c0c186b6772b65",
            "701fda7048694980a86ba82a6ef0fd04",
            "4da76e8ac6e342c1aec2db69a88f02b3",
            "9e0db7abffc04e68b2f01c07b491ec5f",
            "a89eb303612744949a5722c082fea59c",
            "af8675b5b57247d58eb97e0917ee32be",
            "10db4460729a4be88b95a2637808ec44",
            "54aa3efd6226408ba169e5ab419ea756",
            "685c3194e18c480594a858e303e2496a",
            "d7be3b72ed6644cf8d89b0488b0f5c60",
            "65de0f9f04034fb69bba8903a9196b31",
            "d71d267ed74a4ee8b8751fdf6a2385c5",
            "e0eedcb5960b4b77860f52fabb2ab4bf",
            "cdab9449ba294b87a0d23767f5d2292d",
            "b088013315874353872057ccc593debf",
            "b4a17b522f1f4286b502431449b16402",
            "da2b1a85494442fab3692735be644586",
            "b977e01f4cc34d88b34874182c47cc65",
            "9a6e9c0981674e2cac8c7773f3773fb6"
          ]
        },
        "execution": {
          "iopub.execute_input": "2023-12-10T09:37:59.503148Z",
          "iopub.status.busy": "2023-12-10T09:37:59.502759Z",
          "iopub.status.idle": "2023-12-10T09:38:06.861066Z",
          "shell.execute_reply": "2023-12-10T09:38:06.860314Z",
          "shell.execute_reply.started": "2023-12-10T09:37:59.503123Z"
        },
        "id": "2oHB_9PvcoPL",
        "outputId": "0226d5da-8487-4a83-e9ab-8eda26dd4271",
        "trusted": true
      },
      "outputs": [
        {
          "name": "stdout",
          "output_type": "stream",
          "text": [
            "preprocessing train...\n",
            "language: en\n",
            "train sequence lengths:\n",
            "\tmean : 10\n",
            "\t95percentile : 21\n",
            "\t99percentile : 33\n"
          ]
        },
        {
          "data": {
            "application/vnd.jupyter.widget-view+json": {
              "model_id": "b4a17b522f1f4286b502431449b16402",
              "version_major": 2,
              "version_minor": 0
            },
            "text/plain": [
              "Downloading tokenizer_config.json:   0%|          | 0.00/585 [00:00<?, ?B/s]"
            ]
          },
          "metadata": {},
          "output_type": "display_data"
        },
        {
          "data": {
            "application/vnd.jupyter.widget-view+json": {
              "model_id": "da2b1a85494442fab3692735be644586",
              "version_major": 2,
              "version_minor": 0
            },
            "text/plain": [
              "Downloading vocab.txt:   0%|          | 0.00/3.16M [00:00<?, ?B/s]"
            ]
          },
          "metadata": {},
          "output_type": "display_data"
        },
        {
          "data": {
            "application/vnd.jupyter.widget-view+json": {
              "model_id": "b977e01f4cc34d88b34874182c47cc65",
              "version_major": 2,
              "version_minor": 0
            },
            "text/plain": [
              "Downloading tokenizer.json:   0%|          | 0.00/6.41M [00:00<?, ?B/s]"
            ]
          },
          "metadata": {},
          "output_type": "display_data"
        },
        {
          "data": {
            "application/vnd.jupyter.widget-view+json": {
              "model_id": "9a6e9c0981674e2cac8c7773f3773fb6",
              "version_major": 2,
              "version_minor": 0
            },
            "text/plain": [
              "Downloading (…)cial_tokens_map.json:   0%|          | 0.00/125 [00:00<?, ?B/s]"
            ]
          },
          "metadata": {},
          "output_type": "display_data"
        },
        {
          "data": {
            "text/html": [
              "\n",
              "<style>\n",
              "    /* Turns off some styling */\n",
              "    progress {\n",
              "        /* gets rid of default border in Firefox and Opera. */\n",
              "        border: none;\n",
              "        /* Needs to be in here for Safari polyfill so background images work as expected. */\n",
              "        background-size: auto;\n",
              "    }\n",
              "    progress:not([value]), progress:not([value])::-webkit-progress-bar {\n",
              "        background: repeating-linear-gradient(45deg, #7e7e7e, #7e7e7e 10px, #5c5c5c 10px, #5c5c5c 20px);\n",
              "    }\n",
              "    .progress-bar-interrupted, .progress-bar-interrupted::-webkit-progress-bar {\n",
              "        background: #F44336;\n",
              "    }\n",
              "</style>\n"
            ],
            "text/plain": [
              "<IPython.core.display.HTML object>"
            ]
          },
          "metadata": {},
          "output_type": "display_data"
        },
        {
          "data": {
            "text/html": [],
            "text/plain": [
              "<IPython.core.display.HTML object>"
            ]
          },
          "metadata": {},
          "output_type": "display_data"
        },
        {
          "name": "stdout",
          "output_type": "stream",
          "text": [
            "Is Multi-Label? False\n",
            "preprocessing test...\n",
            "language: en\n",
            "test sequence lengths:\n",
            "\tmean : 7\n",
            "\t95percentile : 13\n",
            "\t99percentile : 16\n"
          ]
        },
        {
          "data": {
            "text/html": [
              "\n",
              "<style>\n",
              "    /* Turns off some styling */\n",
              "    progress {\n",
              "        /* gets rid of default border in Firefox and Opera. */\n",
              "        border: none;\n",
              "        /* Needs to be in here for Safari polyfill so background images work as expected. */\n",
              "        background-size: auto;\n",
              "    }\n",
              "    progress:not([value]), progress:not([value])::-webkit-progress-bar {\n",
              "        background: repeating-linear-gradient(45deg, #7e7e7e, #7e7e7e 10px, #5c5c5c 10px, #5c5c5c 20px);\n",
              "    }\n",
              "    .progress-bar-interrupted, .progress-bar-interrupted::-webkit-progress-bar {\n",
              "        background: #F44336;\n",
              "    }\n",
              "</style>\n"
            ],
            "text/plain": [
              "<IPython.core.display.HTML object>"
            ]
          },
          "metadata": {},
          "output_type": "display_data"
        },
        {
          "data": {
            "text/html": [],
            "text/plain": [
              "<IPython.core.display.HTML object>"
            ]
          },
          "metadata": {},
          "output_type": "display_data"
        }
      ],
      "source": [
        "trans = text.Transformer(model_name,maxlen=100,class_names=categories)\n",
        "train = trans.preprocess_train(train_df['cleanText'].tolist(), train_df['enc_label'].tolist())\n",
        "test = trans.preprocess_test(X_test, y_data_with_label)"
      ]
    },
    {
      "cell_type": "code",
      "execution_count": null,
      "metadata": {
        "execution": {
          "iopub.execute_input": "2023-12-10T10:01:43.546475Z",
          "iopub.status.busy": "2023-12-10T10:01:43.546069Z",
          "iopub.status.idle": "2023-12-10T10:01:48.210633Z",
          "shell.execute_reply": "2023-12-10T10:01:48.209845Z",
          "shell.execute_reply.started": "2023-12-10T10:01:43.546446Z"
        },
        "id": "WDX1PwovcrM0",
        "trusted": true
      },
      "outputs": [],
      "source": [
        "model = trans.get_classifier()\n",
        "learner = ktrain.get_learner(model, train_data=train,val_data=test, batch_size=16)"
      ]
    },
    {
      "cell_type": "code",
      "execution_count": null,
      "metadata": {
        "execution": {
          "iopub.execute_input": "2023-12-04T01:46:19.943455Z",
          "iopub.status.busy": "2023-12-04T01:46:19.942478Z",
          "iopub.status.idle": "2023-12-04T01:52:24.726063Z",
          "shell.execute_reply": "2023-12-04T01:52:24.725114Z",
          "shell.execute_reply.started": "2023-12-04T01:46:19.943415Z"
        },
        "id": "WHGPTimg53_W",
        "trusted": true
      },
      "outputs": [],
      "source": [
        "# learner.lr_find(show_plot = True,max_epochs=10)"
      ]
    },
    {
      "cell_type": "code",
      "execution_count": null,
      "metadata": {
        "colab": {
          "base_uri": "https://localhost:8080/"
        },
        "execution": {
          "iopub.execute_input": "2023-12-10T10:01:56.709557Z",
          "iopub.status.busy": "2023-12-10T10:01:56.708685Z",
          "iopub.status.idle": "2023-12-10T10:22:43.021940Z",
          "shell.execute_reply": "2023-12-10T10:22:43.020943Z",
          "shell.execute_reply.started": "2023-12-10T10:01:56.709527Z"
        },
        "id": "arbcJdIXdxWG",
        "outputId": "969dec1f-5d3a-4327-de6e-0f602aef8da6",
        "trusted": true
      },
      "outputs": [
        {
          "name": "stdout",
          "output_type": "stream",
          "text": [
            "\n",
            "\n",
            "begin training using onecycle policy with max lr of 1e-05...\n",
            "Epoch 1/20\n",
            "250/250 [==============================] - 83s 260ms/step - loss: 0.6803 - accuracy: 0.6693 - val_loss: 0.6886 - val_accuracy: 0.5260\n",
            "Epoch 2/20\n",
            "250/250 [==============================] - 61s 245ms/step - loss: 0.6126 - accuracy: 0.7550 - val_loss: 0.6488 - val_accuracy: 0.6260\n",
            "Epoch 3/20\n",
            "250/250 [==============================] - 61s 245ms/step - loss: 0.5323 - accuracy: 0.7958 - val_loss: 0.6054 - val_accuracy: 0.6900\n",
            "Epoch 4/20\n",
            "250/250 [==============================] - 61s 245ms/step - loss: 0.4561 - accuracy: 0.8285 - val_loss: 0.6159 - val_accuracy: 0.6840\n",
            "Epoch 5/20\n",
            "250/250 [==============================] - 61s 245ms/step - loss: 0.3951 - accuracy: 0.8530 - val_loss: 0.5858 - val_accuracy: 0.7280\n",
            "Epoch 6/20\n",
            "250/250 [==============================] - 61s 245ms/step - loss: 0.3358 - accuracy: 0.8817 - val_loss: 0.6772 - val_accuracy: 0.6940\n",
            "Epoch 7/20\n",
            "250/250 [==============================] - 61s 245ms/step - loss: 0.2803 - accuracy: 0.9068 - val_loss: 0.7015 - val_accuracy: 0.7080\n",
            "Epoch 8/20\n",
            "250/250 [==============================] - 61s 245ms/step - loss: 0.2294 - accuracy: 0.9298 - val_loss: 0.7173 - val_accuracy: 0.7080\n",
            "Epoch 9/20\n",
            "250/250 [==============================] - 61s 245ms/step - loss: 0.1996 - accuracy: 0.9375 - val_loss: 0.7831 - val_accuracy: 0.7060\n",
            "Epoch 10/20\n",
            "250/250 [==============================] - 61s 245ms/step - loss: 0.1708 - accuracy: 0.9490 - val_loss: 0.7749 - val_accuracy: 0.7060\n",
            "Epoch 11/20\n",
            "250/250 [==============================] - 61s 245ms/step - loss: 0.1409 - accuracy: 0.9607 - val_loss: 0.7340 - val_accuracy: 0.7240\n",
            "Epoch 12/20\n",
            "250/250 [==============================] - 61s 245ms/step - loss: 0.1141 - accuracy: 0.9718 - val_loss: 0.8318 - val_accuracy: 0.7320\n",
            "Epoch 13/20\n",
            "250/250 [==============================] - 61s 245ms/step - loss: 0.0977 - accuracy: 0.9768 - val_loss: 0.9342 - val_accuracy: 0.7160\n",
            "Epoch 14/20\n",
            "250/250 [==============================] - 61s 246ms/step - loss: 0.0872 - accuracy: 0.9785 - val_loss: 0.9779 - val_accuracy: 0.7160\n",
            "Epoch 15/20\n",
            "250/250 [==============================] - 61s 245ms/step - loss: 0.0765 - accuracy: 0.9800 - val_loss: 0.9450 - val_accuracy: 0.7300\n",
            "Epoch 16/20\n",
            "250/250 [==============================] - 61s 245ms/step - loss: 0.0707 - accuracy: 0.9830 - val_loss: 0.9147 - val_accuracy: 0.7320\n",
            "Epoch 17/20\n",
            "250/250 [==============================] - 61s 245ms/step - loss: 0.0633 - accuracy: 0.9850 - val_loss: 0.9777 - val_accuracy: 0.7240\n",
            "Epoch 18/20\n",
            "250/250 [==============================] - 61s 245ms/step - loss: 0.0545 - accuracy: 0.9887 - val_loss: 1.0631 - val_accuracy: 0.7180\n",
            "Epoch 19/20\n",
            "250/250 [==============================] - 61s 245ms/step - loss: 0.0529 - accuracy: 0.9880 - val_loss: 1.0211 - val_accuracy: 0.7200\n",
            "Epoch 20/20\n",
            "250/250 [==============================] - 61s 245ms/step - loss: 0.0509 - accuracy: 0.9875 - val_loss: 1.0304 - val_accuracy: 0.7220\n"
          ]
        },
        {
          "data": {
            "text/plain": [
              "<keras.src.callbacks.History at 0x7cc1b5c9fd60>"
            ]
          },
          "execution_count": 41,
          "metadata": {},
          "output_type": "execute_result"
        }
      ],
      "source": [
        "learner.fit_onecycle(3e-5, 20)   # 15 epochs 70(macro) for 1e-5"
      ]
    },
    {
      "cell_type": "code",
      "execution_count": null,
      "metadata": {
        "colab": {
          "base_uri": "https://localhost:8080/"
        },
        "execution": {
          "iopub.execute_input": "2023-12-10T10:28:23.286486Z",
          "iopub.status.busy": "2023-12-10T10:28:23.286055Z",
          "iopub.status.idle": "2023-12-10T10:28:27.612090Z",
          "shell.execute_reply": "2023-12-10T10:28:27.611175Z",
          "shell.execute_reply.started": "2023-12-10T10:28:23.286454Z"
        },
        "id": "X7dm0bubep_k",
        "outputId": "3f07f75f-ed1a-4f6d-9d3e-11d1686fb402",
        "trusted": true
      },
      "outputs": [
        {
          "name": "stdout",
          "output_type": "stream",
          "text": [
            "16/16 [==============================] - 4s 70ms/step\n",
            "              precision    recall  f1-score   support\n",
            "\n",
            "        hate       0.73      0.70      0.72       250\n",
            "    non-hate       0.71      0.74      0.73       250\n",
            "\n",
            "    accuracy                           0.72       500\n",
            "   macro avg       0.72      0.72      0.72       500\n",
            "weighted avg       0.72      0.72      0.72       500\n",
            "\n"
          ]
        },
        {
          "data": {
            "text/plain": [
              "array([[176,  74],\n",
              "       [ 65, 185]])"
            ]
          },
          "execution_count": 42,
          "metadata": {},
          "output_type": "execute_result"
        }
      ],
      "source": [
        "learner.validate(class_names=categories)"
      ]
    },
    {
      "cell_type": "code",
      "execution_count": null,
      "metadata": {
        "execution": {
          "iopub.execute_input": "2023-12-10T10:29:49.519404Z",
          "iopub.status.busy": "2023-12-10T10:29:49.518547Z",
          "iopub.status.idle": "2023-12-10T10:29:49.620180Z",
          "shell.execute_reply": "2023-12-10T10:29:49.619070Z",
          "shell.execute_reply.started": "2023-12-10T10:29:49.519375Z"
        },
        "id": "OE1guz_n53_X",
        "trusted": true
      },
      "outputs": [],
      "source": [
        "predictor = ktrain.get_predictor(learner.model, preproc=trans)"
      ]
    },
    {
      "cell_type": "code",
      "execution_count": null,
      "metadata": {
        "execution": {
          "iopub.execute_input": "2023-12-10T10:29:57.670509Z",
          "iopub.status.busy": "2023-12-10T10:29:57.669649Z",
          "iopub.status.idle": "2023-12-10T10:30:00.665699Z",
          "shell.execute_reply": "2023-12-10T10:30:00.664899Z",
          "shell.execute_reply.started": "2023-12-10T10:29:57.670478Z"
        },
        "id": "eNz-12Z653_Y",
        "trusted": true
      },
      "outputs": [],
      "source": [
        "folder_path = \"/kaggle/working/\"\n",
        "\n",
        "predictor.save(folder_path+'Transformers_Models'+'/puneIndicSBERT_1eMinus5_16_20')\n"
      ]
    },
    {
      "cell_type": "code",
      "execution_count": null,
      "metadata": {
        "id": "4hiIJk0AQkxY"
      },
      "outputs": [],
      "source": [
        "predictor = ktrain.load_predictor(\"/content/drive/MyDrive/Colab Notebooks/HOLD/\"+'Transformers_Models'+'/puneIndicSBERT_1eMinus5_16_20')"
      ]
    },
    {
      "cell_type": "code",
      "execution_count": null,
      "metadata": {
        "execution": {
          "iopub.execute_input": "2023-12-04T02:13:45.329273Z",
          "iopub.status.busy": "2023-12-04T02:13:45.327992Z",
          "iopub.status.idle": "2023-12-04T02:13:50.015647Z",
          "shell.execute_reply": "2023-12-04T02:13:50.014525Z",
          "shell.execute_reply.started": "2023-12-04T02:13:45.329223Z"
        },
        "id": "immEomdO53_Y",
        "trusted": true
      },
      "outputs": [],
      "source": [
        "y_pred = predictor.predict(X_test)"
      ]
    },
    {
      "cell_type": "code",
      "execution_count": null,
      "metadata": {
        "execution": {
          "iopub.execute_input": "2023-12-04T02:13:50.018719Z",
          "iopub.status.busy": "2023-12-04T02:13:50.017871Z",
          "iopub.status.idle": "2023-12-04T02:13:50.134142Z",
          "shell.execute_reply": "2023-12-04T02:13:50.133155Z",
          "shell.execute_reply.started": "2023-12-04T02:13:50.018677Z"
        },
        "id": "j6NOHlZm53_Y",
        "trusted": true
      },
      "outputs": [],
      "source": [
        "run = pd.DataFrame(test_df['text'])\n",
        "run['label'] = y_pred\n",
        "# run\n",
        "run['label'].value_counts()"
      ]
    },
    {
      "cell_type": "code",
      "execution_count": null,
      "metadata": {
        "execution": {
          "iopub.execute_input": "2023-12-04T02:14:03.180855Z",
          "iopub.status.busy": "2023-12-04T02:14:03.180463Z",
          "iopub.status.idle": "2023-12-04T02:14:03.289790Z",
          "shell.execute_reply": "2023-12-04T02:14:03.288602Z",
          "shell.execute_reply.started": "2023-12-04T02:14:03.180824Z"
        },
        "id": "as_WTm6253_Z",
        "trusted": true
      },
      "outputs": [],
      "source": [
        "run.to_csv('/kaggle/working/' +'model1.csv',index = False) # for 3e-5, batch = 16, epochs = 15"
      ]
    },
    {
      "cell_type": "code",
      "execution_count": null,
      "metadata": {
        "execution": {
          "iopub.execute_input": "2023-12-04T02:14:56.216814Z",
          "iopub.status.busy": "2023-12-04T02:14:56.216437Z",
          "iopub.status.idle": "2023-12-04T02:14:56.324144Z",
          "shell.execute_reply": "2023-12-04T02:14:56.323111Z",
          "shell.execute_reply.started": "2023-12-04T02:14:56.216784Z"
        },
        "id": "UaT9VxIJ53_Z",
        "trusted": true
      },
      "outputs": [],
      "source": [
        "run.to_csv('/kaggle/working/' +'model1.tsv',index = False) # for 3e-5, batch = 16, epochs = 15"
      ]
    },
    {
      "cell_type": "code",
      "execution_count": null,
      "metadata": {
        "colab": {
          "base_uri": "https://localhost:8080/"
        },
        "execution": {
          "iopub.execute_input": "2023-12-10T10:31:46.567731Z",
          "iopub.status.busy": "2023-12-10T10:31:46.567355Z",
          "iopub.status.idle": "2023-12-10T10:45:29.519565Z",
          "shell.execute_reply": "2023-12-10T10:45:29.518573Z",
          "shell.execute_reply.started": "2023-12-10T10:31:46.567691Z"
        },
        "id": "uTEz7nFl53_Z",
        "outputId": "701dd760-b00e-4c83-ca9e-da9e14705060",
        "trusted": true
      },
      "outputs": [
        {
          "name": "stdout",
          "output_type": "stream",
          "text": [
            "\n",
            "\n",
            "begin training using onecycle policy with max lr of 1e-05...\n",
            "Epoch 1/15\n",
            "125/125 [==============================] - 73s 444ms/step - loss: 0.6836 - accuracy: 0.6622 - val_loss: 0.6896 - val_accuracy: 0.5180\n",
            "Epoch 2/15\n",
            "125/125 [==============================] - 52s 414ms/step - loss: 0.6250 - accuracy: 0.7415 - val_loss: 0.6461 - val_accuracy: 0.6400\n",
            "Epoch 3/15\n",
            "125/125 [==============================] - 52s 414ms/step - loss: 0.5370 - accuracy: 0.7968 - val_loss: 0.5951 - val_accuracy: 0.7040\n",
            "Epoch 4/15\n",
            "125/125 [==============================] - 52s 414ms/step - loss: 0.4635 - accuracy: 0.8210 - val_loss: 0.5785 - val_accuracy: 0.7180\n",
            "Epoch 5/15\n",
            "125/125 [==============================] - 52s 415ms/step - loss: 0.3754 - accuracy: 0.8695 - val_loss: 0.6123 - val_accuracy: 0.7060\n",
            "Epoch 6/15\n",
            "125/125 [==============================] - 52s 414ms/step - loss: 0.3175 - accuracy: 0.8910 - val_loss: 0.6079 - val_accuracy: 0.7200\n",
            "Epoch 7/15\n",
            "125/125 [==============================] - 52s 415ms/step - loss: 0.2573 - accuracy: 0.9178 - val_loss: 0.6372 - val_accuracy: 0.7260\n",
            "Epoch 8/15\n",
            "125/125 [==============================] - 52s 415ms/step - loss: 0.2224 - accuracy: 0.9302 - val_loss: 0.6701 - val_accuracy: 0.7460\n",
            "Epoch 9/15\n",
            "125/125 [==============================] - 52s 414ms/step - loss: 0.1733 - accuracy: 0.9503 - val_loss: 0.7459 - val_accuracy: 0.7340\n",
            "Epoch 10/15\n",
            "125/125 [==============================] - 52s 414ms/step - loss: 0.1497 - accuracy: 0.9592 - val_loss: 0.7480 - val_accuracy: 0.7380\n",
            "Epoch 11/15\n",
            "125/125 [==============================] - 52s 414ms/step - loss: 0.1322 - accuracy: 0.9638 - val_loss: 0.7719 - val_accuracy: 0.7160\n",
            "Epoch 12/15\n",
            "125/125 [==============================] - 52s 414ms/step - loss: 0.1127 - accuracy: 0.9725 - val_loss: 0.8386 - val_accuracy: 0.7280\n",
            "Epoch 13/15\n",
            "125/125 [==============================] - 52s 414ms/step - loss: 0.0976 - accuracy: 0.9778 - val_loss: 0.8601 - val_accuracy: 0.7240\n",
            "Epoch 14/15\n",
            "125/125 [==============================] - 52s 414ms/step - loss: 0.0873 - accuracy: 0.9812 - val_loss: 0.8919 - val_accuracy: 0.7300\n",
            "Epoch 15/15\n",
            "125/125 [==============================] - 52s 414ms/step - loss: 0.0845 - accuracy: 0.9812 - val_loss: 0.8857 - val_accuracy: 0.7300\n"
          ]
        },
        {
          "data": {
            "text/plain": [
              "<keras.src.callbacks.History at 0x7cbdd26db760>"
            ]
          },
          "execution_count": 49,
          "metadata": {},
          "output_type": "execute_result"
        }
      ],
      "source": [
        "model2 = trans.get_classifier()\n",
        "learner2 = ktrain.get_learner(model2, train_data=train,val_data=test, batch_size=32)\n",
        "learner2.fit_onecycle(3e-5,15)"
      ]
    },
    {
      "cell_type": "code",
      "execution_count": null,
      "metadata": {
        "colab": {
          "base_uri": "https://localhost:8080/"
        },
        "execution": {
          "iopub.execute_input": "2023-12-10T11:03:54.349694Z",
          "iopub.status.busy": "2023-12-10T11:03:54.349273Z",
          "iopub.status.idle": "2023-12-10T11:03:55.691445Z",
          "shell.execute_reply": "2023-12-10T11:03:55.690530Z",
          "shell.execute_reply.started": "2023-12-10T11:03:54.349664Z"
        },
        "id": "mfKT0nE-53_a",
        "outputId": "2c075d77-9452-4ec1-beb2-e66085f6e7ea",
        "trusted": true
      },
      "outputs": [
        {
          "name": "stdout",
          "output_type": "stream",
          "text": [
            "16/16 [==============================] - 1s 71ms/step\n",
            "              precision    recall  f1-score   support\n",
            "\n",
            "        hate       0.72      0.74      0.73       250\n",
            "    non-hate       0.74      0.72      0.73       250\n",
            "\n",
            "    accuracy                           0.73       500\n",
            "   macro avg       0.73      0.73      0.73       500\n",
            "weighted avg       0.73      0.73      0.73       500\n",
            "\n"
          ]
        },
        {
          "data": {
            "text/plain": [
              "array([[186,  64],\n",
              "       [ 71, 179]])"
            ]
          },
          "execution_count": 51,
          "metadata": {},
          "output_type": "execute_result"
        }
      ],
      "source": [
        "learner2.validate(class_names=categories)"
      ]
    },
    {
      "cell_type": "code",
      "execution_count": null,
      "metadata": {
        "execution": {
          "iopub.execute_input": "2023-12-04T02:37:11.129760Z",
          "iopub.status.busy": "2023-12-04T02:37:11.129000Z",
          "iopub.status.idle": "2023-12-04T02:37:20.940562Z",
          "shell.execute_reply": "2023-12-04T02:37:20.939408Z",
          "shell.execute_reply.started": "2023-12-04T02:37:11.129728Z"
        },
        "id": "572N_1GI53_a",
        "trusted": true
      },
      "outputs": [],
      "source": [
        "predictor = ktrain.get_predictor(learner2.model, preproc=trans)\n",
        "ffolder_path = \"/kaggle/working/\"\n",
        "\n",
        "predictor.save(folder_path+'Transformers_Models'+'/puneIndicSBERT_1eMinus5_32_15')\n",
        "\n",
        "predictor = ktrain.load_predictor(folder_path+'Transformers_Models'+'/puneIndicSBERT_1eMinus5_32_15')"
      ]
    },
    {
      "cell_type": "code",
      "execution_count": null,
      "metadata": {
        "id": "C6T1zPVSBJQ0"
      },
      "outputs": [],
      "source": [
        "y_pred = predictor.predict(X_test)"
      ]
    },
    {
      "cell_type": "code",
      "execution_count": null,
      "metadata": {
        "id": "xc-r16VcBGpy"
      },
      "outputs": [],
      "source": [
        "from sklearn.metrics import accuracy_score, classification_report\n",
        "accuracy = accuracy_score(y_data_with_label, y_pred)\n",
        "report = classification_report(y_data_with_label, y_pred)\n",
        "print(f\"Accuracy: {accuracy}\")\n",
        "print(\"Classification Report:\")\n",
        "print(report)"
      ]
    },
    {
      "cell_type": "code",
      "execution_count": null,
      "metadata": {
        "collapsed": true,
        "execution": {
          "iopub.execute_input": "2023-12-04T02:37:20.942498Z",
          "iopub.status.busy": "2023-12-04T02:37:20.942210Z",
          "iopub.status.idle": "2023-12-04T02:37:21.044211Z",
          "shell.execute_reply": "2023-12-04T02:37:21.043283Z",
          "shell.execute_reply.started": "2023-12-04T02:37:20.942474Z"
        },
        "id": "4Yg6pArW53_a",
        "jupyter": {
          "outputs_hidden": true,
          "source_hidden": true
        },
        "trusted": true
      },
      "outputs": [],
      "source": [
        "y_pred = predictor.predict(X_test)\n",
        "run = pd.DataFrame(test_df['text'])\n",
        "run['label'] = y_pred\n",
        "# run\n",
        "run['label'].value_counts()"
      ]
    },
    {
      "cell_type": "code",
      "execution_count": null,
      "metadata": {
        "execution": {
          "iopub.execute_input": "2023-12-04T02:37:24.429951Z",
          "iopub.status.busy": "2023-12-04T02:37:24.429078Z",
          "iopub.status.idle": "2023-12-04T02:37:24.534200Z",
          "shell.execute_reply": "2023-12-04T02:37:24.533306Z",
          "shell.execute_reply.started": "2023-12-04T02:37:24.429917Z"
        },
        "id": "wof04ciw53_a",
        "jupyter": {
          "source_hidden": true
        },
        "trusted": true
      },
      "outputs": [],
      "source": [
        "run.to_csv('/kaggle/working/' +'model2.csv',index = False) # for 3e-5, batch = 16, epochs = 15"
      ]
    },
    {
      "cell_type": "code",
      "execution_count": null,
      "metadata": {
        "execution": {
          "iopub.execute_input": "2023-12-04T02:37:28.626131Z",
          "iopub.status.busy": "2023-12-04T02:37:28.625256Z",
          "iopub.status.idle": "2023-12-04T02:37:28.737428Z",
          "shell.execute_reply": "2023-12-04T02:37:28.736682Z",
          "shell.execute_reply.started": "2023-12-04T02:37:28.626097Z"
        },
        "id": "H7p5WHar53_a",
        "jupyter": {
          "source_hidden": true
        },
        "trusted": true
      },
      "outputs": [],
      "source": [
        "run.to_csv('/kaggle/working/' +'model2.tsv',index = False) # for 3e-5, batch = 16, epochs = 15"
      ]
    },
    {
      "cell_type": "markdown",
      "metadata": {
        "id": "wNUm-9FO53_c"
      },
      "source": [
        "# Ktrain indicBert"
      ]
    },
    {
      "cell_type": "code",
      "execution_count": null,
      "metadata": {
        "colab": {
          "referenced_widgets": [
            "6518f29140904bb9ab3c988ca963ba63",
            "e0fa56ec6b764cf9b164e99c196d85f1",
            "2c8add1ad1fa4562a0c50436ac5eec9b"
          ]
        },
        "execution": {
          "iopub.execute_input": "2023-12-11T01:20:28.198786Z",
          "iopub.status.busy": "2023-12-11T01:20:28.198445Z",
          "iopub.status.idle": "2023-12-11T01:20:50.790647Z",
          "shell.execute_reply": "2023-12-11T01:20:50.789618Z",
          "shell.execute_reply.started": "2023-12-11T01:20:28.198739Z"
        },
        "id": "jM2dtDsG53_c",
        "outputId": "eceadf58-81dd-4167-f1d2-456fc2160dd5",
        "trusted": true
      },
      "outputs": [
        {
          "data": {
            "application/vnd.jupyter.widget-view+json": {
              "model_id": "6518f29140904bb9ab3c988ca963ba63",
              "version_major": 2,
              "version_minor": 0
            },
            "text/plain": [
              "Downloading config.json:   0%|          | 0.00/507 [00:00<?, ?B/s]"
            ]
          },
          "metadata": {},
          "output_type": "display_data"
        },
        {
          "data": {
            "application/vnd.jupyter.widget-view+json": {
              "model_id": "e0fa56ec6b764cf9b164e99c196d85f1",
              "version_major": 2,
              "version_minor": 0
            },
            "text/plain": [
              "Downloading pytorch_model.bin:   0%|          | 0.00/135M [00:00<?, ?B/s]"
            ]
          },
          "metadata": {},
          "output_type": "display_data"
        },
        {
          "name": "stdout",
          "output_type": "stream",
          "text": [
            "preprocessing train...\n",
            "language: en\n",
            "train sequence lengths:\n",
            "\tmean : 10\n",
            "\t95percentile : 21\n",
            "\t99percentile : 33\n"
          ]
        },
        {
          "data": {
            "application/vnd.jupyter.widget-view+json": {
              "model_id": "2c8add1ad1fa4562a0c50436ac5eec9b",
              "version_major": 2,
              "version_minor": 0
            },
            "text/plain": [
              "Downloading spiece.model:   0%|          | 0.00/5.65M [00:00<?, ?B/s]"
            ]
          },
          "metadata": {},
          "output_type": "display_data"
        },
        {
          "data": {
            "text/html": [
              "\n",
              "<style>\n",
              "    /* Turns off some styling */\n",
              "    progress {\n",
              "        /* gets rid of default border in Firefox and Opera. */\n",
              "        border: none;\n",
              "        /* Needs to be in here for Safari polyfill so background images work as expected. */\n",
              "        background-size: auto;\n",
              "    }\n",
              "    progress:not([value]), progress:not([value])::-webkit-progress-bar {\n",
              "        background: repeating-linear-gradient(45deg, #7e7e7e, #7e7e7e 10px, #5c5c5c 10px, #5c5c5c 20px);\n",
              "    }\n",
              "    .progress-bar-interrupted, .progress-bar-interrupted::-webkit-progress-bar {\n",
              "        background: #F44336;\n",
              "    }\n",
              "</style>\n"
            ],
            "text/plain": [
              "<IPython.core.display.HTML object>"
            ]
          },
          "metadata": {},
          "output_type": "display_data"
        },
        {
          "data": {
            "text/html": [],
            "text/plain": [
              "<IPython.core.display.HTML object>"
            ]
          },
          "metadata": {},
          "output_type": "display_data"
        },
        {
          "name": "stdout",
          "output_type": "stream",
          "text": [
            "Is Multi-Label? False\n",
            "preprocessing test...\n",
            "language: en\n",
            "test sequence lengths:\n",
            "\tmean : 7\n",
            "\t95percentile : 13\n",
            "\t99percentile : 16\n"
          ]
        },
        {
          "data": {
            "text/html": [
              "\n",
              "<style>\n",
              "    /* Turns off some styling */\n",
              "    progress {\n",
              "        /* gets rid of default border in Firefox and Opera. */\n",
              "        border: none;\n",
              "        /* Needs to be in here for Safari polyfill so background images work as expected. */\n",
              "        background-size: auto;\n",
              "    }\n",
              "    progress:not([value]), progress:not([value])::-webkit-progress-bar {\n",
              "        background: repeating-linear-gradient(45deg, #7e7e7e, #7e7e7e 10px, #5c5c5c 10px, #5c5c5c 20px);\n",
              "    }\n",
              "    .progress-bar-interrupted, .progress-bar-interrupted::-webkit-progress-bar {\n",
              "        background: #F44336;\n",
              "    }\n",
              "</style>\n"
            ],
            "text/plain": [
              "<IPython.core.display.HTML object>"
            ]
          },
          "metadata": {},
          "output_type": "display_data"
        },
        {
          "data": {
            "text/html": [],
            "text/plain": [
              "<IPython.core.display.HTML object>"
            ]
          },
          "metadata": {},
          "output_type": "display_data"
        }
      ],
      "source": [
        "model_name = 'ai4bharat/indic-bert'\n",
        "trans = text.Transformer(model_name,maxlen=100,class_names=categories)\n",
        "train = trans.preprocess_train(train_df['cleanText'].tolist(), train_df['enc_label'].tolist())\n",
        "test = trans.preprocess_test(X_test, y_data_with_label)\n",
        "model = trans.get_classifier()\n",
        "Indiclearner = ktrain.get_learner(model, train_data=train,val_data=test, batch_size=16)"
      ]
    },
    {
      "cell_type": "code",
      "execution_count": null,
      "metadata": {
        "execution": {
          "iopub.status.busy": "2023-12-04T01:40:12.873945Z",
          "iopub.status.idle": "2023-12-04T01:40:12.874429Z",
          "shell.execute_reply": "2023-12-04T01:40:12.874203Z",
          "shell.execute_reply.started": "2023-12-04T01:40:12.874182Z"
        },
        "id": "Mu2Ffrpb53_d",
        "trusted": true
      },
      "outputs": [],
      "source": [
        "# Indiclearner.lr_find(show_plot = True,max_epochs=10)"
      ]
    },
    {
      "cell_type": "code",
      "execution_count": null,
      "metadata": {
        "execution": {
          "iopub.execute_input": "2023-12-11T01:20:50.792748Z",
          "iopub.status.busy": "2023-12-11T01:20:50.792014Z",
          "iopub.status.idle": "2023-12-11T01:30:32.736558Z",
          "shell.execute_reply": "2023-12-11T01:30:32.735467Z",
          "shell.execute_reply.started": "2023-12-11T01:20:50.792711Z"
        },
        "id": "d2T39qyA53_d",
        "outputId": "0fe7e002-43e9-4f5f-a524-95375050f6e0",
        "trusted": true
      },
      "outputs": [
        {
          "name": "stdout",
          "output_type": "stream",
          "text": [
            "\n",
            "\n",
            "begin training using onecycle policy with max lr of 1e-05...\n",
            "Epoch 1/10\n",
            "250/250 [==============================] - 77s 227ms/step - loss: 0.6906 - accuracy: 0.5167 - val_loss: 0.7085 - val_accuracy: 0.5000\n",
            "Epoch 2/10\n",
            "250/250 [==============================] - 52s 207ms/step - loss: 0.6724 - accuracy: 0.5895 - val_loss: 0.7527 - val_accuracy: 0.3860\n",
            "Epoch 3/10\n",
            "250/250 [==============================] - 52s 207ms/step - loss: 0.6552 - accuracy: 0.6553 - val_loss: 0.6956 - val_accuracy: 0.5420\n",
            "Epoch 4/10\n",
            "250/250 [==============================] - 52s 207ms/step - loss: 0.6153 - accuracy: 0.6875 - val_loss: 0.7141 - val_accuracy: 0.5420\n",
            "Epoch 5/10\n",
            "250/250 [==============================] - 52s 207ms/step - loss: 0.5587 - accuracy: 0.7312 - val_loss: 0.6614 - val_accuracy: 0.6200\n",
            "Epoch 6/10\n",
            "250/250 [==============================] - 52s 207ms/step - loss: 0.5096 - accuracy: 0.7697 - val_loss: 0.6815 - val_accuracy: 0.5980\n",
            "Epoch 7/10\n",
            "250/250 [==============================] - 52s 208ms/step - loss: 0.4467 - accuracy: 0.8055 - val_loss: 0.7328 - val_accuracy: 0.6240\n",
            "Epoch 8/10\n",
            "250/250 [==============================] - 52s 207ms/step - loss: 0.3680 - accuracy: 0.8487 - val_loss: 0.7493 - val_accuracy: 0.6480\n",
            "Epoch 9/10\n",
            "250/250 [==============================] - 52s 207ms/step - loss: 0.3045 - accuracy: 0.8890 - val_loss: 0.9021 - val_accuracy: 0.6380\n",
            "Epoch 10/10\n",
            "250/250 [==============================] - 52s 207ms/step - loss: 0.2608 - accuracy: 0.9147 - val_loss: 0.9228 - val_accuracy: 0.6360\n"
          ]
        },
        {
          "data": {
            "text/plain": [
              "<keras.src.callbacks.History at 0x7eb8b25a5690>"
            ]
          },
          "execution_count": 85,
          "metadata": {},
          "output_type": "execute_result"
        }
      ],
      "source": [
        "Indiclearner.fit_onecycle(3e-5,10)"
      ]
    },
    {
      "cell_type": "code",
      "execution_count": null,
      "metadata": {
        "execution": {
          "iopub.execute_input": "2023-12-11T01:30:32.738286Z",
          "iopub.status.busy": "2023-12-11T01:30:32.737951Z",
          "iopub.status.idle": "2023-12-11T01:30:37.586237Z",
          "shell.execute_reply": "2023-12-11T01:30:37.585251Z",
          "shell.execute_reply.started": "2023-12-11T01:30:32.738258Z"
        },
        "id": "m-jMxvER53_e",
        "outputId": "8af7b2df-f9e7-4de7-ee7c-8d2a6735abd9",
        "trusted": true
      },
      "outputs": [
        {
          "name": "stdout",
          "output_type": "stream",
          "text": [
            "16/16 [==============================] - 5s 85ms/step\n",
            "              precision    recall  f1-score   support\n",
            "\n",
            "        hate       0.66      0.56      0.61       250\n",
            "    non-hate       0.62      0.71      0.66       250\n",
            "\n",
            "    accuracy                           0.64       500\n",
            "   macro avg       0.64      0.64      0.63       500\n",
            "weighted avg       0.64      0.64      0.63       500\n",
            "\n"
          ]
        },
        {
          "data": {
            "text/plain": [
              "array([[141, 109],\n",
              "       [ 73, 177]])"
            ]
          },
          "execution_count": 86,
          "metadata": {},
          "output_type": "execute_result"
        }
      ],
      "source": [
        "Indiclearner.validate(class_names=categories)"
      ]
    },
    {
      "cell_type": "code",
      "execution_count": null,
      "metadata": {
        "execution": {
          "iopub.status.busy": "2023-12-04T01:40:12.880548Z",
          "iopub.status.idle": "2023-12-04T01:40:12.880881Z",
          "shell.execute_reply": "2023-12-04T01:40:12.880735Z",
          "shell.execute_reply.started": "2023-12-04T01:40:12.880719Z"
        },
        "id": "ajLXNb9153_e",
        "trusted": true
      },
      "outputs": [],
      "source": [
        "predictor = ktrain.get_predictor(Indiclearner.model, preproc=trans)\n",
        "y_pred = predictor.predict(X_test)\n",
        "# y_pred"
      ]
    },
    {
      "cell_type": "code",
      "execution_count": null,
      "metadata": {
        "execution": {
          "iopub.status.busy": "2023-12-04T01:40:12.882031Z",
          "iopub.status.idle": "2023-12-04T01:40:12.882391Z",
          "shell.execute_reply": "2023-12-04T01:40:12.882213Z",
          "shell.execute_reply.started": "2023-12-04T01:40:12.882198Z"
        },
        "id": "Ug_2Nvew53_e",
        "trusted": true
      },
      "outputs": [],
      "source": [
        "run = pd.DataFrame(test_df['text'])\n",
        "run['label'] = y_pred\n",
        "# run\n",
        "run['label'].value_counts()"
      ]
    },
    {
      "cell_type": "code",
      "execution_count": null,
      "metadata": {
        "execution": {
          "iopub.status.busy": "2023-12-04T01:40:12.883466Z",
          "iopub.status.idle": "2023-12-04T01:40:12.883850Z",
          "shell.execute_reply": "2023-12-04T01:40:12.883659Z",
          "shell.execute_reply.started": "2023-12-04T01:40:12.883639Z"
        },
        "id": "80pzeZxd53_e",
        "trusted": true
      },
      "outputs": [],
      "source": [
        "run.to_csv('/kaggle/working/' +'Tamil_Hate_Indic_72_cw.csv',index = False) # for 3e-5, batch = 16, epochs = 15"
      ]
    },
    {
      "cell_type": "markdown",
      "metadata": {
        "id": "dtl_Lbo453_e"
      },
      "source": [
        "# Ktrain mBert"
      ]
    },
    {
      "cell_type": "code",
      "execution_count": null,
      "metadata": {
        "colab": {
          "base_uri": "https://localhost:8080/",
          "height": 347,
          "referenced_widgets": [
            "15276f5f0ed04aa0bc875e3d1c527346",
            "a56fc785279b4231af60e479ad69a802"
          ]
        },
        "execution": {
          "iopub.execute_input": "2023-12-10T06:52:07.800158Z",
          "iopub.status.busy": "2023-12-10T06:52:07.799757Z",
          "iopub.status.idle": "2023-12-10T06:52:22.240472Z",
          "shell.execute_reply": "2023-12-10T06:52:22.239474Z",
          "shell.execute_reply.started": "2023-12-10T06:52:07.800125Z"
        },
        "id": "q_uEfOPM53_f",
        "outputId": "7cdf90a8-1f64-405e-ca1d-51968450378a",
        "trusted": true
      },
      "outputs": [
        {
          "data": {
            "application/vnd.jupyter.widget-view+json": {
              "model_id": "15276f5f0ed04aa0bc875e3d1c527346",
              "version_major": 2,
              "version_minor": 0
            },
            "text/plain": [
              "Downloading config.json:   0%|          | 0.00/625 [00:00<?, ?B/s]"
            ]
          },
          "metadata": {},
          "output_type": "display_data"
        },
        {
          "data": {
            "application/vnd.jupyter.widget-view+json": {
              "model_id": "a56fc785279b4231af60e479ad69a802",
              "version_major": 2,
              "version_minor": 0
            },
            "text/plain": [
              "Downloading model.safetensors:   0%|          | 0.00/714M [00:00<?, ?B/s]"
            ]
          },
          "metadata": {},
          "output_type": "display_data"
        }
      ],
      "source": [
        "model_name = 'bert-base-multilingual-cased'\n",
        "trans = text.Transformer(model_name,maxlen=100,class_names=categories)"
      ]
    },
    {
      "cell_type": "code",
      "execution_count": null,
      "metadata": {
        "execution": {
          "iopub.execute_input": "2023-12-10T06:53:38.909788Z",
          "iopub.status.busy": "2023-12-10T06:53:38.909112Z",
          "iopub.status.idle": "2023-12-10T06:53:44.212319Z",
          "shell.execute_reply": "2023-12-10T06:53:44.211468Z",
          "shell.execute_reply.started": "2023-12-10T06:53:38.909754Z"
        },
        "id": "NRq3XXngQkxf",
        "outputId": "09f7eb42-2fc1-490b-a2df-1fbe053f8507",
        "trusted": true
      },
      "outputs": [
        {
          "name": "stdout",
          "output_type": "stream",
          "text": [
            "preprocessing train...\n",
            "language: te\n",
            "train sequence lengths:\n",
            "\tmean : 10\n",
            "\t95percentile : 21\n",
            "\t99percentile : 33\n"
          ]
        },
        {
          "data": {
            "text/html": [
              "\n",
              "<style>\n",
              "    /* Turns off some styling */\n",
              "    progress {\n",
              "        /* gets rid of default border in Firefox and Opera. */\n",
              "        border: none;\n",
              "        /* Needs to be in here for Safari polyfill so background images work as expected. */\n",
              "        background-size: auto;\n",
              "    }\n",
              "    progress:not([value]), progress:not([value])::-webkit-progress-bar {\n",
              "        background: repeating-linear-gradient(45deg, #7e7e7e, #7e7e7e 10px, #5c5c5c 10px, #5c5c5c 20px);\n",
              "    }\n",
              "    .progress-bar-interrupted, .progress-bar-interrupted::-webkit-progress-bar {\n",
              "        background: #F44336;\n",
              "    }\n",
              "</style>\n"
            ],
            "text/plain": [
              "<IPython.core.display.HTML object>"
            ]
          },
          "metadata": {},
          "output_type": "display_data"
        },
        {
          "data": {
            "text/html": [],
            "text/plain": [
              "<IPython.core.display.HTML object>"
            ]
          },
          "metadata": {},
          "output_type": "display_data"
        },
        {
          "name": "stdout",
          "output_type": "stream",
          "text": [
            "Is Multi-Label? False\n",
            "preprocessing test...\n",
            "language: te\n",
            "test sequence lengths:\n",
            "\tmean : 7\n",
            "\t95percentile : 13\n",
            "\t99percentile : 16\n"
          ]
        },
        {
          "data": {
            "text/html": [
              "\n",
              "<style>\n",
              "    /* Turns off some styling */\n",
              "    progress {\n",
              "        /* gets rid of default border in Firefox and Opera. */\n",
              "        border: none;\n",
              "        /* Needs to be in here for Safari polyfill so background images work as expected. */\n",
              "        background-size: auto;\n",
              "    }\n",
              "    progress:not([value]), progress:not([value])::-webkit-progress-bar {\n",
              "        background: repeating-linear-gradient(45deg, #7e7e7e, #7e7e7e 10px, #5c5c5c 10px, #5c5c5c 20px);\n",
              "    }\n",
              "    .progress-bar-interrupted, .progress-bar-interrupted::-webkit-progress-bar {\n",
              "        background: #F44336;\n",
              "    }\n",
              "</style>\n"
            ],
            "text/plain": [
              "<IPython.core.display.HTML object>"
            ]
          },
          "metadata": {},
          "output_type": "display_data"
        },
        {
          "data": {
            "text/html": [],
            "text/plain": [
              "<IPython.core.display.HTML object>"
            ]
          },
          "metadata": {},
          "output_type": "display_data"
        }
      ],
      "source": [
        "train = trans.preprocess_train(train_df['cleanText'].tolist(), train_df['enc_label'].tolist())\n",
        "test = trans.preprocess_test(X_test, y_data_with_label)\n",
        "model = trans.get_classifier()\n",
        "CasedmBertlearner = ktrain.get_learner(model, train_data=train,val_data=test, batch_size=16)"
      ]
    },
    {
      "cell_type": "code",
      "execution_count": null,
      "metadata": {
        "execution": {
          "iopub.status.busy": "2023-12-04T01:40:12.886408Z",
          "iopub.status.idle": "2023-12-04T01:40:12.886845Z",
          "shell.execute_reply": "2023-12-04T01:40:12.886641Z",
          "shell.execute_reply.started": "2023-12-04T01:40:12.886619Z"
        },
        "id": "VP5YMm9D53_f",
        "trusted": true
      },
      "outputs": [],
      "source": [
        "# CasedmBertlearner.lr_find(show_plot = True,max_epochs=10)"
      ]
    },
    {
      "cell_type": "code",
      "execution_count": null,
      "metadata": {
        "colab": {
          "base_uri": "https://localhost:8080/"
        },
        "execution": {
          "iopub.execute_input": "2023-12-10T06:54:29.047229Z",
          "iopub.status.busy": "2023-12-10T06:54:29.046692Z",
          "iopub.status.idle": "2023-12-10T07:05:14.225721Z",
          "shell.execute_reply": "2023-12-10T07:05:14.224702Z",
          "shell.execute_reply.started": "2023-12-10T06:54:29.047185Z"
        },
        "id": "tg_4uWrZ53_g",
        "outputId": "8e3c3bf0-4823-4da5-b075-ea2da9bfc955",
        "trusted": true
      },
      "outputs": [
        {
          "name": "stdout",
          "output_type": "stream",
          "text": [
            "\n",
            "\n",
            "begin training using onecycle policy with max lr of 1e-05...\n",
            "Epoch 1/10\n",
            "250/250 [==============================] - 87s 251ms/step - loss: 0.6647 - accuracy: 0.6020 - val_loss: 0.7843 - val_accuracy: 0.4140\n",
            "Epoch 2/10\n",
            "250/250 [==============================] - 59s 234ms/step - loss: 0.5792 - accuracy: 0.6990 - val_loss: 0.7263 - val_accuracy: 0.5940\n",
            "Epoch 3/10\n",
            "250/250 [==============================] - 59s 234ms/step - loss: 0.5001 - accuracy: 0.7588 - val_loss: 0.6011 - val_accuracy: 0.6860\n",
            "Epoch 4/10\n",
            "250/250 [==============================] - 59s 234ms/step - loss: 0.4126 - accuracy: 0.8165 - val_loss: 0.8348 - val_accuracy: 0.6000\n",
            "Epoch 5/10\n",
            "250/250 [==============================] - 58s 234ms/step - loss: 0.3194 - accuracy: 0.8620 - val_loss: 0.6973 - val_accuracy: 0.7140\n",
            "Epoch 6/10\n",
            "250/250 [==============================] - 58s 234ms/step - loss: 0.2344 - accuracy: 0.9082 - val_loss: 0.9039 - val_accuracy: 0.6700\n",
            "Epoch 7/10\n",
            "250/250 [==============================] - 59s 234ms/step - loss: 0.1433 - accuracy: 0.9465 - val_loss: 0.9420 - val_accuracy: 0.7140\n",
            "Epoch 8/10\n",
            "250/250 [==============================] - 58s 234ms/step - loss: 0.0905 - accuracy: 0.9690 - val_loss: 1.1401 - val_accuracy: 0.6860\n",
            "Epoch 9/10\n",
            "250/250 [==============================] - 59s 234ms/step - loss: 0.0631 - accuracy: 0.9827 - val_loss: 1.2528 - val_accuracy: 0.6780\n",
            "Epoch 10/10\n",
            "250/250 [==============================] - 59s 234ms/step - loss: 0.0457 - accuracy: 0.9868 - val_loss: 1.2298 - val_accuracy: 0.6900\n"
          ]
        },
        {
          "data": {
            "text/plain": [
              "<keras.src.callbacks.History at 0x7b236babc7f0>"
            ]
          },
          "execution_count": 39,
          "metadata": {},
          "output_type": "execute_result"
        }
      ],
      "source": [
        "CasedmBertlearner.fit_onecycle(3e-5,10)"
      ]
    },
    {
      "cell_type": "code",
      "execution_count": null,
      "metadata": {
        "execution": {
          "iopub.execute_input": "2023-12-10T07:05:21.215430Z",
          "iopub.status.busy": "2023-12-10T07:05:21.215071Z",
          "iopub.status.idle": "2023-12-10T07:05:22.918359Z",
          "shell.execute_reply": "2023-12-10T07:05:22.917384Z",
          "shell.execute_reply.started": "2023-12-10T07:05:21.215396Z"
        },
        "id": "AncG3TVX53_g",
        "outputId": "7a19fc0a-077a-48af-f0f9-52e6abb9d072",
        "trusted": true
      },
      "outputs": [
        {
          "name": "stdout",
          "output_type": "stream",
          "text": [
            "16/16 [==============================] - 2s 94ms/step\n",
            "              precision    recall  f1-score   support\n",
            "\n",
            "        hate       0.68      0.70      0.69       250\n",
            "    non-hate       0.70      0.68      0.69       250\n",
            "\n",
            "    accuracy                           0.69       500\n",
            "   macro avg       0.69      0.69      0.69       500\n",
            "weighted avg       0.69      0.69      0.69       500\n",
            "\n"
          ]
        },
        {
          "data": {
            "text/plain": [
              "array([[176,  74],\n",
              "       [ 81, 169]])"
            ]
          },
          "execution_count": 43,
          "metadata": {},
          "output_type": "execute_result"
        }
      ],
      "source": [
        "CasedmBertlearner.validate(class_names=categories)"
      ]
    },
    {
      "cell_type": "code",
      "execution_count": null,
      "metadata": {
        "execution": {
          "iopub.execute_input": "2023-12-10T07:05:44.419920Z",
          "iopub.status.busy": "2023-12-10T07:05:44.419274Z",
          "iopub.status.idle": "2023-12-10T07:05:46.256735Z",
          "shell.execute_reply": "2023-12-10T07:05:46.255661Z",
          "shell.execute_reply.started": "2023-12-10T07:05:44.419891Z"
        },
        "id": "zZ-vbH3M53_h",
        "jupyter": {
          "source_hidden": true
        },
        "trusted": true
      },
      "outputs": [],
      "source": [
        "predictor = ktrain.get_predictor(CasedmBertlearner.model, preproc=trans)\n",
        "y_pred = predictor.predict(X_test)"
      ]
    },
    {
      "cell_type": "markdown",
      "metadata": {
        "id": "6paYwL3y53_i"
      },
      "source": [
        "# Ktrain XLMR"
      ]
    },
    {
      "cell_type": "code",
      "execution_count": null,
      "metadata": {
        "colab": {
          "referenced_widgets": [
            "5f7cd72b9b294035837c66e381c471f4",
            "b5db9294beac45dfb79e0a0c228e8c6d",
            "4caccf3d3d03454abc939f37160b2b86",
            "64dbd14029244023907ecff75270329c"
          ]
        },
        "execution": {
          "iopub.execute_input": "2023-12-10T07:06:51.818436Z",
          "iopub.status.busy": "2023-12-10T07:06:51.818039Z",
          "iopub.status.idle": "2023-12-10T07:07:13.837162Z",
          "shell.execute_reply": "2023-12-10T07:07:13.836251Z",
          "shell.execute_reply.started": "2023-12-10T07:06:51.818406Z"
        },
        "id": "N6JwTmwc53_i",
        "outputId": "99cf5002-b0f2-46f8-e44c-bbaeef4f1a6c",
        "trusted": true
      },
      "outputs": [
        {
          "data": {
            "application/vnd.jupyter.widget-view+json": {
              "model_id": "5f7cd72b9b294035837c66e381c471f4",
              "version_major": 2,
              "version_minor": 0
            },
            "text/plain": [
              "Downloading config.json:   0%|          | 0.00/615 [00:00<?, ?B/s]"
            ]
          },
          "metadata": {},
          "output_type": "display_data"
        },
        {
          "data": {
            "application/vnd.jupyter.widget-view+json": {
              "model_id": "b5db9294beac45dfb79e0a0c228e8c6d",
              "version_major": 2,
              "version_minor": 0
            },
            "text/plain": [
              "Downloading config.json:   0%|          | 0.00/512 [00:00<?, ?B/s]"
            ]
          },
          "metadata": {},
          "output_type": "display_data"
        },
        {
          "data": {
            "application/vnd.jupyter.widget-view+json": {
              "model_id": "4caccf3d3d03454abc939f37160b2b86",
              "version_major": 2,
              "version_minor": 0
            },
            "text/plain": [
              "Downloading tf_model.h5:   0%|          | 0.00/1.89G [00:00<?, ?B/s]"
            ]
          },
          "metadata": {},
          "output_type": "display_data"
        },
        {
          "name": "stdout",
          "output_type": "stream",
          "text": [
            "preprocessing train...\n",
            "language: en\n",
            "train sequence lengths:\n",
            "\tmean : 10\n",
            "\t95percentile : 21\n",
            "\t99percentile : 33\n"
          ]
        },
        {
          "data": {
            "application/vnd.jupyter.widget-view+json": {
              "model_id": "64dbd14029244023907ecff75270329c",
              "version_major": 2,
              "version_minor": 0
            },
            "text/plain": [
              "Downloading (…)tencepiece.bpe.model:   0%|          | 0.00/5.07M [00:00<?, ?B/s]"
            ]
          },
          "metadata": {},
          "output_type": "display_data"
        },
        {
          "data": {
            "text/html": [
              "\n",
              "<style>\n",
              "    /* Turns off some styling */\n",
              "    progress {\n",
              "        /* gets rid of default border in Firefox and Opera. */\n",
              "        border: none;\n",
              "        /* Needs to be in here for Safari polyfill so background images work as expected. */\n",
              "        background-size: auto;\n",
              "    }\n",
              "    progress:not([value]), progress:not([value])::-webkit-progress-bar {\n",
              "        background: repeating-linear-gradient(45deg, #7e7e7e, #7e7e7e 10px, #5c5c5c 10px, #5c5c5c 20px);\n",
              "    }\n",
              "    .progress-bar-interrupted, .progress-bar-interrupted::-webkit-progress-bar {\n",
              "        background: #F44336;\n",
              "    }\n",
              "</style>\n"
            ],
            "text/plain": [
              "<IPython.core.display.HTML object>"
            ]
          },
          "metadata": {},
          "output_type": "display_data"
        },
        {
          "data": {
            "text/html": [],
            "text/plain": [
              "<IPython.core.display.HTML object>"
            ]
          },
          "metadata": {},
          "output_type": "display_data"
        },
        {
          "name": "stdout",
          "output_type": "stream",
          "text": [
            "Is Multi-Label? False\n",
            "preprocessing test...\n",
            "language: en\n",
            "test sequence lengths:\n",
            "\tmean : 7\n",
            "\t95percentile : 13\n",
            "\t99percentile : 16\n"
          ]
        },
        {
          "data": {
            "text/html": [
              "\n",
              "<style>\n",
              "    /* Turns off some styling */\n",
              "    progress {\n",
              "        /* gets rid of default border in Firefox and Opera. */\n",
              "        border: none;\n",
              "        /* Needs to be in here for Safari polyfill so background images work as expected. */\n",
              "        background-size: auto;\n",
              "    }\n",
              "    progress:not([value]), progress:not([value])::-webkit-progress-bar {\n",
              "        background: repeating-linear-gradient(45deg, #7e7e7e, #7e7e7e 10px, #5c5c5c 10px, #5c5c5c 20px);\n",
              "    }\n",
              "    .progress-bar-interrupted, .progress-bar-interrupted::-webkit-progress-bar {\n",
              "        background: #F44336;\n",
              "    }\n",
              "</style>\n"
            ],
            "text/plain": [
              "<IPython.core.display.HTML object>"
            ]
          },
          "metadata": {},
          "output_type": "display_data"
        },
        {
          "data": {
            "text/html": [],
            "text/plain": [
              "<IPython.core.display.HTML object>"
            ]
          },
          "metadata": {},
          "output_type": "display_data"
        }
      ],
      "source": [
        "model_name = 'xlm-roberta-base'\n",
        "trans = text.Transformer(model_name,maxlen=100,class_names=categories)\n",
        "train = trans.preprocess_train(train_df['cleanText'].tolist(), train_df['enc_label'].tolist())\n",
        "test = trans.preprocess_test(X_test, y_data_with_label)\n",
        "model = trans.get_classifier()\n",
        "XLlearner = ktrain.get_learner(model, train_data=train,val_data=test, batch_size=16)"
      ]
    },
    {
      "cell_type": "code",
      "execution_count": null,
      "metadata": {
        "execution": {
          "iopub.status.busy": "2023-12-04T01:40:12.897092Z",
          "iopub.status.idle": "2023-12-04T01:40:12.897589Z",
          "shell.execute_reply": "2023-12-04T01:40:12.897321Z",
          "shell.execute_reply.started": "2023-12-04T01:40:12.897300Z"
        },
        "id": "dkomN_cR53_i",
        "trusted": true
      },
      "outputs": [],
      "source": [
        "XLlearner.lr_find(show_plot = True,max_epochs=10)"
      ]
    },
    {
      "cell_type": "code",
      "execution_count": null,
      "metadata": {
        "execution": {
          "iopub.execute_input": "2023-12-10T07:07:13.864362Z",
          "iopub.status.busy": "2023-12-10T07:07:13.863960Z",
          "iopub.status.idle": "2023-12-10T07:18:18.675666Z",
          "shell.execute_reply": "2023-12-10T07:18:18.674840Z",
          "shell.execute_reply.started": "2023-12-10T07:07:13.864332Z"
        },
        "id": "IVnz6rQ553_j",
        "outputId": "ad6f4e50-8ad0-4033-ae38-3db50bbb1b17",
        "trusted": true
      },
      "outputs": [
        {
          "name": "stdout",
          "output_type": "stream",
          "text": [
            "\n",
            "\n",
            "begin training using onecycle policy with max lr of 1e-05...\n",
            "Epoch 1/10\n",
            "250/250 [==============================] - 90s 272ms/step - loss: 0.6669 - accuracy: 0.6030 - val_loss: 0.7457 - val_accuracy: 0.4860\n",
            "Epoch 2/10\n",
            "250/250 [==============================] - 64s 256ms/step - loss: 0.5913 - accuracy: 0.6890 - val_loss: 0.6905 - val_accuracy: 0.5460\n",
            "Epoch 3/10\n",
            "250/250 [==============================] - 64s 255ms/step - loss: 0.5311 - accuracy: 0.7350 - val_loss: 0.5722 - val_accuracy: 0.7080\n",
            "Epoch 4/10\n",
            "250/250 [==============================] - 64s 255ms/step - loss: 0.4924 - accuracy: 0.7648 - val_loss: 0.5981 - val_accuracy: 0.6700\n",
            "Epoch 5/10\n",
            "250/250 [==============================] - 64s 255ms/step - loss: 0.4657 - accuracy: 0.7822 - val_loss: 0.6109 - val_accuracy: 0.6840\n",
            "Epoch 6/10\n",
            "250/250 [==============================] - 64s 255ms/step - loss: 0.3971 - accuracy: 0.8195 - val_loss: 0.6864 - val_accuracy: 0.7100\n",
            "Epoch 7/10\n",
            "250/250 [==============================] - 64s 255ms/step - loss: 0.3347 - accuracy: 0.8572 - val_loss: 0.7321 - val_accuracy: 0.6900\n",
            "Epoch 8/10\n",
            "250/250 [==============================] - 64s 256ms/step - loss: 0.2785 - accuracy: 0.8903 - val_loss: 0.8574 - val_accuracy: 0.7080\n",
            "Epoch 9/10\n",
            "250/250 [==============================] - 64s 255ms/step - loss: 0.2206 - accuracy: 0.9170 - val_loss: 0.7511 - val_accuracy: 0.7300\n",
            "Epoch 10/10\n",
            "250/250 [==============================] - 64s 255ms/step - loss: 0.1848 - accuracy: 0.9317 - val_loss: 0.8938 - val_accuracy: 0.7180\n"
          ]
        },
        {
          "data": {
            "text/plain": [
              "<keras.src.callbacks.History at 0x7b236b90ba00>"
            ]
          },
          "execution_count": 47,
          "metadata": {},
          "output_type": "execute_result"
        }
      ],
      "source": [
        "XLlearner.fit_onecycle(3e-5,10)"
      ]
    },
    {
      "cell_type": "code",
      "execution_count": null,
      "metadata": {
        "execution": {
          "iopub.execute_input": "2023-12-10T07:18:22.246233Z",
          "iopub.status.busy": "2023-12-10T07:18:22.245457Z",
          "iopub.status.idle": "2023-12-10T07:18:26.739723Z",
          "shell.execute_reply": "2023-12-10T07:18:26.738904Z",
          "shell.execute_reply.started": "2023-12-10T07:18:22.246199Z"
        },
        "id": "2ny7kHt253_j",
        "outputId": "9cd43ab0-326e-41a7-f2ad-4bb5c6758bd2",
        "trusted": true
      },
      "outputs": [
        {
          "name": "stdout",
          "output_type": "stream",
          "text": [
            "16/16 [==============================] - 4s 71ms/step\n",
            "              precision    recall  f1-score   support\n",
            "\n",
            "        hate       0.71      0.75      0.73       250\n",
            "    non-hate       0.73      0.69      0.71       250\n",
            "\n",
            "    accuracy                           0.72       500\n",
            "   macro avg       0.72      0.72      0.72       500\n",
            "weighted avg       0.72      0.72      0.72       500\n",
            "\n"
          ]
        },
        {
          "data": {
            "text/plain": [
              "array([[187,  63],\n",
              "       [ 78, 172]])"
            ]
          },
          "execution_count": 48,
          "metadata": {},
          "output_type": "execute_result"
        }
      ],
      "source": [
        "XLlearner.validate(class_names=categories)"
      ]
    },
    {
      "cell_type": "code",
      "execution_count": null,
      "metadata": {
        "execution": {
          "iopub.execute_input": "2023-12-10T07:18:46.072938Z",
          "iopub.status.busy": "2023-12-10T07:18:46.072516Z",
          "iopub.status.idle": "2023-12-10T07:18:47.563310Z",
          "shell.execute_reply": "2023-12-10T07:18:47.561983Z",
          "shell.execute_reply.started": "2023-12-10T07:18:46.072911Z"
        },
        "id": "ME_HiZYj53_j",
        "trusted": true
      },
      "outputs": [],
      "source": [
        "predictor = ktrain.get_predictor(XLlearner.model, preproc=trans)\n",
        "y_pred = predictor.predict(X_test)\n",
        "# y_pred"
      ]
    },
    {
      "cell_type": "markdown",
      "metadata": {
        "id": "nkJ0caVu53_k"
      },
      "source": [
        "# Ktrain DistilmBert"
      ]
    },
    {
      "cell_type": "code",
      "execution_count": null,
      "metadata": {
        "colab": {
          "referenced_widgets": [
            "cc3a271c5f0b43f1b3dd458ade8ea73e",
            "07092145b5d8476baa2e9a86580098d2",
            "8934e96c911f4c2092df0da70322c5ff",
            "2c4caa25f8bd4db7b37f04d40468eb43",
            "13402fb38b2247d19e0e5f6afdcb28ee"
          ]
        },
        "execution": {
          "iopub.execute_input": "2023-12-10T07:19:15.959718Z",
          "iopub.status.busy": "2023-12-10T07:19:15.959312Z",
          "iopub.status.idle": "2023-12-10T07:19:27.173809Z",
          "shell.execute_reply": "2023-12-10T07:19:27.172635Z",
          "shell.execute_reply.started": "2023-12-10T07:19:15.959687Z"
        },
        "id": "gdlYign153_k",
        "outputId": "b7dd2351-ceab-464c-996b-0f82ff1d22bb",
        "trusted": true
      },
      "outputs": [
        {
          "data": {
            "application/vnd.jupyter.widget-view+json": {
              "model_id": "cc3a271c5f0b43f1b3dd458ade8ea73e",
              "version_major": 2,
              "version_minor": 0
            },
            "text/plain": [
              "Downloading config.json:   0%|          | 0.00/466 [00:00<?, ?B/s]"
            ]
          },
          "metadata": {},
          "output_type": "display_data"
        },
        {
          "data": {
            "application/vnd.jupyter.widget-view+json": {
              "model_id": "07092145b5d8476baa2e9a86580098d2",
              "version_major": 2,
              "version_minor": 0
            },
            "text/plain": [
              "Downloading model.safetensors:   0%|          | 0.00/542M [00:00<?, ?B/s]"
            ]
          },
          "metadata": {},
          "output_type": "display_data"
        },
        {
          "name": "stdout",
          "output_type": "stream",
          "text": [
            "preprocessing train...\n",
            "language: en\n",
            "train sequence lengths:\n",
            "\tmean : 10\n",
            "\t95percentile : 21\n",
            "\t99percentile : 33\n"
          ]
        },
        {
          "data": {
            "application/vnd.jupyter.widget-view+json": {
              "model_id": "8934e96c911f4c2092df0da70322c5ff",
              "version_major": 2,
              "version_minor": 0
            },
            "text/plain": [
              "Downloading tokenizer_config.json:   0%|          | 0.00/29.0 [00:00<?, ?B/s]"
            ]
          },
          "metadata": {},
          "output_type": "display_data"
        },
        {
          "data": {
            "application/vnd.jupyter.widget-view+json": {
              "model_id": "2c4caa25f8bd4db7b37f04d40468eb43",
              "version_major": 2,
              "version_minor": 0
            },
            "text/plain": [
              "Downloading vocab.txt:   0%|          | 0.00/996k [00:00<?, ?B/s]"
            ]
          },
          "metadata": {},
          "output_type": "display_data"
        },
        {
          "data": {
            "application/vnd.jupyter.widget-view+json": {
              "model_id": "13402fb38b2247d19e0e5f6afdcb28ee",
              "version_major": 2,
              "version_minor": 0
            },
            "text/plain": [
              "Downloading tokenizer.json:   0%|          | 0.00/1.96M [00:00<?, ?B/s]"
            ]
          },
          "metadata": {},
          "output_type": "display_data"
        },
        {
          "data": {
            "text/html": [
              "\n",
              "<style>\n",
              "    /* Turns off some styling */\n",
              "    progress {\n",
              "        /* gets rid of default border in Firefox and Opera. */\n",
              "        border: none;\n",
              "        /* Needs to be in here for Safari polyfill so background images work as expected. */\n",
              "        background-size: auto;\n",
              "    }\n",
              "    progress:not([value]), progress:not([value])::-webkit-progress-bar {\n",
              "        background: repeating-linear-gradient(45deg, #7e7e7e, #7e7e7e 10px, #5c5c5c 10px, #5c5c5c 20px);\n",
              "    }\n",
              "    .progress-bar-interrupted, .progress-bar-interrupted::-webkit-progress-bar {\n",
              "        background: #F44336;\n",
              "    }\n",
              "</style>\n"
            ],
            "text/plain": [
              "<IPython.core.display.HTML object>"
            ]
          },
          "metadata": {},
          "output_type": "display_data"
        },
        {
          "data": {
            "text/html": [],
            "text/plain": [
              "<IPython.core.display.HTML object>"
            ]
          },
          "metadata": {},
          "output_type": "display_data"
        },
        {
          "name": "stdout",
          "output_type": "stream",
          "text": [
            "Is Multi-Label? False\n",
            "preprocessing test...\n",
            "language: en\n",
            "test sequence lengths:\n",
            "\tmean : 7\n",
            "\t95percentile : 13\n",
            "\t99percentile : 16\n"
          ]
        },
        {
          "data": {
            "text/html": [
              "\n",
              "<style>\n",
              "    /* Turns off some styling */\n",
              "    progress {\n",
              "        /* gets rid of default border in Firefox and Opera. */\n",
              "        border: none;\n",
              "        /* Needs to be in here for Safari polyfill so background images work as expected. */\n",
              "        background-size: auto;\n",
              "    }\n",
              "    progress:not([value]), progress:not([value])::-webkit-progress-bar {\n",
              "        background: repeating-linear-gradient(45deg, #7e7e7e, #7e7e7e 10px, #5c5c5c 10px, #5c5c5c 20px);\n",
              "    }\n",
              "    .progress-bar-interrupted, .progress-bar-interrupted::-webkit-progress-bar {\n",
              "        background: #F44336;\n",
              "    }\n",
              "</style>\n"
            ],
            "text/plain": [
              "<IPython.core.display.HTML object>"
            ]
          },
          "metadata": {},
          "output_type": "display_data"
        },
        {
          "data": {
            "text/html": [],
            "text/plain": [
              "<IPython.core.display.HTML object>"
            ]
          },
          "metadata": {},
          "output_type": "display_data"
        }
      ],
      "source": [
        "model_name = 'distilbert-base-multilingual-cased'\n",
        "trans = text.Transformer(model_name,maxlen=100,class_names=categories)\n",
        "train = trans.preprocess_train(train_df['cleanText'].tolist(), train_df['enc_label'].tolist())\n",
        "test = trans.preprocess_test(X_test, y_data_with_label)\n",
        "model = trans.get_classifier()\n",
        "Distillearner = ktrain.get_learner(model, train_data=train,val_data=test, batch_size=16)"
      ]
    },
    {
      "cell_type": "code",
      "execution_count": null,
      "metadata": {
        "execution": {
          "iopub.status.busy": "2023-12-04T01:40:12.906519Z",
          "iopub.status.idle": "2023-12-04T01:40:12.906822Z",
          "shell.execute_reply": "2023-12-04T01:40:12.906684Z",
          "shell.execute_reply.started": "2023-12-04T01:40:12.906670Z"
        },
        "id": "vC9mLiJa53_l",
        "trusted": true
      },
      "outputs": [],
      "source": [
        "Distillearner.lr_find(show_plot = True,max_epochs=15)"
      ]
    },
    {
      "cell_type": "code",
      "execution_count": null,
      "metadata": {
        "execution": {
          "iopub.execute_input": "2023-12-10T07:19:27.326022Z",
          "iopub.status.busy": "2023-12-10T07:19:27.325111Z",
          "iopub.status.idle": "2023-12-10T07:25:07.406130Z",
          "shell.execute_reply": "2023-12-10T07:25:07.405226Z",
          "shell.execute_reply.started": "2023-12-10T07:19:27.325972Z"
        },
        "id": "h4YOGDt553_l",
        "outputId": "f57193ad-0de9-4c94-b7ef-93b5eb52b36d",
        "trusted": true
      },
      "outputs": [
        {
          "name": "stdout",
          "output_type": "stream",
          "text": [
            "\n",
            "\n",
            "begin training using onecycle policy with max lr of 1e-05...\n",
            "Epoch 1/10\n",
            "250/250 [==============================] - 46s 140ms/step - loss: 0.6451 - accuracy: 0.6330 - val_loss: 0.7364 - val_accuracy: 0.4820\n",
            "Epoch 2/10\n",
            "250/250 [==============================] - 33s 131ms/step - loss: 0.5459 - accuracy: 0.7303 - val_loss: 0.7180 - val_accuracy: 0.5960\n",
            "Epoch 3/10\n",
            "250/250 [==============================] - 33s 130ms/step - loss: 0.4477 - accuracy: 0.7930 - val_loss: 0.7408 - val_accuracy: 0.6320\n",
            "Epoch 4/10\n",
            "250/250 [==============================] - 33s 130ms/step - loss: 0.3794 - accuracy: 0.8365 - val_loss: 0.6946 - val_accuracy: 0.6680\n",
            "Epoch 5/10\n",
            "250/250 [==============================] - 33s 131ms/step - loss: 0.2862 - accuracy: 0.8840 - val_loss: 0.7152 - val_accuracy: 0.7020\n",
            "Epoch 6/10\n",
            "250/250 [==============================] - 33s 130ms/step - loss: 0.2029 - accuracy: 0.9200 - val_loss: 0.8195 - val_accuracy: 0.6800\n",
            "Epoch 7/10\n",
            "250/250 [==============================] - 33s 131ms/step - loss: 0.1206 - accuracy: 0.9600 - val_loss: 1.0927 - val_accuracy: 0.6600\n",
            "Epoch 8/10\n",
            "250/250 [==============================] - 33s 131ms/step - loss: 0.0866 - accuracy: 0.9728 - val_loss: 1.2232 - val_accuracy: 0.6640\n",
            "Epoch 9/10\n",
            "250/250 [==============================] - 33s 131ms/step - loss: 0.0553 - accuracy: 0.9820 - val_loss: 1.2829 - val_accuracy: 0.6640\n",
            "Epoch 10/10\n",
            "250/250 [==============================] - 33s 130ms/step - loss: 0.0438 - accuracy: 0.9880 - val_loss: 1.3067 - val_accuracy: 0.6700\n"
          ]
        },
        {
          "data": {
            "text/plain": [
              "<keras.src.callbacks.History at 0x7b236b433220>"
            ]
          },
          "execution_count": 52,
          "metadata": {},
          "output_type": "execute_result"
        }
      ],
      "source": [
        "Distillearner.fit_onecycle(3e-5,10)"
      ]
    },
    {
      "cell_type": "code",
      "execution_count": null,
      "metadata": {
        "execution": {
          "iopub.execute_input": "2023-12-10T07:36:00.597407Z",
          "iopub.status.busy": "2023-12-10T07:36:00.596609Z",
          "iopub.status.idle": "2023-12-10T07:36:03.220547Z",
          "shell.execute_reply": "2023-12-10T07:36:03.219621Z",
          "shell.execute_reply.started": "2023-12-10T07:36:00.597363Z"
        },
        "id": "9Bu_frxa53_l",
        "outputId": "ed964a10-878c-4ad1-82bb-affdc9617529",
        "trusted": true
      },
      "outputs": [
        {
          "name": "stdout",
          "output_type": "stream",
          "text": [
            "16/16 [==============================] - 2s 49ms/step\n",
            "              precision    recall  f1-score   support\n",
            "\n",
            "        hate       0.67      0.68      0.67       250\n",
            "    non-hate       0.67      0.66      0.67       250\n",
            "\n",
            "    accuracy                           0.67       500\n",
            "   macro avg       0.67      0.67      0.67       500\n",
            "weighted avg       0.67      0.67      0.67       500\n",
            "\n"
          ]
        },
        {
          "data": {
            "text/plain": [
              "array([[170,  80],\n",
              "       [ 85, 165]])"
            ]
          },
          "execution_count": 54,
          "metadata": {},
          "output_type": "execute_result"
        }
      ],
      "source": [
        "Distillearner.validate(class_names=categories)"
      ]
    },
    {
      "cell_type": "code",
      "execution_count": null,
      "metadata": {
        "execution": {
          "iopub.status.busy": "2023-12-04T01:40:12.912809Z",
          "iopub.status.idle": "2023-12-04T01:40:12.913147Z",
          "shell.execute_reply": "2023-12-04T01:40:12.912994Z",
          "shell.execute_reply.started": "2023-12-04T01:40:12.912978Z"
        },
        "id": "ORwYAlI753_m",
        "trusted": true
      },
      "outputs": [],
      "source": [
        "predictor = ktrain.get_predictor(XLlearner.model, preproc=trans)\n",
        "y_pred = predictor.predict(X_test)"
      ]
    },
    {
      "cell_type": "code",
      "execution_count": null,
      "metadata": {
        "id": "c4g1qlDpQkxj"
      },
      "outputs": [],
      "source": [
        "from sklearn.metrics import accuracy_score, classification_report\n",
        "accuracy = accuracy_score(test_with_label['label'], y_pred)\n",
        "report = classification_report(test_with_label['label'], y_pred)\n",
        "print(f\"Accuracy: {accuracy}\")\n",
        "print(\"Classification Report:\")\n",
        "print(report)"
      ]
    },
    {
      "cell_type": "markdown",
      "metadata": {
        "id": "DG3tcNbW53_m"
      },
      "source": [
        "# Ktrain mBert Uncased"
      ]
    },
    {
      "cell_type": "code",
      "execution_count": null,
      "metadata": {
        "colab": {
          "referenced_widgets": [
            "6ea838633e714beb948a41f732d3d29a",
            "9b4e9ca129c944ff9a64a628c47f9024",
            "06d9165c48974f75a0af6c570274c376",
            "1f5103c38bf343c6930346577f8446d5",
            "1122d0a2b7fc457d8ee4f3bb5df5c04a"
          ]
        },
        "execution": {
          "iopub.execute_input": "2023-12-10T07:37:10.716555Z",
          "iopub.status.busy": "2023-12-10T07:37:10.716164Z",
          "iopub.status.idle": "2023-12-10T07:37:24.907809Z",
          "shell.execute_reply": "2023-12-10T07:37:24.906830Z",
          "shell.execute_reply.started": "2023-12-10T07:37:10.716524Z"
        },
        "id": "IVtAuToe53_n",
        "outputId": "cb810341-6cba-4d8f-bea7-420e56d19cba",
        "trusted": true
      },
      "outputs": [
        {
          "data": {
            "application/vnd.jupyter.widget-view+json": {
              "model_id": "6ea838633e714beb948a41f732d3d29a",
              "version_major": 2,
              "version_minor": 0
            },
            "text/plain": [
              "Downloading config.json:   0%|          | 0.00/625 [00:00<?, ?B/s]"
            ]
          },
          "metadata": {},
          "output_type": "display_data"
        },
        {
          "data": {
            "application/vnd.jupyter.widget-view+json": {
              "model_id": "9b4e9ca129c944ff9a64a628c47f9024",
              "version_major": 2,
              "version_minor": 0
            },
            "text/plain": [
              "Downloading model.safetensors:   0%|          | 0.00/672M [00:00<?, ?B/s]"
            ]
          },
          "metadata": {},
          "output_type": "display_data"
        },
        {
          "name": "stdout",
          "output_type": "stream",
          "text": [
            "preprocessing train...\n",
            "language: en\n",
            "train sequence lengths:\n",
            "\tmean : 10\n",
            "\t95percentile : 21\n",
            "\t99percentile : 33\n"
          ]
        },
        {
          "data": {
            "application/vnd.jupyter.widget-view+json": {
              "model_id": "06d9165c48974f75a0af6c570274c376",
              "version_major": 2,
              "version_minor": 0
            },
            "text/plain": [
              "Downloading tokenizer_config.json:   0%|          | 0.00/28.0 [00:00<?, ?B/s]"
            ]
          },
          "metadata": {},
          "output_type": "display_data"
        },
        {
          "data": {
            "application/vnd.jupyter.widget-view+json": {
              "model_id": "1f5103c38bf343c6930346577f8446d5",
              "version_major": 2,
              "version_minor": 0
            },
            "text/plain": [
              "Downloading vocab.txt:   0%|          | 0.00/872k [00:00<?, ?B/s]"
            ]
          },
          "metadata": {},
          "output_type": "display_data"
        },
        {
          "data": {
            "application/vnd.jupyter.widget-view+json": {
              "model_id": "1122d0a2b7fc457d8ee4f3bb5df5c04a",
              "version_major": 2,
              "version_minor": 0
            },
            "text/plain": [
              "Downloading tokenizer.json:   0%|          | 0.00/1.72M [00:00<?, ?B/s]"
            ]
          },
          "metadata": {},
          "output_type": "display_data"
        },
        {
          "data": {
            "text/html": [
              "\n",
              "<style>\n",
              "    /* Turns off some styling */\n",
              "    progress {\n",
              "        /* gets rid of default border in Firefox and Opera. */\n",
              "        border: none;\n",
              "        /* Needs to be in here for Safari polyfill so background images work as expected. */\n",
              "        background-size: auto;\n",
              "    }\n",
              "    progress:not([value]), progress:not([value])::-webkit-progress-bar {\n",
              "        background: repeating-linear-gradient(45deg, #7e7e7e, #7e7e7e 10px, #5c5c5c 10px, #5c5c5c 20px);\n",
              "    }\n",
              "    .progress-bar-interrupted, .progress-bar-interrupted::-webkit-progress-bar {\n",
              "        background: #F44336;\n",
              "    }\n",
              "</style>\n"
            ],
            "text/plain": [
              "<IPython.core.display.HTML object>"
            ]
          },
          "metadata": {},
          "output_type": "display_data"
        },
        {
          "data": {
            "text/html": [],
            "text/plain": [
              "<IPython.core.display.HTML object>"
            ]
          },
          "metadata": {},
          "output_type": "display_data"
        },
        {
          "name": "stdout",
          "output_type": "stream",
          "text": [
            "Is Multi-Label? False\n",
            "preprocessing test...\n",
            "language: en\n",
            "test sequence lengths:\n",
            "\tmean : 7\n",
            "\t95percentile : 13\n",
            "\t99percentile : 16\n"
          ]
        },
        {
          "data": {
            "text/html": [
              "\n",
              "<style>\n",
              "    /* Turns off some styling */\n",
              "    progress {\n",
              "        /* gets rid of default border in Firefox and Opera. */\n",
              "        border: none;\n",
              "        /* Needs to be in here for Safari polyfill so background images work as expected. */\n",
              "        background-size: auto;\n",
              "    }\n",
              "    progress:not([value]), progress:not([value])::-webkit-progress-bar {\n",
              "        background: repeating-linear-gradient(45deg, #7e7e7e, #7e7e7e 10px, #5c5c5c 10px, #5c5c5c 20px);\n",
              "    }\n",
              "    .progress-bar-interrupted, .progress-bar-interrupted::-webkit-progress-bar {\n",
              "        background: #F44336;\n",
              "    }\n",
              "</style>\n"
            ],
            "text/plain": [
              "<IPython.core.display.HTML object>"
            ]
          },
          "metadata": {},
          "output_type": "display_data"
        },
        {
          "data": {
            "text/html": [],
            "text/plain": [
              "<IPython.core.display.HTML object>"
            ]
          },
          "metadata": {},
          "output_type": "display_data"
        }
      ],
      "source": [
        "model_name = 'bert-base-multilingual-uncased'\n",
        "trans = text.Transformer(model_name,maxlen=100,class_names=categories)\n",
        "train = trans.preprocess_train(train_df['cleanText'].tolist(), train_df['enc_label'].tolist())\n",
        "test = trans.preprocess_test(X_test, y_data_with_label)\n",
        "model = trans.get_classifier()\n",
        "mBertUncasedLearner = ktrain.get_learner(model, train_data=train,val_data=test, batch_size=16)"
      ]
    },
    {
      "cell_type": "code",
      "execution_count": null,
      "metadata": {
        "execution": {
          "iopub.status.busy": "2023-12-04T01:40:12.916103Z",
          "iopub.status.idle": "2023-12-04T01:40:12.916468Z",
          "shell.execute_reply": "2023-12-04T01:40:12.916288Z",
          "shell.execute_reply.started": "2023-12-04T01:40:12.916273Z"
        },
        "id": "6S5ZcHYP53_n",
        "trusted": true
      },
      "outputs": [],
      "source": [
        "mBertUncasedLearner.lr_find(show_plot = True,max_epochs=10)"
      ]
    },
    {
      "cell_type": "code",
      "execution_count": null,
      "metadata": {
        "execution": {
          "iopub.execute_input": "2023-12-10T07:37:39.454825Z",
          "iopub.status.busy": "2023-12-10T07:37:39.453449Z",
          "iopub.status.idle": "2023-12-10T07:47:39.739963Z",
          "shell.execute_reply": "2023-12-10T07:47:39.738991Z",
          "shell.execute_reply.started": "2023-12-10T07:37:39.454773Z"
        },
        "id": "AmqNoW0A53_n",
        "outputId": "2beaa593-41b4-47fc-8faf-b8f352e06480",
        "trusted": true
      },
      "outputs": [
        {
          "name": "stdout",
          "output_type": "stream",
          "text": [
            "\n",
            "\n",
            "begin training using onecycle policy with max lr of 1e-05...\n",
            "Epoch 1/10\n",
            "250/250 [==============================] - 81s 246ms/step - loss: 0.6446 - accuracy: 0.6205 - val_loss: 0.7717 - val_accuracy: 0.5240\n",
            "Epoch 2/10\n",
            "250/250 [==============================] - 58s 231ms/step - loss: 0.5361 - accuracy: 0.7260 - val_loss: 0.6612 - val_accuracy: 0.6380\n",
            "Epoch 3/10\n",
            "250/250 [==============================] - 58s 231ms/step - loss: 0.4413 - accuracy: 0.7933 - val_loss: 0.6860 - val_accuracy: 0.6360\n",
            "Epoch 4/10\n",
            "250/250 [==============================] - 58s 231ms/step - loss: 0.3387 - accuracy: 0.8550 - val_loss: 0.9592 - val_accuracy: 0.6160\n",
            "Epoch 5/10\n",
            "250/250 [==============================] - 58s 230ms/step - loss: 0.2607 - accuracy: 0.8920 - val_loss: 0.9953 - val_accuracy: 0.6520\n",
            "Epoch 6/10\n",
            "250/250 [==============================] - 58s 231ms/step - loss: 0.1729 - accuracy: 0.9348 - val_loss: 0.9448 - val_accuracy: 0.6660\n",
            "Epoch 7/10\n",
            "250/250 [==============================] - 58s 231ms/step - loss: 0.1048 - accuracy: 0.9615 - val_loss: 0.9309 - val_accuracy: 0.7280\n",
            "Epoch 8/10\n",
            "250/250 [==============================] - 58s 231ms/step - loss: 0.0623 - accuracy: 0.9808 - val_loss: 1.2660 - val_accuracy: 0.6620\n",
            "Epoch 9/10\n",
            "250/250 [==============================] - 58s 231ms/step - loss: 0.0420 - accuracy: 0.9862 - val_loss: 1.4176 - val_accuracy: 0.6560\n",
            "Epoch 10/10\n",
            "250/250 [==============================] - 58s 231ms/step - loss: 0.0282 - accuracy: 0.9905 - val_loss: 1.4342 - val_accuracy: 0.6500\n"
          ]
        },
        {
          "data": {
            "text/plain": [
              "<keras.src.callbacks.History at 0x7b236b90b730>"
            ]
          },
          "execution_count": 56,
          "metadata": {},
          "output_type": "execute_result"
        }
      ],
      "source": [
        "mBertUncasedLearner.fit_onecycle(3e-5,10)"
      ]
    },
    {
      "cell_type": "code",
      "execution_count": null,
      "metadata": {
        "execution": {
          "iopub.execute_input": "2023-12-10T07:47:39.741798Z",
          "iopub.status.busy": "2023-12-10T07:47:39.741510Z",
          "iopub.status.idle": "2023-12-10T07:47:44.436359Z",
          "shell.execute_reply": "2023-12-10T07:47:44.435428Z",
          "shell.execute_reply.started": "2023-12-10T07:47:39.741773Z"
        },
        "id": "JykVORpp53_n",
        "outputId": "e8e95d64-2d99-4187-e580-b2c35764149a",
        "trusted": true
      },
      "outputs": [
        {
          "name": "stdout",
          "output_type": "stream",
          "text": [
            "16/16 [==============================] - 5s 77ms/step\n",
            "              precision    recall  f1-score   support\n",
            "\n",
            "        hate       0.63      0.71      0.67       250\n",
            "    non-hate       0.67      0.59      0.63       250\n",
            "\n",
            "    accuracy                           0.65       500\n",
            "   macro avg       0.65      0.65      0.65       500\n",
            "weighted avg       0.65      0.65      0.65       500\n",
            "\n"
          ]
        },
        {
          "data": {
            "text/plain": [
              "array([[177,  73],\n",
              "       [102, 148]])"
            ]
          },
          "execution_count": 57,
          "metadata": {},
          "output_type": "execute_result"
        }
      ],
      "source": [
        "mBertUncasedLearner.validate(class_names=categories)"
      ]
    },
    {
      "cell_type": "code",
      "execution_count": null,
      "metadata": {
        "execution": {
          "iopub.status.busy": "2023-12-04T01:40:12.920668Z",
          "iopub.status.idle": "2023-12-04T01:40:12.920967Z",
          "shell.execute_reply": "2023-12-04T01:40:12.920831Z",
          "shell.execute_reply.started": "2023-12-04T01:40:12.920817Z"
        },
        "id": "ULLB0TN453_o",
        "trusted": true
      },
      "outputs": [],
      "source": [
        "predictor = ktrain.get_predictor(XLlearner.model, preproc=trans)\n",
        "y_pred = predictor.predict(X_test)"
      ]
    },
    {
      "cell_type": "markdown",
      "metadata": {
        "id": "64F6_rRR53_o"
      },
      "source": [
        "# Ktrain MuRIL"
      ]
    },
    {
      "cell_type": "code",
      "execution_count": 91,
      "metadata": {
        "colab": {
          "base_uri": "https://localhost:8080/",
          "height": 243
        },
        "execution": {
          "iopub.execute_input": "2023-12-10T07:47:44.437656Z",
          "iopub.status.busy": "2023-12-10T07:47:44.437395Z",
          "iopub.status.idle": "2023-12-10T07:48:22.277714Z",
          "shell.execute_reply": "2023-12-10T07:48:22.276843Z",
          "shell.execute_reply.started": "2023-12-10T07:47:44.437633Z"
        },
        "id": "FSP3NScK53_o",
        "outputId": "bfc995e6-783e-49f1-93ba-827bd3858a79",
        "trusted": true
      },
      "outputs": [
        {
          "name": "stdout",
          "output_type": "stream",
          "text": [
            "preprocessing train...\n",
            "language: en\n",
            "train sequence lengths:\n",
            "\tmean : 10\n",
            "\t95percentile : 21\n",
            "\t99percentile : 33\n"
          ]
        },
        {
          "data": {
            "text/html": [
              "\n",
              "<style>\n",
              "    /* Turns off some styling */\n",
              "    progress {\n",
              "        /* gets rid of default border in Firefox and Opera. */\n",
              "        border: none;\n",
              "        /* Needs to be in here for Safari polyfill so background images work as expected. */\n",
              "        background-size: auto;\n",
              "    }\n",
              "    progress:not([value]), progress:not([value])::-webkit-progress-bar {\n",
              "        background: repeating-linear-gradient(45deg, #7e7e7e, #7e7e7e 10px, #5c5c5c 10px, #5c5c5c 20px);\n",
              "    }\n",
              "    .progress-bar-interrupted, .progress-bar-interrupted::-webkit-progress-bar {\n",
              "        background: #F44336;\n",
              "    }\n",
              "</style>\n"
            ],
            "text/plain": [
              "<IPython.core.display.HTML object>"
            ]
          },
          "metadata": {},
          "output_type": "display_data"
        },
        {
          "data": {
            "text/html": [],
            "text/plain": [
              "<IPython.core.display.HTML object>"
            ]
          },
          "metadata": {},
          "output_type": "display_data"
        },
        {
          "name": "stdout",
          "output_type": "stream",
          "text": [
            "Is Multi-Label? False\n",
            "preprocessing test...\n",
            "language: en\n",
            "test sequence lengths:\n",
            "\tmean : 7\n",
            "\t95percentile : 13\n",
            "\t99percentile : 16\n"
          ]
        },
        {
          "data": {
            "text/html": [
              "\n",
              "<style>\n",
              "    /* Turns off some styling */\n",
              "    progress {\n",
              "        /* gets rid of default border in Firefox and Opera. */\n",
              "        border: none;\n",
              "        /* Needs to be in here for Safari polyfill so background images work as expected. */\n",
              "        background-size: auto;\n",
              "    }\n",
              "    progress:not([value]), progress:not([value])::-webkit-progress-bar {\n",
              "        background: repeating-linear-gradient(45deg, #7e7e7e, #7e7e7e 10px, #5c5c5c 10px, #5c5c5c 20px);\n",
              "    }\n",
              "    .progress-bar-interrupted, .progress-bar-interrupted::-webkit-progress-bar {\n",
              "        background: #F44336;\n",
              "    }\n",
              "</style>\n"
            ],
            "text/plain": [
              "<IPython.core.display.HTML object>"
            ]
          },
          "metadata": {},
          "output_type": "display_data"
        },
        {
          "data": {
            "text/html": [],
            "text/plain": [
              "<IPython.core.display.HTML object>"
            ]
          },
          "metadata": {},
          "output_type": "display_data"
        }
      ],
      "source": [
        "model_name = 'google/muril-base-cased'\n",
        "trans = text.Transformer(model_name,maxlen=100,class_names=categories)\n",
        "train = trans.preprocess_train(train_df['cleanText'].tolist(), train_df['enc_label'].tolist())\n",
        "test = trans.preprocess_test(X_test, y_data_with_label)\n",
        "model = trans.get_classifier()"
      ]
    },
    {
      "cell_type": "code",
      "execution_count": 87,
      "metadata": {
        "id": "wFzuWox5euM4"
      },
      "outputs": [],
      "source": [
        "MuRILlearner = ktrain.get_learner(model, train_data=train,val_data=test, batch_size=16)"
      ]
    },
    {
      "cell_type": "code",
      "execution_count": null,
      "metadata": {
        "execution": {
          "iopub.status.busy": "2023-12-04T01:40:12.923647Z",
          "iopub.status.idle": "2023-12-04T01:40:12.924088Z",
          "shell.execute_reply": "2023-12-04T01:40:12.923879Z",
          "shell.execute_reply.started": "2023-12-04T01:40:12.923857Z"
        },
        "id": "MDozXfcY53_o",
        "trusted": true
      },
      "outputs": [],
      "source": [
        "MuRILlearner.lr_find(show_plot = True,max_epochs=15)"
      ]
    },
    {
      "cell_type": "code",
      "execution_count": 88,
      "metadata": {
        "colab": {
          "base_uri": "https://localhost:8080/"
        },
        "execution": {
          "iopub.execute_input": "2023-12-10T07:48:22.280373Z",
          "iopub.status.busy": "2023-12-10T07:48:22.279992Z",
          "iopub.status.idle": "2023-12-10T08:00:02.007343Z",
          "shell.execute_reply": "2023-12-10T08:00:02.006341Z",
          "shell.execute_reply.started": "2023-12-10T07:48:22.280348Z"
        },
        "id": "92nHCRZ-Qkxm",
        "outputId": "c0810a41-ce5e-4f46-bb37-496d21b36950",
        "trusted": true
      },
      "outputs": [
        {
          "name": "stdout",
          "output_type": "stream",
          "text": [
            "\n",
            "\n",
            "begin training using onecycle policy with max lr of 3e-05...\n",
            "Epoch 1/10\n",
            "250/250 [==============================] - 128s 420ms/step - loss: 0.6895 - accuracy: 0.5525 - val_loss: 0.7041 - val_accuracy: 0.4020\n",
            "Epoch 2/10\n",
            "250/250 [==============================] - 101s 404ms/step - loss: 0.6273 - accuracy: 0.6948 - val_loss: 0.6594 - val_accuracy: 0.6420\n",
            "Epoch 3/10\n",
            "250/250 [==============================] - 102s 408ms/step - loss: 0.5099 - accuracy: 0.7695 - val_loss: 0.5990 - val_accuracy: 0.6960\n",
            "Epoch 4/10\n",
            "250/250 [==============================] - 104s 416ms/step - loss: 0.3984 - accuracy: 0.8342 - val_loss: 0.6614 - val_accuracy: 0.6720\n",
            "Epoch 5/10\n",
            "250/250 [==============================] - 101s 405ms/step - loss: 0.3083 - accuracy: 0.8835 - val_loss: 0.6732 - val_accuracy: 0.6920\n",
            "Epoch 6/10\n",
            "250/250 [==============================] - 101s 406ms/step - loss: 0.2395 - accuracy: 0.9140 - val_loss: 0.6287 - val_accuracy: 0.7360\n",
            "Epoch 7/10\n",
            "250/250 [==============================] - 101s 403ms/step - loss: 0.1370 - accuracy: 0.9582 - val_loss: 0.7014 - val_accuracy: 0.7260\n",
            "Epoch 8/10\n",
            "250/250 [==============================] - 101s 402ms/step - loss: 0.0976 - accuracy: 0.9737 - val_loss: 0.9774 - val_accuracy: 0.7200\n",
            "Epoch 9/10\n",
            "250/250 [==============================] - 101s 405ms/step - loss: 0.0696 - accuracy: 0.9835 - val_loss: 0.9164 - val_accuracy: 0.7480\n",
            "Epoch 10/10\n",
            "250/250 [==============================] - 101s 403ms/step - loss: 0.0614 - accuracy: 0.9860 - val_loss: 0.9375 - val_accuracy: 0.7340\n"
          ]
        },
        {
          "data": {
            "text/plain": [
              "<keras.src.callbacks.History at 0x7886c97ef400>"
            ]
          },
          "execution_count": 88,
          "metadata": {},
          "output_type": "execute_result"
        }
      ],
      "source": [
        "MuRILlearner.fit_onecycle(3e-5,10)"
      ]
    },
    {
      "cell_type": "code",
      "execution_count": 89,
      "metadata": {
        "colab": {
          "base_uri": "https://localhost:8080/"
        },
        "execution": {
          "iopub.execute_input": "2023-12-10T08:00:07.959802Z",
          "iopub.status.busy": "2023-12-10T08:00:07.959473Z",
          "iopub.status.idle": "2023-12-10T08:00:10.778089Z",
          "shell.execute_reply": "2023-12-10T08:00:10.777062Z",
          "shell.execute_reply.started": "2023-12-10T08:00:07.959775Z"
        },
        "id": "kTpAPHVKQkxm",
        "outputId": "a5676f4a-01f1-44b2-f356-aed43d530f21",
        "trusted": true
      },
      "outputs": [
        {
          "name": "stdout",
          "output_type": "stream",
          "text": [
            "16/16 [==============================] - 6s 130ms/step\n",
            "              precision    recall  f1-score   support\n",
            "\n",
            "        hate       0.73      0.74      0.74       250\n",
            "    non-hate       0.74      0.72      0.73       250\n",
            "\n",
            "    accuracy                           0.73       500\n",
            "   macro avg       0.73      0.73      0.73       500\n",
            "weighted avg       0.73      0.73      0.73       500\n",
            "\n"
          ]
        },
        {
          "data": {
            "text/plain": [
              "array([[186,  64],\n",
              "       [ 69, 181]])"
            ]
          },
          "execution_count": 89,
          "metadata": {},
          "output_type": "execute_result"
        }
      ],
      "source": [
        "MuRILlearner.validate(class_names=categories)"
      ]
    },
    {
      "cell_type": "code",
      "execution_count": null,
      "metadata": {
        "id": "Dii04iMeQkxn"
      },
      "outputs": [],
      "source": []
    }
  ],
  "metadata": {
    "accelerator": "GPU",
    "colab": {
      "collapsed_sections": [
        "qtwRK3wRgIfv",
        "tn3ZdEkqwFuf",
        "cRU1aKz253-Q",
        "hphD1uHEv9_0",
        "H1WjlCul53-f",
        "glhzaDgnxnKm",
        "f_6NB5_6wPbb",
        "6uGKlKfM53--",
        "2OmJBY9m53_D",
        "MHVI7E_AeeZZ",
        "JmMby0LwbYzf"
      ],
      "gpuType": "T4",
      "provenance": [],
      "toc_visible": true
    },
    "kaggle": {
      "accelerator": "gpu",
      "dataSources": [
        {
          "databundleVersionId": 5003737,
          "sourceId": 46764,
          "sourceType": "competition"
        },
        {
          "datasetId": 4083861,
          "sourceId": 7087776,
          "sourceType": "datasetVersion"
        },
        {
          "datasetId": 4083854,
          "sourceId": 7087747,
          "sourceType": "datasetVersion"
        },
        {
          "datasetId": 4139580,
          "sourceId": 7165977,
          "sourceType": "datasetVersion"
        },
        {
          "datasetId": 4139667,
          "sourceId": 7166086,
          "sourceType": "datasetVersion"
        }
      ],
      "dockerImageVersionId": 30588,
      "isGpuEnabled": true,
      "isInternetEnabled": true,
      "language": "python",
      "sourceType": "notebook"
    },
    "kernelspec": {
      "display_name": "Python 3",
      "language": "python",
      "name": "python3"
    },
    "language_info": {
      "codemirror_mode": {
        "name": "ipython",
        "version": 3
      },
      "file_extension": ".py",
      "mimetype": "text/x-python",
      "name": "python",
      "nbconvert_exporter": "python",
      "pygments_lexer": "ipython3",
      "version": "3.10.12"
    },
    "widgets": {
      "application/vnd.jupyter.widget-state+json": {
        "0478335ae8a24f9f98584bae10c1c71f": {
          "model_module": "@jupyter-widgets/controls",
          "model_module_version": "1.5.0",
          "model_name": "DescriptionStyleModel",
          "state": {
            "_model_module": "@jupyter-widgets/controls",
            "_model_module_version": "1.5.0",
            "_model_name": "DescriptionStyleModel",
            "_view_count": null,
            "_view_module": "@jupyter-widgets/base",
            "_view_module_version": "1.2.0",
            "_view_name": "StyleView",
            "description_width": ""
          }
        },
        "10db4460729a4be88b95a2637808ec44": {
          "model_module": "@jupyter-widgets/controls",
          "model_module_version": "1.5.0",
          "model_name": "FloatProgressModel",
          "state": {
            "_dom_classes": [],
            "_model_module": "@jupyter-widgets/controls",
            "_model_module_version": "1.5.0",
            "_model_name": "FloatProgressModel",
            "_view_count": null,
            "_view_module": "@jupyter-widgets/controls",
            "_view_module_version": "1.5.0",
            "_view_name": "ProgressView",
            "bar_style": "success",
            "description": "",
            "description_tooltip": null,
            "layout": "IPY_MODEL_d71d267ed74a4ee8b8751fdf6a2385c5",
            "max": 125,
            "min": 0,
            "orientation": "horizontal",
            "style": "IPY_MODEL_e0eedcb5960b4b77860f52fabb2ab4bf",
            "value": 125
          }
        },
        "116ec33856f943838db735673a397cee": {
          "model_module": "@jupyter-widgets/controls",
          "model_module_version": "1.5.0",
          "model_name": "HBoxModel",
          "state": {
            "_dom_classes": [],
            "_model_module": "@jupyter-widgets/controls",
            "_model_module_version": "1.5.0",
            "_model_name": "HBoxModel",
            "_view_count": null,
            "_view_module": "@jupyter-widgets/controls",
            "_view_module_version": "1.5.0",
            "_view_name": "HBoxView",
            "box_style": "",
            "children": [
              "IPY_MODEL_56e8dc1790ea4de0baff2c3f206509b3",
              "IPY_MODEL_eef1cb08bb634727b4179456d60f2492",
              "IPY_MODEL_dd7cc3c53b5b4acf8ff7fb5fd8b4eca8"
            ],
            "layout": "IPY_MODEL_6815b916de45414a9ccaf9ae8cddcac8"
          }
        },
        "11a826b8951a439b9647e5fb3a18ee92": {
          "model_module": "@jupyter-widgets/base",
          "model_module_version": "1.2.0",
          "model_name": "LayoutModel",
          "state": {
            "_model_module": "@jupyter-widgets/base",
            "_model_module_version": "1.2.0",
            "_model_name": "LayoutModel",
            "_view_count": null,
            "_view_module": "@jupyter-widgets/base",
            "_view_module_version": "1.2.0",
            "_view_name": "LayoutView",
            "align_content": null,
            "align_items": null,
            "align_self": null,
            "border": null,
            "bottom": null,
            "display": null,
            "flex": null,
            "flex_flow": null,
            "grid_area": null,
            "grid_auto_columns": null,
            "grid_auto_flow": null,
            "grid_auto_rows": null,
            "grid_column": null,
            "grid_gap": null,
            "grid_row": null,
            "grid_template_areas": null,
            "grid_template_columns": null,
            "grid_template_rows": null,
            "height": null,
            "justify_content": null,
            "justify_items": null,
            "left": null,
            "margin": null,
            "max_height": null,
            "max_width": null,
            "min_height": null,
            "min_width": null,
            "object_fit": null,
            "object_position": null,
            "order": null,
            "overflow": null,
            "overflow_x": null,
            "overflow_y": null,
            "padding": null,
            "right": null,
            "top": null,
            "visibility": null,
            "width": null
          }
        },
        "12c0e33d3f7e458b85a92b92216bf2fe": {
          "model_module": "@jupyter-widgets/base",
          "model_module_version": "1.2.0",
          "model_name": "LayoutModel",
          "state": {
            "_model_module": "@jupyter-widgets/base",
            "_model_module_version": "1.2.0",
            "_model_name": "LayoutModel",
            "_view_count": null,
            "_view_module": "@jupyter-widgets/base",
            "_view_module_version": "1.2.0",
            "_view_name": "LayoutView",
            "align_content": null,
            "align_items": null,
            "align_self": null,
            "border": null,
            "bottom": null,
            "display": null,
            "flex": null,
            "flex_flow": null,
            "grid_area": null,
            "grid_auto_columns": null,
            "grid_auto_flow": null,
            "grid_auto_rows": null,
            "grid_column": null,
            "grid_gap": null,
            "grid_row": null,
            "grid_template_areas": null,
            "grid_template_columns": null,
            "grid_template_rows": null,
            "height": null,
            "justify_content": null,
            "justify_items": null,
            "left": null,
            "margin": null,
            "max_height": null,
            "max_width": null,
            "min_height": null,
            "min_width": null,
            "object_fit": null,
            "object_position": null,
            "order": null,
            "overflow": null,
            "overflow_x": null,
            "overflow_y": null,
            "padding": null,
            "right": null,
            "top": null,
            "visibility": null,
            "width": null
          }
        },
        "2e9e3c2b61f64e699189fbb2bf14227d": {
          "model_module": "@jupyter-widgets/controls",
          "model_module_version": "1.5.0",
          "model_name": "FloatProgressModel",
          "state": {
            "_dom_classes": [],
            "_model_module": "@jupyter-widgets/controls",
            "_model_module_version": "1.5.0",
            "_model_name": "FloatProgressModel",
            "_view_count": null,
            "_view_module": "@jupyter-widgets/controls",
            "_view_module_version": "1.5.0",
            "_view_name": "ProgressView",
            "bar_style": "success",
            "description": "",
            "description_tooltip": null,
            "layout": "IPY_MODEL_f9348ffcc0f0442093898ff02d8db534",
            "max": 3162999,
            "min": 0,
            "orientation": "horizontal",
            "style": "IPY_MODEL_ac806f30bffc4544a23eee41d65dc024",
            "value": 3162999
          }
        },
        "2f1865d8de7d43388354ba71ca33ad14": {
          "model_module": "@jupyter-widgets/controls",
          "model_module_version": "1.5.0",
          "model_name": "HTMLModel",
          "state": {
            "_dom_classes": [],
            "_model_module": "@jupyter-widgets/controls",
            "_model_module_version": "1.5.0",
            "_model_name": "HTMLModel",
            "_view_count": null,
            "_view_module": "@jupyter-widgets/controls",
            "_view_module_version": "1.5.0",
            "_view_name": "HTMLView",
            "description": "",
            "description_tooltip": null,
            "layout": "IPY_MODEL_12c0e33d3f7e458b85a92b92216bf2fe",
            "placeholder": "​",
            "style": "IPY_MODEL_97319b171b754917b74a51a9a17d2367",
            "value": " 676/676 [00:00&lt;00:00, 13.7kB/s]"
          }
        },
        "3770457988554617932e39a50baccbb0": {
          "model_module": "@jupyter-widgets/controls",
          "model_module_version": "1.5.0",
          "model_name": "ProgressStyleModel",
          "state": {
            "_model_module": "@jupyter-widgets/controls",
            "_model_module_version": "1.5.0",
            "_model_name": "ProgressStyleModel",
            "_view_count": null,
            "_view_module": "@jupyter-widgets/base",
            "_view_module_version": "1.2.0",
            "_view_name": "StyleView",
            "bar_color": null,
            "description_width": ""
          }
        },
        "4320ece9bf6b4c1ca74de04ccc1fd051": {
          "model_module": "@jupyter-widgets/controls",
          "model_module_version": "1.5.0",
          "model_name": "DescriptionStyleModel",
          "state": {
            "_model_module": "@jupyter-widgets/controls",
            "_model_module_version": "1.5.0",
            "_model_name": "DescriptionStyleModel",
            "_view_count": null,
            "_view_module": "@jupyter-widgets/base",
            "_view_module_version": "1.2.0",
            "_view_name": "StyleView",
            "description_width": ""
          }
        },
        "43447fdffb9045589b6848258e223168": {
          "model_module": "@jupyter-widgets/controls",
          "model_module_version": "1.5.0",
          "model_name": "DescriptionStyleModel",
          "state": {
            "_model_module": "@jupyter-widgets/controls",
            "_model_module_version": "1.5.0",
            "_model_name": "DescriptionStyleModel",
            "_view_count": null,
            "_view_module": "@jupyter-widgets/base",
            "_view_module_version": "1.2.0",
            "_view_name": "StyleView",
            "description_width": ""
          }
        },
        "4da76e8ac6e342c1aec2db69a88f02b3": {
          "model_module": "@jupyter-widgets/base",
          "model_module_version": "1.2.0",
          "model_name": "LayoutModel",
          "state": {
            "_model_module": "@jupyter-widgets/base",
            "_model_module_version": "1.2.0",
            "_model_name": "LayoutModel",
            "_view_count": null,
            "_view_module": "@jupyter-widgets/base",
            "_view_module_version": "1.2.0",
            "_view_name": "LayoutView",
            "align_content": null,
            "align_items": null,
            "align_self": null,
            "border": null,
            "bottom": null,
            "display": null,
            "flex": null,
            "flex_flow": null,
            "grid_area": null,
            "grid_auto_columns": null,
            "grid_auto_flow": null,
            "grid_auto_rows": null,
            "grid_column": null,
            "grid_gap": null,
            "grid_row": null,
            "grid_template_areas": null,
            "grid_template_columns": null,
            "grid_template_rows": null,
            "height": null,
            "justify_content": null,
            "justify_items": null,
            "left": null,
            "margin": null,
            "max_height": null,
            "max_width": null,
            "min_height": null,
            "min_width": null,
            "object_fit": null,
            "object_position": null,
            "order": null,
            "overflow": null,
            "overflow_x": null,
            "overflow_y": null,
            "padding": null,
            "right": null,
            "top": null,
            "visibility": null,
            "width": null
          }
        },
        "4f421b33540847b680e0dd9816bd6214": {
          "model_module": "@jupyter-widgets/base",
          "model_module_version": "1.2.0",
          "model_name": "LayoutModel",
          "state": {
            "_model_module": "@jupyter-widgets/base",
            "_model_module_version": "1.2.0",
            "_model_name": "LayoutModel",
            "_view_count": null,
            "_view_module": "@jupyter-widgets/base",
            "_view_module_version": "1.2.0",
            "_view_name": "LayoutView",
            "align_content": null,
            "align_items": null,
            "align_self": null,
            "border": null,
            "bottom": null,
            "display": null,
            "flex": null,
            "flex_flow": null,
            "grid_area": null,
            "grid_auto_columns": null,
            "grid_auto_flow": null,
            "grid_auto_rows": null,
            "grid_column": null,
            "grid_gap": null,
            "grid_row": null,
            "grid_template_areas": null,
            "grid_template_columns": null,
            "grid_template_rows": null,
            "height": null,
            "justify_content": null,
            "justify_items": null,
            "left": null,
            "margin": null,
            "max_height": null,
            "max_width": null,
            "min_height": null,
            "min_width": null,
            "object_fit": null,
            "object_position": null,
            "order": null,
            "overflow": null,
            "overflow_x": null,
            "overflow_y": null,
            "padding": null,
            "right": null,
            "top": null,
            "visibility": null,
            "width": null
          }
        },
        "4fed0e6097964903ba615f73ff21b908": {
          "model_module": "@jupyter-widgets/base",
          "model_module_version": "1.2.0",
          "model_name": "LayoutModel",
          "state": {
            "_model_module": "@jupyter-widgets/base",
            "_model_module_version": "1.2.0",
            "_model_name": "LayoutModel",
            "_view_count": null,
            "_view_module": "@jupyter-widgets/base",
            "_view_module_version": "1.2.0",
            "_view_name": "LayoutView",
            "align_content": null,
            "align_items": null,
            "align_self": null,
            "border": null,
            "bottom": null,
            "display": null,
            "flex": null,
            "flex_flow": null,
            "grid_area": null,
            "grid_auto_columns": null,
            "grid_auto_flow": null,
            "grid_auto_rows": null,
            "grid_column": null,
            "grid_gap": null,
            "grid_row": null,
            "grid_template_areas": null,
            "grid_template_columns": null,
            "grid_template_rows": null,
            "height": null,
            "justify_content": null,
            "justify_items": null,
            "left": null,
            "margin": null,
            "max_height": null,
            "max_width": null,
            "min_height": null,
            "min_width": null,
            "object_fit": null,
            "object_position": null,
            "order": null,
            "overflow": null,
            "overflow_x": null,
            "overflow_y": null,
            "padding": null,
            "right": null,
            "top": null,
            "visibility": null,
            "width": null
          }
        },
        "529363f38ea047abb5da9d2c027b20d1": {
          "model_module": "@jupyter-widgets/controls",
          "model_module_version": "1.5.0",
          "model_name": "HTMLModel",
          "state": {
            "_dom_classes": [],
            "_model_module": "@jupyter-widgets/controls",
            "_model_module_version": "1.5.0",
            "_model_name": "HTMLModel",
            "_view_count": null,
            "_view_module": "@jupyter-widgets/controls",
            "_view_module_version": "1.5.0",
            "_view_name": "HTMLView",
            "description": "",
            "description_tooltip": null,
            "layout": "IPY_MODEL_4da76e8ac6e342c1aec2db69a88f02b3",
            "placeholder": "​",
            "style": "IPY_MODEL_9e0db7abffc04e68b2f01c07b491ec5f",
            "value": " 6.41M/6.41M [00:00&lt;00:00, 27.8MB/s]"
          }
        },
        "54aa3efd6226408ba169e5ab419ea756": {
          "model_module": "@jupyter-widgets/controls",
          "model_module_version": "1.5.0",
          "model_name": "HTMLModel",
          "state": {
            "_dom_classes": [],
            "_model_module": "@jupyter-widgets/controls",
            "_model_module_version": "1.5.0",
            "_model_name": "HTMLModel",
            "_view_count": null,
            "_view_module": "@jupyter-widgets/controls",
            "_view_module_version": "1.5.0",
            "_view_name": "HTMLView",
            "description": "",
            "description_tooltip": null,
            "layout": "IPY_MODEL_cdab9449ba294b87a0d23767f5d2292d",
            "placeholder": "​",
            "style": "IPY_MODEL_b088013315874353872057ccc593debf",
            "value": " 125/125 [00:00&lt;00:00, 5.87kB/s]"
          }
        },
        "55ccdafe9c3e4a56ba2376e5fc4a9bc0": {
          "model_module": "@jupyter-widgets/base",
          "model_module_version": "1.2.0",
          "model_name": "LayoutModel",
          "state": {
            "_model_module": "@jupyter-widgets/base",
            "_model_module_version": "1.2.0",
            "_model_name": "LayoutModel",
            "_view_count": null,
            "_view_module": "@jupyter-widgets/base",
            "_view_module_version": "1.2.0",
            "_view_name": "LayoutView",
            "align_content": null,
            "align_items": null,
            "align_self": null,
            "border": null,
            "bottom": null,
            "display": null,
            "flex": null,
            "flex_flow": null,
            "grid_area": null,
            "grid_auto_columns": null,
            "grid_auto_flow": null,
            "grid_auto_rows": null,
            "grid_column": null,
            "grid_gap": null,
            "grid_row": null,
            "grid_template_areas": null,
            "grid_template_columns": null,
            "grid_template_rows": null,
            "height": null,
            "justify_content": null,
            "justify_items": null,
            "left": null,
            "margin": null,
            "max_height": null,
            "max_width": null,
            "min_height": null,
            "min_width": null,
            "object_fit": null,
            "object_position": null,
            "order": null,
            "overflow": null,
            "overflow_x": null,
            "overflow_y": null,
            "padding": null,
            "right": null,
            "top": null,
            "visibility": null,
            "width": null
          }
        },
        "56e8dc1790ea4de0baff2c3f206509b3": {
          "model_module": "@jupyter-widgets/controls",
          "model_module_version": "1.5.0",
          "model_name": "HTMLModel",
          "state": {
            "_dom_classes": [],
            "_model_module": "@jupyter-widgets/controls",
            "_model_module_version": "1.5.0",
            "_model_name": "HTMLModel",
            "_view_count": null,
            "_view_module": "@jupyter-widgets/controls",
            "_view_module_version": "1.5.0",
            "_view_name": "HTMLView",
            "description": "",
            "description_tooltip": null,
            "layout": "IPY_MODEL_ad6e8f1f119a4ceea9ddbc059f5d1f1b",
            "placeholder": "​",
            "style": "IPY_MODEL_b8cef74c448a4cb6be9e7d963e571c8c",
            "value": "pytorch_model.bin: 100%"
          }
        },
        "594598c1b6434e93bd349d8fa983265e": {
          "model_module": "@jupyter-widgets/controls",
          "model_module_version": "1.5.0",
          "model_name": "HTMLModel",
          "state": {
            "_dom_classes": [],
            "_model_module": "@jupyter-widgets/controls",
            "_model_module_version": "1.5.0",
            "_model_name": "HTMLModel",
            "_view_count": null,
            "_view_module": "@jupyter-widgets/controls",
            "_view_module_version": "1.5.0",
            "_view_name": "HTMLView",
            "description": "",
            "description_tooltip": null,
            "layout": "IPY_MODEL_96c409a1135d45e49a4bff6566adc8ed",
            "placeholder": "​",
            "style": "IPY_MODEL_4320ece9bf6b4c1ca74de04ccc1fd051",
            "value": " 3.16M/3.16M [00:00&lt;00:00, 6.00MB/s]"
          }
        },
        "5dd74002727649f2a511b5e9b6a68de3": {
          "model_module": "@jupyter-widgets/controls",
          "model_module_version": "1.5.0",
          "model_name": "ProgressStyleModel",
          "state": {
            "_model_module": "@jupyter-widgets/controls",
            "_model_module_version": "1.5.0",
            "_model_name": "ProgressStyleModel",
            "_view_count": null,
            "_view_module": "@jupyter-widgets/base",
            "_view_module_version": "1.2.0",
            "_view_name": "StyleView",
            "bar_color": null,
            "description_width": ""
          }
        },
        "5fbad6a4354742e5aacd2c09b2fb5b55": {
          "model_module": "@jupyter-widgets/controls",
          "model_module_version": "1.5.0",
          "model_name": "FloatProgressModel",
          "state": {
            "_dom_classes": [],
            "_model_module": "@jupyter-widgets/controls",
            "_model_module_version": "1.5.0",
            "_model_name": "FloatProgressModel",
            "_view_count": null,
            "_view_module": "@jupyter-widgets/controls",
            "_view_module_version": "1.5.0",
            "_view_name": "ProgressView",
            "bar_style": "success",
            "description": "",
            "description_tooltip": null,
            "layout": "IPY_MODEL_11a826b8951a439b9647e5fb3a18ee92",
            "max": 585,
            "min": 0,
            "orientation": "horizontal",
            "style": "IPY_MODEL_3770457988554617932e39a50baccbb0",
            "value": 585
          }
        },
        "65de0f9f04034fb69bba8903a9196b31": {
          "model_module": "@jupyter-widgets/controls",
          "model_module_version": "1.5.0",
          "model_name": "DescriptionStyleModel",
          "state": {
            "_model_module": "@jupyter-widgets/controls",
            "_model_module_version": "1.5.0",
            "_model_name": "DescriptionStyleModel",
            "_view_count": null,
            "_view_module": "@jupyter-widgets/base",
            "_view_module_version": "1.2.0",
            "_view_name": "StyleView",
            "description_width": ""
          }
        },
        "6815b916de45414a9ccaf9ae8cddcac8": {
          "model_module": "@jupyter-widgets/base",
          "model_module_version": "1.2.0",
          "model_name": "LayoutModel",
          "state": {
            "_model_module": "@jupyter-widgets/base",
            "_model_module_version": "1.2.0",
            "_model_name": "LayoutModel",
            "_view_count": null,
            "_view_module": "@jupyter-widgets/base",
            "_view_module_version": "1.2.0",
            "_view_name": "LayoutView",
            "align_content": null,
            "align_items": null,
            "align_self": null,
            "border": null,
            "bottom": null,
            "display": null,
            "flex": null,
            "flex_flow": null,
            "grid_area": null,
            "grid_auto_columns": null,
            "grid_auto_flow": null,
            "grid_auto_rows": null,
            "grid_column": null,
            "grid_gap": null,
            "grid_row": null,
            "grid_template_areas": null,
            "grid_template_columns": null,
            "grid_template_rows": null,
            "height": null,
            "justify_content": null,
            "justify_items": null,
            "left": null,
            "margin": null,
            "max_height": null,
            "max_width": null,
            "min_height": null,
            "min_width": null,
            "object_fit": null,
            "object_position": null,
            "order": null,
            "overflow": null,
            "overflow_x": null,
            "overflow_y": null,
            "padding": null,
            "right": null,
            "top": null,
            "visibility": null,
            "width": null
          }
        },
        "685c3194e18c480594a858e303e2496a": {
          "model_module": "@jupyter-widgets/base",
          "model_module_version": "1.2.0",
          "model_name": "LayoutModel",
          "state": {
            "_model_module": "@jupyter-widgets/base",
            "_model_module_version": "1.2.0",
            "_model_name": "LayoutModel",
            "_view_count": null,
            "_view_module": "@jupyter-widgets/base",
            "_view_module_version": "1.2.0",
            "_view_name": "LayoutView",
            "align_content": null,
            "align_items": null,
            "align_self": null,
            "border": null,
            "bottom": null,
            "display": null,
            "flex": null,
            "flex_flow": null,
            "grid_area": null,
            "grid_auto_columns": null,
            "grid_auto_flow": null,
            "grid_auto_rows": null,
            "grid_column": null,
            "grid_gap": null,
            "grid_row": null,
            "grid_template_areas": null,
            "grid_template_columns": null,
            "grid_template_rows": null,
            "height": null,
            "justify_content": null,
            "justify_items": null,
            "left": null,
            "margin": null,
            "max_height": null,
            "max_width": null,
            "min_height": null,
            "min_width": null,
            "object_fit": null,
            "object_position": null,
            "order": null,
            "overflow": null,
            "overflow_x": null,
            "overflow_y": null,
            "padding": null,
            "right": null,
            "top": null,
            "visibility": null,
            "width": null
          }
        },
        "69032b54ce3148f0a66b3f11b83609bf": {
          "model_module": "@jupyter-widgets/controls",
          "model_module_version": "1.5.0",
          "model_name": "HTMLModel",
          "state": {
            "_dom_classes": [],
            "_model_module": "@jupyter-widgets/controls",
            "_model_module_version": "1.5.0",
            "_model_name": "HTMLModel",
            "_view_count": null,
            "_view_module": "@jupyter-widgets/controls",
            "_view_module_version": "1.5.0",
            "_view_name": "HTMLView",
            "description": "",
            "description_tooltip": null,
            "layout": "IPY_MODEL_c6ce057e2fe746d0abac55bce48cad31",
            "placeholder": "​",
            "style": "IPY_MODEL_d5a36bb5742c449ea0dfc0ca454fd201",
            "value": "tokenizer_config.json: 100%"
          }
        },
        "701fda7048694980a86ba82a6ef0fd04": {
          "model_module": "@jupyter-widgets/controls",
          "model_module_version": "1.5.0",
          "model_name": "ProgressStyleModel",
          "state": {
            "_model_module": "@jupyter-widgets/controls",
            "_model_module_version": "1.5.0",
            "_model_name": "ProgressStyleModel",
            "_view_count": null,
            "_view_module": "@jupyter-widgets/base",
            "_view_module_version": "1.2.0",
            "_view_name": "StyleView",
            "bar_color": null,
            "description_width": ""
          }
        },
        "7030c955a87b499588498b197e72b5c8": {
          "model_module": "@jupyter-widgets/base",
          "model_module_version": "1.2.0",
          "model_name": "LayoutModel",
          "state": {
            "_model_module": "@jupyter-widgets/base",
            "_model_module_version": "1.2.0",
            "_model_name": "LayoutModel",
            "_view_count": null,
            "_view_module": "@jupyter-widgets/base",
            "_view_module_version": "1.2.0",
            "_view_name": "LayoutView",
            "align_content": null,
            "align_items": null,
            "align_self": null,
            "border": null,
            "bottom": null,
            "display": null,
            "flex": null,
            "flex_flow": null,
            "grid_area": null,
            "grid_auto_columns": null,
            "grid_auto_flow": null,
            "grid_auto_rows": null,
            "grid_column": null,
            "grid_gap": null,
            "grid_row": null,
            "grid_template_areas": null,
            "grid_template_columns": null,
            "grid_template_rows": null,
            "height": null,
            "justify_content": null,
            "justify_items": null,
            "left": null,
            "margin": null,
            "max_height": null,
            "max_width": null,
            "min_height": null,
            "min_width": null,
            "object_fit": null,
            "object_position": null,
            "order": null,
            "overflow": null,
            "overflow_x": null,
            "overflow_y": null,
            "padding": null,
            "right": null,
            "top": null,
            "visibility": null,
            "width": null
          }
        },
        "7674c5fe51284b989bef685f9d6ab817": {
          "model_module": "@jupyter-widgets/controls",
          "model_module_version": "1.5.0",
          "model_name": "DescriptionStyleModel",
          "state": {
            "_model_module": "@jupyter-widgets/controls",
            "_model_module_version": "1.5.0",
            "_model_name": "DescriptionStyleModel",
            "_view_count": null,
            "_view_module": "@jupyter-widgets/base",
            "_view_module_version": "1.2.0",
            "_view_name": "StyleView",
            "description_width": ""
          }
        },
        "792a5f6336444c0d8c963a8e720e82b0": {
          "model_module": "@jupyter-widgets/base",
          "model_module_version": "1.2.0",
          "model_name": "LayoutModel",
          "state": {
            "_model_module": "@jupyter-widgets/base",
            "_model_module_version": "1.2.0",
            "_model_name": "LayoutModel",
            "_view_count": null,
            "_view_module": "@jupyter-widgets/base",
            "_view_module_version": "1.2.0",
            "_view_name": "LayoutView",
            "align_content": null,
            "align_items": null,
            "align_self": null,
            "border": null,
            "bottom": null,
            "display": null,
            "flex": null,
            "flex_flow": null,
            "grid_area": null,
            "grid_auto_columns": null,
            "grid_auto_flow": null,
            "grid_auto_rows": null,
            "grid_column": null,
            "grid_gap": null,
            "grid_row": null,
            "grid_template_areas": null,
            "grid_template_columns": null,
            "grid_template_rows": null,
            "height": null,
            "justify_content": null,
            "justify_items": null,
            "left": null,
            "margin": null,
            "max_height": null,
            "max_width": null,
            "min_height": null,
            "min_width": null,
            "object_fit": null,
            "object_position": null,
            "order": null,
            "overflow": null,
            "overflow_x": null,
            "overflow_y": null,
            "padding": null,
            "right": null,
            "top": null,
            "visibility": null,
            "width": null
          }
        },
        "824f74239e53489aa6508e0b6a6d36ad": {
          "model_module": "@jupyter-widgets/controls",
          "model_module_version": "1.5.0",
          "model_name": "HTMLModel",
          "state": {
            "_dom_classes": [],
            "_model_module": "@jupyter-widgets/controls",
            "_model_module_version": "1.5.0",
            "_model_name": "HTMLModel",
            "_view_count": null,
            "_view_module": "@jupyter-widgets/controls",
            "_view_module_version": "1.5.0",
            "_view_name": "HTMLView",
            "description": "",
            "description_tooltip": null,
            "layout": "IPY_MODEL_792a5f6336444c0d8c963a8e720e82b0",
            "placeholder": "​",
            "style": "IPY_MODEL_7674c5fe51284b989bef685f9d6ab817",
            "value": "tokenizer.json: 100%"
          }
        },
        "8cf56fc9bc854403a78d599c92656b33": {
          "model_module": "@jupyter-widgets/controls",
          "model_module_version": "1.5.0",
          "model_name": "HBoxModel",
          "state": {
            "_dom_classes": [],
            "_model_module": "@jupyter-widgets/controls",
            "_model_module_version": "1.5.0",
            "_model_name": "HBoxModel",
            "_view_count": null,
            "_view_module": "@jupyter-widgets/controls",
            "_view_module_version": "1.5.0",
            "_view_name": "HBoxView",
            "box_style": "",
            "children": [
              "IPY_MODEL_b50e98b24dc04c0fb659e798550c1394",
              "IPY_MODEL_2e9e3c2b61f64e699189fbb2bf14227d",
              "IPY_MODEL_594598c1b6434e93bd349d8fa983265e"
            ],
            "layout": "IPY_MODEL_c5a0410ddc8a4e899b21613f4d0a0fd8"
          }
        },
        "925380a76fec43b2a589aceeaf0da6ed": {
          "model_module": "@jupyter-widgets/controls",
          "model_module_version": "1.5.0",
          "model_name": "HBoxModel",
          "state": {
            "_dom_classes": [],
            "_model_module": "@jupyter-widgets/controls",
            "_model_module_version": "1.5.0",
            "_model_name": "HBoxModel",
            "_view_count": null,
            "_view_module": "@jupyter-widgets/controls",
            "_view_module_version": "1.5.0",
            "_view_name": "HBoxView",
            "box_style": "",
            "children": [
              "IPY_MODEL_824f74239e53489aa6508e0b6a6d36ad",
              "IPY_MODEL_948cede7a372446db2889375f3bee7ac",
              "IPY_MODEL_529363f38ea047abb5da9d2c027b20d1"
            ],
            "layout": "IPY_MODEL_be675bc0ab3b4dfe8298fc708aed8e73"
          }
        },
        "938517513c8c4e14b52c511f2a0612f3": {
          "model_module": "@jupyter-widgets/controls",
          "model_module_version": "1.5.0",
          "model_name": "HBoxModel",
          "state": {
            "_dom_classes": [],
            "_model_module": "@jupyter-widgets/controls",
            "_model_module_version": "1.5.0",
            "_model_name": "HBoxModel",
            "_view_count": null,
            "_view_module": "@jupyter-widgets/controls",
            "_view_module_version": "1.5.0",
            "_view_name": "HBoxView",
            "box_style": "",
            "children": [
              "IPY_MODEL_c688388d68a64f5e8144501168fa5187",
              "IPY_MODEL_de2d126ecc2d4e0caede5ebbc72c4254",
              "IPY_MODEL_2f1865d8de7d43388354ba71ca33ad14"
            ],
            "layout": "IPY_MODEL_dd49ee5fc8ce402dad966a479349b56c"
          }
        },
        "948cede7a372446db2889375f3bee7ac": {
          "model_module": "@jupyter-widgets/controls",
          "model_module_version": "1.5.0",
          "model_name": "FloatProgressModel",
          "state": {
            "_dom_classes": [],
            "_model_module": "@jupyter-widgets/controls",
            "_model_module_version": "1.5.0",
            "_model_name": "FloatProgressModel",
            "_view_count": null,
            "_view_module": "@jupyter-widgets/controls",
            "_view_module_version": "1.5.0",
            "_view_name": "ProgressView",
            "bar_style": "success",
            "description": "",
            "description_tooltip": null,
            "layout": "IPY_MODEL_d93ff724d1b44705a9c0c186b6772b65",
            "max": 6408635,
            "min": 0,
            "orientation": "horizontal",
            "style": "IPY_MODEL_701fda7048694980a86ba82a6ef0fd04",
            "value": 6408635
          }
        },
        "96c409a1135d45e49a4bff6566adc8ed": {
          "model_module": "@jupyter-widgets/base",
          "model_module_version": "1.2.0",
          "model_name": "LayoutModel",
          "state": {
            "_model_module": "@jupyter-widgets/base",
            "_model_module_version": "1.2.0",
            "_model_name": "LayoutModel",
            "_view_count": null,
            "_view_module": "@jupyter-widgets/base",
            "_view_module_version": "1.2.0",
            "_view_name": "LayoutView",
            "align_content": null,
            "align_items": null,
            "align_self": null,
            "border": null,
            "bottom": null,
            "display": null,
            "flex": null,
            "flex_flow": null,
            "grid_area": null,
            "grid_auto_columns": null,
            "grid_auto_flow": null,
            "grid_auto_rows": null,
            "grid_column": null,
            "grid_gap": null,
            "grid_row": null,
            "grid_template_areas": null,
            "grid_template_columns": null,
            "grid_template_rows": null,
            "height": null,
            "justify_content": null,
            "justify_items": null,
            "left": null,
            "margin": null,
            "max_height": null,
            "max_width": null,
            "min_height": null,
            "min_width": null,
            "object_fit": null,
            "object_position": null,
            "order": null,
            "overflow": null,
            "overflow_x": null,
            "overflow_y": null,
            "padding": null,
            "right": null,
            "top": null,
            "visibility": null,
            "width": null
          }
        },
        "97319b171b754917b74a51a9a17d2367": {
          "model_module": "@jupyter-widgets/controls",
          "model_module_version": "1.5.0",
          "model_name": "DescriptionStyleModel",
          "state": {
            "_model_module": "@jupyter-widgets/controls",
            "_model_module_version": "1.5.0",
            "_model_name": "DescriptionStyleModel",
            "_view_count": null,
            "_view_module": "@jupyter-widgets/base",
            "_view_module_version": "1.2.0",
            "_view_name": "StyleView",
            "description_width": ""
          }
        },
        "9e0db7abffc04e68b2f01c07b491ec5f": {
          "model_module": "@jupyter-widgets/controls",
          "model_module_version": "1.5.0",
          "model_name": "DescriptionStyleModel",
          "state": {
            "_model_module": "@jupyter-widgets/controls",
            "_model_module_version": "1.5.0",
            "_model_name": "DescriptionStyleModel",
            "_view_count": null,
            "_view_module": "@jupyter-widgets/base",
            "_view_module_version": "1.2.0",
            "_view_name": "StyleView",
            "description_width": ""
          }
        },
        "a18bea97121d4b1094032979e7590934": {
          "model_module": "@jupyter-widgets/base",
          "model_module_version": "1.2.0",
          "model_name": "LayoutModel",
          "state": {
            "_model_module": "@jupyter-widgets/base",
            "_model_module_version": "1.2.0",
            "_model_name": "LayoutModel",
            "_view_count": null,
            "_view_module": "@jupyter-widgets/base",
            "_view_module_version": "1.2.0",
            "_view_name": "LayoutView",
            "align_content": null,
            "align_items": null,
            "align_self": null,
            "border": null,
            "bottom": null,
            "display": null,
            "flex": null,
            "flex_flow": null,
            "grid_area": null,
            "grid_auto_columns": null,
            "grid_auto_flow": null,
            "grid_auto_rows": null,
            "grid_column": null,
            "grid_gap": null,
            "grid_row": null,
            "grid_template_areas": null,
            "grid_template_columns": null,
            "grid_template_rows": null,
            "height": null,
            "justify_content": null,
            "justify_items": null,
            "left": null,
            "margin": null,
            "max_height": null,
            "max_width": null,
            "min_height": null,
            "min_width": null,
            "object_fit": null,
            "object_position": null,
            "order": null,
            "overflow": null,
            "overflow_x": null,
            "overflow_y": null,
            "padding": null,
            "right": null,
            "top": null,
            "visibility": null,
            "width": null
          }
        },
        "a357f0cd7d164fb9a4b465731979d5d2": {
          "model_module": "@jupyter-widgets/base",
          "model_module_version": "1.2.0",
          "model_name": "LayoutModel",
          "state": {
            "_model_module": "@jupyter-widgets/base",
            "_model_module_version": "1.2.0",
            "_model_name": "LayoutModel",
            "_view_count": null,
            "_view_module": "@jupyter-widgets/base",
            "_view_module_version": "1.2.0",
            "_view_name": "LayoutView",
            "align_content": null,
            "align_items": null,
            "align_self": null,
            "border": null,
            "bottom": null,
            "display": null,
            "flex": null,
            "flex_flow": null,
            "grid_area": null,
            "grid_auto_columns": null,
            "grid_auto_flow": null,
            "grid_auto_rows": null,
            "grid_column": null,
            "grid_gap": null,
            "grid_row": null,
            "grid_template_areas": null,
            "grid_template_columns": null,
            "grid_template_rows": null,
            "height": null,
            "justify_content": null,
            "justify_items": null,
            "left": null,
            "margin": null,
            "max_height": null,
            "max_width": null,
            "min_height": null,
            "min_width": null,
            "object_fit": null,
            "object_position": null,
            "order": null,
            "overflow": null,
            "overflow_x": null,
            "overflow_y": null,
            "padding": null,
            "right": null,
            "top": null,
            "visibility": null,
            "width": null
          }
        },
        "a89eb303612744949a5722c082fea59c": {
          "model_module": "@jupyter-widgets/controls",
          "model_module_version": "1.5.0",
          "model_name": "HBoxModel",
          "state": {
            "_dom_classes": [],
            "_model_module": "@jupyter-widgets/controls",
            "_model_module_version": "1.5.0",
            "_model_name": "HBoxModel",
            "_view_count": null,
            "_view_module": "@jupyter-widgets/controls",
            "_view_module_version": "1.5.0",
            "_view_name": "HBoxView",
            "box_style": "",
            "children": [
              "IPY_MODEL_af8675b5b57247d58eb97e0917ee32be",
              "IPY_MODEL_10db4460729a4be88b95a2637808ec44",
              "IPY_MODEL_54aa3efd6226408ba169e5ab419ea756"
            ],
            "layout": "IPY_MODEL_685c3194e18c480594a858e303e2496a"
          }
        },
        "ac806f30bffc4544a23eee41d65dc024": {
          "model_module": "@jupyter-widgets/controls",
          "model_module_version": "1.5.0",
          "model_name": "ProgressStyleModel",
          "state": {
            "_model_module": "@jupyter-widgets/controls",
            "_model_module_version": "1.5.0",
            "_model_name": "ProgressStyleModel",
            "_view_count": null,
            "_view_module": "@jupyter-widgets/base",
            "_view_module_version": "1.2.0",
            "_view_name": "StyleView",
            "bar_color": null,
            "description_width": ""
          }
        },
        "ad6e8f1f119a4ceea9ddbc059f5d1f1b": {
          "model_module": "@jupyter-widgets/base",
          "model_module_version": "1.2.0",
          "model_name": "LayoutModel",
          "state": {
            "_model_module": "@jupyter-widgets/base",
            "_model_module_version": "1.2.0",
            "_model_name": "LayoutModel",
            "_view_count": null,
            "_view_module": "@jupyter-widgets/base",
            "_view_module_version": "1.2.0",
            "_view_name": "LayoutView",
            "align_content": null,
            "align_items": null,
            "align_self": null,
            "border": null,
            "bottom": null,
            "display": null,
            "flex": null,
            "flex_flow": null,
            "grid_area": null,
            "grid_auto_columns": null,
            "grid_auto_flow": null,
            "grid_auto_rows": null,
            "grid_column": null,
            "grid_gap": null,
            "grid_row": null,
            "grid_template_areas": null,
            "grid_template_columns": null,
            "grid_template_rows": null,
            "height": null,
            "justify_content": null,
            "justify_items": null,
            "left": null,
            "margin": null,
            "max_height": null,
            "max_width": null,
            "min_height": null,
            "min_width": null,
            "object_fit": null,
            "object_position": null,
            "order": null,
            "overflow": null,
            "overflow_x": null,
            "overflow_y": null,
            "padding": null,
            "right": null,
            "top": null,
            "visibility": null,
            "width": null
          }
        },
        "af8675b5b57247d58eb97e0917ee32be": {
          "model_module": "@jupyter-widgets/controls",
          "model_module_version": "1.5.0",
          "model_name": "HTMLModel",
          "state": {
            "_dom_classes": [],
            "_model_module": "@jupyter-widgets/controls",
            "_model_module_version": "1.5.0",
            "_model_name": "HTMLModel",
            "_view_count": null,
            "_view_module": "@jupyter-widgets/controls",
            "_view_module_version": "1.5.0",
            "_view_name": "HTMLView",
            "description": "",
            "description_tooltip": null,
            "layout": "IPY_MODEL_d7be3b72ed6644cf8d89b0488b0f5c60",
            "placeholder": "​",
            "style": "IPY_MODEL_65de0f9f04034fb69bba8903a9196b31",
            "value": "special_tokens_map.json: 100%"
          }
        },
        "b088013315874353872057ccc593debf": {
          "model_module": "@jupyter-widgets/controls",
          "model_module_version": "1.5.0",
          "model_name": "DescriptionStyleModel",
          "state": {
            "_model_module": "@jupyter-widgets/controls",
            "_model_module_version": "1.5.0",
            "_model_name": "DescriptionStyleModel",
            "_view_count": null,
            "_view_module": "@jupyter-widgets/base",
            "_view_module_version": "1.2.0",
            "_view_name": "StyleView",
            "description_width": ""
          }
        },
        "b50e98b24dc04c0fb659e798550c1394": {
          "model_module": "@jupyter-widgets/controls",
          "model_module_version": "1.5.0",
          "model_name": "HTMLModel",
          "state": {
            "_dom_classes": [],
            "_model_module": "@jupyter-widgets/controls",
            "_model_module_version": "1.5.0",
            "_model_name": "HTMLModel",
            "_view_count": null,
            "_view_module": "@jupyter-widgets/controls",
            "_view_module_version": "1.5.0",
            "_view_name": "HTMLView",
            "description": "",
            "description_tooltip": null,
            "layout": "IPY_MODEL_55ccdafe9c3e4a56ba2376e5fc4a9bc0",
            "placeholder": "​",
            "style": "IPY_MODEL_0478335ae8a24f9f98584bae10c1c71f",
            "value": "vocab.txt: 100%"
          }
        },
        "b8cef74c448a4cb6be9e7d963e571c8c": {
          "model_module": "@jupyter-widgets/controls",
          "model_module_version": "1.5.0",
          "model_name": "DescriptionStyleModel",
          "state": {
            "_model_module": "@jupyter-widgets/controls",
            "_model_module_version": "1.5.0",
            "_model_name": "DescriptionStyleModel",
            "_view_count": null,
            "_view_module": "@jupyter-widgets/base",
            "_view_module_version": "1.2.0",
            "_view_name": "StyleView",
            "description_width": ""
          }
        },
        "bc7a0c38b0264913bb1ceb376da22634": {
          "model_module": "@jupyter-widgets/controls",
          "model_module_version": "1.5.0",
          "model_name": "ProgressStyleModel",
          "state": {
            "_model_module": "@jupyter-widgets/controls",
            "_model_module_version": "1.5.0",
            "_model_name": "ProgressStyleModel",
            "_view_count": null,
            "_view_module": "@jupyter-widgets/base",
            "_view_module_version": "1.2.0",
            "_view_name": "StyleView",
            "bar_color": null,
            "description_width": ""
          }
        },
        "be675bc0ab3b4dfe8298fc708aed8e73": {
          "model_module": "@jupyter-widgets/base",
          "model_module_version": "1.2.0",
          "model_name": "LayoutModel",
          "state": {
            "_model_module": "@jupyter-widgets/base",
            "_model_module_version": "1.2.0",
            "_model_name": "LayoutModel",
            "_view_count": null,
            "_view_module": "@jupyter-widgets/base",
            "_view_module_version": "1.2.0",
            "_view_name": "LayoutView",
            "align_content": null,
            "align_items": null,
            "align_self": null,
            "border": null,
            "bottom": null,
            "display": null,
            "flex": null,
            "flex_flow": null,
            "grid_area": null,
            "grid_auto_columns": null,
            "grid_auto_flow": null,
            "grid_auto_rows": null,
            "grid_column": null,
            "grid_gap": null,
            "grid_row": null,
            "grid_template_areas": null,
            "grid_template_columns": null,
            "grid_template_rows": null,
            "height": null,
            "justify_content": null,
            "justify_items": null,
            "left": null,
            "margin": null,
            "max_height": null,
            "max_width": null,
            "min_height": null,
            "min_width": null,
            "object_fit": null,
            "object_position": null,
            "order": null,
            "overflow": null,
            "overflow_x": null,
            "overflow_y": null,
            "padding": null,
            "right": null,
            "top": null,
            "visibility": null,
            "width": null
          }
        },
        "be90e1c80a6744d38957f90c6e7573e2": {
          "model_module": "@jupyter-widgets/controls",
          "model_module_version": "1.5.0",
          "model_name": "HTMLModel",
          "state": {
            "_dom_classes": [],
            "_model_module": "@jupyter-widgets/controls",
            "_model_module_version": "1.5.0",
            "_model_name": "HTMLModel",
            "_view_count": null,
            "_view_module": "@jupyter-widgets/controls",
            "_view_module_version": "1.5.0",
            "_view_name": "HTMLView",
            "description": "",
            "description_tooltip": null,
            "layout": "IPY_MODEL_a357f0cd7d164fb9a4b465731979d5d2",
            "placeholder": "​",
            "style": "IPY_MODEL_d829bbcbeb6f45bcb721e3bb737bab2a",
            "value": " 585/585 [00:00&lt;00:00, 22.9kB/s]"
          }
        },
        "c5a0410ddc8a4e899b21613f4d0a0fd8": {
          "model_module": "@jupyter-widgets/base",
          "model_module_version": "1.2.0",
          "model_name": "LayoutModel",
          "state": {
            "_model_module": "@jupyter-widgets/base",
            "_model_module_version": "1.2.0",
            "_model_name": "LayoutModel",
            "_view_count": null,
            "_view_module": "@jupyter-widgets/base",
            "_view_module_version": "1.2.0",
            "_view_name": "LayoutView",
            "align_content": null,
            "align_items": null,
            "align_self": null,
            "border": null,
            "bottom": null,
            "display": null,
            "flex": null,
            "flex_flow": null,
            "grid_area": null,
            "grid_auto_columns": null,
            "grid_auto_flow": null,
            "grid_auto_rows": null,
            "grid_column": null,
            "grid_gap": null,
            "grid_row": null,
            "grid_template_areas": null,
            "grid_template_columns": null,
            "grid_template_rows": null,
            "height": null,
            "justify_content": null,
            "justify_items": null,
            "left": null,
            "margin": null,
            "max_height": null,
            "max_width": null,
            "min_height": null,
            "min_width": null,
            "object_fit": null,
            "object_position": null,
            "order": null,
            "overflow": null,
            "overflow_x": null,
            "overflow_y": null,
            "padding": null,
            "right": null,
            "top": null,
            "visibility": null,
            "width": null
          }
        },
        "c680e69a02484c05b5ea6ae7ac7e7b86": {
          "model_module": "@jupyter-widgets/base",
          "model_module_version": "1.2.0",
          "model_name": "LayoutModel",
          "state": {
            "_model_module": "@jupyter-widgets/base",
            "_model_module_version": "1.2.0",
            "_model_name": "LayoutModel",
            "_view_count": null,
            "_view_module": "@jupyter-widgets/base",
            "_view_module_version": "1.2.0",
            "_view_name": "LayoutView",
            "align_content": null,
            "align_items": null,
            "align_self": null,
            "border": null,
            "bottom": null,
            "display": null,
            "flex": null,
            "flex_flow": null,
            "grid_area": null,
            "grid_auto_columns": null,
            "grid_auto_flow": null,
            "grid_auto_rows": null,
            "grid_column": null,
            "grid_gap": null,
            "grid_row": null,
            "grid_template_areas": null,
            "grid_template_columns": null,
            "grid_template_rows": null,
            "height": null,
            "justify_content": null,
            "justify_items": null,
            "left": null,
            "margin": null,
            "max_height": null,
            "max_width": null,
            "min_height": null,
            "min_width": null,
            "object_fit": null,
            "object_position": null,
            "order": null,
            "overflow": null,
            "overflow_x": null,
            "overflow_y": null,
            "padding": null,
            "right": null,
            "top": null,
            "visibility": null,
            "width": null
          }
        },
        "c688388d68a64f5e8144501168fa5187": {
          "model_module": "@jupyter-widgets/controls",
          "model_module_version": "1.5.0",
          "model_name": "HTMLModel",
          "state": {
            "_dom_classes": [],
            "_model_module": "@jupyter-widgets/controls",
            "_model_module_version": "1.5.0",
            "_model_name": "HTMLModel",
            "_view_count": null,
            "_view_module": "@jupyter-widgets/controls",
            "_view_module_version": "1.5.0",
            "_view_name": "HTMLView",
            "description": "",
            "description_tooltip": null,
            "layout": "IPY_MODEL_4f421b33540847b680e0dd9816bd6214",
            "placeholder": "​",
            "style": "IPY_MODEL_43447fdffb9045589b6848258e223168",
            "value": "config.json: 100%"
          }
        },
        "c6ce057e2fe746d0abac55bce48cad31": {
          "model_module": "@jupyter-widgets/base",
          "model_module_version": "1.2.0",
          "model_name": "LayoutModel",
          "state": {
            "_model_module": "@jupyter-widgets/base",
            "_model_module_version": "1.2.0",
            "_model_name": "LayoutModel",
            "_view_count": null,
            "_view_module": "@jupyter-widgets/base",
            "_view_module_version": "1.2.0",
            "_view_name": "LayoutView",
            "align_content": null,
            "align_items": null,
            "align_self": null,
            "border": null,
            "bottom": null,
            "display": null,
            "flex": null,
            "flex_flow": null,
            "grid_area": null,
            "grid_auto_columns": null,
            "grid_auto_flow": null,
            "grid_auto_rows": null,
            "grid_column": null,
            "grid_gap": null,
            "grid_row": null,
            "grid_template_areas": null,
            "grid_template_columns": null,
            "grid_template_rows": null,
            "height": null,
            "justify_content": null,
            "justify_items": null,
            "left": null,
            "margin": null,
            "max_height": null,
            "max_width": null,
            "min_height": null,
            "min_width": null,
            "object_fit": null,
            "object_position": null,
            "order": null,
            "overflow": null,
            "overflow_x": null,
            "overflow_y": null,
            "padding": null,
            "right": null,
            "top": null,
            "visibility": null,
            "width": null
          }
        },
        "cd388af043634bdd9bbae8490d6a3e6a": {
          "model_module": "@jupyter-widgets/controls",
          "model_module_version": "1.5.0",
          "model_name": "DescriptionStyleModel",
          "state": {
            "_model_module": "@jupyter-widgets/controls",
            "_model_module_version": "1.5.0",
            "_model_name": "DescriptionStyleModel",
            "_view_count": null,
            "_view_module": "@jupyter-widgets/base",
            "_view_module_version": "1.2.0",
            "_view_name": "StyleView",
            "description_width": ""
          }
        },
        "cdab9449ba294b87a0d23767f5d2292d": {
          "model_module": "@jupyter-widgets/base",
          "model_module_version": "1.2.0",
          "model_name": "LayoutModel",
          "state": {
            "_model_module": "@jupyter-widgets/base",
            "_model_module_version": "1.2.0",
            "_model_name": "LayoutModel",
            "_view_count": null,
            "_view_module": "@jupyter-widgets/base",
            "_view_module_version": "1.2.0",
            "_view_name": "LayoutView",
            "align_content": null,
            "align_items": null,
            "align_self": null,
            "border": null,
            "bottom": null,
            "display": null,
            "flex": null,
            "flex_flow": null,
            "grid_area": null,
            "grid_auto_columns": null,
            "grid_auto_flow": null,
            "grid_auto_rows": null,
            "grid_column": null,
            "grid_gap": null,
            "grid_row": null,
            "grid_template_areas": null,
            "grid_template_columns": null,
            "grid_template_rows": null,
            "height": null,
            "justify_content": null,
            "justify_items": null,
            "left": null,
            "margin": null,
            "max_height": null,
            "max_width": null,
            "min_height": null,
            "min_width": null,
            "object_fit": null,
            "object_position": null,
            "order": null,
            "overflow": null,
            "overflow_x": null,
            "overflow_y": null,
            "padding": null,
            "right": null,
            "top": null,
            "visibility": null,
            "width": null
          }
        },
        "d5a36bb5742c449ea0dfc0ca454fd201": {
          "model_module": "@jupyter-widgets/controls",
          "model_module_version": "1.5.0",
          "model_name": "DescriptionStyleModel",
          "state": {
            "_model_module": "@jupyter-widgets/controls",
            "_model_module_version": "1.5.0",
            "_model_name": "DescriptionStyleModel",
            "_view_count": null,
            "_view_module": "@jupyter-widgets/base",
            "_view_module_version": "1.2.0",
            "_view_name": "StyleView",
            "description_width": ""
          }
        },
        "d71d267ed74a4ee8b8751fdf6a2385c5": {
          "model_module": "@jupyter-widgets/base",
          "model_module_version": "1.2.0",
          "model_name": "LayoutModel",
          "state": {
            "_model_module": "@jupyter-widgets/base",
            "_model_module_version": "1.2.0",
            "_model_name": "LayoutModel",
            "_view_count": null,
            "_view_module": "@jupyter-widgets/base",
            "_view_module_version": "1.2.0",
            "_view_name": "LayoutView",
            "align_content": null,
            "align_items": null,
            "align_self": null,
            "border": null,
            "bottom": null,
            "display": null,
            "flex": null,
            "flex_flow": null,
            "grid_area": null,
            "grid_auto_columns": null,
            "grid_auto_flow": null,
            "grid_auto_rows": null,
            "grid_column": null,
            "grid_gap": null,
            "grid_row": null,
            "grid_template_areas": null,
            "grid_template_columns": null,
            "grid_template_rows": null,
            "height": null,
            "justify_content": null,
            "justify_items": null,
            "left": null,
            "margin": null,
            "max_height": null,
            "max_width": null,
            "min_height": null,
            "min_width": null,
            "object_fit": null,
            "object_position": null,
            "order": null,
            "overflow": null,
            "overflow_x": null,
            "overflow_y": null,
            "padding": null,
            "right": null,
            "top": null,
            "visibility": null,
            "width": null
          }
        },
        "d7be3b72ed6644cf8d89b0488b0f5c60": {
          "model_module": "@jupyter-widgets/base",
          "model_module_version": "1.2.0",
          "model_name": "LayoutModel",
          "state": {
            "_model_module": "@jupyter-widgets/base",
            "_model_module_version": "1.2.0",
            "_model_name": "LayoutModel",
            "_view_count": null,
            "_view_module": "@jupyter-widgets/base",
            "_view_module_version": "1.2.0",
            "_view_name": "LayoutView",
            "align_content": null,
            "align_items": null,
            "align_self": null,
            "border": null,
            "bottom": null,
            "display": null,
            "flex": null,
            "flex_flow": null,
            "grid_area": null,
            "grid_auto_columns": null,
            "grid_auto_flow": null,
            "grid_auto_rows": null,
            "grid_column": null,
            "grid_gap": null,
            "grid_row": null,
            "grid_template_areas": null,
            "grid_template_columns": null,
            "grid_template_rows": null,
            "height": null,
            "justify_content": null,
            "justify_items": null,
            "left": null,
            "margin": null,
            "max_height": null,
            "max_width": null,
            "min_height": null,
            "min_width": null,
            "object_fit": null,
            "object_position": null,
            "order": null,
            "overflow": null,
            "overflow_x": null,
            "overflow_y": null,
            "padding": null,
            "right": null,
            "top": null,
            "visibility": null,
            "width": null
          }
        },
        "d829bbcbeb6f45bcb721e3bb737bab2a": {
          "model_module": "@jupyter-widgets/controls",
          "model_module_version": "1.5.0",
          "model_name": "DescriptionStyleModel",
          "state": {
            "_model_module": "@jupyter-widgets/controls",
            "_model_module_version": "1.5.0",
            "_model_name": "DescriptionStyleModel",
            "_view_count": null,
            "_view_module": "@jupyter-widgets/base",
            "_view_module_version": "1.2.0",
            "_view_name": "StyleView",
            "description_width": ""
          }
        },
        "d93ff724d1b44705a9c0c186b6772b65": {
          "model_module": "@jupyter-widgets/base",
          "model_module_version": "1.2.0",
          "model_name": "LayoutModel",
          "state": {
            "_model_module": "@jupyter-widgets/base",
            "_model_module_version": "1.2.0",
            "_model_name": "LayoutModel",
            "_view_count": null,
            "_view_module": "@jupyter-widgets/base",
            "_view_module_version": "1.2.0",
            "_view_name": "LayoutView",
            "align_content": null,
            "align_items": null,
            "align_self": null,
            "border": null,
            "bottom": null,
            "display": null,
            "flex": null,
            "flex_flow": null,
            "grid_area": null,
            "grid_auto_columns": null,
            "grid_auto_flow": null,
            "grid_auto_rows": null,
            "grid_column": null,
            "grid_gap": null,
            "grid_row": null,
            "grid_template_areas": null,
            "grid_template_columns": null,
            "grid_template_rows": null,
            "height": null,
            "justify_content": null,
            "justify_items": null,
            "left": null,
            "margin": null,
            "max_height": null,
            "max_width": null,
            "min_height": null,
            "min_width": null,
            "object_fit": null,
            "object_position": null,
            "order": null,
            "overflow": null,
            "overflow_x": null,
            "overflow_y": null,
            "padding": null,
            "right": null,
            "top": null,
            "visibility": null,
            "width": null
          }
        },
        "d9accd8a952343999af2a2a86abfff8f": {
          "model_module": "@jupyter-widgets/controls",
          "model_module_version": "1.5.0",
          "model_name": "HBoxModel",
          "state": {
            "_dom_classes": [],
            "_model_module": "@jupyter-widgets/controls",
            "_model_module_version": "1.5.0",
            "_model_name": "HBoxModel",
            "_view_count": null,
            "_view_module": "@jupyter-widgets/controls",
            "_view_module_version": "1.5.0",
            "_view_name": "HBoxView",
            "box_style": "",
            "children": [
              "IPY_MODEL_69032b54ce3148f0a66b3f11b83609bf",
              "IPY_MODEL_5fbad6a4354742e5aacd2c09b2fb5b55",
              "IPY_MODEL_be90e1c80a6744d38957f90c6e7573e2"
            ],
            "layout": "IPY_MODEL_a18bea97121d4b1094032979e7590934"
          }
        },
        "dd49ee5fc8ce402dad966a479349b56c": {
          "model_module": "@jupyter-widgets/base",
          "model_module_version": "1.2.0",
          "model_name": "LayoutModel",
          "state": {
            "_model_module": "@jupyter-widgets/base",
            "_model_module_version": "1.2.0",
            "_model_name": "LayoutModel",
            "_view_count": null,
            "_view_module": "@jupyter-widgets/base",
            "_view_module_version": "1.2.0",
            "_view_name": "LayoutView",
            "align_content": null,
            "align_items": null,
            "align_self": null,
            "border": null,
            "bottom": null,
            "display": null,
            "flex": null,
            "flex_flow": null,
            "grid_area": null,
            "grid_auto_columns": null,
            "grid_auto_flow": null,
            "grid_auto_rows": null,
            "grid_column": null,
            "grid_gap": null,
            "grid_row": null,
            "grid_template_areas": null,
            "grid_template_columns": null,
            "grid_template_rows": null,
            "height": null,
            "justify_content": null,
            "justify_items": null,
            "left": null,
            "margin": null,
            "max_height": null,
            "max_width": null,
            "min_height": null,
            "min_width": null,
            "object_fit": null,
            "object_position": null,
            "order": null,
            "overflow": null,
            "overflow_x": null,
            "overflow_y": null,
            "padding": null,
            "right": null,
            "top": null,
            "visibility": null,
            "width": null
          }
        },
        "dd7cc3c53b5b4acf8ff7fb5fd8b4eca8": {
          "model_module": "@jupyter-widgets/controls",
          "model_module_version": "1.5.0",
          "model_name": "HTMLModel",
          "state": {
            "_dom_classes": [],
            "_model_module": "@jupyter-widgets/controls",
            "_model_module_version": "1.5.0",
            "_model_name": "HTMLModel",
            "_view_count": null,
            "_view_module": "@jupyter-widgets/controls",
            "_view_module_version": "1.5.0",
            "_view_name": "HTMLView",
            "description": "",
            "description_tooltip": null,
            "layout": "IPY_MODEL_c680e69a02484c05b5ea6ae7ac7e7b86",
            "placeholder": "​",
            "style": "IPY_MODEL_cd388af043634bdd9bbae8490d6a3e6a",
            "value": " 950M/950M [00:17&lt;00:00, 72.4MB/s]"
          }
        },
        "de2d126ecc2d4e0caede5ebbc72c4254": {
          "model_module": "@jupyter-widgets/controls",
          "model_module_version": "1.5.0",
          "model_name": "FloatProgressModel",
          "state": {
            "_dom_classes": [],
            "_model_module": "@jupyter-widgets/controls",
            "_model_module_version": "1.5.0",
            "_model_name": "FloatProgressModel",
            "_view_count": null,
            "_view_module": "@jupyter-widgets/controls",
            "_view_module_version": "1.5.0",
            "_view_name": "ProgressView",
            "bar_style": "success",
            "description": "",
            "description_tooltip": null,
            "layout": "IPY_MODEL_7030c955a87b499588498b197e72b5c8",
            "max": 676,
            "min": 0,
            "orientation": "horizontal",
            "style": "IPY_MODEL_bc7a0c38b0264913bb1ceb376da22634",
            "value": 676
          }
        },
        "e0eedcb5960b4b77860f52fabb2ab4bf": {
          "model_module": "@jupyter-widgets/controls",
          "model_module_version": "1.5.0",
          "model_name": "ProgressStyleModel",
          "state": {
            "_model_module": "@jupyter-widgets/controls",
            "_model_module_version": "1.5.0",
            "_model_name": "ProgressStyleModel",
            "_view_count": null,
            "_view_module": "@jupyter-widgets/base",
            "_view_module_version": "1.2.0",
            "_view_name": "StyleView",
            "bar_color": null,
            "description_width": ""
          }
        },
        "eef1cb08bb634727b4179456d60f2492": {
          "model_module": "@jupyter-widgets/controls",
          "model_module_version": "1.5.0",
          "model_name": "FloatProgressModel",
          "state": {
            "_dom_classes": [],
            "_model_module": "@jupyter-widgets/controls",
            "_model_module_version": "1.5.0",
            "_model_name": "FloatProgressModel",
            "_view_count": null,
            "_view_module": "@jupyter-widgets/controls",
            "_view_module_version": "1.5.0",
            "_view_name": "ProgressView",
            "bar_style": "success",
            "description": "",
            "description_tooltip": null,
            "layout": "IPY_MODEL_4fed0e6097964903ba615f73ff21b908",
            "max": 950293293,
            "min": 0,
            "orientation": "horizontal",
            "style": "IPY_MODEL_5dd74002727649f2a511b5e9b6a68de3",
            "value": 950293293
          }
        },
        "f9348ffcc0f0442093898ff02d8db534": {
          "model_module": "@jupyter-widgets/base",
          "model_module_version": "1.2.0",
          "model_name": "LayoutModel",
          "state": {
            "_model_module": "@jupyter-widgets/base",
            "_model_module_version": "1.2.0",
            "_model_name": "LayoutModel",
            "_view_count": null,
            "_view_module": "@jupyter-widgets/base",
            "_view_module_version": "1.2.0",
            "_view_name": "LayoutView",
            "align_content": null,
            "align_items": null,
            "align_self": null,
            "border": null,
            "bottom": null,
            "display": null,
            "flex": null,
            "flex_flow": null,
            "grid_area": null,
            "grid_auto_columns": null,
            "grid_auto_flow": null,
            "grid_auto_rows": null,
            "grid_column": null,
            "grid_gap": null,
            "grid_row": null,
            "grid_template_areas": null,
            "grid_template_columns": null,
            "grid_template_rows": null,
            "height": null,
            "justify_content": null,
            "justify_items": null,
            "left": null,
            "margin": null,
            "max_height": null,
            "max_width": null,
            "min_height": null,
            "min_width": null,
            "object_fit": null,
            "object_position": null,
            "order": null,
            "overflow": null,
            "overflow_x": null,
            "overflow_y": null,
            "padding": null,
            "right": null,
            "top": null,
            "visibility": null,
            "width": null
          }
        }
      }
    }
  },
  "nbformat": 4,
  "nbformat_minor": 0
}
