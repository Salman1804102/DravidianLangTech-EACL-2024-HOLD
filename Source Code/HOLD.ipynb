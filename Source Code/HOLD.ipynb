{
  "metadata": {
    "colab": {
      "provenance": [],
      "collapsed_sections": [
        "aRNXxjqeNzTF",
        "Ky6yKUELNBFK"
      ],
      "gpuType": "T4"
    },
    "kernelspec": {
      "name": "python3",
      "display_name": "Python 3"
    },
    "language_info": {
      "name": "python",
      "version": "3.10.12",
      "mimetype": "text/x-python",
      "codemirror_mode": {
        "name": "ipython",
        "version": 3
      },
      "pygments_lexer": "ipython3",
      "nbconvert_exporter": "python",
      "file_extension": ".py"
    },
    "widgets": {
      "application/vnd.jupyter.widget-state+json": {
        "938517513c8c4e14b52c511f2a0612f3": {
          "model_module": "@jupyter-widgets/controls",
          "model_name": "HBoxModel",
          "model_module_version": "1.5.0",
          "state": {
            "_dom_classes": [],
            "_model_module": "@jupyter-widgets/controls",
            "_model_module_version": "1.5.0",
            "_model_name": "HBoxModel",
            "_view_count": null,
            "_view_module": "@jupyter-widgets/controls",
            "_view_module_version": "1.5.0",
            "_view_name": "HBoxView",
            "box_style": "",
            "children": [
              "IPY_MODEL_c688388d68a64f5e8144501168fa5187",
              "IPY_MODEL_de2d126ecc2d4e0caede5ebbc72c4254",
              "IPY_MODEL_2f1865d8de7d43388354ba71ca33ad14"
            ],
            "layout": "IPY_MODEL_dd49ee5fc8ce402dad966a479349b56c"
          }
        },
        "c688388d68a64f5e8144501168fa5187": {
          "model_module": "@jupyter-widgets/controls",
          "model_name": "HTMLModel",
          "model_module_version": "1.5.0",
          "state": {
            "_dom_classes": [],
            "_model_module": "@jupyter-widgets/controls",
            "_model_module_version": "1.5.0",
            "_model_name": "HTMLModel",
            "_view_count": null,
            "_view_module": "@jupyter-widgets/controls",
            "_view_module_version": "1.5.0",
            "_view_name": "HTMLView",
            "description": "",
            "description_tooltip": null,
            "layout": "IPY_MODEL_4f421b33540847b680e0dd9816bd6214",
            "placeholder": "​",
            "style": "IPY_MODEL_43447fdffb9045589b6848258e223168",
            "value": "config.json: 100%"
          }
        },
        "de2d126ecc2d4e0caede5ebbc72c4254": {
          "model_module": "@jupyter-widgets/controls",
          "model_name": "FloatProgressModel",
          "model_module_version": "1.5.0",
          "state": {
            "_dom_classes": [],
            "_model_module": "@jupyter-widgets/controls",
            "_model_module_version": "1.5.0",
            "_model_name": "FloatProgressModel",
            "_view_count": null,
            "_view_module": "@jupyter-widgets/controls",
            "_view_module_version": "1.5.0",
            "_view_name": "ProgressView",
            "bar_style": "success",
            "description": "",
            "description_tooltip": null,
            "layout": "IPY_MODEL_7030c955a87b499588498b197e72b5c8",
            "max": 676,
            "min": 0,
            "orientation": "horizontal",
            "style": "IPY_MODEL_bc7a0c38b0264913bb1ceb376da22634",
            "value": 676
          }
        },
        "2f1865d8de7d43388354ba71ca33ad14": {
          "model_module": "@jupyter-widgets/controls",
          "model_name": "HTMLModel",
          "model_module_version": "1.5.0",
          "state": {
            "_dom_classes": [],
            "_model_module": "@jupyter-widgets/controls",
            "_model_module_version": "1.5.0",
            "_model_name": "HTMLModel",
            "_view_count": null,
            "_view_module": "@jupyter-widgets/controls",
            "_view_module_version": "1.5.0",
            "_view_name": "HTMLView",
            "description": "",
            "description_tooltip": null,
            "layout": "IPY_MODEL_12c0e33d3f7e458b85a92b92216bf2fe",
            "placeholder": "​",
            "style": "IPY_MODEL_97319b171b754917b74a51a9a17d2367",
            "value": " 676/676 [00:00&lt;00:00, 13.7kB/s]"
          }
        },
        "dd49ee5fc8ce402dad966a479349b56c": {
          "model_module": "@jupyter-widgets/base",
          "model_name": "LayoutModel",
          "model_module_version": "1.2.0",
          "state": {
            "_model_module": "@jupyter-widgets/base",
            "_model_module_version": "1.2.0",
            "_model_name": "LayoutModel",
            "_view_count": null,
            "_view_module": "@jupyter-widgets/base",
            "_view_module_version": "1.2.0",
            "_view_name": "LayoutView",
            "align_content": null,
            "align_items": null,
            "align_self": null,
            "border": null,
            "bottom": null,
            "display": null,
            "flex": null,
            "flex_flow": null,
            "grid_area": null,
            "grid_auto_columns": null,
            "grid_auto_flow": null,
            "grid_auto_rows": null,
            "grid_column": null,
            "grid_gap": null,
            "grid_row": null,
            "grid_template_areas": null,
            "grid_template_columns": null,
            "grid_template_rows": null,
            "height": null,
            "justify_content": null,
            "justify_items": null,
            "left": null,
            "margin": null,
            "max_height": null,
            "max_width": null,
            "min_height": null,
            "min_width": null,
            "object_fit": null,
            "object_position": null,
            "order": null,
            "overflow": null,
            "overflow_x": null,
            "overflow_y": null,
            "padding": null,
            "right": null,
            "top": null,
            "visibility": null,
            "width": null
          }
        },
        "4f421b33540847b680e0dd9816bd6214": {
          "model_module": "@jupyter-widgets/base",
          "model_name": "LayoutModel",
          "model_module_version": "1.2.0",
          "state": {
            "_model_module": "@jupyter-widgets/base",
            "_model_module_version": "1.2.0",
            "_model_name": "LayoutModel",
            "_view_count": null,
            "_view_module": "@jupyter-widgets/base",
            "_view_module_version": "1.2.0",
            "_view_name": "LayoutView",
            "align_content": null,
            "align_items": null,
            "align_self": null,
            "border": null,
            "bottom": null,
            "display": null,
            "flex": null,
            "flex_flow": null,
            "grid_area": null,
            "grid_auto_columns": null,
            "grid_auto_flow": null,
            "grid_auto_rows": null,
            "grid_column": null,
            "grid_gap": null,
            "grid_row": null,
            "grid_template_areas": null,
            "grid_template_columns": null,
            "grid_template_rows": null,
            "height": null,
            "justify_content": null,
            "justify_items": null,
            "left": null,
            "margin": null,
            "max_height": null,
            "max_width": null,
            "min_height": null,
            "min_width": null,
            "object_fit": null,
            "object_position": null,
            "order": null,
            "overflow": null,
            "overflow_x": null,
            "overflow_y": null,
            "padding": null,
            "right": null,
            "top": null,
            "visibility": null,
            "width": null
          }
        },
        "43447fdffb9045589b6848258e223168": {
          "model_module": "@jupyter-widgets/controls",
          "model_name": "DescriptionStyleModel",
          "model_module_version": "1.5.0",
          "state": {
            "_model_module": "@jupyter-widgets/controls",
            "_model_module_version": "1.5.0",
            "_model_name": "DescriptionStyleModel",
            "_view_count": null,
            "_view_module": "@jupyter-widgets/base",
            "_view_module_version": "1.2.0",
            "_view_name": "StyleView",
            "description_width": ""
          }
        },
        "7030c955a87b499588498b197e72b5c8": {
          "model_module": "@jupyter-widgets/base",
          "model_name": "LayoutModel",
          "model_module_version": "1.2.0",
          "state": {
            "_model_module": "@jupyter-widgets/base",
            "_model_module_version": "1.2.0",
            "_model_name": "LayoutModel",
            "_view_count": null,
            "_view_module": "@jupyter-widgets/base",
            "_view_module_version": "1.2.0",
            "_view_name": "LayoutView",
            "align_content": null,
            "align_items": null,
            "align_self": null,
            "border": null,
            "bottom": null,
            "display": null,
            "flex": null,
            "flex_flow": null,
            "grid_area": null,
            "grid_auto_columns": null,
            "grid_auto_flow": null,
            "grid_auto_rows": null,
            "grid_column": null,
            "grid_gap": null,
            "grid_row": null,
            "grid_template_areas": null,
            "grid_template_columns": null,
            "grid_template_rows": null,
            "height": null,
            "justify_content": null,
            "justify_items": null,
            "left": null,
            "margin": null,
            "max_height": null,
            "max_width": null,
            "min_height": null,
            "min_width": null,
            "object_fit": null,
            "object_position": null,
            "order": null,
            "overflow": null,
            "overflow_x": null,
            "overflow_y": null,
            "padding": null,
            "right": null,
            "top": null,
            "visibility": null,
            "width": null
          }
        },
        "bc7a0c38b0264913bb1ceb376da22634": {
          "model_module": "@jupyter-widgets/controls",
          "model_name": "ProgressStyleModel",
          "model_module_version": "1.5.0",
          "state": {
            "_model_module": "@jupyter-widgets/controls",
            "_model_module_version": "1.5.0",
            "_model_name": "ProgressStyleModel",
            "_view_count": null,
            "_view_module": "@jupyter-widgets/base",
            "_view_module_version": "1.2.0",
            "_view_name": "StyleView",
            "bar_color": null,
            "description_width": ""
          }
        },
        "12c0e33d3f7e458b85a92b92216bf2fe": {
          "model_module": "@jupyter-widgets/base",
          "model_name": "LayoutModel",
          "model_module_version": "1.2.0",
          "state": {
            "_model_module": "@jupyter-widgets/base",
            "_model_module_version": "1.2.0",
            "_model_name": "LayoutModel",
            "_view_count": null,
            "_view_module": "@jupyter-widgets/base",
            "_view_module_version": "1.2.0",
            "_view_name": "LayoutView",
            "align_content": null,
            "align_items": null,
            "align_self": null,
            "border": null,
            "bottom": null,
            "display": null,
            "flex": null,
            "flex_flow": null,
            "grid_area": null,
            "grid_auto_columns": null,
            "grid_auto_flow": null,
            "grid_auto_rows": null,
            "grid_column": null,
            "grid_gap": null,
            "grid_row": null,
            "grid_template_areas": null,
            "grid_template_columns": null,
            "grid_template_rows": null,
            "height": null,
            "justify_content": null,
            "justify_items": null,
            "left": null,
            "margin": null,
            "max_height": null,
            "max_width": null,
            "min_height": null,
            "min_width": null,
            "object_fit": null,
            "object_position": null,
            "order": null,
            "overflow": null,
            "overflow_x": null,
            "overflow_y": null,
            "padding": null,
            "right": null,
            "top": null,
            "visibility": null,
            "width": null
          }
        },
        "97319b171b754917b74a51a9a17d2367": {
          "model_module": "@jupyter-widgets/controls",
          "model_name": "DescriptionStyleModel",
          "model_module_version": "1.5.0",
          "state": {
            "_model_module": "@jupyter-widgets/controls",
            "_model_module_version": "1.5.0",
            "_model_name": "DescriptionStyleModel",
            "_view_count": null,
            "_view_module": "@jupyter-widgets/base",
            "_view_module_version": "1.2.0",
            "_view_name": "StyleView",
            "description_width": ""
          }
        },
        "116ec33856f943838db735673a397cee": {
          "model_module": "@jupyter-widgets/controls",
          "model_name": "HBoxModel",
          "model_module_version": "1.5.0",
          "state": {
            "_dom_classes": [],
            "_model_module": "@jupyter-widgets/controls",
            "_model_module_version": "1.5.0",
            "_model_name": "HBoxModel",
            "_view_count": null,
            "_view_module": "@jupyter-widgets/controls",
            "_view_module_version": "1.5.0",
            "_view_name": "HBoxView",
            "box_style": "",
            "children": [
              "IPY_MODEL_56e8dc1790ea4de0baff2c3f206509b3",
              "IPY_MODEL_eef1cb08bb634727b4179456d60f2492",
              "IPY_MODEL_dd7cc3c53b5b4acf8ff7fb5fd8b4eca8"
            ],
            "layout": "IPY_MODEL_6815b916de45414a9ccaf9ae8cddcac8"
          }
        },
        "56e8dc1790ea4de0baff2c3f206509b3": {
          "model_module": "@jupyter-widgets/controls",
          "model_name": "HTMLModel",
          "model_module_version": "1.5.0",
          "state": {
            "_dom_classes": [],
            "_model_module": "@jupyter-widgets/controls",
            "_model_module_version": "1.5.0",
            "_model_name": "HTMLModel",
            "_view_count": null,
            "_view_module": "@jupyter-widgets/controls",
            "_view_module_version": "1.5.0",
            "_view_name": "HTMLView",
            "description": "",
            "description_tooltip": null,
            "layout": "IPY_MODEL_ad6e8f1f119a4ceea9ddbc059f5d1f1b",
            "placeholder": "​",
            "style": "IPY_MODEL_b8cef74c448a4cb6be9e7d963e571c8c",
            "value": "pytorch_model.bin: 100%"
          }
        },
        "eef1cb08bb634727b4179456d60f2492": {
          "model_module": "@jupyter-widgets/controls",
          "model_name": "FloatProgressModel",
          "model_module_version": "1.5.0",
          "state": {
            "_dom_classes": [],
            "_model_module": "@jupyter-widgets/controls",
            "_model_module_version": "1.5.0",
            "_model_name": "FloatProgressModel",
            "_view_count": null,
            "_view_module": "@jupyter-widgets/controls",
            "_view_module_version": "1.5.0",
            "_view_name": "ProgressView",
            "bar_style": "success",
            "description": "",
            "description_tooltip": null,
            "layout": "IPY_MODEL_4fed0e6097964903ba615f73ff21b908",
            "max": 950293293,
            "min": 0,
            "orientation": "horizontal",
            "style": "IPY_MODEL_5dd74002727649f2a511b5e9b6a68de3",
            "value": 950293293
          }
        },
        "dd7cc3c53b5b4acf8ff7fb5fd8b4eca8": {
          "model_module": "@jupyter-widgets/controls",
          "model_name": "HTMLModel",
          "model_module_version": "1.5.0",
          "state": {
            "_dom_classes": [],
            "_model_module": "@jupyter-widgets/controls",
            "_model_module_version": "1.5.0",
            "_model_name": "HTMLModel",
            "_view_count": null,
            "_view_module": "@jupyter-widgets/controls",
            "_view_module_version": "1.5.0",
            "_view_name": "HTMLView",
            "description": "",
            "description_tooltip": null,
            "layout": "IPY_MODEL_c680e69a02484c05b5ea6ae7ac7e7b86",
            "placeholder": "​",
            "style": "IPY_MODEL_cd388af043634bdd9bbae8490d6a3e6a",
            "value": " 950M/950M [00:17&lt;00:00, 72.4MB/s]"
          }
        },
        "6815b916de45414a9ccaf9ae8cddcac8": {
          "model_module": "@jupyter-widgets/base",
          "model_name": "LayoutModel",
          "model_module_version": "1.2.0",
          "state": {
            "_model_module": "@jupyter-widgets/base",
            "_model_module_version": "1.2.0",
            "_model_name": "LayoutModel",
            "_view_count": null,
            "_view_module": "@jupyter-widgets/base",
            "_view_module_version": "1.2.0",
            "_view_name": "LayoutView",
            "align_content": null,
            "align_items": null,
            "align_self": null,
            "border": null,
            "bottom": null,
            "display": null,
            "flex": null,
            "flex_flow": null,
            "grid_area": null,
            "grid_auto_columns": null,
            "grid_auto_flow": null,
            "grid_auto_rows": null,
            "grid_column": null,
            "grid_gap": null,
            "grid_row": null,
            "grid_template_areas": null,
            "grid_template_columns": null,
            "grid_template_rows": null,
            "height": null,
            "justify_content": null,
            "justify_items": null,
            "left": null,
            "margin": null,
            "max_height": null,
            "max_width": null,
            "min_height": null,
            "min_width": null,
            "object_fit": null,
            "object_position": null,
            "order": null,
            "overflow": null,
            "overflow_x": null,
            "overflow_y": null,
            "padding": null,
            "right": null,
            "top": null,
            "visibility": null,
            "width": null
          }
        },
        "ad6e8f1f119a4ceea9ddbc059f5d1f1b": {
          "model_module": "@jupyter-widgets/base",
          "model_name": "LayoutModel",
          "model_module_version": "1.2.0",
          "state": {
            "_model_module": "@jupyter-widgets/base",
            "_model_module_version": "1.2.0",
            "_model_name": "LayoutModel",
            "_view_count": null,
            "_view_module": "@jupyter-widgets/base",
            "_view_module_version": "1.2.0",
            "_view_name": "LayoutView",
            "align_content": null,
            "align_items": null,
            "align_self": null,
            "border": null,
            "bottom": null,
            "display": null,
            "flex": null,
            "flex_flow": null,
            "grid_area": null,
            "grid_auto_columns": null,
            "grid_auto_flow": null,
            "grid_auto_rows": null,
            "grid_column": null,
            "grid_gap": null,
            "grid_row": null,
            "grid_template_areas": null,
            "grid_template_columns": null,
            "grid_template_rows": null,
            "height": null,
            "justify_content": null,
            "justify_items": null,
            "left": null,
            "margin": null,
            "max_height": null,
            "max_width": null,
            "min_height": null,
            "min_width": null,
            "object_fit": null,
            "object_position": null,
            "order": null,
            "overflow": null,
            "overflow_x": null,
            "overflow_y": null,
            "padding": null,
            "right": null,
            "top": null,
            "visibility": null,
            "width": null
          }
        },
        "b8cef74c448a4cb6be9e7d963e571c8c": {
          "model_module": "@jupyter-widgets/controls",
          "model_name": "DescriptionStyleModel",
          "model_module_version": "1.5.0",
          "state": {
            "_model_module": "@jupyter-widgets/controls",
            "_model_module_version": "1.5.0",
            "_model_name": "DescriptionStyleModel",
            "_view_count": null,
            "_view_module": "@jupyter-widgets/base",
            "_view_module_version": "1.2.0",
            "_view_name": "StyleView",
            "description_width": ""
          }
        },
        "4fed0e6097964903ba615f73ff21b908": {
          "model_module": "@jupyter-widgets/base",
          "model_name": "LayoutModel",
          "model_module_version": "1.2.0",
          "state": {
            "_model_module": "@jupyter-widgets/base",
            "_model_module_version": "1.2.0",
            "_model_name": "LayoutModel",
            "_view_count": null,
            "_view_module": "@jupyter-widgets/base",
            "_view_module_version": "1.2.0",
            "_view_name": "LayoutView",
            "align_content": null,
            "align_items": null,
            "align_self": null,
            "border": null,
            "bottom": null,
            "display": null,
            "flex": null,
            "flex_flow": null,
            "grid_area": null,
            "grid_auto_columns": null,
            "grid_auto_flow": null,
            "grid_auto_rows": null,
            "grid_column": null,
            "grid_gap": null,
            "grid_row": null,
            "grid_template_areas": null,
            "grid_template_columns": null,
            "grid_template_rows": null,
            "height": null,
            "justify_content": null,
            "justify_items": null,
            "left": null,
            "margin": null,
            "max_height": null,
            "max_width": null,
            "min_height": null,
            "min_width": null,
            "object_fit": null,
            "object_position": null,
            "order": null,
            "overflow": null,
            "overflow_x": null,
            "overflow_y": null,
            "padding": null,
            "right": null,
            "top": null,
            "visibility": null,
            "width": null
          }
        },
        "5dd74002727649f2a511b5e9b6a68de3": {
          "model_module": "@jupyter-widgets/controls",
          "model_name": "ProgressStyleModel",
          "model_module_version": "1.5.0",
          "state": {
            "_model_module": "@jupyter-widgets/controls",
            "_model_module_version": "1.5.0",
            "_model_name": "ProgressStyleModel",
            "_view_count": null,
            "_view_module": "@jupyter-widgets/base",
            "_view_module_version": "1.2.0",
            "_view_name": "StyleView",
            "bar_color": null,
            "description_width": ""
          }
        },
        "c680e69a02484c05b5ea6ae7ac7e7b86": {
          "model_module": "@jupyter-widgets/base",
          "model_name": "LayoutModel",
          "model_module_version": "1.2.0",
          "state": {
            "_model_module": "@jupyter-widgets/base",
            "_model_module_version": "1.2.0",
            "_model_name": "LayoutModel",
            "_view_count": null,
            "_view_module": "@jupyter-widgets/base",
            "_view_module_version": "1.2.0",
            "_view_name": "LayoutView",
            "align_content": null,
            "align_items": null,
            "align_self": null,
            "border": null,
            "bottom": null,
            "display": null,
            "flex": null,
            "flex_flow": null,
            "grid_area": null,
            "grid_auto_columns": null,
            "grid_auto_flow": null,
            "grid_auto_rows": null,
            "grid_column": null,
            "grid_gap": null,
            "grid_row": null,
            "grid_template_areas": null,
            "grid_template_columns": null,
            "grid_template_rows": null,
            "height": null,
            "justify_content": null,
            "justify_items": null,
            "left": null,
            "margin": null,
            "max_height": null,
            "max_width": null,
            "min_height": null,
            "min_width": null,
            "object_fit": null,
            "object_position": null,
            "order": null,
            "overflow": null,
            "overflow_x": null,
            "overflow_y": null,
            "padding": null,
            "right": null,
            "top": null,
            "visibility": null,
            "width": null
          }
        },
        "cd388af043634bdd9bbae8490d6a3e6a": {
          "model_module": "@jupyter-widgets/controls",
          "model_name": "DescriptionStyleModel",
          "model_module_version": "1.5.0",
          "state": {
            "_model_module": "@jupyter-widgets/controls",
            "_model_module_version": "1.5.0",
            "_model_name": "DescriptionStyleModel",
            "_view_count": null,
            "_view_module": "@jupyter-widgets/base",
            "_view_module_version": "1.2.0",
            "_view_name": "StyleView",
            "description_width": ""
          }
        },
        "d9accd8a952343999af2a2a86abfff8f": {
          "model_module": "@jupyter-widgets/controls",
          "model_name": "HBoxModel",
          "model_module_version": "1.5.0",
          "state": {
            "_dom_classes": [],
            "_model_module": "@jupyter-widgets/controls",
            "_model_module_version": "1.5.0",
            "_model_name": "HBoxModel",
            "_view_count": null,
            "_view_module": "@jupyter-widgets/controls",
            "_view_module_version": "1.5.0",
            "_view_name": "HBoxView",
            "box_style": "",
            "children": [
              "IPY_MODEL_69032b54ce3148f0a66b3f11b83609bf",
              "IPY_MODEL_5fbad6a4354742e5aacd2c09b2fb5b55",
              "IPY_MODEL_be90e1c80a6744d38957f90c6e7573e2"
            ],
            "layout": "IPY_MODEL_a18bea97121d4b1094032979e7590934"
          }
        },
        "69032b54ce3148f0a66b3f11b83609bf": {
          "model_module": "@jupyter-widgets/controls",
          "model_name": "HTMLModel",
          "model_module_version": "1.5.0",
          "state": {
            "_dom_classes": [],
            "_model_module": "@jupyter-widgets/controls",
            "_model_module_version": "1.5.0",
            "_model_name": "HTMLModel",
            "_view_count": null,
            "_view_module": "@jupyter-widgets/controls",
            "_view_module_version": "1.5.0",
            "_view_name": "HTMLView",
            "description": "",
            "description_tooltip": null,
            "layout": "IPY_MODEL_c6ce057e2fe746d0abac55bce48cad31",
            "placeholder": "​",
            "style": "IPY_MODEL_d5a36bb5742c449ea0dfc0ca454fd201",
            "value": "tokenizer_config.json: 100%"
          }
        },
        "5fbad6a4354742e5aacd2c09b2fb5b55": {
          "model_module": "@jupyter-widgets/controls",
          "model_name": "FloatProgressModel",
          "model_module_version": "1.5.0",
          "state": {
            "_dom_classes": [],
            "_model_module": "@jupyter-widgets/controls",
            "_model_module_version": "1.5.0",
            "_model_name": "FloatProgressModel",
            "_view_count": null,
            "_view_module": "@jupyter-widgets/controls",
            "_view_module_version": "1.5.0",
            "_view_name": "ProgressView",
            "bar_style": "success",
            "description": "",
            "description_tooltip": null,
            "layout": "IPY_MODEL_11a826b8951a439b9647e5fb3a18ee92",
            "max": 585,
            "min": 0,
            "orientation": "horizontal",
            "style": "IPY_MODEL_3770457988554617932e39a50baccbb0",
            "value": 585
          }
        },
        "be90e1c80a6744d38957f90c6e7573e2": {
          "model_module": "@jupyter-widgets/controls",
          "model_name": "HTMLModel",
          "model_module_version": "1.5.0",
          "state": {
            "_dom_classes": [],
            "_model_module": "@jupyter-widgets/controls",
            "_model_module_version": "1.5.0",
            "_model_name": "HTMLModel",
            "_view_count": null,
            "_view_module": "@jupyter-widgets/controls",
            "_view_module_version": "1.5.0",
            "_view_name": "HTMLView",
            "description": "",
            "description_tooltip": null,
            "layout": "IPY_MODEL_a357f0cd7d164fb9a4b465731979d5d2",
            "placeholder": "​",
            "style": "IPY_MODEL_d829bbcbeb6f45bcb721e3bb737bab2a",
            "value": " 585/585 [00:00&lt;00:00, 22.9kB/s]"
          }
        },
        "a18bea97121d4b1094032979e7590934": {
          "model_module": "@jupyter-widgets/base",
          "model_name": "LayoutModel",
          "model_module_version": "1.2.0",
          "state": {
            "_model_module": "@jupyter-widgets/base",
            "_model_module_version": "1.2.0",
            "_model_name": "LayoutModel",
            "_view_count": null,
            "_view_module": "@jupyter-widgets/base",
            "_view_module_version": "1.2.0",
            "_view_name": "LayoutView",
            "align_content": null,
            "align_items": null,
            "align_self": null,
            "border": null,
            "bottom": null,
            "display": null,
            "flex": null,
            "flex_flow": null,
            "grid_area": null,
            "grid_auto_columns": null,
            "grid_auto_flow": null,
            "grid_auto_rows": null,
            "grid_column": null,
            "grid_gap": null,
            "grid_row": null,
            "grid_template_areas": null,
            "grid_template_columns": null,
            "grid_template_rows": null,
            "height": null,
            "justify_content": null,
            "justify_items": null,
            "left": null,
            "margin": null,
            "max_height": null,
            "max_width": null,
            "min_height": null,
            "min_width": null,
            "object_fit": null,
            "object_position": null,
            "order": null,
            "overflow": null,
            "overflow_x": null,
            "overflow_y": null,
            "padding": null,
            "right": null,
            "top": null,
            "visibility": null,
            "width": null
          }
        },
        "c6ce057e2fe746d0abac55bce48cad31": {
          "model_module": "@jupyter-widgets/base",
          "model_name": "LayoutModel",
          "model_module_version": "1.2.0",
          "state": {
            "_model_module": "@jupyter-widgets/base",
            "_model_module_version": "1.2.0",
            "_model_name": "LayoutModel",
            "_view_count": null,
            "_view_module": "@jupyter-widgets/base",
            "_view_module_version": "1.2.0",
            "_view_name": "LayoutView",
            "align_content": null,
            "align_items": null,
            "align_self": null,
            "border": null,
            "bottom": null,
            "display": null,
            "flex": null,
            "flex_flow": null,
            "grid_area": null,
            "grid_auto_columns": null,
            "grid_auto_flow": null,
            "grid_auto_rows": null,
            "grid_column": null,
            "grid_gap": null,
            "grid_row": null,
            "grid_template_areas": null,
            "grid_template_columns": null,
            "grid_template_rows": null,
            "height": null,
            "justify_content": null,
            "justify_items": null,
            "left": null,
            "margin": null,
            "max_height": null,
            "max_width": null,
            "min_height": null,
            "min_width": null,
            "object_fit": null,
            "object_position": null,
            "order": null,
            "overflow": null,
            "overflow_x": null,
            "overflow_y": null,
            "padding": null,
            "right": null,
            "top": null,
            "visibility": null,
            "width": null
          }
        },
        "d5a36bb5742c449ea0dfc0ca454fd201": {
          "model_module": "@jupyter-widgets/controls",
          "model_name": "DescriptionStyleModel",
          "model_module_version": "1.5.0",
          "state": {
            "_model_module": "@jupyter-widgets/controls",
            "_model_module_version": "1.5.0",
            "_model_name": "DescriptionStyleModel",
            "_view_count": null,
            "_view_module": "@jupyter-widgets/base",
            "_view_module_version": "1.2.0",
            "_view_name": "StyleView",
            "description_width": ""
          }
        },
        "11a826b8951a439b9647e5fb3a18ee92": {
          "model_module": "@jupyter-widgets/base",
          "model_name": "LayoutModel",
          "model_module_version": "1.2.0",
          "state": {
            "_model_module": "@jupyter-widgets/base",
            "_model_module_version": "1.2.0",
            "_model_name": "LayoutModel",
            "_view_count": null,
            "_view_module": "@jupyter-widgets/base",
            "_view_module_version": "1.2.0",
            "_view_name": "LayoutView",
            "align_content": null,
            "align_items": null,
            "align_self": null,
            "border": null,
            "bottom": null,
            "display": null,
            "flex": null,
            "flex_flow": null,
            "grid_area": null,
            "grid_auto_columns": null,
            "grid_auto_flow": null,
            "grid_auto_rows": null,
            "grid_column": null,
            "grid_gap": null,
            "grid_row": null,
            "grid_template_areas": null,
            "grid_template_columns": null,
            "grid_template_rows": null,
            "height": null,
            "justify_content": null,
            "justify_items": null,
            "left": null,
            "margin": null,
            "max_height": null,
            "max_width": null,
            "min_height": null,
            "min_width": null,
            "object_fit": null,
            "object_position": null,
            "order": null,
            "overflow": null,
            "overflow_x": null,
            "overflow_y": null,
            "padding": null,
            "right": null,
            "top": null,
            "visibility": null,
            "width": null
          }
        },
        "3770457988554617932e39a50baccbb0": {
          "model_module": "@jupyter-widgets/controls",
          "model_name": "ProgressStyleModel",
          "model_module_version": "1.5.0",
          "state": {
            "_model_module": "@jupyter-widgets/controls",
            "_model_module_version": "1.5.0",
            "_model_name": "ProgressStyleModel",
            "_view_count": null,
            "_view_module": "@jupyter-widgets/base",
            "_view_module_version": "1.2.0",
            "_view_name": "StyleView",
            "bar_color": null,
            "description_width": ""
          }
        },
        "a357f0cd7d164fb9a4b465731979d5d2": {
          "model_module": "@jupyter-widgets/base",
          "model_name": "LayoutModel",
          "model_module_version": "1.2.0",
          "state": {
            "_model_module": "@jupyter-widgets/base",
            "_model_module_version": "1.2.0",
            "_model_name": "LayoutModel",
            "_view_count": null,
            "_view_module": "@jupyter-widgets/base",
            "_view_module_version": "1.2.0",
            "_view_name": "LayoutView",
            "align_content": null,
            "align_items": null,
            "align_self": null,
            "border": null,
            "bottom": null,
            "display": null,
            "flex": null,
            "flex_flow": null,
            "grid_area": null,
            "grid_auto_columns": null,
            "grid_auto_flow": null,
            "grid_auto_rows": null,
            "grid_column": null,
            "grid_gap": null,
            "grid_row": null,
            "grid_template_areas": null,
            "grid_template_columns": null,
            "grid_template_rows": null,
            "height": null,
            "justify_content": null,
            "justify_items": null,
            "left": null,
            "margin": null,
            "max_height": null,
            "max_width": null,
            "min_height": null,
            "min_width": null,
            "object_fit": null,
            "object_position": null,
            "order": null,
            "overflow": null,
            "overflow_x": null,
            "overflow_y": null,
            "padding": null,
            "right": null,
            "top": null,
            "visibility": null,
            "width": null
          }
        },
        "d829bbcbeb6f45bcb721e3bb737bab2a": {
          "model_module": "@jupyter-widgets/controls",
          "model_name": "DescriptionStyleModel",
          "model_module_version": "1.5.0",
          "state": {
            "_model_module": "@jupyter-widgets/controls",
            "_model_module_version": "1.5.0",
            "_model_name": "DescriptionStyleModel",
            "_view_count": null,
            "_view_module": "@jupyter-widgets/base",
            "_view_module_version": "1.2.0",
            "_view_name": "StyleView",
            "description_width": ""
          }
        },
        "8cf56fc9bc854403a78d599c92656b33": {
          "model_module": "@jupyter-widgets/controls",
          "model_name": "HBoxModel",
          "model_module_version": "1.5.0",
          "state": {
            "_dom_classes": [],
            "_model_module": "@jupyter-widgets/controls",
            "_model_module_version": "1.5.0",
            "_model_name": "HBoxModel",
            "_view_count": null,
            "_view_module": "@jupyter-widgets/controls",
            "_view_module_version": "1.5.0",
            "_view_name": "HBoxView",
            "box_style": "",
            "children": [
              "IPY_MODEL_b50e98b24dc04c0fb659e798550c1394",
              "IPY_MODEL_2e9e3c2b61f64e699189fbb2bf14227d",
              "IPY_MODEL_594598c1b6434e93bd349d8fa983265e"
            ],
            "layout": "IPY_MODEL_c5a0410ddc8a4e899b21613f4d0a0fd8"
          }
        },
        "b50e98b24dc04c0fb659e798550c1394": {
          "model_module": "@jupyter-widgets/controls",
          "model_name": "HTMLModel",
          "model_module_version": "1.5.0",
          "state": {
            "_dom_classes": [],
            "_model_module": "@jupyter-widgets/controls",
            "_model_module_version": "1.5.0",
            "_model_name": "HTMLModel",
            "_view_count": null,
            "_view_module": "@jupyter-widgets/controls",
            "_view_module_version": "1.5.0",
            "_view_name": "HTMLView",
            "description": "",
            "description_tooltip": null,
            "layout": "IPY_MODEL_55ccdafe9c3e4a56ba2376e5fc4a9bc0",
            "placeholder": "​",
            "style": "IPY_MODEL_0478335ae8a24f9f98584bae10c1c71f",
            "value": "vocab.txt: 100%"
          }
        },
        "2e9e3c2b61f64e699189fbb2bf14227d": {
          "model_module": "@jupyter-widgets/controls",
          "model_name": "FloatProgressModel",
          "model_module_version": "1.5.0",
          "state": {
            "_dom_classes": [],
            "_model_module": "@jupyter-widgets/controls",
            "_model_module_version": "1.5.0",
            "_model_name": "FloatProgressModel",
            "_view_count": null,
            "_view_module": "@jupyter-widgets/controls",
            "_view_module_version": "1.5.0",
            "_view_name": "ProgressView",
            "bar_style": "success",
            "description": "",
            "description_tooltip": null,
            "layout": "IPY_MODEL_f9348ffcc0f0442093898ff02d8db534",
            "max": 3162999,
            "min": 0,
            "orientation": "horizontal",
            "style": "IPY_MODEL_ac806f30bffc4544a23eee41d65dc024",
            "value": 3162999
          }
        },
        "594598c1b6434e93bd349d8fa983265e": {
          "model_module": "@jupyter-widgets/controls",
          "model_name": "HTMLModel",
          "model_module_version": "1.5.0",
          "state": {
            "_dom_classes": [],
            "_model_module": "@jupyter-widgets/controls",
            "_model_module_version": "1.5.0",
            "_model_name": "HTMLModel",
            "_view_count": null,
            "_view_module": "@jupyter-widgets/controls",
            "_view_module_version": "1.5.0",
            "_view_name": "HTMLView",
            "description": "",
            "description_tooltip": null,
            "layout": "IPY_MODEL_96c409a1135d45e49a4bff6566adc8ed",
            "placeholder": "​",
            "style": "IPY_MODEL_4320ece9bf6b4c1ca74de04ccc1fd051",
            "value": " 3.16M/3.16M [00:00&lt;00:00, 6.00MB/s]"
          }
        },
        "c5a0410ddc8a4e899b21613f4d0a0fd8": {
          "model_module": "@jupyter-widgets/base",
          "model_name": "LayoutModel",
          "model_module_version": "1.2.0",
          "state": {
            "_model_module": "@jupyter-widgets/base",
            "_model_module_version": "1.2.0",
            "_model_name": "LayoutModel",
            "_view_count": null,
            "_view_module": "@jupyter-widgets/base",
            "_view_module_version": "1.2.0",
            "_view_name": "LayoutView",
            "align_content": null,
            "align_items": null,
            "align_self": null,
            "border": null,
            "bottom": null,
            "display": null,
            "flex": null,
            "flex_flow": null,
            "grid_area": null,
            "grid_auto_columns": null,
            "grid_auto_flow": null,
            "grid_auto_rows": null,
            "grid_column": null,
            "grid_gap": null,
            "grid_row": null,
            "grid_template_areas": null,
            "grid_template_columns": null,
            "grid_template_rows": null,
            "height": null,
            "justify_content": null,
            "justify_items": null,
            "left": null,
            "margin": null,
            "max_height": null,
            "max_width": null,
            "min_height": null,
            "min_width": null,
            "object_fit": null,
            "object_position": null,
            "order": null,
            "overflow": null,
            "overflow_x": null,
            "overflow_y": null,
            "padding": null,
            "right": null,
            "top": null,
            "visibility": null,
            "width": null
          }
        },
        "55ccdafe9c3e4a56ba2376e5fc4a9bc0": {
          "model_module": "@jupyter-widgets/base",
          "model_name": "LayoutModel",
          "model_module_version": "1.2.0",
          "state": {
            "_model_module": "@jupyter-widgets/base",
            "_model_module_version": "1.2.0",
            "_model_name": "LayoutModel",
            "_view_count": null,
            "_view_module": "@jupyter-widgets/base",
            "_view_module_version": "1.2.0",
            "_view_name": "LayoutView",
            "align_content": null,
            "align_items": null,
            "align_self": null,
            "border": null,
            "bottom": null,
            "display": null,
            "flex": null,
            "flex_flow": null,
            "grid_area": null,
            "grid_auto_columns": null,
            "grid_auto_flow": null,
            "grid_auto_rows": null,
            "grid_column": null,
            "grid_gap": null,
            "grid_row": null,
            "grid_template_areas": null,
            "grid_template_columns": null,
            "grid_template_rows": null,
            "height": null,
            "justify_content": null,
            "justify_items": null,
            "left": null,
            "margin": null,
            "max_height": null,
            "max_width": null,
            "min_height": null,
            "min_width": null,
            "object_fit": null,
            "object_position": null,
            "order": null,
            "overflow": null,
            "overflow_x": null,
            "overflow_y": null,
            "padding": null,
            "right": null,
            "top": null,
            "visibility": null,
            "width": null
          }
        },
        "0478335ae8a24f9f98584bae10c1c71f": {
          "model_module": "@jupyter-widgets/controls",
          "model_name": "DescriptionStyleModel",
          "model_module_version": "1.5.0",
          "state": {
            "_model_module": "@jupyter-widgets/controls",
            "_model_module_version": "1.5.0",
            "_model_name": "DescriptionStyleModel",
            "_view_count": null,
            "_view_module": "@jupyter-widgets/base",
            "_view_module_version": "1.2.0",
            "_view_name": "StyleView",
            "description_width": ""
          }
        },
        "f9348ffcc0f0442093898ff02d8db534": {
          "model_module": "@jupyter-widgets/base",
          "model_name": "LayoutModel",
          "model_module_version": "1.2.0",
          "state": {
            "_model_module": "@jupyter-widgets/base",
            "_model_module_version": "1.2.0",
            "_model_name": "LayoutModel",
            "_view_count": null,
            "_view_module": "@jupyter-widgets/base",
            "_view_module_version": "1.2.0",
            "_view_name": "LayoutView",
            "align_content": null,
            "align_items": null,
            "align_self": null,
            "border": null,
            "bottom": null,
            "display": null,
            "flex": null,
            "flex_flow": null,
            "grid_area": null,
            "grid_auto_columns": null,
            "grid_auto_flow": null,
            "grid_auto_rows": null,
            "grid_column": null,
            "grid_gap": null,
            "grid_row": null,
            "grid_template_areas": null,
            "grid_template_columns": null,
            "grid_template_rows": null,
            "height": null,
            "justify_content": null,
            "justify_items": null,
            "left": null,
            "margin": null,
            "max_height": null,
            "max_width": null,
            "min_height": null,
            "min_width": null,
            "object_fit": null,
            "object_position": null,
            "order": null,
            "overflow": null,
            "overflow_x": null,
            "overflow_y": null,
            "padding": null,
            "right": null,
            "top": null,
            "visibility": null,
            "width": null
          }
        },
        "ac806f30bffc4544a23eee41d65dc024": {
          "model_module": "@jupyter-widgets/controls",
          "model_name": "ProgressStyleModel",
          "model_module_version": "1.5.0",
          "state": {
            "_model_module": "@jupyter-widgets/controls",
            "_model_module_version": "1.5.0",
            "_model_name": "ProgressStyleModel",
            "_view_count": null,
            "_view_module": "@jupyter-widgets/base",
            "_view_module_version": "1.2.0",
            "_view_name": "StyleView",
            "bar_color": null,
            "description_width": ""
          }
        },
        "96c409a1135d45e49a4bff6566adc8ed": {
          "model_module": "@jupyter-widgets/base",
          "model_name": "LayoutModel",
          "model_module_version": "1.2.0",
          "state": {
            "_model_module": "@jupyter-widgets/base",
            "_model_module_version": "1.2.0",
            "_model_name": "LayoutModel",
            "_view_count": null,
            "_view_module": "@jupyter-widgets/base",
            "_view_module_version": "1.2.0",
            "_view_name": "LayoutView",
            "align_content": null,
            "align_items": null,
            "align_self": null,
            "border": null,
            "bottom": null,
            "display": null,
            "flex": null,
            "flex_flow": null,
            "grid_area": null,
            "grid_auto_columns": null,
            "grid_auto_flow": null,
            "grid_auto_rows": null,
            "grid_column": null,
            "grid_gap": null,
            "grid_row": null,
            "grid_template_areas": null,
            "grid_template_columns": null,
            "grid_template_rows": null,
            "height": null,
            "justify_content": null,
            "justify_items": null,
            "left": null,
            "margin": null,
            "max_height": null,
            "max_width": null,
            "min_height": null,
            "min_width": null,
            "object_fit": null,
            "object_position": null,
            "order": null,
            "overflow": null,
            "overflow_x": null,
            "overflow_y": null,
            "padding": null,
            "right": null,
            "top": null,
            "visibility": null,
            "width": null
          }
        },
        "4320ece9bf6b4c1ca74de04ccc1fd051": {
          "model_module": "@jupyter-widgets/controls",
          "model_name": "DescriptionStyleModel",
          "model_module_version": "1.5.0",
          "state": {
            "_model_module": "@jupyter-widgets/controls",
            "_model_module_version": "1.5.0",
            "_model_name": "DescriptionStyleModel",
            "_view_count": null,
            "_view_module": "@jupyter-widgets/base",
            "_view_module_version": "1.2.0",
            "_view_name": "StyleView",
            "description_width": ""
          }
        },
        "925380a76fec43b2a589aceeaf0da6ed": {
          "model_module": "@jupyter-widgets/controls",
          "model_name": "HBoxModel",
          "model_module_version": "1.5.0",
          "state": {
            "_dom_classes": [],
            "_model_module": "@jupyter-widgets/controls",
            "_model_module_version": "1.5.0",
            "_model_name": "HBoxModel",
            "_view_count": null,
            "_view_module": "@jupyter-widgets/controls",
            "_view_module_version": "1.5.0",
            "_view_name": "HBoxView",
            "box_style": "",
            "children": [
              "IPY_MODEL_824f74239e53489aa6508e0b6a6d36ad",
              "IPY_MODEL_948cede7a372446db2889375f3bee7ac",
              "IPY_MODEL_529363f38ea047abb5da9d2c027b20d1"
            ],
            "layout": "IPY_MODEL_be675bc0ab3b4dfe8298fc708aed8e73"
          }
        },
        "824f74239e53489aa6508e0b6a6d36ad": {
          "model_module": "@jupyter-widgets/controls",
          "model_name": "HTMLModel",
          "model_module_version": "1.5.0",
          "state": {
            "_dom_classes": [],
            "_model_module": "@jupyter-widgets/controls",
            "_model_module_version": "1.5.0",
            "_model_name": "HTMLModel",
            "_view_count": null,
            "_view_module": "@jupyter-widgets/controls",
            "_view_module_version": "1.5.0",
            "_view_name": "HTMLView",
            "description": "",
            "description_tooltip": null,
            "layout": "IPY_MODEL_792a5f6336444c0d8c963a8e720e82b0",
            "placeholder": "​",
            "style": "IPY_MODEL_7674c5fe51284b989bef685f9d6ab817",
            "value": "tokenizer.json: 100%"
          }
        },
        "948cede7a372446db2889375f3bee7ac": {
          "model_module": "@jupyter-widgets/controls",
          "model_name": "FloatProgressModel",
          "model_module_version": "1.5.0",
          "state": {
            "_dom_classes": [],
            "_model_module": "@jupyter-widgets/controls",
            "_model_module_version": "1.5.0",
            "_model_name": "FloatProgressModel",
            "_view_count": null,
            "_view_module": "@jupyter-widgets/controls",
            "_view_module_version": "1.5.0",
            "_view_name": "ProgressView",
            "bar_style": "success",
            "description": "",
            "description_tooltip": null,
            "layout": "IPY_MODEL_d93ff724d1b44705a9c0c186b6772b65",
            "max": 6408635,
            "min": 0,
            "orientation": "horizontal",
            "style": "IPY_MODEL_701fda7048694980a86ba82a6ef0fd04",
            "value": 6408635
          }
        },
        "529363f38ea047abb5da9d2c027b20d1": {
          "model_module": "@jupyter-widgets/controls",
          "model_name": "HTMLModel",
          "model_module_version": "1.5.0",
          "state": {
            "_dom_classes": [],
            "_model_module": "@jupyter-widgets/controls",
            "_model_module_version": "1.5.0",
            "_model_name": "HTMLModel",
            "_view_count": null,
            "_view_module": "@jupyter-widgets/controls",
            "_view_module_version": "1.5.0",
            "_view_name": "HTMLView",
            "description": "",
            "description_tooltip": null,
            "layout": "IPY_MODEL_4da76e8ac6e342c1aec2db69a88f02b3",
            "placeholder": "​",
            "style": "IPY_MODEL_9e0db7abffc04e68b2f01c07b491ec5f",
            "value": " 6.41M/6.41M [00:00&lt;00:00, 27.8MB/s]"
          }
        },
        "be675bc0ab3b4dfe8298fc708aed8e73": {
          "model_module": "@jupyter-widgets/base",
          "model_name": "LayoutModel",
          "model_module_version": "1.2.0",
          "state": {
            "_model_module": "@jupyter-widgets/base",
            "_model_module_version": "1.2.0",
            "_model_name": "LayoutModel",
            "_view_count": null,
            "_view_module": "@jupyter-widgets/base",
            "_view_module_version": "1.2.0",
            "_view_name": "LayoutView",
            "align_content": null,
            "align_items": null,
            "align_self": null,
            "border": null,
            "bottom": null,
            "display": null,
            "flex": null,
            "flex_flow": null,
            "grid_area": null,
            "grid_auto_columns": null,
            "grid_auto_flow": null,
            "grid_auto_rows": null,
            "grid_column": null,
            "grid_gap": null,
            "grid_row": null,
            "grid_template_areas": null,
            "grid_template_columns": null,
            "grid_template_rows": null,
            "height": null,
            "justify_content": null,
            "justify_items": null,
            "left": null,
            "margin": null,
            "max_height": null,
            "max_width": null,
            "min_height": null,
            "min_width": null,
            "object_fit": null,
            "object_position": null,
            "order": null,
            "overflow": null,
            "overflow_x": null,
            "overflow_y": null,
            "padding": null,
            "right": null,
            "top": null,
            "visibility": null,
            "width": null
          }
        },
        "792a5f6336444c0d8c963a8e720e82b0": {
          "model_module": "@jupyter-widgets/base",
          "model_name": "LayoutModel",
          "model_module_version": "1.2.0",
          "state": {
            "_model_module": "@jupyter-widgets/base",
            "_model_module_version": "1.2.0",
            "_model_name": "LayoutModel",
            "_view_count": null,
            "_view_module": "@jupyter-widgets/base",
            "_view_module_version": "1.2.0",
            "_view_name": "LayoutView",
            "align_content": null,
            "align_items": null,
            "align_self": null,
            "border": null,
            "bottom": null,
            "display": null,
            "flex": null,
            "flex_flow": null,
            "grid_area": null,
            "grid_auto_columns": null,
            "grid_auto_flow": null,
            "grid_auto_rows": null,
            "grid_column": null,
            "grid_gap": null,
            "grid_row": null,
            "grid_template_areas": null,
            "grid_template_columns": null,
            "grid_template_rows": null,
            "height": null,
            "justify_content": null,
            "justify_items": null,
            "left": null,
            "margin": null,
            "max_height": null,
            "max_width": null,
            "min_height": null,
            "min_width": null,
            "object_fit": null,
            "object_position": null,
            "order": null,
            "overflow": null,
            "overflow_x": null,
            "overflow_y": null,
            "padding": null,
            "right": null,
            "top": null,
            "visibility": null,
            "width": null
          }
        },
        "7674c5fe51284b989bef685f9d6ab817": {
          "model_module": "@jupyter-widgets/controls",
          "model_name": "DescriptionStyleModel",
          "model_module_version": "1.5.0",
          "state": {
            "_model_module": "@jupyter-widgets/controls",
            "_model_module_version": "1.5.0",
            "_model_name": "DescriptionStyleModel",
            "_view_count": null,
            "_view_module": "@jupyter-widgets/base",
            "_view_module_version": "1.2.0",
            "_view_name": "StyleView",
            "description_width": ""
          }
        },
        "d93ff724d1b44705a9c0c186b6772b65": {
          "model_module": "@jupyter-widgets/base",
          "model_name": "LayoutModel",
          "model_module_version": "1.2.0",
          "state": {
            "_model_module": "@jupyter-widgets/base",
            "_model_module_version": "1.2.0",
            "_model_name": "LayoutModel",
            "_view_count": null,
            "_view_module": "@jupyter-widgets/base",
            "_view_module_version": "1.2.0",
            "_view_name": "LayoutView",
            "align_content": null,
            "align_items": null,
            "align_self": null,
            "border": null,
            "bottom": null,
            "display": null,
            "flex": null,
            "flex_flow": null,
            "grid_area": null,
            "grid_auto_columns": null,
            "grid_auto_flow": null,
            "grid_auto_rows": null,
            "grid_column": null,
            "grid_gap": null,
            "grid_row": null,
            "grid_template_areas": null,
            "grid_template_columns": null,
            "grid_template_rows": null,
            "height": null,
            "justify_content": null,
            "justify_items": null,
            "left": null,
            "margin": null,
            "max_height": null,
            "max_width": null,
            "min_height": null,
            "min_width": null,
            "object_fit": null,
            "object_position": null,
            "order": null,
            "overflow": null,
            "overflow_x": null,
            "overflow_y": null,
            "padding": null,
            "right": null,
            "top": null,
            "visibility": null,
            "width": null
          }
        },
        "701fda7048694980a86ba82a6ef0fd04": {
          "model_module": "@jupyter-widgets/controls",
          "model_name": "ProgressStyleModel",
          "model_module_version": "1.5.0",
          "state": {
            "_model_module": "@jupyter-widgets/controls",
            "_model_module_version": "1.5.0",
            "_model_name": "ProgressStyleModel",
            "_view_count": null,
            "_view_module": "@jupyter-widgets/base",
            "_view_module_version": "1.2.0",
            "_view_name": "StyleView",
            "bar_color": null,
            "description_width": ""
          }
        },
        "4da76e8ac6e342c1aec2db69a88f02b3": {
          "model_module": "@jupyter-widgets/base",
          "model_name": "LayoutModel",
          "model_module_version": "1.2.0",
          "state": {
            "_model_module": "@jupyter-widgets/base",
            "_model_module_version": "1.2.0",
            "_model_name": "LayoutModel",
            "_view_count": null,
            "_view_module": "@jupyter-widgets/base",
            "_view_module_version": "1.2.0",
            "_view_name": "LayoutView",
            "align_content": null,
            "align_items": null,
            "align_self": null,
            "border": null,
            "bottom": null,
            "display": null,
            "flex": null,
            "flex_flow": null,
            "grid_area": null,
            "grid_auto_columns": null,
            "grid_auto_flow": null,
            "grid_auto_rows": null,
            "grid_column": null,
            "grid_gap": null,
            "grid_row": null,
            "grid_template_areas": null,
            "grid_template_columns": null,
            "grid_template_rows": null,
            "height": null,
            "justify_content": null,
            "justify_items": null,
            "left": null,
            "margin": null,
            "max_height": null,
            "max_width": null,
            "min_height": null,
            "min_width": null,
            "object_fit": null,
            "object_position": null,
            "order": null,
            "overflow": null,
            "overflow_x": null,
            "overflow_y": null,
            "padding": null,
            "right": null,
            "top": null,
            "visibility": null,
            "width": null
          }
        },
        "9e0db7abffc04e68b2f01c07b491ec5f": {
          "model_module": "@jupyter-widgets/controls",
          "model_name": "DescriptionStyleModel",
          "model_module_version": "1.5.0",
          "state": {
            "_model_module": "@jupyter-widgets/controls",
            "_model_module_version": "1.5.0",
            "_model_name": "DescriptionStyleModel",
            "_view_count": null,
            "_view_module": "@jupyter-widgets/base",
            "_view_module_version": "1.2.0",
            "_view_name": "StyleView",
            "description_width": ""
          }
        },
        "a89eb303612744949a5722c082fea59c": {
          "model_module": "@jupyter-widgets/controls",
          "model_name": "HBoxModel",
          "model_module_version": "1.5.0",
          "state": {
            "_dom_classes": [],
            "_model_module": "@jupyter-widgets/controls",
            "_model_module_version": "1.5.0",
            "_model_name": "HBoxModel",
            "_view_count": null,
            "_view_module": "@jupyter-widgets/controls",
            "_view_module_version": "1.5.0",
            "_view_name": "HBoxView",
            "box_style": "",
            "children": [
              "IPY_MODEL_af8675b5b57247d58eb97e0917ee32be",
              "IPY_MODEL_10db4460729a4be88b95a2637808ec44",
              "IPY_MODEL_54aa3efd6226408ba169e5ab419ea756"
            ],
            "layout": "IPY_MODEL_685c3194e18c480594a858e303e2496a"
          }
        },
        "af8675b5b57247d58eb97e0917ee32be": {
          "model_module": "@jupyter-widgets/controls",
          "model_name": "HTMLModel",
          "model_module_version": "1.5.0",
          "state": {
            "_dom_classes": [],
            "_model_module": "@jupyter-widgets/controls",
            "_model_module_version": "1.5.0",
            "_model_name": "HTMLModel",
            "_view_count": null,
            "_view_module": "@jupyter-widgets/controls",
            "_view_module_version": "1.5.0",
            "_view_name": "HTMLView",
            "description": "",
            "description_tooltip": null,
            "layout": "IPY_MODEL_d7be3b72ed6644cf8d89b0488b0f5c60",
            "placeholder": "​",
            "style": "IPY_MODEL_65de0f9f04034fb69bba8903a9196b31",
            "value": "special_tokens_map.json: 100%"
          }
        },
        "10db4460729a4be88b95a2637808ec44": {
          "model_module": "@jupyter-widgets/controls",
          "model_name": "FloatProgressModel",
          "model_module_version": "1.5.0",
          "state": {
            "_dom_classes": [],
            "_model_module": "@jupyter-widgets/controls",
            "_model_module_version": "1.5.0",
            "_model_name": "FloatProgressModel",
            "_view_count": null,
            "_view_module": "@jupyter-widgets/controls",
            "_view_module_version": "1.5.0",
            "_view_name": "ProgressView",
            "bar_style": "success",
            "description": "",
            "description_tooltip": null,
            "layout": "IPY_MODEL_d71d267ed74a4ee8b8751fdf6a2385c5",
            "max": 125,
            "min": 0,
            "orientation": "horizontal",
            "style": "IPY_MODEL_e0eedcb5960b4b77860f52fabb2ab4bf",
            "value": 125
          }
        },
        "54aa3efd6226408ba169e5ab419ea756": {
          "model_module": "@jupyter-widgets/controls",
          "model_name": "HTMLModel",
          "model_module_version": "1.5.0",
          "state": {
            "_dom_classes": [],
            "_model_module": "@jupyter-widgets/controls",
            "_model_module_version": "1.5.0",
            "_model_name": "HTMLModel",
            "_view_count": null,
            "_view_module": "@jupyter-widgets/controls",
            "_view_module_version": "1.5.0",
            "_view_name": "HTMLView",
            "description": "",
            "description_tooltip": null,
            "layout": "IPY_MODEL_cdab9449ba294b87a0d23767f5d2292d",
            "placeholder": "​",
            "style": "IPY_MODEL_b088013315874353872057ccc593debf",
            "value": " 125/125 [00:00&lt;00:00, 5.87kB/s]"
          }
        },
        "685c3194e18c480594a858e303e2496a": {
          "model_module": "@jupyter-widgets/base",
          "model_name": "LayoutModel",
          "model_module_version": "1.2.0",
          "state": {
            "_model_module": "@jupyter-widgets/base",
            "_model_module_version": "1.2.0",
            "_model_name": "LayoutModel",
            "_view_count": null,
            "_view_module": "@jupyter-widgets/base",
            "_view_module_version": "1.2.0",
            "_view_name": "LayoutView",
            "align_content": null,
            "align_items": null,
            "align_self": null,
            "border": null,
            "bottom": null,
            "display": null,
            "flex": null,
            "flex_flow": null,
            "grid_area": null,
            "grid_auto_columns": null,
            "grid_auto_flow": null,
            "grid_auto_rows": null,
            "grid_column": null,
            "grid_gap": null,
            "grid_row": null,
            "grid_template_areas": null,
            "grid_template_columns": null,
            "grid_template_rows": null,
            "height": null,
            "justify_content": null,
            "justify_items": null,
            "left": null,
            "margin": null,
            "max_height": null,
            "max_width": null,
            "min_height": null,
            "min_width": null,
            "object_fit": null,
            "object_position": null,
            "order": null,
            "overflow": null,
            "overflow_x": null,
            "overflow_y": null,
            "padding": null,
            "right": null,
            "top": null,
            "visibility": null,
            "width": null
          }
        },
        "d7be3b72ed6644cf8d89b0488b0f5c60": {
          "model_module": "@jupyter-widgets/base",
          "model_name": "LayoutModel",
          "model_module_version": "1.2.0",
          "state": {
            "_model_module": "@jupyter-widgets/base",
            "_model_module_version": "1.2.0",
            "_model_name": "LayoutModel",
            "_view_count": null,
            "_view_module": "@jupyter-widgets/base",
            "_view_module_version": "1.2.0",
            "_view_name": "LayoutView",
            "align_content": null,
            "align_items": null,
            "align_self": null,
            "border": null,
            "bottom": null,
            "display": null,
            "flex": null,
            "flex_flow": null,
            "grid_area": null,
            "grid_auto_columns": null,
            "grid_auto_flow": null,
            "grid_auto_rows": null,
            "grid_column": null,
            "grid_gap": null,
            "grid_row": null,
            "grid_template_areas": null,
            "grid_template_columns": null,
            "grid_template_rows": null,
            "height": null,
            "justify_content": null,
            "justify_items": null,
            "left": null,
            "margin": null,
            "max_height": null,
            "max_width": null,
            "min_height": null,
            "min_width": null,
            "object_fit": null,
            "object_position": null,
            "order": null,
            "overflow": null,
            "overflow_x": null,
            "overflow_y": null,
            "padding": null,
            "right": null,
            "top": null,
            "visibility": null,
            "width": null
          }
        },
        "65de0f9f04034fb69bba8903a9196b31": {
          "model_module": "@jupyter-widgets/controls",
          "model_name": "DescriptionStyleModel",
          "model_module_version": "1.5.0",
          "state": {
            "_model_module": "@jupyter-widgets/controls",
            "_model_module_version": "1.5.0",
            "_model_name": "DescriptionStyleModel",
            "_view_count": null,
            "_view_module": "@jupyter-widgets/base",
            "_view_module_version": "1.2.0",
            "_view_name": "StyleView",
            "description_width": ""
          }
        },
        "d71d267ed74a4ee8b8751fdf6a2385c5": {
          "model_module": "@jupyter-widgets/base",
          "model_name": "LayoutModel",
          "model_module_version": "1.2.0",
          "state": {
            "_model_module": "@jupyter-widgets/base",
            "_model_module_version": "1.2.0",
            "_model_name": "LayoutModel",
            "_view_count": null,
            "_view_module": "@jupyter-widgets/base",
            "_view_module_version": "1.2.0",
            "_view_name": "LayoutView",
            "align_content": null,
            "align_items": null,
            "align_self": null,
            "border": null,
            "bottom": null,
            "display": null,
            "flex": null,
            "flex_flow": null,
            "grid_area": null,
            "grid_auto_columns": null,
            "grid_auto_flow": null,
            "grid_auto_rows": null,
            "grid_column": null,
            "grid_gap": null,
            "grid_row": null,
            "grid_template_areas": null,
            "grid_template_columns": null,
            "grid_template_rows": null,
            "height": null,
            "justify_content": null,
            "justify_items": null,
            "left": null,
            "margin": null,
            "max_height": null,
            "max_width": null,
            "min_height": null,
            "min_width": null,
            "object_fit": null,
            "object_position": null,
            "order": null,
            "overflow": null,
            "overflow_x": null,
            "overflow_y": null,
            "padding": null,
            "right": null,
            "top": null,
            "visibility": null,
            "width": null
          }
        },
        "e0eedcb5960b4b77860f52fabb2ab4bf": {
          "model_module": "@jupyter-widgets/controls",
          "model_name": "ProgressStyleModel",
          "model_module_version": "1.5.0",
          "state": {
            "_model_module": "@jupyter-widgets/controls",
            "_model_module_version": "1.5.0",
            "_model_name": "ProgressStyleModel",
            "_view_count": null,
            "_view_module": "@jupyter-widgets/base",
            "_view_module_version": "1.2.0",
            "_view_name": "StyleView",
            "bar_color": null,
            "description_width": ""
          }
        },
        "cdab9449ba294b87a0d23767f5d2292d": {
          "model_module": "@jupyter-widgets/base",
          "model_name": "LayoutModel",
          "model_module_version": "1.2.0",
          "state": {
            "_model_module": "@jupyter-widgets/base",
            "_model_module_version": "1.2.0",
            "_model_name": "LayoutModel",
            "_view_count": null,
            "_view_module": "@jupyter-widgets/base",
            "_view_module_version": "1.2.0",
            "_view_name": "LayoutView",
            "align_content": null,
            "align_items": null,
            "align_self": null,
            "border": null,
            "bottom": null,
            "display": null,
            "flex": null,
            "flex_flow": null,
            "grid_area": null,
            "grid_auto_columns": null,
            "grid_auto_flow": null,
            "grid_auto_rows": null,
            "grid_column": null,
            "grid_gap": null,
            "grid_row": null,
            "grid_template_areas": null,
            "grid_template_columns": null,
            "grid_template_rows": null,
            "height": null,
            "justify_content": null,
            "justify_items": null,
            "left": null,
            "margin": null,
            "max_height": null,
            "max_width": null,
            "min_height": null,
            "min_width": null,
            "object_fit": null,
            "object_position": null,
            "order": null,
            "overflow": null,
            "overflow_x": null,
            "overflow_y": null,
            "padding": null,
            "right": null,
            "top": null,
            "visibility": null,
            "width": null
          }
        },
        "b088013315874353872057ccc593debf": {
          "model_module": "@jupyter-widgets/controls",
          "model_name": "DescriptionStyleModel",
          "model_module_version": "1.5.0",
          "state": {
            "_model_module": "@jupyter-widgets/controls",
            "_model_module_version": "1.5.0",
            "_model_name": "DescriptionStyleModel",
            "_view_count": null,
            "_view_module": "@jupyter-widgets/base",
            "_view_module_version": "1.2.0",
            "_view_name": "StyleView",
            "description_width": ""
          }
        }
      }
    },
    "kaggle": {
      "accelerator": "gpu",
      "dataSources": [
        {
          "sourceId": 46764,
          "databundleVersionId": 5003737,
          "sourceType": "competition"
        },
        {
          "sourceId": 7087776,
          "sourceType": "datasetVersion",
          "datasetId": 4083861
        }
      ],
      "dockerImageVersionId": 30588,
      "isInternetEnabled": true,
      "language": "python",
      "sourceType": "notebook",
      "isGpuEnabled": true
    },
    "accelerator": "GPU"
  },
  "nbformat_minor": 0,
  "nbformat": 4,
  "cells": [
    {
      "cell_type": "code",
      "source": [
        "%%time\n",
        "import os\n",
        "from glob import glob\n",
        "import numpy as np\n",
        "import matplotlib.pyplot as plt\n",
        "%matplotlib inline\n",
        "import pandas as pd\n",
        "import seaborn as sns\n",
        "import re\n",
        "import nltk\n",
        "import json\n",
        "from sklearn.preprocessing import MultiLabelBinarizer\n",
        "from sklearn.metrics import confusion_matrix\n",
        "from sklearn.metrics import classification_report\n",
        "from sklearn.model_selection import train_test_split\n",
        "from sklearn.linear_model import LogisticRegression\n",
        "from sklearn.tree import DecisionTreeClassifier\n",
        "from sklearn.ensemble import RandomForestClassifier\n",
        "from sklearn.linear_model import SGDClassifier\n",
        "from sklearn.naive_bayes import MultinomialNB\n",
        "from sklearn.ensemble import VotingClassifier\n",
        "from sklearn.ensemble import BaggingClassifier\n",
        "from sklearn.ensemble import AdaBoostClassifier, RandomForestClassifier, ExtraTreesClassifier\n",
        "from sklearn.svm import SVC\n",
        "from sklearn.metrics import accuracy_score,precision_score,recall_score,f1_score,roc_auc_score\n",
        "from sklearn.metrics import average_precision_score,roc_auc_score, roc_curve, precision_recall_curve\n",
        "from sklearn.preprocessing import LabelEncoder\n",
        "from sklearn.feature_extraction.text import TfidfVectorizer\n",
        "np.random.seed(42)\n",
        "import nltk\n",
        "nltk.download('punkt')\n",
        "from nltk.corpus import stopwords\n",
        "from nltk.tokenize import word_tokenize\n",
        "from nltk.tokenize import ToktokTokenizer\n",
        "import nltk, string, re, spacy,unicodedata, random\n",
        "from bs4 import BeautifulSoup\n",
        "import warnings\n",
        "warnings.filterwarnings('ignore')\n",
        "### Pretrained Word Embeddings"
      ],
      "metadata": {
        "id": "-Qm5ocD-sPOp",
        "outputId": "f4f7ac06-f05f-4583-8faa-8b4f8b4ddd0a",
        "execution": {
          "iopub.status.busy": "2023-12-06T09:22:37.963270Z",
          "iopub.execute_input": "2023-12-06T09:22:37.963609Z",
          "iopub.status.idle": "2023-12-06T09:22:47.346446Z",
          "shell.execute_reply.started": "2023-12-06T09:22:37.963580Z",
          "shell.execute_reply": "2023-12-06T09:22:47.345455Z"
        },
        "trusted": true,
        "colab": {
          "base_uri": "https://localhost:8080/"
        }
      },
      "execution_count": 2,
      "outputs": [
        {
          "output_type": "stream",
          "name": "stderr",
          "text": [
            "[nltk_data] Downloading package punkt to /root/nltk_data...\n",
            "[nltk_data]   Unzipping tokenizers/punkt.zip.\n"
          ]
        },
        {
          "output_type": "stream",
          "name": "stdout",
          "text": [
            "CPU times: user 11.8 s, sys: 1.5 s, total: 13.3 s\n",
            "Wall time: 31.8 s\n"
          ]
        }
      ]
    },
    {
      "cell_type": "markdown",
      "source": [
        "# Import Data"
      ],
      "metadata": {
        "id": "tn3ZdEkqwFuf"
      }
    },
    {
      "cell_type": "code",
      "source": [
        "from google.colab import drive\n",
        "drive.mount('/content/drive')"
      ],
      "metadata": {
        "colab": {
          "base_uri": "https://localhost:8080/"
        },
        "id": "2VJYktuW6FWI",
        "outputId": "c77e8fd0-9f4a-4c57-fbc8-987c6bf7bce5"
      },
      "execution_count": 3,
      "outputs": [
        {
          "output_type": "stream",
          "name": "stdout",
          "text": [
            "Mounted at /content/drive\n"
          ]
        }
      ]
    },
    {
      "cell_type": "code",
      "source": [
        "train_df = pd.read_excel(\"/content/drive/MyDrive/Colab Notebooks/HOLD/training_data_telugu-hate.xlsx\")\n",
        "test_df= pd.read_excel(\"/content/drive/MyDrive/Colab Notebooks/HOLD/telugu-hate-speech-test.xlsx\")\n",
        "test_with_label = pd.read_excel(\"/content/drive/MyDrive/Colab Notebooks/HOLD/telugu-english-test-data-with-labels.xlsx\")\n",
        "print(\"Total number of training samples:\", len(train_df))\n",
        "print(\"Total number of test samples:\", len(test_df))"
      ],
      "metadata": {
        "id": "x2mJ2HY_srqA",
        "outputId": "30fb6ac4-bfed-4660-8f95-00a2a8807acb",
        "execution": {
          "iopub.status.busy": "2023-12-06T09:22:47.348352Z",
          "iopub.execute_input": "2023-12-06T09:22:47.349336Z",
          "iopub.status.idle": "2023-12-06T09:22:48.156859Z",
          "shell.execute_reply.started": "2023-12-06T09:22:47.349298Z",
          "shell.execute_reply": "2023-12-06T09:22:48.155923Z"
        },
        "trusted": true,
        "colab": {
          "base_uri": "https://localhost:8080/"
        }
      },
      "execution_count": 4,
      "outputs": [
        {
          "output_type": "stream",
          "name": "stdout",
          "text": [
            "Total number of training samples: 4000\n",
            "Total number of test samples: 499\n"
          ]
        }
      ]
    },
    {
      "cell_type": "code",
      "source": [
        "test_with_label"
      ],
      "metadata": {
        "colab": {
          "base_uri": "https://localhost:8080/",
          "height": 0
        },
        "id": "vq4axTvl_KdJ",
        "outputId": "ab2658cd-5d8e-4e76-d569-6fa91d129dbf"
      },
      "execution_count": 5,
      "outputs": [
        {
          "output_type": "execute_result",
          "data": {
            "text/plain": [
              "       1 ఎన్ని సార్లు అయిన వినాలని ఉంది చిట్టి తల్లి సూపర్ మా,,  non-hate\n",
              "0      2            ఫ్యూచర్ లో బాగ work out అవుతుంది సూపర్.      non-hate\n",
              "1      3  ఇది బెండపూడి గవ్నమెంట్ స్టూడెంట్స్ కి మాత్రమే ...      non-hate\n",
              "2      4  తెలుగులో మాట్లాడినప్పుడు చాలా అందంగా వినసొంపుగ...      non-hate\n",
              "3      5  సూపర్ సిస్టర్ ఫ్యూచర్ లో రైల్వే లో జాబ్ రావాలన...      non-hate\n",
              "4      6                  వావ్ సూపర్ అమ్మ god bless u తల్లి      non-hate\n",
              "..   ...                                                ...           ...\n",
              "494  496                      డబ్బు ఇస్తే నిన్నుకూడ ఎస్తాడు          hate\n",
              "495  497           నిది చూపించు దెబ్బకి సెట్ ఐపోయిది రోజాకు          hate\n",
              "496  498    ఏది నాకిన నీది మాత్రం కచ్చితంగా నాకడు చీ రెడ్డి          hate\n",
              "497  499               ఇప్పుడు నిదిఐన నకుతాడు డబ్బులు ఇస్తే          hate\n",
              "498  500               Emi echavaa  Andaru neelagaa nakaru           hate\n",
              "\n",
              "[499 rows x 3 columns]"
            ],
            "text/html": [
              "\n",
              "  <div id=\"df-a5393529-1140-4d9a-a3c0-a260e48656ba\" class=\"colab-df-container\">\n",
              "    <div>\n",
              "<style scoped>\n",
              "    .dataframe tbody tr th:only-of-type {\n",
              "        vertical-align: middle;\n",
              "    }\n",
              "\n",
              "    .dataframe tbody tr th {\n",
              "        vertical-align: top;\n",
              "    }\n",
              "\n",
              "    .dataframe thead th {\n",
              "        text-align: right;\n",
              "    }\n",
              "</style>\n",
              "<table border=\"1\" class=\"dataframe\">\n",
              "  <thead>\n",
              "    <tr style=\"text-align: right;\">\n",
              "      <th></th>\n",
              "      <th>1</th>\n",
              "      <th>ఎన్ని సార్లు అయిన వినాలని ఉంది చిట్టి తల్లి సూపర్ మా,,</th>\n",
              "      <th>non-hate</th>\n",
              "    </tr>\n",
              "  </thead>\n",
              "  <tbody>\n",
              "    <tr>\n",
              "      <th>0</th>\n",
              "      <td>2</td>\n",
              "      <td>ఫ్యూచర్ లో బాగ work out అవుతుంది సూపర్.</td>\n",
              "      <td>non-hate</td>\n",
              "    </tr>\n",
              "    <tr>\n",
              "      <th>1</th>\n",
              "      <td>3</td>\n",
              "      <td>ఇది బెండపూడి గవ్నమెంట్ స్టూడెంట్స్ కి మాత్రమే ...</td>\n",
              "      <td>non-hate</td>\n",
              "    </tr>\n",
              "    <tr>\n",
              "      <th>2</th>\n",
              "      <td>4</td>\n",
              "      <td>తెలుగులో మాట్లాడినప్పుడు చాలా అందంగా వినసొంపుగ...</td>\n",
              "      <td>non-hate</td>\n",
              "    </tr>\n",
              "    <tr>\n",
              "      <th>3</th>\n",
              "      <td>5</td>\n",
              "      <td>సూపర్ సిస్టర్ ఫ్యూచర్ లో రైల్వే లో జాబ్ రావాలన...</td>\n",
              "      <td>non-hate</td>\n",
              "    </tr>\n",
              "    <tr>\n",
              "      <th>4</th>\n",
              "      <td>6</td>\n",
              "      <td>వావ్ సూపర్ అమ్మ god bless u తల్లి</td>\n",
              "      <td>non-hate</td>\n",
              "    </tr>\n",
              "    <tr>\n",
              "      <th>...</th>\n",
              "      <td>...</td>\n",
              "      <td>...</td>\n",
              "      <td>...</td>\n",
              "    </tr>\n",
              "    <tr>\n",
              "      <th>494</th>\n",
              "      <td>496</td>\n",
              "      <td>డబ్బు ఇస్తే నిన్నుకూడ ఎస్తాడు</td>\n",
              "      <td>hate</td>\n",
              "    </tr>\n",
              "    <tr>\n",
              "      <th>495</th>\n",
              "      <td>497</td>\n",
              "      <td>నిది చూపించు దెబ్బకి సెట్ ఐపోయిది రోజాకు</td>\n",
              "      <td>hate</td>\n",
              "    </tr>\n",
              "    <tr>\n",
              "      <th>496</th>\n",
              "      <td>498</td>\n",
              "      <td>ఏది నాకిన నీది మాత్రం కచ్చితంగా నాకడు చీ రెడ్డి</td>\n",
              "      <td>hate</td>\n",
              "    </tr>\n",
              "    <tr>\n",
              "      <th>497</th>\n",
              "      <td>499</td>\n",
              "      <td>ఇప్పుడు నిదిఐన నకుతాడు డబ్బులు ఇస్తే</td>\n",
              "      <td>hate</td>\n",
              "    </tr>\n",
              "    <tr>\n",
              "      <th>498</th>\n",
              "      <td>500</td>\n",
              "      <td>Emi echavaa  Andaru neelagaa nakaru</td>\n",
              "      <td>hate</td>\n",
              "    </tr>\n",
              "  </tbody>\n",
              "</table>\n",
              "<p>499 rows × 3 columns</p>\n",
              "</div>\n",
              "    <div class=\"colab-df-buttons\">\n",
              "\n",
              "  <div class=\"colab-df-container\">\n",
              "    <button class=\"colab-df-convert\" onclick=\"convertToInteractive('df-a5393529-1140-4d9a-a3c0-a260e48656ba')\"\n",
              "            title=\"Convert this dataframe to an interactive table.\"\n",
              "            style=\"display:none;\">\n",
              "\n",
              "  <svg xmlns=\"http://www.w3.org/2000/svg\" height=\"24px\" viewBox=\"0 -960 960 960\">\n",
              "    <path d=\"M120-120v-720h720v720H120Zm60-500h600v-160H180v160Zm220 220h160v-160H400v160Zm0 220h160v-160H400v160ZM180-400h160v-160H180v160Zm440 0h160v-160H620v160ZM180-180h160v-160H180v160Zm440 0h160v-160H620v160Z\"/>\n",
              "  </svg>\n",
              "    </button>\n",
              "\n",
              "  <style>\n",
              "    .colab-df-container {\n",
              "      display:flex;\n",
              "      gap: 12px;\n",
              "    }\n",
              "\n",
              "    .colab-df-convert {\n",
              "      background-color: #E8F0FE;\n",
              "      border: none;\n",
              "      border-radius: 50%;\n",
              "      cursor: pointer;\n",
              "      display: none;\n",
              "      fill: #1967D2;\n",
              "      height: 32px;\n",
              "      padding: 0 0 0 0;\n",
              "      width: 32px;\n",
              "    }\n",
              "\n",
              "    .colab-df-convert:hover {\n",
              "      background-color: #E2EBFA;\n",
              "      box-shadow: 0px 1px 2px rgba(60, 64, 67, 0.3), 0px 1px 3px 1px rgba(60, 64, 67, 0.15);\n",
              "      fill: #174EA6;\n",
              "    }\n",
              "\n",
              "    .colab-df-buttons div {\n",
              "      margin-bottom: 4px;\n",
              "    }\n",
              "\n",
              "    [theme=dark] .colab-df-convert {\n",
              "      background-color: #3B4455;\n",
              "      fill: #D2E3FC;\n",
              "    }\n",
              "\n",
              "    [theme=dark] .colab-df-convert:hover {\n",
              "      background-color: #434B5C;\n",
              "      box-shadow: 0px 1px 3px 1px rgba(0, 0, 0, 0.15);\n",
              "      filter: drop-shadow(0px 1px 2px rgba(0, 0, 0, 0.3));\n",
              "      fill: #FFFFFF;\n",
              "    }\n",
              "  </style>\n",
              "\n",
              "    <script>\n",
              "      const buttonEl =\n",
              "        document.querySelector('#df-a5393529-1140-4d9a-a3c0-a260e48656ba button.colab-df-convert');\n",
              "      buttonEl.style.display =\n",
              "        google.colab.kernel.accessAllowed ? 'block' : 'none';\n",
              "\n",
              "      async function convertToInteractive(key) {\n",
              "        const element = document.querySelector('#df-a5393529-1140-4d9a-a3c0-a260e48656ba');\n",
              "        const dataTable =\n",
              "          await google.colab.kernel.invokeFunction('convertToInteractive',\n",
              "                                                    [key], {});\n",
              "        if (!dataTable) return;\n",
              "\n",
              "        const docLinkHtml = 'Like what you see? Visit the ' +\n",
              "          '<a target=\"_blank\" href=https://colab.research.google.com/notebooks/data_table.ipynb>data table notebook</a>'\n",
              "          + ' to learn more about interactive tables.';\n",
              "        element.innerHTML = '';\n",
              "        dataTable['output_type'] = 'display_data';\n",
              "        await google.colab.output.renderOutput(dataTable, element);\n",
              "        const docLink = document.createElement('div');\n",
              "        docLink.innerHTML = docLinkHtml;\n",
              "        element.appendChild(docLink);\n",
              "      }\n",
              "    </script>\n",
              "  </div>\n",
              "\n",
              "\n",
              "<div id=\"df-5c69686f-ed26-4903-b54a-e6010407558e\">\n",
              "  <button class=\"colab-df-quickchart\" onclick=\"quickchart('df-5c69686f-ed26-4903-b54a-e6010407558e')\"\n",
              "            title=\"Suggest charts\"\n",
              "            style=\"display:none;\">\n",
              "\n",
              "<svg xmlns=\"http://www.w3.org/2000/svg\" height=\"24px\"viewBox=\"0 0 24 24\"\n",
              "     width=\"24px\">\n",
              "    <g>\n",
              "        <path d=\"M19 3H5c-1.1 0-2 .9-2 2v14c0 1.1.9 2 2 2h14c1.1 0 2-.9 2-2V5c0-1.1-.9-2-2-2zM9 17H7v-7h2v7zm4 0h-2V7h2v10zm4 0h-2v-4h2v4z\"/>\n",
              "    </g>\n",
              "</svg>\n",
              "  </button>\n",
              "\n",
              "<style>\n",
              "  .colab-df-quickchart {\n",
              "      --bg-color: #E8F0FE;\n",
              "      --fill-color: #1967D2;\n",
              "      --hover-bg-color: #E2EBFA;\n",
              "      --hover-fill-color: #174EA6;\n",
              "      --disabled-fill-color: #AAA;\n",
              "      --disabled-bg-color: #DDD;\n",
              "  }\n",
              "\n",
              "  [theme=dark] .colab-df-quickchart {\n",
              "      --bg-color: #3B4455;\n",
              "      --fill-color: #D2E3FC;\n",
              "      --hover-bg-color: #434B5C;\n",
              "      --hover-fill-color: #FFFFFF;\n",
              "      --disabled-bg-color: #3B4455;\n",
              "      --disabled-fill-color: #666;\n",
              "  }\n",
              "\n",
              "  .colab-df-quickchart {\n",
              "    background-color: var(--bg-color);\n",
              "    border: none;\n",
              "    border-radius: 50%;\n",
              "    cursor: pointer;\n",
              "    display: none;\n",
              "    fill: var(--fill-color);\n",
              "    height: 32px;\n",
              "    padding: 0;\n",
              "    width: 32px;\n",
              "  }\n",
              "\n",
              "  .colab-df-quickchart:hover {\n",
              "    background-color: var(--hover-bg-color);\n",
              "    box-shadow: 0 1px 2px rgba(60, 64, 67, 0.3), 0 1px 3px 1px rgba(60, 64, 67, 0.15);\n",
              "    fill: var(--button-hover-fill-color);\n",
              "  }\n",
              "\n",
              "  .colab-df-quickchart-complete:disabled,\n",
              "  .colab-df-quickchart-complete:disabled:hover {\n",
              "    background-color: var(--disabled-bg-color);\n",
              "    fill: var(--disabled-fill-color);\n",
              "    box-shadow: none;\n",
              "  }\n",
              "\n",
              "  .colab-df-spinner {\n",
              "    border: 2px solid var(--fill-color);\n",
              "    border-color: transparent;\n",
              "    border-bottom-color: var(--fill-color);\n",
              "    animation:\n",
              "      spin 1s steps(1) infinite;\n",
              "  }\n",
              "\n",
              "  @keyframes spin {\n",
              "    0% {\n",
              "      border-color: transparent;\n",
              "      border-bottom-color: var(--fill-color);\n",
              "      border-left-color: var(--fill-color);\n",
              "    }\n",
              "    20% {\n",
              "      border-color: transparent;\n",
              "      border-left-color: var(--fill-color);\n",
              "      border-top-color: var(--fill-color);\n",
              "    }\n",
              "    30% {\n",
              "      border-color: transparent;\n",
              "      border-left-color: var(--fill-color);\n",
              "      border-top-color: var(--fill-color);\n",
              "      border-right-color: var(--fill-color);\n",
              "    }\n",
              "    40% {\n",
              "      border-color: transparent;\n",
              "      border-right-color: var(--fill-color);\n",
              "      border-top-color: var(--fill-color);\n",
              "    }\n",
              "    60% {\n",
              "      border-color: transparent;\n",
              "      border-right-color: var(--fill-color);\n",
              "    }\n",
              "    80% {\n",
              "      border-color: transparent;\n",
              "      border-right-color: var(--fill-color);\n",
              "      border-bottom-color: var(--fill-color);\n",
              "    }\n",
              "    90% {\n",
              "      border-color: transparent;\n",
              "      border-bottom-color: var(--fill-color);\n",
              "    }\n",
              "  }\n",
              "</style>\n",
              "\n",
              "  <script>\n",
              "    async function quickchart(key) {\n",
              "      const quickchartButtonEl =\n",
              "        document.querySelector('#' + key + ' button');\n",
              "      quickchartButtonEl.disabled = true;  // To prevent multiple clicks.\n",
              "      quickchartButtonEl.classList.add('colab-df-spinner');\n",
              "      try {\n",
              "        const charts = await google.colab.kernel.invokeFunction(\n",
              "            'suggestCharts', [key], {});\n",
              "      } catch (error) {\n",
              "        console.error('Error during call to suggestCharts:', error);\n",
              "      }\n",
              "      quickchartButtonEl.classList.remove('colab-df-spinner');\n",
              "      quickchartButtonEl.classList.add('colab-df-quickchart-complete');\n",
              "    }\n",
              "    (() => {\n",
              "      let quickchartButtonEl =\n",
              "        document.querySelector('#df-5c69686f-ed26-4903-b54a-e6010407558e button');\n",
              "      quickchartButtonEl.style.display =\n",
              "        google.colab.kernel.accessAllowed ? 'block' : 'none';\n",
              "    })();\n",
              "  </script>\n",
              "</div>\n",
              "    </div>\n",
              "  </div>\n"
            ]
          },
          "metadata": {},
          "execution_count": 5
        }
      ]
    },
    {
      "cell_type": "markdown",
      "source": [
        "# Data Set Analysis"
      ],
      "metadata": {
        "id": "cRU1aKz253-Q"
      }
    },
    {
      "cell_type": "code",
      "source": [
        "print(train_df.shape)\n",
        "print(test_df.shape)"
      ],
      "metadata": {
        "id": "JfF5fuQgtpMZ",
        "outputId": "eb7e7802-2782-45f2-b6f7-5c5772da79eb",
        "execution": {
          "iopub.status.busy": "2023-12-06T09:22:48.158106Z",
          "iopub.execute_input": "2023-12-06T09:22:48.158462Z",
          "iopub.status.idle": "2023-12-06T09:22:48.163992Z",
          "shell.execute_reply.started": "2023-12-06T09:22:48.158427Z",
          "shell.execute_reply": "2023-12-06T09:22:48.162990Z"
        },
        "trusted": true,
        "colab": {
          "base_uri": "https://localhost:8080/"
        }
      },
      "execution_count": 6,
      "outputs": [
        {
          "output_type": "stream",
          "name": "stdout",
          "text": [
            "(4000, 3)\n",
            "(499, 2)\n"
          ]
        }
      ]
    },
    {
      "cell_type": "code",
      "source": [
        "train_df.head(20)"
      ],
      "metadata": {
        "id": "S_Z-wsapu-gQ",
        "outputId": "84877a3e-d6fd-450a-de12-0518189024b0",
        "execution": {
          "iopub.status.busy": "2023-12-06T09:22:48.166323Z",
          "iopub.execute_input": "2023-12-06T09:22:48.166611Z",
          "iopub.status.idle": "2023-12-06T09:22:48.190200Z",
          "shell.execute_reply.started": "2023-12-06T09:22:48.166587Z",
          "shell.execute_reply": "2023-12-06T09:22:48.189286Z"
        },
        "trusted": true,
        "colab": {
          "base_uri": "https://localhost:8080/",
          "height": 0
        }
      },
      "execution_count": 7,
      "outputs": [
        {
          "output_type": "execute_result",
          "data": {
            "text/plain": [
              "         S.No                                           Comments     Label\n",
              "0   HATE_1001  Thappu chesina vaallaku vanike kaadu inka anni...      hate\n",
              "1   HATE_1002  Dhusta chaathuryam!  Meeru ilantivi enni chesi...      hate\n",
              "2   HATE_1003  Vetakaram super. Govt ki siggu seram radu. End...      hate\n",
              "3   HATE_1004  Only rajakiyam ga vadukovatanike ee dharidrapu...      hate\n",
              "4   HATE_1005         Katam hogaya narayana pedda bokada college      hate\n",
              "5   HATE_1006  TELUGU DESAM PARTY ONLY GOOD ADMINISTRATION IN...  non-hate\n",
              "6   HATE_1007  Nenu aite Jabardast show chudadam manesanu TV ...  non-hate\n",
              "7   HATE_1008  Jagan meeda jaganke visvasam ledu anduke ea lo...      hate\n",
              "8   HATE_1009                      Students tho adukovtam thappu  non-hate\n",
              "9   HATE_1010  Srinivasa gaaru endukee panikamaalina debate.....      hate\n",
              "10  HATE_1011  Meru mi media published cheyadam vallane elant...  non-hate\n",
              "11  HATE_1012       One of the Great Leader, A Big Salute Sir.,,  non-hate\n",
              "12  HATE_1013  Mogavalla face luu mathram manchiga chupisthar...      hate\n",
              "13  HATE_1014                                Paniki malina chana      hate\n",
              "14  HATE_1015  Rosayya garu is a real, Good and true politici...  non-hate\n",
              "15  HATE_1016                         Telangana gujju gulam kadu      hate\n",
              "16  HATE_1017                               Disevulera mundamopi      hate\n",
              "17  HATE_1018  Anta manchi job chestu govt ki tala vanchi bra...      hate\n",
              "18  HATE_1019                     Down To Earth Man Rosaiah Garu  non-hate\n",
              "19  HATE_1020                              Jagan is unstoppable   non-hate"
            ],
            "text/html": [
              "\n",
              "  <div id=\"df-887159a8-3854-4944-9272-6aa03d830eb5\" class=\"colab-df-container\">\n",
              "    <div>\n",
              "<style scoped>\n",
              "    .dataframe tbody tr th:only-of-type {\n",
              "        vertical-align: middle;\n",
              "    }\n",
              "\n",
              "    .dataframe tbody tr th {\n",
              "        vertical-align: top;\n",
              "    }\n",
              "\n",
              "    .dataframe thead th {\n",
              "        text-align: right;\n",
              "    }\n",
              "</style>\n",
              "<table border=\"1\" class=\"dataframe\">\n",
              "  <thead>\n",
              "    <tr style=\"text-align: right;\">\n",
              "      <th></th>\n",
              "      <th>S.No</th>\n",
              "      <th>Comments</th>\n",
              "      <th>Label</th>\n",
              "    </tr>\n",
              "  </thead>\n",
              "  <tbody>\n",
              "    <tr>\n",
              "      <th>0</th>\n",
              "      <td>HATE_1001</td>\n",
              "      <td>Thappu chesina vaallaku vanike kaadu inka anni...</td>\n",
              "      <td>hate</td>\n",
              "    </tr>\n",
              "    <tr>\n",
              "      <th>1</th>\n",
              "      <td>HATE_1002</td>\n",
              "      <td>Dhusta chaathuryam!  Meeru ilantivi enni chesi...</td>\n",
              "      <td>hate</td>\n",
              "    </tr>\n",
              "    <tr>\n",
              "      <th>2</th>\n",
              "      <td>HATE_1003</td>\n",
              "      <td>Vetakaram super. Govt ki siggu seram radu. End...</td>\n",
              "      <td>hate</td>\n",
              "    </tr>\n",
              "    <tr>\n",
              "      <th>3</th>\n",
              "      <td>HATE_1004</td>\n",
              "      <td>Only rajakiyam ga vadukovatanike ee dharidrapu...</td>\n",
              "      <td>hate</td>\n",
              "    </tr>\n",
              "    <tr>\n",
              "      <th>4</th>\n",
              "      <td>HATE_1005</td>\n",
              "      <td>Katam hogaya narayana pedda bokada college</td>\n",
              "      <td>hate</td>\n",
              "    </tr>\n",
              "    <tr>\n",
              "      <th>5</th>\n",
              "      <td>HATE_1006</td>\n",
              "      <td>TELUGU DESAM PARTY ONLY GOOD ADMINISTRATION IN...</td>\n",
              "      <td>non-hate</td>\n",
              "    </tr>\n",
              "    <tr>\n",
              "      <th>6</th>\n",
              "      <td>HATE_1007</td>\n",
              "      <td>Nenu aite Jabardast show chudadam manesanu TV ...</td>\n",
              "      <td>non-hate</td>\n",
              "    </tr>\n",
              "    <tr>\n",
              "      <th>7</th>\n",
              "      <td>HATE_1008</td>\n",
              "      <td>Jagan meeda jaganke visvasam ledu anduke ea lo...</td>\n",
              "      <td>hate</td>\n",
              "    </tr>\n",
              "    <tr>\n",
              "      <th>8</th>\n",
              "      <td>HATE_1009</td>\n",
              "      <td>Students tho adukovtam thappu</td>\n",
              "      <td>non-hate</td>\n",
              "    </tr>\n",
              "    <tr>\n",
              "      <th>9</th>\n",
              "      <td>HATE_1010</td>\n",
              "      <td>Srinivasa gaaru endukee panikamaalina debate.....</td>\n",
              "      <td>hate</td>\n",
              "    </tr>\n",
              "    <tr>\n",
              "      <th>10</th>\n",
              "      <td>HATE_1011</td>\n",
              "      <td>Meru mi media published cheyadam vallane elant...</td>\n",
              "      <td>non-hate</td>\n",
              "    </tr>\n",
              "    <tr>\n",
              "      <th>11</th>\n",
              "      <td>HATE_1012</td>\n",
              "      <td>One of the Great Leader, A Big Salute Sir.,,</td>\n",
              "      <td>non-hate</td>\n",
              "    </tr>\n",
              "    <tr>\n",
              "      <th>12</th>\n",
              "      <td>HATE_1013</td>\n",
              "      <td>Mogavalla face luu mathram manchiga chupisthar...</td>\n",
              "      <td>hate</td>\n",
              "    </tr>\n",
              "    <tr>\n",
              "      <th>13</th>\n",
              "      <td>HATE_1014</td>\n",
              "      <td>Paniki malina chana</td>\n",
              "      <td>hate</td>\n",
              "    </tr>\n",
              "    <tr>\n",
              "      <th>14</th>\n",
              "      <td>HATE_1015</td>\n",
              "      <td>Rosayya garu is a real, Good and true politici...</td>\n",
              "      <td>non-hate</td>\n",
              "    </tr>\n",
              "    <tr>\n",
              "      <th>15</th>\n",
              "      <td>HATE_1016</td>\n",
              "      <td>Telangana gujju gulam kadu</td>\n",
              "      <td>hate</td>\n",
              "    </tr>\n",
              "    <tr>\n",
              "      <th>16</th>\n",
              "      <td>HATE_1017</td>\n",
              "      <td>Disevulera mundamopi</td>\n",
              "      <td>hate</td>\n",
              "    </tr>\n",
              "    <tr>\n",
              "      <th>17</th>\n",
              "      <td>HATE_1018</td>\n",
              "      <td>Anta manchi job chestu govt ki tala vanchi bra...</td>\n",
              "      <td>hate</td>\n",
              "    </tr>\n",
              "    <tr>\n",
              "      <th>18</th>\n",
              "      <td>HATE_1019</td>\n",
              "      <td>Down To Earth Man Rosaiah Garu</td>\n",
              "      <td>non-hate</td>\n",
              "    </tr>\n",
              "    <tr>\n",
              "      <th>19</th>\n",
              "      <td>HATE_1020</td>\n",
              "      <td>Jagan is unstoppable</td>\n",
              "      <td>non-hate</td>\n",
              "    </tr>\n",
              "  </tbody>\n",
              "</table>\n",
              "</div>\n",
              "    <div class=\"colab-df-buttons\">\n",
              "\n",
              "  <div class=\"colab-df-container\">\n",
              "    <button class=\"colab-df-convert\" onclick=\"convertToInteractive('df-887159a8-3854-4944-9272-6aa03d830eb5')\"\n",
              "            title=\"Convert this dataframe to an interactive table.\"\n",
              "            style=\"display:none;\">\n",
              "\n",
              "  <svg xmlns=\"http://www.w3.org/2000/svg\" height=\"24px\" viewBox=\"0 -960 960 960\">\n",
              "    <path d=\"M120-120v-720h720v720H120Zm60-500h600v-160H180v160Zm220 220h160v-160H400v160Zm0 220h160v-160H400v160ZM180-400h160v-160H180v160Zm440 0h160v-160H620v160ZM180-180h160v-160H180v160Zm440 0h160v-160H620v160Z\"/>\n",
              "  </svg>\n",
              "    </button>\n",
              "\n",
              "  <style>\n",
              "    .colab-df-container {\n",
              "      display:flex;\n",
              "      gap: 12px;\n",
              "    }\n",
              "\n",
              "    .colab-df-convert {\n",
              "      background-color: #E8F0FE;\n",
              "      border: none;\n",
              "      border-radius: 50%;\n",
              "      cursor: pointer;\n",
              "      display: none;\n",
              "      fill: #1967D2;\n",
              "      height: 32px;\n",
              "      padding: 0 0 0 0;\n",
              "      width: 32px;\n",
              "    }\n",
              "\n",
              "    .colab-df-convert:hover {\n",
              "      background-color: #E2EBFA;\n",
              "      box-shadow: 0px 1px 2px rgba(60, 64, 67, 0.3), 0px 1px 3px 1px rgba(60, 64, 67, 0.15);\n",
              "      fill: #174EA6;\n",
              "    }\n",
              "\n",
              "    .colab-df-buttons div {\n",
              "      margin-bottom: 4px;\n",
              "    }\n",
              "\n",
              "    [theme=dark] .colab-df-convert {\n",
              "      background-color: #3B4455;\n",
              "      fill: #D2E3FC;\n",
              "    }\n",
              "\n",
              "    [theme=dark] .colab-df-convert:hover {\n",
              "      background-color: #434B5C;\n",
              "      box-shadow: 0px 1px 3px 1px rgba(0, 0, 0, 0.15);\n",
              "      filter: drop-shadow(0px 1px 2px rgba(0, 0, 0, 0.3));\n",
              "      fill: #FFFFFF;\n",
              "    }\n",
              "  </style>\n",
              "\n",
              "    <script>\n",
              "      const buttonEl =\n",
              "        document.querySelector('#df-887159a8-3854-4944-9272-6aa03d830eb5 button.colab-df-convert');\n",
              "      buttonEl.style.display =\n",
              "        google.colab.kernel.accessAllowed ? 'block' : 'none';\n",
              "\n",
              "      async function convertToInteractive(key) {\n",
              "        const element = document.querySelector('#df-887159a8-3854-4944-9272-6aa03d830eb5');\n",
              "        const dataTable =\n",
              "          await google.colab.kernel.invokeFunction('convertToInteractive',\n",
              "                                                    [key], {});\n",
              "        if (!dataTable) return;\n",
              "\n",
              "        const docLinkHtml = 'Like what you see? Visit the ' +\n",
              "          '<a target=\"_blank\" href=https://colab.research.google.com/notebooks/data_table.ipynb>data table notebook</a>'\n",
              "          + ' to learn more about interactive tables.';\n",
              "        element.innerHTML = '';\n",
              "        dataTable['output_type'] = 'display_data';\n",
              "        await google.colab.output.renderOutput(dataTable, element);\n",
              "        const docLink = document.createElement('div');\n",
              "        docLink.innerHTML = docLinkHtml;\n",
              "        element.appendChild(docLink);\n",
              "      }\n",
              "    </script>\n",
              "  </div>\n",
              "\n",
              "\n",
              "<div id=\"df-f0965575-3101-4e4c-ae13-878438e907b6\">\n",
              "  <button class=\"colab-df-quickchart\" onclick=\"quickchart('df-f0965575-3101-4e4c-ae13-878438e907b6')\"\n",
              "            title=\"Suggest charts\"\n",
              "            style=\"display:none;\">\n",
              "\n",
              "<svg xmlns=\"http://www.w3.org/2000/svg\" height=\"24px\"viewBox=\"0 0 24 24\"\n",
              "     width=\"24px\">\n",
              "    <g>\n",
              "        <path d=\"M19 3H5c-1.1 0-2 .9-2 2v14c0 1.1.9 2 2 2h14c1.1 0 2-.9 2-2V5c0-1.1-.9-2-2-2zM9 17H7v-7h2v7zm4 0h-2V7h2v10zm4 0h-2v-4h2v4z\"/>\n",
              "    </g>\n",
              "</svg>\n",
              "  </button>\n",
              "\n",
              "<style>\n",
              "  .colab-df-quickchart {\n",
              "      --bg-color: #E8F0FE;\n",
              "      --fill-color: #1967D2;\n",
              "      --hover-bg-color: #E2EBFA;\n",
              "      --hover-fill-color: #174EA6;\n",
              "      --disabled-fill-color: #AAA;\n",
              "      --disabled-bg-color: #DDD;\n",
              "  }\n",
              "\n",
              "  [theme=dark] .colab-df-quickchart {\n",
              "      --bg-color: #3B4455;\n",
              "      --fill-color: #D2E3FC;\n",
              "      --hover-bg-color: #434B5C;\n",
              "      --hover-fill-color: #FFFFFF;\n",
              "      --disabled-bg-color: #3B4455;\n",
              "      --disabled-fill-color: #666;\n",
              "  }\n",
              "\n",
              "  .colab-df-quickchart {\n",
              "    background-color: var(--bg-color);\n",
              "    border: none;\n",
              "    border-radius: 50%;\n",
              "    cursor: pointer;\n",
              "    display: none;\n",
              "    fill: var(--fill-color);\n",
              "    height: 32px;\n",
              "    padding: 0;\n",
              "    width: 32px;\n",
              "  }\n",
              "\n",
              "  .colab-df-quickchart:hover {\n",
              "    background-color: var(--hover-bg-color);\n",
              "    box-shadow: 0 1px 2px rgba(60, 64, 67, 0.3), 0 1px 3px 1px rgba(60, 64, 67, 0.15);\n",
              "    fill: var(--button-hover-fill-color);\n",
              "  }\n",
              "\n",
              "  .colab-df-quickchart-complete:disabled,\n",
              "  .colab-df-quickchart-complete:disabled:hover {\n",
              "    background-color: var(--disabled-bg-color);\n",
              "    fill: var(--disabled-fill-color);\n",
              "    box-shadow: none;\n",
              "  }\n",
              "\n",
              "  .colab-df-spinner {\n",
              "    border: 2px solid var(--fill-color);\n",
              "    border-color: transparent;\n",
              "    border-bottom-color: var(--fill-color);\n",
              "    animation:\n",
              "      spin 1s steps(1) infinite;\n",
              "  }\n",
              "\n",
              "  @keyframes spin {\n",
              "    0% {\n",
              "      border-color: transparent;\n",
              "      border-bottom-color: var(--fill-color);\n",
              "      border-left-color: var(--fill-color);\n",
              "    }\n",
              "    20% {\n",
              "      border-color: transparent;\n",
              "      border-left-color: var(--fill-color);\n",
              "      border-top-color: var(--fill-color);\n",
              "    }\n",
              "    30% {\n",
              "      border-color: transparent;\n",
              "      border-left-color: var(--fill-color);\n",
              "      border-top-color: var(--fill-color);\n",
              "      border-right-color: var(--fill-color);\n",
              "    }\n",
              "    40% {\n",
              "      border-color: transparent;\n",
              "      border-right-color: var(--fill-color);\n",
              "      border-top-color: var(--fill-color);\n",
              "    }\n",
              "    60% {\n",
              "      border-color: transparent;\n",
              "      border-right-color: var(--fill-color);\n",
              "    }\n",
              "    80% {\n",
              "      border-color: transparent;\n",
              "      border-right-color: var(--fill-color);\n",
              "      border-bottom-color: var(--fill-color);\n",
              "    }\n",
              "    90% {\n",
              "      border-color: transparent;\n",
              "      border-bottom-color: var(--fill-color);\n",
              "    }\n",
              "  }\n",
              "</style>\n",
              "\n",
              "  <script>\n",
              "    async function quickchart(key) {\n",
              "      const quickchartButtonEl =\n",
              "        document.querySelector('#' + key + ' button');\n",
              "      quickchartButtonEl.disabled = true;  // To prevent multiple clicks.\n",
              "      quickchartButtonEl.classList.add('colab-df-spinner');\n",
              "      try {\n",
              "        const charts = await google.colab.kernel.invokeFunction(\n",
              "            'suggestCharts', [key], {});\n",
              "      } catch (error) {\n",
              "        console.error('Error during call to suggestCharts:', error);\n",
              "      }\n",
              "      quickchartButtonEl.classList.remove('colab-df-spinner');\n",
              "      quickchartButtonEl.classList.add('colab-df-quickchart-complete');\n",
              "    }\n",
              "    (() => {\n",
              "      let quickchartButtonEl =\n",
              "        document.querySelector('#df-f0965575-3101-4e4c-ae13-878438e907b6 button');\n",
              "      quickchartButtonEl.style.display =\n",
              "        google.colab.kernel.accessAllowed ? 'block' : 'none';\n",
              "    })();\n",
              "  </script>\n",
              "</div>\n",
              "    </div>\n",
              "  </div>\n"
            ]
          },
          "metadata": {},
          "execution_count": 7
        }
      ]
    },
    {
      "cell_type": "code",
      "source": [
        "test_df"
      ],
      "metadata": {
        "colab": {
          "base_uri": "https://localhost:8080/",
          "height": 0
        },
        "id": "htxP4RV8Cznv",
        "outputId": "bbf07e8e-e245-4105-c673-61958d3bfe04"
      },
      "execution_count": 8,
      "outputs": [
        {
          "output_type": "execute_result",
          "data": {
            "text/plain": [
              "       1 ఎన్ని సార్లు అయిన వినాలని ఉంది చిట్టి తల్లి సూపర్ మా,,\n",
              "0      2            ఫ్యూచర్ లో బాగ work out అవుతుంది సూపర్.    \n",
              "1      3  ఇది బెండపూడి గవ్నమెంట్ స్టూడెంట్స్ కి మాత్రమే ...    \n",
              "2      4  తెలుగులో మాట్లాడినప్పుడు చాలా అందంగా వినసొంపుగ...    \n",
              "3      5  సూపర్ సిస్టర్ ఫ్యూచర్ లో రైల్వే లో జాబ్ రావాలన...    \n",
              "4      6                  వావ్ సూపర్ అమ్మ god bless u తల్లి    \n",
              "..   ...                                                ...    \n",
              "494  496                      డబ్బు ఇస్తే నిన్నుకూడ ఎస్తాడు    \n",
              "495  497           నిది చూపించు దెబ్బకి సెట్ ఐపోయిది రోజాకు    \n",
              "496  498    ఏది నాకిన నీది మాత్రం కచ్చితంగా నాకడు చీ రెడ్డి    \n",
              "497  499               ఇప్పుడు నిదిఐన నకుతాడు డబ్బులు ఇస్తే    \n",
              "498  500               Emi echavaa  Andaru neelagaa nakaru     \n",
              "\n",
              "[499 rows x 2 columns]"
            ],
            "text/html": [
              "\n",
              "  <div id=\"df-1e19b1a9-f948-42a1-b0e1-88bc5cb434ff\" class=\"colab-df-container\">\n",
              "    <div>\n",
              "<style scoped>\n",
              "    .dataframe tbody tr th:only-of-type {\n",
              "        vertical-align: middle;\n",
              "    }\n",
              "\n",
              "    .dataframe tbody tr th {\n",
              "        vertical-align: top;\n",
              "    }\n",
              "\n",
              "    .dataframe thead th {\n",
              "        text-align: right;\n",
              "    }\n",
              "</style>\n",
              "<table border=\"1\" class=\"dataframe\">\n",
              "  <thead>\n",
              "    <tr style=\"text-align: right;\">\n",
              "      <th></th>\n",
              "      <th>1</th>\n",
              "      <th>ఎన్ని సార్లు అయిన వినాలని ఉంది చిట్టి తల్లి సూపర్ మా,,</th>\n",
              "    </tr>\n",
              "  </thead>\n",
              "  <tbody>\n",
              "    <tr>\n",
              "      <th>0</th>\n",
              "      <td>2</td>\n",
              "      <td>ఫ్యూచర్ లో బాగ work out అవుతుంది సూపర్.</td>\n",
              "    </tr>\n",
              "    <tr>\n",
              "      <th>1</th>\n",
              "      <td>3</td>\n",
              "      <td>ఇది బెండపూడి గవ్నమెంట్ స్టూడెంట్స్ కి మాత్రమే ...</td>\n",
              "    </tr>\n",
              "    <tr>\n",
              "      <th>2</th>\n",
              "      <td>4</td>\n",
              "      <td>తెలుగులో మాట్లాడినప్పుడు చాలా అందంగా వినసొంపుగ...</td>\n",
              "    </tr>\n",
              "    <tr>\n",
              "      <th>3</th>\n",
              "      <td>5</td>\n",
              "      <td>సూపర్ సిస్టర్ ఫ్యూచర్ లో రైల్వే లో జాబ్ రావాలన...</td>\n",
              "    </tr>\n",
              "    <tr>\n",
              "      <th>4</th>\n",
              "      <td>6</td>\n",
              "      <td>వావ్ సూపర్ అమ్మ god bless u తల్లి</td>\n",
              "    </tr>\n",
              "    <tr>\n",
              "      <th>...</th>\n",
              "      <td>...</td>\n",
              "      <td>...</td>\n",
              "    </tr>\n",
              "    <tr>\n",
              "      <th>494</th>\n",
              "      <td>496</td>\n",
              "      <td>డబ్బు ఇస్తే నిన్నుకూడ ఎస్తాడు</td>\n",
              "    </tr>\n",
              "    <tr>\n",
              "      <th>495</th>\n",
              "      <td>497</td>\n",
              "      <td>నిది చూపించు దెబ్బకి సెట్ ఐపోయిది రోజాకు</td>\n",
              "    </tr>\n",
              "    <tr>\n",
              "      <th>496</th>\n",
              "      <td>498</td>\n",
              "      <td>ఏది నాకిన నీది మాత్రం కచ్చితంగా నాకడు చీ రెడ్డి</td>\n",
              "    </tr>\n",
              "    <tr>\n",
              "      <th>497</th>\n",
              "      <td>499</td>\n",
              "      <td>ఇప్పుడు నిదిఐన నకుతాడు డబ్బులు ఇస్తే</td>\n",
              "    </tr>\n",
              "    <tr>\n",
              "      <th>498</th>\n",
              "      <td>500</td>\n",
              "      <td>Emi echavaa  Andaru neelagaa nakaru</td>\n",
              "    </tr>\n",
              "  </tbody>\n",
              "</table>\n",
              "<p>499 rows × 2 columns</p>\n",
              "</div>\n",
              "    <div class=\"colab-df-buttons\">\n",
              "\n",
              "  <div class=\"colab-df-container\">\n",
              "    <button class=\"colab-df-convert\" onclick=\"convertToInteractive('df-1e19b1a9-f948-42a1-b0e1-88bc5cb434ff')\"\n",
              "            title=\"Convert this dataframe to an interactive table.\"\n",
              "            style=\"display:none;\">\n",
              "\n",
              "  <svg xmlns=\"http://www.w3.org/2000/svg\" height=\"24px\" viewBox=\"0 -960 960 960\">\n",
              "    <path d=\"M120-120v-720h720v720H120Zm60-500h600v-160H180v160Zm220 220h160v-160H400v160Zm0 220h160v-160H400v160ZM180-400h160v-160H180v160Zm440 0h160v-160H620v160ZM180-180h160v-160H180v160Zm440 0h160v-160H620v160Z\"/>\n",
              "  </svg>\n",
              "    </button>\n",
              "\n",
              "  <style>\n",
              "    .colab-df-container {\n",
              "      display:flex;\n",
              "      gap: 12px;\n",
              "    }\n",
              "\n",
              "    .colab-df-convert {\n",
              "      background-color: #E8F0FE;\n",
              "      border: none;\n",
              "      border-radius: 50%;\n",
              "      cursor: pointer;\n",
              "      display: none;\n",
              "      fill: #1967D2;\n",
              "      height: 32px;\n",
              "      padding: 0 0 0 0;\n",
              "      width: 32px;\n",
              "    }\n",
              "\n",
              "    .colab-df-convert:hover {\n",
              "      background-color: #E2EBFA;\n",
              "      box-shadow: 0px 1px 2px rgba(60, 64, 67, 0.3), 0px 1px 3px 1px rgba(60, 64, 67, 0.15);\n",
              "      fill: #174EA6;\n",
              "    }\n",
              "\n",
              "    .colab-df-buttons div {\n",
              "      margin-bottom: 4px;\n",
              "    }\n",
              "\n",
              "    [theme=dark] .colab-df-convert {\n",
              "      background-color: #3B4455;\n",
              "      fill: #D2E3FC;\n",
              "    }\n",
              "\n",
              "    [theme=dark] .colab-df-convert:hover {\n",
              "      background-color: #434B5C;\n",
              "      box-shadow: 0px 1px 3px 1px rgba(0, 0, 0, 0.15);\n",
              "      filter: drop-shadow(0px 1px 2px rgba(0, 0, 0, 0.3));\n",
              "      fill: #FFFFFF;\n",
              "    }\n",
              "  </style>\n",
              "\n",
              "    <script>\n",
              "      const buttonEl =\n",
              "        document.querySelector('#df-1e19b1a9-f948-42a1-b0e1-88bc5cb434ff button.colab-df-convert');\n",
              "      buttonEl.style.display =\n",
              "        google.colab.kernel.accessAllowed ? 'block' : 'none';\n",
              "\n",
              "      async function convertToInteractive(key) {\n",
              "        const element = document.querySelector('#df-1e19b1a9-f948-42a1-b0e1-88bc5cb434ff');\n",
              "        const dataTable =\n",
              "          await google.colab.kernel.invokeFunction('convertToInteractive',\n",
              "                                                    [key], {});\n",
              "        if (!dataTable) return;\n",
              "\n",
              "        const docLinkHtml = 'Like what you see? Visit the ' +\n",
              "          '<a target=\"_blank\" href=https://colab.research.google.com/notebooks/data_table.ipynb>data table notebook</a>'\n",
              "          + ' to learn more about interactive tables.';\n",
              "        element.innerHTML = '';\n",
              "        dataTable['output_type'] = 'display_data';\n",
              "        await google.colab.output.renderOutput(dataTable, element);\n",
              "        const docLink = document.createElement('div');\n",
              "        docLink.innerHTML = docLinkHtml;\n",
              "        element.appendChild(docLink);\n",
              "      }\n",
              "    </script>\n",
              "  </div>\n",
              "\n",
              "\n",
              "<div id=\"df-86bce6fe-92ed-4001-b46c-6302a0a729f4\">\n",
              "  <button class=\"colab-df-quickchart\" onclick=\"quickchart('df-86bce6fe-92ed-4001-b46c-6302a0a729f4')\"\n",
              "            title=\"Suggest charts\"\n",
              "            style=\"display:none;\">\n",
              "\n",
              "<svg xmlns=\"http://www.w3.org/2000/svg\" height=\"24px\"viewBox=\"0 0 24 24\"\n",
              "     width=\"24px\">\n",
              "    <g>\n",
              "        <path d=\"M19 3H5c-1.1 0-2 .9-2 2v14c0 1.1.9 2 2 2h14c1.1 0 2-.9 2-2V5c0-1.1-.9-2-2-2zM9 17H7v-7h2v7zm4 0h-2V7h2v10zm4 0h-2v-4h2v4z\"/>\n",
              "    </g>\n",
              "</svg>\n",
              "  </button>\n",
              "\n",
              "<style>\n",
              "  .colab-df-quickchart {\n",
              "      --bg-color: #E8F0FE;\n",
              "      --fill-color: #1967D2;\n",
              "      --hover-bg-color: #E2EBFA;\n",
              "      --hover-fill-color: #174EA6;\n",
              "      --disabled-fill-color: #AAA;\n",
              "      --disabled-bg-color: #DDD;\n",
              "  }\n",
              "\n",
              "  [theme=dark] .colab-df-quickchart {\n",
              "      --bg-color: #3B4455;\n",
              "      --fill-color: #D2E3FC;\n",
              "      --hover-bg-color: #434B5C;\n",
              "      --hover-fill-color: #FFFFFF;\n",
              "      --disabled-bg-color: #3B4455;\n",
              "      --disabled-fill-color: #666;\n",
              "  }\n",
              "\n",
              "  .colab-df-quickchart {\n",
              "    background-color: var(--bg-color);\n",
              "    border: none;\n",
              "    border-radius: 50%;\n",
              "    cursor: pointer;\n",
              "    display: none;\n",
              "    fill: var(--fill-color);\n",
              "    height: 32px;\n",
              "    padding: 0;\n",
              "    width: 32px;\n",
              "  }\n",
              "\n",
              "  .colab-df-quickchart:hover {\n",
              "    background-color: var(--hover-bg-color);\n",
              "    box-shadow: 0 1px 2px rgba(60, 64, 67, 0.3), 0 1px 3px 1px rgba(60, 64, 67, 0.15);\n",
              "    fill: var(--button-hover-fill-color);\n",
              "  }\n",
              "\n",
              "  .colab-df-quickchart-complete:disabled,\n",
              "  .colab-df-quickchart-complete:disabled:hover {\n",
              "    background-color: var(--disabled-bg-color);\n",
              "    fill: var(--disabled-fill-color);\n",
              "    box-shadow: none;\n",
              "  }\n",
              "\n",
              "  .colab-df-spinner {\n",
              "    border: 2px solid var(--fill-color);\n",
              "    border-color: transparent;\n",
              "    border-bottom-color: var(--fill-color);\n",
              "    animation:\n",
              "      spin 1s steps(1) infinite;\n",
              "  }\n",
              "\n",
              "  @keyframes spin {\n",
              "    0% {\n",
              "      border-color: transparent;\n",
              "      border-bottom-color: var(--fill-color);\n",
              "      border-left-color: var(--fill-color);\n",
              "    }\n",
              "    20% {\n",
              "      border-color: transparent;\n",
              "      border-left-color: var(--fill-color);\n",
              "      border-top-color: var(--fill-color);\n",
              "    }\n",
              "    30% {\n",
              "      border-color: transparent;\n",
              "      border-left-color: var(--fill-color);\n",
              "      border-top-color: var(--fill-color);\n",
              "      border-right-color: var(--fill-color);\n",
              "    }\n",
              "    40% {\n",
              "      border-color: transparent;\n",
              "      border-right-color: var(--fill-color);\n",
              "      border-top-color: var(--fill-color);\n",
              "    }\n",
              "    60% {\n",
              "      border-color: transparent;\n",
              "      border-right-color: var(--fill-color);\n",
              "    }\n",
              "    80% {\n",
              "      border-color: transparent;\n",
              "      border-right-color: var(--fill-color);\n",
              "      border-bottom-color: var(--fill-color);\n",
              "    }\n",
              "    90% {\n",
              "      border-color: transparent;\n",
              "      border-bottom-color: var(--fill-color);\n",
              "    }\n",
              "  }\n",
              "</style>\n",
              "\n",
              "  <script>\n",
              "    async function quickchart(key) {\n",
              "      const quickchartButtonEl =\n",
              "        document.querySelector('#' + key + ' button');\n",
              "      quickchartButtonEl.disabled = true;  // To prevent multiple clicks.\n",
              "      quickchartButtonEl.classList.add('colab-df-spinner');\n",
              "      try {\n",
              "        const charts = await google.colab.kernel.invokeFunction(\n",
              "            'suggestCharts', [key], {});\n",
              "      } catch (error) {\n",
              "        console.error('Error during call to suggestCharts:', error);\n",
              "      }\n",
              "      quickchartButtonEl.classList.remove('colab-df-spinner');\n",
              "      quickchartButtonEl.classList.add('colab-df-quickchart-complete');\n",
              "    }\n",
              "    (() => {\n",
              "      let quickchartButtonEl =\n",
              "        document.querySelector('#df-86bce6fe-92ed-4001-b46c-6302a0a729f4 button');\n",
              "      quickchartButtonEl.style.display =\n",
              "        google.colab.kernel.accessAllowed ? 'block' : 'none';\n",
              "    })();\n",
              "  </script>\n",
              "</div>\n",
              "    </div>\n",
              "  </div>\n"
            ]
          },
          "metadata": {},
          "execution_count": 8
        }
      ]
    },
    {
      "cell_type": "code",
      "source": [
        "test_df.columns = ['id', 'text']"
      ],
      "metadata": {
        "id": "pBG_aF4rDBTH"
      },
      "execution_count": 9,
      "outputs": []
    },
    {
      "cell_type": "code",
      "source": [
        "test_with_label.columns = ['id', 'text', 'label']"
      ],
      "metadata": {
        "id": "fwPsKf5iCgBh"
      },
      "execution_count": 10,
      "outputs": []
    },
    {
      "cell_type": "code",
      "source": [
        "test_df.head()"
      ],
      "metadata": {
        "colab": {
          "base_uri": "https://localhost:8080/",
          "height": 0
        },
        "id": "DwA0yJ7wDSZ3",
        "outputId": "b16d355a-a871-4646-ec5b-7cf38464d425"
      },
      "execution_count": 11,
      "outputs": [
        {
          "output_type": "execute_result",
          "data": {
            "text/plain": [
              "   id                                               text\n",
              "0   2            ఫ్యూచర్ లో బాగ work out అవుతుంది సూపర్.\n",
              "1   3  ఇది బెండపూడి గవ్నమెంట్ స్టూడెంట్స్ కి మాత్రమే ...\n",
              "2   4  తెలుగులో మాట్లాడినప్పుడు చాలా అందంగా వినసొంపుగ...\n",
              "3   5  సూపర్ సిస్టర్ ఫ్యూచర్ లో రైల్వే లో జాబ్ రావాలన...\n",
              "4   6                  వావ్ సూపర్ అమ్మ god bless u తల్లి"
            ],
            "text/html": [
              "\n",
              "  <div id=\"df-75db552f-9704-47fb-9e85-3bd10a51d3a2\" class=\"colab-df-container\">\n",
              "    <div>\n",
              "<style scoped>\n",
              "    .dataframe tbody tr th:only-of-type {\n",
              "        vertical-align: middle;\n",
              "    }\n",
              "\n",
              "    .dataframe tbody tr th {\n",
              "        vertical-align: top;\n",
              "    }\n",
              "\n",
              "    .dataframe thead th {\n",
              "        text-align: right;\n",
              "    }\n",
              "</style>\n",
              "<table border=\"1\" class=\"dataframe\">\n",
              "  <thead>\n",
              "    <tr style=\"text-align: right;\">\n",
              "      <th></th>\n",
              "      <th>id</th>\n",
              "      <th>text</th>\n",
              "    </tr>\n",
              "  </thead>\n",
              "  <tbody>\n",
              "    <tr>\n",
              "      <th>0</th>\n",
              "      <td>2</td>\n",
              "      <td>ఫ్యూచర్ లో బాగ work out అవుతుంది సూపర్.</td>\n",
              "    </tr>\n",
              "    <tr>\n",
              "      <th>1</th>\n",
              "      <td>3</td>\n",
              "      <td>ఇది బెండపూడి గవ్నమెంట్ స్టూడెంట్స్ కి మాత్రమే ...</td>\n",
              "    </tr>\n",
              "    <tr>\n",
              "      <th>2</th>\n",
              "      <td>4</td>\n",
              "      <td>తెలుగులో మాట్లాడినప్పుడు చాలా అందంగా వినసొంపుగ...</td>\n",
              "    </tr>\n",
              "    <tr>\n",
              "      <th>3</th>\n",
              "      <td>5</td>\n",
              "      <td>సూపర్ సిస్టర్ ఫ్యూచర్ లో రైల్వే లో జాబ్ రావాలన...</td>\n",
              "    </tr>\n",
              "    <tr>\n",
              "      <th>4</th>\n",
              "      <td>6</td>\n",
              "      <td>వావ్ సూపర్ అమ్మ god bless u తల్లి</td>\n",
              "    </tr>\n",
              "  </tbody>\n",
              "</table>\n",
              "</div>\n",
              "    <div class=\"colab-df-buttons\">\n",
              "\n",
              "  <div class=\"colab-df-container\">\n",
              "    <button class=\"colab-df-convert\" onclick=\"convertToInteractive('df-75db552f-9704-47fb-9e85-3bd10a51d3a2')\"\n",
              "            title=\"Convert this dataframe to an interactive table.\"\n",
              "            style=\"display:none;\">\n",
              "\n",
              "  <svg xmlns=\"http://www.w3.org/2000/svg\" height=\"24px\" viewBox=\"0 -960 960 960\">\n",
              "    <path d=\"M120-120v-720h720v720H120Zm60-500h600v-160H180v160Zm220 220h160v-160H400v160Zm0 220h160v-160H400v160ZM180-400h160v-160H180v160Zm440 0h160v-160H620v160ZM180-180h160v-160H180v160Zm440 0h160v-160H620v160Z\"/>\n",
              "  </svg>\n",
              "    </button>\n",
              "\n",
              "  <style>\n",
              "    .colab-df-container {\n",
              "      display:flex;\n",
              "      gap: 12px;\n",
              "    }\n",
              "\n",
              "    .colab-df-convert {\n",
              "      background-color: #E8F0FE;\n",
              "      border: none;\n",
              "      border-radius: 50%;\n",
              "      cursor: pointer;\n",
              "      display: none;\n",
              "      fill: #1967D2;\n",
              "      height: 32px;\n",
              "      padding: 0 0 0 0;\n",
              "      width: 32px;\n",
              "    }\n",
              "\n",
              "    .colab-df-convert:hover {\n",
              "      background-color: #E2EBFA;\n",
              "      box-shadow: 0px 1px 2px rgba(60, 64, 67, 0.3), 0px 1px 3px 1px rgba(60, 64, 67, 0.15);\n",
              "      fill: #174EA6;\n",
              "    }\n",
              "\n",
              "    .colab-df-buttons div {\n",
              "      margin-bottom: 4px;\n",
              "    }\n",
              "\n",
              "    [theme=dark] .colab-df-convert {\n",
              "      background-color: #3B4455;\n",
              "      fill: #D2E3FC;\n",
              "    }\n",
              "\n",
              "    [theme=dark] .colab-df-convert:hover {\n",
              "      background-color: #434B5C;\n",
              "      box-shadow: 0px 1px 3px 1px rgba(0, 0, 0, 0.15);\n",
              "      filter: drop-shadow(0px 1px 2px rgba(0, 0, 0, 0.3));\n",
              "      fill: #FFFFFF;\n",
              "    }\n",
              "  </style>\n",
              "\n",
              "    <script>\n",
              "      const buttonEl =\n",
              "        document.querySelector('#df-75db552f-9704-47fb-9e85-3bd10a51d3a2 button.colab-df-convert');\n",
              "      buttonEl.style.display =\n",
              "        google.colab.kernel.accessAllowed ? 'block' : 'none';\n",
              "\n",
              "      async function convertToInteractive(key) {\n",
              "        const element = document.querySelector('#df-75db552f-9704-47fb-9e85-3bd10a51d3a2');\n",
              "        const dataTable =\n",
              "          await google.colab.kernel.invokeFunction('convertToInteractive',\n",
              "                                                    [key], {});\n",
              "        if (!dataTable) return;\n",
              "\n",
              "        const docLinkHtml = 'Like what you see? Visit the ' +\n",
              "          '<a target=\"_blank\" href=https://colab.research.google.com/notebooks/data_table.ipynb>data table notebook</a>'\n",
              "          + ' to learn more about interactive tables.';\n",
              "        element.innerHTML = '';\n",
              "        dataTable['output_type'] = 'display_data';\n",
              "        await google.colab.output.renderOutput(dataTable, element);\n",
              "        const docLink = document.createElement('div');\n",
              "        docLink.innerHTML = docLinkHtml;\n",
              "        element.appendChild(docLink);\n",
              "      }\n",
              "    </script>\n",
              "  </div>\n",
              "\n",
              "\n",
              "<div id=\"df-b402a22f-9380-453b-8108-5320af3e5b66\">\n",
              "  <button class=\"colab-df-quickchart\" onclick=\"quickchart('df-b402a22f-9380-453b-8108-5320af3e5b66')\"\n",
              "            title=\"Suggest charts\"\n",
              "            style=\"display:none;\">\n",
              "\n",
              "<svg xmlns=\"http://www.w3.org/2000/svg\" height=\"24px\"viewBox=\"0 0 24 24\"\n",
              "     width=\"24px\">\n",
              "    <g>\n",
              "        <path d=\"M19 3H5c-1.1 0-2 .9-2 2v14c0 1.1.9 2 2 2h14c1.1 0 2-.9 2-2V5c0-1.1-.9-2-2-2zM9 17H7v-7h2v7zm4 0h-2V7h2v10zm4 0h-2v-4h2v4z\"/>\n",
              "    </g>\n",
              "</svg>\n",
              "  </button>\n",
              "\n",
              "<style>\n",
              "  .colab-df-quickchart {\n",
              "      --bg-color: #E8F0FE;\n",
              "      --fill-color: #1967D2;\n",
              "      --hover-bg-color: #E2EBFA;\n",
              "      --hover-fill-color: #174EA6;\n",
              "      --disabled-fill-color: #AAA;\n",
              "      --disabled-bg-color: #DDD;\n",
              "  }\n",
              "\n",
              "  [theme=dark] .colab-df-quickchart {\n",
              "      --bg-color: #3B4455;\n",
              "      --fill-color: #D2E3FC;\n",
              "      --hover-bg-color: #434B5C;\n",
              "      --hover-fill-color: #FFFFFF;\n",
              "      --disabled-bg-color: #3B4455;\n",
              "      --disabled-fill-color: #666;\n",
              "  }\n",
              "\n",
              "  .colab-df-quickchart {\n",
              "    background-color: var(--bg-color);\n",
              "    border: none;\n",
              "    border-radius: 50%;\n",
              "    cursor: pointer;\n",
              "    display: none;\n",
              "    fill: var(--fill-color);\n",
              "    height: 32px;\n",
              "    padding: 0;\n",
              "    width: 32px;\n",
              "  }\n",
              "\n",
              "  .colab-df-quickchart:hover {\n",
              "    background-color: var(--hover-bg-color);\n",
              "    box-shadow: 0 1px 2px rgba(60, 64, 67, 0.3), 0 1px 3px 1px rgba(60, 64, 67, 0.15);\n",
              "    fill: var(--button-hover-fill-color);\n",
              "  }\n",
              "\n",
              "  .colab-df-quickchart-complete:disabled,\n",
              "  .colab-df-quickchart-complete:disabled:hover {\n",
              "    background-color: var(--disabled-bg-color);\n",
              "    fill: var(--disabled-fill-color);\n",
              "    box-shadow: none;\n",
              "  }\n",
              "\n",
              "  .colab-df-spinner {\n",
              "    border: 2px solid var(--fill-color);\n",
              "    border-color: transparent;\n",
              "    border-bottom-color: var(--fill-color);\n",
              "    animation:\n",
              "      spin 1s steps(1) infinite;\n",
              "  }\n",
              "\n",
              "  @keyframes spin {\n",
              "    0% {\n",
              "      border-color: transparent;\n",
              "      border-bottom-color: var(--fill-color);\n",
              "      border-left-color: var(--fill-color);\n",
              "    }\n",
              "    20% {\n",
              "      border-color: transparent;\n",
              "      border-left-color: var(--fill-color);\n",
              "      border-top-color: var(--fill-color);\n",
              "    }\n",
              "    30% {\n",
              "      border-color: transparent;\n",
              "      border-left-color: var(--fill-color);\n",
              "      border-top-color: var(--fill-color);\n",
              "      border-right-color: var(--fill-color);\n",
              "    }\n",
              "    40% {\n",
              "      border-color: transparent;\n",
              "      border-right-color: var(--fill-color);\n",
              "      border-top-color: var(--fill-color);\n",
              "    }\n",
              "    60% {\n",
              "      border-color: transparent;\n",
              "      border-right-color: var(--fill-color);\n",
              "    }\n",
              "    80% {\n",
              "      border-color: transparent;\n",
              "      border-right-color: var(--fill-color);\n",
              "      border-bottom-color: var(--fill-color);\n",
              "    }\n",
              "    90% {\n",
              "      border-color: transparent;\n",
              "      border-bottom-color: var(--fill-color);\n",
              "    }\n",
              "  }\n",
              "</style>\n",
              "\n",
              "  <script>\n",
              "    async function quickchart(key) {\n",
              "      const quickchartButtonEl =\n",
              "        document.querySelector('#' + key + ' button');\n",
              "      quickchartButtonEl.disabled = true;  // To prevent multiple clicks.\n",
              "      quickchartButtonEl.classList.add('colab-df-spinner');\n",
              "      try {\n",
              "        const charts = await google.colab.kernel.invokeFunction(\n",
              "            'suggestCharts', [key], {});\n",
              "      } catch (error) {\n",
              "        console.error('Error during call to suggestCharts:', error);\n",
              "      }\n",
              "      quickchartButtonEl.classList.remove('colab-df-spinner');\n",
              "      quickchartButtonEl.classList.add('colab-df-quickchart-complete');\n",
              "    }\n",
              "    (() => {\n",
              "      let quickchartButtonEl =\n",
              "        document.querySelector('#df-b402a22f-9380-453b-8108-5320af3e5b66 button');\n",
              "      quickchartButtonEl.style.display =\n",
              "        google.colab.kernel.accessAllowed ? 'block' : 'none';\n",
              "    })();\n",
              "  </script>\n",
              "</div>\n",
              "    </div>\n",
              "  </div>\n"
            ]
          },
          "metadata": {},
          "execution_count": 11
        }
      ]
    },
    {
      "cell_type": "code",
      "source": [
        "train_corpus = train_df[\"Comments\"].sum()\n",
        "test_corpus = test_df['text'].sum()\n",
        "#test_corpus"
      ],
      "metadata": {
        "id": "2DH-h-3IwUdb",
        "execution": {
          "iopub.status.busy": "2023-12-06T09:22:48.191363Z",
          "iopub.execute_input": "2023-12-06T09:22:48.191680Z",
          "iopub.status.idle": "2023-12-06T09:22:48.355425Z",
          "shell.execute_reply.started": "2023-12-06T09:22:48.191656Z",
          "shell.execute_reply": "2023-12-06T09:22:48.354425Z"
        },
        "trusted": true
      },
      "execution_count": 12,
      "outputs": []
    },
    {
      "cell_type": "code",
      "source": [
        "import re\n",
        "\n",
        "train_corpus = train_df[\"Comments\"].sum()\n",
        "test_corpus = test_df[\"text\"].sum()\n",
        "\n",
        "# Remove punctuations\n",
        "chars_to_ignore = '[-,\\.:;\\'\"\\!?।]'\n",
        "\n",
        "train_corpus = re.sub(chars_to_ignore, ' ', train_corpus)\n",
        "train_vocab = set(train_corpus.split())\n",
        "\n",
        "test_corpus = re.sub(chars_to_ignore, ' ', test_corpus)\n",
        "test_vocab = set(test_corpus.split())\n",
        "\n",
        "oov = test_vocab - train_vocab\n",
        "\n",
        "print(\"Number of unique words in training data:\", len(train_vocab))\n",
        "print(\"Number of unique words in test data:\", len(test_vocab))\n",
        "print(\"Number of out-of-vocabulary (OOV) words:\", len(oov))"
      ],
      "metadata": {
        "id": "o9DHSoRN5-0u",
        "outputId": "f2bacfeb-adb4-4f8b-b36b-75ad91ba54b7",
        "execution": {
          "iopub.status.busy": "2023-12-06T09:22:48.356634Z",
          "iopub.execute_input": "2023-12-06T09:22:48.356933Z",
          "iopub.status.idle": "2023-12-06T09:22:48.546120Z",
          "shell.execute_reply.started": "2023-12-06T09:22:48.356899Z",
          "shell.execute_reply": "2023-12-06T09:22:48.544990Z"
        },
        "trusted": true,
        "colab": {
          "base_uri": "https://localhost:8080/"
        }
      },
      "execution_count": 13,
      "outputs": [
        {
          "output_type": "stream",
          "name": "stdout",
          "text": [
            "Number of unique words in training data: 17097\n",
            "Number of unique words in test data: 2361\n",
            "Number of out-of-vocabulary (OOV) words: 1167\n"
          ]
        }
      ]
    },
    {
      "cell_type": "code",
      "source": [
        "filtered_train = train_df[lambda x: x[\"Comments\"].str.contains(\"[A-Za-z0-9]\")]\n",
        "\n",
        "with pd.option_context('display.max_colwidth', 0):\n",
        "    display(filtered_train.tail(n=5))"
      ],
      "metadata": {
        "id": "B_6WCeew6G33",
        "outputId": "da1da987-e84f-4ecc-ba93-65f783568416",
        "execution": {
          "iopub.status.busy": "2023-12-06T09:22:48.547413Z",
          "iopub.execute_input": "2023-12-06T09:22:48.547771Z",
          "iopub.status.idle": "2023-12-06T09:22:48.571836Z",
          "shell.execute_reply.started": "2023-12-06T09:22:48.547743Z",
          "shell.execute_reply": "2023-12-06T09:22:48.570750Z"
        },
        "trusted": true,
        "colab": {
          "base_uri": "https://localhost:8080/",
          "height": 0
        }
      },
      "execution_count": 14,
      "outputs": [
        {
          "output_type": "display_data",
          "data": {
            "text/plain": [
              "           S.No                                                 Comments Label\n",
              "3981  HATE_4982  Roja chala goranga ayipothundh                           hate\n",
              "3983  HATE_4984  Telugu rastrala nayakulu matlade matalaku pichilestundi  hate\n",
              "3985  HATE_4986  Roja lanj...donga mund.                                  hate\n",
              "3988  HATE_4989  నీ expression చూస్తుంటే ఏదో మర్డర్, రేప్ జరిగినట్టు.     hate\n",
              "3995  HATE_4996  నిజాయితీపరుడంట....same బాస్ క్వాలిటీస్ చాలా ఉన్నాయంట.    hate"
            ],
            "text/html": [
              "\n",
              "  <div id=\"df-59b7926a-6c72-4e6c-b082-6eec3afeb924\" class=\"colab-df-container\">\n",
              "    <div>\n",
              "<style scoped>\n",
              "    .dataframe tbody tr th:only-of-type {\n",
              "        vertical-align: middle;\n",
              "    }\n",
              "\n",
              "    .dataframe tbody tr th {\n",
              "        vertical-align: top;\n",
              "    }\n",
              "\n",
              "    .dataframe thead th {\n",
              "        text-align: right;\n",
              "    }\n",
              "</style>\n",
              "<table border=\"1\" class=\"dataframe\">\n",
              "  <thead>\n",
              "    <tr style=\"text-align: right;\">\n",
              "      <th></th>\n",
              "      <th>S.No</th>\n",
              "      <th>Comments</th>\n",
              "      <th>Label</th>\n",
              "    </tr>\n",
              "  </thead>\n",
              "  <tbody>\n",
              "    <tr>\n",
              "      <th>3981</th>\n",
              "      <td>HATE_4982</td>\n",
              "      <td>Roja chala goranga ayipothundh</td>\n",
              "      <td>hate</td>\n",
              "    </tr>\n",
              "    <tr>\n",
              "      <th>3983</th>\n",
              "      <td>HATE_4984</td>\n",
              "      <td>Telugu rastrala nayakulu matlade matalaku pichilestundi</td>\n",
              "      <td>hate</td>\n",
              "    </tr>\n",
              "    <tr>\n",
              "      <th>3985</th>\n",
              "      <td>HATE_4986</td>\n",
              "      <td>Roja lanj...donga mund.</td>\n",
              "      <td>hate</td>\n",
              "    </tr>\n",
              "    <tr>\n",
              "      <th>3988</th>\n",
              "      <td>HATE_4989</td>\n",
              "      <td>నీ expression చూస్తుంటే ఏదో మర్డర్, రేప్ జరిగినట్టు.</td>\n",
              "      <td>hate</td>\n",
              "    </tr>\n",
              "    <tr>\n",
              "      <th>3995</th>\n",
              "      <td>HATE_4996</td>\n",
              "      <td>నిజాయితీపరుడంట....same బాస్ క్వాలిటీస్ చాలా ఉన్నాయంట.</td>\n",
              "      <td>hate</td>\n",
              "    </tr>\n",
              "  </tbody>\n",
              "</table>\n",
              "</div>\n",
              "    <div class=\"colab-df-buttons\">\n",
              "\n",
              "  <div class=\"colab-df-container\">\n",
              "    <button class=\"colab-df-convert\" onclick=\"convertToInteractive('df-59b7926a-6c72-4e6c-b082-6eec3afeb924')\"\n",
              "            title=\"Convert this dataframe to an interactive table.\"\n",
              "            style=\"display:none;\">\n",
              "\n",
              "  <svg xmlns=\"http://www.w3.org/2000/svg\" height=\"24px\" viewBox=\"0 -960 960 960\">\n",
              "    <path d=\"M120-120v-720h720v720H120Zm60-500h600v-160H180v160Zm220 220h160v-160H400v160Zm0 220h160v-160H400v160ZM180-400h160v-160H180v160Zm440 0h160v-160H620v160ZM180-180h160v-160H180v160Zm440 0h160v-160H620v160Z\"/>\n",
              "  </svg>\n",
              "    </button>\n",
              "\n",
              "  <style>\n",
              "    .colab-df-container {\n",
              "      display:flex;\n",
              "      gap: 12px;\n",
              "    }\n",
              "\n",
              "    .colab-df-convert {\n",
              "      background-color: #E8F0FE;\n",
              "      border: none;\n",
              "      border-radius: 50%;\n",
              "      cursor: pointer;\n",
              "      display: none;\n",
              "      fill: #1967D2;\n",
              "      height: 32px;\n",
              "      padding: 0 0 0 0;\n",
              "      width: 32px;\n",
              "    }\n",
              "\n",
              "    .colab-df-convert:hover {\n",
              "      background-color: #E2EBFA;\n",
              "      box-shadow: 0px 1px 2px rgba(60, 64, 67, 0.3), 0px 1px 3px 1px rgba(60, 64, 67, 0.15);\n",
              "      fill: #174EA6;\n",
              "    }\n",
              "\n",
              "    .colab-df-buttons div {\n",
              "      margin-bottom: 4px;\n",
              "    }\n",
              "\n",
              "    [theme=dark] .colab-df-convert {\n",
              "      background-color: #3B4455;\n",
              "      fill: #D2E3FC;\n",
              "    }\n",
              "\n",
              "    [theme=dark] .colab-df-convert:hover {\n",
              "      background-color: #434B5C;\n",
              "      box-shadow: 0px 1px 3px 1px rgba(0, 0, 0, 0.15);\n",
              "      filter: drop-shadow(0px 1px 2px rgba(0, 0, 0, 0.3));\n",
              "      fill: #FFFFFF;\n",
              "    }\n",
              "  </style>\n",
              "\n",
              "    <script>\n",
              "      const buttonEl =\n",
              "        document.querySelector('#df-59b7926a-6c72-4e6c-b082-6eec3afeb924 button.colab-df-convert');\n",
              "      buttonEl.style.display =\n",
              "        google.colab.kernel.accessAllowed ? 'block' : 'none';\n",
              "\n",
              "      async function convertToInteractive(key) {\n",
              "        const element = document.querySelector('#df-59b7926a-6c72-4e6c-b082-6eec3afeb924');\n",
              "        const dataTable =\n",
              "          await google.colab.kernel.invokeFunction('convertToInteractive',\n",
              "                                                    [key], {});\n",
              "        if (!dataTable) return;\n",
              "\n",
              "        const docLinkHtml = 'Like what you see? Visit the ' +\n",
              "          '<a target=\"_blank\" href=https://colab.research.google.com/notebooks/data_table.ipynb>data table notebook</a>'\n",
              "          + ' to learn more about interactive tables.';\n",
              "        element.innerHTML = '';\n",
              "        dataTable['output_type'] = 'display_data';\n",
              "        await google.colab.output.renderOutput(dataTable, element);\n",
              "        const docLink = document.createElement('div');\n",
              "        docLink.innerHTML = docLinkHtml;\n",
              "        element.appendChild(docLink);\n",
              "      }\n",
              "    </script>\n",
              "  </div>\n",
              "\n",
              "\n",
              "<div id=\"df-a9e9a555-d8ea-47d8-913e-0aa97906cedf\">\n",
              "  <button class=\"colab-df-quickchart\" onclick=\"quickchart('df-a9e9a555-d8ea-47d8-913e-0aa97906cedf')\"\n",
              "            title=\"Suggest charts\"\n",
              "            style=\"display:none;\">\n",
              "\n",
              "<svg xmlns=\"http://www.w3.org/2000/svg\" height=\"24px\"viewBox=\"0 0 24 24\"\n",
              "     width=\"24px\">\n",
              "    <g>\n",
              "        <path d=\"M19 3H5c-1.1 0-2 .9-2 2v14c0 1.1.9 2 2 2h14c1.1 0 2-.9 2-2V5c0-1.1-.9-2-2-2zM9 17H7v-7h2v7zm4 0h-2V7h2v10zm4 0h-2v-4h2v4z\"/>\n",
              "    </g>\n",
              "</svg>\n",
              "  </button>\n",
              "\n",
              "<style>\n",
              "  .colab-df-quickchart {\n",
              "      --bg-color: #E8F0FE;\n",
              "      --fill-color: #1967D2;\n",
              "      --hover-bg-color: #E2EBFA;\n",
              "      --hover-fill-color: #174EA6;\n",
              "      --disabled-fill-color: #AAA;\n",
              "      --disabled-bg-color: #DDD;\n",
              "  }\n",
              "\n",
              "  [theme=dark] .colab-df-quickchart {\n",
              "      --bg-color: #3B4455;\n",
              "      --fill-color: #D2E3FC;\n",
              "      --hover-bg-color: #434B5C;\n",
              "      --hover-fill-color: #FFFFFF;\n",
              "      --disabled-bg-color: #3B4455;\n",
              "      --disabled-fill-color: #666;\n",
              "  }\n",
              "\n",
              "  .colab-df-quickchart {\n",
              "    background-color: var(--bg-color);\n",
              "    border: none;\n",
              "    border-radius: 50%;\n",
              "    cursor: pointer;\n",
              "    display: none;\n",
              "    fill: var(--fill-color);\n",
              "    height: 32px;\n",
              "    padding: 0;\n",
              "    width: 32px;\n",
              "  }\n",
              "\n",
              "  .colab-df-quickchart:hover {\n",
              "    background-color: var(--hover-bg-color);\n",
              "    box-shadow: 0 1px 2px rgba(60, 64, 67, 0.3), 0 1px 3px 1px rgba(60, 64, 67, 0.15);\n",
              "    fill: var(--button-hover-fill-color);\n",
              "  }\n",
              "\n",
              "  .colab-df-quickchart-complete:disabled,\n",
              "  .colab-df-quickchart-complete:disabled:hover {\n",
              "    background-color: var(--disabled-bg-color);\n",
              "    fill: var(--disabled-fill-color);\n",
              "    box-shadow: none;\n",
              "  }\n",
              "\n",
              "  .colab-df-spinner {\n",
              "    border: 2px solid var(--fill-color);\n",
              "    border-color: transparent;\n",
              "    border-bottom-color: var(--fill-color);\n",
              "    animation:\n",
              "      spin 1s steps(1) infinite;\n",
              "  }\n",
              "\n",
              "  @keyframes spin {\n",
              "    0% {\n",
              "      border-color: transparent;\n",
              "      border-bottom-color: var(--fill-color);\n",
              "      border-left-color: var(--fill-color);\n",
              "    }\n",
              "    20% {\n",
              "      border-color: transparent;\n",
              "      border-left-color: var(--fill-color);\n",
              "      border-top-color: var(--fill-color);\n",
              "    }\n",
              "    30% {\n",
              "      border-color: transparent;\n",
              "      border-left-color: var(--fill-color);\n",
              "      border-top-color: var(--fill-color);\n",
              "      border-right-color: var(--fill-color);\n",
              "    }\n",
              "    40% {\n",
              "      border-color: transparent;\n",
              "      border-right-color: var(--fill-color);\n",
              "      border-top-color: var(--fill-color);\n",
              "    }\n",
              "    60% {\n",
              "      border-color: transparent;\n",
              "      border-right-color: var(--fill-color);\n",
              "    }\n",
              "    80% {\n",
              "      border-color: transparent;\n",
              "      border-right-color: var(--fill-color);\n",
              "      border-bottom-color: var(--fill-color);\n",
              "    }\n",
              "    90% {\n",
              "      border-color: transparent;\n",
              "      border-bottom-color: var(--fill-color);\n",
              "    }\n",
              "  }\n",
              "</style>\n",
              "\n",
              "  <script>\n",
              "    async function quickchart(key) {\n",
              "      const quickchartButtonEl =\n",
              "        document.querySelector('#' + key + ' button');\n",
              "      quickchartButtonEl.disabled = true;  // To prevent multiple clicks.\n",
              "      quickchartButtonEl.classList.add('colab-df-spinner');\n",
              "      try {\n",
              "        const charts = await google.colab.kernel.invokeFunction(\n",
              "            'suggestCharts', [key], {});\n",
              "      } catch (error) {\n",
              "        console.error('Error during call to suggestCharts:', error);\n",
              "      }\n",
              "      quickchartButtonEl.classList.remove('colab-df-spinner');\n",
              "      quickchartButtonEl.classList.add('colab-df-quickchart-complete');\n",
              "    }\n",
              "    (() => {\n",
              "      let quickchartButtonEl =\n",
              "        document.querySelector('#df-a9e9a555-d8ea-47d8-913e-0aa97906cedf button');\n",
              "      quickchartButtonEl.style.display =\n",
              "        google.colab.kernel.accessAllowed ? 'block' : 'none';\n",
              "    })();\n",
              "  </script>\n",
              "</div>\n",
              "    </div>\n",
              "  </div>\n"
            ]
          },
          "metadata": {}
        }
      ]
    },
    {
      "cell_type": "code",
      "source": [
        "filtered_train.shape"
      ],
      "metadata": {
        "id": "GqKOGDtd6UQE",
        "outputId": "43c655c8-cdad-4ab1-bd76-49bacd7dc5b2",
        "execution": {
          "iopub.status.busy": "2023-12-06T09:22:48.572892Z",
          "iopub.execute_input": "2023-12-06T09:22:48.573178Z",
          "iopub.status.idle": "2023-12-06T09:22:48.579308Z",
          "shell.execute_reply.started": "2023-12-06T09:22:48.573154Z",
          "shell.execute_reply": "2023-12-06T09:22:48.578331Z"
        },
        "trusted": true,
        "colab": {
          "base_uri": "https://localhost:8080/"
        }
      },
      "execution_count": 15,
      "outputs": [
        {
          "output_type": "execute_result",
          "data": {
            "text/plain": [
              "(2664, 3)"
            ]
          },
          "metadata": {},
          "execution_count": 15
        }
      ]
    },
    {
      "cell_type": "code",
      "source": [
        "print(\"Total Pure Tamil Sentence = \", train_df.shape[0] - filtered_train.shape[0])"
      ],
      "metadata": {
        "execution": {
          "iopub.status.busy": "2023-12-06T09:22:48.580459Z",
          "iopub.execute_input": "2023-12-06T09:22:48.580978Z",
          "iopub.status.idle": "2023-12-06T09:22:48.587654Z",
          "shell.execute_reply.started": "2023-12-06T09:22:48.580944Z",
          "shell.execute_reply": "2023-12-06T09:22:48.586764Z"
        },
        "trusted": true,
        "colab": {
          "base_uri": "https://localhost:8080/"
        },
        "id": "3w868NUb53-a",
        "outputId": "7f5e17da-5ebc-4c4d-ff10-4ee237d41b25"
      },
      "execution_count": 16,
      "outputs": [
        {
          "output_type": "stream",
          "name": "stdout",
          "text": [
            "Total Pure Tamil Sentence =  1336\n"
          ]
        }
      ]
    },
    {
      "cell_type": "markdown",
      "source": [
        "# Preprocessing"
      ],
      "metadata": {
        "id": "hphD1uHEv9_0"
      }
    },
    {
      "cell_type": "code",
      "source": [
        "def text_to_word_list(text):\n",
        "    text = text.split()\n",
        "    return text\n",
        "\n",
        "def replace_strings(text):\n",
        "    emoj = re.compile(\"[\"         # this emoj is to remove all emojis\n",
        "        u\"\\U0001F600-\\U0001F64F\"  # emoticons\n",
        "        u\"\\U0001F300-\\U0001F5FF\"  # symbols & pictographs\n",
        "        u\"\\U0001F680-\\U0001F6FF\"  # transport & map symbols\n",
        "        u\"\\U0001F1E0-\\U0001F1FF\"  # flags (iOS)\n",
        "        u\"\\U00002500-\\U00002BEF\"  # chinese char\n",
        "        u\"\\U00002702-\\U000027B0\"\n",
        "        u\"\\U000024C2-\\U0001F251\"\n",
        "        u\"\\U0001f926-\\U0001f937\"\n",
        "        u\"\\U00010000-\\U0010ffff\"\n",
        "        u\"\\u2640-\\u2642\"\n",
        "        u\"\\u2600-\\u2B55\"\n",
        "        u\"\\u200d\"\n",
        "        u\"\\u23cf\"\n",
        "        u\"\\u23e9\"\n",
        "        u\"\\u231a\"\n",
        "        u\"\\ufe0f\"  # dingbats\n",
        "        u\"\\u3030\"\n",
        "                      \"]+\", re.UNICODE)\n",
        "    emoji_pattern = re.compile(\"[\"\n",
        "                           u\"\\U0001F600-\\U0001F64F\"  # emoticons\n",
        "                           u\"\\U0001F300-\\U0001F5FF\"  # symbols & pictographs\n",
        "                           u\"\\U0001F680-\\U0001F6FF\"  # transport & map symbols\n",
        "                           u\"\\U0001F1E0-\\U0001F1FF\"  # flags (iOS)\n",
        "                           u\"\\U00002702-\\U000027B0\"\n",
        "                           u\"\\U000024C2-\\U0001F251\"\n",
        "                           u\"\\u00C0-\\u017F\"          #latin\n",
        "                           u\"\\u2000-\\u206F\"          #generalPunctuations\n",
        "\n",
        "                           \"]+\", flags=re.UNICODE)\n",
        "\n",
        "    text = text.lower()\n",
        "\n",
        "    url_pattern = r'https?://\\S+|www\\.\\S+'\n",
        "    text = re.sub(url_pattern, ' ', text)\n",
        "\n",
        "    text = BeautifulSoup(text, 'html.parser').get_text()\n",
        "    text = re.sub(r'(https|http|www)?:\\/\\/(\\w|\\.|\\/|\\?|\\=|\\&|\\%)*\\b', ' ', text, flags=re.MULTILINE)\n",
        "\n",
        "\n",
        "    text = emoji_pattern.sub(r' ', text)\n",
        "    text = emoj.sub(r' ',text)\n",
        "\n",
        "    text = text.replace('\\n', ' ')\n",
        "    text = text.replace('—', ' ')\n",
        "    text = text.replace('_', ' ')\n",
        "    text = text.replace('\\r', ' ')\n",
        "    text = text.replace('\\w', ' ')\n",
        "\n",
        "    text = re.sub(r'(\\\\)[a-zA-Z]+', ' ',text)\n",
        "\n",
        "    text = re.sub(r'\\s+', ' ', text)  #replace multiple space with single space\n",
        "\n",
        "    return text\n",
        "\n",
        "def remove_punctuations(my_str):\n",
        "    # define punctuation\n",
        "    #punctuations = '''```\u0012\u0010\u0002\b`\u0007\b£|¢|\u0007Ñ+-*/=৳০১২৩৪৫৬৭৮৯012–34567•89।!()-[]{};:'\"“\\’,<>./?@#$%^&*_~‘—॥”‰🤣⚽️✌😀😃😄😁😆😅😂🤣😊😇🙂🙃😉😌😍😘😗😙😚😋😛😝😜🤪🤨🧐🤓😎🤩🥳😏😒😞😔😟😕🙁☹️😣😖😫😩😤😠😡🤬😈👿💀☠️💩🤡👹👺👻👽👾🤖💋💌💘💝💖💗💓💞💕💟❣️💔❤️‍🔥🖤🤍💯💢💥💫💦💨🕳️💣💬👁️‍🗨️🗨️🗯️💭💤👋🤚🖐️✋🖖👌✌️🤞🤟🤘🤙👈👉👆👇☝️✍️👏👏🏻👏🏼👏🏽👏🏾👏🏿👍👍🏻👍🏼👍🏽👍🏾👍🏿👎👎🏻👎🏼👎🏽👎🏾👎🏿✊✊🏻✊🏼✊🏽✊🏾✊🏿🤛🤛🏻🤛🏼🤛🏽🤛🏾🤛🏿🤜🤜🏻🤜🏼🤜🏽🤜🏾🤜🏿🤝🙏🙏🏻🙏🏼🙏🏽🙏🏾🙏🏿✍️💅💅🏻💅🏼💅🏽💅🏾💅🏿🤳💪💪🏻💪🏼💪🏽💪🏾💪🏿🦾🦵🦿🦶👂👂🏻👂🏼👂🏽👂🏾👂🏿👃👃🏻👃🏼👃🏽👃🏾👃🏿👀🧠🫀🫁🦷🦴👅👄🦻🦻🏻🦻🏼🦻🏽🦻🏾🦻🏿👶👶🏻👶🏼👶🏽👶🏾👶🏿🧒🧒🏻🧒🏼🧒🏽🧒🏾🧒🏿👦👦🏻👦🏼👦🏽👦🏾👦🏿👧👧🏻👧🏼👧🏽👧🏾👧🏿🧑🧑🏻🧑🏼🧑🏽🧑🏾🧑🏿👨👨🏻👨🏼👨🏽👨🏾👨🏿👩👩🏻👩🏼👩🏽👩🏾👩🏿🧓🧓🏻🧓🏼🧓🏽🧓🏾🧓🏿👴👴🏻👴🏼👴🏽👴🏾👴🏿👵👵🏻👵🏼👵🏽👵🏾👵🏿👩‍🦰👩🏻‍🦰👩🏼‍🦰👩🏽‍🦰👩🏾‍🦰👩🏿‍🦰👩‍🦱👩🏻‍🦱👩🏼‍🦱👩🏽‍🦱👩🏾‍🦱👩🏿‍🦱👩‍🦳👩🏻‍🦳👩🏼‍🦳👩🏽‍🦳👩🏾‍🦳👩🏿‍🦳👩‍🦲👩🏻‍🦲👩🏼‍🦲👩🏽‍🦲👩🏾‍🦲👩🏿‍🦲👨‍🦰👨🏻‍🦰👨🏼‍🦰👨🏽‍🦰👨🏾‍🦰👨🏿‍🦰👨‍🦱👨🏻‍🦱👨🏼‍🦱👨🏽‍🦱👨🏾‍🦱👨🏿‍🦱👨‍🦳👨🏻‍🦳👨🏼👨🏽‍🦳👨🏾‍🦳👨🏿‍🦳👨‍🦲👨🏻‍🦲👨🏼‍🦲👨🏽‍🦲👨🏾‍🦲👨🏿‍🦲🦰🦱🦳🦲👱‍♀️👱🏻‍♀️❤️‍🩹❤️‍🔥❤️‍🩹🧡💛💚💙💜🤎�￰৷￰'''\n",
        "    punctuations = '|¢|\u0007Ñ+-৳০১২৩৪৫৬৭৮৯।()-[]{}<>@#$%^&*_~—॥🤣⚽️✌😀💉�￰৷￰'\n",
        "    no_punct = \"\"\n",
        "    for char in my_str:\n",
        "        if char not in punctuations:\n",
        "            no_punct = no_punct + char\n",
        "\n",
        "    # display the unpunctuated string\n",
        "    return no_punct\n",
        "\n",
        "\n",
        "\n",
        "def joining(text):\n",
        "    out=' '.join(text)\n",
        "    return out\n",
        "\n",
        "def preprocessing(text):\n",
        "    out=remove_punctuations(replace_strings(text))\n",
        "    return out"
      ],
      "metadata": {
        "id": "OyfV6dRn6eJa",
        "execution": {
          "iopub.status.busy": "2023-12-06T09:22:48.591240Z",
          "iopub.execute_input": "2023-12-06T09:22:48.591521Z",
          "iopub.status.idle": "2023-12-06T09:22:48.608182Z",
          "shell.execute_reply.started": "2023-12-06T09:22:48.591496Z",
          "shell.execute_reply": "2023-12-06T09:22:48.607218Z"
        },
        "trusted": true
      },
      "execution_count": 17,
      "outputs": []
    },
    {
      "cell_type": "code",
      "source": [
        "train_df['cleanText'] = train_df.Comments.apply(lambda x: preprocessing(str(x)))\n",
        "test_df['cleanText'] = test_df['text']\n",
        "test_df['cleanText'] = test_df.cleanText.apply(lambda x: preprocessing(str(x)))\n",
        "\n",
        "test_with_label['text'] = test_with_label.text.apply(lambda x: preprocessing(str(x)))"
      ],
      "metadata": {
        "id": "dGEkuz8_6jOj",
        "execution": {
          "iopub.status.busy": "2023-12-06T09:22:48.609542Z",
          "iopub.execute_input": "2023-12-06T09:22:48.609933Z",
          "iopub.status.idle": "2023-12-06T09:22:49.084013Z",
          "shell.execute_reply.started": "2023-12-06T09:22:48.609900Z",
          "shell.execute_reply": "2023-12-06T09:22:49.083245Z"
        },
        "trusted": true
      },
      "execution_count": 18,
      "outputs": []
    },
    {
      "cell_type": "code",
      "source": [
        "train_corpus = train_df[\"cleanText\"].sum()\n",
        "# train_corpus"
      ],
      "metadata": {
        "id": "_Lzlzuzz7H5O",
        "execution": {
          "iopub.status.busy": "2023-12-06T09:22:49.085231Z",
          "iopub.execute_input": "2023-12-06T09:22:49.085598Z",
          "iopub.status.idle": "2023-12-06T09:22:49.140265Z",
          "shell.execute_reply.started": "2023-12-06T09:22:49.085565Z",
          "shell.execute_reply": "2023-12-06T09:22:49.139348Z"
        },
        "trusted": true
      },
      "execution_count": 19,
      "outputs": []
    },
    {
      "cell_type": "code",
      "source": [
        "train_df.tail(10)"
      ],
      "metadata": {
        "id": "HE-twu9S7mca",
        "outputId": "d101c235-22db-4367-85f1-3e4ab4172be7",
        "execution": {
          "iopub.status.busy": "2023-12-06T09:22:49.141492Z",
          "iopub.execute_input": "2023-12-06T09:22:49.141945Z",
          "iopub.status.idle": "2023-12-06T09:22:49.156089Z",
          "shell.execute_reply.started": "2023-12-06T09:22:49.141913Z",
          "shell.execute_reply": "2023-12-06T09:22:49.155303Z"
        },
        "trusted": true,
        "colab": {
          "base_uri": "https://localhost:8080/",
          "height": 0
        }
      },
      "execution_count": 20,
      "outputs": [
        {
          "output_type": "execute_result",
          "data": {
            "text/plain": [
              "           S.No                                           Comments Label  \\\n",
              "3990  HATE_4991  నువ్వు నీ ఓవర్ యాక్షన్ .... మూవీస్ లో ఛాన్స్ క...  hate   \n",
              "3991  HATE_4992              ఇక నేను నువ్వు ఇంటర్వ్యూ చేసినా చూడను  hate   \n",
              "3992  HATE_4993  ఒక సారి నీ మీద ఎన్ని కామెంట్లు  రాస్తున్నారో చ...  hate   \n",
              "3993  HATE_4994     తప్పు చేసిన తరువాత వచ్చి ఖమ్ గా నే కూర్చుంటారు  hate   \n",
              "3994  HATE_4995              చెప్పుతో కొట్టినట్టు సమాధానం ఇచ్చవుగా  hate   \n",
              "3995  HATE_4996  నిజాయితీపరుడంట....same బాస్ క్వాలిటీస్ చాలా ఉన...  hate   \n",
              "3996  HATE_4997  ఓహో ఈ నిజాయితీపరుడైన రవి ప్రకాష్ లో పవన్ లక్షణ...  hate   \n",
              "3997  HATE_4998  వీడీ పేరు రాంగోపాల్ వర్మ! వీడి చేతిలో పడ్డ అమ్...  hate   \n",
              "3998  HATE_4999  నువ్వు మాత్రం డబ్బులేస్తే ముష్టి వాడి పక్కన అయ...  hate   \n",
              "3999  HATE_5000       వచ్చిందండి... మా తుగ్లక్ గాడి మిడ్ నైట్ దెవత  hate   \n",
              "\n",
              "                                              cleanText  \n",
              "3990  నువ్వు నీ ఓవర్ యాక్షన్ .... మూవీస్ లో ఛాన్స్ క...  \n",
              "3991              ఇక నేను నువ్వు ఇంటర్వ్యూ చేసినా చూడను  \n",
              "3992  ఒక సారి నీ మీద ఎన్ని కామెంట్లు రాస్తున్నారో చూ...  \n",
              "3993     తప్పు చేసిన తరువాత వచ్చి ఖమ్ గా నే కూర్చుంటారు  \n",
              "3994              చెప్పుతో కొట్టినట్టు సమాధానం ఇచ్చవుగా  \n",
              "3995  నిజాయితీపరుడంట....same బాస్ క్వాలిటీస్ చాలా ఉన...  \n",
              "3996  ఓహో ఈ నిజాయితీపరుడైన రవి ప్రకాష్ లో పవన్ లక్షణ...  \n",
              "3997  వీడీ పేరు రాంగోపాల్ వర్మ! వీడి చేతిలో పడ్డ అమ్...  \n",
              "3998  నువ్వు మాత్రం డబ్బులేస్తే ముష్టి వాడి పక్కన అయ...  \n",
              "3999       వచ్చిందండి... మా తుగ్లక్ గాడి మిడ్ నైట్ దెవత  "
            ],
            "text/html": [
              "\n",
              "  <div id=\"df-c8cad42b-8769-4b58-b26e-3a253ab7d468\" class=\"colab-df-container\">\n",
              "    <div>\n",
              "<style scoped>\n",
              "    .dataframe tbody tr th:only-of-type {\n",
              "        vertical-align: middle;\n",
              "    }\n",
              "\n",
              "    .dataframe tbody tr th {\n",
              "        vertical-align: top;\n",
              "    }\n",
              "\n",
              "    .dataframe thead th {\n",
              "        text-align: right;\n",
              "    }\n",
              "</style>\n",
              "<table border=\"1\" class=\"dataframe\">\n",
              "  <thead>\n",
              "    <tr style=\"text-align: right;\">\n",
              "      <th></th>\n",
              "      <th>S.No</th>\n",
              "      <th>Comments</th>\n",
              "      <th>Label</th>\n",
              "      <th>cleanText</th>\n",
              "    </tr>\n",
              "  </thead>\n",
              "  <tbody>\n",
              "    <tr>\n",
              "      <th>3990</th>\n",
              "      <td>HATE_4991</td>\n",
              "      <td>నువ్వు నీ ఓవర్ యాక్షన్ .... మూవీస్ లో ఛాన్స్ క...</td>\n",
              "      <td>hate</td>\n",
              "      <td>నువ్వు నీ ఓవర్ యాక్షన్ .... మూవీస్ లో ఛాన్స్ క...</td>\n",
              "    </tr>\n",
              "    <tr>\n",
              "      <th>3991</th>\n",
              "      <td>HATE_4992</td>\n",
              "      <td>ఇక నేను నువ్వు ఇంటర్వ్యూ చేసినా చూడను</td>\n",
              "      <td>hate</td>\n",
              "      <td>ఇక నేను నువ్వు ఇంటర్వ్యూ చేసినా చూడను</td>\n",
              "    </tr>\n",
              "    <tr>\n",
              "      <th>3992</th>\n",
              "      <td>HATE_4993</td>\n",
              "      <td>ఒక సారి నీ మీద ఎన్ని కామెంట్లు  రాస్తున్నారో చ...</td>\n",
              "      <td>hate</td>\n",
              "      <td>ఒక సారి నీ మీద ఎన్ని కామెంట్లు రాస్తున్నారో చూ...</td>\n",
              "    </tr>\n",
              "    <tr>\n",
              "      <th>3993</th>\n",
              "      <td>HATE_4994</td>\n",
              "      <td>తప్పు చేసిన తరువాత వచ్చి ఖమ్ గా నే కూర్చుంటారు</td>\n",
              "      <td>hate</td>\n",
              "      <td>తప్పు చేసిన తరువాత వచ్చి ఖమ్ గా నే కూర్చుంటారు</td>\n",
              "    </tr>\n",
              "    <tr>\n",
              "      <th>3994</th>\n",
              "      <td>HATE_4995</td>\n",
              "      <td>చెప్పుతో కొట్టినట్టు సమాధానం ఇచ్చవుగా</td>\n",
              "      <td>hate</td>\n",
              "      <td>చెప్పుతో కొట్టినట్టు సమాధానం ఇచ్చవుగా</td>\n",
              "    </tr>\n",
              "    <tr>\n",
              "      <th>3995</th>\n",
              "      <td>HATE_4996</td>\n",
              "      <td>నిజాయితీపరుడంట....same బాస్ క్వాలిటీస్ చాలా ఉన...</td>\n",
              "      <td>hate</td>\n",
              "      <td>నిజాయితీపరుడంట....same బాస్ క్వాలిటీస్ చాలా ఉన...</td>\n",
              "    </tr>\n",
              "    <tr>\n",
              "      <th>3996</th>\n",
              "      <td>HATE_4997</td>\n",
              "      <td>ఓహో ఈ నిజాయితీపరుడైన రవి ప్రకాష్ లో పవన్ లక్షణ...</td>\n",
              "      <td>hate</td>\n",
              "      <td>ఓహో ఈ నిజాయితీపరుడైన రవి ప్రకాష్ లో పవన్ లక్షణ...</td>\n",
              "    </tr>\n",
              "    <tr>\n",
              "      <th>3997</th>\n",
              "      <td>HATE_4998</td>\n",
              "      <td>వీడీ పేరు రాంగోపాల్ వర్మ! వీడి చేతిలో పడ్డ అమ్...</td>\n",
              "      <td>hate</td>\n",
              "      <td>వీడీ పేరు రాంగోపాల్ వర్మ! వీడి చేతిలో పడ్డ అమ్...</td>\n",
              "    </tr>\n",
              "    <tr>\n",
              "      <th>3998</th>\n",
              "      <td>HATE_4999</td>\n",
              "      <td>నువ్వు మాత్రం డబ్బులేస్తే ముష్టి వాడి పక్కన అయ...</td>\n",
              "      <td>hate</td>\n",
              "      <td>నువ్వు మాత్రం డబ్బులేస్తే ముష్టి వాడి పక్కన అయ...</td>\n",
              "    </tr>\n",
              "    <tr>\n",
              "      <th>3999</th>\n",
              "      <td>HATE_5000</td>\n",
              "      <td>వచ్చిందండి... మా తుగ్లక్ గాడి మిడ్ నైట్ దెవత</td>\n",
              "      <td>hate</td>\n",
              "      <td>వచ్చిందండి... మా తుగ్లక్ గాడి మిడ్ నైట్ దెవత</td>\n",
              "    </tr>\n",
              "  </tbody>\n",
              "</table>\n",
              "</div>\n",
              "    <div class=\"colab-df-buttons\">\n",
              "\n",
              "  <div class=\"colab-df-container\">\n",
              "    <button class=\"colab-df-convert\" onclick=\"convertToInteractive('df-c8cad42b-8769-4b58-b26e-3a253ab7d468')\"\n",
              "            title=\"Convert this dataframe to an interactive table.\"\n",
              "            style=\"display:none;\">\n",
              "\n",
              "  <svg xmlns=\"http://www.w3.org/2000/svg\" height=\"24px\" viewBox=\"0 -960 960 960\">\n",
              "    <path d=\"M120-120v-720h720v720H120Zm60-500h600v-160H180v160Zm220 220h160v-160H400v160Zm0 220h160v-160H400v160ZM180-400h160v-160H180v160Zm440 0h160v-160H620v160ZM180-180h160v-160H180v160Zm440 0h160v-160H620v160Z\"/>\n",
              "  </svg>\n",
              "    </button>\n",
              "\n",
              "  <style>\n",
              "    .colab-df-container {\n",
              "      display:flex;\n",
              "      gap: 12px;\n",
              "    }\n",
              "\n",
              "    .colab-df-convert {\n",
              "      background-color: #E8F0FE;\n",
              "      border: none;\n",
              "      border-radius: 50%;\n",
              "      cursor: pointer;\n",
              "      display: none;\n",
              "      fill: #1967D2;\n",
              "      height: 32px;\n",
              "      padding: 0 0 0 0;\n",
              "      width: 32px;\n",
              "    }\n",
              "\n",
              "    .colab-df-convert:hover {\n",
              "      background-color: #E2EBFA;\n",
              "      box-shadow: 0px 1px 2px rgba(60, 64, 67, 0.3), 0px 1px 3px 1px rgba(60, 64, 67, 0.15);\n",
              "      fill: #174EA6;\n",
              "    }\n",
              "\n",
              "    .colab-df-buttons div {\n",
              "      margin-bottom: 4px;\n",
              "    }\n",
              "\n",
              "    [theme=dark] .colab-df-convert {\n",
              "      background-color: #3B4455;\n",
              "      fill: #D2E3FC;\n",
              "    }\n",
              "\n",
              "    [theme=dark] .colab-df-convert:hover {\n",
              "      background-color: #434B5C;\n",
              "      box-shadow: 0px 1px 3px 1px rgba(0, 0, 0, 0.15);\n",
              "      filter: drop-shadow(0px 1px 2px rgba(0, 0, 0, 0.3));\n",
              "      fill: #FFFFFF;\n",
              "    }\n",
              "  </style>\n",
              "\n",
              "    <script>\n",
              "      const buttonEl =\n",
              "        document.querySelector('#df-c8cad42b-8769-4b58-b26e-3a253ab7d468 button.colab-df-convert');\n",
              "      buttonEl.style.display =\n",
              "        google.colab.kernel.accessAllowed ? 'block' : 'none';\n",
              "\n",
              "      async function convertToInteractive(key) {\n",
              "        const element = document.querySelector('#df-c8cad42b-8769-4b58-b26e-3a253ab7d468');\n",
              "        const dataTable =\n",
              "          await google.colab.kernel.invokeFunction('convertToInteractive',\n",
              "                                                    [key], {});\n",
              "        if (!dataTable) return;\n",
              "\n",
              "        const docLinkHtml = 'Like what you see? Visit the ' +\n",
              "          '<a target=\"_blank\" href=https://colab.research.google.com/notebooks/data_table.ipynb>data table notebook</a>'\n",
              "          + ' to learn more about interactive tables.';\n",
              "        element.innerHTML = '';\n",
              "        dataTable['output_type'] = 'display_data';\n",
              "        await google.colab.output.renderOutput(dataTable, element);\n",
              "        const docLink = document.createElement('div');\n",
              "        docLink.innerHTML = docLinkHtml;\n",
              "        element.appendChild(docLink);\n",
              "      }\n",
              "    </script>\n",
              "  </div>\n",
              "\n",
              "\n",
              "<div id=\"df-ff39232f-a2c0-46ca-86eb-73fa5664a670\">\n",
              "  <button class=\"colab-df-quickchart\" onclick=\"quickchart('df-ff39232f-a2c0-46ca-86eb-73fa5664a670')\"\n",
              "            title=\"Suggest charts\"\n",
              "            style=\"display:none;\">\n",
              "\n",
              "<svg xmlns=\"http://www.w3.org/2000/svg\" height=\"24px\"viewBox=\"0 0 24 24\"\n",
              "     width=\"24px\">\n",
              "    <g>\n",
              "        <path d=\"M19 3H5c-1.1 0-2 .9-2 2v14c0 1.1.9 2 2 2h14c1.1 0 2-.9 2-2V5c0-1.1-.9-2-2-2zM9 17H7v-7h2v7zm4 0h-2V7h2v10zm4 0h-2v-4h2v4z\"/>\n",
              "    </g>\n",
              "</svg>\n",
              "  </button>\n",
              "\n",
              "<style>\n",
              "  .colab-df-quickchart {\n",
              "      --bg-color: #E8F0FE;\n",
              "      --fill-color: #1967D2;\n",
              "      --hover-bg-color: #E2EBFA;\n",
              "      --hover-fill-color: #174EA6;\n",
              "      --disabled-fill-color: #AAA;\n",
              "      --disabled-bg-color: #DDD;\n",
              "  }\n",
              "\n",
              "  [theme=dark] .colab-df-quickchart {\n",
              "      --bg-color: #3B4455;\n",
              "      --fill-color: #D2E3FC;\n",
              "      --hover-bg-color: #434B5C;\n",
              "      --hover-fill-color: #FFFFFF;\n",
              "      --disabled-bg-color: #3B4455;\n",
              "      --disabled-fill-color: #666;\n",
              "  }\n",
              "\n",
              "  .colab-df-quickchart {\n",
              "    background-color: var(--bg-color);\n",
              "    border: none;\n",
              "    border-radius: 50%;\n",
              "    cursor: pointer;\n",
              "    display: none;\n",
              "    fill: var(--fill-color);\n",
              "    height: 32px;\n",
              "    padding: 0;\n",
              "    width: 32px;\n",
              "  }\n",
              "\n",
              "  .colab-df-quickchart:hover {\n",
              "    background-color: var(--hover-bg-color);\n",
              "    box-shadow: 0 1px 2px rgba(60, 64, 67, 0.3), 0 1px 3px 1px rgba(60, 64, 67, 0.15);\n",
              "    fill: var(--button-hover-fill-color);\n",
              "  }\n",
              "\n",
              "  .colab-df-quickchart-complete:disabled,\n",
              "  .colab-df-quickchart-complete:disabled:hover {\n",
              "    background-color: var(--disabled-bg-color);\n",
              "    fill: var(--disabled-fill-color);\n",
              "    box-shadow: none;\n",
              "  }\n",
              "\n",
              "  .colab-df-spinner {\n",
              "    border: 2px solid var(--fill-color);\n",
              "    border-color: transparent;\n",
              "    border-bottom-color: var(--fill-color);\n",
              "    animation:\n",
              "      spin 1s steps(1) infinite;\n",
              "  }\n",
              "\n",
              "  @keyframes spin {\n",
              "    0% {\n",
              "      border-color: transparent;\n",
              "      border-bottom-color: var(--fill-color);\n",
              "      border-left-color: var(--fill-color);\n",
              "    }\n",
              "    20% {\n",
              "      border-color: transparent;\n",
              "      border-left-color: var(--fill-color);\n",
              "      border-top-color: var(--fill-color);\n",
              "    }\n",
              "    30% {\n",
              "      border-color: transparent;\n",
              "      border-left-color: var(--fill-color);\n",
              "      border-top-color: var(--fill-color);\n",
              "      border-right-color: var(--fill-color);\n",
              "    }\n",
              "    40% {\n",
              "      border-color: transparent;\n",
              "      border-right-color: var(--fill-color);\n",
              "      border-top-color: var(--fill-color);\n",
              "    }\n",
              "    60% {\n",
              "      border-color: transparent;\n",
              "      border-right-color: var(--fill-color);\n",
              "    }\n",
              "    80% {\n",
              "      border-color: transparent;\n",
              "      border-right-color: var(--fill-color);\n",
              "      border-bottom-color: var(--fill-color);\n",
              "    }\n",
              "    90% {\n",
              "      border-color: transparent;\n",
              "      border-bottom-color: var(--fill-color);\n",
              "    }\n",
              "  }\n",
              "</style>\n",
              "\n",
              "  <script>\n",
              "    async function quickchart(key) {\n",
              "      const quickchartButtonEl =\n",
              "        document.querySelector('#' + key + ' button');\n",
              "      quickchartButtonEl.disabled = true;  // To prevent multiple clicks.\n",
              "      quickchartButtonEl.classList.add('colab-df-spinner');\n",
              "      try {\n",
              "        const charts = await google.colab.kernel.invokeFunction(\n",
              "            'suggestCharts', [key], {});\n",
              "      } catch (error) {\n",
              "        console.error('Error during call to suggestCharts:', error);\n",
              "      }\n",
              "      quickchartButtonEl.classList.remove('colab-df-spinner');\n",
              "      quickchartButtonEl.classList.add('colab-df-quickchart-complete');\n",
              "    }\n",
              "    (() => {\n",
              "      let quickchartButtonEl =\n",
              "        document.querySelector('#df-ff39232f-a2c0-46ca-86eb-73fa5664a670 button');\n",
              "      quickchartButtonEl.style.display =\n",
              "        google.colab.kernel.accessAllowed ? 'block' : 'none';\n",
              "    })();\n",
              "  </script>\n",
              "</div>\n",
              "    </div>\n",
              "  </div>\n"
            ]
          },
          "metadata": {},
          "execution_count": 20
        }
      ]
    },
    {
      "cell_type": "code",
      "source": [
        "train_df.Label.value_counts()"
      ],
      "metadata": {
        "id": "ebfoV9BD8LZ9",
        "outputId": "8b81b462-6d34-4d3d-a949-951ba2e48ce9",
        "execution": {
          "iopub.status.busy": "2023-12-06T09:22:49.157143Z",
          "iopub.execute_input": "2023-12-06T09:22:49.157393Z",
          "iopub.status.idle": "2023-12-06T09:22:49.173693Z",
          "shell.execute_reply.started": "2023-12-06T09:22:49.157370Z",
          "shell.execute_reply": "2023-12-06T09:22:49.172836Z"
        },
        "trusted": true,
        "colab": {
          "base_uri": "https://localhost:8080/"
        }
      },
      "execution_count": 21,
      "outputs": [
        {
          "output_type": "execute_result",
          "data": {
            "text/plain": [
              "non-hate    2061\n",
              "hate        1939\n",
              "Name: Label, dtype: int64"
            ]
          },
          "metadata": {},
          "execution_count": 21
        }
      ]
    },
    {
      "cell_type": "code",
      "source": [
        "train_df['enc_label'] = train_df['Label'].replace({'hate':1, 'non-hate':0})\n",
        "test_with_label['enc_label'] = test_with_label['label'].replace({'hate':1, 'non-hate':0})"
      ],
      "metadata": {
        "id": "e1dAzvPe8P4n",
        "execution": {
          "iopub.status.busy": "2023-12-06T09:22:49.174802Z",
          "iopub.execute_input": "2023-12-06T09:22:49.175053Z",
          "iopub.status.idle": "2023-12-06T09:22:49.190109Z",
          "shell.execute_reply.started": "2023-12-06T09:22:49.175030Z",
          "shell.execute_reply": "2023-12-06T09:22:49.189255Z"
        },
        "trusted": true
      },
      "execution_count": 22,
      "outputs": []
    },
    {
      "cell_type": "code",
      "source": [
        "train_df.enc_label.value_counts()"
      ],
      "metadata": {
        "id": "VwqmFsHt8jIl",
        "outputId": "837617d1-10ed-4606-94b7-812ebe9c8794",
        "execution": {
          "iopub.status.busy": "2023-12-06T09:22:49.191161Z",
          "iopub.execute_input": "2023-12-06T09:22:49.191418Z",
          "iopub.status.idle": "2023-12-06T09:22:49.203349Z",
          "shell.execute_reply.started": "2023-12-06T09:22:49.191396Z",
          "shell.execute_reply": "2023-12-06T09:22:49.202521Z"
        },
        "trusted": true,
        "colab": {
          "base_uri": "https://localhost:8080/"
        }
      },
      "execution_count": 23,
      "outputs": [
        {
          "output_type": "execute_result",
          "data": {
            "text/plain": [
              "0    2061\n",
              "1    1939\n",
              "Name: enc_label, dtype: int64"
            ]
          },
          "metadata": {},
          "execution_count": 23
        }
      ]
    },
    {
      "cell_type": "markdown",
      "source": [
        "# Data Set Visualization"
      ],
      "metadata": {
        "id": "H1WjlCul53-f"
      }
    },
    {
      "cell_type": "code",
      "source": [
        "fig, axes = plt.subplots(1, 2, figsize=(15, 5), sharey=True)\n",
        "\n",
        "train_lengths = train_df[\"Comments\"].str.len()\n",
        "sns.histplot(ax=axes[0], data=train_lengths, bins=10).set(xlabel=\"Length of training text samples\")\n",
        "axes[0].axvline(train_lengths.mean(), c=\"k\", ls=\"--\", lw=2.5, label=\"Mean\")\n",
        "axes[0].legend()\n",
        "\n",
        "#dev_lengths = dev_df[\"text\"].str.len()\n",
        "#sns.histplot(ax=axes[1], data=dev_lengths, bins=10).set(xlabel=\"Length of dev text samples\")\n",
        "#axes[1].axvline(dev_lengths.mean(), c=\"k\", ls=\"--\", lw=2.5, label=\"Mean\")\n",
        "#axes[1].legend()\n",
        "\n",
        "test_lengths = test_df[\"text\"].str.len()\n",
        "sns.histplot(ax=axes[1], data=test_lengths, bins=10).set(xlabel=\"Length of test text samples\")\n",
        "axes[1].axvline(test_lengths.mean(), c=\"k\", ls=\"--\", lw=2.5, label=\"Mean\")\n",
        "axes[1].legend()\n",
        "\n",
        "\n",
        "plt.show()"
      ],
      "metadata": {
        "execution": {
          "iopub.status.busy": "2023-12-06T09:22:49.204435Z",
          "iopub.execute_input": "2023-12-06T09:22:49.204765Z",
          "iopub.status.idle": "2023-12-06T09:22:49.760748Z",
          "shell.execute_reply.started": "2023-12-06T09:22:49.204732Z",
          "shell.execute_reply": "2023-12-06T09:22:49.759887Z"
        },
        "trusted": true,
        "colab": {
          "base_uri": "https://localhost:8080/",
          "height": 0
        },
        "id": "wfTnUG8Q53-f",
        "outputId": "4cba9f0f-6fe2-46fe-cb89-af21ec136bd2"
      },
      "execution_count": 24,
      "outputs": [
        {
          "output_type": "display_data",
          "data": {
            "text/plain": [
              "<Figure size 1500x500 with 2 Axes>"
            ],
            "image/png": "[encoded data removed]"
          },
          "metadata": {}
        }
      ]
    },
    {
      "cell_type": "code",
      "source": [
        "print(train_lengths.mean());\n",
        "print(test_lengths.mean());"
      ],
      "metadata": {
        "execution": {
          "iopub.status.busy": "2023-12-06T09:22:49.761794Z",
          "iopub.execute_input": "2023-12-06T09:22:49.762049Z",
          "iopub.status.idle": "2023-12-06T09:22:49.767300Z",
          "shell.execute_reply.started": "2023-12-06T09:22:49.762025Z",
          "shell.execute_reply": "2023-12-06T09:22:49.766437Z"
        },
        "trusted": true,
        "colab": {
          "base_uri": "https://localhost:8080/"
        },
        "id": "mc8Y7Mge53-g",
        "outputId": "9132cbac-042a-4716-ba3e-0bff46ff9794"
      },
      "execution_count": 25,
      "outputs": [
        {
          "output_type": "stream",
          "name": "stdout",
          "text": [
            "66.8495\n",
            "47.08617234468938\n"
          ]
        }
      ]
    },
    {
      "cell_type": "code",
      "source": [
        "dataset = train_df.filter(['cleanText','Label'])\n",
        "def data_summary(dataset):\n",
        "\n",
        "    \"\"\"\n",
        "        Comments: Comments per class\n",
        "        words:  words per class\n",
        "        u_words: unique words per class\n",
        "    \"\"\"\n",
        "    Comments = []\n",
        "    words = []\n",
        "    u_words = []\n",
        "    total_u_words = [word.strip().lower() for t in list(dataset.cleanText) for word in t.strip().split()]\n",
        "    class_label= [k for k,v in dataset.Label.value_counts().to_dict().items()]\n",
        "  # find word list\n",
        "    for label in class_label:\n",
        "        word_list = [word.strip().lower() for t in list(dataset[dataset.Label==label].cleanText) for word in t.strip().split()]\n",
        "        counts = dict()\n",
        "        for word in word_list:\n",
        "                counts[word] = counts.get(word, 0)+1\n",
        "        # sort the dictionary of word list\n",
        "        ordered = sorted(counts.items(), key= lambda item: item[1],reverse = True)\n",
        "        # Documents per class\n",
        "        Comments.append(len(list(dataset[dataset.Label == label].cleanText)))\n",
        "        # Total Word per class\n",
        "        words.append(len(word_list))\n",
        "        # Unique words per class\n",
        "        u_words.append(len(np.unique(word_list)))\n",
        "\n",
        "        print(\"\\nClass Name : \",label)\n",
        "        print(\"Number of Comments:{}\".format(len(list(dataset[dataset.Label==label].cleanText))))\n",
        "        print(\"Number of Words:{}\".format(len(word_list)))\n",
        "        print(\"Number of Unique Words:{}\".format(len(np.unique(word_list))))\n",
        "        print(\"Most Frequent Words:\\n\")\n",
        "        for k,v in ordered[:10]:\n",
        "              print(\"{}\\t{}\".format(k,v))\n",
        "    print(\"Total Number of Unique Words:{}\".format(len(np.unique(total_u_words))))\n",
        "\n",
        "    return Comments,words,u_words,class_label\n",
        "\n",
        "#call the fucntion\n",
        "Comments,words,u_words,class_names = data_summary(dataset)"
      ],
      "metadata": {
        "execution": {
          "iopub.status.busy": "2023-12-06T09:22:49.768729Z",
          "iopub.execute_input": "2023-12-06T09:22:49.769025Z",
          "iopub.status.idle": "2023-12-06T09:22:49.963736Z",
          "shell.execute_reply.started": "2023-12-06T09:22:49.769000Z",
          "shell.execute_reply": "2023-12-06T09:22:49.962780Z"
        },
        "trusted": true,
        "colab": {
          "base_uri": "https://localhost:8080/"
        },
        "id": "nwMbvmB953-g",
        "outputId": "4077a382-92df-4e3d-f982-fd4d91daa699"
      },
      "execution_count": 26,
      "outputs": [
        {
          "output_type": "stream",
          "name": "stdout",
          "text": [
            "\n",
            "Class Name :  non-hate\n",
            "Number of Comments:2061\n",
            "Number of Words:21565\n",
            "Number of Unique Words:9652\n",
            "Most Frequent Words:\n",
            "\n",
            "చాలా\t149\n",
            "lo\t131\n",
            "anna\t121\n",
            "ఈ\t118\n",
            "సూపర్\t105\n",
            "ki\t104\n",
            "గారు\t104\n",
            "అన్న\t93\n",
            "sir\t92\n",
            "ga\t89\n",
            "\n",
            "Class Name :  hate\n",
            "Number of Comments:1939\n",
            "Number of Words:18251\n",
            "Number of Unique Words:9178\n",
            "Most Frequent Words:\n",
            "\n",
            "ra\t142\n",
            "ki\t127\n",
            "ni\t126\n",
            "lo\t120\n",
            "ga\t79\n",
            "oka\t76\n",
            "na\t58\n",
            "kuda\t51\n",
            "nuvvu\t50\n",
            "నువ్వు\t50\n",
            "Total Number of Unique Words:16421\n"
          ]
        }
      ]
    },
    {
      "cell_type": "code",
      "source": [
        "data_matrix = pd.DataFrame({'Total Text':Comments,\n",
        "                            'Total Words':words,\n",
        "                            'Unique Words':u_words,\n",
        "                            'Class Names':class_names})\n",
        "df = pd.melt(data_matrix, id_vars=\"Class Names\", var_name=\"Category\", value_name=\"Values\")\n",
        "plt.figure(figsize=(8, 6))\n",
        "ax = plt.subplot()\n",
        "\n",
        "sns.barplot(data=df,x='Class Names', y='Values' ,hue='Category')\n",
        "ax.set_xlabel('Class Names')\n",
        "ax.set_title('Data Statistics')\n",
        "\n",
        "ax.xaxis.set_ticklabels(class_names, rotation=45);"
      ],
      "metadata": {
        "execution": {
          "iopub.status.busy": "2023-12-06T09:22:49.965042Z",
          "iopub.execute_input": "2023-12-06T09:22:49.965420Z",
          "iopub.status.idle": "2023-12-06T09:22:50.339816Z",
          "shell.execute_reply.started": "2023-12-06T09:22:49.965387Z",
          "shell.execute_reply": "2023-12-06T09:22:50.338786Z"
        },
        "trusted": true,
        "colab": {
          "base_uri": "https://localhost:8080/",
          "height": 0
        },
        "id": "pVxlGUhp53-g",
        "outputId": "636221c2-7ffc-4914-878a-603d917ce923"
      },
      "execution_count": 27,
      "outputs": [
        {
          "output_type": "display_data",
          "data": {
            "text/plain": [
              "<Figure size 800x600 with 1 Axes>"
            ],
            "image/png": "[encoded data removed]"
          },
          "metadata": {}
        }
      ]
    },
    {
      "cell_type": "code",
      "source": [
        "train_df['Comment_length'] = train_df.cleanText.apply(lambda x:len(x.split()))\n",
        "frequency = dict()\n",
        "for i in train_df.Comment_length:\n",
        "    frequency[i] = frequency.get(i, 0)+1\n",
        "\n",
        "plt.bar(frequency.keys(), frequency.values(), color =\"b\")\n",
        "plt.xlim(1, 50)\n",
        "# in this notbook color is not working but it should work.\n",
        "plt.xlabel('Length of the Text')\n",
        "plt.ylabel('Frequency')\n",
        "plt.title('Length-Frequency Distribution')\n",
        "plt.show()\n",
        "print(f\"Maximum Length of a Comment: {max(train_df.Comment_length)}\")\n",
        "print(f\"Minimum Length of a Comment: {min(train_df.Comment_length)}\")\n",
        "print(f\"Average Length of a Comment: {round(np.mean(train_df.Comment_length),0)}\")"
      ],
      "metadata": {
        "execution": {
          "iopub.status.busy": "2023-12-06T09:22:50.341161Z",
          "iopub.execute_input": "2023-12-06T09:22:50.341542Z",
          "iopub.status.idle": "2023-12-06T09:22:50.688005Z",
          "shell.execute_reply.started": "2023-12-06T09:22:50.341516Z",
          "shell.execute_reply": "2023-12-06T09:22:50.687054Z"
        },
        "trusted": true,
        "colab": {
          "base_uri": "https://localhost:8080/",
          "height": 0
        },
        "id": "0a9u3m2j53-h",
        "outputId": "38713240-14fa-45a6-d17d-6c34c7fb4e7e"
      },
      "execution_count": 28,
      "outputs": [
        {
          "output_type": "display_data",
          "data": {
            "text/plain": [
              "<Figure size 640x480 with 1 Axes>"
            ],
            "image/png": "[encoded data removed]"
          },
          "metadata": {}
        },
        {
          "output_type": "stream",
          "name": "stdout",
          "text": [
            "Maximum Length of a Comment: 71\n",
            "Minimum Length of a Comment: 0\n",
            "Average Length of a Comment: 10.0\n"
          ]
        }
      ]
    },
    {
      "cell_type": "code",
      "source": [
        "train_df.loc[train_df['Comment_length'] > 40].shape"
      ],
      "metadata": {
        "execution": {
          "iopub.status.busy": "2023-12-06T09:22:50.689188Z",
          "iopub.execute_input": "2023-12-06T09:22:50.689532Z",
          "iopub.status.idle": "2023-12-06T09:22:50.696916Z",
          "shell.execute_reply.started": "2023-12-06T09:22:50.689499Z",
          "shell.execute_reply": "2023-12-06T09:22:50.695878Z"
        },
        "trusted": true,
        "colab": {
          "base_uri": "https://localhost:8080/"
        },
        "id": "HnYvqqdn53-i",
        "outputId": "7d1c0c6c-852d-4f0e-bcb7-4be6bf1391e6"
      },
      "execution_count": 29,
      "outputs": [
        {
          "output_type": "execute_result",
          "data": {
            "text/plain": [
              "(22, 6)"
            ]
          },
          "metadata": {},
          "execution_count": 29
        }
      ]
    },
    {
      "cell_type": "code",
      "source": [
        "test_df['Comment_length'] = test_df.cleanText.apply(lambda x:len(x.split()))\n",
        "frequency = dict()\n",
        "for i in test_df.Comment_length:\n",
        "    frequency[i] = frequency.get(i, 0)+1\n",
        "\n",
        "plt.bar(frequency.keys(), frequency.values(), color =\"b\")\n",
        "plt.xlim(1, 50)\n",
        "# in this notbook color is not working but it should work.\n",
        "plt.xlabel('Length of the Comment')\n",
        "plt.ylabel('Frequency')\n",
        "plt.title('Length-Frequency Distribution')\n",
        "plt.show()\n",
        "print(f\"Maximum Length of a Comment: {max(test_df.Comment_length)}\")\n",
        "print(f\"Minimum Length of a Comment: {min(test_df.Comment_length)}\")\n",
        "print(f\"Average Length of a Comment: {round(np.mean(test_df.Comment_length),0)}\")"
      ],
      "metadata": {
        "execution": {
          "iopub.status.busy": "2023-12-06T09:22:50.698404Z",
          "iopub.execute_input": "2023-12-06T09:22:50.699107Z",
          "iopub.status.idle": "2023-12-06T09:22:50.992250Z",
          "shell.execute_reply.started": "2023-12-06T09:22:50.699053Z",
          "shell.execute_reply": "2023-12-06T09:22:50.991334Z"
        },
        "trusted": true,
        "colab": {
          "base_uri": "https://localhost:8080/",
          "height": 0
        },
        "id": "DVoR08rm53-i",
        "outputId": "d6f9becb-bdf4-49d8-f232-9e1d10317a31"
      },
      "execution_count": 30,
      "outputs": [
        {
          "output_type": "display_data",
          "data": {
            "text/plain": [
              "<Figure size 640x480 with 1 Axes>"
            ],
            "image/png": "[encoded data removed]"
          },
          "metadata": {}
        },
        {
          "output_type": "stream",
          "name": "stdout",
          "text": [
            "Maximum Length of a Comment: 18\n",
            "Minimum Length of a Comment: 0\n",
            "Average Length of a Comment: 7.0\n"
          ]
        }
      ]
    },
    {
      "cell_type": "markdown",
      "source": [
        "# Splitting Dataset for Validation"
      ],
      "metadata": {
        "id": "glhzaDgnxnKm"
      }
    },
    {
      "cell_type": "code",
      "source": [
        "from sklearn.model_selection import train_test_split\n",
        "Xx_train, Xx_valid, yy_train, yy_valid = train_test_split(train_df['cleanText'], train_df['enc_label'], test_size=0.15, random_state=42, stratify = train_df['enc_label'])"
      ],
      "metadata": {
        "id": "Xsl0FYYwxqBX"
      },
      "execution_count": 31,
      "outputs": []
    },
    {
      "cell_type": "code",
      "source": [
        "X_train = Xx_train.tolist()\n",
        "y_train = yy_train.tolist()\n",
        "\n",
        "X_valid = Xx_valid.tolist()\n",
        "y_valid = yy_valid.tolist()\n",
        "\n",
        "X_test = test_with_label['text'].tolist()\n",
        "y_data_with_label = test_with_label['enc_label'].tolist()"
      ],
      "metadata": {
        "id": "LqbTPRK1xtoY"
      },
      "execution_count": 32,
      "outputs": []
    },
    {
      "cell_type": "markdown",
      "source": [
        "# ML Models"
      ],
      "metadata": {
        "id": "f_6NB5_6wPbb"
      }
    },
    {
      "cell_type": "markdown",
      "source": [
        "## Random Forest"
      ],
      "metadata": {
        "id": "yqTGmilMByk5"
      }
    },
    {
      "cell_type": "code",
      "source": [
        "from sklearn.ensemble import RandomForestClassifier\n",
        "from sklearn.metrics import accuracy_score, classification_report\n",
        "\n",
        "\n",
        "#TF-IDF\n",
        "tfidf = TfidfVectorizer()\n",
        "X_train_tfidf = tfidf.fit_transform(X_train)\n",
        "X_val_tfidf = tfidf.transform(X_valid)\n",
        "X_test_tfidf = tfidf.transform(X_test)\n",
        "\n",
        "# Example: Training individual models\n",
        "model_rf = RandomForestClassifier(n_estimators=1000)  #use class_weight='balanced'\n",
        "model_rf.fit(X_train_tfidf, y_train)\n",
        "\n",
        "# Predict on the test set\n",
        "\n",
        "# Evaluation"
      ],
      "metadata": {
        "id": "bQxLoeHxBxm_",
        "execution": {
          "iopub.status.busy": "2023-12-06T03:46:14.807276Z",
          "iopub.execute_input": "2023-12-06T03:46:14.808215Z",
          "iopub.status.idle": "2023-12-06T03:46:53.170042Z",
          "shell.execute_reply.started": "2023-12-06T03:46:14.808177Z",
          "shell.execute_reply": "2023-12-06T03:46:53.168877Z"
        },
        "trusted": true
      },
      "execution_count": 41,
      "outputs": []
    },
    {
      "cell_type": "markdown",
      "source": [
        "## Confusion Matrix by train_test_split validation set (During Contest)"
      ],
      "metadata": {
        "id": "KsGLZcUK1blt"
      }
    },
    {
      "cell_type": "code",
      "source": [
        "y_pred = model_rf.predict(X_val_tfidf)\n",
        "\n",
        "accuracy = accuracy_score(y_valid, y_pred)\n",
        "report = classification_report(y_valid, y_pred)\n",
        "\n",
        "print(f\"Accuracy: {accuracy}\")\n",
        "print(\"Classification Report:\")\n",
        "print(report)             #estimator 1000--> 0.58      0.57      0.57"
      ],
      "metadata": {
        "colab": {
          "base_uri": "https://localhost:8080/"
        },
        "id": "JH8o5DIQHsfg",
        "outputId": "71969a91-12ed-4b3b-f114-a2c1f1867a89"
      },
      "execution_count": 45,
      "outputs": [
        {
          "output_type": "stream",
          "name": "stdout",
          "text": [
            "Accuracy: 0.7433333333333333\n",
            "Classification Report:\n",
            "              precision    recall  f1-score   support\n",
            "\n",
            "           0       0.71      0.83      0.77       309\n",
            "           1       0.79      0.65      0.71       291\n",
            "\n",
            "    accuracy                           0.74       600\n",
            "   macro avg       0.75      0.74      0.74       600\n",
            "weighted avg       0.75      0.74      0.74       600\n",
            "\n"
          ]
        }
      ]
    },
    {
      "cell_type": "markdown",
      "source": [
        "## Confusion Matrix after Labeled Test Data revealed (After Contest)"
      ],
      "metadata": {
        "id": "785oFqmY18My"
      }
    },
    {
      "cell_type": "code",
      "source": [
        "y_pred = model_rf.predict(X_test_tfidf)\n",
        "accuracy = accuracy_score(y_data_with_label, y_pred)\n",
        "report = classification_report(y_data_with_label, y_pred)\n",
        "\n",
        "print(f\"Accuracy: {accuracy}\")\n",
        "print(\"Classification Report:\")\n",
        "print(report)             #estimator 1000--> 0.58      0.57      0.57"
      ],
      "metadata": {
        "colab": {
          "base_uri": "https://localhost:8080/"
        },
        "id": "zSup3M0b2H7T",
        "outputId": "350f1a53-1e48-4490-d228-8653bd610e2e"
      },
      "execution_count": 46,
      "outputs": [
        {
          "output_type": "stream",
          "name": "stdout",
          "text": [
            "Accuracy: 0.5731462925851704\n",
            "Classification Report:\n",
            "              precision    recall  f1-score   support\n",
            "\n",
            "           0       0.56      0.70      0.62       249\n",
            "           1       0.60      0.44      0.51       250\n",
            "\n",
            "    accuracy                           0.57       499\n",
            "   macro avg       0.58      0.57      0.57       499\n",
            "weighted avg       0.58      0.57      0.57       499\n",
            "\n"
          ]
        }
      ]
    },
    {
      "cell_type": "markdown",
      "source": [
        "## LR"
      ],
      "metadata": {
        "id": "NPOel-Y-2rFn"
      }
    },
    {
      "cell_type": "code",
      "source": [
        "from sklearn.linear_model import LogisticRegression\n",
        "\n",
        "# Logistic Regression\n",
        "model_lr = LogisticRegression(solver='liblinear', C=1)\n",
        "model_lr.fit(X_train_tfidf, y_train)"
      ],
      "metadata": {
        "colab": {
          "base_uri": "https://localhost:8080/",
          "height": 75
        },
        "id": "Ih8U_AOLzuYK",
        "outputId": "d268b1ff-3a82-4d06-8695-84fa3b7b86c0"
      },
      "execution_count": 47,
      "outputs": [
        {
          "output_type": "execute_result",
          "data": {
            "text/plain": [
              "LogisticRegression(C=1, solver='liblinear')"
            ],
            "text/html": [
              "<style>#sk-container-id-3 {color: black;background-color: white;}#sk-container-id-3 pre{padding: 0;}#sk-container-id-3 div.sk-toggleable {background-color: white;}#sk-container-id-3 label.sk-toggleable__label {cursor: pointer;display: block;width: 100%;margin-bottom: 0;padding: 0.3em;box-sizing: border-box;text-align: center;}#sk-container-id-3 label.sk-toggleable__label-arrow:before {content: \"▸\";float: left;margin-right: 0.25em;color: #696969;}#sk-container-id-3 label.sk-toggleable__label-arrow:hover:before {color: black;}#sk-container-id-3 div.sk-estimator:hover label.sk-toggleable__label-arrow:before {color: black;}#sk-container-id-3 div.sk-toggleable__content {max-height: 0;max-width: 0;overflow: hidden;text-align: left;background-color: #f0f8ff;}#sk-container-id-3 div.sk-toggleable__content pre {margin: 0.2em;color: black;border-radius: 0.25em;background-color: #f0f8ff;}#sk-container-id-3 input.sk-toggleable__control:checked~div.sk-toggleable__content {max-height: 200px;max-width: 100%;overflow: auto;}#sk-container-id-3 input.sk-toggleable__control:checked~label.sk-toggleable__label-arrow:before {content: \"▾\";}#sk-container-id-3 div.sk-estimator input.sk-toggleable__control:checked~label.sk-toggleable__label {background-color: #d4ebff;}#sk-container-id-3 div.sk-label input.sk-toggleable__control:checked~label.sk-toggleable__label {background-color: #d4ebff;}#sk-container-id-3 input.sk-hidden--visually {border: 0;clip: rect(1px 1px 1px 1px);clip: rect(1px, 1px, 1px, 1px);height: 1px;margin: -1px;overflow: hidden;padding: 0;position: absolute;width: 1px;}#sk-container-id-3 div.sk-estimator {font-family: monospace;background-color: #f0f8ff;border: 1px dotted black;border-radius: 0.25em;box-sizing: border-box;margin-bottom: 0.5em;}#sk-container-id-3 div.sk-estimator:hover {background-color: #d4ebff;}#sk-container-id-3 div.sk-parallel-item::after {content: \"\";width: 100%;border-bottom: 1px solid gray;flex-grow: 1;}#sk-container-id-3 div.sk-label:hover label.sk-toggleable__label {background-color: #d4ebff;}#sk-container-id-3 div.sk-serial::before {content: \"\";position: absolute;border-left: 1px solid gray;box-sizing: border-box;top: 0;bottom: 0;left: 50%;z-index: 0;}#sk-container-id-3 div.sk-serial {display: flex;flex-direction: column;align-items: center;background-color: white;padding-right: 0.2em;padding-left: 0.2em;position: relative;}#sk-container-id-3 div.sk-item {position: relative;z-index: 1;}#sk-container-id-3 div.sk-parallel {display: flex;align-items: stretch;justify-content: center;background-color: white;position: relative;}#sk-container-id-3 div.sk-item::before, #sk-container-id-3 div.sk-parallel-item::before {content: \"\";position: absolute;border-left: 1px solid gray;box-sizing: border-box;top: 0;bottom: 0;left: 50%;z-index: -1;}#sk-container-id-3 div.sk-parallel-item {display: flex;flex-direction: column;z-index: 1;position: relative;background-color: white;}#sk-container-id-3 div.sk-parallel-item:first-child::after {align-self: flex-end;width: 50%;}#sk-container-id-3 div.sk-parallel-item:last-child::after {align-self: flex-start;width: 50%;}#sk-container-id-3 div.sk-parallel-item:only-child::after {width: 0;}#sk-container-id-3 div.sk-dashed-wrapped {border: 1px dashed gray;margin: 0 0.4em 0.5em 0.4em;box-sizing: border-box;padding-bottom: 0.4em;background-color: white;}#sk-container-id-3 div.sk-label label {font-family: monospace;font-weight: bold;display: inline-block;line-height: 1.2em;}#sk-container-id-3 div.sk-label-container {text-align: center;}#sk-container-id-3 div.sk-container {/* jupyter's `normalize.less` sets `[hidden] { display: none; }` but bootstrap.min.css set `[hidden] { display: none !important; }` so we also need the `!important` here to be able to override the default hidden behavior on the sphinx rendered scikit-learn.org. See: https://github.com/scikit-learn/scikit-learn/issues/21755 */display: inline-block !important;position: relative;}#sk-container-id-3 div.sk-text-repr-fallback {display: none;}</style><div id=\"sk-container-id-3\" class=\"sk-top-container\"><div class=\"sk-text-repr-fallback\"><pre>LogisticRegression(C=1, solver=&#x27;liblinear&#x27;)</pre><b>In a Jupyter environment, please rerun this cell to show the HTML representation or trust the notebook. <br />On GitHub, the HTML representation is unable to render, please try loading this page with nbviewer.org.</b></div><div class=\"sk-container\" hidden><div class=\"sk-item\"><div class=\"sk-estimator sk-toggleable\"><input class=\"sk-toggleable__control sk-hidden--visually\" id=\"sk-estimator-id-7\" type=\"checkbox\" checked><label for=\"sk-estimator-id-7\" class=\"sk-toggleable__label sk-toggleable__label-arrow\">LogisticRegression</label><div class=\"sk-toggleable__content\"><pre>LogisticRegression(C=1, solver=&#x27;liblinear&#x27;)</pre></div></div></div></div></div>"
            ]
          },
          "metadata": {},
          "execution_count": 47
        }
      ]
    },
    {
      "cell_type": "markdown",
      "source": [
        "## Confusion Matrix by train_test_split validation set (During Contest)"
      ],
      "metadata": {
        "id": "AAGtPC8f2ya1"
      }
    },
    {
      "cell_type": "code",
      "source": [
        "# Predict on the test set\n",
        "y_pred_lr = model_lr.predict(X_val_tfidf)\n",
        "\n",
        "# Evaluation\n",
        "accuracy_lr = accuracy_score(y_valid, y_pred_lr)\n",
        "classification_report_lr = classification_report(y_valid, y_pred_lr)\n",
        "\n",
        "print(f'Logistic Regression Accuracy: {accuracy_lr}')\n",
        "print('Classification Report for Logistic Regression:\\n', classification_report_lr) # 0.63      0.63      0.63"
      ],
      "metadata": {
        "colab": {
          "base_uri": "https://localhost:8080/"
        },
        "id": "a0M7Q-w42z33",
        "outputId": "eddc6045-eeee-45c0-84c6-e92b1f13a96f"
      },
      "execution_count": 48,
      "outputs": [
        {
          "output_type": "stream",
          "name": "stdout",
          "text": [
            "Logistic Regression Accuracy: 0.7516666666666667\n",
            "Classification Report for Logistic Regression:\n",
            "               precision    recall  f1-score   support\n",
            "\n",
            "           0       0.76      0.75      0.76       309\n",
            "           1       0.74      0.75      0.75       291\n",
            "\n",
            "    accuracy                           0.75       600\n",
            "   macro avg       0.75      0.75      0.75       600\n",
            "weighted avg       0.75      0.75      0.75       600\n",
            "\n"
          ]
        }
      ]
    },
    {
      "cell_type": "markdown",
      "source": [
        "## Confusion Matrix After test dataset revealed (After Contest)"
      ],
      "metadata": {
        "id": "HaNKmX5a3BOI"
      }
    },
    {
      "cell_type": "code",
      "source": [
        "# Predict on the test set\n",
        "y_pred_lr = model_lr.predict(X_test_tfidf)\n",
        "\n",
        "# Evaluation\n",
        "accuracy_lr = accuracy_score(y_data_with_label, y_pred_lr)\n",
        "classification_report_lr = classification_report(y_data_with_label, y_pred_lr)\n",
        "\n",
        "print(f'Logistic Regression Accuracy: {accuracy_lr}')\n",
        "print('Classification Report for Logistic Regression:\\n', classification_report_lr) # 0.63      0.63      0.63"
      ],
      "metadata": {
        "colab": {
          "base_uri": "https://localhost:8080/"
        },
        "id": "O2ATLN3k25MI",
        "outputId": "60e54c4e-7649-411f-b5b1-dd3ac26a25d5"
      },
      "execution_count": 49,
      "outputs": [
        {
          "output_type": "stream",
          "name": "stdout",
          "text": [
            "Logistic Regression Accuracy: 0.6332665330661322\n",
            "Classification Report for Logistic Regression:\n",
            "               precision    recall  f1-score   support\n",
            "\n",
            "           0       0.63      0.63      0.63       249\n",
            "           1       0.63      0.64      0.64       250\n",
            "\n",
            "    accuracy                           0.63       499\n",
            "   macro avg       0.63      0.63      0.63       499\n",
            "weighted avg       0.63      0.63      0.63       499\n",
            "\n"
          ]
        }
      ]
    },
    {
      "cell_type": "markdown",
      "source": [
        "## SVM"
      ],
      "metadata": {
        "id": "n4B05o7r0dzf"
      }
    },
    {
      "cell_type": "code",
      "source": [
        "from sklearn.svm import SVC\n",
        "from sklearn.metrics import accuracy_score, classification_report\n",
        "\n",
        "# Support Vector Machine (SVM)\n",
        "model_svm = SVC(C=1, class_weight='balanced', kernel='linear')\n",
        "model_svm.fit(X_train_tfidf, y_train)\n",
        "\n",
        "# Predict on the test set\n",
        "y_pred_svm = model_svm.predict(X_test_tfidf)\n",
        "\n",
        "# Evaluation\n",
        "accuracy_svm = accuracy_score(y_data_with_label, y_pred_svm)\n",
        "classification_report_svm = classification_report(y_data_with_label, y_pred_svm)\n",
        "\n",
        "print(f'SVM Accuracy: {accuracy_svm}')\n",
        "print('Classification Report for SVM:\\n', classification_report_svm) # 0.65      0.65      0.65"
      ],
      "metadata": {
        "colab": {
          "base_uri": "https://localhost:8080/"
        },
        "id": "QV368gkj0f9n",
        "outputId": "738f9e7b-d0ea-44c7-fe84-86c2198cbd0e"
      },
      "execution_count": 38,
      "outputs": [
        {
          "output_type": "stream",
          "name": "stdout",
          "text": [
            "SVM Accuracy: 0.6492985971943888\n",
            "Classification Report for SVM:\n",
            "               precision    recall  f1-score   support\n",
            "\n",
            "           0       0.64      0.67      0.65       249\n",
            "           1       0.66      0.63      0.64       250\n",
            "\n",
            "    accuracy                           0.65       499\n",
            "   macro avg       0.65      0.65      0.65       499\n",
            "weighted avg       0.65      0.65      0.65       499\n",
            "\n"
          ]
        }
      ]
    },
    {
      "cell_type": "markdown",
      "source": [
        "## Ensemble Majority Voting"
      ],
      "metadata": {
        "id": "xqAuQsJjMm25"
      }
    },
    {
      "cell_type": "code",
      "source": [
        "from sklearn.ensemble import RandomForestClassifier\n",
        "from sklearn.linear_model import LogisticRegression\n",
        "from sklearn.svm import SVC\n",
        "from sklearn.tree import DecisionTreeClassifier\n",
        "\n",
        "#TF-IDF\n",
        "tfidf = TfidfVectorizer()\n",
        "X_train_tfidf = tfidf.fit_transform(X_train)\n",
        "X_val_tfidf = tfidf.transform(X_valid)\n",
        "X_test_tfidf = tfidf.transform(X_test)\n",
        "\n",
        "# Example: Training individual models\n",
        "model_rf = RandomForestClassifier(n_estimators=1000)  #use class_weight='balanced' if classes are imbalanced\n",
        "model_rf.fit(X_train_tfidf, y_train)\n",
        "\n",
        "model_lr = LogisticRegression(C = 1, class_weight = 'balanced', penalty = 'l2', solver = 'newton-cg', max_iter=1000)\n",
        "model_lr.fit(X_train_tfidf, y_train)\n",
        "\n",
        "model_svm = SVC(kernel='linear', C = 1, class_weight = 'balanced')    #kernel='poly'  kernel='rbf'   kernel='sigmoid'\n",
        "model_svm.fit(X_train_tfidf, y_train)\n",
        "\n",
        "model_dt = DecisionTreeClassifier()\n",
        "model_dt.fit(X_train_tfidf, y_train)"
      ],
      "metadata": {
        "id": "jCyZUA9sLiR3",
        "outputId": "83561afb-2491-4a8e-f727-efabc15dd82d",
        "execution": {
          "iopub.status.busy": "2023-12-04T01:41:50.095147Z",
          "iopub.execute_input": "2023-12-04T01:41:50.095429Z",
          "iopub.status.idle": "2023-12-04T01:42:24.226349Z",
          "shell.execute_reply.started": "2023-12-04T01:41:50.095406Z",
          "shell.execute_reply": "2023-12-04T01:42:24.225474Z"
        },
        "trusted": true,
        "colab": {
          "base_uri": "https://localhost:8080/",
          "height": 75
        }
      },
      "execution_count": 50,
      "outputs": [
        {
          "output_type": "execute_result",
          "data": {
            "text/plain": [
              "DecisionTreeClassifier()"
            ],
            "text/html": [
              "<style>#sk-container-id-4 {color: black;background-color: white;}#sk-container-id-4 pre{padding: 0;}#sk-container-id-4 div.sk-toggleable {background-color: white;}#sk-container-id-4 label.sk-toggleable__label {cursor: pointer;display: block;width: 100%;margin-bottom: 0;padding: 0.3em;box-sizing: border-box;text-align: center;}#sk-container-id-4 label.sk-toggleable__label-arrow:before {content: \"▸\";float: left;margin-right: 0.25em;color: #696969;}#sk-container-id-4 label.sk-toggleable__label-arrow:hover:before {color: black;}#sk-container-id-4 div.sk-estimator:hover label.sk-toggleable__label-arrow:before {color: black;}#sk-container-id-4 div.sk-toggleable__content {max-height: 0;max-width: 0;overflow: hidden;text-align: left;background-color: #f0f8ff;}#sk-container-id-4 div.sk-toggleable__content pre {margin: 0.2em;color: black;border-radius: 0.25em;background-color: #f0f8ff;}#sk-container-id-4 input.sk-toggleable__control:checked~div.sk-toggleable__content {max-height: 200px;max-width: 100%;overflow: auto;}#sk-container-id-4 input.sk-toggleable__control:checked~label.sk-toggleable__label-arrow:before {content: \"▾\";}#sk-container-id-4 div.sk-estimator input.sk-toggleable__control:checked~label.sk-toggleable__label {background-color: #d4ebff;}#sk-container-id-4 div.sk-label input.sk-toggleable__control:checked~label.sk-toggleable__label {background-color: #d4ebff;}#sk-container-id-4 input.sk-hidden--visually {border: 0;clip: rect(1px 1px 1px 1px);clip: rect(1px, 1px, 1px, 1px);height: 1px;margin: -1px;overflow: hidden;padding: 0;position: absolute;width: 1px;}#sk-container-id-4 div.sk-estimator {font-family: monospace;background-color: #f0f8ff;border: 1px dotted black;border-radius: 0.25em;box-sizing: border-box;margin-bottom: 0.5em;}#sk-container-id-4 div.sk-estimator:hover {background-color: #d4ebff;}#sk-container-id-4 div.sk-parallel-item::after {content: \"\";width: 100%;border-bottom: 1px solid gray;flex-grow: 1;}#sk-container-id-4 div.sk-label:hover label.sk-toggleable__label {background-color: #d4ebff;}#sk-container-id-4 div.sk-serial::before {content: \"\";position: absolute;border-left: 1px solid gray;box-sizing: border-box;top: 0;bottom: 0;left: 50%;z-index: 0;}#sk-container-id-4 div.sk-serial {display: flex;flex-direction: column;align-items: center;background-color: white;padding-right: 0.2em;padding-left: 0.2em;position: relative;}#sk-container-id-4 div.sk-item {position: relative;z-index: 1;}#sk-container-id-4 div.sk-parallel {display: flex;align-items: stretch;justify-content: center;background-color: white;position: relative;}#sk-container-id-4 div.sk-item::before, #sk-container-id-4 div.sk-parallel-item::before {content: \"\";position: absolute;border-left: 1px solid gray;box-sizing: border-box;top: 0;bottom: 0;left: 50%;z-index: -1;}#sk-container-id-4 div.sk-parallel-item {display: flex;flex-direction: column;z-index: 1;position: relative;background-color: white;}#sk-container-id-4 div.sk-parallel-item:first-child::after {align-self: flex-end;width: 50%;}#sk-container-id-4 div.sk-parallel-item:last-child::after {align-self: flex-start;width: 50%;}#sk-container-id-4 div.sk-parallel-item:only-child::after {width: 0;}#sk-container-id-4 div.sk-dashed-wrapped {border: 1px dashed gray;margin: 0 0.4em 0.5em 0.4em;box-sizing: border-box;padding-bottom: 0.4em;background-color: white;}#sk-container-id-4 div.sk-label label {font-family: monospace;font-weight: bold;display: inline-block;line-height: 1.2em;}#sk-container-id-4 div.sk-label-container {text-align: center;}#sk-container-id-4 div.sk-container {/* jupyter's `normalize.less` sets `[hidden] { display: none; }` but bootstrap.min.css set `[hidden] { display: none !important; }` so we also need the `!important` here to be able to override the default hidden behavior on the sphinx rendered scikit-learn.org. See: https://github.com/scikit-learn/scikit-learn/issues/21755 */display: inline-block !important;position: relative;}#sk-container-id-4 div.sk-text-repr-fallback {display: none;}</style><div id=\"sk-container-id-4\" class=\"sk-top-container\"><div class=\"sk-text-repr-fallback\"><pre>DecisionTreeClassifier()</pre><b>In a Jupyter environment, please rerun this cell to show the HTML representation or trust the notebook. <br />On GitHub, the HTML representation is unable to render, please try loading this page with nbviewer.org.</b></div><div class=\"sk-container\" hidden><div class=\"sk-item\"><div class=\"sk-estimator sk-toggleable\"><input class=\"sk-toggleable__control sk-hidden--visually\" id=\"sk-estimator-id-8\" type=\"checkbox\" checked><label for=\"sk-estimator-id-8\" class=\"sk-toggleable__label sk-toggleable__label-arrow\">DecisionTreeClassifier</label><div class=\"sk-toggleable__content\"><pre>DecisionTreeClassifier()</pre></div></div></div></div></div>"
            ]
          },
          "metadata": {},
          "execution_count": 50
        }
      ]
    },
    {
      "cell_type": "code",
      "source": [
        "from sklearn.ensemble import VotingClassifier\n",
        "\n",
        "# Create a list of tuples with model names and trained models\n",
        "models = [\n",
        "    ('RandomForest', model_rf),\n",
        "    ('LogisticRegression', model_lr),\n",
        "    ('SVM', model_svm),\n",
        "    ('DecisionTree', model_dt)\n",
        "]\n",
        "\n",
        "# Create an ensemble model using VotingClassifier\n",
        "ensemble_model = VotingClassifier(estimators=models, voting='hard') # 'hard' voting for majority class\n",
        "ensemble_model.fit(X_train_tfidf, y_train)\n"
      ],
      "metadata": {
        "id": "KoE5Hu_fMy7W",
        "outputId": "2615effc-7d3f-438f-c8c0-c58c0eb30fe9",
        "execution": {
          "iopub.status.busy": "2023-12-04T01:42:24.227493Z",
          "iopub.execute_input": "2023-12-04T01:42:24.227761Z",
          "iopub.status.idle": "2023-12-04T01:42:58.698581Z",
          "shell.execute_reply.started": "2023-12-04T01:42:24.227738Z",
          "shell.execute_reply": "2023-12-04T01:42:58.697669Z"
        },
        "trusted": true,
        "colab": {
          "base_uri": "https://localhost:8080/",
          "height": 110
        }
      },
      "execution_count": 51,
      "outputs": [
        {
          "output_type": "execute_result",
          "data": {
            "text/plain": [
              "VotingClassifier(estimators=[('RandomForest',\n",
              "                              RandomForestClassifier(n_estimators=1000)),\n",
              "                             ('LogisticRegression',\n",
              "                              LogisticRegression(C=1, class_weight='balanced',\n",
              "                                                 max_iter=1000,\n",
              "                                                 solver='newton-cg')),\n",
              "                             ('SVM',\n",
              "                              SVC(C=1, class_weight='balanced',\n",
              "                                  kernel='linear')),\n",
              "                             ('DecisionTree', DecisionTreeClassifier())])"
            ],
            "text/html": [
              "<style>#sk-container-id-5 {color: black;background-color: white;}#sk-container-id-5 pre{padding: 0;}#sk-container-id-5 div.sk-toggleable {background-color: white;}#sk-container-id-5 label.sk-toggleable__label {cursor: pointer;display: block;width: 100%;margin-bottom: 0;padding: 0.3em;box-sizing: border-box;text-align: center;}#sk-container-id-5 label.sk-toggleable__label-arrow:before {content: \"▸\";float: left;margin-right: 0.25em;color: #696969;}#sk-container-id-5 label.sk-toggleable__label-arrow:hover:before {color: black;}#sk-container-id-5 div.sk-estimator:hover label.sk-toggleable__label-arrow:before {color: black;}#sk-container-id-5 div.sk-toggleable__content {max-height: 0;max-width: 0;overflow: hidden;text-align: left;background-color: #f0f8ff;}#sk-container-id-5 div.sk-toggleable__content pre {margin: 0.2em;color: black;border-radius: 0.25em;background-color: #f0f8ff;}#sk-container-id-5 input.sk-toggleable__control:checked~div.sk-toggleable__content {max-height: 200px;max-width: 100%;overflow: auto;}#sk-container-id-5 input.sk-toggleable__control:checked~label.sk-toggleable__label-arrow:before {content: \"▾\";}#sk-container-id-5 div.sk-estimator input.sk-toggleable__control:checked~label.sk-toggleable__label {background-color: #d4ebff;}#sk-container-id-5 div.sk-label input.sk-toggleable__control:checked~label.sk-toggleable__label {background-color: #d4ebff;}#sk-container-id-5 input.sk-hidden--visually {border: 0;clip: rect(1px 1px 1px 1px);clip: rect(1px, 1px, 1px, 1px);height: 1px;margin: -1px;overflow: hidden;padding: 0;position: absolute;width: 1px;}#sk-container-id-5 div.sk-estimator {font-family: monospace;background-color: #f0f8ff;border: 1px dotted black;border-radius: 0.25em;box-sizing: border-box;margin-bottom: 0.5em;}#sk-container-id-5 div.sk-estimator:hover {background-color: #d4ebff;}#sk-container-id-5 div.sk-parallel-item::after {content: \"\";width: 100%;border-bottom: 1px solid gray;flex-grow: 1;}#sk-container-id-5 div.sk-label:hover label.sk-toggleable__label {background-color: #d4ebff;}#sk-container-id-5 div.sk-serial::before {content: \"\";position: absolute;border-left: 1px solid gray;box-sizing: border-box;top: 0;bottom: 0;left: 50%;z-index: 0;}#sk-container-id-5 div.sk-serial {display: flex;flex-direction: column;align-items: center;background-color: white;padding-right: 0.2em;padding-left: 0.2em;position: relative;}#sk-container-id-5 div.sk-item {position: relative;z-index: 1;}#sk-container-id-5 div.sk-parallel {display: flex;align-items: stretch;justify-content: center;background-color: white;position: relative;}#sk-container-id-5 div.sk-item::before, #sk-container-id-5 div.sk-parallel-item::before {content: \"\";position: absolute;border-left: 1px solid gray;box-sizing: border-box;top: 0;bottom: 0;left: 50%;z-index: -1;}#sk-container-id-5 div.sk-parallel-item {display: flex;flex-direction: column;z-index: 1;position: relative;background-color: white;}#sk-container-id-5 div.sk-parallel-item:first-child::after {align-self: flex-end;width: 50%;}#sk-container-id-5 div.sk-parallel-item:last-child::after {align-self: flex-start;width: 50%;}#sk-container-id-5 div.sk-parallel-item:only-child::after {width: 0;}#sk-container-id-5 div.sk-dashed-wrapped {border: 1px dashed gray;margin: 0 0.4em 0.5em 0.4em;box-sizing: border-box;padding-bottom: 0.4em;background-color: white;}#sk-container-id-5 div.sk-label label {font-family: monospace;font-weight: bold;display: inline-block;line-height: 1.2em;}#sk-container-id-5 div.sk-label-container {text-align: center;}#sk-container-id-5 div.sk-container {/* jupyter's `normalize.less` sets `[hidden] { display: none; }` but bootstrap.min.css set `[hidden] { display: none !important; }` so we also need the `!important` here to be able to override the default hidden behavior on the sphinx rendered scikit-learn.org. See: https://github.com/scikit-learn/scikit-learn/issues/21755 */display: inline-block !important;position: relative;}#sk-container-id-5 div.sk-text-repr-fallback {display: none;}</style><div id=\"sk-container-id-5\" class=\"sk-top-container\"><div class=\"sk-text-repr-fallback\"><pre>VotingClassifier(estimators=[(&#x27;RandomForest&#x27;,\n",
              "                              RandomForestClassifier(n_estimators=1000)),\n",
              "                             (&#x27;LogisticRegression&#x27;,\n",
              "                              LogisticRegression(C=1, class_weight=&#x27;balanced&#x27;,\n",
              "                                                 max_iter=1000,\n",
              "                                                 solver=&#x27;newton-cg&#x27;)),\n",
              "                             (&#x27;SVM&#x27;,\n",
              "                              SVC(C=1, class_weight=&#x27;balanced&#x27;,\n",
              "                                  kernel=&#x27;linear&#x27;)),\n",
              "                             (&#x27;DecisionTree&#x27;, DecisionTreeClassifier())])</pre><b>In a Jupyter environment, please rerun this cell to show the HTML representation or trust the notebook. <br />On GitHub, the HTML representation is unable to render, please try loading this page with nbviewer.org.</b></div><div class=\"sk-container\" hidden><div class=\"sk-item sk-dashed-wrapped\"><div class=\"sk-label-container\"><div class=\"sk-label sk-toggleable\"><input class=\"sk-toggleable__control sk-hidden--visually\" id=\"sk-estimator-id-9\" type=\"checkbox\" ><label for=\"sk-estimator-id-9\" class=\"sk-toggleable__label sk-toggleable__label-arrow\">VotingClassifier</label><div class=\"sk-toggleable__content\"><pre>VotingClassifier(estimators=[(&#x27;RandomForest&#x27;,\n",
              "                              RandomForestClassifier(n_estimators=1000)),\n",
              "                             (&#x27;LogisticRegression&#x27;,\n",
              "                              LogisticRegression(C=1, class_weight=&#x27;balanced&#x27;,\n",
              "                                                 max_iter=1000,\n",
              "                                                 solver=&#x27;newton-cg&#x27;)),\n",
              "                             (&#x27;SVM&#x27;,\n",
              "                              SVC(C=1, class_weight=&#x27;balanced&#x27;,\n",
              "                                  kernel=&#x27;linear&#x27;)),\n",
              "                             (&#x27;DecisionTree&#x27;, DecisionTreeClassifier())])</pre></div></div></div><div class=\"sk-parallel\"><div class=\"sk-parallel-item\"><div class=\"sk-item\"><div class=\"sk-label-container\"><div class=\"sk-label sk-toggleable\"><label>RandomForest</label></div></div><div class=\"sk-serial\"><div class=\"sk-item\"><div class=\"sk-estimator sk-toggleable\"><input class=\"sk-toggleable__control sk-hidden--visually\" id=\"sk-estimator-id-10\" type=\"checkbox\" ><label for=\"sk-estimator-id-10\" class=\"sk-toggleable__label sk-toggleable__label-arrow\">RandomForestClassifier</label><div class=\"sk-toggleable__content\"><pre>RandomForestClassifier(n_estimators=1000)</pre></div></div></div></div></div></div><div class=\"sk-parallel-item\"><div class=\"sk-item\"><div class=\"sk-label-container\"><div class=\"sk-label sk-toggleable\"><label>LogisticRegression</label></div></div><div class=\"sk-serial\"><div class=\"sk-item\"><div class=\"sk-estimator sk-toggleable\"><input class=\"sk-toggleable__control sk-hidden--visually\" id=\"sk-estimator-id-11\" type=\"checkbox\" ><label for=\"sk-estimator-id-11\" class=\"sk-toggleable__label sk-toggleable__label-arrow\">LogisticRegression</label><div class=\"sk-toggleable__content\"><pre>LogisticRegression(C=1, class_weight=&#x27;balanced&#x27;, max_iter=1000,\n",
              "                   solver=&#x27;newton-cg&#x27;)</pre></div></div></div></div></div></div><div class=\"sk-parallel-item\"><div class=\"sk-item\"><div class=\"sk-label-container\"><div class=\"sk-label sk-toggleable\"><label>SVM</label></div></div><div class=\"sk-serial\"><div class=\"sk-item\"><div class=\"sk-estimator sk-toggleable\"><input class=\"sk-toggleable__control sk-hidden--visually\" id=\"sk-estimator-id-12\" type=\"checkbox\" ><label for=\"sk-estimator-id-12\" class=\"sk-toggleable__label sk-toggleable__label-arrow\">SVC</label><div class=\"sk-toggleable__content\"><pre>SVC(C=1, class_weight=&#x27;balanced&#x27;, kernel=&#x27;linear&#x27;)</pre></div></div></div></div></div></div><div class=\"sk-parallel-item\"><div class=\"sk-item\"><div class=\"sk-label-container\"><div class=\"sk-label sk-toggleable\"><label>DecisionTree</label></div></div><div class=\"sk-serial\"><div class=\"sk-item\"><div class=\"sk-estimator sk-toggleable\"><input class=\"sk-toggleable__control sk-hidden--visually\" id=\"sk-estimator-id-13\" type=\"checkbox\" ><label for=\"sk-estimator-id-13\" class=\"sk-toggleable__label sk-toggleable__label-arrow\">DecisionTreeClassifier</label><div class=\"sk-toggleable__content\"><pre>DecisionTreeClassifier()</pre></div></div></div></div></div></div></div></div></div></div>"
            ]
          },
          "metadata": {},
          "execution_count": 51
        }
      ]
    },
    {
      "cell_type": "markdown",
      "source": [
        "## Confusion Matrix with train_test_split's dev set(during contest)"
      ],
      "metadata": {
        "id": "C5pN7wf73lAY"
      }
    },
    {
      "cell_type": "code",
      "source": [
        "from sklearn.metrics import accuracy_score, classification_report\n",
        "\n",
        "# Predictions\n",
        "y_pred = ensemble_model.predict(X_val_tfidf)\n",
        "accuracy = accuracy_score(y_valid, y_pred)\n",
        "report = classification_report(y_valid, y_pred)\n",
        "print(f\"Accuracy: {accuracy}\")\n",
        "print(\"Classification Report:\")\n",
        "print(report)"
      ],
      "metadata": {
        "id": "Zy2E2dM5M279",
        "outputId": "6f0d384a-7081-4423-95aa-5cfd02d51922",
        "execution": {
          "iopub.status.busy": "2023-12-04T01:42:58.701121Z",
          "iopub.execute_input": "2023-12-04T01:42:58.701466Z",
          "iopub.status.idle": "2023-12-04T01:42:59.578268Z",
          "shell.execute_reply.started": "2023-12-04T01:42:58.701430Z",
          "shell.execute_reply": "2023-12-04T01:42:59.577468Z"
        },
        "trusted": true,
        "colab": {
          "base_uri": "https://localhost:8080/"
        }
      },
      "execution_count": 52,
      "outputs": [
        {
          "output_type": "stream",
          "name": "stdout",
          "text": [
            "Accuracy: 0.7383333333333333\n",
            "Classification Report:\n",
            "              precision    recall  f1-score   support\n",
            "\n",
            "           0       0.70      0.86      0.77       309\n",
            "           1       0.80      0.61      0.69       291\n",
            "\n",
            "    accuracy                           0.74       600\n",
            "   macro avg       0.75      0.73      0.73       600\n",
            "weighted avg       0.75      0.74      0.73       600\n",
            "\n"
          ]
        }
      ]
    },
    {
      "cell_type": "markdown",
      "source": [
        "## Confusion Matrix after test data revealed (after contest)"
      ],
      "metadata": {
        "id": "dm8SRbFL3znz"
      }
    },
    {
      "cell_type": "code",
      "source": [
        "from sklearn.metrics import accuracy_score, classification_report\n",
        "\n",
        "# Predictions\n",
        "y_pred = ensemble_model.predict(X_test_tfidf)\n",
        "accuracy = accuracy_score(y_data_with_label, y_pred)\n",
        "report = classification_report(y_data_with_label, y_pred)\n",
        "print(f\"Accuracy: {accuracy}\")\n",
        "print(\"Classification Report:\")\n",
        "print(report)"
      ],
      "metadata": {
        "colab": {
          "base_uri": "https://localhost:8080/"
        },
        "id": "_-xp78GQ3-E1",
        "outputId": "657a6e23-3bc5-404d-baee-0dd3e9e7b85a"
      },
      "execution_count": 53,
      "outputs": [
        {
          "output_type": "stream",
          "name": "stdout",
          "text": [
            "Accuracy: 0.5951903807615231\n",
            "Classification Report:\n",
            "              precision    recall  f1-score   support\n",
            "\n",
            "           0       0.57      0.73      0.64       249\n",
            "           1       0.63      0.46      0.53       250\n",
            "\n",
            "    accuracy                           0.60       499\n",
            "   macro avg       0.60      0.60      0.59       499\n",
            "weighted avg       0.60      0.60      0.59       499\n",
            "\n"
          ]
        }
      ]
    },
    {
      "cell_type": "markdown",
      "source": [
        "# Deep Learning\n"
      ],
      "metadata": {
        "id": "6uGKlKfM53--"
      }
    },
    {
      "cell_type": "markdown",
      "source": [
        "## BiGRU\n"
      ],
      "metadata": {
        "id": "kHo_4GOEf8Ln"
      }
    },
    {
      "cell_type": "code",
      "source": [
        "import tensorflow as tf\n",
        "from tensorflow import keras\n",
        "from tensorflow.keras.preprocessing.sequence import pad_sequences\n",
        "from tensorflow.keras.preprocessing.text import Tokenizer\n",
        "from tensorflow.keras import regularizers\n",
        "from tensorflow.keras.layers import LSTM,GRU\n",
        "from tensorflow.keras.models import load_model"
      ],
      "metadata": {
        "execution": {
          "iopub.status.busy": "2023-12-06T09:22:53.157754Z",
          "iopub.execute_input": "2023-12-06T09:22:53.158144Z",
          "iopub.status.idle": "2023-12-06T09:23:03.841407Z",
          "shell.execute_reply.started": "2023-12-06T09:22:53.158112Z",
          "shell.execute_reply": "2023-12-06T09:23:03.840542Z"
        },
        "trusted": true,
        "id": "RABu7-nR53-_"
      },
      "execution_count": 54,
      "outputs": []
    },
    {
      "cell_type": "code",
      "source": [
        "tokenizer = Tokenizer(num_words = 20000,filters='!\"#$%&()*+,-./:;<=>?@[\\\\]^_`{|}~\\t\\n-',\n",
        "                      split=' ', char_level=False, oov_token='<oov>', document_count=0)     #tokenization\n",
        "tokenizer.fit_on_texts(train_df['cleanText'])\n",
        "word_index = tokenizer.word_index\n",
        "vocab_size = len(word_index)+1"
      ],
      "metadata": {
        "execution": {
          "iopub.status.busy": "2023-12-06T09:23:03.843162Z",
          "iopub.execute_input": "2023-12-06T09:23:03.843819Z",
          "iopub.status.idle": "2023-12-06T09:23:03.962550Z",
          "shell.execute_reply.started": "2023-12-06T09:23:03.843790Z",
          "shell.execute_reply": "2023-12-06T09:23:03.961494Z"
        },
        "trusted": true,
        "id": "N5DgERI953-_"
      },
      "execution_count": 55,
      "outputs": []
    },
    {
      "cell_type": "code",
      "source": [
        "print(vocab_size)"
      ],
      "metadata": {
        "execution": {
          "iopub.status.busy": "2023-12-06T09:23:03.963588Z",
          "iopub.execute_input": "2023-12-06T09:23:03.963878Z",
          "iopub.status.idle": "2023-12-06T09:23:03.969097Z",
          "shell.execute_reply.started": "2023-12-06T09:23:03.963853Z",
          "shell.execute_reply": "2023-12-06T09:23:03.968011Z"
        },
        "trusted": true,
        "colab": {
          "base_uri": "https://localhost:8080/"
        },
        "id": "zYTLerKd53_A",
        "outputId": "1d7ae07f-b8e0-449e-c86e-ac10ad2b4091"
      },
      "execution_count": 56,
      "outputs": [
        {
          "output_type": "stream",
          "name": "stdout",
          "text": [
            "15151\n"
          ]
        }
      ]
    },
    {
      "cell_type": "code",
      "source": [
        "max_len = 80\n",
        "# Training Sequences\n",
        "train_sequences = tokenizer.texts_to_sequences(X_train)\n",
        "print(len(tokenizer.word_index))\n",
        "train_pad_sequences =  pad_sequences(train_sequences, value=0.0, padding='post', maxlen= max_len)\n",
        "print(\"Number of Training Sequences :\" ,train_pad_sequences.shape)\n",
        "\n",
        "# Validation Sequences\n",
        "validation_sequences = tokenizer.texts_to_sequences(X_valid)\n",
        "validation_pad_sequences =  pad_sequences(validation_sequences, value=0.0, padding='post', maxlen= max_len)\n",
        "print(\"Number of Validation Sequences :\" ,validation_pad_sequences.shape)\n",
        "\n",
        "# Validation Sequences\n",
        "test_sequences = tokenizer.texts_to_sequences(X_test)\n",
        "test_pad_sequences =  pad_sequences(test_sequences, value=0.0, padding='post', maxlen= max_len)\n",
        "print(\"Number of test Sequences :\" ,test_pad_sequences.shape)"
      ],
      "metadata": {
        "execution": {
          "iopub.status.busy": "2023-12-06T09:23:09.504507Z",
          "iopub.execute_input": "2023-12-06T09:23:09.505361Z",
          "iopub.status.idle": "2023-12-06T09:23:09.618287Z",
          "shell.execute_reply.started": "2023-12-06T09:23:09.505328Z",
          "shell.execute_reply": "2023-12-06T09:23:09.617376Z"
        },
        "trusted": true,
        "colab": {
          "base_uri": "https://localhost:8080/"
        },
        "id": "MCEQWPte53_A",
        "outputId": "7e0ffd66-518b-43eb-e411-3eb2bc84b4f7"
      },
      "execution_count": 58,
      "outputs": [
        {
          "output_type": "stream",
          "name": "stdout",
          "text": [
            "15150\n",
            "Number of Training Sequences : (3400, 80)\n",
            "Number of Validation Sequences : (600, 80)\n",
            "Number of test Sequences : (499, 80)\n"
          ]
        }
      ]
    },
    {
      "cell_type": "code",
      "source": [
        "num_classes = 2            #### change class number\n",
        "\n",
        "accuracy_threshold = 0.99\n",
        "\n",
        "class myCallback(keras.callbacks.Callback):\n",
        "  def on_epoch_end(self, epoch, logs={}):\n",
        "      if(logs.get('accuracy')>accuracy_threshold):\n",
        "        print(\"\\nReached %2.2f%% accuracy so we will stop trianing\" % (accuracy_threshold*100))\n",
        "        self.model.stop_training = True\n",
        "\n",
        "acc_callback = myCallback()\n",
        "# Saved the Best Model\n",
        "filepath = \"/content/drive/MyDrive/Colab Notebooks/HOLD/\" + \"BiGRU_One.h5\"\n",
        "checkpoint = keras.callbacks.ModelCheckpoint(filepath, monitor='val_accuracy', verbose=2, save_best_only=True,\n",
        "                                             save_weights_only=False, mode='max')\n",
        "# callback list\n",
        "callback_list = [acc_callback, checkpoint]\n",
        "model = tf.keras.models.Sequential([\n",
        "tf.keras.layers.Embedding(vocab_size, 300, input_length = max_len),\n",
        "#tf.keras.layers.Conv1D(128, 5, activation='relu'),\n",
        "#tf.keras.layers.MaxPooling1D(5),\n",
        "tf.keras.layers.Bidirectional(GRU(units = 200,return_sequences=True,dropout = 0.2)),\n",
        "tf.keras.layers.Flatten(),\n",
        "tf.keras.layers.Dense(1, activation='sigmoid')])\n",
        "\n",
        "model.summary()"
      ],
      "metadata": {
        "execution": {
          "iopub.status.busy": "2023-12-06T09:31:18.063780Z",
          "iopub.execute_input": "2023-12-06T09:31:18.064662Z",
          "iopub.status.idle": "2023-12-06T09:31:18.623112Z",
          "shell.execute_reply.started": "2023-12-06T09:31:18.064626Z",
          "shell.execute_reply": "2023-12-06T09:31:18.622102Z"
        },
        "trusted": true,
        "colab": {
          "base_uri": "https://localhost:8080/"
        },
        "id": "DP_aWEJZ53_B",
        "outputId": "b9f40548-554e-4088-ef72-693ca1c07730"
      },
      "execution_count": 59,
      "outputs": [
        {
          "output_type": "stream",
          "name": "stdout",
          "text": [
            "Model: \"sequential\"\n",
            "_________________________________________________________________\n",
            " Layer (type)                Output Shape              Param #   \n",
            "=================================================================\n",
            " embedding (Embedding)       (None, 80, 300)           4545300   \n",
            "                                                                 \n",
            " bidirectional (Bidirection  (None, 80, 400)           602400    \n",
            " al)                                                             \n",
            "                                                                 \n",
            " flatten (Flatten)           (None, 32000)             0         \n",
            "                                                                 \n",
            " dense (Dense)               (None, 1)                 32001     \n",
            "                                                                 \n",
            "=================================================================\n",
            "Total params: 5179701 (19.76 MB)\n",
            "Trainable params: 5179701 (19.76 MB)\n",
            "Non-trainable params: 0 (0.00 Byte)\n",
            "_________________________________________________________________\n"
          ]
        }
      ]
    },
    {
      "cell_type": "code",
      "source": [
        "model.compile(optimizer=keras.optimizers.Adam(learning_rate=0.001),\n",
        "    loss='binary_crossentropy',\n",
        "    metrics=['accuracy'])\n",
        "\n",
        "history = model.fit(\n",
        "    train_pad_sequences,\n",
        "    yy_train,\n",
        "    epochs=30,\n",
        "    batch_size=32,\n",
        "    validation_data=(validation_pad_sequences, yy_valid),\n",
        "    verbose=1,\n",
        "    callbacks=callback_list\n",
        ")\n",
        " # as here weight is not using"
      ],
      "metadata": {
        "execution": {
          "iopub.status.busy": "2023-12-06T09:31:23.260008Z",
          "iopub.execute_input": "2023-12-06T09:31:23.260434Z",
          "iopub.status.idle": "2023-12-06T09:32:01.789146Z",
          "shell.execute_reply.started": "2023-12-06T09:31:23.260401Z",
          "shell.execute_reply": "2023-12-06T09:32:01.788311Z"
        },
        "trusted": true,
        "colab": {
          "base_uri": "https://localhost:8080/"
        },
        "id": "wJ4Gh1ry53_C",
        "outputId": "418a9eee-5030-496e-b9ff-679ceff5b0bb"
      },
      "execution_count": 62,
      "outputs": [
        {
          "output_type": "stream",
          "name": "stdout",
          "text": [
            "Epoch 1/30\n",
            "107/107 [==============================] - ETA: 0s - loss: 0.6165 - accuracy: 0.6315\n",
            "Epoch 1: val_accuracy improved from -inf to 0.76833, saving model to /content/drive/MyDrive/Colab Notebooks/HOLD/BiGRU_One.h5\n",
            "107/107 [==============================] - 44s 261ms/step - loss: 0.6165 - accuracy: 0.6315 - val_loss: 0.4920 - val_accuracy: 0.7683\n",
            "Epoch 2/30\n",
            "107/107 [==============================] - ETA: 0s - loss: 0.1926 - accuracy: 0.9306\n",
            "Epoch 2: val_accuracy did not improve from 0.76833\n",
            "107/107 [==============================] - 9s 83ms/step - loss: 0.1926 - accuracy: 0.9306 - val_loss: 0.6724 - val_accuracy: 0.7300\n",
            "Epoch 3/30\n",
            "107/107 [==============================] - ETA: 0s - loss: 0.0379 - accuracy: 0.9912\n",
            "Reached 99.00% accuracy so we will stop trianing\n",
            "\n",
            "Epoch 3: val_accuracy did not improve from 0.76833\n",
            "107/107 [==============================] - 6s 57ms/step - loss: 0.0379 - accuracy: 0.9912 - val_loss: 0.7161 - val_accuracy: 0.6933\n"
          ]
        }
      ]
    },
    {
      "cell_type": "markdown",
      "source": [
        "### Classification Report before Test Data Revealed with train_test_split Validation Set"
      ],
      "metadata": {
        "id": "cDTiReTu5OBq"
      }
    },
    {
      "cell_type": "code",
      "source": [
        "# Load the saved model\n",
        "model = load_model(filepath)\n",
        "# prediction\n",
        "y_pred = np.argmax(model.predict(validation_pad_sequences), axis=-1)\n",
        "\n",
        "print(\"F1-Score:\",f1_score(y_valid,y_pred,average='weighted')*100)\n",
        "print(\"Accuracy:\",accuracy_score(y_valid,y_pred)*100)"
      ],
      "metadata": {
        "execution": {
          "iopub.status.busy": "2023-12-06T09:32:06.058197Z",
          "iopub.execute_input": "2023-12-06T09:32:06.058595Z",
          "iopub.status.idle": "2023-12-06T09:32:07.647495Z",
          "shell.execute_reply.started": "2023-12-06T09:32:06.058565Z",
          "shell.execute_reply": "2023-12-06T09:32:07.646501Z"
        },
        "trusted": true,
        "colab": {
          "base_uri": "https://localhost:8080/"
        },
        "id": "Y6D0b30j53_C",
        "outputId": "883fcdfb-a8aa-43b1-90ef-54ee200f1b8d"
      },
      "execution_count": 68,
      "outputs": [
        {
          "output_type": "stream",
          "name": "stdout",
          "text": [
            "19/19 [==============================] - 1s 9ms/step\n",
            "F1-Score: 35.01320132013201\n",
            "Accuracy: 51.5\n"
          ]
        }
      ]
    },
    {
      "cell_type": "code",
      "source": [
        "from sklearn.metrics import classification_report\n",
        "\n",
        "#Show precision and recall per genre\n",
        "report = classification_report(y_valid, y_pred)\n",
        "\n",
        "#print(f\"Accuracy: {accuracy:.4f}\")\n",
        "print(\"Classification Report:\")\n",
        "print(report)"
      ],
      "metadata": {
        "id": "n1YdXm3u51Db",
        "outputId": "334c6da8-24cb-4aa9-a7d4-c0237416cc38",
        "colab": {
          "base_uri": "https://localhost:8080/"
        }
      },
      "execution_count": 69,
      "outputs": [
        {
          "output_type": "stream",
          "name": "stdout",
          "text": [
            "Classification Report:\n",
            "              precision    recall  f1-score   support\n",
            "\n",
            "           0       0.52      1.00      0.68       309\n",
            "           1       0.00      0.00      0.00       291\n",
            "\n",
            "    accuracy                           0.52       600\n",
            "   macro avg       0.26      0.50      0.34       600\n",
            "weighted avg       0.27      0.52      0.35       600\n",
            "\n"
          ]
        }
      ]
    },
    {
      "cell_type": "markdown",
      "source": [
        "### Classification Report after test data revealed"
      ],
      "metadata": {
        "id": "Kyfs88bF5lSR"
      }
    },
    {
      "cell_type": "code",
      "source": [
        "# Load the saved model\n",
        "model = load_model(filepath)\n",
        "# prediction\n",
        "y_pred = np.argmax(model.predict(test_pad_sequences), axis=-1)\n",
        "\n",
        "print(\"F1-Score:\",f1_score(y_data_with_label,y_pred,average='weighted')*100)\n",
        "print(\"Accuracy:\",accuracy_score(y_data_with_label,y_pred)*100)"
      ],
      "metadata": {
        "id": "8DQ6ubTF5ucG",
        "outputId": "188b5df0-b7fa-4ca8-d340-302e3908a4ee",
        "colab": {
          "base_uri": "https://localhost:8080/"
        }
      },
      "execution_count": 65,
      "outputs": [
        {
          "output_type": "stream",
          "name": "stdout",
          "text": [
            "16/16 [==============================] - 2s 12ms/step\n",
            "F1-Score: 33.22205909144492\n",
            "Accuracy: 49.899799599198396\n"
          ]
        }
      ]
    },
    {
      "cell_type": "code",
      "source": [
        "from sklearn.metrics import classification_report\n",
        "\n",
        "#Show precision and recall per genre\n",
        "report = classification_report(y_data_with_label, y_pred)\n",
        "\n",
        "#print(f\"Accuracy: {accuracy:.4f}\")\n",
        "print(\"Classification Report:\")\n",
        "print(report)"
      ],
      "metadata": {
        "execution": {
          "iopub.status.busy": "2023-12-06T09:32:13.348954Z",
          "iopub.execute_input": "2023-12-06T09:32:13.349942Z",
          "iopub.status.idle": "2023-12-06T09:32:13.368555Z",
          "shell.execute_reply.started": "2023-12-06T09:32:13.349900Z",
          "shell.execute_reply": "2023-12-06T09:32:13.367605Z"
        },
        "trusted": true,
        "colab": {
          "base_uri": "https://localhost:8080/"
        },
        "id": "J7OiDLis53_D",
        "outputId": "2a251805-1de6-4031-c374-1213a85d8380"
      },
      "execution_count": 66,
      "outputs": [
        {
          "output_type": "stream",
          "name": "stdout",
          "text": [
            "Classification Report:\n",
            "              precision    recall  f1-score   support\n",
            "\n",
            "           0       0.50      1.00      0.67       249\n",
            "           1       0.00      0.00      0.00       250\n",
            "\n",
            "    accuracy                           0.50       499\n",
            "   macro avg       0.25      0.50      0.33       499\n",
            "weighted avg       0.25      0.50      0.33       499\n",
            "\n"
          ]
        }
      ]
    },
    {
      "cell_type": "markdown",
      "source": [
        "## FastText CNN + BiLSTM"
      ],
      "metadata": {
        "id": "2OmJBY9m53_D"
      }
    },
    {
      "cell_type": "code",
      "source": [
        "from urllib.request import urlopen\n",
        "import gzip\n",
        "\n",
        "# get the vectors\n",
        "file = gzip.open(urlopen('https://dl.fbaipublicfiles.com/fasttext/vectors-crawl/cc.ml.300.vec.gz'))"
      ],
      "metadata": {
        "execution": {
          "iopub.status.busy": "2023-12-06T09:32:18.180105Z",
          "iopub.execute_input": "2023-12-06T09:32:18.180471Z",
          "iopub.status.idle": "2023-12-06T09:32:18.302127Z",
          "shell.execute_reply.started": "2023-12-06T09:32:18.180443Z",
          "shell.execute_reply": "2023-12-06T09:32:18.301266Z"
        },
        "trusted": true,
        "id": "0OGntAMr53_E"
      },
      "execution_count": 70,
      "outputs": []
    },
    {
      "cell_type": "code",
      "source": [
        "vocab_and_vectors = {}\n",
        "# put words as dict indexes and vectors as words values\n",
        "for line in file:\n",
        "  values = line.split()\n",
        "  word = values [0].decode('utf-8')\n",
        "  vector = np.asarray(values[1:], dtype='float32')\n",
        "  vocab_and_vectors[word] = vector"
      ],
      "metadata": {
        "execution": {
          "iopub.status.busy": "2023-12-06T09:32:23.903881Z",
          "iopub.execute_input": "2023-12-06T09:32:23.904255Z",
          "iopub.status.idle": "2023-12-06T09:35:25.751251Z",
          "shell.execute_reply.started": "2023-12-06T09:32:23.904225Z",
          "shell.execute_reply": "2023-12-06T09:35:25.750206Z"
        },
        "trusted": true,
        "id": "RtggwCbs53_F"
      },
      "execution_count": 71,
      "outputs": []
    },
    {
      "cell_type": "code",
      "source": [
        "embedding_matrix = np.zeros((vocab_size, 300))\n",
        "for word, i in word_index.items():\n",
        "  embedding_vector = vocab_and_vectors.get(word)\n",
        "  # words that cannot be found will be set to 0\n",
        "  if embedding_vector is not None:\n",
        "    embedding_matrix[i] = embedding_vector"
      ],
      "metadata": {
        "execution": {
          "iopub.status.busy": "2023-12-06T09:20:12.877252Z",
          "iopub.status.idle": "2023-12-06T09:20:12.877591Z",
          "shell.execute_reply.started": "2023-12-06T09:20:12.877423Z",
          "shell.execute_reply": "2023-12-06T09:20:12.877438Z"
        },
        "trusted": true,
        "id": "FJHx88tX53_G"
      },
      "execution_count": 72,
      "outputs": []
    },
    {
      "cell_type": "code",
      "source": [
        "num_classes = 2\n",
        "\n",
        "accuracy_threshold = 0.99\n",
        "\n",
        "class myCallback(keras.callbacks.Callback):\n",
        "  def on_epoch_end(self, epoch, logs={}):\n",
        "      if(logs.get('accuracy')>accuracy_threshold):\n",
        "        print(\"\\nReached %2.2f%% accuracy so we will stop trianing\" % (accuracy_threshold*100))\n",
        "        self.model.stop_training = True\n",
        "\n",
        "acc_callback = myCallback()\n",
        "# Saved the Best Model\n",
        "filepath = '/content/drive/MyDrive/Colab Notebooks/HOLD/' +\"CNN_BiLSTMModel.h5\"\n",
        "checkpoint = keras.callbacks.ModelCheckpoint(filepath, monitor='val_accuracy', verbose=2, save_best_only=True,\n",
        "                                             save_weights_only=False, mode='max')\n",
        "# callback list\n",
        "callback_list = [acc_callback, checkpoint]\n",
        "model2 = tf.keras.models.Sequential([\n",
        "tf.keras.layers.Embedding(vocab_size, 300, weights=[embedding_matrix],trainable=False, input_length = max_len),\n",
        "tf.keras.layers.Conv1D(128, 2, activation='relu'),\n",
        "tf.keras.layers.MaxPooling1D(2),\n",
        "tf.keras.layers.Bidirectional(LSTM(units = 200,return_sequences=True,dropout = 0.2)),\n",
        "tf.keras.layers.Flatten(),\n",
        "tf.keras.layers.Dense(1, activation='sigmoid')])\n",
        "\n",
        "model2.summary()"
      ],
      "metadata": {
        "execution": {
          "iopub.status.busy": "2023-12-06T09:20:12.882619Z",
          "iopub.status.idle": "2023-12-06T09:20:12.882975Z",
          "shell.execute_reply.started": "2023-12-06T09:20:12.882782Z",
          "shell.execute_reply": "2023-12-06T09:20:12.882796Z"
        },
        "trusted": true,
        "colab": {
          "base_uri": "https://localhost:8080/"
        },
        "id": "X2EkiS6h53_H",
        "outputId": "ec73edf7-9a13-40c6-c381-ed6c0424aa7c"
      },
      "execution_count": 73,
      "outputs": [
        {
          "output_type": "stream",
          "name": "stdout",
          "text": [
            "Model: \"sequential_1\"\n",
            "_________________________________________________________________\n",
            " Layer (type)                Output Shape              Param #   \n",
            "=================================================================\n",
            " embedding_1 (Embedding)     (None, 80, 300)           4545300   \n",
            "                                                                 \n",
            " conv1d (Conv1D)             (None, 79, 128)           76928     \n",
            "                                                                 \n",
            " max_pooling1d (MaxPooling1  (None, 39, 128)           0         \n",
            " D)                                                              \n",
            "                                                                 \n",
            " bidirectional_1 (Bidirecti  (None, 39, 400)           526400    \n",
            " onal)                                                           \n",
            "                                                                 \n",
            " flatten_1 (Flatten)         (None, 15600)             0         \n",
            "                                                                 \n",
            " dense_1 (Dense)             (None, 1)                 15601     \n",
            "                                                                 \n",
            "=================================================================\n",
            "Total params: 5164229 (19.70 MB)\n",
            "Trainable params: 618929 (2.36 MB)\n",
            "Non-trainable params: 4545300 (17.34 MB)\n",
            "_________________________________________________________________\n"
          ]
        }
      ]
    },
    {
      "cell_type": "code",
      "source": [
        "model2.compile(optimizer=keras.optimizers.Adam(learning_rate=0.001),\n",
        "    loss='binary_crossentropy',\n",
        "    metrics=['accuracy'])\n",
        "\n",
        "history = model2.fit(train_pad_sequences,\n",
        "    yy_train,\n",
        "    epochs= 30,\n",
        "    batch_size = 32,\n",
        "    validation_data=(validation_pad_sequences, yy_valid),\n",
        "    verbose = 1,\n",
        "    callbacks = callback_list)"
      ],
      "metadata": {
        "trusted": true,
        "colab": {
          "base_uri": "https://localhost:8080/"
        },
        "id": "5e0JhE9053_I",
        "outputId": "091d2696-1955-4430-b423-62e13275c9f6"
      },
      "execution_count": 74,
      "outputs": [
        {
          "output_type": "stream",
          "name": "stdout",
          "text": [
            "Epoch 1/30\n",
            "107/107 [==============================] - ETA: 0s - loss: 0.6737 - accuracy: 0.5579\n",
            "Epoch 1: val_accuracy improved from -inf to 0.60833, saving model to /content/drive/MyDrive/Colab Notebooks/HOLD/CNN_BiLSTMModel.h5\n",
            "107/107 [==============================] - 13s 29ms/step - loss: 0.6737 - accuracy: 0.5579 - val_loss: 0.6542 - val_accuracy: 0.6083\n",
            "Epoch 2/30\n",
            "101/107 [===========================>..] - ETA: 0s - loss: 0.6263 - accuracy: 0.6383\n",
            "Epoch 2: val_accuracy improved from 0.60833 to 0.65833, saving model to /content/drive/MyDrive/Colab Notebooks/HOLD/CNN_BiLSTMModel.h5\n",
            "107/107 [==============================] - 1s 12ms/step - loss: 0.6271 - accuracy: 0.6385 - val_loss: 0.6262 - val_accuracy: 0.6583\n",
            "Epoch 3/30\n",
            "104/107 [============================>.] - ETA: 0s - loss: 0.5925 - accuracy: 0.6581\n",
            "Epoch 3: val_accuracy improved from 0.65833 to 0.66167, saving model to /content/drive/MyDrive/Colab Notebooks/HOLD/CNN_BiLSTMModel.h5\n",
            "107/107 [==============================] - 3s 25ms/step - loss: 0.5930 - accuracy: 0.6571 - val_loss: 0.6202 - val_accuracy: 0.6617\n",
            "Epoch 4/30\n",
            "104/107 [============================>.] - ETA: 0s - loss: 0.5672 - accuracy: 0.6818\n",
            "Epoch 4: val_accuracy improved from 0.66167 to 0.66333, saving model to /content/drive/MyDrive/Colab Notebooks/HOLD/CNN_BiLSTMModel.h5\n",
            "107/107 [==============================] - 2s 14ms/step - loss: 0.5659 - accuracy: 0.6826 - val_loss: 0.6379 - val_accuracy: 0.6633\n",
            "Epoch 5/30\n",
            "106/107 [============================>.] - ETA: 0s - loss: 0.5379 - accuracy: 0.7120\n",
            "Epoch 5: val_accuracy improved from 0.66333 to 0.66500, saving model to /content/drive/MyDrive/Colab Notebooks/HOLD/CNN_BiLSTMModel.h5\n",
            "107/107 [==============================] - 2s 15ms/step - loss: 0.5376 - accuracy: 0.7121 - val_loss: 0.6426 - val_accuracy: 0.6650\n",
            "Epoch 6/30\n",
            "107/107 [==============================] - ETA: 0s - loss: 0.5178 - accuracy: 0.7132\n",
            "Epoch 6: val_accuracy improved from 0.66500 to 0.66833, saving model to /content/drive/MyDrive/Colab Notebooks/HOLD/CNN_BiLSTMModel.h5\n",
            "107/107 [==============================] - 1s 11ms/step - loss: 0.5178 - accuracy: 0.7132 - val_loss: 0.7006 - val_accuracy: 0.6683\n",
            "Epoch 7/30\n",
            "102/107 [===========================>..] - ETA: 0s - loss: 0.4949 - accuracy: 0.7255\n",
            "Epoch 7: val_accuracy did not improve from 0.66833\n",
            "107/107 [==============================] - 1s 10ms/step - loss: 0.4963 - accuracy: 0.7226 - val_loss: 0.6973 - val_accuracy: 0.6300\n",
            "Epoch 8/30\n",
            "101/107 [===========================>..] - ETA: 0s - loss: 0.4781 - accuracy: 0.7361\n",
            "Epoch 8: val_accuracy did not improve from 0.66833\n",
            "107/107 [==============================] - 1s 10ms/step - loss: 0.4743 - accuracy: 0.7385 - val_loss: 0.7802 - val_accuracy: 0.6650\n",
            "Epoch 9/30\n",
            "105/107 [============================>.] - ETA: 0s - loss: 0.4574 - accuracy: 0.7563\n",
            "Epoch 9: val_accuracy did not improve from 0.66833\n",
            "107/107 [==============================] - 1s 10ms/step - loss: 0.4575 - accuracy: 0.7562 - val_loss: 0.7997 - val_accuracy: 0.6183\n",
            "Epoch 10/30\n",
            "103/107 [===========================>..] - ETA: 0s - loss: 0.4378 - accuracy: 0.7609\n",
            "Epoch 10: val_accuracy did not improve from 0.66833\n",
            "107/107 [==============================] - 1s 10ms/step - loss: 0.4389 - accuracy: 0.7609 - val_loss: 0.8184 - val_accuracy: 0.6283\n",
            "Epoch 11/30\n",
            "105/107 [============================>.] - ETA: 0s - loss: 0.4291 - accuracy: 0.7625\n",
            "Epoch 11: val_accuracy did not improve from 0.66833\n",
            "107/107 [==============================] - 1s 10ms/step - loss: 0.4302 - accuracy: 0.7615 - val_loss: 0.7509 - val_accuracy: 0.5983\n",
            "Epoch 12/30\n",
            "102/107 [===========================>..] - ETA: 0s - loss: 0.4086 - accuracy: 0.7721\n",
            "Epoch 12: val_accuracy did not improve from 0.66833\n",
            "107/107 [==============================] - 1s 10ms/step - loss: 0.4131 - accuracy: 0.7674 - val_loss: 0.9021 - val_accuracy: 0.6383\n",
            "Epoch 13/30\n",
            "102/107 [===========================>..] - ETA: 0s - loss: 0.4068 - accuracy: 0.7797\n",
            "Epoch 13: val_accuracy did not improve from 0.66833\n",
            "107/107 [==============================] - 1s 11ms/step - loss: 0.4069 - accuracy: 0.7800 - val_loss: 0.8451 - val_accuracy: 0.6567\n",
            "Epoch 14/30\n",
            "102/107 [===========================>..] - ETA: 0s - loss: 0.4263 - accuracy: 0.7644\n",
            "Epoch 14: val_accuracy did not improve from 0.66833\n",
            "107/107 [==============================] - 1s 11ms/step - loss: 0.4274 - accuracy: 0.7641 - val_loss: 0.7718 - val_accuracy: 0.6300\n",
            "Epoch 15/30\n",
            "107/107 [==============================] - ETA: 0s - loss: 0.3916 - accuracy: 0.7750\n",
            "Epoch 15: val_accuracy did not improve from 0.66833\n",
            "107/107 [==============================] - 2s 15ms/step - loss: 0.3916 - accuracy: 0.7750 - val_loss: 0.9244 - val_accuracy: 0.6400\n",
            "Epoch 16/30\n",
            "105/107 [============================>.] - ETA: 0s - loss: 0.3738 - accuracy: 0.7914\n",
            "Epoch 16: val_accuracy did not improve from 0.66833\n",
            "107/107 [==============================] - 2s 14ms/step - loss: 0.3743 - accuracy: 0.7897 - val_loss: 0.9965 - val_accuracy: 0.6133\n",
            "Epoch 17/30\n",
            "106/107 [============================>.] - ETA: 0s - loss: 0.3940 - accuracy: 0.7789\n",
            "Epoch 17: val_accuracy did not improve from 0.66833\n",
            "107/107 [==============================] - 2s 14ms/step - loss: 0.3939 - accuracy: 0.7788 - val_loss: 0.9728 - val_accuracy: 0.6367\n",
            "Epoch 18/30\n",
            "104/107 [============================>.] - ETA: 0s - loss: 0.3625 - accuracy: 0.7969\n",
            "Epoch 18: val_accuracy did not improve from 0.66833\n",
            "107/107 [==============================] - 1s 14ms/step - loss: 0.3638 - accuracy: 0.7953 - val_loss: 1.0530 - val_accuracy: 0.6250\n",
            "Epoch 19/30\n",
            "103/107 [===========================>..] - ETA: 0s - loss: 0.3587 - accuracy: 0.7961\n",
            "Epoch 19: val_accuracy did not improve from 0.66833\n",
            "107/107 [==============================] - 1s 10ms/step - loss: 0.3577 - accuracy: 0.7974 - val_loss: 1.0377 - val_accuracy: 0.6350\n",
            "Epoch 20/30\n",
            "104/107 [============================>.] - ETA: 0s - loss: 0.3654 - accuracy: 0.7969\n",
            "Epoch 20: val_accuracy did not improve from 0.66833\n",
            "107/107 [==============================] - 1s 10ms/step - loss: 0.3671 - accuracy: 0.7944 - val_loss: 1.0682 - val_accuracy: 0.6300\n",
            "Epoch 21/30\n",
            "106/107 [============================>.] - ETA: 0s - loss: 0.3590 - accuracy: 0.7951\n",
            "Epoch 21: val_accuracy did not improve from 0.66833\n",
            "107/107 [==============================] - 1s 10ms/step - loss: 0.3589 - accuracy: 0.7950 - val_loss: 1.0920 - val_accuracy: 0.6317\n",
            "Epoch 22/30\n",
            "107/107 [==============================] - ETA: 0s - loss: 0.3445 - accuracy: 0.8059\n",
            "Epoch 22: val_accuracy did not improve from 0.66833\n",
            "107/107 [==============================] - 1s 10ms/step - loss: 0.3445 - accuracy: 0.8059 - val_loss: 1.2641 - val_accuracy: 0.6317\n",
            "Epoch 23/30\n",
            "106/107 [============================>.] - ETA: 0s - loss: 0.3370 - accuracy: 0.8060\n",
            "Epoch 23: val_accuracy did not improve from 0.66833\n",
            "107/107 [==============================] - 1s 10ms/step - loss: 0.3369 - accuracy: 0.8059 - val_loss: 1.2953 - val_accuracy: 0.6300\n",
            "Epoch 24/30\n",
            "104/107 [============================>.] - ETA: 0s - loss: 0.3465 - accuracy: 0.8014\n",
            "Epoch 24: val_accuracy did not improve from 0.66833\n",
            "107/107 [==============================] - 1s 11ms/step - loss: 0.3462 - accuracy: 0.8015 - val_loss: 1.2114 - val_accuracy: 0.6333\n",
            "Epoch 25/30\n",
            "104/107 [============================>.] - ETA: 0s - loss: 0.3316 - accuracy: 0.8098\n",
            "Epoch 25: val_accuracy did not improve from 0.66833\n",
            "107/107 [==============================] - 1s 10ms/step - loss: 0.3331 - accuracy: 0.8097 - val_loss: 1.3474 - val_accuracy: 0.6367\n",
            "Epoch 26/30\n",
            "104/107 [============================>.] - ETA: 0s - loss: 0.3442 - accuracy: 0.8053\n",
            "Epoch 26: val_accuracy did not improve from 0.66833\n",
            "107/107 [==============================] - 1s 10ms/step - loss: 0.3431 - accuracy: 0.8071 - val_loss: 1.2715 - val_accuracy: 0.6483\n",
            "Epoch 27/30\n",
            "102/107 [===========================>..] - ETA: 0s - loss: 0.3303 - accuracy: 0.8128\n",
            "Epoch 27: val_accuracy did not improve from 0.66833\n",
            "107/107 [==============================] - 1s 10ms/step - loss: 0.3315 - accuracy: 0.8126 - val_loss: 1.2332 - val_accuracy: 0.6350\n",
            "Epoch 28/30\n",
            "106/107 [============================>.] - ETA: 0s - loss: 0.3283 - accuracy: 0.8137\n",
            "Epoch 28: val_accuracy did not improve from 0.66833\n",
            "107/107 [==============================] - 1s 12ms/step - loss: 0.3285 - accuracy: 0.8135 - val_loss: 1.3144 - val_accuracy: 0.6200\n",
            "Epoch 29/30\n",
            "106/107 [============================>.] - ETA: 0s - loss: 0.3255 - accuracy: 0.8125\n",
            "Epoch 29: val_accuracy did not improve from 0.66833\n",
            "107/107 [==============================] - 1s 14ms/step - loss: 0.3254 - accuracy: 0.8124 - val_loss: 1.3958 - val_accuracy: 0.6483\n",
            "Epoch 30/30\n",
            "105/107 [============================>.] - ETA: 0s - loss: 0.3171 - accuracy: 0.8161\n",
            "Epoch 30: val_accuracy did not improve from 0.66833\n",
            "107/107 [==============================] - 1s 13ms/step - loss: 0.3172 - accuracy: 0.8165 - val_loss: 1.4968 - val_accuracy: 0.6333\n"
          ]
        }
      ]
    },
    {
      "cell_type": "markdown",
      "source": [
        "### Classification Report with train_test_split's validation set"
      ],
      "metadata": {
        "id": "mkg1L92F6wIn"
      }
    },
    {
      "cell_type": "code",
      "source": [
        "# Load the saved model\n",
        "model2 = load_model('/content/drive/MyDrive/Colab Notebooks/HOLD/' + \"CNN_BiLSTMModel.h5\")\n",
        "# prediction\n",
        "y_pred = np.argmax(model2.predict(validation_pad_sequences), axis=-1)\n",
        "\n",
        "print(\"F1-Score:\",f1_score(y_valid,y_pred,average='weighted')*100)\n",
        "print(\"Accuracy:\",accuracy_score(y_valid,y_pred)*100)"
      ],
      "metadata": {
        "trusted": true,
        "colab": {
          "base_uri": "https://localhost:8080/"
        },
        "id": "DHj7E_hd53_I",
        "outputId": "c4ffcb7d-55ac-4993-f3ae-e06f775890cf"
      },
      "execution_count": 88,
      "outputs": [
        {
          "output_type": "stream",
          "name": "stdout",
          "text": [
            "19/19 [==============================] - 2s 7ms/step\n",
            "F1-Score: 35.01320132013201\n",
            "Accuracy: 51.5\n"
          ]
        }
      ]
    },
    {
      "cell_type": "code",
      "source": [
        "from sklearn.metrics import classification_report\n",
        "\n",
        "#Show precision and recall per genre\n",
        "report = classification_report(y_valid, y_pred)\n",
        "\n",
        "#print(f\"Accuracy: {accuracy:.4f}\")\n",
        "print(\"Classification Report:\")\n",
        "print(report)"
      ],
      "metadata": {
        "trusted": true,
        "colab": {
          "base_uri": "https://localhost:8080/"
        },
        "id": "inrHhLQf53_I",
        "outputId": "558b491b-62c0-4ef1-c2d2-d83ae604f9e6"
      },
      "execution_count": 89,
      "outputs": [
        {
          "output_type": "stream",
          "name": "stdout",
          "text": [
            "Classification Report:\n",
            "              precision    recall  f1-score   support\n",
            "\n",
            "           0       0.52      1.00      0.68       309\n",
            "           1       0.00      0.00      0.00       291\n",
            "\n",
            "    accuracy                           0.52       600\n",
            "   macro avg       0.26      0.50      0.34       600\n",
            "weighted avg       0.27      0.52      0.35       600\n",
            "\n"
          ]
        }
      ]
    },
    {
      "cell_type": "markdown",
      "source": [
        "### Classification Report after labeled test data revealed"
      ],
      "metadata": {
        "id": "UOK2KvY_6688"
      }
    },
    {
      "cell_type": "code",
      "source": [
        "# Load the saved model\n",
        "model2 = load_model('/content/drive/MyDrive/Colab Notebooks/HOLD/' + \"CNN_BiLSTMModel.h5\")\n",
        "# prediction\n",
        "y_pred = np.argmax(model2.predict(test_pad_sequences), axis=-1)\n",
        "\n",
        "print(\"F1-Score:\",f1_score(y_data_with_label,y_pred,average='weighted')*100)\n",
        "print(\"Accuracy:\",accuracy_score(y_data_with_label,y_pred)*100)"
      ],
      "metadata": {
        "id": "HeHqJGIi6hWd",
        "outputId": "753d5c9c-df28-4350-b1c9-d398853635b4",
        "colab": {
          "base_uri": "https://localhost:8080/"
        }
      },
      "execution_count": 90,
      "outputs": [
        {
          "output_type": "stream",
          "name": "stdout",
          "text": [
            "16/16 [==============================] - 1s 9ms/step\n",
            "F1-Score: 33.22205909144492\n",
            "Accuracy: 49.899799599198396\n"
          ]
        }
      ]
    },
    {
      "cell_type": "code",
      "source": [
        "from sklearn.metrics import classification_report\n",
        "\n",
        "#Show precision and recall per genre\n",
        "report = classification_report(y_data_with_label, y_pred)\n",
        "\n",
        "#print(f\"Accuracy: {accuracy:.4f}\")\n",
        "print(\"Classification Report:\")\n",
        "print(report)"
      ],
      "metadata": {
        "id": "jME0qgHt6pON",
        "outputId": "bbbb06c6-0c5f-4313-d0dd-747bc707d14b",
        "colab": {
          "base_uri": "https://localhost:8080/"
        }
      },
      "execution_count": 91,
      "outputs": [
        {
          "output_type": "stream",
          "name": "stdout",
          "text": [
            "Classification Report:\n",
            "              precision    recall  f1-score   support\n",
            "\n",
            "           0       0.50      1.00      0.67       249\n",
            "           1       0.00      0.00      0.00       250\n",
            "\n",
            "    accuracy                           0.50       499\n",
            "   macro avg       0.25      0.50      0.33       499\n",
            "weighted avg       0.25      0.50      0.33       499\n",
            "\n"
          ]
        }
      ]
    },
    {
      "cell_type": "code",
      "source": [
        "# test_pred = np.argmax(model.predict(test_pad_sequences), axis=-1).tolist()"
      ],
      "metadata": {
        "execution": {
          "iopub.status.busy": "2023-12-06T09:03:37.826588Z",
          "iopub.execute_input": "2023-12-06T09:03:37.827541Z",
          "iopub.status.idle": "2023-12-06T09:03:38.859330Z",
          "shell.execute_reply.started": "2023-12-06T09:03:37.827503Z",
          "shell.execute_reply": "2023-12-06T09:03:38.858377Z"
        },
        "trusted": true,
        "id": "2-YxIFWl53_J"
      },
      "execution_count": null,
      "outputs": []
    },
    {
      "cell_type": "code",
      "source": [
        "# test_data['id'] = test_data.index + 1\n",
        "# run = pd.DataFrame(test_data['id'])\n",
        "# run['text'] = test_data['text']\n",
        "# run['label'] = test_pred\n",
        "# run['label'] = run['label'].apply(actual_label)\n",
        "# run"
      ],
      "metadata": {
        "id": "hH6fGRWw53_J"
      },
      "execution_count": null,
      "outputs": []
    },
    {
      "cell_type": "markdown",
      "source": [
        "## FastText BiGRU"
      ],
      "metadata": {
        "id": "MHVI7E_AeeZZ"
      }
    },
    {
      "cell_type": "code",
      "source": [
        "num_classes = 2\n",
        "\n",
        "accuracy_threshold = 0.99\n",
        "\n",
        "class myCallback(keras.callbacks.Callback):\n",
        "  def on_epoch_end(self, epoch, logs={}):\n",
        "      if(logs.get('accuracy')>accuracy_threshold):\n",
        "        print(\"\\nReached %2.2f%% accuracy so we will stop trianing\" % (accuracy_threshold*100))\n",
        "        self.model.stop_training = True\n",
        "\n",
        "acc_callback = myCallback()\n",
        "# Saved the Best Model\n",
        "filepath = '/content/drive/MyDrive/Colab Notebooks/HOLD/' +\"BiGRUModel_FastText.h5\"\n",
        "checkpoint = keras.callbacks.ModelCheckpoint(filepath, monitor='val_accuracy', verbose=2, save_best_only=True,\n",
        "                                             save_weights_only=False, mode='max')\n",
        "# callback list\n",
        "callback_list = [acc_callback, checkpoint]\n",
        "model = tf.keras.models.Sequential([\n",
        "tf.keras.layers.Embedding(vocab_size, 300, weights=[embedding_matrix],trainable=False, input_length = max_len),\n",
        "# tf.keras.layers.Conv1D(128, 2, activation='relu'),\n",
        "# tf.keras.layers.MaxPooling1D(2),\n",
        "tf.keras.layers.Bidirectional(GRU(units = 200,return_sequences=True,dropout = 0.2)),\n",
        "tf.keras.layers.Flatten(),\n",
        "tf.keras.layers.Dense(1, activation='sigmoid')])\n",
        "\n",
        "model.summary()"
      ],
      "metadata": {
        "colab": {
          "base_uri": "https://localhost:8080/"
        },
        "id": "9-TPQegjeg-z",
        "outputId": "dc5f71a1-d119-42c6-d6c5-4fbc9f50b5aa"
      },
      "execution_count": 81,
      "outputs": [
        {
          "output_type": "stream",
          "name": "stdout",
          "text": [
            "Model: \"sequential_2\"\n",
            "_________________________________________________________________\n",
            " Layer (type)                Output Shape              Param #   \n",
            "=================================================================\n",
            " embedding_2 (Embedding)     (None, 80, 300)           4545300   \n",
            "                                                                 \n",
            " bidirectional_2 (Bidirecti  (None, 80, 400)           602400    \n",
            " onal)                                                           \n",
            "                                                                 \n",
            " flatten_2 (Flatten)         (None, 32000)             0         \n",
            "                                                                 \n",
            " dense_2 (Dense)             (None, 1)                 32001     \n",
            "                                                                 \n",
            "=================================================================\n",
            "Total params: 5179701 (19.76 MB)\n",
            "Trainable params: 634401 (2.42 MB)\n",
            "Non-trainable params: 4545300 (17.34 MB)\n",
            "_________________________________________________________________\n"
          ]
        }
      ]
    },
    {
      "cell_type": "code",
      "source": [
        "model.compile(optimizer=keras.optimizers.Adam(learning_rate=0.001),\n",
        "    loss='binary_crossentropy',\n",
        "    metrics=['accuracy'])\n",
        "\n",
        "history = model.fit(train_pad_sequences,\n",
        "    yy_train,\n",
        "    epochs= 30,\n",
        "    batch_size = 32,\n",
        "    validation_data=(validation_pad_sequences, yy_valid),\n",
        "    verbose = 1,\n",
        "    callbacks = callback_list)"
      ],
      "metadata": {
        "colab": {
          "base_uri": "https://localhost:8080/"
        },
        "id": "FZK0w9a3eoKO",
        "outputId": "eb6aa4dc-89da-44b4-88e0-8f0549567154"
      },
      "execution_count": 82,
      "outputs": [
        {
          "output_type": "stream",
          "name": "stdout",
          "text": [
            "Epoch 1/30\n",
            "107/107 [==============================] - ETA: 0s - loss: 0.6709 - accuracy: 0.5550\n",
            "Epoch 1: val_accuracy improved from -inf to 0.55333, saving model to /content/drive/MyDrive/Colab Notebooks/HOLD/BiGRUModel_FastText.h5\n",
            "107/107 [==============================] - 15s 28ms/step - loss: 0.6709 - accuracy: 0.5550 - val_loss: 0.6683 - val_accuracy: 0.5533\n",
            "Epoch 2/30\n",
            "104/107 [============================>.] - ETA: 0s - loss: 0.6425 - accuracy: 0.6073\n",
            "Epoch 2: val_accuracy improved from 0.55333 to 0.64833, saving model to /content/drive/MyDrive/Colab Notebooks/HOLD/BiGRUModel_FastText.h5\n",
            "107/107 [==============================] - 2s 17ms/step - loss: 0.6422 - accuracy: 0.6085 - val_loss: 0.6391 - val_accuracy: 0.6483\n",
            "Epoch 3/30\n",
            "107/107 [==============================] - ETA: 0s - loss: 0.6139 - accuracy: 0.6435\n",
            "Epoch 3: val_accuracy did not improve from 0.64833\n",
            "107/107 [==============================] - 2s 17ms/step - loss: 0.6139 - accuracy: 0.6435 - val_loss: 0.6483 - val_accuracy: 0.6450\n",
            "Epoch 4/30\n",
            "106/107 [============================>.] - ETA: 0s - loss: 0.5921 - accuracy: 0.6695\n",
            "Epoch 4: val_accuracy did not improve from 0.64833\n",
            "107/107 [==============================] - 3s 24ms/step - loss: 0.5922 - accuracy: 0.6694 - val_loss: 0.6400 - val_accuracy: 0.6450\n",
            "Epoch 5/30\n",
            "107/107 [==============================] - ETA: 0s - loss: 0.5644 - accuracy: 0.6782\n",
            "Epoch 5: val_accuracy did not improve from 0.64833\n",
            "107/107 [==============================] - 3s 25ms/step - loss: 0.5644 - accuracy: 0.6782 - val_loss: 0.6593 - val_accuracy: 0.6217\n",
            "Epoch 6/30\n",
            "105/107 [============================>.] - ETA: 0s - loss: 0.5511 - accuracy: 0.6795\n",
            "Epoch 6: val_accuracy improved from 0.64833 to 0.66167, saving model to /content/drive/MyDrive/Colab Notebooks/HOLD/BiGRUModel_FastText.h5\n",
            "107/107 [==============================] - 3s 29ms/step - loss: 0.5518 - accuracy: 0.6794 - val_loss: 0.6636 - val_accuracy: 0.6617\n",
            "Epoch 7/30\n",
            "105/107 [============================>.] - ETA: 0s - loss: 0.5306 - accuracy: 0.6973\n",
            "Epoch 7: val_accuracy did not improve from 0.66167\n",
            "107/107 [==============================] - 2s 22ms/step - loss: 0.5303 - accuracy: 0.6974 - val_loss: 0.7154 - val_accuracy: 0.6017\n",
            "Epoch 8/30\n",
            "107/107 [==============================] - ETA: 0s - loss: 0.5163 - accuracy: 0.7056\n",
            "Epoch 8: val_accuracy did not improve from 0.66167\n",
            "107/107 [==============================] - 2s 20ms/step - loss: 0.5163 - accuracy: 0.7056 - val_loss: 0.6814 - val_accuracy: 0.6483\n",
            "Epoch 9/30\n",
            "107/107 [==============================] - ETA: 0s - loss: 0.4921 - accuracy: 0.7238\n",
            "Epoch 9: val_accuracy did not improve from 0.66167\n",
            "107/107 [==============================] - 2s 16ms/step - loss: 0.4921 - accuracy: 0.7238 - val_loss: 0.7152 - val_accuracy: 0.6450\n",
            "Epoch 10/30\n",
            "104/107 [============================>.] - ETA: 0s - loss: 0.4836 - accuracy: 0.7317\n",
            "Epoch 10: val_accuracy did not improve from 0.66167\n",
            "107/107 [==============================] - 2s 16ms/step - loss: 0.4827 - accuracy: 0.7324 - val_loss: 0.7224 - val_accuracy: 0.6533\n",
            "Epoch 11/30\n",
            "105/107 [============================>.] - ETA: 0s - loss: 0.4796 - accuracy: 0.7321\n",
            "Epoch 11: val_accuracy did not improve from 0.66167\n",
            "107/107 [==============================] - 2s 21ms/step - loss: 0.4801 - accuracy: 0.7321 - val_loss: 0.7493 - val_accuracy: 0.6233\n",
            "Epoch 12/30\n",
            "106/107 [============================>.] - ETA: 0s - loss: 0.4636 - accuracy: 0.7385\n",
            "Epoch 12: val_accuracy did not improve from 0.66167\n",
            "107/107 [==============================] - 3s 26ms/step - loss: 0.4634 - accuracy: 0.7385 - val_loss: 0.7805 - val_accuracy: 0.6417\n",
            "Epoch 13/30\n",
            "107/107 [==============================] - ETA: 0s - loss: 0.4483 - accuracy: 0.7456\n",
            "Epoch 13: val_accuracy did not improve from 0.66167\n",
            "107/107 [==============================] - 3s 29ms/step - loss: 0.4483 - accuracy: 0.7456 - val_loss: 0.8387 - val_accuracy: 0.6200\n",
            "Epoch 14/30\n",
            "106/107 [============================>.] - ETA: 0s - loss: 0.4379 - accuracy: 0.7518\n",
            "Epoch 14: val_accuracy did not improve from 0.66167\n",
            "107/107 [==============================] - 3s 31ms/step - loss: 0.4377 - accuracy: 0.7518 - val_loss: 0.7954 - val_accuracy: 0.6533\n",
            "Epoch 15/30\n",
            "105/107 [============================>.] - ETA: 0s - loss: 0.4241 - accuracy: 0.7601\n",
            "Epoch 15: val_accuracy did not improve from 0.66167\n",
            "107/107 [==============================] - 2s 19ms/step - loss: 0.4236 - accuracy: 0.7606 - val_loss: 0.8722 - val_accuracy: 0.6350\n",
            "Epoch 16/30\n",
            "104/107 [============================>.] - ETA: 0s - loss: 0.4131 - accuracy: 0.7683\n",
            "Epoch 16: val_accuracy did not improve from 0.66167\n",
            "107/107 [==============================] - 2s 14ms/step - loss: 0.4157 - accuracy: 0.7653 - val_loss: 0.8830 - val_accuracy: 0.6500\n",
            "Epoch 17/30\n",
            "105/107 [============================>.] - ETA: 0s - loss: 0.4233 - accuracy: 0.7577\n",
            "Epoch 17: val_accuracy did not improve from 0.66167\n",
            "107/107 [==============================] - 2s 16ms/step - loss: 0.4233 - accuracy: 0.7576 - val_loss: 0.8718 - val_accuracy: 0.6450\n",
            "Epoch 18/30\n",
            "104/107 [============================>.] - ETA: 0s - loss: 0.4079 - accuracy: 0.7692\n",
            "Epoch 18: val_accuracy did not improve from 0.66167\n",
            "107/107 [==============================] - 2s 15ms/step - loss: 0.4100 - accuracy: 0.7674 - val_loss: 0.8744 - val_accuracy: 0.6333\n",
            "Epoch 19/30\n",
            "106/107 [============================>.] - ETA: 0s - loss: 0.4092 - accuracy: 0.7627\n",
            "Epoch 19: val_accuracy did not improve from 0.66167\n",
            "107/107 [==============================] - 2s 23ms/step - loss: 0.4090 - accuracy: 0.7629 - val_loss: 0.9125 - val_accuracy: 0.6383\n",
            "Epoch 20/30\n",
            "105/107 [============================>.] - ETA: 0s - loss: 0.3888 - accuracy: 0.7792\n",
            "Epoch 20: val_accuracy did not improve from 0.66167\n",
            "107/107 [==============================] - 4s 40ms/step - loss: 0.3869 - accuracy: 0.7809 - val_loss: 0.9723 - val_accuracy: 0.6567\n",
            "Epoch 21/30\n",
            "107/107 [==============================] - ETA: 0s - loss: 0.3803 - accuracy: 0.7847\n",
            "Epoch 21: val_accuracy did not improve from 0.66167\n",
            "107/107 [==============================] - 2s 22ms/step - loss: 0.3803 - accuracy: 0.7847 - val_loss: 1.0313 - val_accuracy: 0.6217\n",
            "Epoch 22/30\n",
            "107/107 [==============================] - ETA: 0s - loss: 0.3775 - accuracy: 0.7876\n",
            "Epoch 22: val_accuracy did not improve from 0.66167\n",
            "107/107 [==============================] - 2s 17ms/step - loss: 0.3775 - accuracy: 0.7876 - val_loss: 0.9835 - val_accuracy: 0.6383\n",
            "Epoch 23/30\n",
            "107/107 [==============================] - ETA: 0s - loss: 0.3695 - accuracy: 0.7874\n",
            "Epoch 23: val_accuracy did not improve from 0.66167\n",
            "107/107 [==============================] - 2s 17ms/step - loss: 0.3695 - accuracy: 0.7874 - val_loss: 1.1295 - val_accuracy: 0.6233\n",
            "Epoch 24/30\n",
            "106/107 [============================>.] - ETA: 0s - loss: 0.3667 - accuracy: 0.7877\n",
            "Epoch 24: val_accuracy did not improve from 0.66167\n",
            "107/107 [==============================] - 2s 17ms/step - loss: 0.3674 - accuracy: 0.7876 - val_loss: 1.1272 - val_accuracy: 0.6383\n",
            "Epoch 25/30\n",
            "104/107 [============================>.] - ETA: 0s - loss: 0.3624 - accuracy: 0.7894\n",
            "Epoch 25: val_accuracy did not improve from 0.66167\n",
            "107/107 [==============================] - 2s 17ms/step - loss: 0.3618 - accuracy: 0.7903 - val_loss: 1.1739 - val_accuracy: 0.6317\n",
            "Epoch 26/30\n",
            "107/107 [==============================] - ETA: 0s - loss: 0.3652 - accuracy: 0.7924\n",
            "Epoch 26: val_accuracy did not improve from 0.66167\n",
            "107/107 [==============================] - 2s 19ms/step - loss: 0.3652 - accuracy: 0.7924 - val_loss: 1.1452 - val_accuracy: 0.6283\n",
            "Epoch 27/30\n",
            "107/107 [==============================] - ETA: 0s - loss: 0.3531 - accuracy: 0.7997\n",
            "Epoch 27: val_accuracy did not improve from 0.66167\n",
            "107/107 [==============================] - 3s 30ms/step - loss: 0.3531 - accuracy: 0.7997 - val_loss: 1.1758 - val_accuracy: 0.6383\n",
            "Epoch 28/30\n",
            "107/107 [==============================] - ETA: 0s - loss: 0.3425 - accuracy: 0.8015\n",
            "Epoch 28: val_accuracy did not improve from 0.66167\n",
            "107/107 [==============================] - 3s 32ms/step - loss: 0.3425 - accuracy: 0.8015 - val_loss: 1.2160 - val_accuracy: 0.6483\n",
            "Epoch 29/30\n",
            "107/107 [==============================] - ETA: 0s - loss: 0.3380 - accuracy: 0.8085\n",
            "Epoch 29: val_accuracy did not improve from 0.66167\n",
            "107/107 [==============================] - 2s 19ms/step - loss: 0.3380 - accuracy: 0.8085 - val_loss: 1.2473 - val_accuracy: 0.6300\n",
            "Epoch 30/30\n",
            "104/107 [============================>.] - ETA: 0s - loss: 0.3351 - accuracy: 0.8032\n",
            "Epoch 30: val_accuracy did not improve from 0.66167\n",
            "107/107 [==============================] - 2s 18ms/step - loss: 0.3346 - accuracy: 0.8035 - val_loss: 1.2567 - val_accuracy: 0.6333\n"
          ]
        }
      ]
    },
    {
      "cell_type": "markdown",
      "source": [
        "### Classification Report with train_test_split validation set"
      ],
      "metadata": {
        "id": "e-rhkGhR7y5S"
      }
    },
    {
      "cell_type": "code",
      "source": [
        "# Load the saved model\n",
        "model = load_model('/content/drive/MyDrive/Colab Notebooks/HOLD/BiGRUModel_FastText.h5')\n",
        "# prediction\n",
        "y_pred = np.argmax(model.predict(validation_pad_sequences), axis=-1)\n",
        "\n",
        "print(\"F1-Score:\",f1_score(y_valid,y_pred,average='weighted')*100)\n",
        "print(\"Accuracy:\",accuracy_score(y_valid,y_pred)*100)"
      ],
      "metadata": {
        "colab": {
          "base_uri": "https://localhost:8080/"
        },
        "id": "tQ9eZP_pe8gs",
        "outputId": "b836af6a-3e74-4ea6-f2d4-dd01714b6284"
      },
      "execution_count": 92,
      "outputs": [
        {
          "output_type": "stream",
          "name": "stdout",
          "text": [
            "19/19 [==============================] - 1s 7ms/step\n",
            "F1-Score: 35.01320132013201\n",
            "Accuracy: 51.5\n"
          ]
        }
      ]
    },
    {
      "cell_type": "code",
      "source": [
        "from sklearn.metrics import classification_report\n",
        "\n",
        "#Show precision and recall per genre\n",
        "report = classification_report(y_valid, y_pred)\n",
        "\n",
        "#print(f\"Accuracy: {accuracy:.4f}\")\n",
        "print(\"Classification Report:\")\n",
        "print(report)"
      ],
      "metadata": {
        "colab": {
          "base_uri": "https://localhost:8080/"
        },
        "id": "WLMXTOfxfGe7",
        "outputId": "c258f54f-083f-4d97-b9ed-e58b65ec8b5d"
      },
      "execution_count": 93,
      "outputs": [
        {
          "output_type": "stream",
          "name": "stdout",
          "text": [
            "Classification Report:\n",
            "              precision    recall  f1-score   support\n",
            "\n",
            "           0       0.52      1.00      0.68       309\n",
            "           1       0.00      0.00      0.00       291\n",
            "\n",
            "    accuracy                           0.52       600\n",
            "   macro avg       0.26      0.50      0.34       600\n",
            "weighted avg       0.27      0.52      0.35       600\n",
            "\n"
          ]
        }
      ]
    },
    {
      "cell_type": "markdown",
      "source": [
        "### Classification Report after labeled test data revealed"
      ],
      "metadata": {
        "id": "lCNAus_t79KF"
      }
    },
    {
      "cell_type": "code",
      "source": [
        "# Load the saved model\n",
        "model = load_model('/content/drive/MyDrive/Colab Notebooks/HOLD/BiGRUModel_FastText.h5')\n",
        "# prediction\n",
        "y_pred = np.argmax(model.predict(test_pad_sequences), axis=-1)\n",
        "\n",
        "print(\"F1-Score:\",f1_score(y_data_with_label,y_pred,average='weighted')*100)\n",
        "print(\"Accuracy:\",accuracy_score(y_data_with_label,y_pred)*100)"
      ],
      "metadata": {
        "id": "IPlcDs0C8C1X",
        "outputId": "214159b3-47bd-4f90-8bf8-cb392fcb9816",
        "colab": {
          "base_uri": "https://localhost:8080/"
        }
      },
      "execution_count": 94,
      "outputs": [
        {
          "output_type": "stream",
          "name": "stdout",
          "text": [
            "16/16 [==============================] - 1s 9ms/step\n",
            "F1-Score: 33.22205909144492\n",
            "Accuracy: 49.899799599198396\n"
          ]
        }
      ]
    },
    {
      "cell_type": "code",
      "source": [
        "from sklearn.metrics import classification_report\n",
        "\n",
        "#Show precision and recall per genre\n",
        "report = classification_report(y_data_with_label, y_pred)\n",
        "\n",
        "#print(f\"Accuracy: {accuracy:.4f}\")\n",
        "print(\"Classification Report:\")\n",
        "print(report)"
      ],
      "metadata": {
        "id": "LfQWksjz8boM",
        "outputId": "75c0a627-ca1c-4a3c-ba43-dc2d2379ffa4",
        "colab": {
          "base_uri": "https://localhost:8080/"
        }
      },
      "execution_count": 87,
      "outputs": [
        {
          "output_type": "stream",
          "name": "stdout",
          "text": [
            "Classification Report:\n",
            "              precision    recall  f1-score   support\n",
            "\n",
            "           0       0.50      1.00      0.67       249\n",
            "           1       0.00      0.00      0.00       250\n",
            "\n",
            "    accuracy                           0.50       499\n",
            "   macro avg       0.25      0.50      0.33       499\n",
            "weighted avg       0.25      0.50      0.33       499\n",
            "\n"
          ]
        }
      ]
    },
    {
      "cell_type": "markdown",
      "source": [
        "# Pretrained BERT MODELS By Pytorch"
      ],
      "metadata": {
        "id": "cbkEN7DSSiQL"
      }
    },
    {
      "cell_type": "code",
      "source": [
        "!pip install transformers"
      ],
      "metadata": {
        "execution": {
          "iopub.status.busy": "2023-12-05T15:33:09.547334Z",
          "iopub.execute_input": "2023-12-05T15:33:09.547716Z",
          "iopub.status.idle": "2023-12-05T15:33:22.099538Z",
          "shell.execute_reply.started": "2023-12-05T15:33:09.547687Z",
          "shell.execute_reply": "2023-12-05T15:33:22.098331Z"
        },
        "trusted": true,
        "id": "QymhpZH553_K",
        "outputId": "d817e318-d30c-441d-bfaf-5bd8f59a45e0"
      },
      "execution_count": null,
      "outputs": [
        {
          "name": "stdout",
          "text": "Requirement already satisfied: transformers in /opt/conda/lib/python3.10/site-packages (4.35.0)\nRequirement already satisfied: filelock in /opt/conda/lib/python3.10/site-packages (from transformers) (3.12.2)\nRequirement already satisfied: huggingface-hub<1.0,>=0.16.4 in /opt/conda/lib/python3.10/site-packages (from transformers) (0.17.3)\nRequirement already satisfied: numpy>=1.17 in /opt/conda/lib/python3.10/site-packages (from transformers) (1.24.3)\nRequirement already satisfied: packaging>=20.0 in /opt/conda/lib/python3.10/site-packages (from transformers) (21.3)\nRequirement already satisfied: pyyaml>=5.1 in /opt/conda/lib/python3.10/site-packages (from transformers) (6.0.1)\nRequirement already satisfied: regex!=2019.12.17 in /opt/conda/lib/python3.10/site-packages (from transformers) (2023.8.8)\nRequirement already satisfied: requests in /opt/conda/lib/python3.10/site-packages (from transformers) (2.31.0)\nRequirement already satisfied: tokenizers<0.15,>=0.14 in /opt/conda/lib/python3.10/site-packages (from transformers) (0.14.1)\nRequirement already satisfied: safetensors>=0.3.1 in /opt/conda/lib/python3.10/site-packages (from transformers) (0.4.0)\nRequirement already satisfied: tqdm>=4.27 in /opt/conda/lib/python3.10/site-packages (from transformers) (4.66.1)\nRequirement already satisfied: fsspec in /opt/conda/lib/python3.10/site-packages (from huggingface-hub<1.0,>=0.16.4->transformers) (2023.10.0)\nRequirement already satisfied: typing-extensions>=3.7.4.3 in /opt/conda/lib/python3.10/site-packages (from huggingface-hub<1.0,>=0.16.4->transformers) (4.5.0)\nRequirement already satisfied: pyparsing!=3.0.5,>=2.0.2 in /opt/conda/lib/python3.10/site-packages (from packaging>=20.0->transformers) (3.0.9)\nRequirement already satisfied: charset-normalizer<4,>=2 in /opt/conda/lib/python3.10/site-packages (from requests->transformers) (3.2.0)\nRequirement already satisfied: idna<4,>=2.5 in /opt/conda/lib/python3.10/site-packages (from requests->transformers) (3.4)\nRequirement already satisfied: urllib3<3,>=1.21.1 in /opt/conda/lib/python3.10/site-packages (from requests->transformers) (1.26.15)\nRequirement already satisfied: certifi>=2017.4.17 in /opt/conda/lib/python3.10/site-packages (from requests->transformers) (2023.7.22)\n",
          "output_type": "stream"
        }
      ]
    },
    {
      "cell_type": "code",
      "source": [
        "import torch\n",
        "import transformers\n",
        "import tensorflow as tf\n",
        "from transformers import DistilBertTokenizer, DistilBertModel   # for distilBERT\n",
        "\n",
        "from transformers import BertTokenizer, BertModel     #for mBERT\n",
        "\n",
        "from transformers import AutoTokenizer, AutoModel    # for pretrained dedicated BERT from Huggingface\n",
        "\n",
        "\n",
        "# Optional: If you want to fine-tune the model on your specific task\n",
        "from transformers import DistilBertForSequenceClassification\n",
        "\n",
        "# Additional imports for dataset handling (if using custom datasets)\n",
        "from torch.utils.data import Dataset, DataLoader\n",
        "# Your custom dataset class import, if applicable\n",
        "# from your_custom_module import NewsDataset\n",
        "\n",
        "from tqdm import tqdm"
      ],
      "metadata": {
        "id": "Y_pwEXRuSl9W",
        "execution": {
          "iopub.status.busy": "2023-12-05T15:33:24.755725Z",
          "iopub.execute_input": "2023-12-05T15:33:24.756521Z",
          "iopub.status.idle": "2023-12-05T15:33:24.762486Z",
          "shell.execute_reply.started": "2023-12-05T15:33:24.756488Z",
          "shell.execute_reply": "2023-12-05T15:33:24.761516Z"
        },
        "trusted": true
      },
      "execution_count": null,
      "outputs": []
    },
    {
      "cell_type": "markdown",
      "source": [
        "## Creating Dataset"
      ],
      "metadata": {
        "id": "3y3p8lx9S43K"
      }
    },
    {
      "cell_type": "code",
      "source": [
        "\n",
        "class NewsDataset(Dataset):\n",
        "    def __init__(self, texts, labels=None, tokenizer=None, max_len=None, source_to_idx=None, is_labeled=True):\n",
        "        self.tokenizer = tokenizer\n",
        "        self.texts = texts\n",
        "        self.labels = labels if is_labeled else None\n",
        "        self.source_to_idx = source_to_idx\n",
        "        self.max_len = max_len\n",
        "        self.is_labeled = is_labeled\n",
        "\n",
        "    def __len__(self):\n",
        "        return len(self.texts)\n",
        "\n",
        "\n",
        "    def __getitem__(self, index):\n",
        "        cleanText = self.texts[index]\n",
        "\n",
        "        inputs = self.tokenizer.encode_plus(\n",
        "            cleanText,\n",
        "            None,\n",
        "            add_special_tokens=True,\n",
        "            max_length=self.max_len,\n",
        "            padding='max_length',\n",
        "            return_token_type_ids=True,\n",
        "            truncation=True\n",
        "        )\n",
        "\n",
        "        if self.is_labeled:\n",
        "            Annotations = self.labels[index]\n",
        "            return {\n",
        "                'ids': torch.tensor(inputs['input_ids'], dtype=torch.long),\n",
        "                'mask': torch.tensor(inputs['attention_mask'], dtype=torch.long),\n",
        "                'targets': torch.tensor(self.source_to_idx[Annotations], dtype=torch.long)\n",
        "            }\n",
        "        else:\n",
        "            return {\n",
        "                'ids': torch.tensor(inputs['input_ids'], dtype=torch.long),\n",
        "                'mask': torch.tensor(inputs['attention_mask'], dtype=torch.long)\n",
        "            }\n",
        "\n",
        "\n",
        "'''\n",
        "    def __getitem__(self, index):\n",
        "        cleanNews = self.texts[index]\n",
        "        Label = self.labels[index]\n",
        "\n",
        "        inputs = self.tokenizer.encode_plus(\n",
        "            cleanNews,\n",
        "            None,\n",
        "            add_special_tokens=True,\n",
        "            max_length=self.max_len,\n",
        "            padding='max_length',\n",
        "            return_token_type_ids=True,\n",
        "            truncation=True\n",
        "        )\n",
        "\n",
        "        return {\n",
        "            'ids': torch.tensor(inputs['input_ids'], dtype=torch.long),\n",
        "            'mask': torch.tensor(inputs['attention_mask'], dtype=torch.long),\n",
        "            'targets': torch.tensor(self.source_to_idx[Label], dtype=torch.long)\n",
        "        }   '''"
      ],
      "metadata": {
        "id": "xG4fiorOSl6z",
        "execution": {
          "iopub.status.busy": "2023-12-05T15:42:45.037293Z",
          "iopub.execute_input": "2023-12-05T15:42:45.037968Z",
          "iopub.status.idle": "2023-12-05T15:42:45.051599Z",
          "shell.execute_reply.started": "2023-12-05T15:42:45.037937Z",
          "shell.execute_reply": "2023-12-05T15:42:45.050728Z"
        },
        "trusted": true,
        "outputId": "2c16a297-4256-47a9-8f38-49934e802a71"
      },
      "execution_count": null,
      "outputs": [
        {
          "execution_count": 42,
          "output_type": "execute_result",
          "data": {
            "text/plain": "\"\\n    def __getitem__(self, index):\\n        cleanNews = self.texts[index]\\n        Label = self.labels[index]\\n\\n        inputs = self.tokenizer.encode_plus(\\n            cleanNews,\\n            None,\\n            add_special_tokens=True,\\n            max_length=self.max_len,\\n            padding='max_length',\\n            return_token_type_ids=True,\\n            truncation=True\\n        )\\n\\n        return {\\n            'ids': torch.tensor(inputs['input_ids'], dtype=torch.long),\\n            'mask': torch.tensor(inputs['attention_mask'], dtype=torch.long),\\n            'targets': torch.tensor(self.source_to_idx[Label], dtype=torch.long)\\n        }   \""
          },
          "metadata": {}
        }
      ]
    },
    {
      "cell_type": "markdown",
      "source": [
        "## Tokenizer"
      ],
      "metadata": {
        "id": "JnKH4SXWTGKF"
      }
    },
    {
      "cell_type": "code",
      "source": [
        "seed_value = 42\n",
        "np.random.seed(seed_value)\n",
        "tf.random.set_seed(seed_value)\n",
        "\n",
        "model_name= 'ai4bharat/indic-bert'\n",
        "\n",
        "tokenizer = transformers.AutoTokenizer.from_pretrained(model_name)        #change transformers.(modify).from_pretrained\n",
        "MAX_LEN = 256\n",
        "BATCH_SIZE = 16\n",
        "\n",
        "unique_sources = ['hate', 'non-hate']\n",
        "source_to_idx = {source: idx for idx, source in enumerate(unique_sources)}\n",
        "\n",
        "# dev_set = NewsDataset(dev_df, tokenizer, MAX_LEN, source_to_idx)"
      ],
      "metadata": {
        "id": "A39WTFC5Sl2s",
        "execution": {
          "iopub.status.busy": "2023-12-05T15:33:55.665052Z",
          "iopub.execute_input": "2023-12-05T15:33:55.665753Z",
          "iopub.status.idle": "2023-12-05T15:33:58.634811Z",
          "shell.execute_reply.started": "2023-12-05T15:33:55.665720Z",
          "shell.execute_reply": "2023-12-05T15:33:58.634000Z"
        },
        "trusted": true,
        "colab": {
          "referenced_widgets": [
            "1bea552b12d4454ab05d0a0ce73b09ff",
            "0a80feeac2ab4d84a26260b7ffb5db0c"
          ]
        },
        "outputId": "e800f470-bd80-4ce3-973c-8ed681f3be34"
      },
      "execution_count": null,
      "outputs": [
        {
          "output_type": "display_data",
          "data": {
            "text/plain": "Downloading config.json:   0%|          | 0.00/507 [00:00<?, ?B/s]",
            "application/vnd.jupyter.widget-view+json": {
              "version_major": 2,
              "version_minor": 0,
              "model_id": "1bea552b12d4454ab05d0a0ce73b09ff"
            }
          },
          "metadata": {}
        },
        {
          "output_type": "display_data",
          "data": {
            "text/plain": "Downloading spiece.model:   0%|          | 0.00/5.65M [00:00<?, ?B/s]",
            "application/vnd.jupyter.widget-view+json": {
              "version_major": 2,
              "version_minor": 0,
              "model_id": "0a80feeac2ab4d84a26260b7ffb5db0c"
            }
          },
          "metadata": {}
        }
      ]
    },
    {
      "cell_type": "code",
      "source": [
        "print(source_to_idx)"
      ],
      "metadata": {
        "execution": {
          "iopub.status.busy": "2023-12-05T15:59:44.583780Z",
          "iopub.execute_input": "2023-12-05T15:59:44.584147Z",
          "iopub.status.idle": "2023-12-05T15:59:44.589199Z",
          "shell.execute_reply.started": "2023-12-05T15:59:44.584116Z",
          "shell.execute_reply": "2023-12-05T15:59:44.588216Z"
        },
        "trusted": true,
        "id": "FbcPnwoK53_N",
        "outputId": "cb6c8b70-431f-4281-d7f1-b4508158337a"
      },
      "execution_count": null,
      "outputs": [
        {
          "name": "stdout",
          "text": "{'hate': 0, 'non-hate': 1}\n",
          "output_type": "stream"
        }
      ]
    },
    {
      "cell_type": "code",
      "source": [
        "X_train_text = Xx_train.tolist()\n",
        "y_train_labels = yy_train.tolist()\n",
        "X_data_with_label_text = XX_data_with_label.tolist()\n",
        "X_data_with_label_labels = yX_data_with_label.tolist()\n",
        "X_test_text = test_df['cleanText'].tolist()"
      ],
      "metadata": {
        "execution": {
          "iopub.status.busy": "2023-12-05T15:47:25.570887Z",
          "iopub.execute_input": "2023-12-05T15:47:25.571568Z",
          "iopub.status.idle": "2023-12-05T15:47:25.576696Z",
          "shell.execute_reply.started": "2023-12-05T15:47:25.571535Z",
          "shell.execute_reply": "2023-12-05T15:47:25.575764Z"
        },
        "trusted": true,
        "id": "QmqgN4-j53_O"
      },
      "execution_count": null,
      "outputs": []
    },
    {
      "cell_type": "code",
      "source": [
        "train_set = NewsDataset(X_train_text, y_train_labels, tokenizer=tokenizer, max_len=MAX_LEN, source_to_idx=source_to_idx, is_labeled=True)\n",
        "valid_set = NewsDataset(X_data_with_label_text, X_data_with_label_labels, tokenizer=tokenizer, max_len=MAX_LEN, source_to_idx=source_to_idx, is_labeled=True)\n",
        "test_set = NewsDataset(X_test_text, tokenizer=tokenizer, max_len=MAX_LEN, source_to_idx=source_to_idx, is_labeled=False)"
      ],
      "metadata": {
        "execution": {
          "iopub.status.busy": "2023-12-05T15:47:27.696481Z",
          "iopub.execute_input": "2023-12-05T15:47:27.697600Z",
          "iopub.status.idle": "2023-12-05T15:47:27.702988Z",
          "shell.execute_reply.started": "2023-12-05T15:47:27.697563Z",
          "shell.execute_reply": "2023-12-05T15:47:27.701887Z"
        },
        "trusted": true,
        "id": "BiSQZ4k053_O"
      },
      "execution_count": null,
      "outputs": []
    },
    {
      "cell_type": "code",
      "source": [
        "train_loader = DataLoader(train_set, batch_size=BATCH_SIZE, shuffle=True)\n",
        "dev_loader = DataLoader(valid_set, batch_size=BATCH_SIZE, shuffle=False)\n",
        "test_loader = DataLoader(test_set, batch_size=BATCH_SIZE, shuffle=False)"
      ],
      "metadata": {
        "execution": {
          "iopub.status.busy": "2023-12-05T15:47:33.779930Z",
          "iopub.execute_input": "2023-12-05T15:47:33.780309Z",
          "iopub.status.idle": "2023-12-05T15:47:33.785260Z",
          "shell.execute_reply.started": "2023-12-05T15:47:33.780279Z",
          "shell.execute_reply": "2023-12-05T15:47:33.784292Z"
        },
        "trusted": true,
        "id": "1NtGtrY-53_P"
      },
      "execution_count": null,
      "outputs": []
    },
    {
      "cell_type": "markdown",
      "source": [
        "## Creating the source model classifier"
      ],
      "metadata": {
        "id": "9CBVCmLBTXHu"
      }
    },
    {
      "cell_type": "code",
      "source": [
        "## for multiclass classification and Class imbalance handling\n",
        "class SourceClassifier(torch.nn.Module):\n",
        "    def __init__(self, class_weights):             #if no class imbalance remove class_weights argument from __init__ fun\n",
        "        super(SourceClassifier, self).__init__()\n",
        "        self.distilbert = transformers.BertModel.from_pretrained(model_name)    #change transformers.(modify).from_pretrained\n",
        "        self.dropout = torch.nn.Dropout(0.3)\n",
        "        self.output = torch.nn.Linear(768, len(train_df['enc_label'].unique()))\n",
        "        self.class_weights = class_weights   #this line is only for class imbalance handling\n",
        "\n",
        "    def forward(self, ids, mask):\n",
        "        output = self.distilbert(ids, attention_mask=mask)\n",
        "        output = self.dropout(output[0][:, 0, :])\n",
        "        output = self.output(output)\n",
        "        return output"
      ],
      "metadata": {
        "id": "JBU5OzAySlnS",
        "execution": {
          "iopub.status.busy": "2023-12-05T15:53:34.421313Z",
          "iopub.execute_input": "2023-12-05T15:53:34.422005Z",
          "iopub.status.idle": "2023-12-05T15:53:34.429479Z",
          "shell.execute_reply.started": "2023-12-05T15:53:34.421953Z",
          "shell.execute_reply": "2023-12-05T15:53:34.428526Z"
        },
        "trusted": true
      },
      "execution_count": null,
      "outputs": []
    },
    {
      "cell_type": "markdown",
      "source": [
        "### Forward Pass"
      ],
      "metadata": {
        "id": "X9eugPwuTpj2"
      }
    },
    {
      "cell_type": "code",
      "source": [
        "from sklearn.utils.class_weight import compute_class_weight\n",
        "\n",
        "train_df['cleanText'] = train_df['cleanText'].astype(str)\n",
        "\n",
        "class_values = train_df['enc_label'].unique()\n",
        "class_weights = compute_class_weight('balanced', classes=class_values, y= train_df['enc_label'])\n",
        "\n",
        "# Convert class weights to tensor\n",
        "class_weights_tensor = torch.tensor(class_weights, dtype=torch.float32)\n",
        "\n",
        "# Initialize model with class weights\n",
        "model = SourceClassifier(class_weights_tensor)\n",
        "#criterion = torch.nn.CrossEntropyLoss(weight=class_weights_tensor)\n",
        "\n",
        "###IF class imbalance is not present write just 3 lines below and avoid lines above\n",
        "\n",
        "#model = SourceClassifier()\n",
        "device = torch.device(\"cuda\" if torch.cuda.is_available() else \"cpu\")  ## this enables GPU when it's available else runs in CPU\n",
        "model.to(device)"
      ],
      "metadata": {
        "id": "kyypRfc7SlkF",
        "execution": {
          "iopub.status.busy": "2023-12-05T15:53:36.485710Z",
          "iopub.execute_input": "2023-12-05T15:53:36.486079Z",
          "iopub.status.idle": "2023-12-05T15:53:40.769479Z",
          "shell.execute_reply.started": "2023-12-05T15:53:36.486050Z",
          "shell.execute_reply": "2023-12-05T15:53:40.768537Z"
        },
        "trusted": true,
        "outputId": "7ff00e00-f7c4-4fd4-d60f-433c4a6717a0"
      },
      "execution_count": null,
      "outputs": [
        {
          "name": "stderr",
          "text": "You are using a model of type albert to instantiate a model of type bert. This is not supported for all configurations of models and can yield errors.\nSome weights of BertModel were not initialized from the model checkpoint at ai4bharat/indic-bert and are newly initialized: ['encoder.layer.4.attention.self.value.bias', 'encoder.layer.10.attention.self.value.bias', 'encoder.layer.5.attention.output.LayerNorm.weight', 'encoder.layer.9.attention.self.key.bias', 'encoder.layer.11.output.dense.bias', 'encoder.layer.6.intermediate.dense.bias', 'encoder.layer.2.attention.self.query.bias', 'encoder.layer.8.output.dense.bias', 'encoder.layer.2.attention.output.LayerNorm.weight', 'encoder.layer.9.attention.output.dense.weight', 'encoder.layer.8.attention.output.dense.weight', 'encoder.layer.8.intermediate.dense.weight', 'encoder.layer.6.attention.self.key.bias', 'encoder.layer.9.output.LayerNorm.weight', 'encoder.layer.1.output.dense.bias', 'encoder.layer.0.attention.self.key.bias', 'encoder.layer.5.output.LayerNorm.weight', 'encoder.layer.8.output.LayerNorm.weight', 'encoder.layer.10.output.dense.bias', 'encoder.layer.2.output.LayerNorm.bias', 'encoder.layer.10.attention.self.query.weight', 'encoder.layer.4.attention.self.key.bias', 'encoder.layer.11.attention.self.value.bias', 'encoder.layer.5.output.LayerNorm.bias', 'encoder.layer.3.output.dense.weight', 'encoder.layer.8.attention.self.value.weight', 'encoder.layer.9.attention.self.query.weight', 'encoder.layer.7.attention.self.value.weight', 'encoder.layer.2.attention.output.dense.weight', 'encoder.layer.8.output.dense.weight', 'encoder.layer.1.attention.self.query.weight', 'encoder.layer.3.attention.self.query.weight', 'encoder.layer.0.intermediate.dense.weight', 'encoder.layer.1.output.dense.weight', 'encoder.layer.5.output.dense.bias', 'encoder.layer.8.attention.self.query.bias', 'encoder.layer.3.output.LayerNorm.bias', 'encoder.layer.10.attention.self.key.weight', 'encoder.layer.2.intermediate.dense.bias', 'encoder.layer.3.attention.self.key.weight', 'encoder.layer.11.output.dense.weight', 'encoder.layer.6.attention.self.value.weight', 'embeddings.LayerNorm.weight', 'encoder.layer.10.output.LayerNorm.bias', 'encoder.layer.3.attention.output.LayerNorm.bias', 'encoder.layer.11.attention.output.dense.weight', 'encoder.layer.9.attention.self.value.bias', 'encoder.layer.9.output.LayerNorm.bias', 'encoder.layer.8.attention.output.dense.bias', 'encoder.layer.0.attention.output.dense.bias', 'encoder.layer.0.attention.self.key.weight', 'encoder.layer.7.output.LayerNorm.weight', 'encoder.layer.1.attention.self.key.weight', 'encoder.layer.8.attention.output.LayerNorm.bias', 'encoder.layer.10.attention.self.query.bias', 'pooler.dense.bias', 'encoder.layer.9.attention.self.key.weight', 'encoder.layer.7.attention.self.query.weight', 'encoder.layer.2.intermediate.dense.weight', 'encoder.layer.11.intermediate.dense.bias', 'encoder.layer.2.attention.self.key.weight', 'encoder.layer.6.output.LayerNorm.bias', 'encoder.layer.11.attention.output.LayerNorm.bias', 'encoder.layer.10.intermediate.dense.bias', 'encoder.layer.1.output.LayerNorm.weight', 'encoder.layer.2.output.dense.bias', 'encoder.layer.5.attention.self.key.weight', 'encoder.layer.11.output.LayerNorm.bias', 'encoder.layer.0.output.LayerNorm.weight', 'encoder.layer.1.attention.output.LayerNorm.bias', 'encoder.layer.8.attention.self.key.bias', 'encoder.layer.4.output.LayerNorm.weight', 'encoder.layer.3.attention.output.LayerNorm.weight', 'encoder.layer.11.attention.self.value.weight', 'encoder.layer.0.attention.output.dense.weight', 'encoder.layer.4.output.dense.bias', 'encoder.layer.0.attention.self.value.bias', 'encoder.layer.4.output.LayerNorm.bias', 'encoder.layer.0.intermediate.dense.bias', 'encoder.layer.1.attention.self.value.bias', 'encoder.layer.7.attention.self.value.bias', 'encoder.layer.0.attention.self.query.weight', 'encoder.layer.1.attention.self.key.bias', 'encoder.layer.4.output.dense.weight', 'encoder.layer.7.output.LayerNorm.bias', 'encoder.layer.10.intermediate.dense.weight', 'encoder.layer.6.attention.output.LayerNorm.bias', 'encoder.layer.3.attention.output.dense.weight', 'encoder.layer.0.attention.self.query.bias', 'encoder.layer.1.attention.output.LayerNorm.weight', 'encoder.layer.0.output.dense.weight', 'encoder.layer.5.attention.output.LayerNorm.bias', 'encoder.layer.6.output.dense.weight', 'encoder.layer.3.attention.self.key.bias', 'encoder.layer.4.attention.self.value.weight', 'encoder.layer.4.attention.output.dense.weight', 'encoder.layer.7.attention.self.query.bias', 'encoder.layer.11.intermediate.dense.weight', 'encoder.layer.5.attention.self.value.weight', 'encoder.layer.7.attention.self.key.weight', 'encoder.layer.10.output.LayerNorm.weight', 'encoder.layer.5.intermediate.dense.weight', 'encoder.layer.10.attention.output.LayerNorm.bias', 'encoder.layer.7.attention.output.LayerNorm.bias', 'embeddings.position_embeddings.weight', 'encoder.layer.0.output.LayerNorm.bias', 'encoder.layer.5.output.dense.weight', 'encoder.layer.5.attention.self.key.bias', 'encoder.layer.10.attention.output.dense.bias', 'encoder.layer.7.output.dense.weight', 'encoder.layer.9.intermediate.dense.bias', 'encoder.layer.2.attention.self.key.bias', 'encoder.layer.6.attention.self.query.weight', 'encoder.layer.0.attention.output.LayerNorm.weight', 'encoder.layer.6.attention.output.dense.weight', 'encoder.layer.5.attention.self.query.bias', 'encoder.layer.7.attention.self.key.bias', 'encoder.layer.6.attention.self.query.bias', 'encoder.layer.5.attention.self.value.bias', 'encoder.layer.10.attention.self.value.weight', 'encoder.layer.11.attention.self.key.bias', 'encoder.layer.4.attention.output.dense.bias', 'encoder.layer.8.attention.self.key.weight', 'encoder.layer.10.attention.output.dense.weight', 'encoder.layer.3.attention.self.query.bias', 'encoder.layer.6.attention.self.value.bias', 'encoder.layer.3.output.dense.bias', 'encoder.layer.10.attention.output.LayerNorm.weight', 'encoder.layer.1.output.LayerNorm.bias', 'encoder.layer.11.attention.self.key.weight', 'encoder.layer.8.attention.self.query.weight', 'encoder.layer.0.attention.self.value.weight', 'encoder.layer.3.attention.self.value.bias', 'encoder.layer.7.attention.output.LayerNorm.weight', 'encoder.layer.6.intermediate.dense.weight', 'encoder.layer.9.output.dense.weight', 'encoder.layer.5.intermediate.dense.bias', 'encoder.layer.5.attention.output.dense.weight', 'encoder.layer.8.attention.self.value.bias', 'encoder.layer.9.output.dense.bias', 'encoder.layer.5.attention.output.dense.bias', 'encoder.layer.9.attention.output.LayerNorm.weight', 'encoder.layer.9.intermediate.dense.weight', 'encoder.layer.1.attention.self.value.weight', 'encoder.layer.6.attention.self.key.weight', 'encoder.layer.7.attention.output.dense.bias', 'encoder.layer.5.attention.self.query.weight', 'encoder.layer.3.output.LayerNorm.weight', 'encoder.layer.4.attention.self.query.weight', 'encoder.layer.2.output.LayerNorm.weight', 'encoder.layer.7.intermediate.dense.weight', 'encoder.layer.2.attention.self.value.weight', 'encoder.layer.1.attention.output.dense.weight', 'encoder.layer.4.attention.self.query.bias', 'encoder.layer.3.attention.output.dense.bias', 'encoder.layer.4.attention.self.key.weight', 'encoder.layer.7.intermediate.dense.bias', 'encoder.layer.6.attention.output.LayerNorm.weight', 'encoder.layer.0.attention.output.LayerNorm.bias', 'embeddings.token_type_embeddings.weight', 'encoder.layer.3.attention.self.value.weight', 'encoder.layer.2.attention.output.dense.bias', 'encoder.layer.6.output.dense.bias', 'encoder.layer.4.intermediate.dense.weight', 'pooler.dense.weight', 'encoder.layer.8.attention.output.LayerNorm.weight', 'encoder.layer.0.output.dense.bias', 'encoder.layer.1.attention.output.dense.bias', 'encoder.layer.1.intermediate.dense.weight', 'encoder.layer.7.output.dense.bias', 'encoder.layer.8.intermediate.dense.bias', 'encoder.layer.2.attention.self.query.weight', 'encoder.layer.9.attention.output.dense.bias', 'encoder.layer.11.attention.self.query.weight', 'encoder.layer.2.attention.self.value.bias', 'encoder.layer.11.output.LayerNorm.weight', 'encoder.layer.9.attention.self.query.bias', 'encoder.layer.11.attention.self.query.bias', 'encoder.layer.2.output.dense.weight', 'encoder.layer.7.attention.output.dense.weight', 'encoder.layer.11.attention.output.LayerNorm.weight', 'encoder.layer.6.attention.output.dense.bias', 'encoder.layer.1.intermediate.dense.bias', 'embeddings.word_embeddings.weight', 'encoder.layer.2.attention.output.LayerNorm.bias', 'encoder.layer.3.intermediate.dense.bias', 'encoder.layer.4.intermediate.dense.bias', 'encoder.layer.8.output.LayerNorm.bias', 'encoder.layer.10.output.dense.weight', 'encoder.layer.9.attention.output.LayerNorm.bias', 'encoder.layer.10.attention.self.key.bias', 'encoder.layer.1.attention.self.query.bias', 'encoder.layer.9.attention.self.value.weight', 'embeddings.LayerNorm.bias', 'encoder.layer.4.attention.output.LayerNorm.bias', 'encoder.layer.4.attention.output.LayerNorm.weight', 'encoder.layer.6.output.LayerNorm.weight', 'encoder.layer.11.attention.output.dense.bias', 'encoder.layer.3.intermediate.dense.weight']\nYou should probably TRAIN this model on a down-stream task to be able to use it for predictions and inference.\n",
          "output_type": "stream"
        },
        {
          "execution_count": 62,
          "output_type": "execute_result",
          "data": {
            "text/plain": "SourceClassifier(\n  (distilbert): BertModel(\n    (embeddings): BertEmbeddings(\n      (word_embeddings): Embedding(200000, 768, padding_idx=0)\n      (position_embeddings): Embedding(512, 768)\n      (token_type_embeddings): Embedding(2, 768)\n      (LayerNorm): LayerNorm((768,), eps=1e-12, elementwise_affine=True)\n      (dropout): Dropout(p=0, inplace=False)\n    )\n    (encoder): BertEncoder(\n      (layer): ModuleList(\n        (0-11): 12 x BertLayer(\n          (attention): BertAttention(\n            (self): BertSelfAttention(\n              (query): Linear(in_features=768, out_features=768, bias=True)\n              (key): Linear(in_features=768, out_features=768, bias=True)\n              (value): Linear(in_features=768, out_features=768, bias=True)\n              (dropout): Dropout(p=0, inplace=False)\n            )\n            (output): BertSelfOutput(\n              (dense): Linear(in_features=768, out_features=768, bias=True)\n              (LayerNorm): LayerNorm((768,), eps=1e-12, elementwise_affine=True)\n              (dropout): Dropout(p=0, inplace=False)\n            )\n          )\n          (intermediate): BertIntermediate(\n            (dense): Linear(in_features=768, out_features=3072, bias=True)\n            (intermediate_act_fn): GELUActivation()\n          )\n          (output): BertOutput(\n            (dense): Linear(in_features=3072, out_features=768, bias=True)\n            (LayerNorm): LayerNorm((768,), eps=1e-12, elementwise_affine=True)\n            (dropout): Dropout(p=0, inplace=False)\n          )\n        )\n      )\n    )\n    (pooler): BertPooler(\n      (dense): Linear(in_features=768, out_features=768, bias=True)\n      (activation): Tanh()\n    )\n  )\n  (dropout): Dropout(p=0.3, inplace=False)\n  (output): Linear(in_features=768, out_features=2, bias=True)\n)"
          },
          "metadata": {}
        }
      ]
    },
    {
      "cell_type": "markdown",
      "source": [
        "## Training And Testing"
      ],
      "metadata": {
        "id": "vp1polX_T6kP"
      }
    },
    {
      "cell_type": "code",
      "source": [
        "EPOCHS = 10\n",
        "LEARNING_RATE = 3e-5\n",
        "optimizer = torch.optim.Adam(params=model.parameters(), lr=LEARNING_RATE)\n",
        "loss_function = torch.nn.CrossEntropyLoss(weight=class_weights_tensor).to(device)\n",
        "\n",
        "#train_loader = DataLoader(train_set, batch_size=BATCH_SIZE, shuffle=True)\n",
        "#dev_loader = DataLoader(dev_set, batch_size=BATCH_SIZE, shuffle=True)"
      ],
      "metadata": {
        "id": "U0E7VDtSSlho",
        "execution": {
          "iopub.status.busy": "2023-12-05T15:54:34.869104Z",
          "iopub.execute_input": "2023-12-05T15:54:34.869485Z",
          "iopub.status.idle": "2023-12-05T15:54:34.876891Z",
          "shell.execute_reply.started": "2023-12-05T15:54:34.869456Z",
          "shell.execute_reply": "2023-12-05T15:54:34.875786Z"
        },
        "trusted": true
      },
      "execution_count": null,
      "outputs": []
    },
    {
      "cell_type": "markdown",
      "source": [
        "### See what learning rate to set(Optional)"
      ],
      "metadata": {
        "id": "1lnYlyFNUEcQ"
      }
    },
    {
      "cell_type": "code",
      "source": [
        "optimizer = torch.optim.Adam(model.parameters(), lr=1e-7)        ### Change here 1e-7-->1.7e-6\n",
        "num_epochs = 3  # Set the number of epochs for LR range testing\n",
        "best_loss = float('inf')\n",
        "for epoch in range(num_epochs):\n",
        "    model.train()\n",
        "    for batch in train_loader:\n",
        "        # Process your batch and perform training steps\n",
        "        ids = batch['ids'].to(device)\n",
        "        mask = batch['mask'].to(device)\n",
        "        targets = batch['targets'].to(device)\n",
        "\n",
        "        optimizer.zero_grad()\n",
        "        outputs = model(ids.to(device), mask.to(device))\n",
        "        outputs = outputs.to(device)\n",
        "        loss = loss_function(outputs, targets.to(device))\n",
        "        loss.backward()\n",
        "        optimizer.step()\n",
        "\n",
        "        # Track the best loss during LR range test\n",
        "        if loss < best_loss:\n",
        "            best_loss = loss\n",
        "\n",
        "            # Update the learning rate in a range suitable for LR test\n",
        "            optimizer.param_groups[0]['lr'] *= 1.5  # Adjust the LR update factor as needed\n",
        "\n",
        "# The best learning rate will be around optimizer.param_groups[0]['lr']\n",
        "print(f\"Best learning rate: {optimizer.param_groups[0]['lr']}\")"
      ],
      "metadata": {
        "id": "KLxWH1LjUD8t",
        "execution": {
          "iopub.status.busy": "2023-12-05T15:58:06.094021Z",
          "iopub.execute_input": "2023-12-05T15:58:06.094879Z",
          "iopub.status.idle": "2023-12-05T15:58:06.218578Z",
          "shell.execute_reply.started": "2023-12-05T15:58:06.094848Z",
          "shell.execute_reply": "2023-12-05T15:58:06.217196Z"
        },
        "trusted": true,
        "outputId": "177591da-96b6-4f4b-cda9-94685d563a3c"
      },
      "execution_count": null,
      "outputs": [
        {
          "traceback": [
            "\u001b[0;31m---------------------------------------------------------------------------\u001b[0m",
            "\u001b[0;31mKeyError\u001b[0m                                  Traceback (most recent call last)",
            "Cell \u001b[0;32mIn[65], line 6\u001b[0m\n\u001b[1;32m      4\u001b[0m \u001b[38;5;28;01mfor\u001b[39;00m epoch \u001b[38;5;129;01min\u001b[39;00m \u001b[38;5;28mrange\u001b[39m(num_epochs):\n\u001b[1;32m      5\u001b[0m     model\u001b[38;5;241m.\u001b[39mtrain()\n\u001b[0;32m----> 6\u001b[0m     \u001b[38;5;28;01mfor\u001b[39;00m batch \u001b[38;5;129;01min\u001b[39;00m train_loader:\n\u001b[1;32m      7\u001b[0m         \u001b[38;5;66;03m# Process your batch and perform training steps\u001b[39;00m\n\u001b[1;32m      8\u001b[0m         ids \u001b[38;5;241m=\u001b[39m batch[\u001b[38;5;124m'\u001b[39m\u001b[38;5;124mids\u001b[39m\u001b[38;5;124m'\u001b[39m]\u001b[38;5;241m.\u001b[39mto(device)\n\u001b[1;32m      9\u001b[0m         mask \u001b[38;5;241m=\u001b[39m batch[\u001b[38;5;124m'\u001b[39m\u001b[38;5;124mmask\u001b[39m\u001b[38;5;124m'\u001b[39m]\u001b[38;5;241m.\u001b[39mto(device)\n",
            "File \u001b[0;32m/opt/conda/lib/python3.10/site-packages/torch/utils/data/dataloader.py:634\u001b[0m, in \u001b[0;36m_BaseDataLoaderIter.__next__\u001b[0;34m(self)\u001b[0m\n\u001b[1;32m    631\u001b[0m \u001b[38;5;28;01mif\u001b[39;00m \u001b[38;5;28mself\u001b[39m\u001b[38;5;241m.\u001b[39m_sampler_iter \u001b[38;5;129;01mis\u001b[39;00m \u001b[38;5;28;01mNone\u001b[39;00m:\n\u001b[1;32m    632\u001b[0m     \u001b[38;5;66;03m# TODO(https://github.com/pytorch/pytorch/issues/76750)\u001b[39;00m\n\u001b[1;32m    633\u001b[0m     \u001b[38;5;28mself\u001b[39m\u001b[38;5;241m.\u001b[39m_reset()  \u001b[38;5;66;03m# type: ignore[call-arg]\u001b[39;00m\n\u001b[0;32m--> 634\u001b[0m data \u001b[38;5;241m=\u001b[39m \u001b[38;5;28;43mself\u001b[39;49m\u001b[38;5;241;43m.\u001b[39;49m\u001b[43m_next_data\u001b[49m\u001b[43m(\u001b[49m\u001b[43m)\u001b[49m\n\u001b[1;32m    635\u001b[0m \u001b[38;5;28mself\u001b[39m\u001b[38;5;241m.\u001b[39m_num_yielded \u001b[38;5;241m+\u001b[39m\u001b[38;5;241m=\u001b[39m \u001b[38;5;241m1\u001b[39m\n\u001b[1;32m    636\u001b[0m \u001b[38;5;28;01mif\u001b[39;00m \u001b[38;5;28mself\u001b[39m\u001b[38;5;241m.\u001b[39m_dataset_kind \u001b[38;5;241m==\u001b[39m _DatasetKind\u001b[38;5;241m.\u001b[39mIterable \u001b[38;5;129;01mand\u001b[39;00m \\\n\u001b[1;32m    637\u001b[0m         \u001b[38;5;28mself\u001b[39m\u001b[38;5;241m.\u001b[39m_IterableDataset_len_called \u001b[38;5;129;01mis\u001b[39;00m \u001b[38;5;129;01mnot\u001b[39;00m \u001b[38;5;28;01mNone\u001b[39;00m \u001b[38;5;129;01mand\u001b[39;00m \\\n\u001b[1;32m    638\u001b[0m         \u001b[38;5;28mself\u001b[39m\u001b[38;5;241m.\u001b[39m_num_yielded \u001b[38;5;241m>\u001b[39m \u001b[38;5;28mself\u001b[39m\u001b[38;5;241m.\u001b[39m_IterableDataset_len_called:\n",
            "File \u001b[0;32m/opt/conda/lib/python3.10/site-packages/torch/utils/data/dataloader.py:678\u001b[0m, in \u001b[0;36m_SingleProcessDataLoaderIter._next_data\u001b[0;34m(self)\u001b[0m\n\u001b[1;32m    676\u001b[0m \u001b[38;5;28;01mdef\u001b[39;00m \u001b[38;5;21m_next_data\u001b[39m(\u001b[38;5;28mself\u001b[39m):\n\u001b[1;32m    677\u001b[0m     index \u001b[38;5;241m=\u001b[39m \u001b[38;5;28mself\u001b[39m\u001b[38;5;241m.\u001b[39m_next_index()  \u001b[38;5;66;03m# may raise StopIteration\u001b[39;00m\n\u001b[0;32m--> 678\u001b[0m     data \u001b[38;5;241m=\u001b[39m \u001b[38;5;28;43mself\u001b[39;49m\u001b[38;5;241;43m.\u001b[39;49m\u001b[43m_dataset_fetcher\u001b[49m\u001b[38;5;241;43m.\u001b[39;49m\u001b[43mfetch\u001b[49m\u001b[43m(\u001b[49m\u001b[43mindex\u001b[49m\u001b[43m)\u001b[49m  \u001b[38;5;66;03m# may raise StopIteration\u001b[39;00m\n\u001b[1;32m    679\u001b[0m     \u001b[38;5;28;01mif\u001b[39;00m \u001b[38;5;28mself\u001b[39m\u001b[38;5;241m.\u001b[39m_pin_memory:\n\u001b[1;32m    680\u001b[0m         data \u001b[38;5;241m=\u001b[39m _utils\u001b[38;5;241m.\u001b[39mpin_memory\u001b[38;5;241m.\u001b[39mpin_memory(data, \u001b[38;5;28mself\u001b[39m\u001b[38;5;241m.\u001b[39m_pin_memory_device)\n",
            "File \u001b[0;32m/opt/conda/lib/python3.10/site-packages/torch/utils/data/_utils/fetch.py:51\u001b[0m, in \u001b[0;36m_MapDatasetFetcher.fetch\u001b[0;34m(self, possibly_batched_index)\u001b[0m\n\u001b[1;32m     49\u001b[0m         data \u001b[38;5;241m=\u001b[39m \u001b[38;5;28mself\u001b[39m\u001b[38;5;241m.\u001b[39mdataset\u001b[38;5;241m.\u001b[39m__getitems__(possibly_batched_index)\n\u001b[1;32m     50\u001b[0m     \u001b[38;5;28;01melse\u001b[39;00m:\n\u001b[0;32m---> 51\u001b[0m         data \u001b[38;5;241m=\u001b[39m [\u001b[38;5;28mself\u001b[39m\u001b[38;5;241m.\u001b[39mdataset[idx] \u001b[38;5;28;01mfor\u001b[39;00m idx \u001b[38;5;129;01min\u001b[39;00m possibly_batched_index]\n\u001b[1;32m     52\u001b[0m \u001b[38;5;28;01melse\u001b[39;00m:\n\u001b[1;32m     53\u001b[0m     data \u001b[38;5;241m=\u001b[39m \u001b[38;5;28mself\u001b[39m\u001b[38;5;241m.\u001b[39mdataset[possibly_batched_index]\n",
            "File \u001b[0;32m/opt/conda/lib/python3.10/site-packages/torch/utils/data/_utils/fetch.py:51\u001b[0m, in \u001b[0;36m<listcomp>\u001b[0;34m(.0)\u001b[0m\n\u001b[1;32m     49\u001b[0m         data \u001b[38;5;241m=\u001b[39m \u001b[38;5;28mself\u001b[39m\u001b[38;5;241m.\u001b[39mdataset\u001b[38;5;241m.\u001b[39m__getitems__(possibly_batched_index)\n\u001b[1;32m     50\u001b[0m     \u001b[38;5;28;01melse\u001b[39;00m:\n\u001b[0;32m---> 51\u001b[0m         data \u001b[38;5;241m=\u001b[39m [\u001b[38;5;28;43mself\u001b[39;49m\u001b[38;5;241;43m.\u001b[39;49m\u001b[43mdataset\u001b[49m\u001b[43m[\u001b[49m\u001b[43midx\u001b[49m\u001b[43m]\u001b[49m \u001b[38;5;28;01mfor\u001b[39;00m idx \u001b[38;5;129;01min\u001b[39;00m possibly_batched_index]\n\u001b[1;32m     52\u001b[0m \u001b[38;5;28;01melse\u001b[39;00m:\n\u001b[1;32m     53\u001b[0m     data \u001b[38;5;241m=\u001b[39m \u001b[38;5;28mself\u001b[39m\u001b[38;5;241m.\u001b[39mdataset[possibly_batched_index]\n",
            "Cell \u001b[0;32mIn[42], line 32\u001b[0m, in \u001b[0;36mNewsDataset.__getitem__\u001b[0;34m(self, index)\u001b[0m\n\u001b[1;32m     27\u001b[0m \u001b[38;5;28;01mif\u001b[39;00m \u001b[38;5;28mself\u001b[39m\u001b[38;5;241m.\u001b[39mis_labeled:\n\u001b[1;32m     28\u001b[0m     Annotations \u001b[38;5;241m=\u001b[39m \u001b[38;5;28mself\u001b[39m\u001b[38;5;241m.\u001b[39mlabels[index]\n\u001b[1;32m     29\u001b[0m     \u001b[38;5;28;01mreturn\u001b[39;00m {\n\u001b[1;32m     30\u001b[0m         \u001b[38;5;124m'\u001b[39m\u001b[38;5;124mids\u001b[39m\u001b[38;5;124m'\u001b[39m: torch\u001b[38;5;241m.\u001b[39mtensor(inputs[\u001b[38;5;124m'\u001b[39m\u001b[38;5;124minput_ids\u001b[39m\u001b[38;5;124m'\u001b[39m], dtype\u001b[38;5;241m=\u001b[39mtorch\u001b[38;5;241m.\u001b[39mlong),\n\u001b[1;32m     31\u001b[0m         \u001b[38;5;124m'\u001b[39m\u001b[38;5;124mmask\u001b[39m\u001b[38;5;124m'\u001b[39m: torch\u001b[38;5;241m.\u001b[39mtensor(inputs[\u001b[38;5;124m'\u001b[39m\u001b[38;5;124mattention_mask\u001b[39m\u001b[38;5;124m'\u001b[39m], dtype\u001b[38;5;241m=\u001b[39mtorch\u001b[38;5;241m.\u001b[39mlong),\n\u001b[0;32m---> 32\u001b[0m         \u001b[38;5;124m'\u001b[39m\u001b[38;5;124mtargets\u001b[39m\u001b[38;5;124m'\u001b[39m: torch\u001b[38;5;241m.\u001b[39mtensor(\u001b[38;5;28;43mself\u001b[39;49m\u001b[38;5;241;43m.\u001b[39;49m\u001b[43msource_to_idx\u001b[49m\u001b[43m[\u001b[49m\u001b[43mAnnotations\u001b[49m\u001b[43m]\u001b[49m, dtype\u001b[38;5;241m=\u001b[39mtorch\u001b[38;5;241m.\u001b[39mlong)\n\u001b[1;32m     33\u001b[0m     }\n\u001b[1;32m     34\u001b[0m \u001b[38;5;28;01melse\u001b[39;00m:\n\u001b[1;32m     35\u001b[0m     \u001b[38;5;28;01mreturn\u001b[39;00m {\n\u001b[1;32m     36\u001b[0m         \u001b[38;5;124m'\u001b[39m\u001b[38;5;124mids\u001b[39m\u001b[38;5;124m'\u001b[39m: torch\u001b[38;5;241m.\u001b[39mtensor(inputs[\u001b[38;5;124m'\u001b[39m\u001b[38;5;124minput_ids\u001b[39m\u001b[38;5;124m'\u001b[39m], dtype\u001b[38;5;241m=\u001b[39mtorch\u001b[38;5;241m.\u001b[39mlong),\n\u001b[1;32m     37\u001b[0m         \u001b[38;5;124m'\u001b[39m\u001b[38;5;124mmask\u001b[39m\u001b[38;5;124m'\u001b[39m: torch\u001b[38;5;241m.\u001b[39mtensor(inputs[\u001b[38;5;124m'\u001b[39m\u001b[38;5;124mattention_mask\u001b[39m\u001b[38;5;124m'\u001b[39m], dtype\u001b[38;5;241m=\u001b[39mtorch\u001b[38;5;241m.\u001b[39mlong)\n\u001b[1;32m     38\u001b[0m     }\n",
            "\u001b[0;31mKeyError\u001b[0m: 1"
          ],
          "ename": "KeyError",
          "evalue": "1",
          "output_type": "error"
        }
      ]
    },
    {
      "cell_type": "code",
      "source": [
        "\n",
        "for epoch in range(EPOCHS):\n",
        "    model.train()\n",
        "    train_bar = tqdm(train_loader, desc=f\"Epoch {epoch+1} - Training\")\n",
        "    for batch in train_bar:\n",
        "        ids = batch['ids'].to(device)\n",
        "        mask = batch['mask'].to(device)\n",
        "        targets = batch['targets'].to(device)\n",
        "\n",
        "        optimizer.zero_grad()\n",
        "        outputs = model(ids, mask)\n",
        "        loss = loss_function(outputs, targets)\n",
        "        loss.backward()\n",
        "        optimizer.step()\n",
        "\n",
        "        train_bar.set_postfix(loss=loss.item())\n",
        "\n",
        "    model.eval()\n",
        "    total_loss = 0\n",
        "    total_correct = 0\n",
        "    total_samples = 0"
      ],
      "metadata": {
        "id": "F1oFyLtyUD5i",
        "execution": {
          "iopub.status.busy": "2023-12-04T01:40:12.834263Z",
          "iopub.status.idle": "2023-12-04T01:40:12.834721Z",
          "shell.execute_reply.started": "2023-12-04T01:40:12.834489Z",
          "shell.execute_reply": "2023-12-04T01:40:12.834510Z"
        },
        "trusted": true
      },
      "execution_count": null,
      "outputs": []
    },
    {
      "cell_type": "code",
      "source": [
        "dev_bar = tqdm(dev_loader, desc=f\"Epoch {epoch+1} - Testing\")\n",
        "for batch in dev_bar:\n",
        "    ids = batch['ids'].to(device)\n",
        "    mask = batch['mask'].to(device)\n",
        "    targets = batch['targets'].to(device)\n",
        "\n",
        "    with torch.no_grad():\n",
        "        outputs = model(ids, mask)\n",
        "        loss = loss_function(outputs, targets)\n",
        "        total_loss += loss.item()\n",
        "\n",
        "        _,predicted = torch.max(outputs, 1)\n",
        "        total_correct += (predicted == targets).sum().item()\n",
        "        total_samples += targets.size(0)\n",
        "\n",
        "        dev_bar.set_postfix(loss=loss.item())\n",
        "\n",
        "avg_loss = total_loss / len(dev_loader)\n",
        "accuracy = total_correct / total_samples\n",
        "\n",
        "print(f\"Epoch: {epoch + 1}, Loss: {avg_loss:.4f}, Accuracy: {accuracy:.4f}\")"
      ],
      "metadata": {
        "id": "YApZIapaUD1G",
        "execution": {
          "iopub.status.busy": "2023-12-04T01:40:12.836019Z",
          "iopub.status.idle": "2023-12-04T01:40:12.836477Z",
          "shell.execute_reply.started": "2023-12-04T01:40:12.836226Z",
          "shell.execute_reply": "2023-12-04T01:40:12.836246Z"
        },
        "trusted": true
      },
      "execution_count": null,
      "outputs": []
    },
    {
      "cell_type": "markdown",
      "source": [
        "# ktrain\n",
        "# l3cube-pune/indic-sentence-similarity-sbert"
      ],
      "metadata": {
        "id": "sd-CAe8Ibyxb"
      }
    },
    {
      "cell_type": "code",
      "source": [
        "!pip install ktrain"
      ],
      "metadata": {
        "id": "caZBKu7Rb88A",
        "outputId": "a3b4cc53-5705-4840-a847-f62b89df4b32",
        "execution": {
          "iopub.status.busy": "2023-12-04T01:43:08.811734Z",
          "iopub.execute_input": "2023-12-04T01:43:08.812164Z",
          "iopub.status.idle": "2023-12-04T01:43:53.975454Z",
          "shell.execute_reply.started": "2023-12-04T01:43:08.812114Z",
          "shell.execute_reply": "2023-12-04T01:43:53.974183Z"
        },
        "collapsed": true,
        "jupyter": {
          "outputs_hidden": true
        },
        "trusted": true,
        "colab": {
          "base_uri": "https://localhost:8080/"
        }
      },
      "execution_count": 36,
      "outputs": [
        {
          "output_type": "stream",
          "name": "stdout",
          "text": [
            "Collecting ktrain\n",
            "  Downloading ktrain-0.39.0.tar.gz (25.3 MB)\n",
            "\u001b[2K     \u001b[90m━━━━━━━━━━━━━━━━━━━━━━━━━━━━━━━━━━━━━━━━\u001b[0m \u001b[32m25.3/25.3 MB\u001b[0m \u001b[31m17.9 MB/s\u001b[0m eta \u001b[36m0:00:00\u001b[0m\n",
            "\u001b[?25h  Preparing metadata (setup.py) ... \u001b[?25l\u001b[?25hdone\n",
            "Requirement already satisfied: scikit-learn in /usr/local/lib/python3.10/dist-packages (from ktrain) (1.2.2)\n",
            "Requirement already satisfied: matplotlib>=3.0.0 in /usr/local/lib/python3.10/dist-packages (from ktrain) (3.7.1)\n",
            "Requirement already satisfied: pandas>=1.0.1 in /usr/local/lib/python3.10/dist-packages (from ktrain) (1.5.3)\n",
            "Requirement already satisfied: fastprogress>=0.1.21 in /usr/local/lib/python3.10/dist-packages (from ktrain) (1.0.3)\n",
            "Requirement already satisfied: requests in /usr/local/lib/python3.10/dist-packages (from ktrain) (2.31.0)\n",
            "Requirement already satisfied: joblib in /usr/local/lib/python3.10/dist-packages (from ktrain) (1.3.2)\n",
            "Requirement already satisfied: packaging in /usr/local/lib/python3.10/dist-packages (from ktrain) (23.2)\n",
            "Collecting langdetect (from ktrain)\n",
            "  Downloading langdetect-1.0.9.tar.gz (981 kB)\n",
            "\u001b[2K     \u001b[90m━━━━━━━━━━━━━━━━━━━━━━━━━━━━━━━━━━━━━━━━\u001b[0m \u001b[32m981.5/981.5 kB\u001b[0m \u001b[31m54.6 MB/s\u001b[0m eta \u001b[36m0:00:00\u001b[0m\n",
            "\u001b[?25h  Preparing metadata (setup.py) ... \u001b[?25l\u001b[?25hdone\n",
            "Requirement already satisfied: jieba in /usr/local/lib/python3.10/dist-packages (from ktrain) (0.42.1)\n",
            "Requirement already satisfied: charset-normalizer in /usr/local/lib/python3.10/dist-packages (from ktrain) (3.3.2)\n",
            "Requirement already satisfied: chardet in /usr/local/lib/python3.10/dist-packages (from ktrain) (5.2.0)\n",
            "Collecting syntok>1.3.3 (from ktrain)\n",
            "  Downloading syntok-1.4.4-py3-none-any.whl (24 kB)\n",
            "Collecting tika (from ktrain)\n",
            "  Downloading tika-2.6.0.tar.gz (27 kB)\n",
            "  Preparing metadata (setup.py) ... \u001b[?25l\u001b[?25hdone\n",
            "Requirement already satisfied: transformers>=4.17.0 in /usr/local/lib/python3.10/dist-packages (from ktrain) (4.35.2)\n",
            "Collecting sentencepiece (from ktrain)\n",
            "  Downloading sentencepiece-0.1.99-cp310-cp310-manylinux_2_17_x86_64.manylinux2014_x86_64.whl (1.3 MB)\n",
            "\u001b[2K     \u001b[90m━━━━━━━━━━━━━━━━━━━━━━━━━━━━━━━━━━━━━━━━\u001b[0m \u001b[32m1.3/1.3 MB\u001b[0m \u001b[31m76.4 MB/s\u001b[0m eta \u001b[36m0:00:00\u001b[0m\n",
            "\u001b[?25hCollecting keras_bert>=0.86.0 (from ktrain)\n",
            "  Downloading keras-bert-0.89.0.tar.gz (25 kB)\n",
            "  Preparing metadata (setup.py) ... \u001b[?25l\u001b[?25hdone\n",
            "Collecting whoosh (from ktrain)\n",
            "  Downloading Whoosh-2.7.4-py2.py3-none-any.whl (468 kB)\n",
            "\u001b[2K     \u001b[90m━━━━━━━━━━━━━━━━━━━━━━━━━━━━━━━━━━━━━━━━\u001b[0m \u001b[32m468.8/468.8 kB\u001b[0m \u001b[31m42.3 MB/s\u001b[0m eta \u001b[36m0:00:00\u001b[0m\n",
            "\u001b[?25hRequirement already satisfied: numpy in /usr/local/lib/python3.10/dist-packages (from keras_bert>=0.86.0->ktrain) (1.23.5)\n",
            "Collecting keras-transformer==0.40.0 (from keras_bert>=0.86.0->ktrain)\n",
            "  Downloading keras-transformer-0.40.0.tar.gz (9.7 kB)\n",
            "  Preparing metadata (setup.py) ... \u001b[?25l\u001b[?25hdone\n",
            "Collecting keras-pos-embd==0.13.0 (from keras-transformer==0.40.0->keras_bert>=0.86.0->ktrain)\n",
            "  Downloading keras-pos-embd-0.13.0.tar.gz (5.6 kB)\n",
            "  Preparing metadata (setup.py) ... \u001b[?25l\u001b[?25hdone\n",
            "Collecting keras-multi-head==0.29.0 (from keras-transformer==0.40.0->keras_bert>=0.86.0->ktrain)\n",
            "  Downloading keras-multi-head-0.29.0.tar.gz (13 kB)\n",
            "  Preparing metadata (setup.py) ... \u001b[?25l\u001b[?25hdone\n",
            "Collecting keras-layer-normalization==0.16.0 (from keras-transformer==0.40.0->keras_bert>=0.86.0->ktrain)\n",
            "  Downloading keras-layer-normalization-0.16.0.tar.gz (3.9 kB)\n",
            "  Preparing metadata (setup.py) ... \u001b[?25l\u001b[?25hdone\n",
            "Collecting keras-position-wise-feed-forward==0.8.0 (from keras-transformer==0.40.0->keras_bert>=0.86.0->ktrain)\n",
            "  Downloading keras-position-wise-feed-forward-0.8.0.tar.gz (4.1 kB)\n",
            "  Preparing metadata (setup.py) ... \u001b[?25l\u001b[?25hdone\n",
            "Collecting keras-embed-sim==0.10.0 (from keras-transformer==0.40.0->keras_bert>=0.86.0->ktrain)\n",
            "  Downloading keras-embed-sim-0.10.0.tar.gz (3.6 kB)\n",
            "  Preparing metadata (setup.py) ... \u001b[?25l\u001b[?25hdone\n",
            "Collecting keras-self-attention==0.51.0 (from keras-multi-head==0.29.0->keras-transformer==0.40.0->keras_bert>=0.86.0->ktrain)\n",
            "  Downloading keras-self-attention-0.51.0.tar.gz (11 kB)\n",
            "  Preparing metadata (setup.py) ... \u001b[?25l\u001b[?25hdone\n",
            "Requirement already satisfied: contourpy>=1.0.1 in /usr/local/lib/python3.10/dist-packages (from matplotlib>=3.0.0->ktrain) (1.2.0)\n",
            "Requirement already satisfied: cycler>=0.10 in /usr/local/lib/python3.10/dist-packages (from matplotlib>=3.0.0->ktrain) (0.12.1)\n",
            "Requirement already satisfied: fonttools>=4.22.0 in /usr/local/lib/python3.10/dist-packages (from matplotlib>=3.0.0->ktrain) (4.45.1)\n",
            "Requirement already satisfied: kiwisolver>=1.0.1 in /usr/local/lib/python3.10/dist-packages (from matplotlib>=3.0.0->ktrain) (1.4.5)\n",
            "Requirement already satisfied: pillow>=6.2.0 in /usr/local/lib/python3.10/dist-packages (from matplotlib>=3.0.0->ktrain) (9.4.0)\n",
            "Requirement already satisfied: pyparsing>=2.3.1 in /usr/local/lib/python3.10/dist-packages (from matplotlib>=3.0.0->ktrain) (3.1.1)\n",
            "Requirement already satisfied: python-dateutil>=2.7 in /usr/local/lib/python3.10/dist-packages (from matplotlib>=3.0.0->ktrain) (2.8.2)\n",
            "Requirement already satisfied: pytz>=2020.1 in /usr/local/lib/python3.10/dist-packages (from pandas>=1.0.1->ktrain) (2023.3.post1)\n",
            "Requirement already satisfied: regex>2016 in /usr/local/lib/python3.10/dist-packages (from syntok>1.3.3->ktrain) (2023.6.3)\n",
            "Requirement already satisfied: filelock in /usr/local/lib/python3.10/dist-packages (from transformers>=4.17.0->ktrain) (3.13.1)\n",
            "Requirement already satisfied: huggingface-hub<1.0,>=0.16.4 in /usr/local/lib/python3.10/dist-packages (from transformers>=4.17.0->ktrain) (0.19.4)\n",
            "Requirement already satisfied: pyyaml>=5.1 in /usr/local/lib/python3.10/dist-packages (from transformers>=4.17.0->ktrain) (6.0.1)\n",
            "Requirement already satisfied: tokenizers<0.19,>=0.14 in /usr/local/lib/python3.10/dist-packages (from transformers>=4.17.0->ktrain) (0.15.0)\n",
            "Requirement already satisfied: safetensors>=0.3.1 in /usr/local/lib/python3.10/dist-packages (from transformers>=4.17.0->ktrain) (0.4.1)\n",
            "Requirement already satisfied: tqdm>=4.27 in /usr/local/lib/python3.10/dist-packages (from transformers>=4.17.0->ktrain) (4.66.1)\n",
            "Requirement already satisfied: six in /usr/local/lib/python3.10/dist-packages (from langdetect->ktrain) (1.16.0)\n",
            "Requirement already satisfied: idna<4,>=2.5 in /usr/local/lib/python3.10/dist-packages (from requests->ktrain) (3.6)\n",
            "Requirement already satisfied: urllib3<3,>=1.21.1 in /usr/local/lib/python3.10/dist-packages (from requests->ktrain) (2.0.7)\n",
            "Requirement already satisfied: certifi>=2017.4.17 in /usr/local/lib/python3.10/dist-packages (from requests->ktrain) (2023.11.17)\n",
            "Requirement already satisfied: scipy>=1.3.2 in /usr/local/lib/python3.10/dist-packages (from scikit-learn->ktrain) (1.11.4)\n",
            "Requirement already satisfied: threadpoolctl>=2.0.0 in /usr/local/lib/python3.10/dist-packages (from scikit-learn->ktrain) (3.2.0)\n",
            "Requirement already satisfied: setuptools in /usr/local/lib/python3.10/dist-packages (from tika->ktrain) (67.7.2)\n",
            "Requirement already satisfied: fsspec>=2023.5.0 in /usr/local/lib/python3.10/dist-packages (from huggingface-hub<1.0,>=0.16.4->transformers>=4.17.0->ktrain) (2023.6.0)\n",
            "Requirement already satisfied: typing-extensions>=3.7.4.3 in /usr/local/lib/python3.10/dist-packages (from huggingface-hub<1.0,>=0.16.4->transformers>=4.17.0->ktrain) (4.5.0)\n",
            "Building wheels for collected packages: ktrain, keras_bert, keras-transformer, keras-embed-sim, keras-layer-normalization, keras-multi-head, keras-pos-embd, keras-position-wise-feed-forward, keras-self-attention, langdetect, tika\n",
            "  Building wheel for ktrain (setup.py) ... \u001b[?25l\u001b[?25hdone\n",
            "  Created wheel for ktrain: filename=ktrain-0.39.0-py3-none-any.whl size=25319737 sha256=6da22435f06195fc22d14214b935e84e0c5de3525c5cfae3bb69e2926fd39b95\n",
            "  Stored in directory: /root/.cache/pip/wheels/98/fd/0a/ef6252223f3d2c49b06d18e71c74caa43bbf4c64a8c183a46e\n",
            "  Building wheel for keras_bert (setup.py) ... \u001b[?25l\u001b[?25hdone\n",
            "  Created wheel for keras_bert: filename=keras_bert-0.89.0-py3-none-any.whl size=33499 sha256=dd753ee9cf619fac84118d1dbddc64f383b1a67f1a2053a476a37bc3a4505963\n",
            "  Stored in directory: /root/.cache/pip/wheels/89/0c/04/646b6fdf6375911b42c8d540a8a3fda8d5d77634e5dcbe7b26\n",
            "  Building wheel for keras-transformer (setup.py) ... \u001b[?25l\u001b[?25hdone\n",
            "  Created wheel for keras-transformer: filename=keras_transformer-0.40.0-py3-none-any.whl size=12286 sha256=32cf4a2f01289fdb500fae2eff0377126c43dbe5f09163f3b56c7d9b08ae3453\n",
            "  Stored in directory: /root/.cache/pip/wheels/f2/cb/22/75a0ad376129177f7c95c0d91331a18f5368fd657f4035ba7c\n",
            "  Building wheel for keras-embed-sim (setup.py) ... \u001b[?25l\u001b[?25hdone\n",
            "  Created wheel for keras-embed-sim: filename=keras_embed_sim-0.10.0-py3-none-any.whl size=3943 sha256=a9a73882da66469ae6a782b0bce9245b32eca2fcf7e9552cd3fb3f6e189bd8d8\n",
            "  Stored in directory: /root/.cache/pip/wheels/82/32/c7/fd35d0d1b840a6c7cbd4343f808d10d0f7b87d271a4dbe796f\n",
            "  Building wheel for keras-layer-normalization (setup.py) ... \u001b[?25l\u001b[?25hdone\n",
            "  Created wheel for keras-layer-normalization: filename=keras_layer_normalization-0.16.0-py3-none-any.whl size=4653 sha256=200b77c28dfec166662e6aca11e8d68b7e719d49a5f747577678ddee06cfa395\n",
            "  Stored in directory: /root/.cache/pip/wheels/ed/3a/4b/21db23c0cc56c4b219616e181f258eb7c57d36cc5d056fae9a\n",
            "  Building wheel for keras-multi-head (setup.py) ... \u001b[?25l\u001b[?25hdone\n",
            "  Created wheel for keras-multi-head: filename=keras_multi_head-0.29.0-py3-none-any.whl size=14975 sha256=5ddbbc05498d96f6eb767a191409fe71d3464f9c34fe4e97526fa9e383f5c5a1\n",
            "  Stored in directory: /root/.cache/pip/wheels/cb/23/4b/06d7ae21714f70fcc25b48f972cc8e5e7f4b6b764a038b509d\n",
            "  Building wheel for keras-pos-embd (setup.py) ... \u001b[?25l\u001b[?25hdone\n",
            "  Created wheel for keras-pos-embd: filename=keras_pos_embd-0.13.0-py3-none-any.whl size=6946 sha256=43a4e4666569526fdd9036a1475415fa5c4f8a7f9194ba8005bb0873aba2b692\n",
            "  Stored in directory: /root/.cache/pip/wheels/78/07/1b/b1ca47b6ac338554b75c8f52c54e6a2bfbe1b07d79579979a4\n",
            "  Building wheel for keras-position-wise-feed-forward (setup.py) ... \u001b[?25l\u001b[?25hdone\n",
            "  Created wheel for keras-position-wise-feed-forward: filename=keras_position_wise_feed_forward-0.8.0-py3-none-any.whl size=4968 sha256=3d4ce5a5153dedc7912737fcb64f2358852094cee53142face780c079d7f35eb\n",
            "  Stored in directory: /root/.cache/pip/wheels/c1/6a/04/d1706a53b23b2cb5f9a0a76269bf87925daa1bca09eac01b21\n",
            "  Building wheel for keras-self-attention (setup.py) ... \u001b[?25l\u001b[?25hdone\n",
            "  Created wheel for keras-self-attention: filename=keras_self_attention-0.51.0-py3-none-any.whl size=18895 sha256=b663a4d6d913787963fcc919b4431a39e1c5261ef7def54cef6ac0f1e81cfb94\n",
            "  Stored in directory: /root/.cache/pip/wheels/b8/f7/24/607b483144fb9c47b4ba2c5fba6b68e54aeee2d5bf6c05302e\n",
            "  Building wheel for langdetect (setup.py) ... \u001b[?25l\u001b[?25hdone\n",
            "  Created wheel for langdetect: filename=langdetect-1.0.9-py3-none-any.whl size=993225 sha256=763e1d00b88cb2e46128ad471ae0f306206da2b5749db2fb22c23da05ad27c0d\n",
            "  Stored in directory: /root/.cache/pip/wheels/95/03/7d/59ea870c70ce4e5a370638b5462a7711ab78fba2f655d05106\n",
            "  Building wheel for tika (setup.py) ... \u001b[?25l\u001b[?25hdone\n",
            "  Created wheel for tika: filename=tika-2.6.0-py3-none-any.whl size=32622 sha256=57bebb7a47585c9d5131a34eae873d0f22e7c305643d67977ce56d180d22ffaa\n",
            "  Stored in directory: /root/.cache/pip/wheels/5f/71/c7/b757709531121b1700cffda5b6b0d4aad095fb507ec84316d0\n",
            "Successfully built ktrain keras_bert keras-transformer keras-embed-sim keras-layer-normalization keras-multi-head keras-pos-embd keras-position-wise-feed-forward keras-self-attention langdetect tika\n",
            "Installing collected packages: whoosh, sentencepiece, syntok, langdetect, keras-self-attention, keras-position-wise-feed-forward, keras-pos-embd, keras-layer-normalization, keras-embed-sim, tika, keras-multi-head, keras-transformer, keras_bert, ktrain\n",
            "Successfully installed keras-embed-sim-0.10.0 keras-layer-normalization-0.16.0 keras-multi-head-0.29.0 keras-pos-embd-0.13.0 keras-position-wise-feed-forward-0.8.0 keras-self-attention-0.51.0 keras-transformer-0.40.0 keras_bert-0.89.0 ktrain-0.39.0 langdetect-1.0.9 sentencepiece-0.1.99 syntok-1.4.4 tika-2.6.0 whoosh-2.7.4\n"
          ]
        }
      ]
    },
    {
      "cell_type": "code",
      "source": [
        "%reload_ext autoreload\n",
        "%autoreload 2\n",
        "%matplotlib inline\n",
        "import os\n",
        "os.environ[\"CUDA_DEVICE_ORDER\"] = \"PCI_BUS_ID\"\n",
        "os.environ[\"CUDA_VISIBLE_DEVICES\"] = \"0\""
      ],
      "metadata": {
        "id": "aEdORDT8b5OC",
        "execution": {
          "iopub.status.busy": "2023-12-04T01:43:53.977425Z",
          "iopub.execute_input": "2023-12-04T01:43:53.977929Z",
          "iopub.status.idle": "2023-12-04T01:43:54.072675Z",
          "shell.execute_reply.started": "2023-12-04T01:43:53.977875Z",
          "shell.execute_reply": "2023-12-04T01:43:54.071877Z"
        },
        "jupyter": {
          "source_hidden": true
        },
        "trusted": true
      },
      "execution_count": 37,
      "outputs": []
    },
    {
      "cell_type": "code",
      "source": [
        "import ktrain\n",
        "from ktrain import text"
      ],
      "metadata": {
        "id": "KWkkVcSYciz0",
        "execution": {
          "iopub.status.busy": "2023-12-04T01:43:54.073842Z",
          "iopub.execute_input": "2023-12-04T01:43:54.074152Z",
          "iopub.status.idle": "2023-12-04T01:44:05.845949Z",
          "shell.execute_reply.started": "2023-12-04T01:43:54.074126Z",
          "shell.execute_reply": "2023-12-04T01:44:05.845096Z"
        },
        "jupyter": {
          "source_hidden": true
        },
        "trusted": true
      },
      "execution_count": 38,
      "outputs": []
    },
    {
      "cell_type": "code",
      "source": [
        "categories=['hate','non-hate']"
      ],
      "metadata": {
        "id": "UE_nECS8cNcb",
        "execution": {
          "iopub.status.busy": "2023-12-04T01:44:05.848320Z",
          "iopub.execute_input": "2023-12-04T01:44:05.849813Z",
          "iopub.status.idle": "2023-12-04T01:44:05.954299Z",
          "shell.execute_reply.started": "2023-12-04T01:44:05.849772Z",
          "shell.execute_reply": "2023-12-04T01:44:05.953229Z"
        },
        "jupyter": {
          "source_hidden": true
        },
        "trusted": true
      },
      "execution_count": 39,
      "outputs": []
    },
    {
      "cell_type": "code",
      "source": [
        "import numpy as np\n",
        "import tensorflow as tf\n",
        "\n",
        "# Set random seed for reproducibility\n",
        "np.random.seed(42)\n",
        "tf.random.set_seed(42)"
      ],
      "metadata": {
        "id": "JTC8tk_D93kO"
      },
      "execution_count": 40,
      "outputs": []
    },
    {
      "cell_type": "code",
      "source": [
        "model_name = \"l3cube-pune/indic-sentence-similarity-sbert\"\n",
        "trans = text.Transformer(model_name,maxlen=100,class_names=categories)    #try with mxlen=100"
      ],
      "metadata": {
        "id": "jAI0Dud2cQ0S",
        "outputId": "359f5922-ae77-440d-8590-cec31aa37dbe",
        "execution": {
          "iopub.status.busy": "2023-12-04T01:44:05.955894Z",
          "iopub.execute_input": "2023-12-04T01:44:05.956718Z",
          "iopub.status.idle": "2023-12-04T01:45:38.112991Z",
          "shell.execute_reply.started": "2023-12-04T01:44:05.956686Z",
          "shell.execute_reply": "2023-12-04T01:45:38.112115Z"
        },
        "jupyter": {
          "source_hidden": true
        },
        "trusted": true,
        "colab": {
          "base_uri": "https://localhost:8080/",
          "height": 81,
          "referenced_widgets": [
            "938517513c8c4e14b52c511f2a0612f3",
            "c688388d68a64f5e8144501168fa5187",
            "de2d126ecc2d4e0caede5ebbc72c4254",
            "2f1865d8de7d43388354ba71ca33ad14",
            "dd49ee5fc8ce402dad966a479349b56c",
            "4f421b33540847b680e0dd9816bd6214",
            "43447fdffb9045589b6848258e223168",
            "7030c955a87b499588498b197e72b5c8",
            "bc7a0c38b0264913bb1ceb376da22634",
            "12c0e33d3f7e458b85a92b92216bf2fe",
            "97319b171b754917b74a51a9a17d2367",
            "116ec33856f943838db735673a397cee",
            "56e8dc1790ea4de0baff2c3f206509b3",
            "eef1cb08bb634727b4179456d60f2492",
            "dd7cc3c53b5b4acf8ff7fb5fd8b4eca8",
            "6815b916de45414a9ccaf9ae8cddcac8",
            "ad6e8f1f119a4ceea9ddbc059f5d1f1b",
            "b8cef74c448a4cb6be9e7d963e571c8c",
            "4fed0e6097964903ba615f73ff21b908",
            "5dd74002727649f2a511b5e9b6a68de3",
            "c680e69a02484c05b5ea6ae7ac7e7b86",
            "cd388af043634bdd9bbae8490d6a3e6a"
          ]
        }
      },
      "execution_count": 102,
      "outputs": [
        {
          "output_type": "display_data",
          "data": {
            "text/plain": [
              "config.json:   0%|          | 0.00/676 [00:00<?, ?B/s]"
            ],
            "application/vnd.jupyter.widget-view+json": {
              "version_major": 2,
              "version_minor": 0,
              "model_id": "938517513c8c4e14b52c511f2a0612f3"
            }
          },
          "metadata": {}
        },
        {
          "output_type": "display_data",
          "data": {
            "text/plain": [
              "pytorch_model.bin:   0%|          | 0.00/950M [00:00<?, ?B/s]"
            ],
            "application/vnd.jupyter.widget-view+json": {
              "version_major": 2,
              "version_minor": 0,
              "model_id": "116ec33856f943838db735673a397cee"
            }
          },
          "metadata": {}
        }
      ]
    },
    {
      "cell_type": "code",
      "source": [
        "train = trans.preprocess_train(X_train,y_train)\n",
        "valid = trans.preprocess_test(X_valid,y_valid)\n",
        "test = trans.preprocess_test(X_test,y_data_with_label)"
      ],
      "metadata": {
        "id": "2oHB_9PvcoPL",
        "outputId": "0226d5da-8487-4a83-e9ab-8eda26dd4271",
        "execution": {
          "iopub.status.busy": "2023-12-04T01:45:45.705103Z",
          "iopub.execute_input": "2023-12-04T01:45:45.706014Z",
          "iopub.status.idle": "2023-12-04T01:45:50.850724Z",
          "shell.execute_reply.started": "2023-12-04T01:45:45.705981Z",
          "shell.execute_reply": "2023-12-04T01:45:50.849911Z"
        },
        "jupyter": {
          "source_hidden": true,
          "outputs_hidden": true
        },
        "collapsed": true,
        "trusted": true,
        "colab": {
          "base_uri": "https://localhost:8080/",
          "height": 475,
          "referenced_widgets": [
            "d9accd8a952343999af2a2a86abfff8f",
            "69032b54ce3148f0a66b3f11b83609bf",
            "5fbad6a4354742e5aacd2c09b2fb5b55",
            "be90e1c80a6744d38957f90c6e7573e2",
            "a18bea97121d4b1094032979e7590934",
            "c6ce057e2fe746d0abac55bce48cad31",
            "d5a36bb5742c449ea0dfc0ca454fd201",
            "11a826b8951a439b9647e5fb3a18ee92",
            "3770457988554617932e39a50baccbb0",
            "a357f0cd7d164fb9a4b465731979d5d2",
            "d829bbcbeb6f45bcb721e3bb737bab2a",
            "8cf56fc9bc854403a78d599c92656b33",
            "b50e98b24dc04c0fb659e798550c1394",
            "2e9e3c2b61f64e699189fbb2bf14227d",
            "594598c1b6434e93bd349d8fa983265e",
            "c5a0410ddc8a4e899b21613f4d0a0fd8",
            "55ccdafe9c3e4a56ba2376e5fc4a9bc0",
            "0478335ae8a24f9f98584bae10c1c71f",
            "f9348ffcc0f0442093898ff02d8db534",
            "ac806f30bffc4544a23eee41d65dc024",
            "96c409a1135d45e49a4bff6566adc8ed",
            "4320ece9bf6b4c1ca74de04ccc1fd051",
            "925380a76fec43b2a589aceeaf0da6ed",
            "824f74239e53489aa6508e0b6a6d36ad",
            "948cede7a372446db2889375f3bee7ac",
            "529363f38ea047abb5da9d2c027b20d1",
            "be675bc0ab3b4dfe8298fc708aed8e73",
            "792a5f6336444c0d8c963a8e720e82b0",
            "7674c5fe51284b989bef685f9d6ab817",
            "d93ff724d1b44705a9c0c186b6772b65",
            "701fda7048694980a86ba82a6ef0fd04",
            "4da76e8ac6e342c1aec2db69a88f02b3",
            "9e0db7abffc04e68b2f01c07b491ec5f",
            "a89eb303612744949a5722c082fea59c",
            "af8675b5b57247d58eb97e0917ee32be",
            "10db4460729a4be88b95a2637808ec44",
            "54aa3efd6226408ba169e5ab419ea756",
            "685c3194e18c480594a858e303e2496a",
            "d7be3b72ed6644cf8d89b0488b0f5c60",
            "65de0f9f04034fb69bba8903a9196b31",
            "d71d267ed74a4ee8b8751fdf6a2385c5",
            "e0eedcb5960b4b77860f52fabb2ab4bf",
            "cdab9449ba294b87a0d23767f5d2292d",
            "b088013315874353872057ccc593debf"
          ]
        }
      },
      "execution_count": 103,
      "outputs": [
        {
          "output_type": "stream",
          "name": "stdout",
          "text": [
            "preprocessing train...\n",
            "language: te\n",
            "train sequence lengths:\n",
            "\tmean : 10\n",
            "\t95percentile : 21\n",
            "\t99percentile : 33\n"
          ]
        },
        {
          "output_type": "display_data",
          "data": {
            "text/plain": [
              "tokenizer_config.json:   0%|          | 0.00/585 [00:00<?, ?B/s]"
            ],
            "application/vnd.jupyter.widget-view+json": {
              "version_major": 2,
              "version_minor": 0,
              "model_id": "d9accd8a952343999af2a2a86abfff8f"
            }
          },
          "metadata": {}
        },
        {
          "output_type": "display_data",
          "data": {
            "text/plain": [
              "vocab.txt:   0%|          | 0.00/3.16M [00:00<?, ?B/s]"
            ],
            "application/vnd.jupyter.widget-view+json": {
              "version_major": 2,
              "version_minor": 0,
              "model_id": "8cf56fc9bc854403a78d599c92656b33"
            }
          },
          "metadata": {}
        },
        {
          "output_type": "display_data",
          "data": {
            "text/plain": [
              "tokenizer.json:   0%|          | 0.00/6.41M [00:00<?, ?B/s]"
            ],
            "application/vnd.jupyter.widget-view+json": {
              "version_major": 2,
              "version_minor": 0,
              "model_id": "925380a76fec43b2a589aceeaf0da6ed"
            }
          },
          "metadata": {}
        },
        {
          "output_type": "display_data",
          "data": {
            "text/plain": [
              "special_tokens_map.json:   0%|          | 0.00/125 [00:00<?, ?B/s]"
            ],
            "application/vnd.jupyter.widget-view+json": {
              "version_major": 2,
              "version_minor": 0,
              "model_id": "a89eb303612744949a5722c082fea59c"
            }
          },
          "metadata": {}
        },
        {
          "output_type": "display_data",
          "data": {
            "text/plain": [
              "<IPython.core.display.HTML object>"
            ],
            "text/html": [
              "\n",
              "<style>\n",
              "    /* Turns off some styling */\n",
              "    progress {\n",
              "        /* gets rid of default border in Firefox and Opera. */\n",
              "        border: none;\n",
              "        /* Needs to be in here for Safari polyfill so background images work as expected. */\n",
              "        background-size: auto;\n",
              "    }\n",
              "    progress:not([value]), progress:not([value])::-webkit-progress-bar {\n",
              "        background: repeating-linear-gradient(45deg, #7e7e7e, #7e7e7e 10px, #5c5c5c 10px, #5c5c5c 20px);\n",
              "    }\n",
              "    .progress-bar-interrupted, .progress-bar-interrupted::-webkit-progress-bar {\n",
              "        background: #F44336;\n",
              "    }\n",
              "</style>\n"
            ]
          },
          "metadata": {}
        },
        {
          "output_type": "display_data",
          "data": {
            "text/plain": [
              "<IPython.core.display.HTML object>"
            ],
            "text/html": []
          },
          "metadata": {}
        },
        {
          "output_type": "stream",
          "name": "stdout",
          "text": [
            "Is Multi-Label? False\n",
            "preprocessing test...\n",
            "language: te\n",
            "test sequence lengths:\n",
            "\tmean : 10\n",
            "\t95percentile : 21\n",
            "\t99percentile : 34\n"
          ]
        },
        {
          "output_type": "display_data",
          "data": {
            "text/plain": [
              "<IPython.core.display.HTML object>"
            ],
            "text/html": [
              "\n",
              "<style>\n",
              "    /* Turns off some styling */\n",
              "    progress {\n",
              "        /* gets rid of default border in Firefox and Opera. */\n",
              "        border: none;\n",
              "        /* Needs to be in here for Safari polyfill so background images work as expected. */\n",
              "        background-size: auto;\n",
              "    }\n",
              "    progress:not([value]), progress:not([value])::-webkit-progress-bar {\n",
              "        background: repeating-linear-gradient(45deg, #7e7e7e, #7e7e7e 10px, #5c5c5c 10px, #5c5c5c 20px);\n",
              "    }\n",
              "    .progress-bar-interrupted, .progress-bar-interrupted::-webkit-progress-bar {\n",
              "        background: #F44336;\n",
              "    }\n",
              "</style>\n"
            ]
          },
          "metadata": {}
        },
        {
          "output_type": "display_data",
          "data": {
            "text/plain": [
              "<IPython.core.display.HTML object>"
            ],
            "text/html": []
          },
          "metadata": {}
        },
        {
          "output_type": "stream",
          "name": "stdout",
          "text": [
            "preprocessing test...\n",
            "language: te\n",
            "test sequence lengths:\n",
            "\tmean : 7\n",
            "\t95percentile : 13\n",
            "\t99percentile : 16\n"
          ]
        },
        {
          "output_type": "display_data",
          "data": {
            "text/plain": [
              "<IPython.core.display.HTML object>"
            ],
            "text/html": [
              "\n",
              "<style>\n",
              "    /* Turns off some styling */\n",
              "    progress {\n",
              "        /* gets rid of default border in Firefox and Opera. */\n",
              "        border: none;\n",
              "        /* Needs to be in here for Safari polyfill so background images work as expected. */\n",
              "        background-size: auto;\n",
              "    }\n",
              "    progress:not([value]), progress:not([value])::-webkit-progress-bar {\n",
              "        background: repeating-linear-gradient(45deg, #7e7e7e, #7e7e7e 10px, #5c5c5c 10px, #5c5c5c 20px);\n",
              "    }\n",
              "    .progress-bar-interrupted, .progress-bar-interrupted::-webkit-progress-bar {\n",
              "        background: #F44336;\n",
              "    }\n",
              "</style>\n"
            ]
          },
          "metadata": {}
        },
        {
          "output_type": "display_data",
          "data": {
            "text/plain": [
              "<IPython.core.display.HTML object>"
            ],
            "text/html": []
          },
          "metadata": {}
        }
      ]
    },
    {
      "cell_type": "code",
      "source": [
        "model = trans.get_classifier()\n",
        "learner = ktrain.get_learner(model, train_data=train,val_data=valid, batch_size=16)"
      ],
      "metadata": {
        "id": "WDX1PwovcrM0",
        "execution": {
          "iopub.status.busy": "2023-12-04T01:46:04.136912Z",
          "iopub.execute_input": "2023-12-04T01:46:04.137285Z",
          "iopub.status.idle": "2023-12-04T01:46:08.505866Z",
          "shell.execute_reply.started": "2023-12-04T01:46:04.137253Z",
          "shell.execute_reply": "2023-12-04T01:46:08.504799Z"
        },
        "jupyter": {
          "source_hidden": true
        },
        "trusted": true
      },
      "execution_count": 104,
      "outputs": []
    },
    {
      "cell_type": "code",
      "source": [
        "# learner.lr_find(show_plot = True,max_epochs=10)"
      ],
      "metadata": {
        "execution": {
          "iopub.status.busy": "2023-12-04T01:46:19.942478Z",
          "iopub.execute_input": "2023-12-04T01:46:19.943455Z",
          "iopub.status.idle": "2023-12-04T01:52:24.726063Z",
          "shell.execute_reply.started": "2023-12-04T01:46:19.943415Z",
          "shell.execute_reply": "2023-12-04T01:52:24.725114Z"
        },
        "jupyter": {
          "source_hidden": true,
          "outputs_hidden": true
        },
        "collapsed": true,
        "trusted": true,
        "id": "WHGPTimg53_W"
      },
      "execution_count": null,
      "outputs": []
    },
    {
      "cell_type": "code",
      "source": [
        "learner.fit_onecycle(1e-5,15)   # 15 epochs 77(macro) for 1e-5"
      ],
      "metadata": {
        "id": "arbcJdIXdxWG",
        "execution": {
          "iopub.status.busy": "2023-12-04T01:54:13.573134Z",
          "iopub.execute_input": "2023-12-04T01:54:13.573960Z",
          "iopub.status.idle": "2023-12-04T02:05:53.623540Z",
          "shell.execute_reply.started": "2023-12-04T01:54:13.573929Z",
          "shell.execute_reply": "2023-12-04T02:05:53.622318Z"
        },
        "jupyter": {
          "source_hidden": true,
          "outputs_hidden": true
        },
        "collapsed": true,
        "trusted": true,
        "colab": {
          "base_uri": "https://localhost:8080/"
        },
        "outputId": "969dec1f-5d3a-4327-de6e-0f602aef8da6"
      },
      "execution_count": 105,
      "outputs": [
        {
          "output_type": "stream",
          "name": "stdout",
          "text": [
            "\n",
            "\n",
            "begin training using onecycle policy with max lr of 1e-05...\n",
            "Epoch 1/15\n",
            "213/213 [==============================] - 140s 458ms/step - loss: 0.6914 - accuracy: 0.6238 - val_loss: 0.6865 - val_accuracy: 0.7533\n",
            "Epoch 2/15\n",
            "213/213 [==============================] - 92s 432ms/step - loss: 0.6710 - accuracy: 0.7150 - val_loss: 0.6406 - val_accuracy: 0.7433\n",
            "Epoch 3/15\n",
            "213/213 [==============================] - 89s 418ms/step - loss: 0.6080 - accuracy: 0.7626 - val_loss: 0.5710 - val_accuracy: 0.7700\n",
            "Epoch 4/15\n",
            "213/213 [==============================] - 90s 421ms/step - loss: 0.5346 - accuracy: 0.7909 - val_loss: 0.5427 - val_accuracy: 0.7500\n",
            "Epoch 5/15\n",
            "213/213 [==============================] - 89s 416ms/step - loss: 0.4595 - accuracy: 0.8288 - val_loss: 0.4969 - val_accuracy: 0.7800\n",
            "Epoch 6/15\n",
            "213/213 [==============================] - 91s 427ms/step - loss: 0.3887 - accuracy: 0.8632 - val_loss: 0.5016 - val_accuracy: 0.7867\n",
            "Epoch 7/15\n",
            "213/213 [==============================] - 95s 445ms/step - loss: 0.3320 - accuracy: 0.8809 - val_loss: 0.5055 - val_accuracy: 0.7850\n",
            "Epoch 8/15\n",
            "213/213 [==============================] - 89s 418ms/step - loss: 0.2522 - accuracy: 0.9212 - val_loss: 0.5324 - val_accuracy: 0.7883\n",
            "Epoch 9/15\n",
            "213/213 [==============================] - 89s 416ms/step - loss: 0.2098 - accuracy: 0.9332 - val_loss: 0.5615 - val_accuracy: 0.7917\n",
            "Epoch 10/15\n",
            "213/213 [==============================] - 89s 418ms/step - loss: 0.1553 - accuracy: 0.9579 - val_loss: 0.6204 - val_accuracy: 0.7767\n",
            "Epoch 11/15\n",
            "213/213 [==============================] - 89s 416ms/step - loss: 0.1300 - accuracy: 0.9659 - val_loss: 0.6489 - val_accuracy: 0.7883\n",
            "Epoch 12/15\n",
            "213/213 [==============================] - 90s 421ms/step - loss: 0.1124 - accuracy: 0.9706 - val_loss: 0.6545 - val_accuracy: 0.7900\n",
            "Epoch 13/15\n",
            "213/213 [==============================] - 89s 416ms/step - loss: 0.0894 - accuracy: 0.9791 - val_loss: 0.6728 - val_accuracy: 0.7883\n",
            "Epoch 14/15\n",
            "213/213 [==============================] - 89s 416ms/step - loss: 0.0824 - accuracy: 0.9821 - val_loss: 0.6918 - val_accuracy: 0.7950\n",
            "Epoch 15/15\n",
            "213/213 [==============================] - 91s 426ms/step - loss: 0.0755 - accuracy: 0.9838 - val_loss: 0.6863 - val_accuracy: 0.7917\n"
          ]
        },
        {
          "output_type": "execute_result",
          "data": {
            "text/plain": [
              "<keras.src.callbacks.History at 0x7eaa70e75c30>"
            ]
          },
          "metadata": {},
          "execution_count": 105
        }
      ]
    },
    {
      "cell_type": "markdown",
      "source": [
        "## Classification Report with train_test_split's validation set"
      ],
      "metadata": {
        "id": "Ptm5b2bT-seC"
      }
    },
    {
      "cell_type": "code",
      "source": [
        "learner.validate(class_names=categories)"
      ],
      "metadata": {
        "id": "X7dm0bubep_k",
        "execution": {
          "iopub.status.busy": "2023-12-04T02:06:01.047194Z",
          "iopub.execute_input": "2023-12-04T02:06:01.047497Z",
          "iopub.status.idle": "2023-12-04T02:06:04.673258Z",
          "shell.execute_reply.started": "2023-12-04T02:06:01.047472Z",
          "shell.execute_reply": "2023-12-04T02:06:04.672455Z"
        },
        "jupyter": {
          "source_hidden": true,
          "outputs_hidden": true
        },
        "collapsed": true,
        "trusted": true,
        "colab": {
          "base_uri": "https://localhost:8080/"
        },
        "outputId": "3f07f75f-ed1a-4f6d-9d3e-11d1686fb402"
      },
      "execution_count": 106,
      "outputs": [
        {
          "output_type": "stream",
          "name": "stdout",
          "text": [
            "19/19 [==============================] - 11s 341ms/step\n",
            "              precision    recall  f1-score   support\n",
            "\n",
            "        hate       0.82      0.76      0.79       309\n",
            "    non-hate       0.76      0.83      0.79       291\n",
            "\n",
            "    accuracy                           0.79       600\n",
            "   macro avg       0.79      0.79      0.79       600\n",
            "weighted avg       0.79      0.79      0.79       600\n",
            "\n"
          ]
        },
        {
          "output_type": "execute_result",
          "data": {
            "text/plain": [
              "array([[234,  75],\n",
              "       [ 50, 241]])"
            ]
          },
          "metadata": {},
          "execution_count": 106
        }
      ]
    },
    {
      "cell_type": "code",
      "source": [
        "predictor = ktrain.get_predictor(learner.model, preproc=trans)"
      ],
      "metadata": {
        "execution": {
          "iopub.status.busy": "2023-12-04T02:06:45.987509Z",
          "iopub.execute_input": "2023-12-04T02:06:45.987896Z",
          "iopub.status.idle": "2023-12-04T02:06:46.097424Z",
          "shell.execute_reply.started": "2023-12-04T02:06:45.987866Z",
          "shell.execute_reply": "2023-12-04T02:06:46.096405Z"
        },
        "jupyter": {
          "source_hidden": true
        },
        "trusted": true,
        "id": "OE1guz_n53_X"
      },
      "execution_count": 107,
      "outputs": []
    },
    {
      "cell_type": "code",
      "source": [
        "folder_path = \"/content/drive/MyDrive/Colab Notebooks/HOLD\"\n",
        "\n",
        "predictor.save(folder_path+'Transformers_Models'+'/puneIndicSBERT_1eMinus5_16_15')\n",
        ""
      ],
      "metadata": {
        "execution": {
          "iopub.status.busy": "2023-12-04T02:07:01.993970Z",
          "iopub.execute_input": "2023-12-04T02:07:01.994365Z",
          "iopub.status.idle": "2023-12-04T02:07:07.506686Z",
          "shell.execute_reply.started": "2023-12-04T02:07:01.994316Z",
          "shell.execute_reply": "2023-12-04T02:07:07.505640Z"
        },
        "jupyter": {
          "source_hidden": true
        },
        "trusted": true,
        "id": "eNz-12Z653_Y"
      },
      "execution_count": 108,
      "outputs": []
    },
    {
      "cell_type": "code",
      "source": [
        "predictor = ktrain.load_predictor(\"/content/drive/MyDrive/Colab Notebooks/HOLD/\"+'Transformers_Models'+'/puneIndicSBERT_1eMinus5_16_15')"
      ],
      "metadata": {
        "id": "-7PYJZfRGce4",
        "outputId": "8d58dc7f-5ed1-40aa-daf3-1941f86f4672",
        "colab": {
          "base_uri": "https://localhost:8080/",
          "height": 581
        }
      },
      "execution_count": 44,
      "outputs": [
        {
          "output_type": "error",
          "ename": "Exception",
          "evalue": "ignored",
          "traceback": [
            "\u001b[0;31m---------------------------------------------------------------------------\u001b[0m",
            "\u001b[0;31mFileNotFoundError\u001b[0m                         Traceback (most recent call last)",
            "\u001b[0;32m/usr/local/lib/python3.10/dist-packages/ktrain/core.py\u001b[0m in \u001b[0;36mload_predictor\u001b[0;34m(fpath, batch_size, custom_objects)\u001b[0m\n\u001b[1;32m   1828\u001b[0m         \u001b[0mpreproc_name\u001b[0m \u001b[0;34m=\u001b[0m \u001b[0mos\u001b[0m\u001b[0;34m.\u001b[0m\u001b[0mpath\u001b[0m\u001b[0;34m.\u001b[0m\u001b[0mjoin\u001b[0m\u001b[0;34m(\u001b[0m\u001b[0mfpath\u001b[0m\u001b[0;34m,\u001b[0m \u001b[0mU\u001b[0m\u001b[0;34m.\u001b[0m\u001b[0mPREPROC_NAME\u001b[0m\u001b[0;34m)\u001b[0m\u001b[0;34m\u001b[0m\u001b[0;34m\u001b[0m\u001b[0m\n\u001b[0;32m-> 1829\u001b[0;31m         \u001b[0;32mwith\u001b[0m \u001b[0mopen\u001b[0m\u001b[0;34m(\u001b[0m\u001b[0mpreproc_name\u001b[0m\u001b[0;34m,\u001b[0m \u001b[0;34m\"rb\"\u001b[0m\u001b[0;34m)\u001b[0m \u001b[0;32mas\u001b[0m \u001b[0mf\u001b[0m\u001b[0;34m:\u001b[0m\u001b[0;34m\u001b[0m\u001b[0;34m\u001b[0m\u001b[0m\n\u001b[0m\u001b[1;32m   1830\u001b[0m             \u001b[0mpreproc\u001b[0m \u001b[0;34m=\u001b[0m \u001b[0mpickle\u001b[0m\u001b[0;34m.\u001b[0m\u001b[0mload\u001b[0m\u001b[0;34m(\u001b[0m\u001b[0mf\u001b[0m\u001b[0;34m)\u001b[0m\u001b[0;34m\u001b[0m\u001b[0;34m\u001b[0m\u001b[0m\n",
            "\u001b[0;31mFileNotFoundError\u001b[0m: [Errno 2] No such file or directory: '/content/drive/MyDrive/Colab Notebooks/HOLD/Transformers_Models/puneIndicSBERT_1eMinus5_16_15/tf_model.preproc'",
            "\nDuring handling of the above exception, another exception occurred:\n",
            "\u001b[0;31mFileNotFoundError\u001b[0m                         Traceback (most recent call last)",
            "\u001b[0;32m/usr/local/lib/python3.10/dist-packages/ktrain/core.py\u001b[0m in \u001b[0;36mload_predictor\u001b[0;34m(fpath, batch_size, custom_objects)\u001b[0m\n\u001b[1;32m   1834\u001b[0m             \u001b[0;31m# warnings.warn('could not load .preproc file as %s - attempting to load as %s' % (os.path.join(fpath, U.PREPROC_NAME), preproc_name))\u001b[0m\u001b[0;34m\u001b[0m\u001b[0;34m\u001b[0m\u001b[0m\n\u001b[0;32m-> 1835\u001b[0;31m             \u001b[0;32mwith\u001b[0m \u001b[0mopen\u001b[0m\u001b[0;34m(\u001b[0m\u001b[0mpreproc_name\u001b[0m\u001b[0;34m,\u001b[0m \u001b[0;34m\"rb\"\u001b[0m\u001b[0;34m)\u001b[0m \u001b[0;32mas\u001b[0m \u001b[0mf\u001b[0m\u001b[0;34m:\u001b[0m\u001b[0;34m\u001b[0m\u001b[0;34m\u001b[0m\u001b[0m\n\u001b[0m\u001b[1;32m   1836\u001b[0m                 \u001b[0mpreproc\u001b[0m \u001b[0;34m=\u001b[0m \u001b[0mpickle\u001b[0m\u001b[0;34m.\u001b[0m\u001b[0mload\u001b[0m\u001b[0;34m(\u001b[0m\u001b[0mf\u001b[0m\u001b[0;34m)\u001b[0m\u001b[0;34m\u001b[0m\u001b[0;34m\u001b[0m\u001b[0m\n",
            "\u001b[0;31mFileNotFoundError\u001b[0m: [Errno 2] No such file or directory: '/content/drive/MyDrive/Colab Notebooks/HOLD/Transformers_Models/puneIndicSBERT_1eMinus5_16_15.preproc'",
            "\nDuring handling of the above exception, another exception occurred:\n",
            "\u001b[0;31mException\u001b[0m                                 Traceback (most recent call last)",
            "\u001b[0;32m<ipython-input-44-3fb4de4f5eff>\u001b[0m in \u001b[0;36m<cell line: 1>\u001b[0;34m()\u001b[0m\n\u001b[0;32m----> 1\u001b[0;31m \u001b[0mpredictor\u001b[0m \u001b[0;34m=\u001b[0m \u001b[0mktrain\u001b[0m\u001b[0;34m.\u001b[0m\u001b[0mload_predictor\u001b[0m\u001b[0;34m(\u001b[0m\u001b[0;34m\"/content/drive/MyDrive/Colab Notebooks/HOLD/\"\u001b[0m\u001b[0;34m+\u001b[0m\u001b[0;34m'Transformers_Models'\u001b[0m\u001b[0;34m+\u001b[0m\u001b[0;34m'/puneIndicSBERT_1eMinus5_16_15'\u001b[0m\u001b[0;34m)\u001b[0m\u001b[0;34m\u001b[0m\u001b[0;34m\u001b[0m\u001b[0m\n\u001b[0m",
            "\u001b[0;32m/usr/local/lib/python3.10/dist-packages/ktrain/core.py\u001b[0m in \u001b[0;36mload_predictor\u001b[0;34m(fpath, batch_size, custom_objects)\u001b[0m\n\u001b[1;32m   1836\u001b[0m                 \u001b[0mpreproc\u001b[0m \u001b[0;34m=\u001b[0m \u001b[0mpickle\u001b[0m\u001b[0;34m.\u001b[0m\u001b[0mload\u001b[0m\u001b[0;34m(\u001b[0m\u001b[0mf\u001b[0m\u001b[0;34m)\u001b[0m\u001b[0;34m\u001b[0m\u001b[0;34m\u001b[0m\u001b[0m\n\u001b[1;32m   1837\u001b[0m         \u001b[0;32mexcept\u001b[0m\u001b[0;34m:\u001b[0m\u001b[0;34m\u001b[0m\u001b[0;34m\u001b[0m\u001b[0m\n\u001b[0;32m-> 1838\u001b[0;31m             raise Exception(\n\u001b[0m\u001b[1;32m   1839\u001b[0m                 \u001b[0;34m\"Failed to load .preproc file in either the post v0.16.x loction (%s) or pre v0.16.x location (%s)\"\u001b[0m\u001b[0;34m\u001b[0m\u001b[0;34m\u001b[0m\u001b[0m\n\u001b[1;32m   1840\u001b[0m                 \u001b[0;34m%\u001b[0m \u001b[0;34m(\u001b[0m\u001b[0mos\u001b[0m\u001b[0;34m.\u001b[0m\u001b[0mpath\u001b[0m\u001b[0;34m.\u001b[0m\u001b[0mjoin\u001b[0m\u001b[0;34m(\u001b[0m\u001b[0mfpath\u001b[0m\u001b[0;34m,\u001b[0m \u001b[0mU\u001b[0m\u001b[0;34m.\u001b[0m\u001b[0mPREPROC_NAME\u001b[0m\u001b[0;34m)\u001b[0m\u001b[0;34m,\u001b[0m \u001b[0mfpath\u001b[0m \u001b[0;34m+\u001b[0m \u001b[0;34m\".preproc\"\u001b[0m\u001b[0;34m)\u001b[0m\u001b[0;34m\u001b[0m\u001b[0;34m\u001b[0m\u001b[0m\n",
            "\u001b[0;31mException\u001b[0m: Failed to load .preproc file in either the post v0.16.x loction (/content/drive/MyDrive/Colab Notebooks/HOLD/Transformers_Models/puneIndicSBERT_1eMinus5_16_15/tf_model.preproc) or pre v0.16.x location (/content/drive/MyDrive/Colab Notebooks/HOLD/Transformers_Models/puneIndicSBERT_1eMinus5_16_15.preproc)"
          ]
        }
      ]
    },
    {
      "cell_type": "markdown",
      "source": [
        "## Classification Report after labeled test data revealed"
      ],
      "metadata": {
        "id": "7svrWo4k-z-g"
      }
    },
    {
      "cell_type": "code",
      "source": [
        "y_pred = predictor.predict(X_test)"
      ],
      "metadata": {
        "execution": {
          "iopub.status.busy": "2023-12-04T02:13:45.327992Z",
          "iopub.execute_input": "2023-12-04T02:13:45.329273Z",
          "iopub.status.idle": "2023-12-04T02:13:50.015647Z",
          "shell.execute_reply.started": "2023-12-04T02:13:45.329223Z",
          "shell.execute_reply": "2023-12-04T02:13:50.014525Z"
        },
        "jupyter": {
          "source_hidden": true
        },
        "trusted": true,
        "id": "immEomdO53_Y"
      },
      "execution_count": 109,
      "outputs": []
    },
    {
      "cell_type": "code",
      "source": [
        "# Assuming y_pred is a list or array containing 'hate' and 'non-hate' labels\n",
        "y_pred = [0 if label == 'hate' else 1 for label in y_pred]\n",
        "\n",
        "# Now y_pred_mapped contains 0 for 'hate' and 1 for 'non-hate'\n"
      ],
      "metadata": {
        "id": "KvErjscLFOa7",
        "outputId": "1939903c-e99a-4ecc-f449-27641808b74c",
        "colab": {
          "base_uri": "https://localhost:8080/",
          "height": 227
        }
      },
      "execution_count": 1,
      "outputs": [
        {
          "output_type": "error",
          "ename": "NameError",
          "evalue": "ignored",
          "traceback": [
            "\u001b[0;31m---------------------------------------------------------------------------\u001b[0m",
            "\u001b[0;31mNameError\u001b[0m                                 Traceback (most recent call last)",
            "\u001b[0;32m<ipython-input-1-2d1a642957d6>\u001b[0m in \u001b[0;36m<cell line: 2>\u001b[0;34m()\u001b[0m\n\u001b[1;32m      1\u001b[0m \u001b[0;31m# Assuming y_pred is a list or array containing 'hate' and 'non-hate' labels\u001b[0m\u001b[0;34m\u001b[0m\u001b[0;34m\u001b[0m\u001b[0m\n\u001b[0;32m----> 2\u001b[0;31m \u001b[0my_pred\u001b[0m \u001b[0;34m=\u001b[0m \u001b[0;34m[\u001b[0m\u001b[0;36m0\u001b[0m \u001b[0;32mif\u001b[0m \u001b[0mlabel\u001b[0m \u001b[0;34m==\u001b[0m \u001b[0;34m'hate'\u001b[0m \u001b[0;32melse\u001b[0m \u001b[0;36m1\u001b[0m \u001b[0;32mfor\u001b[0m \u001b[0mlabel\u001b[0m \u001b[0;32min\u001b[0m \u001b[0my_pred\u001b[0m\u001b[0;34m]\u001b[0m\u001b[0;34m\u001b[0m\u001b[0;34m\u001b[0m\u001b[0m\n\u001b[0m\u001b[1;32m      3\u001b[0m \u001b[0;34m\u001b[0m\u001b[0m\n\u001b[1;32m      4\u001b[0m \u001b[0;31m# Now y_pred_mapped contains 0 for 'hate' and 1 for 'non-hate'\u001b[0m\u001b[0;34m\u001b[0m\u001b[0;34m\u001b[0m\u001b[0m\n",
            "\u001b[0;31mNameError\u001b[0m: name 'y_pred' is not defined"
          ]
        }
      ]
    },
    {
      "cell_type": "code",
      "source": [
        "from sklearn.metrics import accuracy_score, classification_report\n",
        "accuracy = accuracy_score(test_with_label['label'], y_pred)\n",
        "report = classification_report(test_with_label['label'], y_pred)\n",
        "print(f\"Accuracy: {accuracy}\")\n",
        "print(\"Classification Report:\")\n",
        "print(report)"
      ],
      "metadata": {
        "id": "QsgkPwCs_NcA",
        "outputId": "9cb6601e-040e-4f8c-b355-81145da09a23",
        "colab": {
          "base_uri": "https://localhost:8080/"
        }
      },
      "execution_count": 111,
      "outputs": [
        {
          "output_type": "stream",
          "name": "stdout",
          "text": [
            "Accuracy: 0.3106212424849699\n",
            "Classification Report:\n",
            "              precision    recall  f1-score   support\n",
            "\n",
            "        hate       0.31      0.31      0.31       250\n",
            "    non-hate       0.31      0.31      0.31       249\n",
            "\n",
            "    accuracy                           0.31       499\n",
            "   macro avg       0.31      0.31      0.31       499\n",
            "weighted avg       0.31      0.31      0.31       499\n",
            "\n"
          ]
        }
      ]
    },
    {
      "cell_type": "code",
      "source": [
        "run = pd.DataFrame(test_df['text'])\n",
        "run['label'] = y_pred\n",
        "# run\n",
        "run['label'].value_counts()"
      ],
      "metadata": {
        "execution": {
          "iopub.status.busy": "2023-12-04T02:13:50.017871Z",
          "iopub.execute_input": "2023-12-04T02:13:50.018719Z",
          "iopub.status.idle": "2023-12-04T02:13:50.134142Z",
          "shell.execute_reply.started": "2023-12-04T02:13:50.018677Z",
          "shell.execute_reply": "2023-12-04T02:13:50.133155Z"
        },
        "jupyter": {
          "source_hidden": true,
          "outputs_hidden": true
        },
        "collapsed": true,
        "trusted": true,
        "id": "j6NOHlZm53_Y"
      },
      "execution_count": null,
      "outputs": []
    },
    {
      "cell_type": "code",
      "source": [
        "run.to_csv('/kaggle/working/' +'model1.csv',index = False) # for 3e-5, batch = 16, epochs = 15"
      ],
      "metadata": {
        "execution": {
          "iopub.status.busy": "2023-12-04T02:14:03.180463Z",
          "iopub.execute_input": "2023-12-04T02:14:03.180855Z",
          "iopub.status.idle": "2023-12-04T02:14:03.289790Z",
          "shell.execute_reply.started": "2023-12-04T02:14:03.180824Z",
          "shell.execute_reply": "2023-12-04T02:14:03.288602Z"
        },
        "jupyter": {
          "source_hidden": true
        },
        "trusted": true,
        "id": "as_WTm6253_Z"
      },
      "execution_count": null,
      "outputs": []
    },
    {
      "cell_type": "code",
      "source": [
        "run.to_csv('/kaggle/working/' +'model1.tsv',index = False) # for 3e-5, batch = 16, epochs = 15"
      ],
      "metadata": {
        "execution": {
          "iopub.status.busy": "2023-12-04T02:14:56.216437Z",
          "iopub.execute_input": "2023-12-04T02:14:56.216814Z",
          "iopub.status.idle": "2023-12-04T02:14:56.324144Z",
          "shell.execute_reply.started": "2023-12-04T02:14:56.216784Z",
          "shell.execute_reply": "2023-12-04T02:14:56.323111Z"
        },
        "jupyter": {
          "source_hidden": true
        },
        "trusted": true,
        "id": "UaT9VxIJ53_Z"
      },
      "execution_count": null,
      "outputs": []
    },
    {
      "cell_type": "code",
      "source": [
        "model2 = trans.get_classifier()\n",
        "learner2 = ktrain.get_learner(model, train_data=train,val_data=valid, batch_size=32)\n",
        "learner2.fit_onecycle(1e-5,10)"
      ],
      "metadata": {
        "execution": {
          "iopub.status.busy": "2023-12-04T02:26:19.729633Z",
          "iopub.execute_input": "2023-12-04T02:26:19.730731Z",
          "iopub.status.idle": "2023-12-04T02:35:34.291128Z",
          "shell.execute_reply.started": "2023-12-04T02:26:19.730685Z",
          "shell.execute_reply": "2023-12-04T02:35:34.290143Z"
        },
        "jupyter": {
          "source_hidden": true,
          "outputs_hidden": true
        },
        "collapsed": true,
        "trusted": true,
        "colab": {
          "base_uri": "https://localhost:8080/"
        },
        "id": "uTEz7nFl53_Z",
        "outputId": "701dd760-b00e-4c83-ca9e-da9e14705060"
      },
      "execution_count": 127,
      "outputs": [
        {
          "output_type": "stream",
          "name": "stdout",
          "text": [
            "\n",
            "\n",
            "begin training using onecycle policy with max lr of 3e-05...\n",
            "Epoch 1/10\n",
            "125/125 [==============================] - 117s 763ms/step - loss: 0.6485 - accuracy: 0.6770 - val_loss: 0.5982 - val_accuracy: 0.7114\n",
            "Epoch 2/10\n",
            "125/125 [==============================] - 87s 694ms/step - loss: 0.4987 - accuracy: 0.7853 - val_loss: 0.6446 - val_accuracy: 0.6633\n",
            "Epoch 3/10\n",
            "125/125 [==============================] - 87s 694ms/step - loss: 0.3658 - accuracy: 0.8580 - val_loss: 0.5417 - val_accuracy: 0.7475\n",
            "Epoch 4/10\n",
            "125/125 [==============================] - 87s 699ms/step - loss: 0.2394 - accuracy: 0.9168 - val_loss: 0.6299 - val_accuracy: 0.7335\n",
            "Epoch 5/10\n",
            "125/125 [==============================] - 88s 705ms/step - loss: 0.1713 - accuracy: 0.9448 - val_loss: 0.7677 - val_accuracy: 0.7495\n",
            "Epoch 6/10\n",
            "125/125 [==============================] - 86s 691ms/step - loss: 0.1326 - accuracy: 0.9578 - val_loss: 0.8519 - val_accuracy: 0.6914\n",
            "Epoch 7/10\n",
            "125/125 [==============================] - 86s 692ms/step - loss: 0.0911 - accuracy: 0.9720 - val_loss: 0.7791 - val_accuracy: 0.7415\n",
            "Epoch 8/10\n",
            "125/125 [==============================] - 86s 692ms/step - loss: 0.0474 - accuracy: 0.9883 - val_loss: 0.8441 - val_accuracy: 0.7495\n",
            "Epoch 9/10\n",
            "125/125 [==============================] - 86s 690ms/step - loss: 0.0362 - accuracy: 0.9908 - val_loss: 0.8726 - val_accuracy: 0.7595\n",
            "Epoch 10/10\n",
            "125/125 [==============================] - 87s 695ms/step - loss: 0.0296 - accuracy: 0.9935 - val_loss: 0.9312 - val_accuracy: 0.7475\n"
          ]
        },
        {
          "output_type": "execute_result",
          "data": {
            "text/plain": [
              "<keras.src.callbacks.History at 0x7ea3199576d0>"
            ]
          },
          "metadata": {},
          "execution_count": 127
        }
      ]
    },
    {
      "cell_type": "code",
      "source": [
        "learner2.validate(class_names=categories)"
      ],
      "metadata": {
        "execution": {
          "iopub.status.busy": "2023-12-04T02:35:37.320255Z",
          "iopub.execute_input": "2023-12-04T02:35:37.320670Z",
          "iopub.status.idle": "2023-12-04T02:35:44.087059Z",
          "shell.execute_reply.started": "2023-12-04T02:35:37.320641Z",
          "shell.execute_reply": "2023-12-04T02:35:44.086111Z"
        },
        "jupyter": {
          "source_hidden": true,
          "outputs_hidden": true
        },
        "collapsed": true,
        "trusted": true,
        "colab": {
          "base_uri": "https://localhost:8080/"
        },
        "id": "mfKT0nE-53_a",
        "outputId": "2c075d77-9452-4ec1-beb2-e66085f6e7ea"
      },
      "execution_count": 129,
      "outputs": [
        {
          "output_type": "stream",
          "name": "stdout",
          "text": [
            "16/16 [==============================] - 8s 140ms/step\n",
            "              precision    recall  f1-score   support\n",
            "\n",
            "        hate       0.75      0.73      0.74       249\n",
            "    non-hate       0.74      0.76      0.75       250\n",
            "\n",
            "    accuracy                           0.75       499\n",
            "   macro avg       0.75      0.75      0.75       499\n",
            "weighted avg       0.75      0.75      0.75       499\n",
            "\n"
          ]
        },
        {
          "output_type": "execute_result",
          "data": {
            "text/plain": [
              "array([[183,  66],\n",
              "       [ 60, 190]])"
            ]
          },
          "metadata": {},
          "execution_count": 129
        }
      ]
    },
    {
      "cell_type": "code",
      "source": [
        "predictor = ktrain.get_predictor(learner2.model, preproc=trans)\n",
        "ffolder_path = \"/content/drive/MyDrive/Colab Notebooks/HOLD\"\n",
        "\n",
        "predictor.save(folder_path+'Transformers_Models'+'/puneIndicSBERT_5eMinus5')\n",
        "\n",
        "predictor = ktrain.load_predictor(folder_path+'Transformers_Models'+'/puneIndicSBERT_5eMinus5')"
      ],
      "metadata": {
        "execution": {
          "iopub.status.busy": "2023-12-04T02:37:11.129000Z",
          "iopub.execute_input": "2023-12-04T02:37:11.129760Z",
          "iopub.status.idle": "2023-12-04T02:37:20.940562Z",
          "shell.execute_reply.started": "2023-12-04T02:37:11.129728Z",
          "shell.execute_reply": "2023-12-04T02:37:20.939408Z"
        },
        "jupyter": {
          "source_hidden": true
        },
        "trusted": true,
        "id": "572N_1GI53_a"
      },
      "execution_count": 130,
      "outputs": []
    },
    {
      "cell_type": "code",
      "source": [
        "y_pred = predictor.predict(X_test)"
      ],
      "metadata": {
        "id": "C6T1zPVSBJQ0"
      },
      "execution_count": null,
      "outputs": []
    },
    {
      "cell_type": "code",
      "source": [
        "from sklearn.metrics import accuracy_score, classification_report\n",
        "accuracy = accuracy_score(y_data_with_label, y_pred)\n",
        "report = classification_report(y_data_with_label, y_pred)\n",
        "print(f\"Accuracy: {accuracy}\")\n",
        "print(\"Classification Report:\")\n",
        "print(report)"
      ],
      "metadata": {
        "id": "xc-r16VcBGpy"
      },
      "execution_count": null,
      "outputs": []
    },
    {
      "cell_type": "code",
      "source": [
        "y_pred = predictor.predict(X_test)\n",
        "run = pd.DataFrame(test_df['text'])\n",
        "run['label'] = y_pred\n",
        "# run\n",
        "run['label'].value_counts()"
      ],
      "metadata": {
        "execution": {
          "iopub.status.busy": "2023-12-04T02:37:20.942210Z",
          "iopub.execute_input": "2023-12-04T02:37:20.942498Z",
          "iopub.status.idle": "2023-12-04T02:37:21.044211Z",
          "shell.execute_reply.started": "2023-12-04T02:37:20.942474Z",
          "shell.execute_reply": "2023-12-04T02:37:21.043283Z"
        },
        "jupyter": {
          "source_hidden": true,
          "outputs_hidden": true
        },
        "collapsed": true,
        "trusted": true,
        "id": "4Yg6pArW53_a"
      },
      "execution_count": null,
      "outputs": []
    },
    {
      "cell_type": "code",
      "source": [
        "run.to_csv('/kaggle/working/' +'model2.csv',index = False) # for 3e-5, batch = 16, epochs = 15"
      ],
      "metadata": {
        "execution": {
          "iopub.status.busy": "2023-12-04T02:37:24.429078Z",
          "iopub.execute_input": "2023-12-04T02:37:24.429951Z",
          "iopub.status.idle": "2023-12-04T02:37:24.534200Z",
          "shell.execute_reply.started": "2023-12-04T02:37:24.429917Z",
          "shell.execute_reply": "2023-12-04T02:37:24.533306Z"
        },
        "jupyter": {
          "source_hidden": true
        },
        "trusted": true,
        "id": "wof04ciw53_a"
      },
      "execution_count": null,
      "outputs": []
    },
    {
      "cell_type": "code",
      "source": [
        "run.to_csv('/kaggle/working/' +'model2.tsv',index = False) # for 3e-5, batch = 16, epochs = 15"
      ],
      "metadata": {
        "execution": {
          "iopub.status.busy": "2023-12-04T02:37:28.625256Z",
          "iopub.execute_input": "2023-12-04T02:37:28.626131Z",
          "iopub.status.idle": "2023-12-04T02:37:28.737428Z",
          "shell.execute_reply.started": "2023-12-04T02:37:28.626097Z",
          "shell.execute_reply": "2023-12-04T02:37:28.736682Z"
        },
        "jupyter": {
          "source_hidden": true
        },
        "trusted": true,
        "id": "H7p5WHar53_a"
      },
      "execution_count": null,
      "outputs": []
    },
    {
      "cell_type": "markdown",
      "source": [
        "##Extras"
      ],
      "metadata": {
        "id": "W_vYdDtOtG8X"
      }
    },
    {
      "cell_type": "code",
      "source": [
        "import shutil\n",
        "import os\n",
        "\n",
        "# Train the model and save the predictor\n",
        "model = trans.get_classifier()\n",
        "learner3 = ktrain.get_learner(model, train_data=train, val_data=valid, batch_size=16)\n",
        "learner3.fit_onecycle(6e-5, 10)\n",
        "learner3.validate(class_names=categories)\n",
        "\n",
        "predictor = ktrain.get_predictor(learner3.model, preproc=trans)\n",
        "folder_path = \"/kaggle/working/\"\n",
        "save_folder = 'Transformers_Models/model3'  # Change the folder name to model2\n",
        "\n",
        "predictor.save(os.path.join(folder_path, save_folder))\n",
        "\n",
        "# Load the predictor\n",
        "loaded_predictor = ktrain.load_predictor(os.path.join(folder_path, save_folder))\n",
        "\n",
        "# Make predictions on test data\n",
        "y_pred = loaded_predictor.predict(X_test)\n",
        "\n",
        "# Create a DataFrame with predictions\n",
        "run = pd.DataFrame(test_df['ఎన్ని సార్లు అయిన వినాలని ఉంది చిట్టి తల్లి సూపర్ మా'])\n",
        "run['label'] = y_pred\n",
        "\n",
        "# Save predictions to CSV and TSV\n",
        "run.to_csv(os.path.join(folder_path, 'model3.csv'), index=False)\n",
        "run.to_csv(os.path.join(folder_path, 'model3.tsv'), sep='\\t', index=False)\n",
        "\n",
        "# Create a zip archive of the model files\n",
        "source_folder = os.path.join(folder_path, save_folder)\n",
        "zip_filename = 'model3.zip'\n",
        "shutil.make_archive(zip_filename.split('.')[0], 'zip', source_folder)"
      ],
      "metadata": {
        "execution": {
          "iopub.status.busy": "2023-12-04T02:44:54.302075Z",
          "iopub.execute_input": "2023-12-04T02:44:54.302976Z",
          "iopub.status.idle": "2023-12-04T02:45:28.221218Z",
          "shell.execute_reply.started": "2023-12-04T02:44:54.302940Z",
          "shell.execute_reply": "2023-12-04T02:45:28.219640Z"
        },
        "jupyter": {
          "source_hidden": true,
          "outputs_hidden": true
        },
        "collapsed": true,
        "trusted": true,
        "id": "jpAJQiyT53_b"
      },
      "execution_count": null,
      "outputs": []
    },
    {
      "cell_type": "code",
      "source": [
        "import shutil\n",
        "import os\n",
        "\n",
        "# Train the model and save the predictor\n",
        "model = trans.get_classifier()\n",
        "learner3 = ktrain.get_learner(model, train_data=train, val_data=valid, batch_size=16)\n",
        "learner3.fit_onecycle(8e-5, 10)\n",
        "learner3.validate(class_names=categories)\n",
        "\n",
        "predictor = ktrain.get_predictor(learner3.model, preproc=trans)\n",
        "folder_path = \"/kaggle/working/\"\n",
        "save_folder = 'Transformers_Models/model3'  # Change the folder name to model2\n",
        "\n",
        "predictor.save(os.path.join(folder_path, save_folder))\n",
        "\n",
        "# Load the predictor\n",
        "loaded_predictor = ktrain.load_predictor(os.path.join(folder_path, save_folder))\n",
        "\n",
        "# Make predictions on test data\n",
        "y_pred = loaded_predictor.predict(X_test)\n",
        "\n",
        "# Create a DataFrame with predictions\n",
        "run = pd.DataFrame(test_df['ఎన్ని సార్లు అయిన వినాలని ఉంది చిట్టి తల్లి సూపర్ మా'])\n",
        "run['label'] = y_pred\n",
        "\n",
        "# Save predictions to CSV and TSV\n",
        "run.to_csv(os.path.join(folder_path, 'model3.csv'), index=False)\n",
        "run.to_csv(os.path.join(folder_path, 'model3.tsv'), sep='\\t', index=False)\n",
        "\n",
        "# Create a zip archive of the model files\n",
        "source_folder = os.path.join(folder_path, save_folder)\n",
        "zip_filename = 'model3.zip'\n",
        "shutil.make_archive(zip_filename.split('.')[0], 'zip', source_folder)"
      ],
      "metadata": {
        "jupyter": {
          "source_hidden": true
        },
        "id": "z7YH7ZvP53_b"
      },
      "execution_count": null,
      "outputs": []
    },
    {
      "cell_type": "markdown",
      "source": [
        "# Ktrain indicBert"
      ],
      "metadata": {
        "id": "wNUm-9FO53_c"
      }
    },
    {
      "cell_type": "code",
      "source": [
        "model_name = 'ai4bharat/indic-bert'\n",
        "trans = text.Transformer(model_name,maxlen=100,class_names=categories)\n",
        "train = trans.preprocess_train(X_train,y_train)\n",
        "valid = trans.preprocess_test(X_data_with_label,X_data_with_label)\n",
        "model = trans.get_classifier()\n",
        "Indiclearner = ktrain.get_learner(model, train_data=train,val_data=valid, batch_size=16)"
      ],
      "metadata": {
        "execution": {
          "iopub.status.busy": "2023-12-04T01:40:12.870442Z",
          "iopub.status.idle": "2023-12-04T01:40:12.870752Z",
          "shell.execute_reply.started": "2023-12-04T01:40:12.870594Z",
          "shell.execute_reply": "2023-12-04T01:40:12.870609Z"
        },
        "trusted": true,
        "id": "jM2dtDsG53_c"
      },
      "execution_count": null,
      "outputs": []
    },
    {
      "cell_type": "code",
      "source": [
        "learner.lr_find(show_plot = True,max_epochs=15)"
      ],
      "metadata": {
        "execution": {
          "iopub.status.busy": "2023-12-04T01:40:12.872132Z",
          "iopub.status.idle": "2023-12-04T01:40:12.872488Z",
          "shell.execute_reply.started": "2023-12-04T01:40:12.872298Z",
          "shell.execute_reply": "2023-12-04T01:40:12.872313Z"
        },
        "trusted": true,
        "id": "RJaPEiw753_d"
      },
      "execution_count": null,
      "outputs": []
    },
    {
      "cell_type": "code",
      "source": [
        "Indiclearner.lr_find(show_plot = True,max_epochs=10)"
      ],
      "metadata": {
        "execution": {
          "iopub.status.busy": "2023-12-04T01:40:12.873945Z",
          "iopub.status.idle": "2023-12-04T01:40:12.874429Z",
          "shell.execute_reply.started": "2023-12-04T01:40:12.874182Z",
          "shell.execute_reply": "2023-12-04T01:40:12.874203Z"
        },
        "trusted": true,
        "id": "Mu2Ffrpb53_d"
      },
      "execution_count": null,
      "outputs": []
    },
    {
      "cell_type": "code",
      "source": [
        "Indiclearner.fit_onecycle(5e-5,15)"
      ],
      "metadata": {
        "execution": {
          "iopub.status.busy": "2023-12-04T01:40:12.876014Z",
          "iopub.status.idle": "2023-12-04T01:40:12.876494Z",
          "shell.execute_reply.started": "2023-12-04T01:40:12.876250Z",
          "shell.execute_reply": "2023-12-04T01:40:12.876271Z"
        },
        "trusted": true,
        "id": "d2T39qyA53_d"
      },
      "execution_count": null,
      "outputs": []
    },
    {
      "cell_type": "code",
      "source": [
        "Indiclearner.validate(class_names=categories)"
      ],
      "metadata": {
        "execution": {
          "iopub.status.busy": "2023-12-04T01:40:12.877887Z",
          "iopub.status.idle": "2023-12-04T01:40:12.878320Z",
          "shell.execute_reply.started": "2023-12-04T01:40:12.878096Z",
          "shell.execute_reply": "2023-12-04T01:40:12.878118Z"
        },
        "trusted": true,
        "id": "m-jMxvER53_e"
      },
      "execution_count": null,
      "outputs": []
    },
    {
      "cell_type": "code",
      "source": [
        "predictor = ktrain.get_predictor(Indiclearner.model, preproc=trans)\n",
        "y_pred = predictor.predict(X_test)\n",
        "# y_pred"
      ],
      "metadata": {
        "execution": {
          "iopub.status.busy": "2023-12-04T01:40:12.880548Z",
          "iopub.status.idle": "2023-12-04T01:40:12.880881Z",
          "shell.execute_reply.started": "2023-12-04T01:40:12.880719Z",
          "shell.execute_reply": "2023-12-04T01:40:12.880735Z"
        },
        "trusted": true,
        "id": "ajLXNb9153_e"
      },
      "execution_count": null,
      "outputs": []
    },
    {
      "cell_type": "code",
      "source": [
        "run = pd.DataFrame(test_df['text'])\n",
        "run['label'] = y_pred\n",
        "# run\n",
        "run['label'].value_counts()"
      ],
      "metadata": {
        "execution": {
          "iopub.status.busy": "2023-12-04T01:40:12.882031Z",
          "iopub.status.idle": "2023-12-04T01:40:12.882391Z",
          "shell.execute_reply.started": "2023-12-04T01:40:12.882198Z",
          "shell.execute_reply": "2023-12-04T01:40:12.882213Z"
        },
        "trusted": true,
        "id": "Ug_2Nvew53_e"
      },
      "execution_count": null,
      "outputs": []
    },
    {
      "cell_type": "code",
      "source": [
        "run.to_csv('/kaggle/working/' +'Tamil_Hate_Indic_72_cw.csv',index = False) # for 3e-5, batch = 16, epochs = 15"
      ],
      "metadata": {
        "execution": {
          "iopub.status.busy": "2023-12-04T01:40:12.883466Z",
          "iopub.status.idle": "2023-12-04T01:40:12.883850Z",
          "shell.execute_reply.started": "2023-12-04T01:40:12.883639Z",
          "shell.execute_reply": "2023-12-04T01:40:12.883659Z"
        },
        "trusted": true,
        "id": "80pzeZxd53_e"
      },
      "execution_count": null,
      "outputs": []
    },
    {
      "cell_type": "markdown",
      "source": [
        "# Ktrain mBert"
      ],
      "metadata": {
        "id": "dtl_Lbo453_e"
      }
    },
    {
      "cell_type": "code",
      "source": [
        "model_name = 'bert-base-multilingual-cased'\n",
        "trans = text.Transformer(model_name,maxlen=100,class_names=categories)\n",
        "train = trans.preprocess_train(X_train,y_train)\n",
        "valid = trans.preprocess_test(X_valid, y_valid)\n",
        "test = trans.preprocess_test(X_test, y_data_with_label)\n",
        "model = trans.get_classifier()\n",
        "CasedmBertlearner = ktrain.get_learner(model, train_data=train,val_data=valid, batch_size=16)"
      ],
      "metadata": {
        "execution": {
          "iopub.status.busy": "2023-12-04T01:40:12.884985Z",
          "iopub.status.idle": "2023-12-04T01:40:12.885288Z",
          "shell.execute_reply.started": "2023-12-04T01:40:12.885138Z",
          "shell.execute_reply": "2023-12-04T01:40:12.885152Z"
        },
        "trusted": true,
        "colab": {
          "base_uri": "https://localhost:8080/",
          "height": 347
        },
        "id": "q_uEfOPM53_f",
        "outputId": "7cdf90a8-1f64-405e-ca1d-51968450378a"
      },
      "execution_count": 48,
      "outputs": [
        {
          "output_type": "stream",
          "name": "stdout",
          "text": [
            "preprocessing train...\n",
            "language: te\n",
            "train sequence lengths:\n",
            "\tmean : 10\n",
            "\t95percentile : 21\n",
            "\t99percentile : 33\n"
          ]
        },
        {
          "output_type": "display_data",
          "data": {
            "text/plain": [
              "<IPython.core.display.HTML object>"
            ],
            "text/html": [
              "\n",
              "<style>\n",
              "    /* Turns off some styling */\n",
              "    progress {\n",
              "        /* gets rid of default border in Firefox and Opera. */\n",
              "        border: none;\n",
              "        /* Needs to be in here for Safari polyfill so background images work as expected. */\n",
              "        background-size: auto;\n",
              "    }\n",
              "    progress:not([value]), progress:not([value])::-webkit-progress-bar {\n",
              "        background: repeating-linear-gradient(45deg, #7e7e7e, #7e7e7e 10px, #5c5c5c 10px, #5c5c5c 20px);\n",
              "    }\n",
              "    .progress-bar-interrupted, .progress-bar-interrupted::-webkit-progress-bar {\n",
              "        background: #F44336;\n",
              "    }\n",
              "</style>\n"
            ]
          },
          "metadata": {}
        },
        {
          "output_type": "display_data",
          "data": {
            "text/plain": [
              "<IPython.core.display.HTML object>"
            ],
            "text/html": []
          },
          "metadata": {}
        },
        {
          "output_type": "stream",
          "name": "stdout",
          "text": [
            "Is Multi-Label? False\n",
            "preprocessing test...\n",
            "language: te\n",
            "test sequence lengths:\n",
            "\tmean : 10\n",
            "\t95percentile : 21\n",
            "\t99percentile : 34\n"
          ]
        },
        {
          "output_type": "display_data",
          "data": {
            "text/plain": [
              "<IPython.core.display.HTML object>"
            ],
            "text/html": [
              "\n",
              "<style>\n",
              "    /* Turns off some styling */\n",
              "    progress {\n",
              "        /* gets rid of default border in Firefox and Opera. */\n",
              "        border: none;\n",
              "        /* Needs to be in here for Safari polyfill so background images work as expected. */\n",
              "        background-size: auto;\n",
              "    }\n",
              "    progress:not([value]), progress:not([value])::-webkit-progress-bar {\n",
              "        background: repeating-linear-gradient(45deg, #7e7e7e, #7e7e7e 10px, #5c5c5c 10px, #5c5c5c 20px);\n",
              "    }\n",
              "    .progress-bar-interrupted, .progress-bar-interrupted::-webkit-progress-bar {\n",
              "        background: #F44336;\n",
              "    }\n",
              "</style>\n"
            ]
          },
          "metadata": {}
        },
        {
          "output_type": "display_data",
          "data": {
            "text/plain": [
              "<IPython.core.display.HTML object>"
            ],
            "text/html": []
          },
          "metadata": {}
        },
        {
          "output_type": "stream",
          "name": "stdout",
          "text": [
            "preprocessing test...\n",
            "language: te\n",
            "test sequence lengths:\n",
            "\tmean : 7\n",
            "\t95percentile : 13\n",
            "\t99percentile : 16\n"
          ]
        },
        {
          "output_type": "display_data",
          "data": {
            "text/plain": [
              "<IPython.core.display.HTML object>"
            ],
            "text/html": [
              "\n",
              "<style>\n",
              "    /* Turns off some styling */\n",
              "    progress {\n",
              "        /* gets rid of default border in Firefox and Opera. */\n",
              "        border: none;\n",
              "        /* Needs to be in here for Safari polyfill so background images work as expected. */\n",
              "        background-size: auto;\n",
              "    }\n",
              "    progress:not([value]), progress:not([value])::-webkit-progress-bar {\n",
              "        background: repeating-linear-gradient(45deg, #7e7e7e, #7e7e7e 10px, #5c5c5c 10px, #5c5c5c 20px);\n",
              "    }\n",
              "    .progress-bar-interrupted, .progress-bar-interrupted::-webkit-progress-bar {\n",
              "        background: #F44336;\n",
              "    }\n",
              "</style>\n"
            ]
          },
          "metadata": {}
        },
        {
          "output_type": "display_data",
          "data": {
            "text/plain": [
              "<IPython.core.display.HTML object>"
            ],
            "text/html": []
          },
          "metadata": {}
        }
      ]
    },
    {
      "cell_type": "code",
      "source": [
        "CasedmBertlearner.lr_find(show_plot = True,max_epochs=15)"
      ],
      "metadata": {
        "execution": {
          "iopub.status.busy": "2023-12-04T01:40:12.886408Z",
          "iopub.status.idle": "2023-12-04T01:40:12.886845Z",
          "shell.execute_reply.started": "2023-12-04T01:40:12.886619Z",
          "shell.execute_reply": "2023-12-04T01:40:12.886641Z"
        },
        "trusted": true,
        "id": "VP5YMm9D53_f"
      },
      "execution_count": null,
      "outputs": []
    },
    {
      "cell_type": "code",
      "source": [
        "CasedmBertlearner.fit_onecycle(2e-5,15)"
      ],
      "metadata": {
        "execution": {
          "iopub.status.busy": "2023-12-04T01:40:12.887887Z",
          "iopub.status.idle": "2023-12-04T01:40:12.888535Z",
          "shell.execute_reply.started": "2023-12-04T01:40:12.888319Z",
          "shell.execute_reply": "2023-12-04T01:40:12.888357Z"
        },
        "trusted": true,
        "colab": {
          "base_uri": "https://localhost:8080/"
        },
        "id": "tg_4uWrZ53_g",
        "outputId": "8e3c3bf0-4823-4da5-b075-ea2da9bfc955"
      },
      "execution_count": null,
      "outputs": [
        {
          "output_type": "stream",
          "name": "stdout",
          "text": [
            "\n",
            "\n",
            "begin training using onecycle policy with max lr of 2e-05...\n",
            "Epoch 1/15\n",
            "138/213 [==================>...........] - ETA: 23:56 - loss: 0.6638 - accuracy: 0.6146"
          ]
        }
      ]
    },
    {
      "cell_type": "code",
      "source": [
        "CasedmBertlearner.validate(class_names=categories)"
      ],
      "metadata": {
        "execution": {
          "iopub.status.busy": "2023-12-04T01:40:12.889680Z",
          "iopub.status.idle": "2023-12-04T01:40:12.890146Z",
          "shell.execute_reply.started": "2023-12-04T01:40:12.889891Z",
          "shell.execute_reply": "2023-12-04T01:40:12.889914Z"
        },
        "trusted": true,
        "id": "AncG3TVX53_g"
      },
      "execution_count": null,
      "outputs": []
    },
    {
      "cell_type": "code",
      "source": [
        "predictor = ktrain.get_predictor(CasedmBertlearner.model, preproc=trans)\n",
        "y_pred = predictor.predict(X_test)"
      ],
      "metadata": {
        "execution": {
          "iopub.status.busy": "2023-12-04T01:40:12.891721Z",
          "iopub.status.idle": "2023-12-04T01:40:12.892157Z",
          "shell.execute_reply.started": "2023-12-04T01:40:12.891933Z",
          "shell.execute_reply": "2023-12-04T01:40:12.891953Z"
        },
        "trusted": true,
        "id": "zZ-vbH3M53_h"
      },
      "execution_count": null,
      "outputs": []
    },
    {
      "cell_type": "code",
      "source": [
        "from sklearn.metrics import accuracy_score, classification_report\n",
        "accuracy = accuracy_score(test_with_label['label'], y_pred)\n",
        "report = classification_report(test_with_label['label'], y_pred)\n",
        "print(f\"Accuracy: {accuracy}\")\n",
        "print(\"Classification Report:\")\n",
        "print(report)"
      ],
      "metadata": {
        "id": "4GnXhDukIVl6"
      },
      "execution_count": null,
      "outputs": []
    },
    {
      "cell_type": "code",
      "source": [
        "run = pd.DataFrame(test_df['text'])\n",
        "run['label'] = y_pred\n",
        "# run\n",
        "run['label'].value_counts()\n",
        "run.to_csv('/kaggle/working/' +'Tamil_Hate_CasedmBert_1_cw.csv',index = False)"
      ],
      "metadata": {
        "execution": {
          "iopub.status.busy": "2023-12-04T01:40:12.893484Z",
          "iopub.status.idle": "2023-12-04T01:40:12.893792Z",
          "shell.execute_reply.started": "2023-12-04T01:40:12.893640Z",
          "shell.execute_reply": "2023-12-04T01:40:12.893655Z"
        },
        "trusted": true,
        "id": "rTvQQ2BV53_h"
      },
      "execution_count": null,
      "outputs": []
    },
    {
      "cell_type": "markdown",
      "source": [
        "# Ktrain XLMR"
      ],
      "metadata": {
        "id": "6paYwL3y53_i"
      }
    },
    {
      "cell_type": "code",
      "source": [
        "model_name = 'xlm-roberta-base'\n",
        "trans = text.Transformer(model_name,maxlen=64,class_names=categories)\n",
        "train = trans.preprocess_train(X_train,y_train)\n",
        "valid = trans.preprocess_test(X_data_with_label,X_data_with_label)\n",
        "model = trans.get_classifier()\n",
        "XLlearner = ktrain.get_learner(model, train_data=train,val_data=valid, batch_size=16)"
      ],
      "metadata": {
        "execution": {
          "iopub.status.busy": "2023-12-04T01:40:12.895191Z",
          "iopub.status.idle": "2023-12-04T01:40:12.895686Z",
          "shell.execute_reply.started": "2023-12-04T01:40:12.895417Z",
          "shell.execute_reply": "2023-12-04T01:40:12.895440Z"
        },
        "trusted": true,
        "id": "N6JwTmwc53_i"
      },
      "execution_count": null,
      "outputs": []
    },
    {
      "cell_type": "code",
      "source": [
        "XLlearner.lr_find(show_plot = True,max_epochs=10)"
      ],
      "metadata": {
        "execution": {
          "iopub.status.busy": "2023-12-04T01:40:12.897092Z",
          "iopub.status.idle": "2023-12-04T01:40:12.897589Z",
          "shell.execute_reply.started": "2023-12-04T01:40:12.897300Z",
          "shell.execute_reply": "2023-12-04T01:40:12.897321Z"
        },
        "trusted": true,
        "id": "dkomN_cR53_i"
      },
      "execution_count": null,
      "outputs": []
    },
    {
      "cell_type": "code",
      "source": [
        "XLlearner.fit_onecycle(8e-5,15)"
      ],
      "metadata": {
        "execution": {
          "iopub.status.busy": "2023-12-04T01:40:12.898792Z",
          "iopub.status.idle": "2023-12-04T01:40:12.899222Z",
          "shell.execute_reply.started": "2023-12-04T01:40:12.898999Z",
          "shell.execute_reply": "2023-12-04T01:40:12.899020Z"
        },
        "trusted": true,
        "id": "IVnz6rQ553_j"
      },
      "execution_count": null,
      "outputs": []
    },
    {
      "cell_type": "code",
      "source": [
        "XLlearner.validate(class_names=categories)"
      ],
      "metadata": {
        "execution": {
          "iopub.status.busy": "2023-12-04T01:40:12.900597Z",
          "iopub.status.idle": "2023-12-04T01:40:12.901026Z",
          "shell.execute_reply.started": "2023-12-04T01:40:12.900802Z",
          "shell.execute_reply": "2023-12-04T01:40:12.900823Z"
        },
        "trusted": true,
        "id": "2ny7kHt253_j"
      },
      "execution_count": null,
      "outputs": []
    },
    {
      "cell_type": "code",
      "source": [
        "predictor = ktrain.get_predictor(XLlearner.model, preproc=trans)\n",
        "y_pred = predictor.predict(X_test)\n",
        "y_pred"
      ],
      "metadata": {
        "execution": {
          "iopub.status.busy": "2023-12-04T01:40:12.902315Z",
          "iopub.status.idle": "2023-12-04T01:40:12.902661Z",
          "shell.execute_reply.started": "2023-12-04T01:40:12.902505Z",
          "shell.execute_reply": "2023-12-04T01:40:12.902521Z"
        },
        "trusted": true,
        "id": "ME_HiZYj53_j"
      },
      "execution_count": null,
      "outputs": []
    },
    {
      "cell_type": "code",
      "source": [
        "run = pd.DataFrame(test_df['text'])\n",
        "run['label'] = y_pred\n",
        "# run\n",
        "run['label'].value_counts()\n",
        "run.to_csv('/kaggle/working/' +'Tamil_Hate_XLMR_1_cw.csv',index = False)"
      ],
      "metadata": {
        "execution": {
          "iopub.status.busy": "2023-12-04T01:40:12.903899Z",
          "iopub.status.idle": "2023-12-04T01:40:12.904212Z",
          "shell.execute_reply.started": "2023-12-04T01:40:12.904053Z",
          "shell.execute_reply": "2023-12-04T01:40:12.904067Z"
        },
        "trusted": true,
        "id": "m3dbKn0R53_k"
      },
      "execution_count": null,
      "outputs": []
    },
    {
      "cell_type": "markdown",
      "source": [
        "# Ktrain DistilmBert"
      ],
      "metadata": {
        "id": "nkJ0caVu53_k"
      }
    },
    {
      "cell_type": "code",
      "source": [
        "model_name = 'distilbert-base-multilingual-cased'\n",
        "trans = text.Transformer(model_name,maxlen=128,class_names=categories)\n",
        "train = trans.preprocess_train(X_train,y_train)\n",
        "valid = trans.preprocess_test(X_data_with_label,X_data_with_label)\n",
        "model = trans.get_classifier()\n",
        "Distillearner = ktrain.get_learner(model, train_data=train,val_data=valid, batch_size=16)\n",
        "\n"
      ],
      "metadata": {
        "execution": {
          "iopub.status.busy": "2023-12-04T01:40:12.905305Z",
          "iopub.status.idle": "2023-12-04T01:40:12.905638Z",
          "shell.execute_reply.started": "2023-12-04T01:40:12.905483Z",
          "shell.execute_reply": "2023-12-04T01:40:12.905498Z"
        },
        "trusted": true,
        "id": "gdlYign153_k"
      },
      "execution_count": null,
      "outputs": []
    },
    {
      "cell_type": "code",
      "source": [
        "Distillearner.lr_find(show_plot = True,max_epochs=15)"
      ],
      "metadata": {
        "execution": {
          "iopub.status.busy": "2023-12-04T01:40:12.906519Z",
          "iopub.status.idle": "2023-12-04T01:40:12.906822Z",
          "shell.execute_reply.started": "2023-12-04T01:40:12.906670Z",
          "shell.execute_reply": "2023-12-04T01:40:12.906684Z"
        },
        "trusted": true,
        "id": "vC9mLiJa53_l"
      },
      "execution_count": null,
      "outputs": []
    },
    {
      "cell_type": "code",
      "source": [
        "Distillearner.fit_onecycle(6e-5,15)"
      ],
      "metadata": {
        "execution": {
          "iopub.status.busy": "2023-12-04T01:40:12.908085Z",
          "iopub.status.idle": "2023-12-04T01:40:12.908450Z",
          "shell.execute_reply.started": "2023-12-04T01:40:12.908258Z",
          "shell.execute_reply": "2023-12-04T01:40:12.908273Z"
        },
        "trusted": true,
        "id": "h4YOGDt553_l"
      },
      "execution_count": null,
      "outputs": []
    },
    {
      "cell_type": "code",
      "source": [
        "XLlearner.validate(class_names=categories)"
      ],
      "metadata": {
        "execution": {
          "iopub.status.busy": "2023-12-04T01:40:12.909709Z",
          "iopub.status.idle": "2023-12-04T01:40:12.910015Z",
          "shell.execute_reply.started": "2023-12-04T01:40:12.909863Z",
          "shell.execute_reply": "2023-12-04T01:40:12.909877Z"
        },
        "trusted": true,
        "id": "9Bu_frxa53_l"
      },
      "execution_count": null,
      "outputs": []
    },
    {
      "cell_type": "code",
      "source": [
        "predictor = ktrain.get_predictor(learner2.model, preproc=trans)\n",
        "y_pred = predictor.predict(X_test)"
      ],
      "metadata": {
        "execution": {
          "iopub.status.busy": "2023-12-04T01:40:12.912809Z",
          "iopub.status.idle": "2023-12-04T01:40:12.913147Z",
          "shell.execute_reply.started": "2023-12-04T01:40:12.912978Z",
          "shell.execute_reply": "2023-12-04T01:40:12.912994Z"
        },
        "trusted": true,
        "id": "ORwYAlI753_m"
      },
      "execution_count": null,
      "outputs": []
    },
    {
      "cell_type": "markdown",
      "source": [
        "# Ktrain mBert Uncased"
      ],
      "metadata": {
        "id": "DG3tcNbW53_m"
      }
    },
    {
      "cell_type": "code",
      "source": [
        "!pip install ktrain"
      ],
      "metadata": {
        "execution": {
          "iopub.status.busy": "2023-12-04T02:49:26.873347Z",
          "iopub.execute_input": "2023-12-04T02:49:26.873716Z",
          "iopub.status.idle": "2023-12-04T02:50:11.776209Z",
          "shell.execute_reply.started": "2023-12-04T02:49:26.873684Z",
          "shell.execute_reply": "2023-12-04T02:50:11.775207Z"
        },
        "trusted": true,
        "id": "8GFHAiyb53_m"
      },
      "execution_count": null,
      "outputs": []
    },
    {
      "cell_type": "code",
      "source": [
        "%reload_ext autoreload\n",
        "%autoreload 2\n",
        "%matplotlib inline\n",
        "import os\n",
        "os.environ[\"CUDA_DEVICE_ORDER\"] = \"PCI_BUS_ID\"\n",
        "os.environ[\"CUDA_VISIBLE_DEVICES\"] = \"0\"\n",
        "\n",
        "import ktrain\n",
        "from ktrain import text"
      ],
      "metadata": {
        "execution": {
          "iopub.status.busy": "2023-12-04T02:52:00.966757Z",
          "iopub.execute_input": "2023-12-04T02:52:00.967228Z",
          "iopub.status.idle": "2023-12-04T02:52:12.660359Z",
          "shell.execute_reply.started": "2023-12-04T02:52:00.967193Z",
          "shell.execute_reply": "2023-12-04T02:52:12.659462Z"
        },
        "trusted": true,
        "id": "FEqv1WoG53_n"
      },
      "execution_count": null,
      "outputs": []
    },
    {
      "cell_type": "code",
      "source": [
        "model_name = 'bert-base-multilingual-uncased'\n",
        "trans = text.Transformer(model_name,maxlen=100,class_names=categories)\n",
        "train = trans.preprocess_train(X_train,y_train)\n",
        "valid = trans.preprocess_test(X_data_with_label,X_data_with_label)\n",
        "model = trans.get_classifier()\n",
        "Distillearner = ktrain.get_learner(model, train_data=train,val_data=valid, batch_size=16)"
      ],
      "metadata": {
        "execution": {
          "iopub.status.busy": "2023-12-04T02:49:12.994125Z",
          "iopub.execute_input": "2023-12-04T02:49:12.994508Z",
          "iopub.status.idle": "2023-12-04T02:49:13.667997Z",
          "shell.execute_reply.started": "2023-12-04T02:49:12.994479Z",
          "shell.execute_reply": "2023-12-04T02:49:13.666801Z"
        },
        "trusted": true,
        "id": "IVtAuToe53_n"
      },
      "execution_count": null,
      "outputs": []
    },
    {
      "cell_type": "code",
      "source": [
        "Distillearner.lr_find(show_plot = True,max_epochs=15)"
      ],
      "metadata": {
        "execution": {
          "iopub.status.busy": "2023-12-04T01:40:12.916103Z",
          "iopub.status.idle": "2023-12-04T01:40:12.916468Z",
          "shell.execute_reply.started": "2023-12-04T01:40:12.916273Z",
          "shell.execute_reply": "2023-12-04T01:40:12.916288Z"
        },
        "trusted": true,
        "id": "6S5ZcHYP53_n"
      },
      "execution_count": null,
      "outputs": []
    },
    {
      "cell_type": "code",
      "source": [
        "Distillearner.fit_onecycle(6e-5,15)"
      ],
      "metadata": {
        "execution": {
          "iopub.status.busy": "2023-12-04T01:40:12.917840Z",
          "iopub.status.idle": "2023-12-04T01:40:12.918168Z",
          "shell.execute_reply.started": "2023-12-04T01:40:12.918007Z",
          "shell.execute_reply": "2023-12-04T01:40:12.918023Z"
        },
        "trusted": true,
        "id": "AmqNoW0A53_n"
      },
      "execution_count": null,
      "outputs": []
    },
    {
      "cell_type": "code",
      "source": [
        "XLlearner.validate(class_names=categories)"
      ],
      "metadata": {
        "execution": {
          "iopub.status.busy": "2023-12-04T01:40:12.919186Z",
          "iopub.status.idle": "2023-12-04T01:40:12.919525Z",
          "shell.execute_reply.started": "2023-12-04T01:40:12.919356Z",
          "shell.execute_reply": "2023-12-04T01:40:12.919378Z"
        },
        "trusted": true,
        "id": "JykVORpp53_n"
      },
      "execution_count": null,
      "outputs": []
    },
    {
      "cell_type": "code",
      "source": [
        "predictor = ktrain.get_predictor(learner2.model, preproc=trans)\n",
        "y_pred = predictor.predict(X_test)"
      ],
      "metadata": {
        "execution": {
          "iopub.status.busy": "2023-12-04T01:40:12.920668Z",
          "iopub.status.idle": "2023-12-04T01:40:12.920967Z",
          "shell.execute_reply.started": "2023-12-04T01:40:12.920817Z",
          "shell.execute_reply": "2023-12-04T01:40:12.920831Z"
        },
        "trusted": true,
        "id": "ULLB0TN453_o"
      },
      "execution_count": null,
      "outputs": []
    },
    {
      "cell_type": "markdown",
      "source": [
        "# Ktrain Hate-speech-CNERG/indic-abusive-allInOne-MuRIL"
      ],
      "metadata": {
        "id": "64F6_rRR53_o"
      }
    },
    {
      "cell_type": "code",
      "source": [
        "model_name = 'Hate-speech-CNERG/indic-abusive-allInOne-MuRIL'\n",
        "trans = text.Transformer(model_name,maxlen=128,class_names=categories)\n",
        "train = trans.preprocess_train(X_train,y_train)\n",
        "valid = trans.preprocess_test(X_data_with_label,X_data_with_label)\n",
        "model = trans.get_classifier()\n",
        "learner = ktrain.get_learner(model, train_data=train,val_data=valid, batch_size=16)"
      ],
      "metadata": {
        "execution": {
          "iopub.status.busy": "2023-12-04T01:40:12.922004Z",
          "iopub.status.idle": "2023-12-04T01:40:12.922329Z",
          "shell.execute_reply.started": "2023-12-04T01:40:12.922164Z",
          "shell.execute_reply": "2023-12-04T01:40:12.922179Z"
        },
        "trusted": true,
        "id": "FSP3NScK53_o"
      },
      "execution_count": null,
      "outputs": []
    },
    {
      "cell_type": "code",
      "source": [
        "learner.lr_find(show_plot = True,max_epochs=15)"
      ],
      "metadata": {
        "execution": {
          "iopub.status.busy": "2023-12-04T01:40:12.923647Z",
          "iopub.status.idle": "2023-12-04T01:40:12.924088Z",
          "shell.execute_reply.started": "2023-12-04T01:40:12.923857Z",
          "shell.execute_reply": "2023-12-04T01:40:12.923879Z"
        },
        "trusted": true,
        "id": "MDozXfcY53_o"
      },
      "execution_count": null,
      "outputs": []
    },
    {
      "cell_type": "markdown",
      "source": [
        "# Ktrain l3cube-pune/telugu-bert"
      ],
      "metadata": {
        "id": "S0MvUV_y53_o"
      }
    },
    {
      "cell_type": "code",
      "source": [
        "model_name = 'l3cube-pune/telugu-bert'\n",
        "trans = text.Transformer(model_name,maxlen=128,class_names=categories)\n",
        "train = trans.preprocess_train(X_train,y_train)\n",
        "valid = trans.preprocess_test(X_data_with_label,X_data_with_label)\n",
        "model = trans.get_classifier()\n",
        "learner = ktrain.get_learner(model, train_data=train,val_data=valid, batch_size=16)"
      ],
      "metadata": {
        "execution": {
          "iopub.status.busy": "2023-12-04T01:40:12.925153Z",
          "iopub.status.idle": "2023-12-04T01:40:12.925785Z",
          "shell.execute_reply.started": "2023-12-04T01:40:12.925380Z",
          "shell.execute_reply": "2023-12-04T01:40:12.925402Z"
        },
        "trusted": true,
        "id": "EDoYMNwN53_p"
      },
      "execution_count": null,
      "outputs": []
    },
    {
      "cell_type": "code",
      "source": [
        "learner.lr_find(show_plot = True,max_epochs=15)"
      ],
      "metadata": {
        "execution": {
          "iopub.status.busy": "2023-12-04T01:40:12.926850Z",
          "iopub.status.idle": "2023-12-04T01:40:12.927370Z",
          "shell.execute_reply.started": "2023-12-04T01:40:12.927102Z",
          "shell.execute_reply": "2023-12-04T01:40:12.927126Z"
        },
        "trusted": true,
        "id": "aQUGBIT553_p"
      },
      "execution_count": null,
      "outputs": []
    },
    {
      "cell_type": "markdown",
      "source": [
        "# Combination Model"
      ],
      "metadata": {
        "id": "rGYse9yj53_p"
      }
    },
    {
      "cell_type": "code",
      "source": [
        "pip install pytorch_pretrained_bert"
      ],
      "metadata": {
        "execution": {
          "iopub.status.busy": "2023-12-04T01:40:12.928997Z",
          "iopub.status.idle": "2023-12-04T01:40:12.929481Z",
          "shell.execute_reply.started": "2023-12-04T01:40:12.929233Z",
          "shell.execute_reply": "2023-12-04T01:40:12.929255Z"
        },
        "trusted": true,
        "id": "d5ISkfPO53_q"
      },
      "execution_count": null,
      "outputs": []
    },
    {
      "cell_type": "markdown",
      "source": [
        "## mBert + NN"
      ],
      "metadata": {
        "id": "axmIbBAJ53_q"
      }
    },
    {
      "cell_type": "code",
      "source": [
        "import tensorflow_hub as hub\n",
        "import tensorflow_text as text\n",
        "bert_preprocess1 = hub.KerasLayer(\"https://tfhub.dev/tensorflow/bert_multi_cased_preprocess/3\")\n",
        "bert_encoder1 = hub.KerasLayer(\"https://tfhub.dev/tensorflow/bert_multi_cased_L-12_H-768_A-12/4\")"
      ],
      "metadata": {
        "execution": {
          "iopub.status.busy": "2023-12-04T01:40:12.930875Z",
          "iopub.status.idle": "2023-12-04T01:40:12.931336Z",
          "shell.execute_reply.started": "2023-12-04T01:40:12.931085Z",
          "shell.execute_reply": "2023-12-04T01:40:12.931106Z"
        },
        "trusted": true,
        "id": "IcBkjfyt53_r"
      },
      "execution_count": null,
      "outputs": []
    },
    {
      "cell_type": "code",
      "source": [
        "import tensorflow as tf"
      ],
      "metadata": {
        "execution": {
          "iopub.status.busy": "2023-12-04T01:40:12.932849Z",
          "iopub.status.idle": "2023-12-04T01:40:12.933318Z",
          "shell.execute_reply.started": "2023-12-04T01:40:12.933092Z",
          "shell.execute_reply": "2023-12-04T01:40:12.933114Z"
        },
        "trusted": true,
        "id": "M7k9e_3x53_s"
      },
      "execution_count": null,
      "outputs": []
    },
    {
      "cell_type": "code",
      "source": [
        "#BERT Layers\n",
        "text_input = tf.keras.layers.Input(shape=(), dtype=tf.string, name='text')\n",
        "preprocessed_text = bert_preprocess1(text_input)\n",
        "outputs = bert_encoder1(preprocessed_text)\n"
      ],
      "metadata": {
        "execution": {
          "iopub.status.busy": "2023-12-04T01:40:12.934520Z",
          "iopub.status.idle": "2023-12-04T01:40:12.934828Z",
          "shell.execute_reply.started": "2023-12-04T01:40:12.934675Z",
          "shell.execute_reply": "2023-12-04T01:40:12.934690Z"
        },
        "trusted": true,
        "id": "ptlqjWtM53_t"
      },
      "execution_count": null,
      "outputs": []
    },
    {
      "cell_type": "code",
      "source": [
        "# Neural network layers\n",
        "input1 = tf.keras.layers.Dropout(0.1, name=\"dropout\")(outputs['pooled_output'])\n",
        "input2 = tf.keras.layers.Dense(100, activation='sigmoid', name=\"input2\")(input1)\n",
        "input3 = tf.keras.layers.Dense(50, activation='sigmoid', name=\"input3\")(input2)\n",
        "input4 = tf.keras.layers.Dense(15, activation='sigmoid', name=\"input5\")(input3)\n",
        "output = tf.keras.layers.Dense(1, activation='sigmoid', name=\"output\")(input4)\n",
        "\n",
        "# Use inputs and outputs to construct a final model\n",
        "model1 = tf.keras.Model(inputs=[text_input], outputs = [output])"
      ],
      "metadata": {
        "execution": {
          "iopub.status.busy": "2023-12-04T01:40:12.949028Z",
          "iopub.status.idle": "2023-12-04T01:40:12.949401Z",
          "shell.execute_reply.started": "2023-12-04T01:40:12.949209Z",
          "shell.execute_reply": "2023-12-04T01:40:12.949225Z"
        },
        "trusted": true,
        "id": "o_f4ymd053_u"
      },
      "execution_count": null,
      "outputs": []
    },
    {
      "cell_type": "code",
      "source": [
        "model1.summary()"
      ],
      "metadata": {
        "execution": {
          "iopub.status.busy": "2023-12-04T01:40:12.950477Z",
          "iopub.status.idle": "2023-12-04T01:40:12.950805Z",
          "shell.execute_reply.started": "2023-12-04T01:40:12.950643Z",
          "shell.execute_reply": "2023-12-04T01:40:12.950658Z"
        },
        "trusted": true,
        "id": "VvAR6ZZZ53_u"
      },
      "execution_count": null,
      "outputs": []
    },
    {
      "cell_type": "code",
      "source": [
        "METRICS = [\n",
        "      tf.keras.metrics.BinaryAccuracy(name='accuracy'),\n",
        "      tf.keras.metrics.Precision(name='precision'),\n",
        "      tf.keras.metrics.Recall(name='recall')\n",
        "]\n",
        "\n",
        "model1.compile(optimizer='adam',\n",
        "              loss='binary_crossentropy',\n",
        "              metrics=METRICS)"
      ],
      "metadata": {
        "execution": {
          "iopub.status.busy": "2023-12-04T01:40:12.951801Z",
          "iopub.status.idle": "2023-12-04T01:40:12.952112Z",
          "shell.execute_reply.started": "2023-12-04T01:40:12.951952Z",
          "shell.execute_reply": "2023-12-04T01:40:12.951966Z"
        },
        "trusted": true,
        "id": "F0ROh-8u53_v"
      },
      "execution_count": null,
      "outputs": []
    },
    {
      "cell_type": "code",
      "source": [
        "model1.fit(X_train, y_train, epochs=10)"
      ],
      "metadata": {
        "execution": {
          "iopub.status.busy": "2023-12-04T01:40:12.953270Z",
          "iopub.status.idle": "2023-12-04T01:40:12.953616Z",
          "shell.execute_reply.started": "2023-12-04T01:40:12.953453Z",
          "shell.execute_reply": "2023-12-04T01:40:12.953469Z"
        },
        "trusted": true,
        "id": "wJKYqeUb53_v"
      },
      "execution_count": null,
      "outputs": []
    },
    {
      "cell_type": "code",
      "source": [
        "model1.evaluate(X_data_with_label, X_data_with_label)"
      ],
      "metadata": {
        "execution": {
          "iopub.status.busy": "2023-12-04T01:40:12.954871Z",
          "iopub.status.idle": "2023-12-04T01:40:12.955207Z",
          "shell.execute_reply.started": "2023-12-04T01:40:12.955038Z",
          "shell.execute_reply": "2023-12-04T01:40:12.955054Z"
        },
        "trusted": true,
        "id": "uAfqiELY53_w"
      },
      "execution_count": null,
      "outputs": []
    },
    {
      "cell_type": "code",
      "source": [
        "y_predicted = model1.predict(X_data_with_label)\n",
        "y_predicted = y_predicted.flatten()"
      ],
      "metadata": {
        "execution": {
          "iopub.status.busy": "2023-12-04T01:40:12.956638Z",
          "iopub.status.idle": "2023-12-04T01:40:12.956941Z",
          "shell.execute_reply.started": "2023-12-04T01:40:12.956791Z",
          "shell.execute_reply": "2023-12-04T01:40:12.956805Z"
        },
        "trusted": true,
        "id": "BMvrjUHE53_w"
      },
      "execution_count": null,
      "outputs": []
    },
    {
      "cell_type": "code",
      "source": [
        "y_predicted = np.where(y_predicted > 0.5, 1, 0)\n",
        "y_predicted.shape"
      ],
      "metadata": {
        "execution": {
          "iopub.status.busy": "2023-12-04T01:40:12.958312Z",
          "iopub.status.idle": "2023-12-04T01:40:12.958647Z",
          "shell.execute_reply.started": "2023-12-04T01:40:12.958493Z",
          "shell.execute_reply": "2023-12-04T01:40:12.958508Z"
        },
        "trusted": true,
        "id": "bvLlirEp53_x"
      },
      "execution_count": null,
      "outputs": []
    },
    {
      "cell_type": "code",
      "source": [
        "from sklearn.metrics import confusion_matrix, classification_report\n",
        "\n",
        "cm = confusion_matrix(X_data_with_label, y_predicted)\n",
        "cm"
      ],
      "metadata": {
        "execution": {
          "iopub.status.busy": "2023-12-04T01:40:12.959797Z",
          "iopub.status.idle": "2023-12-04T01:40:12.960131Z",
          "shell.execute_reply.started": "2023-12-04T01:40:12.959962Z",
          "shell.execute_reply": "2023-12-04T01:40:12.959978Z"
        },
        "trusted": true,
        "id": "HoqT1o3q53_x"
      },
      "execution_count": null,
      "outputs": []
    },
    {
      "cell_type": "code",
      "source": [
        "from matplotlib import pyplot as plt\n",
        "import seaborn as sn\n",
        "sn.heatmap(cm, annot=True, fmt='d')\n",
        "plt.xlabel('Predicted')\n",
        "plt.ylabel('Truth')"
      ],
      "metadata": {
        "execution": {
          "iopub.status.busy": "2023-12-04T01:40:12.961219Z",
          "iopub.status.idle": "2023-12-04T01:40:12.961563Z",
          "shell.execute_reply.started": "2023-12-04T01:40:12.961399Z",
          "shell.execute_reply": "2023-12-04T01:40:12.961415Z"
        },
        "trusted": true,
        "id": "BRAR1HJt53_x"
      },
      "execution_count": null,
      "outputs": []
    },
    {
      "cell_type": "code",
      "source": [
        "print(classification_report(X_data_with_label, y_predicted))"
      ],
      "metadata": {
        "execution": {
          "iopub.status.busy": "2023-12-04T01:40:12.962631Z",
          "iopub.status.idle": "2023-12-04T01:40:12.962936Z",
          "shell.execute_reply.started": "2023-12-04T01:40:12.962784Z",
          "shell.execute_reply": "2023-12-04T01:40:12.962799Z"
        },
        "trusted": true,
        "id": "-YRC0vkT53_x"
      },
      "execution_count": null,
      "outputs": []
    },
    {
      "cell_type": "markdown",
      "source": [
        "# mBert + BiLSTM"
      ],
      "metadata": {
        "id": "xhC40fzm53_x"
      }
    },
    {
      "cell_type": "code",
      "source": [
        "bert_preprocess2 = hub.KerasLayer(\"https://tfhub.dev/tensorflow/bert_multi_cased_preprocess/3\")\n",
        "bert_encoder2 = hub.KerasLayer(\"https://tfhub.dev/tensorflow/bert_multi_cased_L-12_H-768_A-12/4\")"
      ],
      "metadata": {
        "execution": {
          "iopub.status.busy": "2023-12-04T01:40:12.964718Z",
          "iopub.status.idle": "2023-12-04T01:40:12.965153Z",
          "shell.execute_reply.started": "2023-12-04T01:40:12.964927Z",
          "shell.execute_reply": "2023-12-04T01:40:12.964948Z"
        },
        "trusted": true,
        "id": "afK9tDDU53_y"
      },
      "execution_count": null,
      "outputs": []
    },
    {
      "cell_type": "code",
      "source": [
        "#BERT Layers\n",
        "text_input = Input(shape=(), dtype=tf.string, name='cleanText')\n",
        "preprocessed_text2 = bert_preprocess2(text_input)\n",
        "outputs2 = bert_encoder2(preprocessed_text2)"
      ],
      "metadata": {
        "execution": {
          "iopub.status.busy": "2023-12-04T01:40:12.966194Z",
          "iopub.status.idle": "2023-12-04T01:40:12.966649Z",
          "shell.execute_reply.started": "2023-12-04T01:40:12.966416Z",
          "shell.execute_reply": "2023-12-04T01:40:12.966437Z"
        },
        "trusted": true,
        "id": "GqfkFIFK53_y"
      },
      "execution_count": null,
      "outputs": []
    },
    {
      "cell_type": "code",
      "source": [
        "from tensorflow.keras.layers import Reshape, Bidirectional, LSTM, GlobalAveragePooling1D, GlobalMaxPooling1D, Dense, Dropout, Input, concatenate\n",
        "from tensorflow.keras.models import Model\n",
        "\n",
        "\n",
        "# BERT embeddings\n",
        "bert_embedding = outputs2['pooled_output']  # or 'sequence_output' based on your use case\n",
        "bert_embedding = Dropout(0.2)(bert_embedding)\n",
        "\n",
        "# Reshape BERT embeddings to a 3D tensor\n",
        "bert_embedding = Reshape((-1, 768))(bert_embedding)  # Replace 768 with the actual hidden size\n",
        "\n",
        "# Bidirectional LSTM layer\n",
        "lstm_output = Bidirectional(LSTM(64, return_sequences=True))(bert_embedding)\n",
        "\n",
        "# Pooling layers\n",
        "avg_pooling = GlobalAveragePooling1D()(lstm_output)\n",
        "max_pooling = GlobalMaxPooling1D()(lstm_output)\n",
        "\n",
        "# Concatenate and additional dense layers\n",
        "concat_output = concatenate([avg_pooling, max_pooling])\n",
        "dense_layer = Dense(128, activation='relu')(concat_output)\n",
        "dense_layer = Dropout(0.3)(dense_layer)\n",
        "\n",
        "# Additional Dense layer\n",
        "dense_layer_2 = Dense(64, activation='relu')(dense_layer)\n",
        "dense_layer_2 = Dropout(0.3)(dense_layer_2)\n",
        "\n",
        "# Output layer\n",
        "output_layer = Dense(1, activation='sigmoid')(dense_layer_2)\n",
        "\n",
        "# Connect the input and output layers to create the model\n",
        "model2 = Model(inputs=text_input, outputs=output_layer)\n"
      ],
      "metadata": {
        "execution": {
          "iopub.status.busy": "2023-12-04T01:40:12.967996Z",
          "iopub.status.idle": "2023-12-04T01:40:12.968373Z",
          "shell.execute_reply.started": "2023-12-04T01:40:12.968185Z",
          "shell.execute_reply": "2023-12-04T01:40:12.968201Z"
        },
        "trusted": true,
        "id": "BCpWvejR53_y"
      },
      "execution_count": null,
      "outputs": []
    },
    {
      "cell_type": "code",
      "source": [
        "model2.summary()"
      ],
      "metadata": {
        "execution": {
          "iopub.status.busy": "2023-12-04T01:40:12.969679Z",
          "iopub.status.idle": "2023-12-04T01:40:12.970005Z",
          "shell.execute_reply.started": "2023-12-04T01:40:12.969845Z",
          "shell.execute_reply": "2023-12-04T01:40:12.969861Z"
        },
        "trusted": true,
        "id": "8orc63Pg53_y"
      },
      "execution_count": null,
      "outputs": []
    },
    {
      "cell_type": "code",
      "source": [
        "METRICS = [\n",
        "      tf.keras.metrics.BinaryAccuracy(name='accuracy'),\n",
        "      tf.keras.metrics.Precision(name='precision'),\n",
        "      tf.keras.metrics.Recall(name='recall')\n",
        "]\n",
        "\n",
        "model2.compile(optimizer='adam',\n",
        "              loss='binary_crossentropy',\n",
        "              metrics=METRICS)"
      ],
      "metadata": {
        "execution": {
          "iopub.status.busy": "2023-12-04T01:40:12.971218Z",
          "iopub.status.idle": "2023-12-04T01:40:12.971559Z",
          "shell.execute_reply.started": "2023-12-04T01:40:12.971395Z",
          "shell.execute_reply": "2023-12-04T01:40:12.971411Z"
        },
        "trusted": true,
        "id": "N84y6PaE53_y"
      },
      "execution_count": null,
      "outputs": []
    },
    {
      "cell_type": "code",
      "source": [
        "model2.fit(X_train, y_train, epochs=10)"
      ],
      "metadata": {
        "execution": {
          "iopub.status.busy": "2023-12-04T01:40:12.972709Z",
          "iopub.status.idle": "2023-12-04T01:40:12.973044Z",
          "shell.execute_reply.started": "2023-12-04T01:40:12.972880Z",
          "shell.execute_reply": "2023-12-04T01:40:12.972896Z"
        },
        "trusted": true,
        "id": "FP-RItgg53_z"
      },
      "execution_count": null,
      "outputs": []
    },
    {
      "cell_type": "code",
      "source": [
        "model2.evaluate(X_data_with_label, X_data_with_label)"
      ],
      "metadata": {
        "execution": {
          "iopub.status.busy": "2023-12-04T01:40:12.973999Z",
          "iopub.status.idle": "2023-12-04T01:40:12.974416Z",
          "shell.execute_reply.started": "2023-12-04T01:40:12.974202Z",
          "shell.execute_reply": "2023-12-04T01:40:12.974227Z"
        },
        "trusted": true,
        "id": "3ghypuzz53_z"
      },
      "execution_count": null,
      "outputs": []
    },
    {
      "cell_type": "code",
      "source": [
        "y_predicted = model2.predict(X_data_with_label)\n",
        "y_predicted = y_predicted.flatten()"
      ],
      "metadata": {
        "execution": {
          "iopub.status.busy": "2023-12-04T01:40:12.975200Z",
          "iopub.status.idle": "2023-12-04T01:40:12.975544Z",
          "shell.execute_reply.started": "2023-12-04T01:40:12.975380Z",
          "shell.execute_reply": "2023-12-04T01:40:12.975396Z"
        },
        "trusted": true,
        "id": "yTMh5YgI53_0"
      },
      "execution_count": null,
      "outputs": []
    },
    {
      "cell_type": "code",
      "source": [
        "y_predicted = np.where(y_predicted > 0.5, 1, 0)\n",
        "y_predicted.shape"
      ],
      "metadata": {
        "execution": {
          "iopub.status.busy": "2023-12-04T01:40:12.976894Z",
          "iopub.status.idle": "2023-12-04T01:40:12.977198Z",
          "shell.execute_reply.started": "2023-12-04T01:40:12.977047Z",
          "shell.execute_reply": "2023-12-04T01:40:12.977061Z"
        },
        "trusted": true,
        "id": "jcEQM4zK53_1"
      },
      "execution_count": null,
      "outputs": []
    },
    {
      "cell_type": "code",
      "source": [
        "from sklearn.metrics import confusion_matrix, classification_report\n",
        "\n",
        "cm = confusion_matrix(X_data_with_label, y_predicted)\n",
        "cm"
      ],
      "metadata": {
        "execution": {
          "iopub.status.busy": "2023-12-04T01:40:12.978008Z",
          "iopub.status.idle": "2023-12-04T01:40:12.978332Z",
          "shell.execute_reply.started": "2023-12-04T01:40:12.978173Z",
          "shell.execute_reply": "2023-12-04T01:40:12.978188Z"
        },
        "trusted": true,
        "id": "g4jlZxZT53_1"
      },
      "execution_count": null,
      "outputs": []
    },
    {
      "cell_type": "code",
      "source": [
        "from matplotlib import pyplot as plt\n",
        "import seaborn as sn\n",
        "sn.heatmap(cm, annot=True, fmt='d')\n",
        "plt.xlabel('Predicted')\n",
        "plt.ylabel('Truth')"
      ],
      "metadata": {
        "execution": {
          "iopub.status.busy": "2023-12-04T01:40:12.979698Z",
          "iopub.status.idle": "2023-12-04T01:40:12.980003Z",
          "shell.execute_reply.started": "2023-12-04T01:40:12.979852Z",
          "shell.execute_reply": "2023-12-04T01:40:12.979866Z"
        },
        "trusted": true,
        "id": "FM4A_Bx353_2"
      },
      "execution_count": null,
      "outputs": []
    },
    {
      "cell_type": "code",
      "source": [
        "print(classification_report(X_data_with_label, y_predicted))"
      ],
      "metadata": {
        "execution": {
          "iopub.status.busy": "2023-12-04T01:40:12.981019Z",
          "iopub.status.idle": "2023-12-04T01:40:12.981322Z",
          "shell.execute_reply.started": "2023-12-04T01:40:12.981171Z",
          "shell.execute_reply": "2023-12-04T01:40:12.981185Z"
        },
        "trusted": true,
        "id": "AVkNJphl53_2"
      },
      "execution_count": null,
      "outputs": []
    },
    {
      "cell_type": "markdown",
      "source": [
        "# mBert Uncased + BiLSTM"
      ],
      "metadata": {
        "id": "IidHqFXU53_2"
      }
    },
    {
      "cell_type": "code",
      "source": [
        "bert_preprocess_mbert = hub.KerasLayer(\"https://tfhub.dev/tensorflow/bert_en_uncased_preprocess/3\")\n",
        "bert_encoder_mbert = hub.KerasLayer(\"https://tfhub.dev/tensorflow/small_bert/bert_en_uncased_L-4_H-512_A-8/2\")\n",
        "\n",
        "# BERT Layers\n",
        "text_input = Input(shape=(), dtype=tf.string, name='cleanText')\n",
        "preprocessed_text_mbert = bert_preprocess_mbert(text_input)\n",
        "outputs_mbert = bert_encoder_mbert(preprocessed_text_mbert)\n",
        "\n",
        "# BERT embeddings\n",
        "bert_embedding_mbert = outputs_mbert['pooled_output']  # or 'sequence_output' based on your use case\n",
        "bert_embedding_mbert = Dropout(0.2)(bert_embedding_mbert)\n",
        "\n",
        "# Reshape BERT embeddings to a 3D tensor\n",
        "bert_embedding_mbert = Reshape((-1, 512))(bert_embedding_mbert)  # Replace 512 with the actual hidden size\n",
        "\n",
        "# Bidirectional LSTM layer\n",
        "lstm_output_mbert = Bidirectional(LSTM(64, return_sequences=True))(bert_embedding_mbert)\n",
        "\n",
        "# Pooling layers\n",
        "avg_pooling_mbert = GlobalAveragePooling1D()(lstm_output_mbert)\n",
        "max_pooling_mbert = GlobalMaxPooling1D()(lstm_output_mbert)\n",
        "\n",
        "# Concatenate and additional dense layers\n",
        "concat_output_mbert = concatenate([avg_pooling_mbert, max_pooling_mbert])\n",
        "dense_layer_mbert = Dense(128, activation='relu')(concat_output_mbert)\n",
        "dense_layer_mbert = Dropout(0.3)(dense_layer_mbert)\n",
        "\n",
        "# Additional Dense layer\n",
        "dense_layer_2_mbert = Dense(64, activation='relu')(dense_layer_mbert)\n",
        "dense_layer_2_mbert = Dropout(0.3)(dense_layer_2_mbert)\n",
        "\n",
        "# Output layer\n",
        "output_layer_mbert = Dense(1, activation='sigmoid')(dense_layer_2_mbert)\n",
        "\n",
        "# Connect the input and output layers to create the model\n",
        "model_mbert = Model(inputs=text_input, outputs=output_layer_mbert)\n",
        "\n",
        "model_mbert.summary()\n",
        "\n",
        "METRICS = [\n",
        "    tf.keras.metrics.BinaryAccuracy(name='accuracy'),\n",
        "    tf.keras.metrics.Precision(name='precision'),\n",
        "    tf.keras.metrics.Recall(name='recall')\n",
        "]\n",
        "\n",
        "model_mbert.compile(optimizer='adam',\n",
        "                    loss='binary_crossentropy',\n",
        "                    metrics=METRICS)\n",
        "\n"
      ],
      "metadata": {
        "execution": {
          "iopub.status.busy": "2023-12-04T01:40:12.982571Z",
          "iopub.status.idle": "2023-12-04T01:40:12.982874Z",
          "shell.execute_reply.started": "2023-12-04T01:40:12.982722Z",
          "shell.execute_reply": "2023-12-04T01:40:12.982737Z"
        },
        "trusted": true,
        "id": "eoLG9eXd53_3"
      },
      "execution_count": null,
      "outputs": []
    },
    {
      "cell_type": "code",
      "source": [
        "model_mbert.fit(X_train, y_train, epochs=10)"
      ],
      "metadata": {
        "execution": {
          "iopub.status.busy": "2023-12-04T01:40:12.983827Z",
          "iopub.status.idle": "2023-12-04T01:40:12.984140Z",
          "shell.execute_reply.started": "2023-12-04T01:40:12.983980Z",
          "shell.execute_reply": "2023-12-04T01:40:12.983994Z"
        },
        "trusted": true,
        "id": "foCPCpvv53_4"
      },
      "execution_count": null,
      "outputs": []
    },
    {
      "cell_type": "code",
      "source": [
        "model_mbert.evaluate(X_data_with_label, X_data_with_label)\n",
        "\n",
        "y_predicted_mbert = model_mbert.predict(X_data_with_label)\n",
        "y_predicted_mbert = y_predicted_mbert.flatten()\n",
        "\n",
        "y_predicted_mbert = np.where(y_predicted_mbert > 0.5, 1, 0)\n",
        "y_predicted_mbert.shape"
      ],
      "metadata": {
        "execution": {
          "iopub.status.busy": "2023-12-04T01:40:12.985320Z",
          "iopub.status.idle": "2023-12-04T01:40:12.985805Z",
          "shell.execute_reply.started": "2023-12-04T01:40:12.985643Z",
          "shell.execute_reply": "2023-12-04T01:40:12.985659Z"
        },
        "trusted": true,
        "id": "BjMNh2SN53_4"
      },
      "execution_count": null,
      "outputs": []
    },
    {
      "cell_type": "code",
      "source": [
        "from sklearn.metrics import confusion_matrix, classification_report\n",
        "\n",
        "cm_mbert = confusion_matrix(X_data_with_label, y_predicted_mbert)\n",
        "cm_mbert\n",
        "\n",
        "from matplotlib import pyplot as plt\n",
        "import seaborn as sn\n",
        "sn.heatmap(cm_mbert, annot=True, fmt='d')\n",
        "plt.xlabel('Predicted')\n",
        "plt.ylabel('Truth')\n",
        "\n",
        "print(classification_report(X_data_with_label, y_predicted_mbert))"
      ],
      "metadata": {
        "execution": {
          "iopub.status.busy": "2023-12-04T01:40:12.986676Z",
          "iopub.status.idle": "2023-12-04T01:40:12.987001Z",
          "shell.execute_reply.started": "2023-12-04T01:40:12.986841Z",
          "shell.execute_reply": "2023-12-04T01:40:12.986857Z"
        },
        "trusted": true,
        "id": "wYV-Bivr53_5"
      },
      "execution_count": null,
      "outputs": []
    },
    {
      "cell_type": "markdown",
      "source": [
        "# BiLSTM + MuRIL BERT"
      ],
      "metadata": {
        "id": "AUZdN5rl53_5"
      }
    },
    {
      "cell_type": "code",
      "source": [
        "# bert_encoder2 = hub.KerasLayer(\"https://tfhub.dev/google/MuRIL-Large/1\")\n",
        "muril_preprocess = hub.KerasLayer(\"https://tfhub.dev/google/MuRIL_preprocess/1\")\n",
        "muril_encoder = hub.KerasLayer(\"https://tfhub.dev/google/MuRIL/1\")\n",
        "\n",
        "# BERT Layers\n",
        "text_input = Input(shape=(), dtype=tf.string, name='cleanText')\n",
        "preprocessed_text_muril = muril_preprocess(text_input)\n",
        "outputs_muril = muril_encoder(preprocessed_text_muril)\n",
        "\n",
        "# BERT embeddings\n",
        "bert_embedding_muril = outputs_muril['pooled_output']  # or 'sequence_output' based on your use case\n",
        "bert_embedding_muril = Dropout(0.2)(bert_embedding_muril)\n",
        "\n",
        "# Reshape BERT embeddings to a 3D tensor\n",
        "bert_embedding_muril = Reshape((-1, 768))(bert_embedding_muril)  # Replace 768 with the actual hidden size\n",
        "\n",
        "# Bidirectional LSTM layer\n",
        "lstm_output_muril = Bidirectional(LSTM(64, return_sequences=True))(bert_embedding_muril)\n",
        "\n",
        "# Pooling layers\n",
        "avg_pooling_muril = GlobalAveragePooling1D()(lstm_output_muril)\n",
        "max_pooling_muril = GlobalMaxPooling1D()(lstm_output_muril)\n",
        "\n",
        "# Concatenate and additional dense layers\n",
        "concat_output_muril = concatenate([avg_pooling_muril, max_pooling_muril])\n",
        "dense_layer_muril = Dense(128, activation='relu')(concat_output_muril)\n",
        "dense_layer_muril = Dropout(0.3)(dense_layer_muril)\n",
        "\n",
        "# Additional Dense layer\n",
        "dense_layer_2_muril = Dense(64, activation='relu')(dense_layer_muril)\n",
        "dense_layer_2_muril = Dropout(0.3)(dense_layer_2_muril)\n",
        "\n",
        "# Output layer\n",
        "output_layer_muril = Dense(1, activation='sigmoid')(dense_layer_2_muril)\n",
        "\n",
        "# Connect the input and output layers to create the model\n",
        "model_muril = Model(inputs=text_input, outputs=output_layer_muril)\n",
        "\n",
        "model_muril.summary()\n",
        "\n",
        "METRICS = [\n",
        "    tf.keras.metrics.BinaryAccuracy(name='accuracy'),\n",
        "    tf.keras.metrics.Precision(name='precision'),\n",
        "    tf.keras.metrics.Recall(name='recall')\n",
        "]\n",
        "\n",
        "model_muril.compile(optimizer='adam',\n",
        "                    loss='binary_crossentropy',\n",
        "                    metrics=METRICS)"
      ],
      "metadata": {
        "execution": {
          "iopub.status.busy": "2023-12-04T01:40:12.987977Z",
          "iopub.status.idle": "2023-12-04T01:40:12.988321Z",
          "shell.execute_reply.started": "2023-12-04T01:40:12.988160Z",
          "shell.execute_reply": "2023-12-04T01:40:12.988176Z"
        },
        "trusted": true,
        "id": "WaR1WO4153_6"
      },
      "execution_count": null,
      "outputs": []
    },
    {
      "cell_type": "code",
      "source": [
        "model_muril.fit(X_train, y_train, epochs=10, batch_size=16, validation_data=(X_data_with_label, X_data_with_label))"
      ],
      "metadata": {
        "execution": {
          "iopub.status.busy": "2023-12-04T01:40:12.989959Z",
          "iopub.status.idle": "2023-12-04T01:40:12.990291Z",
          "shell.execute_reply.started": "2023-12-04T01:40:12.990130Z",
          "shell.execute_reply": "2023-12-04T01:40:12.990145Z"
        },
        "trusted": true,
        "id": "PON61qlu53_7"
      },
      "execution_count": null,
      "outputs": []
    },
    {
      "cell_type": "code",
      "source": [
        "model_muril.evaluate(X_data_with_label, X_data_with_label)\n",
        "\n",
        "y_predicted_muril = model_muril.predict(X_data_with_label)\n",
        "y_predicted_muril = y_predicted_muril.flatten()\n",
        "\n",
        "y_predicted_muril = np.where(y_predicted_muril > 0.5, 1, 0)\n",
        "y_predicted_muril.shape"
      ],
      "metadata": {
        "execution": {
          "iopub.status.busy": "2023-12-04T01:40:12.991409Z",
          "iopub.status.idle": "2023-12-04T01:40:12.991741Z",
          "shell.execute_reply.started": "2023-12-04T01:40:12.991570Z",
          "shell.execute_reply": "2023-12-04T01:40:12.991585Z"
        },
        "trusted": true,
        "id": "tppxlQNd53_7"
      },
      "execution_count": null,
      "outputs": []
    },
    {
      "cell_type": "code",
      "source": [
        "from sklearn.metrics import confusion_matrix, classification_report\n",
        "\n",
        "cm_muril = confusion_matrix(X_data_with_label, y_predicted_muril)\n",
        "cm_muril\n",
        "\n",
        "from matplotlib import pyplot as plt\n",
        "import seaborn as sn\n",
        "sn.heatmap(cm_muril, annot=True, fmt='d')\n",
        "plt.xlabel('Predicted')\n",
        "plt.ylabel('Truth')\n",
        "\n",
        "print(classification_report(X_data_with_label, y_predicted_muril))"
      ],
      "metadata": {
        "execution": {
          "iopub.status.busy": "2023-12-04T01:40:12.993454Z",
          "iopub.status.idle": "2023-12-04T01:40:12.993760Z",
          "shell.execute_reply.started": "2023-12-04T01:40:12.993609Z",
          "shell.execute_reply": "2023-12-04T01:40:12.993624Z"
        },
        "trusted": true,
        "id": "BX882b_T53_8"
      },
      "execution_count": null,
      "outputs": []
    },
    {
      "cell_type": "markdown",
      "source": [
        "# DL"
      ],
      "metadata": {
        "id": "AmJ9Czcak5A8"
      }
    },
    {
      "cell_type": "code",
      "source": [
        "import tensorflow as tf\n",
        "from tensorflow import keras\n",
        "from tensorflow.keras.preprocessing.sequence import pad_sequences\n",
        "from tensorflow.keras.preprocessing.text import Tokenizer\n",
        "from tensorflow.keras import regularizers\n",
        "from tensorflow.keras.layers import LSTM,GRU\n",
        "from tensorflow.keras.models import load_model\n",
        "print(\"Tensorflow Version:--\",tf.version.VERSION)\n",
        "#print(\"Keras Version:---\",keras.__version__)"
      ],
      "metadata": {
        "id": "CxAJnOgbBfqd",
        "execution": {
          "iopub.status.busy": "2023-12-04T01:40:12.994624Z",
          "iopub.status.idle": "2023-12-04T01:40:12.994948Z",
          "shell.execute_reply.started": "2023-12-04T01:40:12.994789Z",
          "shell.execute_reply": "2023-12-04T01:40:12.994804Z"
        },
        "trusted": true
      },
      "execution_count": null,
      "outputs": []
    },
    {
      "cell_type": "markdown",
      "source": [
        "## Tokenization"
      ],
      "metadata": {
        "id": "6NVxMdd8mz30"
      }
    },
    {
      "cell_type": "code",
      "source": [
        "from sklearn.model_selection import train_test_split\n",
        "X_train, X_data_with_label, y_train, X_data_with_label = train_test_split(train_df['cleanText'], train_df['enc_label'], test_size=0.2, random_state=42)"
      ],
      "metadata": {
        "id": "gFyNjJEa9tsN",
        "execution": {
          "iopub.status.busy": "2023-12-04T01:40:12.996624Z",
          "iopub.status.idle": "2023-12-04T01:40:12.996952Z",
          "shell.execute_reply.started": "2023-12-04T01:40:12.996792Z",
          "shell.execute_reply": "2023-12-04T01:40:12.996807Z"
        },
        "trusted": true
      },
      "execution_count": null,
      "outputs": []
    },
    {
      "cell_type": "code",
      "source": [
        "tokenizer = Tokenizer(num_words = 20000,filters='!\"#$%&()*+,-./:;<=>?@[\\\\]^_`{|}~\\t\\n-',\n",
        "                      split=' ', char_level=False, oov_token='<oov>', document_count=0)     #tokenization\n",
        "tokenizer.fit_on_texts(train_df['cleanText'])\n",
        "word_index = tokenizer.word_index\n",
        "vocab_size = len(word_index)+1"
      ],
      "metadata": {
        "id": "EzCnzcxels9w",
        "execution": {
          "iopub.status.busy": "2023-12-04T01:40:12.998234Z",
          "iopub.status.idle": "2023-12-04T01:40:12.998582Z",
          "shell.execute_reply.started": "2023-12-04T01:40:12.998417Z",
          "shell.execute_reply": "2023-12-04T01:40:12.998433Z"
        },
        "trusted": true
      },
      "execution_count": null,
      "outputs": []
    },
    {
      "cell_type": "code",
      "source": [
        "print(vocab_size)\n",
        "print(train_df['enc_label'].dtype)"
      ],
      "metadata": {
        "id": "eRUDQVm9l4Dw",
        "execution": {
          "iopub.status.busy": "2023-12-04T01:40:12.999757Z",
          "iopub.status.idle": "2023-12-04T01:40:13.000061Z",
          "shell.execute_reply.started": "2023-12-04T01:40:12.999910Z",
          "shell.execute_reply": "2023-12-04T01:40:12.999924Z"
        },
        "trusted": true
      },
      "execution_count": null,
      "outputs": []
    },
    {
      "cell_type": "code",
      "source": [
        "max_len = 64\n",
        "# Training Sequences\n",
        "train_sequences = tokenizer.texts_to_sequences(X_train)#train_df['cleanText']\n",
        "print(len(tokenizer.word_index))\n",
        "train_pad_sequences =  keras.preprocessing.sequence.pad_sequences(train_sequences, value=0.0, padding='post', maxlen= max_len)\n",
        "print(\"Number of Training Sequences :\" ,train_pad_sequences.shape)\n",
        "\n",
        "# Validation Sequences\n",
        "validation_sequences = tokenizer.texts_to_sequences(X_data_with_label)\n",
        "validation_pad_sequences =  keras.preprocessing.sequence.pad_sequences(validation_sequences, value=0.0, padding='post', maxlen= max_len)\n",
        "print(\"Number of Validation Sequences :\" ,validation_pad_sequences.shape)"
      ],
      "metadata": {
        "id": "uarfABkvl7Yr",
        "execution": {
          "iopub.status.busy": "2023-12-04T01:40:13.000820Z",
          "iopub.status.idle": "2023-12-04T01:40:13.001154Z",
          "shell.execute_reply.started": "2023-12-04T01:40:13.000983Z",
          "shell.execute_reply": "2023-12-04T01:40:13.000999Z"
        },
        "trusted": true
      },
      "execution_count": null,
      "outputs": []
    },
    {
      "cell_type": "code",
      "source": [
        "# Test Sequences\n",
        "test_sequences = tokenizer.texts_to_sequences(X_test)\n",
        "test_pad_sequences =  keras.preprocessing.sequence.pad_sequences(test_sequences, value=0.0, padding='post', maxlen= max_len)\n",
        "print(\"Number of Test Sequences :\" ,test_pad_sequences.shape)"
      ],
      "metadata": {
        "id": "MXyeme40l-eB",
        "execution": {
          "iopub.status.busy": "2023-12-04T01:40:13.002331Z",
          "iopub.status.idle": "2023-12-04T01:40:13.002677Z",
          "shell.execute_reply.started": "2023-12-04T01:40:13.002515Z",
          "shell.execute_reply": "2023-12-04T01:40:13.002530Z"
        },
        "trusted": true
      },
      "execution_count": null,
      "outputs": []
    },
    {
      "cell_type": "code",
      "source": [
        "#from sklearn.utils import class_weight\n",
        "#class_weights = class_weight.compute_class_weight('balanced' ,np.unique(train_data['enc_label']) ,train_data['enc_label'])\n",
        "\n",
        "#weight = {i : class_weights[i] for i in range(6)}"
      ],
      "metadata": {
        "id": "j9kIGK-OmBus",
        "execution": {
          "iopub.status.busy": "2023-12-04T01:40:13.003621Z",
          "iopub.status.idle": "2023-12-04T01:40:13.003945Z",
          "shell.execute_reply.started": "2023-12-04T01:40:13.003785Z",
          "shell.execute_reply": "2023-12-04T01:40:13.003800Z"
        },
        "trusted": true
      },
      "execution_count": null,
      "outputs": []
    },
    {
      "cell_type": "code",
      "source": [
        "#weight"
      ],
      "metadata": {
        "id": "5krw66ZamRD0",
        "execution": {
          "iopub.status.busy": "2023-12-04T01:40:13.004748Z",
          "iopub.status.idle": "2023-12-04T01:40:13.005049Z",
          "shell.execute_reply.started": "2023-12-04T01:40:13.004898Z",
          "shell.execute_reply": "2023-12-04T01:40:13.004912Z"
        },
        "trusted": true
      },
      "execution_count": null,
      "outputs": []
    },
    {
      "cell_type": "markdown",
      "source": [
        "## Model Definition"
      ],
      "metadata": {
        "id": "W78RdJg-pNxW"
      }
    },
    {
      "cell_type": "code",
      "source": [
        "label_encoder = LabelEncoder()\n",
        "y_train = train_df['enc_label']"
      ],
      "metadata": {
        "id": "BdpQtfHKBHHd",
        "execution": {
          "iopub.status.busy": "2023-12-04T01:40:13.006463Z",
          "iopub.status.idle": "2023-12-04T01:40:13.006770Z",
          "shell.execute_reply.started": "2023-12-04T01:40:13.006618Z",
          "shell.execute_reply": "2023-12-04T01:40:13.006632Z"
        },
        "trusted": true
      },
      "execution_count": null,
      "outputs": []
    },
    {
      "cell_type": "code",
      "source": [
        "num_classes = 1            #### change class number\n",
        "\n",
        "accuracy_threshold = 0.99\n",
        "\n",
        "class myCallback(keras.callbacks.Callback):\n",
        "  def on_epoch_end(self, epoch, logs={}):\n",
        "      if(logs.get('accuracy')>accuracy_threshold):\n",
        "        print(\"\\nReached %2.2f%% accuracy so we will stop trianing\" % (accuracy_threshold*100))\n",
        "        self.model.stop_training = True\n",
        "\n",
        "acc_callback = myCallback()\n",
        "# Saved the Best Model\n",
        "filepath = \"/kaggle/input/hate-offensive/ta_off_BiLSTMModel.h5\"\n",
        "checkpoint = keras.callbacks.ModelCheckpoint(filepath, monitor='val_accuracy', verbose=2, save_best_only=True,\n",
        "                                             save_weights_only=False, mode='max')\n",
        "# callback list\n",
        "callback_list = [acc_callback, checkpoint]\n",
        "model = tf.keras.models.Sequential([\n",
        "tf.keras.layers.Embedding(vocab_size, 100, input_length = max_len),\n",
        "#tf.keras.layers.Conv1D(128, 5, activation='relu'),\n",
        "#tf.keras.layers.MaxPooling1D(5),\n",
        "tf.keras.layers.Bidirectional(LSTM(units = 100,return_sequences=True,dropout = 0.2)),\n",
        "tf.keras.layers.Flatten(),\n",
        "tf.keras.layers.Dense(1, activation='softmax')])\n",
        "\n",
        "model.summary()\n"
      ],
      "metadata": {
        "id": "SC2puclLmXfs",
        "execution": {
          "iopub.status.busy": "2023-12-04T01:40:13.007797Z",
          "iopub.status.idle": "2023-12-04T01:40:13.008144Z",
          "shell.execute_reply.started": "2023-12-04T01:40:13.007963Z",
          "shell.execute_reply": "2023-12-04T01:40:13.007978Z"
        },
        "trusted": true
      },
      "execution_count": null,
      "outputs": []
    },
    {
      "cell_type": "code",
      "source": [
        "model.compile(optimizer=keras.optimizers.Adam(learning_rate=0.00001),\n",
        "    loss='binary_crossentropy',\n",
        "    metrics=['accuracy'])\n",
        "\n",
        "history = model.fit(train_pad_sequences,\n",
        "    y_train,\n",
        "    epochs=15,\n",
        "    batch_size = 10,\n",
        "    #validation_split = 0.2,\n",
        "    verbose =1,\n",
        "    callbacks = callback_list,\n",
        "    validation_data=(validation_pad_sequences, X_data_with_label))\n",
        "    #class_weight = weight)  # as here weight is not using"
      ],
      "metadata": {
        "id": "awvr9y2wmYn8",
        "execution": {
          "iopub.status.busy": "2023-12-04T01:40:13.009268Z",
          "iopub.status.idle": "2023-12-04T01:40:13.009607Z",
          "shell.execute_reply.started": "2023-12-04T01:40:13.009448Z",
          "shell.execute_reply": "2023-12-04T01:40:13.009463Z"
        },
        "trusted": true
      },
      "execution_count": null,
      "outputs": []
    },
    {
      "cell_type": "code",
      "source": [
        "# Load the saved model\n",
        "model = load_model(filepath)\n",
        "# prediction\n",
        "y_pred = np.argmax(model.predict(validation_pad_sequences), axis=-1)\n",
        "\n",
        "print(\"F1-Score:\",f1_score(X_data_with_label,y_pred,average=None)*100)\n",
        "print(\"Accuracy:\",accuracy_score(X_data_with_label,y_pred)*100)"
      ],
      "metadata": {
        "id": "IDLyEPFfmb3G",
        "execution": {
          "iopub.status.busy": "2023-12-04T01:40:13.010770Z",
          "iopub.status.idle": "2023-12-04T01:40:13.011108Z",
          "shell.execute_reply.started": "2023-12-04T01:40:13.010939Z",
          "shell.execute_reply": "2023-12-04T01:40:13.010954Z"
        },
        "trusted": true
      },
      "execution_count": null,
      "outputs": []
    },
    {
      "cell_type": "code",
      "source": [
        "from sklearn.metrics import classification_report\n",
        "\n",
        "#Show precision and recall per genre\n",
        "report = classification_report(X_data_with_label, y_pred)\n",
        "\n",
        "#print(f\"Accuracy: {accuracy:.4f}\")\n",
        "print(\"Classification Report:\")\n",
        "print(report)"
      ],
      "metadata": {
        "id": "dbeEq8QdmsAU",
        "execution": {
          "iopub.status.busy": "2023-12-04T01:40:13.012298Z",
          "iopub.status.idle": "2023-12-04T01:40:13.012659Z",
          "shell.execute_reply.started": "2023-12-04T01:40:13.012499Z",
          "shell.execute_reply": "2023-12-04T01:40:13.012515Z"
        },
        "trusted": true
      },
      "execution_count": null,
      "outputs": []
    },
    {
      "cell_type": "markdown",
      "source": [
        "## Test Set Prediction"
      ],
      "metadata": {
        "id": "-waCpZtWm3Ty"
      }
    },
    {
      "cell_type": "code",
      "source": [
        "test_pred = np.argmax(model.predict(test_pad_sequences), axis=-1).tolist()\n",
        "test_pred"
      ],
      "metadata": {
        "id": "qJ9PkMQWms84",
        "execution": {
          "iopub.status.busy": "2023-12-04T01:40:13.013740Z",
          "iopub.status.idle": "2023-12-04T01:40:13.014045Z",
          "shell.execute_reply.started": "2023-12-04T01:40:13.013891Z",
          "shell.execute_reply": "2023-12-04T01:40:13.013906Z"
        },
        "trusted": true
      },
      "execution_count": null,
      "outputs": []
    },
    {
      "cell_type": "code",
      "source": [
        "test_df['id'] = test_df.index + 1\n",
        "run = pd.DataFrame(test_df['id'])\n",
        "run['text'] = test_df['cleanText']\n",
        "run['label'] = test_pred\n",
        "run['label'] = run['label'].apply(actual_label)\n",
        "run"
      ],
      "metadata": {
        "id": "tCGjbxC3m-5q",
        "execution": {
          "iopub.status.busy": "2023-12-04T01:40:13.015115Z",
          "iopub.status.idle": "2023-12-04T01:40:13.015465Z",
          "shell.execute_reply.started": "2023-12-04T01:40:13.015267Z",
          "shell.execute_reply": "2023-12-04T01:40:13.015281Z"
        },
        "trusted": true
      },
      "execution_count": null,
      "outputs": []
    },
    {
      "cell_type": "code",
      "source": [
        "run.to_csv('/content/drive/MyDrive/Colab Notebooks/NLP Projects/Shared Task 5/tamil_offhate_bilstm.csv',index = False)"
      ],
      "metadata": {
        "id": "jJ6cSfD2nBdr",
        "execution": {
          "iopub.status.busy": "2023-12-04T01:40:13.016522Z",
          "iopub.status.idle": "2023-12-04T01:40:13.016833Z",
          "shell.execute_reply.started": "2023-12-04T01:40:13.016681Z",
          "shell.execute_reply": "2023-12-04T01:40:13.016696Z"
        },
        "trusted": true
      },
      "execution_count": null,
      "outputs": []
    },
    {
      "cell_type": "markdown",
      "source": [
        "# PreTrained Word Embedding(Fasttext)"
      ],
      "metadata": {
        "id": "uZ4nHDWfpgb-"
      }
    },
    {
      "cell_type": "code",
      "source": [
        "from urllib.request import urlopen\n",
        "import gzip\n",
        "\n",
        "# get the vectors\n",
        "file = gzip.open(urlopen('https://dl.fbaipublicfiles.com/fasttext/vectors-crawl/cc.ml.300.vec.gz'))"
      ],
      "metadata": {
        "id": "wTnUfErUpudJ",
        "execution": {
          "iopub.status.busy": "2023-12-04T01:40:13.018079Z",
          "iopub.status.idle": "2023-12-04T01:40:13.018439Z",
          "shell.execute_reply.started": "2023-12-04T01:40:13.018247Z",
          "shell.execute_reply": "2023-12-04T01:40:13.018262Z"
        },
        "trusted": true
      },
      "execution_count": null,
      "outputs": []
    },
    {
      "cell_type": "code",
      "source": [
        "tokenizer = Tokenizer(num_words = 40000,filters='!\"#$%&()*+,-./:;<=>?@[\\\\]^_`{|}~\\t\\n-',\n",
        "                      split=' ', char_level=False, oov_token='<oov>', document_count=0)\n",
        "tokenizer.fit_on_texts(train_df['cleanText'])\n",
        "word_index = tokenizer.word_index\n",
        "vocab_size = len(word_index )+1"
      ],
      "metadata": {
        "id": "imep2bm_p2hb",
        "execution": {
          "iopub.status.busy": "2023-12-04T01:40:13.019699Z",
          "iopub.status.idle": "2023-12-04T01:40:13.020026Z",
          "shell.execute_reply.started": "2023-12-04T01:40:13.019866Z",
          "shell.execute_reply": "2023-12-04T01:40:13.019881Z"
        },
        "trusted": true
      },
      "execution_count": null,
      "outputs": []
    },
    {
      "cell_type": "code",
      "source": [
        "vocab_and_vectors = {}\n",
        "# put words as dict indexes and vectors as words values\n",
        "for line in file:\n",
        "  values = line.split()\n",
        "  word = values [0].decode('utf-8')\n",
        "  vector = np.asarray(values[1:], dtype='float32')\n",
        "  vocab_and_vectors[word] = vector"
      ],
      "metadata": {
        "id": "Y40mejG5p6Gl",
        "execution": {
          "iopub.status.busy": "2023-12-04T01:40:13.021715Z",
          "iopub.status.idle": "2023-12-04T01:40:13.022022Z",
          "shell.execute_reply.started": "2023-12-04T01:40:13.021870Z",
          "shell.execute_reply": "2023-12-04T01:40:13.021885Z"
        },
        "trusted": true
      },
      "execution_count": null,
      "outputs": []
    },
    {
      "cell_type": "code",
      "source": [
        "embedding_matrix = np.zeros((vocab_size, 300))\n",
        "for word, i in word_index.items():\n",
        "  embedding_vector = vocab_and_vectors.get(word)\n",
        "  # words that cannot be found will be set to 0\n",
        "  if embedding_vector is not None:\n",
        "    embedding_matrix[i] = embedding_vector"
      ],
      "metadata": {
        "id": "cFhaNMhtp9jq",
        "execution": {
          "iopub.status.busy": "2023-12-04T01:40:13.022996Z",
          "iopub.status.idle": "2023-12-04T01:40:13.023320Z",
          "shell.execute_reply.started": "2023-12-04T01:40:13.023145Z",
          "shell.execute_reply": "2023-12-04T01:40:13.023159Z"
        },
        "trusted": true
      },
      "execution_count": null,
      "outputs": []
    },
    {
      "cell_type": "code",
      "source": [
        "max_len = 80\n",
        "# Training Sequences\n",
        "train_sequences = tokenizer.texts_to_sequences(X_train)\n",
        "print(len(tokenizer.word_index))\n",
        "train_pad_sequences =  keras.preprocessing.sequence.pad_sequences(train_sequences, value=0.0, padding='post', maxlen= max_len)\n",
        "print(\"Number of Training Sequences :\" ,train_pad_sequences.shape)\n",
        "\n",
        "# Validation Sequences\n",
        "validation_sequences = tokenizer.texts_to_sequences(X_data_with_label)\n",
        "validation_pad_sequences =  keras.preprocessing.sequence.pad_sequences(validation_sequences, value=0.0, padding='post', maxlen= max_len)\n",
        "print(\"Number of Validation Sequences :\" ,validation_pad_sequences.shape)"
      ],
      "metadata": {
        "id": "YNp1n_-vqBem",
        "execution": {
          "iopub.status.busy": "2023-12-04T01:40:13.024377Z",
          "iopub.status.idle": "2023-12-04T01:40:13.024736Z",
          "shell.execute_reply.started": "2023-12-04T01:40:13.024562Z",
          "shell.execute_reply": "2023-12-04T01:40:13.024589Z"
        },
        "trusted": true
      },
      "execution_count": null,
      "outputs": []
    },
    {
      "cell_type": "code",
      "source": [
        "# Test Sequences\n",
        "test_sequences = tokenizer.texts_to_sequences(test_df['cleanText'])\n",
        "test_pad_sequences =  keras.preprocessing.sequence.pad_sequences(test_sequences, value=0.0, padding='post', maxlen= max_len)\n",
        "print(\"Number of Test Sequences :\" ,test_pad_sequences.shape)"
      ],
      "metadata": {
        "id": "mTkWykj5qJEO",
        "execution": {
          "iopub.status.busy": "2023-12-04T01:40:13.025692Z",
          "iopub.status.idle": "2023-12-04T01:40:13.026007Z",
          "shell.execute_reply.started": "2023-12-04T01:40:13.025850Z",
          "shell.execute_reply": "2023-12-04T01:40:13.025864Z"
        },
        "trusted": true
      },
      "execution_count": null,
      "outputs": []
    },
    {
      "cell_type": "code",
      "source": [
        "#from sklearn.utils import class_weight\n",
        "#class_weights = class_weight.compute_class_weight('balanced',np.unique(train_data['enc_label']) ,train_data['enc_label'])\n",
        "\n",
        "#weight = {i : class_weights[i] for i in range(5)}"
      ],
      "metadata": {
        "id": "M5w9OtXmqKA2",
        "execution": {
          "iopub.status.busy": "2023-12-04T01:40:13.027296Z",
          "iopub.status.idle": "2023-12-04T01:40:13.027641Z",
          "shell.execute_reply.started": "2023-12-04T01:40:13.027484Z",
          "shell.execute_reply": "2023-12-04T01:40:13.027500Z"
        },
        "trusted": true
      },
      "execution_count": null,
      "outputs": []
    },
    {
      "cell_type": "code",
      "source": [
        "num_classes = 1\n",
        "\n",
        "accuracy_threshold = 0.99\n",
        "\n",
        "class myCallback(keras.callbacks.Callback):\n",
        "  def on_epoch_end(self, epoch, logs={}):\n",
        "      if(logs.get('accuracy')>accuracy_threshold):\n",
        "        print(\"\\nReached %2.2f%% accuracy so we will stop trianing\" % (accuracy_threshold*100))\n",
        "        self.model.stop_training = True\n",
        "\n",
        "acc_callback = myCallback()\n",
        "# Saved the Best Model\n",
        "filepath = \"/content/drive/MyDrive/Colab Notebooks/NLP Projects/Shared Task 5/prt_tamil_off_BiLSTMModel.h5\"\n",
        "checkpoint = keras.callbacks.ModelCheckpoint(filepath, monitor='val_accuracy', verbose=2, save_best_only=True,\n",
        "                                             save_weights_only=False, mode='max')\n",
        "# callback list\n",
        "callback_list = [acc_callback, checkpoint]\n",
        "model = tf.keras.models.Sequential([\n",
        "tf.keras.layers.Embedding(vocab_size, 300,weights=[embedding_matrix],trainable=False, input_length = max_len),\n",
        "tf.keras.layers.Conv1D(128, 5, activation='relu'),\n",
        "tf.keras.layers.MaxPooling1D(5),\n",
        "tf.keras.layers.Bidirectional(LSTM(units = 128,return_sequences=True,dropout = 0.2)),\n",
        "tf.keras.layers.Flatten(),\n",
        "tf.keras.layers.Dense(5, activation='softmax')])\n",
        "\n",
        "model.summary()\n"
      ],
      "metadata": {
        "id": "up6_VlMGqUEw",
        "execution": {
          "iopub.status.busy": "2023-12-04T01:40:13.028947Z",
          "iopub.status.idle": "2023-12-04T01:40:13.029252Z",
          "shell.execute_reply.started": "2023-12-04T01:40:13.029101Z",
          "shell.execute_reply": "2023-12-04T01:40:13.029116Z"
        },
        "trusted": true
      },
      "execution_count": null,
      "outputs": []
    },
    {
      "cell_type": "code",
      "source": [
        "model.compile(optimizer=keras.optimizers.Adam(learning_rate=0.001),\n",
        "    loss='sparse_categorical_crossentropy',\n",
        "    metrics=['accuracy'])\n",
        "\n",
        "history = model.fit(train_pad_sequences,\n",
        "    train_df['enc_label'],\n",
        "    epochs=200,\n",
        "    batch_size = 32,\n",
        "    validation_split = 0.2,\n",
        "    verbose =1,\n",
        "    callbacks = callback_list)\n",
        "    #class_weight = weight)"
      ],
      "metadata": {
        "id": "LXuvA71qqYvo",
        "execution": {
          "iopub.status.busy": "2023-12-04T01:40:13.030508Z",
          "iopub.status.idle": "2023-12-04T01:40:13.030982Z",
          "shell.execute_reply.started": "2023-12-04T01:40:13.030745Z",
          "shell.execute_reply": "2023-12-04T01:40:13.030767Z"
        },
        "trusted": true
      },
      "execution_count": null,
      "outputs": []
    },
    {
      "cell_type": "code",
      "source": [
        "from sklearn.metrics import classification_report\n",
        "# Load the saved model\n",
        "model = load_model(f'/content/drive/MyDrive/Colab Notebooks/NLP Projects/Shared Task 5/prt_tamil_offhate_BiLSTMModel.h5')\n",
        "# prediction\n",
        "y_pred = np.argmax(model.predict(validation_pad_sequences), axis=-1)\n",
        "\n",
        "#Show precision and recall per genre\n",
        "report = classification_report(X_data_with_label, y_pred)\n",
        "\n",
        "#print(f\"Accuracy: {accuracy:.4f}\")\n",
        "print(\"Classification Report:\")\n",
        "print(report)\n",
        "#print_metrices(X_data_with_label,y_pred)\n"
      ],
      "metadata": {
        "id": "1CIDbNVFqcjK",
        "execution": {
          "iopub.status.busy": "2023-12-04T01:40:13.032481Z",
          "iopub.status.idle": "2023-12-04T01:40:13.032813Z",
          "shell.execute_reply.started": "2023-12-04T01:40:13.032651Z",
          "shell.execute_reply": "2023-12-04T01:40:13.032667Z"
        },
        "trusted": true
      },
      "execution_count": null,
      "outputs": []
    },
    {
      "cell_type": "code",
      "source": [
        "test_pred = np.argmax(model.predict(test_pad_sequences), axis=-1).tolist()\n"
      ],
      "metadata": {
        "id": "hl5Qm6coqkDB",
        "execution": {
          "iopub.status.busy": "2023-12-04T01:40:13.033781Z",
          "iopub.status.idle": "2023-12-04T01:40:13.034112Z",
          "shell.execute_reply.started": "2023-12-04T01:40:13.033945Z",
          "shell.execute_reply": "2023-12-04T01:40:13.033960Z"
        },
        "trusted": true
      },
      "execution_count": null,
      "outputs": []
    },
    {
      "cell_type": "code",
      "source": [
        "test_df['id'] = test_df.index + 1\n",
        "run = pd.DataFrame(test_df['id'])\n",
        "run['text'] = test_df['cleanText']\n",
        "run['label'] = test_pred\n",
        "run['label'] = run['label'].apply(actual_label)\n",
        "run\n"
      ],
      "metadata": {
        "id": "Lbn6NBe0qn9P",
        "execution": {
          "iopub.status.busy": "2023-12-04T01:39:55.507961Z",
          "iopub.status.idle": "2023-12-04T01:39:55.508309Z",
          "shell.execute_reply.started": "2023-12-04T01:39:55.508124Z",
          "shell.execute_reply": "2023-12-04T01:39:55.508138Z"
        },
        "trusted": true
      },
      "execution_count": null,
      "outputs": []
    },
    {
      "cell_type": "code",
      "source": [
        "run.to_csv('/content/drive/MyDrive/Colab Notebooks/NLP Projects/Shared Task 5/tamil_offhate_cnn+bilstm+fasttext.csv',index = False)"
      ],
      "metadata": {
        "id": "A6y96Z9LqrMy",
        "execution": {
          "iopub.status.busy": "2023-12-04T01:39:55.509228Z",
          "iopub.status.idle": "2023-12-04T01:39:55.509582Z",
          "shell.execute_reply.started": "2023-12-04T01:39:55.509414Z",
          "shell.execute_reply": "2023-12-04T01:39:55.509430Z"
        },
        "trusted": true
      },
      "execution_count": null,
      "outputs": []
    },
    {
      "cell_type": "code",
      "source": [
        "train_df['Label'].value_counts()"
      ],
      "metadata": {
        "execution": {
          "iopub.status.busy": "2023-12-04T01:39:55.231894Z",
          "iopub.status.idle": "2023-12-04T01:39:55.232247Z",
          "shell.execute_reply.started": "2023-12-04T01:39:55.232082Z",
          "shell.execute_reply": "2023-12-04T01:39:55.232099Z"
        },
        "trusted": true,
        "id": "S5keNKrY54AH"
      },
      "execution_count": null,
      "outputs": []
    }
  ]
}